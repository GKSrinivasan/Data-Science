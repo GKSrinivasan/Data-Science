{
 "cells": [
  {
   "cell_type": "code",
   "execution_count": 8,
   "metadata": {},
   "outputs": [],
   "source": [
    "import pandas as pd\n",
    "from sklearn.externals import joblib\n",
    "\n",
    "dataf = pd.read_csv(\"abc.csv\")"
   ]
  },
  {
   "cell_type": "code",
   "execution_count": 38,
   "metadata": {},
   "outputs": [],
   "source": [
    "reviews = dataf.review.tolist()"
   ]
  },
  {
   "cell_type": "code",
   "execution_count": 37,
   "metadata": {},
   "outputs": [
    {
     "data": {
      "text/plain": [
       "['My Battery is not working',\n",
       " 'The product is disconnecting here and then',\n",
       " 'The connectivity with wifi is not reliable',\n",
       " 'The key is broken in my keyboard',\n",
       " 'The mouse scroll is creating sound']"
      ]
     },
     "execution_count": 37,
     "metadata": {},
     "output_type": "execute_result"
    }
   ],
   "source": [
    "dataf.review.tolist()"
   ]
  },
  {
   "cell_type": "code",
   "execution_count": 39,
   "metadata": {},
   "outputs": [
    {
     "name": "stdout",
     "output_type": "stream",
     "text": [
      "My Battery is not working\n",
      "The product is disconnecting here and then\n",
      "The connectivity with wifi is not reliable\n",
      "The key is broken in my keyboard\n",
      "The mouse scroll is creating sound\n"
     ]
    }
   ],
   "source": [
    "for i in reviews:\n",
    "    print(i)"
   ]
  },
  {
   "cell_type": "code",
   "execution_count": 49,
   "metadata": {},
   "outputs": [],
   "source": [
    "IssueMap={0: \"Other issue\", 1:\"Other issue\",2: \"Camera Issue\", 3: \"Other Issue\", 4: \"Other Issue\", 5: \"OS / Software Issue\", 6: \"Other issue\", 7: \"Other issue\", 8: \"Other issue\", \n",
    "\t    9: \"Other Issue\", 10: \"Physical Damage/Broken Issue\", 11: 15,12: 10, 13: \"Broken Issue\", 14: 18, 15: 18, 16: \"Payment Issue\", \n",
    "\t    17: \"Button Issue\", 18: \"Battery Issue\", 19: 21, 20: 8,21: \"Audio Issue\", 22: \"Connectivity Issue\", \n",
    "\t    23: \"Cursor/Tracking issue\", 24: \"Video Issue\", 25: 24, 26: \"Modify subscription/ Payment issue\", \n",
    "\t    27: \"Wifi Internet Connectivity issue\", 28: \"Password/Reset issue\", 29: \"other\"\n",
    "\t    }\n",
    "\n",
    "def load_model():\n",
    "    nmf = joblib.load('nmfModel.pkl')\n",
    "    vectorizer = joblib.load('vectorizer.bin')\n",
    "\n",
    "def getTopic(fullreview):\n",
    "    load_model()\n",
    "    result = []\n",
    "    for review in fullreview:\n",
    "\t    msg = []\n",
    "\t    x = nmf.transform(vectorizer.transform([review]))[0]\n",
    "\t    #print(x, x.sum())\n",
    "\t    my_dict = {}\n",
    "        \n",
    "\t    for index, item in enumerate(x):\n",
    "\t        my_dict[index] = x[index]\n",
    "            \n",
    "\t    a1_sorted_keys = sorted(my_dict, key=my_dict.get, reverse=True)\n",
    "\t    i = 1\n",
    "\t    for r in a1_sorted_keys:\n",
    "\t        if(i<3 and my_dict[r]>0.0):\n",
    "\t            #print(r, my_dict[r])\n",
    "\t            str = (IssueMap[r],round(my_dict[r]*100,2),\"%\")\n",
    "\t            msg.append(str)\n",
    "\t            i=i+1\n",
    "\t    result.append(msg)\n",
    "    return result\n",
    "    "
   ]
  },
  {
   "cell_type": "code",
   "execution_count": 50,
   "metadata": {},
   "outputs": [],
   "source": [
    "result = getTopic(reviews)"
   ]
  },
  {
   "cell_type": "code",
   "execution_count": 51,
   "metadata": {},
   "outputs": [],
   "source": [
    "se = pd.Series(result)"
   ]
  },
  {
   "cell_type": "code",
   "execution_count": 52,
   "metadata": {},
   "outputs": [
    {
     "data": {
      "text/plain": [
       "0    [(Battery Issue, 21.08, %), (Button Issue, 3.4...\n",
       "1    [(Other issue, 0.76, %), (Button Issue, 0.58, %)]\n",
       "2    [(Wifi Internet Connectivity issue, 12.89, %),...\n",
       "3    [(Physical Damage/Broken Issue, 3.08, %), (Bro...\n",
       "4    [(Password/Reset issue, 0.71, %), (Other issue...\n",
       "dtype: object"
      ]
     },
     "execution_count": 52,
     "metadata": {},
     "output_type": "execute_result"
    }
   ],
   "source": [
    "se"
   ]
  },
  {
   "cell_type": "code",
   "execution_count": 53,
   "metadata": {},
   "outputs": [],
   "source": [
    "dataf['result'] = se.values"
   ]
  },
  {
   "cell_type": "code",
   "execution_count": 54,
   "metadata": {},
   "outputs": [
    {
     "data": {
      "text/html": [
       "<div>\n",
       "<style scoped>\n",
       "    .dataframe tbody tr th:only-of-type {\n",
       "        vertical-align: middle;\n",
       "    }\n",
       "\n",
       "    .dataframe tbody tr th {\n",
       "        vertical-align: top;\n",
       "    }\n",
       "\n",
       "    .dataframe thead th {\n",
       "        text-align: right;\n",
       "    }\n",
       "</style>\n",
       "<table border=\"1\" class=\"dataframe\">\n",
       "  <thead>\n",
       "    <tr style=\"text-align: right;\">\n",
       "      <th></th>\n",
       "      <th>review</th>\n",
       "      <th>result</th>\n",
       "    </tr>\n",
       "  </thead>\n",
       "  <tbody>\n",
       "    <tr>\n",
       "      <th>0</th>\n",
       "      <td>My Battery is not working</td>\n",
       "      <td>[(Battery Issue, 21.08, %), (Button Issue, 3.4...</td>\n",
       "    </tr>\n",
       "    <tr>\n",
       "      <th>1</th>\n",
       "      <td>The product is disconnecting here and then</td>\n",
       "      <td>[(Other issue, 0.76, %), (Button Issue, 0.58, %)]</td>\n",
       "    </tr>\n",
       "    <tr>\n",
       "      <th>2</th>\n",
       "      <td>The connectivity with wifi is not reliable</td>\n",
       "      <td>[(Wifi Internet Connectivity issue, 12.89, %),...</td>\n",
       "    </tr>\n",
       "    <tr>\n",
       "      <th>3</th>\n",
       "      <td>The key is broken in my keyboard</td>\n",
       "      <td>[(Physical Damage/Broken Issue, 3.08, %), (Bro...</td>\n",
       "    </tr>\n",
       "    <tr>\n",
       "      <th>4</th>\n",
       "      <td>The mouse scroll is creating sound</td>\n",
       "      <td>[(Password/Reset issue, 0.71, %), (Other issue...</td>\n",
       "    </tr>\n",
       "  </tbody>\n",
       "</table>\n",
       "</div>"
      ],
      "text/plain": [
       "                                       review  \\\n",
       "0                   My Battery is not working   \n",
       "1  The product is disconnecting here and then   \n",
       "2  The connectivity with wifi is not reliable   \n",
       "3            The key is broken in my keyboard   \n",
       "4          The mouse scroll is creating sound   \n",
       "\n",
       "                                              result  \n",
       "0  [(Battery Issue, 21.08, %), (Button Issue, 3.4...  \n",
       "1  [(Other issue, 0.76, %), (Button Issue, 0.58, %)]  \n",
       "2  [(Wifi Internet Connectivity issue, 12.89, %),...  \n",
       "3  [(Physical Damage/Broken Issue, 3.08, %), (Bro...  \n",
       "4  [(Password/Reset issue, 0.71, %), (Other issue...  "
      ]
     },
     "execution_count": 54,
     "metadata": {},
     "output_type": "execute_result"
    }
   ],
   "source": [
    "dataf.head()"
   ]
  },
  {
   "cell_type": "code",
   "execution_count": null,
   "metadata": {},
   "outputs": [],
   "source": []
  },
  {
   "cell_type": "code",
   "execution_count": null,
   "metadata": {},
   "outputs": [],
   "source": []
  }
 ],
 "metadata": {
  "kernelspec": {
   "display_name": "Python 3",
   "language": "python",
   "name": "python3"
  },
  "language_info": {
   "codemirror_mode": {
    "name": "ipython",
    "version": 3
   },
   "file_extension": ".py",
   "mimetype": "text/x-python",
   "name": "python",
   "nbconvert_exporter": "python",
   "pygments_lexer": "ipython3",
   "version": "3.6.4"
  }
 },
 "nbformat": 4,
 "nbformat_minor": 2
}
