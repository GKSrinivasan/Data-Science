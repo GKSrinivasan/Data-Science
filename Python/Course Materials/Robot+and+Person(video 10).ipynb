{
 "cells": [
  {
   "cell_type": "code",
   "execution_count": 1,
   "metadata": {
    "collapsed": true
   },
   "outputs": [],
   "source": [
    "class Robot:\n",
    "    def __init__(self, n, c, w):\n",
    "        self.name = n\n",
    "        self.color = c\n",
    "        self.weight = w\n",
    "    \n",
    "    def introduce_self(self):\n",
    "        print(\"My name is \" + self.name)"
   ]
  },
  {
   "cell_type": "code",
   "execution_count": 2,
   "metadata": {
    "collapsed": true
   },
   "outputs": [],
   "source": [
    "r1 = Robot(\"Tom\", \"red\", 30)\n",
    "r2 = Robot(\"Jerry\", \"blue\", 40)"
   ]
  },
  {
   "cell_type": "code",
   "execution_count": 3,
   "metadata": {
    "collapsed": true
   },
   "outputs": [],
   "source": [
    "class Person:\n",
    "    def __init__(self, n, p, i):\n",
    "        self.name = n\n",
    "        self.personality = p\n",
    "        self.is_sitting = i\n",
    "    \n",
    "    def sit_down(self):\n",
    "        self.is_sitting = True\n",
    "    \n",
    "    def stand_up(self):\n",
    "        self.is_sitting = False"
   ]
  },
  {
   "cell_type": "code",
   "execution_count": 4,
   "metadata": {
    "collapsed": true
   },
   "outputs": [],
   "source": [
    "p1 = Person(\"Alice\", \"aggressive\", False)\n",
    "p2 = Person(\"Becky\", \"talkative\", True)"
   ]
  },
  {
   "cell_type": "code",
   "execution_count": 5,
   "metadata": {
    "collapsed": true
   },
   "outputs": [],
   "source": [
    "# p1 owns r2\n",
    "p1.robot_owned = r2\n",
    "p2.robot_owned = r1"
   ]
  },
  {
   "cell_type": "code",
   "execution_count": 6,
   "metadata": {},
   "outputs": [
    {
     "name": "stdout",
     "output_type": "stream",
     "text": [
      "My name is Jerry\n"
     ]
    }
   ],
   "source": [
    "p1.robot_owned.introduce_self()"
   ]
  },
  {
   "cell_type": "code",
   "execution_count": null,
   "metadata": {
    "collapsed": true
   },
   "outputs": [],
   "source": []
  }
 ],
 "metadata": {
  "kernelspec": {
   "display_name": "Python 3",
   "language": "python",
   "name": "python3"
  },
  "language_info": {
   "codemirror_mode": {
    "name": "ipython",
    "version": 3
   },
   "file_extension": ".py",
   "mimetype": "text/x-python",
   "name": "python",
   "nbconvert_exporter": "python",
   "pygments_lexer": "ipython3",
   "version": "3.6.3"
  }
 },
 "nbformat": 4,
 "nbformat_minor": 2
}
