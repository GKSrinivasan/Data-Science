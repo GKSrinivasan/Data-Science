{
 "cells": [
  {
   "cell_type": "code",
   "execution_count": 11,
   "metadata": {},
   "outputs": [
    {
     "data": {
      "text/plain": [
       "[800, 2000, 50000]"
      ]
     },
     "execution_count": 11,
     "metadata": {},
     "output_type": "execute_result"
    }
   ],
   "source": [
    "#Write a function that returns the n distinct largest numbers from an array of size m\n",
    "#Input : n = 3, array = [1,4,8,10,35,2000, 50000,3,7,2000, 800]\n",
    "#Output = 800,2000, 5000\n",
    "n = 3\n",
    "array = [1,4,8,10,35,2000, 50000,3,7,2000, 800]\n",
    "distinctArray = list(set(array.copy()))\n",
    "distinctArray.sort()\n",
    "distinctArray[len(distinctArray)-n:len(distinctArray)]"
   ]
  },
  {
   "cell_type": "code",
   "execution_count": 23,
   "metadata": {},
   "outputs": [
    {
     "name": "stdout",
     "output_type": "stream",
     "text": [
      "[1, 2, 3]\n",
      "[1, 2, 3]\n",
      "['Arun', 'Srini', 'Uma']\n",
      "['Arun', 'Srini', 'Uma']\n",
      "True\n",
      "True\n"
     ]
    }
   ],
   "source": [
    "#Write a program (function!) that takes a list and returns a new list by removing duplicates from it. The same function should \n",
    "#work for both Int array and String array as well.\n",
    "#Extras: Write two different functions to do this - one using a loop and constructing a list, and another using sets.\n",
    "#Write a unit test case of this\n",
    "intArray=[1,2,3,1,2,3]\n",
    "stringArray=[\"Uma\",\"Arun\",\"Srini\",\"Arun\"]\n",
    "def removeDuplicateUsingSet(x):\n",
    "    b=list(set(x))\n",
    "    b.sort()\n",
    "    return b\n",
    "def removeDuplicateUsingLoop(x):\n",
    "    tempArray=[]\n",
    "    [tempArray.append(i) for i in x if i not in tempArray]\n",
    "    tempArray.sort()\n",
    "    return tempArray\n",
    "print(removeDuplicateUsingSet(intArray))\n",
    "print(removeDuplicateUsingLoop(intArray))\n",
    "print(removeDuplicateUsingSet(stringArray))\n",
    "print(removeDuplicateUsingLoop(stringArray))\n",
    "\n",
    "def intUnitTest(intArray):\n",
    "    expectedArray = [1,2,3]\n",
    "    setOutputArray = removeDuplicateUsingSet(intArray)\n",
    "    loopOutputArray = removeDuplicateUsingLoop(intArray)\n",
    "    return \"True\" if expectedArray == setOutputArray and expectedArray == loopOutputArray else \"False\"\n",
    "\n",
    "def stringUnitTest(stringArray):\n",
    "    expectedArray = [\"Arun\",\"Srini\",\"Uma\"]\n",
    "    setOutputArray = removeDuplicateUsingSet(stringArray)\n",
    "    loopOutputArray = removeDuplicateUsingLoop(stringArray)\n",
    "    return \"True\" if expectedArray == setOutputArray and expectedArray == loopOutputArray else \"False\"\n",
    "\n",
    "print(intUnitTest(intArray))\n",
    "print(stringUnitTest(stringArray))"
   ]
  },
  {
   "cell_type": "code",
   "execution_count": 28,
   "metadata": {},
   "outputs": [
    {
     "data": {
      "text/plain": [
       "{1, 2, 3, 5, 8, 13}"
      ]
     },
     "execution_count": 28,
     "metadata": {},
     "output_type": "execute_result"
    }
   ],
   "source": [
    "#Take two lists, say for example these two:a = [1, 1, 2, 3, 5, 8, 13, 21, 34, 55, 89]\n",
    "#b = [1, 2, 3, 4, 5, 6, 7, 8, 9, 10, 11, 12, 13] and write a function that returns a list that contains only the elements \n",
    "#that are common between the lists (without duplicates). Make sure your program works on two lists of different sizes.\n",
    "a = [1, 1, 2, 3, 5, 8, 13, 21, 34, 55, 89]\n",
    "b = [1, 2, 3, 4, 5, 6, 7, 8, 9, 10, 11, 12, 13]\n",
    "set(a).intersection(set(b))"
   ]
  },
  {
   "cell_type": "code",
   "execution_count": 38,
   "metadata": {},
   "outputs": [
    {
     "data": {
      "text/plain": [
       "['Mango', 'Banana', 'Grapes']"
      ]
     },
     "execution_count": 38,
     "metadata": {},
     "output_type": "execute_result"
    }
   ],
   "source": [
    "#Using Lambda function, filter all the elements in an array that start with Uppercase and ends with lower case.\n",
    "#Input : a = [“Mango”, “OrangE”, “applE”, “Banana”, “liChy”, “Grapes”]\n",
    "#Output = [“Mango”, “Banana”, “Grapes”]\n",
    "Input = [\"Mango\", \"OrangE\", \"applE\", \"Banana\", \"liChy\", \"Grapes\"]\n",
    "list(filter(lambda x : x[0].isupper() and x[len(x)-1].islower(),Input))"
   ]
  },
  {
   "cell_type": "code",
   "execution_count": 42,
   "metadata": {},
   "outputs": [
    {
     "name": "stdout",
     "output_type": "stream",
     "text": [
      "120\n"
     ]
    }
   ],
   "source": [
    "#Write a function which can compute the factorial of a given numbers and returns it\n",
    "from functools import reduce\n",
    "reduce(lambda x,y:x*y,range(1,6))"
   ]
  },
  {
   "cell_type": "code",
   "execution_count": 48,
   "metadata": {},
   "outputs": [
    {
     "name": "stdout",
     "output_type": "stream",
     "text": [
      "Enter your stringsrini\n",
      "SRINI\n"
     ]
    }
   ],
   "source": [
    "#Define a class which has at least two methods: getString: to get a string from console input\n",
    "#printString: to print the string in upper case.Also please include simple test function to test the class methods.\n",
    "class string:\n",
    "    def getString(self):\n",
    "        self.GetString = input(\"Enter your string\")\n",
    "    def printString(self):\n",
    "        print(self.GetString.upper())\n",
    "strObj=string()\n",
    "strObj.getString()\n",
    "strObj.printString()"
   ]
  },
  {
   "cell_type": "code",
   "execution_count": 64,
   "metadata": {},
   "outputs": [
    {
     "name": "stdout",
     "output_type": "stream",
     "text": [
      "Enter Comma seperated stringwithout,hello,bag,world\n",
      "bag,hello,without,world\n"
     ]
    },
    {
     "data": {
      "text/plain": [
       "[None, None, None, None]"
      ]
     },
     "execution_count": 64,
     "metadata": {},
     "output_type": "execute_result"
    }
   ],
   "source": [
    "#Write a program that accepts a comma separated sequence of words as input and prints the words in a comma-separated sequence \n",
    "#after sorting them alphabetically.\n",
    "#Input : without,hello,bag,world\n",
    "#output should be: bag,hello,without,world\n",
    "inputString=input(\"Enter Comma seperated string\")\n",
    "stringArray = inputString.split(\",\")\n",
    "stringArray.sort()\n",
    "[print(j,end=\",\") if i<len(stringArray)-1 else print(j) for i,j in enumerate(stringArray)]"
   ]
  },
  {
   "cell_type": "code",
   "execution_count": 65,
   "metadata": {},
   "outputs": [
    {
     "name": "stdout",
     "output_type": "stream",
     "text": [
      "2000,2002,2004,2006,2008,2020,2022,2024,2026,2028,2040,2042,2044,2046,2048,2060,2062,2064,2066,2068,2080,2082,2084,2086,2088,2200,2202,2204,2206,2208,2220,2222,2224,2226,2228,2240,2242,2244,2246,2248,2260,2262,2264,2266,2268,2280,2282,2284,2286,2288,2400,2402,2404,2406,2408,2420,2422,2424,2426,2428,2440,2442,2444,2446,2448,2460,2462,2464,2466,2468,2480,2482,2484,2486,2488,2600,2602,2604,2606,2608,2620,2622,2624,2626,2628,2640,2642,2644,2646,2648,2660,2662,2664,2666,2668,2680,2682,2684,2686,2688,2800,2802,2804,2806,2808,2820,2822,2824,2826,2828,2840,2842,2844,2846,2848,2860,2862,2864,2866,2868,2880,2882,2884,2886,2888,"
     ]
    }
   ],
   "source": [
    "#Write a program, which will find all such numbers between 1000 and 3000 (both included) such that each digit of the number \n",
    "#is an even number.The numbers obtained should be printed in a comma-separated sequence on a single line.\n",
    "for i in range(1000,3001):\n",
    "    string=str(i)\n",
    "    count=0\n",
    "    for j in string:\n",
    "        if(int(j)%2==0):\n",
    "            count+=1\n",
    "    if count == len(string):\n",
    "        print(string,end=\",\")"
   ]
  },
  {
   "cell_type": "code",
   "execution_count": 10,
   "metadata": {},
   "outputs": [
    {
     "name": "stdout",
     "output_type": "stream",
     "text": [
      "Enter a sequence of comma-separated numbers1,2,3,4,5,6,7,8,9\n",
      "1,9,25,49,81,"
     ]
    },
    {
     "data": {
      "text/plain": [
       "[None, None, None, None, None]"
      ]
     },
     "execution_count": 10,
     "metadata": {},
     "output_type": "execute_result"
    }
   ],
   "source": [
    "#Use a list comprehension to square each odd number in a list. The list is input by a sequence of comma-separated numbers.\n",
    "#Suppose the following input is supplied to the program:1,2,3,4,5,6,7,8,9\n",
    "#Then, the output should be:1,3,5,7,9\n",
    "inp=input(\"Enter a sequence of comma-separated numbers\")\n",
    "inpArray=inp.split(\",\")\n",
    "[print(int(i)*int(i),end=\",\") for i in inpArray if int(i)%2!=0]"
   ]
  },
  {
   "cell_type": "code",
   "execution_count": 5,
   "metadata": {},
   "outputs": [
    {
     "data": {
      "text/plain": [
       "[2, 4, 6, 8, 10, 12]"
      ]
     },
     "execution_count": 5,
     "metadata": {},
     "output_type": "execute_result"
    }
   ],
   "source": [
    "#Implement Map functions using your own logic:twice_mapper = def mapper(x):return x*2\n",
    "#Input = [1,2,3,4,5,6] Output = [2,4,6,10,12]\n",
    "#def map(twice_mapper, input): Write the logic to apply the mapper in to this input\n",
    "inputArray=[1,2,3,4,5,6]\n",
    "list(map(lambda x:x*2,inputArray))"
   ]
  },
  {
   "cell_type": "code",
   "execution_count": null,
   "metadata": {},
   "outputs": [],
   "source": []
  }
 ],
 "metadata": {
  "kernelspec": {
   "display_name": "Python 3",
   "language": "python",
   "name": "python3"
  },
  "language_info": {
   "codemirror_mode": {
    "name": "ipython",
    "version": 3
   },
   "file_extension": ".py",
   "mimetype": "text/x-python",
   "name": "python",
   "nbconvert_exporter": "python",
   "pygments_lexer": "ipython3",
   "version": "3.6.5"
  }
 },
 "nbformat": 4,
 "nbformat_minor": 2
}
