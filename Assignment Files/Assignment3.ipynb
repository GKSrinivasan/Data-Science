{
 "cells": [
  {
   "cell_type": "code",
   "execution_count": 16,
   "metadata": {},
   "outputs": [
    {
     "name": "stdout",
     "output_type": "stream",
     "text": [
      "['Apple', 'ORANGE']\n",
      "['Apple', 'ORANGE']\n",
      "['Apple', 'ORANGE']\n",
      "['Apple', 'ORANGE']\n",
      "['Apple', 'ORANGE']\n",
      "['Apple', 'ORANGE']\n",
      "['Apple']\n",
      "['Apple']\n"
     ]
    }
   ],
   "source": [
    "input=[\"Apple\",\"mango\",\"ORANGE\",\"gRapes\"]\n",
    "\n",
    "filterOutput=list(filter(lambda x:x[0]==(x[0]).upper(),input))\n",
    "listCompOutput=[x for x in input if x[0]==(x[0]).upper()]\n",
    "print(filterOutput)\n",
    "print(listCompOutput)\n",
    "\n",
    "filterOutput=list(filter(lambda x:x[0].isupper(),input))\n",
    "listCompOutput=[x for x in input if x[0].isupper()]\n",
    "print(filterOutput)\n",
    "print(listCompOutput)\n",
    "\n",
    "filterOutput=list(filter(lambda x:x[0].istitle(),input))\n",
    "listCompOutput=[x for x in input if x[0].istitle()]\n",
    "print(filterOutput)\n",
    "print(listCompOutput)\n",
    "\n",
    "filterOutput=list(filter(lambda x:x==x.capitalize(),input))\n",
    "listCompOutput=[x for x in input if x==x.capitalize()]\n",
    "print(filterOutput)\n",
    "print(listCompOutput)"
   ]
  },
  {
   "cell_type": "code",
   "execution_count": null,
   "metadata": {},
   "outputs": [],
   "source": []
  }
 ],
 "metadata": {
  "kernelspec": {
   "display_name": "Python 3",
   "language": "python",
   "name": "python3"
  },
  "language_info": {
   "codemirror_mode": {
    "name": "ipython",
    "version": 3
   },
   "file_extension": ".py",
   "mimetype": "text/x-python",
   "name": "python",
   "nbconvert_exporter": "python",
   "pygments_lexer": "ipython3",
   "version": "3.6.5"
  }
 },
 "nbformat": 4,
 "nbformat_minor": 2
}
