{
 "cells": [
  {
   "cell_type": "code",
   "execution_count": 1,
   "metadata": {},
   "outputs": [
    {
     "name": "stdout",
     "output_type": "stream",
     "text": [
      "[5, 2, 10, 6, 2, 7, 1]\n"
     ]
    }
   ],
   "source": [
    "a=[1,7,2,6,10,2,5]\n",
    "print(a[::-1])"
   ]
  },
  {
   "cell_type": "code",
   "execution_count": 4,
   "metadata": {},
   "outputs": [
    {
     "name": "stdout",
     "output_type": "stream",
     "text": [
      "33\n"
     ]
    }
   ],
   "source": [
    "a=[1,7,2,6,10,2,5]\n",
    "b=0\n",
    "for i in range(len(a)):\n",
    "    b=b+a[i]\n",
    "print(b)"
   ]
  },
  {
   "cell_type": "code",
   "execution_count": 1,
   "metadata": {},
   "outputs": [
    {
     "name": "stdout",
     "output_type": "stream",
     "text": [
      "5\n"
     ]
    }
   ],
   "source": [
    "a=[1,7,2,6,10,2,5]\n",
    "a.sort()\n",
    "b=len(a)\n",
    "if(b%2==0):\n",
    "    c=round((b/2))\n",
    "    print(round((a[c]+a[c+1])/2))\n",
    "else:\n",
    "    c=round((b/2))-1\n",
    "    print(a[c])"
   ]
  },
  {
   "cell_type": "code",
   "execution_count": 22,
   "metadata": {},
   "outputs": [
    {
     "name": "stdout",
     "output_type": "stream",
     "text": [
      "2\n"
     ]
    }
   ],
   "source": [
    "a=[1,7,2,6,10,2,5]\n",
    "for i in range(len(a)):\n",
    "    c=0\n",
    "    for j in range(i+1,len(a)):\n",
    "        if(a[i]==a[j]):\n",
    "            print(a[j])"
   ]
  },
  {
   "cell_type": "code",
   "execution_count": 17,
   "metadata": {},
   "outputs": [
    {
     "name": "stdout",
     "output_type": "stream",
     "text": [
      "4.714285714285714\n"
     ]
    }
   ],
   "source": [
    "a=[1,7,2,6,10,2,5]\n",
    "b=0\n",
    "for i in range(len(a)):\n",
    "    b=b+a[i]\n",
    "print(b/len(a))"
   ]
  },
  {
   "cell_type": "code",
   "execution_count": 1,
   "metadata": {},
   "outputs": [
    {
     "name": "stdout",
     "output_type": "stream",
     "text": [
      "[5, 2, 10, 6, 2, 7, 1]\n",
      "33\n",
      "4.714285714285714\n",
      "5\n"
     ]
    }
   ],
   "source": [
    "a=[1,7,2,6,10,2,5]\n",
    "def reverseArray(b):\n",
    "    print(b[::-1])\n",
    "def Sumofarray(b):\n",
    "    sum=0\n",
    "    for i in b:\n",
    "        sum=sum+i\n",
    "    print(sum)\n",
    "def Avgofarray(b):\n",
    "    sum=0\n",
    "    for i in b:\n",
    "        sum=sum+i\n",
    "    print(sum/len(b))\n",
    "def medianofarray(b):\n",
    "    b.sort()\n",
    "    length=len(b)\n",
    "    if(length%2==0):\n",
    "        c=round((length/2))\n",
    "        print(round((b[c]+b[c+1])/2))\n",
    "    else:\n",
    "        c=round((length/2))-1\n",
    "        print(b[c])\n",
    "        \n",
    "reverseArray(a[::])\n",
    "Sumofarray(a)\n",
    "Avgofarray(a)\n",
    "medianofarray(a[::])"
   ]
  },
  {
   "cell_type": "code",
   "execution_count": 3,
   "metadata": {},
   "outputs": [
    {
     "name": "stdout",
     "output_type": "stream",
     "text": [
      "2\n"
     ]
    }
   ],
   "source": [
    "a=[1,2,3,4,1,2,3,4,2]\n",
    "count=0\n",
    "value=0\n",
    "for i in a:\n",
    "    if(a.count(i)>count):\n",
    "        count=count+1\n",
    "        value=i\n",
    "print(value)"
   ]
  },
  {
   "cell_type": "code",
   "execution_count": null,
   "metadata": {},
   "outputs": [],
   "source": []
  }
 ],
 "metadata": {
  "kernelspec": {
   "display_name": "Python 3",
   "language": "python",
   "name": "python3"
  },
  "language_info": {
   "codemirror_mode": {
    "name": "ipython",
    "version": 3
   },
   "file_extension": ".py",
   "mimetype": "text/x-python",
   "name": "python",
   "nbconvert_exporter": "python",
   "pygments_lexer": "ipython3",
   "version": "3.6.5"
  }
 },
 "nbformat": 4,
 "nbformat_minor": 2
}
