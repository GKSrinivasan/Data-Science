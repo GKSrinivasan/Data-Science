{
 "cells": [
  {
   "cell_type": "code",
   "execution_count": 8,
   "metadata": {},
   "outputs": [
    {
     "name": "stdout",
     "output_type": "stream",
     "text": [
      "2\n"
     ]
    }
   ],
   "source": [
    "a=[1,7,2,6,10,2,5]\n",
    "count=0\n",
    "value=0\n",
    "for i in a:\n",
    "    if(a.count(i)>count):\n",
    "        count=count+1\n",
    "        value=i\n",
    "print(value)"
   ]
  },
  {
   "cell_type": "code",
   "execution_count": 3,
   "metadata": {},
   "outputs": [
    {
     "name": "stdout",
     "output_type": "stream",
     "text": [
      "1\n"
     ]
    }
   ],
   "source": [
    "a=[1,7,2,6,10,2,5]\n",
    "value=a[0]\n",
    "for i in a:\n",
    "    if(i<value):\n",
    "        value=i\n",
    "print(value)"
   ]
  },
  {
   "cell_type": "code",
   "execution_count": 4,
   "metadata": {},
   "outputs": [
    {
     "name": "stdout",
     "output_type": "stream",
     "text": [
      "10\n"
     ]
    }
   ],
   "source": [
    "a=[1,7,2,6,10,2,5]\n",
    "value=a[0]\n",
    "for i in a:\n",
    "    if(i>value):\n",
    "        value=i\n",
    "print(value)"
   ]
  },
  {
   "cell_type": "code",
   "execution_count": 29,
   "metadata": {},
   "outputs": [
    {
     "name": "stdout",
     "output_type": "stream",
     "text": [
      "[1, 2, 3, 5, 6, 7, 10]\n"
     ]
    }
   ],
   "source": [
    "a=[1,7,2,6,10,2,5,6,3,2]\n",
    "a.sort()\n",
    "def distinct(x):\n",
    "    value=0\n",
    "    for i in range(0,len(a)-1):\n",
    "        if(a[i]==a[i+1]):\n",
    "            x.pop(i-value)\n",
    "            value+=1\n",
    "    print(x)\n",
    "distinct(a.copy())"
   ]
  },
  {
   "cell_type": "code",
   "execution_count": 1,
   "metadata": {},
   "outputs": [
    {
     "name": "stdout",
     "output_type": "stream",
     "text": [
      "[1, 2, 3, 5, 6, 7, 10]\n"
     ]
    }
   ],
   "source": [
    "a=[1,7,2,6,10,2,5,6,3,2]\n",
    "a.sort()\n",
    "print(list(set(a)))"
   ]
  },
  {
   "cell_type": "code",
   "execution_count": 3,
   "metadata": {},
   "outputs": [
    {
     "name": "stdout",
     "output_type": "stream",
     "text": [
      "[1, 2, 3, 5, 6, 7, 10]\n"
     ]
    }
   ],
   "source": [
    "a=[1,7,2,6,10,2,5,6,3,2]\n",
    "a.sort()\n",
    "b=list()\n",
    "def distinct(x):\n",
    "    for i in x:\n",
    "        if i not in b:\n",
    "            b.append(i)\n",
    "    print(b)\n",
    "distinct(a)"
   ]
  },
  {
   "cell_type": "code",
   "execution_count": null,
   "metadata": {},
   "outputs": [],
   "source": []
  }
 ],
 "metadata": {
  "kernelspec": {
   "display_name": "Python 3",
   "language": "python",
   "name": "python3"
  },
  "language_info": {
   "codemirror_mode": {
    "name": "ipython",
    "version": 3
   },
   "file_extension": ".py",
   "mimetype": "text/x-python",
   "name": "python",
   "nbconvert_exporter": "python",
   "pygments_lexer": "ipython3",
   "version": "3.6.5"
  }
 },
 "nbformat": 4,
 "nbformat_minor": 2
}
