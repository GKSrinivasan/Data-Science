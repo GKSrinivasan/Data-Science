{
 "cells": [
  {
   "cell_type": "code",
   "execution_count": 1,
   "metadata": {
    "collapsed": true
   },
   "outputs": [],
   "source": [
    "#importing the packages\n",
    "import tensorflow as tf\n",
    "sess= tf.Session()"
   ]
  },
  {
   "cell_type": "code",
   "execution_count": 2,
   "metadata": {
    "collapsed": true
   },
   "outputs": [],
   "source": [
    "#Creating a new Graph(not default)\n",
    "myGraph=tf.Graph()\n",
    "with myGraph.as_default():\n",
    "    variable=tf.Variable(30,name='navin')\n",
    "    initialize=tf.global_variables_initializer()    "
   ]
  },
  {
   "cell_type": "code",
   "execution_count": 3,
   "metadata": {},
   "outputs": [
    {
     "name": "stdout",
     "output_type": "stream",
     "text": [
      "30\n"
     ]
    }
   ],
   "source": [
    "#Running computation in session in graph\n",
    "with tf.Session(graph=myGraph) as sess:\n",
    "             sess.run(initialize)\n",
    "             print(sess.run(variable))"
   ]
  },
  {
   "cell_type": "code",
   "execution_count": null,
   "metadata": {
    "collapsed": true
   },
   "outputs": [],
   "source": [
    "#Output graph to tensorboard\n",
    "import os\n",
    "merged = tf.summary.merge_all(key='summaries')\n",
    "if not os.path.exists('tensorboard_logs/'):\n",
    "    os.makedirs('tensorboard_logs/')\n",
    "\n",
    "my_writer = tf.summary.FileWriter('/tensorboard_logs/', sess.graph)\n",
    "def TB(cleanup=False):\n",
    "    import webbrowser\n",
    "    webbrowser.open('http://127.0.1.1:6006')\n",
    "    !tensorboard --logdir=\"/tensorboard_logs\"\n",
    "\n",
    "    if cleanup:\n",
    "        !rm -R tensorboard_logs/\n",
    "\n",
    "TB(1)   #Graph launch on browser"
   ]
  },
  {
   "cell_type": "code",
   "execution_count": 1,
   "metadata": {
    "collapsed": true
   },
   "outputs": [],
   "source": [
    "# 2"
   ]
  },
  {
   "cell_type": "code",
   "execution_count": 2,
   "metadata": {},
   "outputs": [
    {
     "name": "stdout",
     "output_type": "stream",
     "text": [
      "12.0\n"
     ]
    }
   ],
   "source": [
    "import tensorflow as tf\n",
    "x = tf.constant(12,dtype= 'float32')\n",
    "sess= tf.Session()\n",
    "print(sess.run(x))"
   ]
  },
  {
   "cell_type": "code",
   "execution_count": 3,
   "metadata": {
    "collapsed": true
   },
   "outputs": [],
   "source": [
    "# 3"
   ]
  },
  {
   "cell_type": "code",
   "execution_count": 4,
   "metadata": {},
   "outputs": [
    {
     "name": "stdout",
     "output_type": "stream",
     "text": [
      "12.0\n"
     ]
    }
   ],
   "source": [
    "import tensorflow as tf\n",
    "x = tf.constant(12, dtype= 'float32')\n",
    "with tf.Session() as sess:\n",
    "    print(sess.run(x))"
   ]
  },
  {
   "cell_type": "code",
   "execution_count": 5,
   "metadata": {
    "collapsed": true
   },
   "outputs": [],
   "source": [
    "#4"
   ]
  },
  {
   "cell_type": "code",
   "execution_count": 6,
   "metadata": {},
   "outputs": [
    {
     "name": "stdout",
     "output_type": "stream",
     "text": [
      "23.0\n"
     ]
    }
   ],
   "source": [
    "import tensorflow as tf\n",
    "x = tf.constant(12, dtype= 'float32') \n",
    "y = tf.Variable(x + 11)\n",
    "model = tf.global_variables_initializer()\n",
    "with tf.Session() as sess:\n",
    "    sess.run(model)\n",
    "    print(sess.run(y))"
   ]
  },
  {
   "cell_type": "code",
   "execution_count": 7,
   "metadata": {
    "collapsed": true
   },
   "outputs": [],
   "source": [
    "#5"
   ]
  },
  {
   "cell_type": "code",
   "execution_count": 8,
   "metadata": {},
   "outputs": [
    {
     "name": "stdout",
     "output_type": "stream",
     "text": [
      "[128 146 180 160]\n"
     ]
    }
   ],
   "source": [
    "import tensorflow as tf\n",
    "x = tf.constant([14, 23, 40, 30])\n",
    "y = tf.Variable(x*2 + 100)\n",
    "model = tf.global_variables_initializer()\n",
    "with tf.Session() as sess:\n",
    "    sess.run(model)\n",
    "    print(sess.run(y))"
   ]
  },
  {
   "cell_type": "code",
   "execution_count": 9,
   "metadata": {
    "collapsed": true
   },
   "outputs": [],
   "source": [
    "#6"
   ]
  },
  {
   "cell_type": "code",
   "execution_count": 10,
   "metadata": {},
   "outputs": [
    {
     "name": "stdout",
     "output_type": "stream",
     "text": [
      "[ 500.  550.  650.  750.]\n"
     ]
    }
   ],
   "source": [
    "#Placeholder is a variable that we can feed data to at a later time\n",
    "import tensorflow as tf\n",
    "x = tf.placeholder(\"float\", None)\n",
    "y = x * 10 + 500\n",
    "with tf.Session() as sess:\n",
    "    placeX = sess.run(y, feed_dict={x: [0, 5, 15, 25]})\n",
    "    print(placeX)"
   ]
  },
  {
   "cell_type": "code",
   "execution_count": 11,
   "metadata": {
    "collapsed": true
   },
   "outputs": [],
   "source": [
    "#7"
   ]
  },
  {
   "cell_type": "code",
   "execution_count": 12,
   "metadata": {},
   "outputs": [
    {
     "name": "stdout",
     "output_type": "stream",
     "text": [
      "[[ 121.   21.    1.  -19.]\n",
      " [ 141.   41.   11.    1.]]\n"
     ]
    }
   ],
   "source": [
    "import tensorflow as tf\n",
    "x = tf.placeholder(\"float\", [None, 4])\n",
    "y = x * 10 + 1\n",
    "with tf.Session() as session:\n",
    "    dataX = [[12, 2, 0, -2],\n",
    "              [14, 4, 1, 0],]\n",
    "    placeX = session.run(y, feed_dict={x: dataX})\n",
    "    print(placeX)"
   ]
  },
  {
   "cell_type": "code",
   "execution_count": 13,
   "metadata": {
    "collapsed": true
   },
   "outputs": [],
   "source": [
    "#8"
   ]
  },
  {
   "cell_type": "code",
   "execution_count": 14,
   "metadata": {},
   "outputs": [
    {
     "name": "stdout",
     "output_type": "stream",
     "text": [
      "[[ 121.   21.    1.  -19.]\n",
      " [ 141.   41.   11.    1.]]\n"
     ]
    }
   ],
   "source": [
    "import tensorflow as tf\n",
    "x = tf.placeholder(\"float\", [2, 4])\n",
    "y = x * 10 + 1\n",
    "with tf.Session() as session:\n",
    "    dataX = [[12, 2, 0, -2],\n",
    "              [14, 4, 1, 0],]\n",
    "    placeX = session.run(y, feed_dict={x: dataX})\n",
    "    print(placeX)"
   ]
  },
  {
   "cell_type": "code",
   "execution_count": 15,
   "metadata": {
    "collapsed": true
   },
   "outputs": [],
   "source": [
    "#9"
   ]
  },
  {
   "cell_type": "code",
   "execution_count": 16,
   "metadata": {},
   "outputs": [
    {
     "name": "stdout",
     "output_type": "stream",
     "text": [
      "[[ 121.   21.    1.  -19.]\n",
      " [ 141.   41.   11.    1.]]\n"
     ]
    }
   ],
   "source": [
    "import tensorflow as tf\n",
    "x = tf.placeholder(\"float\", [2, 4])\n",
    "y = x * 10 + 1\n",
    "with tf.Session() as session:\n",
    "    dataX = [[12, 2, 0, -2],\n",
    "              [14, 4, 1, 0],]\n",
    "    placeX = session.run(y, feed_dict={x: dataX})\n",
    "    print(placeX)"
   ]
  },
  {
   "cell_type": "code",
   "execution_count": 17,
   "metadata": {
    "collapsed": true
   },
   "outputs": [],
   "source": [
    "#10"
   ]
  },
  {
   "cell_type": "code",
   "execution_count": 20,
   "metadata": {},
   "outputs": [
    {
     "name": "stdout",
     "output_type": "stream",
     "text": [
      "[448 467   3]\n"
     ]
    }
   ],
   "source": [
    "#Creating tensor\n",
    "import numpy as np\n",
    "import tensorflow as tf\n",
    "image=tf.image.decode_jpeg(tf.read_file('tiger_1.jpg'))\n",
    "sess=tf.InteractiveSession()\n",
    "print(sess.run(tf.shape(image)))"
   ]
  },
  {
   "cell_type": "code",
   "execution_count": 21,
   "metadata": {},
   "outputs": [
    {
     "name": "stdout",
     "output_type": "stream",
     "text": [
      "[[59 59 64 61]\n",
      " [62 61 61 59]\n",
      " [61 63 63 62]\n",
      " [64 63 62 59]\n",
      " [73 67 67 66]]\n"
     ]
    }
   ],
   "source": [
    "print(sess.run(image[10:15,0:4,1]))"
   ]
  },
  {
   "cell_type": "code",
   "execution_count": 22,
   "metadata": {
    "collapsed": true
   },
   "outputs": [],
   "source": [
    "#11"
   ]
  },
  {
   "cell_type": "code",
   "execution_count": 23,
   "metadata": {},
   "outputs": [
    {
     "name": "stdout",
     "output_type": "stream",
     "text": [
      "[[ 0.  0.  0.]\n",
      " [ 0.  0.  0.]]\n"
     ]
    }
   ],
   "source": [
    "#Fixed Tensors\n",
    "import tensorflow as tf\n",
    "sess=tf.Session()\n",
    "A=tf.zeros([2,3])\n",
    "print(sess.run(A))"
   ]
  },
  {
   "cell_type": "code",
   "execution_count": 24,
   "metadata": {},
   "outputs": [
    {
     "name": "stdout",
     "output_type": "stream",
     "text": [
      "[[ 1.  1.  1.]\n",
      " [ 1.  1.  1.]\n",
      " [ 1.  1.  1.]\n",
      " [ 1.  1.  1.]]\n"
     ]
    }
   ],
   "source": [
    "#Declare another variable\n",
    "B=tf.ones([4,3])\n",
    "print(sess.run(B))"
   ]
  },
  {
   "cell_type": "code",
   "execution_count": 25,
   "metadata": {},
   "outputs": [
    {
     "name": "stdout",
     "output_type": "stream",
     "text": [
      "[[13 13 13]\n",
      " [13 13 13]]\n"
     ]
    }
   ],
   "source": [
    "C=tf.fill([2,3],13)\n",
    "print(sess.run(C))"
   ]
  },
  {
   "cell_type": "code",
   "execution_count": 26,
   "metadata": {},
   "outputs": [
    {
     "name": "stdout",
     "output_type": "stream",
     "text": [
      "[[ 4  0  0]\n",
      " [ 0 -3  0]\n",
      " [ 0  0  2]]\n"
     ]
    }
   ],
   "source": [
    "D=tf.diag([4,-3,2])\n",
    "print(sess.run(D))"
   ]
  },
  {
   "cell_type": "code",
   "execution_count": 27,
   "metadata": {},
   "outputs": [
    {
     "name": "stdout",
     "output_type": "stream",
     "text": [
      "[4 2 3 1]\n"
     ]
    }
   ],
   "source": [
    "E=tf.constant([4,2,3,1])\n",
    "print(sess.run(E))"
   ]
  },
  {
   "cell_type": "code",
   "execution_count": 28,
   "metadata": {
    "collapsed": true
   },
   "outputs": [],
   "source": [
    "#Sequence tensor"
   ]
  },
  {
   "cell_type": "code",
   "execution_count": 29,
   "metadata": {},
   "outputs": [
    {
     "name": "stdout",
     "output_type": "stream",
     "text": [
      "[ 6  9 12 15 18 21 24 27 30 33 36 39 42]\n"
     ]
    }
   ],
   "source": [
    "G=tf.range(start=6,limit=45,delta=3)\n",
    "print(sess.run(G))"
   ]
  },
  {
   "cell_type": "code",
   "execution_count": 30,
   "metadata": {},
   "outputs": [
    {
     "name": "stdout",
     "output_type": "stream",
     "text": [
      "[ 10.   30.5  51.   71.5  92. ]\n"
     ]
    }
   ],
   "source": [
    "H=tf.linspace(10.0,92.0,5) #creates sequence of evenly spaced value\n",
    "print(sess.run(H))"
   ]
  },
  {
   "cell_type": "code",
   "execution_count": 31,
   "metadata": {
    "collapsed": true
   },
   "outputs": [],
   "source": [
    "#Random Tensor"
   ]
  },
  {
   "cell_type": "code",
   "execution_count": 32,
   "metadata": {},
   "outputs": [
    {
     "name": "stdout",
     "output_type": "stream",
     "text": [
      "[[ 2.92919874  1.67547607  3.44423199]\n",
      " [ 2.88863468  2.89950752  3.49689388]]\n"
     ]
    }
   ],
   "source": [
    "R1=tf.random_uniform([2,3],minval=0,maxval=4)\n",
    "print(sess.run(R1))"
   ]
  },
  {
   "cell_type": "code",
   "execution_count": 33,
   "metadata": {},
   "outputs": [
    {
     "name": "stdout",
     "output_type": "stream",
     "text": [
      "[[ 4.92087889  7.51223087  9.2412281 ]\n",
      " [ 6.65636778  0.94417238  8.15496731]]\n"
     ]
    }
   ],
   "source": [
    "R2=tf.random_normal([2,3],mean=5,stddev=4)\n",
    "print(sess.run(R2))"
   ]
  },
  {
   "cell_type": "code",
   "execution_count": 34,
   "metadata": {},
   "outputs": [
    {
     "name": "stdout",
     "output_type": "stream",
     "text": [
      "[[ 3  0  0]\n",
      " [ 0  0  4]\n",
      " [ 0 -2  0]]\n"
     ]
    }
   ],
   "source": [
    "R3=tf.random_shuffle(tf.diag([3,-2,4]))\n",
    "print(sess.run(R3))"
   ]
  },
  {
   "cell_type": "code",
   "execution_count": 35,
   "metadata": {},
   "outputs": [
    {
     "name": "stdout",
     "output_type": "stream",
     "text": [
      "[[ 0  0]\n",
      " [-2  0]\n",
      " [ 0  4]]\n"
     ]
    }
   ],
   "source": [
    "R4=tf.random_crop(tf.diag([3,-2,4]),[3,2])\n",
    "print(sess.run(R4))"
   ]
  },
  {
   "cell_type": "code",
   "execution_count": 36,
   "metadata": {},
   "outputs": [
    {
     "name": "stdout",
     "output_type": "stream",
     "text": [
      "[[ 3  0  0]\n",
      " [ 0 -2  0]\n",
      " [ 0  0  4]]\n"
     ]
    }
   ],
   "source": [
    "print(sess.run(tf.diag([3,-2,4])))"
   ]
  },
  {
   "cell_type": "code",
   "execution_count": 37,
   "metadata": {},
   "outputs": [
    {
     "name": "stdout",
     "output_type": "stream",
     "text": [
      "[[ 0.  0.  0.  0.]\n",
      " [ 0.  0.  0.  0.]]\n"
     ]
    }
   ],
   "source": [
    "print(sess.run(tf.zeros([2,4])))"
   ]
  },
  {
   "cell_type": "code",
   "execution_count": 38,
   "metadata": {},
   "outputs": [
    {
     "name": "stdout",
     "output_type": "stream",
     "text": [
      "[[ 3  0  0  0]\n",
      " [ 0  1  0  0]\n",
      " [ 0  0  5  0]\n",
      " [ 0  0  0 -2]]\n"
     ]
    }
   ],
   "source": [
    "print(sess.run(tf.diag([3,1,5,-2])))"
   ]
  },
  {
   "cell_type": "code",
   "execution_count": 39,
   "metadata": {},
   "outputs": [
    {
     "name": "stdout",
     "output_type": "stream",
     "text": [
      "[ 4  6  8 10 12 14]\n"
     ]
    }
   ],
   "source": [
    "print(sess.run(tf.range(start=4, limit=16, delta=2)))"
   ]
  },
  {
   "cell_type": "code",
   "execution_count": 40,
   "metadata": {
    "collapsed": true
   },
   "outputs": [],
   "source": [
    "#12"
   ]
  },
  {
   "cell_type": "code",
   "execution_count": 41,
   "metadata": {
    "collapsed": true
   },
   "outputs": [],
   "source": [
    "#Working with matrices"
   ]
  },
  {
   "cell_type": "code",
   "execution_count": 42,
   "metadata": {
    "collapsed": true
   },
   "outputs": [],
   "source": [
    "import tensorflow as tf\n",
    "import numpy as np\n",
    "sess=tf.Session()\n",
    "A=tf.random_uniform([3,2])\n",
    "B=tf.fill([2,4],3.5)\n",
    "C=tf.random_uniform([3,4])"
   ]
  },
  {
   "cell_type": "code",
   "execution_count": 43,
   "metadata": {},
   "outputs": [
    {
     "name": "stdout",
     "output_type": "stream",
     "text": [
      "[[ 0.03957546  0.1764729 ]\n",
      " [ 0.5654453   0.9730289 ]\n",
      " [ 0.30421603  0.64464295]]\n"
     ]
    }
   ],
   "source": [
    "print(sess.run(A))"
   ]
  },
  {
   "cell_type": "code",
   "execution_count": 44,
   "metadata": {},
   "outputs": [
    {
     "name": "stdout",
     "output_type": "stream",
     "text": [
      "[[ 3.5  3.5  3.5  3.5]\n",
      " [ 3.5  3.5  3.5  3.5]]\n"
     ]
    }
   ],
   "source": [
    "print(sess.run(B))"
   ]
  },
  {
   "cell_type": "code",
   "execution_count": 45,
   "metadata": {},
   "outputs": [
    {
     "name": "stdout",
     "output_type": "stream",
     "text": [
      "[[ 4.03358698  4.03358698  4.03358698  4.03358698]\n",
      " [ 3.41654873  3.41654873  3.41654873  3.41654873]\n",
      " [ 5.25726032  5.25726032  5.25726032  5.25726032]]\n"
     ]
    }
   ],
   "source": [
    "print(sess.run(tf.matmul(A,B)))    # Matrix multiplication"
   ]
  },
  {
   "cell_type": "code",
   "execution_count": 46,
   "metadata": {},
   "outputs": [
    {
     "name": "stdout",
     "output_type": "stream",
     "text": [
      "[[ 2.92311883  3.40393353  3.03996706  2.50866842]\n",
      " [ 2.01357698  1.96834517  2.21883726  1.69655538]\n",
      " [ 4.47762156  4.3755908   4.68511868  4.95583677]]\n"
     ]
    }
   ],
   "source": [
    "print(sess.run(tf.matmul(A,B)+C))    #Multiplication and addition"
   ]
  },
  {
   "cell_type": "code",
   "execution_count": 47,
   "metadata": {
    "collapsed": true
   },
   "outputs": [],
   "source": [
    "#Activation function"
   ]
  },
  {
   "cell_type": "code",
   "execution_count": 48,
   "metadata": {},
   "outputs": [
    {
     "name": "stdout",
     "output_type": "stream",
     "text": [
      "[ 1.          0.96402758  0.46211717 -0.46211717 -0.76159418 -0.96402758\n",
      " -1.        ]\n"
     ]
    }
   ],
   "source": [
    "#working on tanh function\n",
    "E=tf.nn.tanh([10,2,0.5,-0.5,-1.0,-2,-10.0])\n",
    "print(sess.run(E))"
   ]
  },
  {
   "cell_type": "code",
   "execution_count": 49,
   "metadata": {},
   "outputs": [
    {
     "name": "stdout",
     "output_type": "stream",
     "text": [
      "[  9.99954581e-01   8.80797029e-01   6.22459352e-01   3.77540678e-01\n",
      "   2.68941432e-01   1.19202919e-01   4.53978719e-05]\n"
     ]
    }
   ],
   "source": [
    "#sigmoid function\n",
    "J=tf.nn.sigmoid([10,2,0.5,-0.5,-1.0,-2,-10.0])\n",
    "print(sess.run(J))"
   ]
  },
  {
   "cell_type": "code",
   "execution_count": 50,
   "metadata": {},
   "outputs": [
    {
     "name": "stdout",
     "output_type": "stream",
     "text": [
      "[-2  1 -3 13]\n",
      "\n",
      "\n",
      "\n",
      "[ 0  1  0 13]\n"
     ]
    }
   ],
   "source": [
    "import tensorflow as tf\n",
    "sess=tf.Session()\n",
    "print(sess.run(tf.constant([-2,1,-3,13])))\n",
    "print('\\n\\n')\n",
    "A=tf.nn.relu([-2,1,-3,13])\n",
    "print(sess.run(A))"
   ]
  },
  {
   "cell_type": "code",
   "execution_count": 51,
   "metadata": {},
   "outputs": [
    {
     "name": "stdout",
     "output_type": "stream",
     "text": [
      "[-2  1 -3 13]\n",
      "\n",
      "\n",
      "\n",
      "[0 1 0 6]\n"
     ]
    }
   ],
   "source": [
    "import tensorflow as tf\n",
    "sess=tf.Session()\n",
    "print(sess.run(tf.constant([-2,1,-3,13])))\n",
    "print('\\n\\n')\n",
    "A=tf.nn.relu6([-2,1,-3,13])\n",
    "print(sess.run(A))"
   ]
  },
  {
   "cell_type": "code",
   "execution_count": 52,
   "metadata": {},
   "outputs": [
    {
     "name": "stdout",
     "output_type": "stream",
     "text": [
      "[[ -2   1  -3]\n",
      " [ 10 -16  -5]]\n",
      "\n",
      "\n",
      "[[ 0  1  0]\n",
      " [10  0  0]]\n"
     ]
    }
   ],
   "source": [
    "import tensorflow as tf\n",
    "sess=tf.Session()\n",
    "print(sess.run(tf.constant([[-2,1,-3],[10,-16,-5]])))\n",
    "print('\\n')\n",
    "C=tf.nn.relu([[-2,1,-3],[10,-16,-5]])\n",
    "print(sess.run(C))"
   ]
  },
  {
   "cell_type": "code",
   "execution_count": 53,
   "metadata": {},
   "outputs": [
    {
     "name": "stdout",
     "output_type": "stream",
     "text": [
      "[ 0  1  0 13]\n"
     ]
    }
   ],
   "source": [
    "#Relu function\n",
    "Re=tf.nn.relu([-2,1,-3,13])\n",
    "print(sess.run(Re))"
   ]
  },
  {
   "cell_type": "code",
   "execution_count": 54,
   "metadata": {},
   "outputs": [
    {
     "name": "stdout",
     "output_type": "stream",
     "text": [
      "[ 10.           2.           1.           0.5          0.          -0.39346933\n",
      "  -0.63212055  -0.86466473  -0.99995458]\n"
     ]
    }
   ],
   "source": [
    "#elu function\n",
    "H=tf.nn.elu([10,2,1,0.5,0,-0.5,-1.,-2.,-10.])\n",
    "print(sess.run(H))"
   ]
  },
  {
   "cell_type": "code",
   "execution_count": 55,
   "metadata": {},
   "outputs": [
    {
     "name": "stdout",
     "output_type": "stream",
     "text": [
      "[ 6.   2.   1.   0.5  0.   0.   0.   0.   0. ]\n"
     ]
    }
   ],
   "source": [
    "#Relu6 function\n",
    "Re6=tf.nn.relu6([10,2,1,0.5,0,-0.5,-1.,-2.,-10.])\n",
    "print(sess.run(Re6))"
   ]
  },
  {
   "cell_type": "code",
   "execution_count": 56,
   "metadata": {},
   "outputs": [
    {
     "name": "stdout",
     "output_type": "stream",
     "text": [
      "[  9.99494076e-01   3.35292920e-04   7.48139573e-05   4.53769608e-05\n",
      "   2.75225175e-05   1.66932514e-05   6.14110377e-06   2.06011097e-09]\n"
     ]
    }
   ],
   "source": [
    "#softmax function\n",
    "X=tf.nn.softmax([10,2,0.5,0,-0.5,-1.0,-2,-10.0])\n",
    "print(sess.run(X))"
   ]
  },
  {
   "cell_type": "code",
   "execution_count": 57,
   "metadata": {},
   "outputs": [
    {
     "name": "stdout",
     "output_type": "stream",
     "text": [
      "[ 0.90909094  0.66666669  0.33333334  0.         -0.33333334 -0.5\n",
      " -0.66666669 -0.90909094]\n"
     ]
    }
   ],
   "source": [
    "#softsign function\n",
    "Y=tf.nn.softsign([10,2,0.5,0,-0.5,-1.0,-2,-10.0])\n",
    "print(sess.run(Y))"
   ]
  },
  {
   "cell_type": "code",
   "execution_count": 58,
   "metadata": {},
   "outputs": [
    {
     "name": "stdout",
     "output_type": "stream",
     "text": [
      "[  1.00000458e+01   2.12692809e+00   9.74076986e-01   6.93147182e-01\n",
      "   4.74076986e-01   3.13261628e-01   1.26928046e-01   4.54177061e-05]\n"
     ]
    }
   ],
   "source": [
    "#softplus function\n",
    "Z=tf.nn.softplus([10,2,0.5,0,-0.5,-1.0,-2,-10.0])\n",
    "print(sess.run(Z))"
   ]
  },
  {
   "cell_type": "code",
   "execution_count": 66,
   "metadata": {
    "collapsed": true
   },
   "outputs": [],
   "source": [
    "#13"
   ]
  },
  {
   "cell_type": "code",
   "execution_count": 59,
   "metadata": {
    "collapsed": true
   },
   "outputs": [],
   "source": [
    "import tensorflow as tf\n",
    "import numpy as np\n",
    "sess=tf.Session()"
   ]
  },
  {
   "cell_type": "code",
   "execution_count": 60,
   "metadata": {
    "collapsed": true
   },
   "outputs": [],
   "source": [
    "#Assuming prediction model\n",
    "pred=np.asarray([0.2,0.3,0.5,10.0,12.0,13.0,3.5,7.4,3.9,2.3])\n",
    "#convert ndarray into tensor\n",
    "x_val=tf.convert_to_tensor(pred)\n",
    "#Assuming actual values\n",
    "actual=np.asarray([0.1,0.4,0.6,9.0,11.0,12.0,3.4,7.1,3.8,2.0])"
   ]
  },
  {
   "cell_type": "code",
   "execution_count": 61,
   "metadata": {},
   "outputs": [
    {
     "name": "stdout",
     "output_type": "stream",
     "text": [
      "[ 0.  0.  0.  1.  1.  1.  0.  0.  0.  0.]\n"
     ]
    }
   ],
   "source": [
    "#L2 loss:L1=(pred-actual)^2\n",
    "l2=tf.square(pred-actual)\n",
    "l2_out=sess.run(tf.round(l2))\n",
    "print(l2_out)"
   ]
  },
  {
   "cell_type": "code",
   "execution_count": 62,
   "metadata": {},
   "outputs": [
    {
     "name": "stdout",
     "output_type": "stream",
     "text": [
      "[ 0.1  0.1  0.1  1.   1.   1.   0.1  0.3  0.1  0.3]\n"
     ]
    }
   ],
   "source": [
    "#L2 loss:L1=abs(pred-actual)\n",
    "l1=tf.abs(pred-actual)\n",
    "l1_out=sess.run(l1)\n",
    "print(l1_out)"
   ]
  },
  {
   "cell_type": "code",
   "execution_count": 63,
   "metadata": {},
   "outputs": [
    {
     "name": "stdout",
     "output_type": "stream",
     "text": [
      "[ 0.74439666  0.74439666  0.74439666  0.31326169  0.31326169  0.31326169\n",
      "  0.74439666  0.85435524  0.74439666  0.85435524]\n"
     ]
    }
   ],
   "source": [
    "#cross entropy loss\n",
    "softmax_xentropy_variable=tf.nn.sigmoid_cross_entropy_with_logits(logits=l1_out,labels=l2_out)\n",
    "print(sess.run(softmax_xentropy_variable))"
   ]
  },
  {
   "cell_type": "code",
   "execution_count": 64,
   "metadata": {
    "collapsed": true
   },
   "outputs": [],
   "source": [
    "#14"
   ]
  },
  {
   "cell_type": "code",
   "execution_count": 65,
   "metadata": {
    "collapsed": true
   },
   "outputs": [],
   "source": [
    "#Optimization"
   ]
  },
  {
   "cell_type": "code",
   "execution_count": 66,
   "metadata": {
    "collapsed": true
   },
   "outputs": [],
   "source": [
    "import tensorflow as tf\n",
    "import numpy as np"
   ]
  },
  {
   "cell_type": "code",
   "execution_count": 67,
   "metadata": {
    "collapsed": true
   },
   "outputs": [],
   "source": [
    "x = tf.Variable(3, name='x', dtype=tf.float32)\n",
    "log_x = tf.log(x)\n",
    "log_x_squared = tf.square(log_x)"
   ]
  },
  {
   "cell_type": "code",
   "execution_count": 68,
   "metadata": {
    "collapsed": true
   },
   "outputs": [],
   "source": [
    "optimizer = tf.train.GradientDescentOptimizer(0.7)\n",
    "train = optimizer.minimize(log_x_squared)"
   ]
  },
  {
   "cell_type": "code",
   "execution_count": 69,
   "metadata": {
    "collapsed": true
   },
   "outputs": [],
   "source": [
    "init =tf.global_variables_initializer()"
   ]
  },
  {
   "cell_type": "code",
   "execution_count": 70,
   "metadata": {},
   "outputs": [
    {
     "name": "stdout",
     "output_type": "stream",
     "text": [
      "starting at x: 3.0 log(x)^2: 1.20695\n",
      "step 0 x: 2.48731 log(x)^2: 0.830292\n",
      "step 1 x: 1.97444 log(x)^2: 0.462786\n",
      "step 2 x: 1.49207 log(x)^2: 0.160134\n",
      "step 3 x: 1.1166 log(x)^2: 0.0121637\n",
      "step 4 x: 0.97832 log(x)^2: 0.00048043\n",
      "step 5 x: 1.00969 log(x)^2: 9.29177e-05\n",
      "step 6 x: 0.99632 log(x)^2: 1.35901e-05\n",
      "step 7 x: 1.0015 log(x)^2: 2.24809e-06\n",
      "step 8 x: 0.999405 log(x)^2: 3.54772e-07\n",
      "step 9 x: 1.00024 log(x)^2: 5.70574e-08\n"
     ]
    }
   ],
   "source": [
    "#Finnaly running computation\n",
    "with tf.Session() as session:\n",
    "    session.run(init)\n",
    "    print(\"starting at\", \"x:\", session.run(x), \"log(x)^2:\", session.run(log_x_squared))\n",
    "    for step in range(10):  \n",
    "      session.run(train)\n",
    "      print(\"step\", step, \"x:\", session.run(x), \"log(x)^2:\", session.run(log_x_squared))    \n",
    "\n"
   ]
  },
  {
   "cell_type": "code",
   "execution_count": 71,
   "metadata": {
    "collapsed": true
   },
   "outputs": [],
   "source": [
    "# importing libraries\n",
    "import numpy as np\n",
    "import tensorflow as tf"
   ]
  },
  {
   "cell_type": "code",
   "execution_count": 72,
   "metadata": {
    "collapsed": true
   },
   "outputs": [],
   "source": [
    "# placeholders declaration\n",
    "x=tf. placeholder(tf.int32, [5])\n",
    "y=tf. placeholder(tf.int32, [5])"
   ]
  },
  {
   "cell_type": "code",
   "execution_count": 73,
   "metadata": {
    "collapsed": true
   },
   "outputs": [],
   "source": [
    "# Metrices declaration\n",
    "acc, acc_op=tf.metrics.accuracy(labels=x, predictions=y)"
   ]
  },
  {
   "cell_type": "code",
   "execution_count": 74,
   "metadata": {
    "collapsed": true
   },
   "outputs": [],
   "source": [
    "#session initialization\n",
    "sess=tf.InteractiveSession()\n",
    "sess.run(tf.global_variables_initializer())\n",
    "sess.run(tf.local_variables_initializer())"
   ]
  },
  {
   "cell_type": "code",
   "execution_count": 75,
   "metadata": {
    "collapsed": true
   },
   "outputs": [],
   "source": [
    "#value assign\n",
    "val= sess.run([acc,acc_op], feed_dict={x: [1,1,0,1,0], y: [0,1,0,0,1]})"
   ]
  },
  {
   "cell_type": "code",
   "execution_count": 76,
   "metadata": {},
   "outputs": [
    {
     "name": "stdout",
     "output_type": "stream",
     "text": [
      "0.4\n"
     ]
    }
   ],
   "source": [
    "#print Accuracy\n",
    "val_acc=sess.run(acc)\n",
    "print(val_acc)"
   ]
  },
  {
   "cell_type": "code",
   "execution_count": null,
   "metadata": {
    "collapsed": true
   },
   "outputs": [],
   "source": []
  }
 ],
 "metadata": {
  "kernelspec": {
   "display_name": "Python 3",
   "language": "python",
   "name": "python3"
  },
  "language_info": {
   "codemirror_mode": {
    "name": "ipython",
    "version": 3
   },
   "file_extension": ".py",
   "mimetype": "text/x-python",
   "name": "python",
   "nbconvert_exporter": "python",
   "pygments_lexer": "ipython3",
   "version": "3.6.3"
  }
 },
 "nbformat": 4,
 "nbformat_minor": 2
}
