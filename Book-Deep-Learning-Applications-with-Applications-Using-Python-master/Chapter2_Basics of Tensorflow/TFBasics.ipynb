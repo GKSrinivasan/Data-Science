{
 "cells": [
  {
   "cell_type": "code",
   "execution_count": null,
   "metadata": {
    "collapsed": true,
    "scrolled": true
   },
   "outputs": [],
   "source": [
    "\n"
   ]
  },
  {
   "cell_type": "code",
   "execution_count": 1,
   "metadata": {},
   "outputs": [
    {
     "name": "stdout",
     "output_type": "stream",
     "text": [
      "12.0\n"
     ]
    }
   ],
   "source": [
    "import tensorflow as tf\n",
    "x = tf.constant(12,dtype= 'float32')\n",
    "sess= tf.Session()\n",
    "print(sess.run(x))"
   ]
  },
  {
   "cell_type": "code",
   "execution_count": 2,
   "metadata": {},
   "outputs": [
    {
     "name": "stdout",
     "output_type": "stream",
     "text": [
      "12.0\n"
     ]
    }
   ],
   "source": [
    "import tensorflow as tf\n",
    "x = tf.constant(12, dtype= 'float32')\n",
    "with tf.Session() as sess:\n",
    "    print(sess.run(x))"
   ]
  },
  {
   "cell_type": "code",
   "execution_count": 3,
   "metadata": {},
   "outputs": [
    {
     "name": "stdout",
     "output_type": "stream",
     "text": [
      "23.0\n"
     ]
    }
   ],
   "source": [
    "import tensorflow as tf\n",
    "x = tf.constant(12, dtype= 'float32') \n",
    "y = tf.Variable(x + 11)\n",
    "model = tf.global_variables_initializer()\n",
    "with tf.Session() as sess:\n",
    "    sess.run(model)\n",
    "    print(sess.run(y))\n"
   ]
  },
  {
   "cell_type": "code",
   "execution_count": 4,
   "metadata": {},
   "outputs": [
    {
     "name": "stdout",
     "output_type": "stream",
     "text": [
      "[128 146 180 160]\n"
     ]
    }
   ],
   "source": [
    "import tensorflow as tf\n",
    "x = tf.constant([14, 23, 40, 30])\n",
    "y = tf.Variable(x*2 + 100)\n",
    "model = tf.global_variables_initializer()\n",
    "with tf.Session() as sess:\n",
    "    sess.run(model)\n",
    "    print(sess.run(y))\n"
   ]
  },
  {
   "cell_type": "code",
   "execution_count": 5,
   "metadata": {},
   "outputs": [
    {
     "name": "stdout",
     "output_type": "stream",
     "text": [
      "[ 500.  550.  650.  750.]\n"
     ]
    }
   ],
   "source": [
    "#Placeholder is a variable that we can feed data to at a later time\n",
    "import tensorflow as tf\n",
    "x = tf.placeholder(\"float\", None)\n",
    "y = x * 10 + 500\n",
    "with tf.Session() as sess:\n",
    "    placeX = sess.run(y, feed_dict={x: [0, 5, 15, 25]})\n",
    "    print(placeX)"
   ]
  },
  {
   "cell_type": "code",
   "execution_count": 6,
   "metadata": {},
   "outputs": [
    {
     "name": "stdout",
     "output_type": "stream",
     "text": [
      "[[ 121.   21.    1.  -19.]\n",
      " [ 141.   41.   11.    1.]]\n"
     ]
    }
   ],
   "source": [
    "import tensorflow as tf\n",
    "x = tf.placeholder(\"float\", [None, 4])\n",
    "y = x * 10 + 1\n",
    "with tf.Session() as session:\n",
    "    dataX = [[12, 2, 0, -2],\n",
    "              [14, 4, 1, 0],]\n",
    "    placeX = session.run(y, feed_dict={x: dataX})\n",
    "    print(placeX)"
   ]
  },
  {
   "cell_type": "code",
   "execution_count": 7,
   "metadata": {},
   "outputs": [
    {
     "name": "stdout",
     "output_type": "stream",
     "text": [
      "[[ 121.   21.    1.  -19.]\n",
      " [ 141.   41.   11.    1.]]\n"
     ]
    }
   ],
   "source": [
    "import tensorflow as tf\n",
    "x = tf.placeholder(\"float\", [2, 4])\n",
    "y = x * 10 + 1\n",
    "with tf.Session() as session:\n",
    "    dataX = [[12, 2, 0, -2],\n",
    "              [14, 4, 1, 0],]\n",
    "    placeX = session.run(y, feed_dict={x: dataX})\n",
    "    print(placeX)"
   ]
  },
  {
   "cell_type": "code",
   "execution_count": 8,
   "metadata": {},
   "outputs": [
    {
     "name": "stdout",
     "output_type": "stream",
     "text": [
      "[[ 121.   21.    1.  -19.]\n",
      " [ 141.   41.   11.    1.]]\n"
     ]
    }
   ],
   "source": [
    "import tensorflow as tf\n",
    "x = tf.placeholder(\"float\", [2, 4])\n",
    "y = x * 10 + 1\n",
    "with tf.Session() as session:\n",
    "    dataX = [[12, 2, 0, -2],\n",
    "              [14, 4, 1, 0],]\n",
    "    placeX = session.run(y, feed_dict={x: dataX})\n",
    "    print(placeX)"
   ]
  },
  {
   "cell_type": "code",
   "execution_count": 9,
   "metadata": {
    "collapsed": true
   },
   "outputs": [],
   "source": [
    "# Weight and Bias as Variables as they are to be tuned\n",
    "W = tf.Variable([2], dtype=tf.float32) \n",
    "b = tf.Variable([3], dtype=tf.float32)\n",
    "# Training dataset that will be fed while training\n",
    "x = tf.placeholder(tf.float32)\n",
    "# Linear Model\n",
    "linear_model = W * x + b\n"
   ]
  },
  {
   "cell_type": "code",
   "execution_count": null,
   "metadata": {},
   "outputs": [],
   "source": [
    "import tensorflow as tf\n",
    "from datasets import flowers\n",
    "slim = tf.contrib.slim\n",
    "with tf.Graph().as_default():\n",
    " dataset = flowers.get_split('train', flowers_data_dir)\n",
    " data_provider = slim.dataset_data_provider.DatasetDataProvider(\n",
    " dataset, common_queue_capacity=32, common_queue_min=1)\n",
    " image, label = data_provider.get(['image', 'label'])"
   ]
  },
  {
   "cell_type": "code",
   "execution_count": null,
   "metadata": {
    "collapsed": true
   },
   "outputs": [],
   "source": [
    "# In TF Learn\n",
    "from tensorflow.contrib import learn\n",
    "estimator = learn.LinearRegressor(feature_columns, model_dir)\n",
    "estimator.fit(input_fn=input_fn_train)\n",
    "estimator.evaluate(input_fn=input_fn_eval)\n",
    "estimator.predict(x=x)\n",
    "estimator.export(export_dir)"
   ]
  },
  {
   "cell_type": "code",
   "execution_count": null,
   "metadata": {
    "collapsed": true
   },
   "outputs": [],
   "source": []
  }
 ],
 "metadata": {
  "kernelspec": {
   "display_name": "Python 3",
   "language": "python",
   "name": "python3"
  },
  "language_info": {
   "codemirror_mode": {
    "name": "ipython",
    "version": 3
   },
   "file_extension": ".py",
   "mimetype": "text/x-python",
   "name": "python",
   "nbconvert_exporter": "python",
   "pygments_lexer": "ipython3",
   "version": "3.6.3"
  }
 },
 "nbformat": 4,
 "nbformat_minor": 2
}
