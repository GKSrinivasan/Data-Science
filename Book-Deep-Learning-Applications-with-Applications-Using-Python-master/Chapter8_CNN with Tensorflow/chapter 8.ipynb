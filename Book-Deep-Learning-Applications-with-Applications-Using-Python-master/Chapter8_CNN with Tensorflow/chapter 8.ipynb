{
 "cells": [
  {
   "cell_type": "code",
   "execution_count": 1,
   "metadata": {
    "collapsed": true
   },
   "outputs": [],
   "source": [
    "import matplotlib.pyplot as plt\n",
    "from tensorflow.contrib.learn.python.learn.datasets.mnist import read_data_sets\n",
    "from tensorflow.python.framework import ops\n",
    "import tensorflow as tf\n",
    "import numpy as np\n"
   ]
  },
  {
   "cell_type": "code",
   "execution_count": 2,
   "metadata": {},
   "outputs": [
    {
     "name": "stderr",
     "output_type": "stream",
     "text": [
      "Using TensorFlow backend.\n"
     ]
    }
   ],
   "source": [
    "# Start a graph session\n",
    "sess = tf.Session()\n",
    "#We load mnist data and create train and test set\n",
    "# Load data\n",
    "#mnist = read_data_sets(data_dir)\n",
    "from keras.datasets import mnist\n",
    "(X_train, y_train), (X_test, y_test) = mnist.load_data()\n",
    "#We then normalize the train and test set features \n",
    "# Z- scoring  or Gaussian Normalization\n",
    "X_train = X_train - np.mean(X_train) / X_train.std()\n",
    "X_test = X_test - np.mean(X_test) / X_test.std()"
   ]
  },
  {
   "cell_type": "code",
   "execution_count": 18,
   "metadata": {},
   "outputs": [],
   "source": [
    "# Convert labels into one-hot encoded vectors\n",
    "train_labels = y_train\n",
    "test_labels = y_test\n",
    "num_class = 10\n",
    "\n",
    "# Set model parameters\n",
    "batch_size = 784\n",
    "samples =500\n",
    "learning_rate = 0.03\n",
    "img_width = X_train[0].shape[0]\n",
    "img_height = X_train[0].shape[1]\n",
    "target_size = max(train_labels) + 1\n",
    "num_channels = 1 # greyscale = 1 channel\n",
    "epoch = 3\n",
    "no_channels = 1\n",
    "conv1_features = 30\n",
    "filt1_features = 5\n",
    "conv2_features = 15\n",
    "filt2_features = 3\n",
    "max_pool_size1 = 2 # NxN window for 1st max pool layer\n",
    "max_pool_size2 = 2 # NxN window for 2nd max pool layer\n",
    "fully_connected_size1 = 150"
   ]
  },
  {
   "cell_type": "code",
   "execution_count": 4,
   "metadata": {
    "collapsed": true
   },
   "outputs": [],
   "source": [
    "# Declare model placeholders\n",
    "x_input_shape = (batch_size, img_width, img_height, num_channels)\n",
    "x_input = tf.placeholder(tf.float32, shape=x_input_shape)\n",
    "y_target = tf.placeholder(tf.int32, shape=(batch_size))\n",
    "eval_input_shape = (samples, img_width, img_height, num_channels)\n",
    "eval_input = tf.placeholder(tf.float32, shape=eval_input_shape)\n",
    "eval_target = tf.placeholder(tf.int32, shape=(samples))\n"
   ]
  },
  {
   "cell_type": "code",
   "execution_count": 5,
   "metadata": {
    "collapsed": true
   },
   "outputs": [],
   "source": [
    "# Declare model variables\n",
    "W1 = tf.Variable(tf.random_normal([filt1_features, filt1_features, no_channels, conv1_features]))\n",
    "b1 = tf.Variable(tf.ones([conv1_features]))\n",
    "W2 = tf.Variable(tf.random_normal([filt2_features, filt2_features, conv1_features, conv2_features]))\n",
    "b2 = tf.Variable(tf.ones([conv2_features]))\n"
   ]
  },
  {
   "cell_type": "code",
   "execution_count": 6,
   "metadata": {
    "collapsed": true
   },
   "outputs": [],
   "source": [
    "# Declare model variables for fully connected layers\n",
    "resulting_width = img_width // (max_pool_size1 * max_pool_size2)\n",
    "resulting_height = img_height // (max_pool_size1 * max_pool_size2)\n",
    "full1_input_size = resulting_width * resulting_height * conv2_features\n",
    "W3 = tf.Variable(tf.truncated_normal([full1_input_size, fully_connected_size1],\n",
    "                          stddev=0.1, dtype=tf.float32))\n",
    "b3 = tf.Variable(tf.truncated_normal([fully_connected_size1], stddev=0.1, dtype=tf.float32))\n",
    "W_out = tf.Variable(tf.truncated_normal([fully_connected_size1, target_size],\n",
    "                                               stddev=0.1, dtype=tf.float32))\n",
    "b_out = tf.Variable(tf.truncated_normal([target_size], stddev=0.1, dtype=tf.float32))\n"
   ]
  },
  {
   "cell_type": "code",
   "execution_count": 7,
   "metadata": {
    "collapsed": true
   },
   "outputs": [],
   "source": [
    "# Define helper functions for the convolution and maxpool layers:\n",
    "def conv_layer(x, W, b):\n",
    "    conv = tf.nn.conv2d(x, W, strides=[1, 1, 1, 1], padding='SAME')\n",
    "    conv_with_b = tf.nn.bias_add(conv, b)\n",
    "    conv_out = tf.nn.elu(conv_with_b)\n",
    "    return conv_out\n",
    "def maxpool_layer(conv, k=2):\n",
    "    return tf.nn.max_pool(conv, ksize=[1, k, k, 1], strides=[1, k, k, 1], padding='SAME')\n"
   ]
  },
  {
   "cell_type": "code",
   "execution_count": 8,
   "metadata": {
    "collapsed": true
   },
   "outputs": [],
   "source": [
    "# Initialize Model Operations\n",
    "def my_conv_net(input_data):\n",
    "    # First Conv-ReLU-MaxPool Layer\n",
    "    conv_out1 = conv_layer(input_data, W1, b1)\n",
    "    maxpool_out1 = maxpool_layer(conv_out1)\n",
    "    \n",
    "    # Second Conv-ReLU-MaxPool Layer\n",
    "    conv_out2 = conv_layer(maxpool_out1, W2, b2)\n",
    "    maxpool_out2 = maxpool_layer(conv_out2)\n",
    "    # Transform Output into a 1xN layer for next fully connected layer\n",
    "    final_conv_shape = maxpool_out2.get_shape().as_list()\n",
    "    final_shape = final_conv_shape[1] * final_conv_shape[2] * final_conv_shape[3]\n",
    "    flat_output = tf.reshape(maxpool_out2, [final_conv_shape[0], final_shape])\n",
    "\n",
    "    # First Fully Connected Layer\n",
    "    fully_connected1 = tf.nn.relu(tf.add(tf.matmul(flat_output, W3), b3))\n",
    "    # Second Fully Connected Layer\n",
    "    final_model_output = tf.add(tf.matmul(fully_connected1, W_out), b_out)\n",
    "    \n",
    "    return(final_model_output)\n",
    "\n",
    "model_output = my_conv_net(x_input)\n",
    "test_model_output = my_conv_net(eval_input)\n"
   ]
  },
  {
   "cell_type": "code",
   "execution_count": 9,
   "metadata": {},
   "outputs": [],
   "source": [
    "# Declare Loss Function (softmax cross entropy)\n",
    "loss = tf.reduce_mean(tf.nn.sparse_softmax_cross_entropy_with_logits(logits=model_output, labels=y_target))\n",
    "\n"
   ]
  },
  {
   "cell_type": "code",
   "execution_count": 10,
   "metadata": {
    "collapsed": true
   },
   "outputs": [],
   "source": [
    "# Create a prediction function\n",
    "prediction = tf.nn.softmax(model_output)\n",
    "test_prediction = tf.nn.softmax(test_model_output)\n"
   ]
  },
  {
   "cell_type": "code",
   "execution_count": 11,
   "metadata": {
    "collapsed": true
   },
   "outputs": [],
   "source": [
    "# Create accuracy function\n",
    "def get_accuracy(logits, targets):\n",
    "    batch_predictions = np.argmax(logits, axis=1)\n",
    "    num_correct = np.sum(np.equal(batch_predictions, targets))\n",
    "    return(100. * num_correct/batch_predictions.shape[0])\n"
   ]
  },
  {
   "cell_type": "code",
   "execution_count": 12,
   "metadata": {},
   "outputs": [],
   "source": [
    "# Create an optimizer\n",
    "my_optimizer = tf.train.AdamOptimizer(learning_rate, 0.9)\n",
    "train_step = my_optimizer.minimize(loss)\n",
    "\n",
    "# Initialize Variables\n",
    "varInit = tf.global_variables_initializer()\n",
    "sess.run(varInit)\n"
   ]
  },
  {
   "cell_type": "code",
   "execution_count": 25,
   "metadata": {},
   "outputs": [
    {
     "name": "stdout",
     "output_type": "stream",
     "text": [
      "Epoch # 1. Train Loss: 1020.16. Train Acc : 25.26 . temp_test_acc : 29.80\n",
      "Epoch # 2. Train Loss: 607.05. Train Acc : 24.87 . temp_test_acc : 24.20\n",
      "Epoch # 3. Train Loss: 365.78. Train Acc : 23.47 . temp_test_acc : 26.60\n"
     ]
    }
   ],
   "source": [
    "# Start training loop\n",
    "train_loss = []\n",
    "train_acc = []\n",
    "test_acc = []\n",
    "\n",
    "for i in range(epoch):\n",
    "    random_index = np.random.choice(len(X_train), size=batch_size)\n",
    "    random_x = X_train[random_index]\n",
    "    random_x = np.expand_dims(random_x, 3)\n",
    "    random_y = train_labels[random_index]   \n",
    "     \n",
    "    train_dict = {x_input: random_x, y_target: random_y}\n",
    "    \n",
    "    sess.run(train_step, feed_dict=train_dict)\n",
    "    temp_train_loss, temp_train_preds = sess.run([loss, prediction], feed_dict=train_dict)\n",
    "    temp_train_acc = get_accuracy(temp_train_preds, random_y)\n",
    "    \n",
    "    \n",
    "    eval_index = np.random.choice(len(X_test), size=500)\n",
    "    eval_x = X_test[eval_index]\n",
    "    eval_x = np.expand_dims(eval_x, 3)\n",
    "    eval_y = test_labels[eval_index]\n",
    "    test_dict = {eval_input: eval_x, eval_target: eval_y}\n",
    "    test_preds = sess.run(test_prediction, feed_dict=test_dict)\n",
    "    temp_test_acc = get_accuracy(test_preds, eval_y)\n",
    "    # Record and print results\n",
    "    train_loss.append(temp_train_loss)\n",
    "    train_acc.append(temp_train_acc)\n",
    "    test_acc.append(temp_test_acc)\n",
    "    acc_and_loss = [(i+1), temp_train_loss, temp_train_acc, temp_test_acc]\n",
    "    acc_and_loss = [np.round(x,2) for x in acc_and_loss]\n",
    "    print('Epoch # {}. Train Loss: {:.2f}. Train Acc : {:.2f} . temp_test_acc : {:.2f}'.format(i+1,temp_train_loss,temp_train_acc,temp_test_acc))\n",
    "\n"
   ]
  },
  {
   "cell_type": "code",
   "execution_count": null,
   "metadata": {
    "collapsed": true
   },
   "outputs": [],
   "source": []
  },
  {
   "cell_type": "code",
   "execution_count": null,
   "metadata": {
    "collapsed": true
   },
   "outputs": [],
   "source": []
  }
 ],
 "metadata": {
  "kernelspec": {
   "display_name": "Python 3",
   "language": "python",
   "name": "python3"
  },
  "language_info": {
   "codemirror_mode": {
    "name": "ipython",
    "version": 3
   },
   "file_extension": ".py",
   "mimetype": "text/x-python",
   "name": "python",
   "nbconvert_exporter": "python",
   "pygments_lexer": "ipython3",
   "version": "3.6.3"
  }
 },
 "nbformat": 4,
 "nbformat_minor": 2
}
