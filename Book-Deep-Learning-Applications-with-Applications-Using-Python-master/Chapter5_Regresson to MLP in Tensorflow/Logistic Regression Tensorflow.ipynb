{
 "cells": [
  {
   "cell_type": "code",
   "execution_count": 1,
   "metadata": {},
   "outputs": [],
   "source": [
    "import warnings\n",
    "warnings.simplefilter(\"ignore\")"
   ]
  },
  {
   "cell_type": "code",
   "execution_count": 3,
   "metadata": {},
   "outputs": [],
   "source": [
    "import numpy as np\n",
    "import tensorflow as tf\n",
    "from sklearn import datasets\n",
    "import pandas as pd\n",
    "from sklearn.cross_validation import train_test_split\n",
    "from matplotlib import pyplot\n"
   ]
  },
  {
   "cell_type": "code",
   "execution_count": 4,
   "metadata": {},
   "outputs": [],
   "source": [
    "# 1. Loading Data\n",
    "iris = datasets.load_iris()\n",
    "# Predictors Two columns : Sepal Length and Sepal Width\n",
    "predictors_vals = np.array([predictor[0:2] for predictor in iris.data])\n",
    "# For setosa Species, target is 0. \n",
    "target_vals = np.array([1. if predictor==0 else 0. for predictor in iris.target])\n",
    "\n",
    "\n",
    "# 2. Split data into train/test = 75%/25%\n",
    "predictors_vals_train, predictors_vals_test, target_vals_train, target_vals_test = train_test_split(predictors_vals, target_vals, \n",
    "                                                    train_size=0.75,\n",
    "                                                    random_state=0)\n"
   ]
  },
  {
   "cell_type": "code",
   "execution_count": 5,
   "metadata": {},
   "outputs": [],
   "source": [
    "# 3. Normalize if needed\n",
    "\n",
    "\n",
    "#4.Initialize placeholders that will contain predictors and target\n",
    "x_data = tf.placeholder(shape=[None, 2], dtype=tf.float32)\n",
    "y_target = tf.placeholder(shape=[None, 1], dtype=tf.float32)\n",
    "\n",
    "#5. Create variables (Weight and Bias) that will be tuned up\n",
    "W = tf.Variable(tf.ones(shape=[2,1]))\n",
    "b = tf.Variable(tf.ones(shape=[1,1]))\n",
    "\n"
   ]
  },
  {
   "cell_type": "code",
   "execution_count": 6,
   "metadata": {},
   "outputs": [],
   "source": [
    "# 6. Declare model operations : y = xW +b \n",
    "model = tf.add(tf.matmul(x_data, W), b)\n",
    "\n",
    "#7. Declare loss function and Optimizer\n",
    "loss = tf.reduce_mean(tf.nn.sigmoid_cross_entropy_with_logits(logits=model, labels=y_target))\n",
    "my_opt = tf.train.AdamOptimizer(0.02) #learning rate =0.02\n",
    "train_step = my_opt.minimize(loss)\n",
    "\n",
    "#8. Initialize variables and session\n",
    "init = tf.global_variables_initializer()\n",
    "sess=tf.Session()\n",
    "sess.run(init)\n",
    "\n",
    "#9. Actual Prediction: \n",
    "prediction = tf.round(tf.sigmoid(model))\n",
    "predictions_correct = tf.cast(tf.equal(prediction, y_target), tf.float32)\n",
    "accuracy = tf.reduce_mean(predictions_correct)\n",
    "\n",
    "\n"
   ]
  },
  {
   "cell_type": "code",
   "execution_count": 7,
   "metadata": {},
   "outputs": [
    {
     "name": "stdout",
     "output_type": "stream",
     "text": [
      "Loss = 0.783705 and Accuracy = 0.330357\n",
      "Loss = 0.356201 and Accuracy = 0.669643\n",
      "Loss = 0.824993 and Accuracy = 0.669643\n",
      "Loss = 1.10484 and Accuracy = 0.669643\n",
      "Loss = 0.450501 and Accuracy = 0.669643\n",
      "Loss = 0.414195 and Accuracy = 0.669643\n",
      "Loss = 0.4335 and Accuracy = 0.6875\n",
      "Loss = 0.468891 and Accuracy = 0.794643\n",
      "Loss = 0.479287 and Accuracy = 0.982143\n",
      "Loss = 0.176276 and Accuracy = 0.883929\n",
      "Loss = 0.486633 and Accuracy = 0.946429\n",
      "Loss = 0.189483 and Accuracy = 0.866071\n",
      "Loss = 0.429071 and Accuracy = 0.910714\n",
      "Loss = 0.351552 and Accuracy = 0.901786\n",
      "Loss = 0.249853 and Accuracy = 0.973214\n",
      "Loss = 0.414324 and Accuracy = 0.982143\n",
      "Loss = 0.308642 and Accuracy = 0.991071\n",
      "Loss = 0.144662 and Accuracy = 0.991071\n",
      "Loss = 0.206221 and Accuracy = 0.982143\n",
      "Loss = 0.198529 and Accuracy = 0.982143\n"
     ]
    }
   ],
   "source": [
    "#10. Training loop\n",
    "lossArray = []\n",
    "trainAccuracy = []\n",
    "testAccuracy = []\n",
    "for i in range(1000):\n",
    "    #Random instances for Batch size \n",
    "    batch_size = 4 #Declare batch size\n",
    "    batchIndex = np.random.choice(len(predictors_vals_train), size=batch_size)\n",
    "    batchX = predictors_vals_train[batchIndex]\n",
    "    batchY = np.transpose([target_vals_train[batchIndex]])\n",
    "    # Tuning weight and bias while minimizing loss function through optimizer\n",
    "    sess.run(train_step, feed_dict={x_data: batchX, y_target: batchY})\n",
    "    #loss function per epoch/generation\n",
    "    batchLoss = sess.run(loss, feed_dict={x_data: batchX, y_target: batchY})\n",
    "    lossArray.append(batchLoss) # adding it to loss_vec\n",
    "    # accuracy for each epoch for train\n",
    "    batchAccuracyTrain = sess.run(accuracy, feed_dict={x_data: predictors_vals_train, y_target: np.transpose([target_vals_train])})\n",
    "    trainAccuracy.append(batchAccuracyTrain) # adding it to train_acc \n",
    "    # accuracy for each epoch for test\n",
    "    batchAccuracyTest = sess.run(accuracy, feed_dict={x_data: predictors_vals_test, y_target: np.transpose([target_vals_test])})\n",
    "    testAccuracy.append(batchAccuracyTest)\n",
    "    # printing loss after 10 epochs/generations to avoid verbosity\n",
    "    if (i+1)%50==0:\n",
    "        print('Loss = ' + str(batchLoss)+ ' and Accuracy = '   + str(batchAccuracyTrain))\n",
    "        \n",
    "\n"
   ]
  },
  {
   "cell_type": "code",
   "execution_count": 8,
   "metadata": {},
   "outputs": [
    {
     "data": {
      "image/png": "[encoded data removed]",
      "text/plain": [
       "<matplotlib.figure.Figure at 0x27ecbb79b70>"
      ]
     },
     "metadata": {},
     "output_type": "display_data"
    }
   ],
   "source": [
    "# 11. Check model performance\n",
    "pyplot.plot(lossArray, 'r-' )\n",
    "pyplot.title('Logistic Regression: Cross Entropy Loss per Epoch')\n",
    "pyplot.xlabel('Epoch')\n",
    "pyplot.ylabel('Cross Entropy Loss')\n",
    "pyplot.show()\n"
   ]
  },
  {
   "cell_type": "code",
   "execution_count": null,
   "metadata": {},
   "outputs": [],
   "source": []
  }
 ],
 "metadata": {
  "kernelspec": {
   "display_name": "Python 3",
   "language": "python",
   "name": "python3"
  },
  "language_info": {
   "codemirror_mode": {
    "name": "ipython",
    "version": 3
   },
   "file_extension": ".py",
   "mimetype": "text/x-python",
   "name": "python",
   "nbconvert_exporter": "python",
   "pygments_lexer": "ipython3",
   "version": "3.6.3"
  }
 },
 "nbformat": 4,
 "nbformat_minor": 2
}
