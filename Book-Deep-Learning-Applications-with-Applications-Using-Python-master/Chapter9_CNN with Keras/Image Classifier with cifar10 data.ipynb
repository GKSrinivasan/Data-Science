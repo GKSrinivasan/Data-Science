{
 "cells": [
  {
   "cell_type": "markdown",
   "metadata": {},
   "source": [
    "Image classifier with cifar10 dataset."
   ]
  },
  {
   "cell_type": "code",
   "execution_count": 8,
   "metadata": {},
   "outputs": [
    {
     "name": "stdout",
     "output_type": "stream",
     "text": [
      "(50000, 3, 32, 32)\n",
      "10\n",
      "(50000, 3, 32, 32)\n"
     ]
    }
   ],
   "source": [
    "import numpy as np\n",
    "# random seed for reproducibility\n",
    "np.random.seed(123)\n",
    "from keras.models import Sequential\n",
    "from keras.layers import Dense\n",
    "from keras.layers import Dropout\n",
    "from keras.layers import Flatten\n",
    "from keras.layers import Conv2D, MaxPooling2D\n",
    "from keras.datasets import cifar10\n",
    "#Now we will import some utilities\n",
    "from keras.utils import np_utils\n",
    "#Fixed dimension ordering issue\n",
    "from keras import backend as K\n",
    "K.set_image_dim_ordering('th')\n",
    "\n",
    "(X_train,y_train),(X_test, y_test)=cifar10.load_data()\n",
    "#Preprocess imput data for Keras\n",
    "# Reshape input data.\n",
    "# reshape to be [samples][channels][width][height]\n",
    "X_train=X_train.reshape(X_train.shape[0],3,32,32)\n",
    "X_test=X_test.reshape(X_test.shape[0],3,32,32)\n",
    "# to convert our data type to float32 and normalize our database\n",
    "X_train=X_train.astype('float32')\n",
    "X_test=X_test.astype('float32')\n",
    "print(X_train.shape)\n",
    "# Z-scoring or Gaussian Normalization\n",
    "X_train=X_train - np.mean(X_train) / X_train.std()\n",
    "X_test=X_test - np.mean(X_test) / X_test.std()\n",
    "\n",
    "# convert 1-dim class arrays to 10 dim class metrices\n",
    "#one hot encoding outputs\n",
    "y_train=np_utils.to_categorical(y_train)\n",
    "y_test=np_utils.to_categorical(y_test)\n",
    "num_classes=y_test.shape[1]\n",
    "print(num_classes)\n",
    "#10\n",
    "#Define a simple CNN model\n",
    "print(X_train.shape)\n",
    "\n"
   ]
  },
  {
   "cell_type": "code",
   "execution_count": 10,
   "metadata": {},
   "outputs": [
    {
     "name": "stdout",
     "output_type": "stream",
     "text": [
      "(None, 10)\n"
     ]
    }
   ],
   "source": [
    "\n",
    "model=Sequential()\n",
    "model.add(Conv2D(32, (5,5), input_shape=(3,32,32), activation='relu'))\n",
    "model.add(MaxPooling2D(pool_size=(2,2)))\n",
    "model.add(Conv2D(32, (5,5), activation='relu', padding='same'))\n",
    "model.add(BatchNormalization())\n",
    "model.add(MaxPooling2D(pool_size=(2,2)))\n",
    "model.add(Dropout(0.3))      # Dropout, one form of regularization\n",
    "model.add(Flatten())\n",
    "model.add(Dense(240,activation='elu'))\n",
    "model.add(Dense(10, activation='softmax'))\n",
    "print(model.output_shape)\n",
    "\n"
   ]
  },
  {
   "cell_type": "code",
   "execution_count": 12,
   "metadata": {},
   "outputs": [
    {
     "name": "stdout",
     "output_type": "stream",
     "text": [
      "Train on 50000 samples, validate on 10000 samples\n",
      "Epoch 1/1\n",
      "50000/50000 [==============================] - 31s - loss: 1.3036 - val_loss: 0.2944\n",
      "CNN error:  0.29%\n"
     ]
    }
   ],
   "source": [
    "model.compile(loss='binary_crossentropy', optimizer='adagrad')\n",
    "model.fit(X_train, y_train, validation_data=(X_test, y_test), epochs=1, batch_size=200)\n",
    "# Final evaluation of the model\n",
    "scores =model.evaluate(X_test, y_test, verbose=0)\n",
    "print('CNN error: % .2f%%' % (scores))"
   ]
  },
  {
   "cell_type": "code",
   "execution_count": null,
   "metadata": {},
   "outputs": [],
   "source": []
  }
 ],
 "metadata": {
  "kernelspec": {
   "display_name": "Python 3",
   "language": "python",
   "name": "python3"
  },
  "language_info": {
   "codemirror_mode": {
    "name": "ipython",
    "version": 3
   },
   "file_extension": ".py",
   "mimetype": "text/x-python",
   "name": "python",
   "nbconvert_exporter": "python",
   "pygments_lexer": "ipython3",
   "version": "3.6.3"
  }
 },
 "nbformat": 4,
 "nbformat_minor": 2
}
