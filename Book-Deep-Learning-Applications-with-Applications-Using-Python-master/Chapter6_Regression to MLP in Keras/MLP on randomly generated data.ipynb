{
 "cells": [
  {
   "cell_type": "markdown",
   "metadata": {},
   "source": [
    "MLP on randomly generated data"
   ]
  },
  {
   "cell_type": "code",
   "execution_count": 2,
   "metadata": {},
   "outputs": [],
   "source": [
    "import warnings\n",
    "warnings.simplefilter(\"ignore\")"
   ]
  },
  {
   "cell_type": "code",
   "execution_count": 3,
   "metadata": {},
   "outputs": [],
   "source": [
    "import keras\n",
    "from keras.models import Sequential\n",
    "from keras.layers import Dense, Dropout, Activation\n",
    "from keras.optimizers import SGD\n",
    "import numpy as np"
   ]
  },
  {
   "cell_type": "code",
   "execution_count": 5,
   "metadata": {},
   "outputs": [],
   "source": [
    "#Generate the data using the random function.\n",
    "# Generate dummy data\n",
    "x_train = np.random.random((1000, 20))\n",
    "# Y having 10 possible categories\n",
    "y_train = keras.utils.to_categorical(np.random.randint(10, size=(1000, 1)), num_classes=10)\n",
    "x_test = np.random.random((100, 20))\n",
    "y_test = keras.utils.to_categorical(np.random.randint(10, size=(100, 1)), num_classes=10)\n"
   ]
  },
  {
   "cell_type": "code",
   "execution_count": 6,
   "metadata": {},
   "outputs": [],
   "source": [
    "\n",
    "#Creating a sequential model.\n",
    "#Create a model \n",
    "model = Sequential()\n",
    "# Dense(64) is a fully-connected layer with 64 hidden units.\n",
    "# In the first layer, you must specify the expected input data shape:\n",
    "# here, 20-dimensional vectors.\n"
   ]
  },
  {
   "cell_type": "code",
   "execution_count": 7,
   "metadata": {},
   "outputs": [],
   "source": [
    "model.add(Dense(64, activation='relu', input_dim=20))\n",
    "model.add(Dropout(0.5))\n",
    "model.add(Dense(64, activation='relu'))\n",
    "model.add(Dropout(0.5))\n",
    "model.add(Dense(10, activation='softmax'))\n",
    "#Compile the model\n"
   ]
  },
  {
   "cell_type": "code",
   "execution_count": 8,
   "metadata": {},
   "outputs": [
    {
     "name": "stdout",
     "output_type": "stream",
     "text": [
      "Epoch 1/20\n",
      "1000/1000 [==============================] - 2s - loss: 2.4318 - acc: 0.0920     \n",
      "Epoch 2/20\n",
      "1000/1000 [==============================] - 0s - loss: 2.3700 - acc: 0.0970     \n",
      "Epoch 3/20\n",
      "1000/1000 [==============================] - 0s - loss: 2.3438 - acc: 0.1070     \n",
      "Epoch 4/20\n",
      "1000/1000 [==============================] - 0s - loss: 2.3432 - acc: 0.0970     \n",
      "Epoch 5/20\n",
      "1000/1000 [==============================] - 0s - loss: 2.3288 - acc: 0.0930     \n",
      "Epoch 6/20\n",
      "1000/1000 [==============================] - 0s - loss: 2.3136 - acc: 0.1080     \n",
      "Epoch 7/20\n",
      "1000/1000 [==============================] - 0s - loss: 2.3114 - acc: 0.1070     \n",
      "Epoch 8/20\n",
      "1000/1000 [==============================] - 0s - loss: 2.3019 - acc: 0.1160     \n",
      "Epoch 9/20\n",
      "1000/1000 [==============================] - 0s - loss: 2.3071 - acc: 0.1120     \n",
      "Epoch 10/20\n",
      "1000/1000 [==============================] - 0s - loss: 2.3072 - acc: 0.1040     \n",
      "Epoch 11/20\n",
      "1000/1000 [==============================] - 0s - loss: 2.3124 - acc: 0.1050     \n",
      "Epoch 12/20\n",
      "1000/1000 [==============================] - 0s - loss: 2.3072 - acc: 0.1210     \n",
      "Epoch 13/20\n",
      "1000/1000 [==============================] - 0s - loss: 2.3080 - acc: 0.1030     \n",
      "Epoch 14/20\n",
      "1000/1000 [==============================] - 0s - loss: 2.3039 - acc: 0.1040     \n",
      "Epoch 15/20\n",
      "1000/1000 [==============================] - 0s - loss: 2.3093 - acc: 0.0990     \n",
      "Epoch 16/20\n",
      "1000/1000 [==============================] - 0s - loss: 2.2988 - acc: 0.1170     \n",
      "Epoch 17/20\n",
      "1000/1000 [==============================] - 0s - loss: 2.3069 - acc: 0.1100     \n",
      "Epoch 18/20\n",
      "1000/1000 [==============================] - 0s - loss: 2.3051 - acc: 0.1000     \n",
      "Epoch 19/20\n",
      "1000/1000 [==============================] - 0s - loss: 2.3006 - acc: 0.0990     \n",
      "Epoch 20/20\n",
      "1000/1000 [==============================] - 0s - loss: 2.2964 - acc: 0.1110     \n",
      "100/100 [==============================] - 0s\n"
     ]
    }
   ],
   "source": [
    "sgd = SGD(lr=0.01, decay=1e-6, momentum=0.9, nesterov=True)\n",
    "model.compile(loss='categorical_crossentropy',optimizer=sgd,metrics=['accuracy'])\n",
    "#Using the ‘model.fit’ function to train the model.\n",
    "# Fit the model\n",
    "model.fit(x_train, y_train,epochs=20,batch_size=128)\n",
    "#Evaluating the performance of the model using the ‘model.evaluate’ function.\n",
    "# Evaluate the model\n",
    "score = model.evaluate(x_test, y_test, batch_size=128)\n"
   ]
  },
  {
   "cell_type": "code",
   "execution_count": null,
   "metadata": {},
   "outputs": [],
   "source": []
  }
 ],
 "metadata": {
  "kernelspec": {
   "display_name": "Python 3",
   "language": "python",
   "name": "python3"
  },
  "language_info": {
   "codemirror_mode": {
    "name": "ipython",
    "version": 3
   },
   "file_extension": ".py",
   "mimetype": "text/x-python",
   "name": "python",
   "nbconvert_exporter": "python",
   "pygments_lexer": "ipython3",
   "version": "3.6.3"
  }
 },
 "nbformat": 4,
 "nbformat_minor": 2
}
