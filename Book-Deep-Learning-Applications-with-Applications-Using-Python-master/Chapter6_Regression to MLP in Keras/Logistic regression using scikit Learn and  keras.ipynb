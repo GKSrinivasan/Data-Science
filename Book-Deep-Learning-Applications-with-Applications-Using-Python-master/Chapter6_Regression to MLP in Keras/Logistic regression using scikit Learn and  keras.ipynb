{
 "cells": [
  {
   "cell_type": "markdown",
   "metadata": {},
   "source": [
    "#Logistic Regression using scikit learn and Keras"
   ]
  },
  {
   "cell_type": "code",
   "execution_count": 8,
   "metadata": {},
   "outputs": [],
   "source": [
    "import warnings\n",
    "warnings.simplefilter(\"ignore\")"
   ]
  },
  {
   "cell_type": "code",
   "execution_count": 21,
   "metadata": {},
   "outputs": [],
   "source": [
    "from __future__ import print_function\n",
    "from keras.models import load_model\n",
    "import keras\n",
    "from keras.utils import np_utils\n",
    "from sklearn.datasets import load_iris\n",
    "from sklearn.cross_validation import train_test_split\n",
    "from keras.models import Sequential\n",
    "from sklearn.linear_model import LogisticRegressionCV\n",
    "from keras.layers.core import Activation\n",
    "from keras.layers import Dense, Dropout, Activation\n",
    "from keras.optimizers import RMSprop\n",
    "import numpy as np"
   ]
  },
  {
   "cell_type": "markdown",
   "metadata": {},
   "source": [
    "################################scikit Learn for  Logistic Regression################################"
   ]
  },
  {
   "cell_type": "code",
   "execution_count": 22,
   "metadata": {},
   "outputs": [
    {
     "name": "stdout",
     "output_type": "stream",
     "text": [
      "Test fraction correct (LR-Accuracy) = 0.83\n"
     ]
    }
   ],
   "source": [
    "iris = load_iris()\n",
    "#Iris Dataset has five attributes out of which we will be using the first four attributes to predict the species, whose class is defined in the fifth attribute of the dataset.\n",
    "X, y = iris.data[:, :4], iris.target\n",
    "# Split both independent and dependent variables in half for cross-validation\n",
    "train_X, test_X, train_y, test_y = train_test_split(X, y, train_size=0.5, random_state=0)\n",
    "#print(type(train_X),len(train_y),len(test_X),len(test_y))\n",
    "lr = LogisticRegressionCV()\n",
    "lr.fit(train_X, train_y)\n",
    "pred_y = lr.predict(test_X)\n",
    "print(\"Test fraction correct (LR-Accuracy) = {:.2f}\".format(lr.score(test_X, test_y)))\n",
    "\n"
   ]
  },
  {
   "cell_type": "markdown",
   "metadata": {},
   "source": [
    "########################################Keras Neural Network for Logistic Regression################################"
   ]
  },
  {
   "cell_type": "code",
   "execution_count": 23,
   "metadata": {},
   "outputs": [],
   "source": [
    "# Use ONE-HOT enconding for converting into categorical variable\n",
    "def one_hot_encode_object_array(arr):\n",
    "    uniques, ids = np.unique(arr, return_inverse=True)\n",
    "    return np_utils.to_categorical(ids, len(uniques))\n",
    "\n"
   ]
  },
  {
   "cell_type": "code",
   "execution_count": 24,
   "metadata": {},
   "outputs": [],
   "source": [
    "# Dividing data into train and test data\n",
    "train_y_ohe = one_hot_encode_object_array(train_y)\n",
    "test_y_ohe = one_hot_encode_object_array(test_y)\n"
   ]
  },
  {
   "cell_type": "code",
   "execution_count": 25,
   "metadata": {},
   "outputs": [],
   "source": [
    "#Creating a model\n",
    "model = Sequential()\n",
    "model.add(Dense(16, input_shape=(4,)))\n",
    "model.add(Activation('sigmoid'))\n",
    "model.add(Dense(3))\n",
    "model.add(Activation('softmax'))"
   ]
  },
  {
   "cell_type": "code",
   "execution_count": 26,
   "metadata": {},
   "outputs": [],
   "source": [
    "# Compiling the model \n",
    "model.compile(loss='categorical_crossentropy', metrics=['accuracy'], optimizer='adam')"
   ]
  },
  {
   "cell_type": "code",
   "execution_count": 28,
   "metadata": {},
   "outputs": [
    {
     "name": "stdout",
     "output_type": "stream",
     "text": [
      "\n",
      " Test fraction correct (LR-Accuracy) logistic regression = 0.83\n",
      "Test fraction correct (NN-Accuracy) keras  = 0.99\n"
     ]
    }
   ],
   "source": [
    "# Actual modelling\n",
    "model.fit(train_X, train_y_ohe, verbose=0, batch_size=1, nb_epoch=100)\n",
    "\n",
    "score, accuracy = model.evaluate(test_X, test_y_ohe, batch_size=16, verbose=0)\n",
    "\n",
    "print(\"\\n Test fraction correct (LR-Accuracy) logistic regression = {:.2f}\".format(lr.score(test_X, test_y))) # Accuracy is 0.83 \n",
    "print(\"Test fraction correct (NN-Accuracy) keras  = {:.2f}\".format(accuracy)) # Accuracy is 0.99\n"
   ]
  },
  {
   "cell_type": "code",
   "execution_count": null,
   "metadata": {},
   "outputs": [],
   "source": []
  }
 ],
 "metadata": {
  "kernelspec": {
   "display_name": "Python 3",
   "language": "python",
   "name": "python3"
  },
  "language_info": {
   "codemirror_mode": {
    "name": "ipython",
    "version": 3
   },
   "file_extension": ".py",
   "mimetype": "text/x-python",
   "name": "python",
   "nbconvert_exporter": "python",
   "pygments_lexer": "ipython3",
   "version": "3.6.3"
  }
 },
 "nbformat": 4,
 "nbformat_minor": 2
}
