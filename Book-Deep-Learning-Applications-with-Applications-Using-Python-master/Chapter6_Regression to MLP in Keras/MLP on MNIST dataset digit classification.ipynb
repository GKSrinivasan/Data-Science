{
 "cells": [
  {
   "cell_type": "markdown",
   "metadata": {},
   "source": [
    "MLP on MNIST dataset digit classification "
   ]
  },
  {
   "cell_type": "code",
   "execution_count": 1,
   "metadata": {},
   "outputs": [],
   "source": [
    "import warnings\n",
    "warnings.simplefilter(\"ignore\")"
   ]
  },
  {
   "cell_type": "code",
   "execution_count": 2,
   "metadata": {},
   "outputs": [
    {
     "name": "stderr",
     "output_type": "stream",
     "text": [
      "Using TensorFlow backend.\n"
     ]
    }
   ],
   "source": [
    "import numpy as np\n",
    "import os\n",
    "from keras.datasets import mnist\n",
    "from keras.models import Sequential\n",
    "from keras.layers.core import Dense, Dropout, Activation\n",
    "from keras.optimizers import RMSprop\n",
    "from keras.utils import np_utils"
   ]
  },
  {
   "cell_type": "code",
   "execution_count": 3,
   "metadata": {},
   "outputs": [],
   "source": [
    "np.random.seed(100) # for reproducibility\n",
    "batch_size = 128 #Number of images used in each optimization step\n",
    "nb_classes = 10 #One class per digit\n",
    "nb_epoch = 20 #Number of times the whole data is used to learn\n",
    "#Loading the dataset using the mnist.load_data() function\n",
    "(X_train, y_train), (X_test, y_test) = mnist.load_data()\n",
    "\n"
   ]
  },
  {
   "cell_type": "code",
   "execution_count": 4,
   "metadata": {},
   "outputs": [],
   "source": [
    "#Flatten the data, MLP doesn't use the 2D structure of the data. 784 = 28*28\n",
    "X_train = X_train.reshape(60000, 784) # 60,000 digit images\n",
    "X_test = X_test.reshape(10000, 784)\n",
    "\n",
    "X_train = X_train.astype('float32')\n",
    "X_test = X_test.astype('float32')\n"
   ]
  },
  {
   "cell_type": "code",
   "execution_count": 5,
   "metadata": {},
   "outputs": [
    {
     "name": "stdout",
     "output_type": "stream",
     "text": [
      "60000 train samples\n",
      "10000 test samples\n"
     ]
    }
   ],
   "source": [
    "# Gaussian Normalization( Z- score)\n",
    "X_train = (X_train- np.mean(X_train))/np.std(X_train)\n",
    "X_test = (X_test- np.mean(X_test))/np.std(X_test)\n",
    "#Displaying the number of the training samples present in the dataset and also the number of testset available.\n",
    "#Display number of training and test instances\n",
    "print(X_train.shape[0], 'train samples')\n",
    "print(X_test.shape[0], 'test samples')\n",
    "\n"
   ]
  },
  {
   "cell_type": "code",
   "execution_count": 6,
   "metadata": {},
   "outputs": [],
   "source": [
    "# convert class vectors to binary class matrices (ie one-hot vectors)\n",
    "Y_train = np_utils.to_categorical(y_train, nb_classes)\n",
    "Y_test = np_utils.to_categorical(y_test, nb_classes)\n"
   ]
  },
  {
   "cell_type": "code",
   "execution_count": 7,
   "metadata": {},
   "outputs": [],
   "source": [
    "#Defining the sequential model of multi layer perceptron:\n",
    "#Define the model achitecture\n",
    "model = Sequential()\n",
    "model.add(Dense(512, input_shape=(784,)))\n",
    "model.add(Activation('relu'))\n",
    "model.add(Dropout(0.2)) # Regularization\n",
    "model.add(Dense(120))\n",
    "model.add(Activation('relu'))\n",
    "model.add(Dropout(0.2))\n",
    "model.add(Dense(10)) #Last layer with one output per class\n",
    "model.add(Activation('softmax')) #We want a score simlar to a probability for each class\n",
    "\n"
   ]
  },
  {
   "cell_type": "code",
   "execution_count": 8,
   "metadata": {},
   "outputs": [],
   "source": [
    "#Use rmsprop as an optimizer\n",
    "rms = RMSprop()\n",
    "#The function to optimize is the cross entropy between the true label and the output (softmax) of the model.\n",
    "model.compile(loss='categorical_crossentropy', optimizer=rms, metrics=[\"accuracy\"])\n"
   ]
  },
  {
   "cell_type": "code",
   "execution_count": 9,
   "metadata": {},
   "outputs": [
    {
     "name": "stdout",
     "output_type": "stream",
     "text": [
      "Train on 60000 samples, validate on 10000 samples\n",
      "Epoch 1/20\n",
      "9s - loss: 0.2842 - acc: 0.9129 - val_loss: 0.1241 - val_acc: 0.9638\n",
      "Epoch 2/20\n",
      "6s - loss: 0.1305 - acc: 0.9621 - val_loss: 0.0956 - val_acc: 0.9716\n",
      "Epoch 3/20\n",
      "7s - loss: 0.1022 - acc: 0.9705 - val_loss: 0.0977 - val_acc: 0.9731\n",
      "Epoch 4/20\n",
      "8s - loss: 0.0839 - acc: 0.9753 - val_loss: 0.0808 - val_acc: 0.9782\n",
      "Epoch 5/20\n",
      "8s - loss: 0.0765 - acc: 0.9787 - val_loss: 0.0810 - val_acc: 0.9790\n",
      "Epoch 6/20\n",
      "7s - loss: 0.0706 - acc: 0.9806 - val_loss: 0.0846 - val_acc: 0.9791\n",
      "Epoch 7/20\n",
      "7s - loss: 0.0672 - acc: 0.9818 - val_loss: 0.0937 - val_acc: 0.9775\n",
      "Epoch 8/20\n",
      "7s - loss: 0.0663 - acc: 0.9827 - val_loss: 0.0869 - val_acc: 0.9799\n",
      "Epoch 9/20\n",
      "6s - loss: 0.0609 - acc: 0.9841 - val_loss: 0.1015 - val_acc: 0.9791\n",
      "Epoch 10/20\n",
      "6s - loss: 0.0597 - acc: 0.9848 - val_loss: 0.1035 - val_acc: 0.9804\n",
      "Epoch 11/20\n",
      "7s - loss: 0.0589 - acc: 0.9857 - val_loss: 0.0997 - val_acc: 0.9819\n",
      "Epoch 12/20\n",
      "6s - loss: 0.0591 - acc: 0.9856 - val_loss: 0.1036 - val_acc: 0.9811\n",
      "Epoch 13/20\n",
      "6s - loss: 0.0571 - acc: 0.9871 - val_loss: 0.1067 - val_acc: 0.9810\n",
      "Epoch 14/20\n",
      "6s - loss: 0.0598 - acc: 0.9871 - val_loss: 0.1345 - val_acc: 0.9783\n",
      "Epoch 15/20\n",
      "6s - loss: 0.0572 - acc: 0.9872 - val_loss: 0.1039 - val_acc: 0.9829\n",
      "Epoch 16/20\n",
      "7s - loss: 0.0582 - acc: 0.9874 - val_loss: 0.1124 - val_acc: 0.9809\n",
      "Epoch 17/20\n",
      "6s - loss: 0.0601 - acc: 0.9885 - val_loss: 0.1272 - val_acc: 0.9804\n",
      "Epoch 18/20\n",
      "6s - loss: 0.0593 - acc: 0.9881 - val_loss: 0.1392 - val_acc: 0.9799\n",
      "Epoch 19/20\n",
      "6s - loss: 0.0573 - acc: 0.9884 - val_loss: 0.1205 - val_acc: 0.9827\n",
      "Epoch 20/20\n",
      "6s - loss: 0.0573 - acc: 0.9889 - val_loss: 0.1204 - val_acc: 0.9807\n"
     ]
    },
    {
     "data": {
      "text/plain": [
       "<keras.callbacks.History at 0x22a496e83c8>"
      ]
     },
     "execution_count": 9,
     "metadata": {},
     "output_type": "execute_result"
    }
   ],
   "source": [
    "#Using ‘model.fit’ function to train the model.\n",
    "\n",
    "#Make the model learn\n",
    "model.fit(X_train, Y_train,\n",
    "batch_size=batch_size, nb_epoch=nb_epoch,\n",
    "verbose=2,\n",
    "validation_data=(X_test, Y_test))\n"
   ]
  },
  {
   "cell_type": "code",
   "execution_count": 11,
   "metadata": {},
   "outputs": [
    {
     "name": "stdout",
     "output_type": "stream",
     "text": [
      "Test score: 0.120411624476\n",
      "Test accuracy: 0.9807\n"
     ]
    }
   ],
   "source": [
    "#Using the model.evaluate function to evaluate the performance of the model.\n",
    "#Evaluate how the model does on the test set\n",
    "score = model.evaluate(X_test, Y_test, verbose=0)\n",
    "#Printing the accuracy generated in the model.\n",
    "print('Test score:', score[0])\n",
    "print('Test accuracy:', score[1])\n"
   ]
  },
  {
   "cell_type": "code",
   "execution_count": null,
   "metadata": {},
   "outputs": [],
   "source": []
  }
 ],
 "metadata": {
  "kernelspec": {
   "display_name": "Python 3",
   "language": "python",
   "name": "python3"
  },
  "language_info": {
   "codemirror_mode": {
    "name": "ipython",
    "version": 3
   },
   "file_extension": ".py",
   "mimetype": "text/x-python",
   "name": "python",
   "nbconvert_exporter": "python",
   "pygments_lexer": "ipython3",
   "version": "3.6.3"
  }
 },
 "nbformat": 4,
 "nbformat_minor": 2
}
