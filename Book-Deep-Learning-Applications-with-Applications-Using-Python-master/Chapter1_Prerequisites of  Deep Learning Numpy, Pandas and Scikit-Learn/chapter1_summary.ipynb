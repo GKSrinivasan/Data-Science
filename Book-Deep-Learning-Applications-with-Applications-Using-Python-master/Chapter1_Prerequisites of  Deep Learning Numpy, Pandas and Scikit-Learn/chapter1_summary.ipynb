{
 "cells": [
  {
   "cell_type": "raw",
   "metadata": {
    "collapsed": true
   },
   "source": [
    "# Creating Array"
   ]
  },
  {
   "cell_type": "code",
   "execution_count": 1,
   "metadata": {
    "collapsed": true
   },
   "outputs": [],
   "source": [
    "import numpy as np\n",
    "A=np.array([[0,2,4,7],\n",
    "           [2,4,6,9],\n",
    "           [1,3,7,0]])"
   ]
  },
  {
   "cell_type": "code",
   "execution_count": 2,
   "metadata": {},
   "outputs": [
    {
     "name": "stdout",
     "output_type": "stream",
     "text": [
      "(3, 4)\n"
     ]
    }
   ],
   "source": [
    "#print the shape of Array\n",
    "print(A.shape)"
   ]
  },
  {
   "cell_type": "code",
   "execution_count": 3,
   "metadata": {},
   "outputs": [
    {
     "name": "stdout",
     "output_type": "stream",
     "text": [
      "int64\n"
     ]
    }
   ],
   "source": [
    "#print the size of Array\n",
    "print(A.dtype)"
   ]
  },
  {
   "cell_type": "code",
   "execution_count": 4,
   "metadata": {},
   "outputs": [
    {
     "name": "stdout",
     "output_type": "stream",
     "text": [
      "4\n"
     ]
    }
   ],
   "source": [
    "#print element of 0th row's and 2nd column\n",
    "print(A[0,2])"
   ]
  },
  {
   "cell_type": "code",
   "execution_count": 5,
   "metadata": {},
   "outputs": [
    {
     "name": "stdout",
     "output_type": "stream",
     "text": [
      "[[0 2 4]\n",
      " [2 4 6]]\n"
     ]
    }
   ],
   "source": [
    "print(A[0:2,0:3])    #m:n means the value from m,m+1,...upto n-1"
   ]
  },
  {
   "cell_type": "code",
   "execution_count": 6,
   "metadata": {},
   "outputs": [
    {
     "name": "stdout",
     "output_type": "stream",
     "text": [
      "[[-1  5 11 20]\n",
      " [ 5 11 17 26]\n",
      " [ 2  8 20 -1]]\n"
     ]
    }
   ],
   "source": [
    "print(3*A-1)    # print array after some calculation"
   ]
  },
  {
   "cell_type": "code",
   "execution_count": 7,
   "metadata": {},
   "outputs": [
    {
     "name": "stdout",
     "output_type": "stream",
     "text": [
      "[[0 0 0 0]\n",
      " [0 0 0 0]\n",
      " [0 0 0 0]]\n"
     ]
    }
   ],
   "source": [
    "N=np.zeros(A.shape,dtype=int)\n",
    "print(N)"
   ]
  },
  {
   "cell_type": "code",
   "execution_count": 8,
   "metadata": {},
   "outputs": [
    {
     "name": "stdout",
     "output_type": "stream",
     "text": [
      "[[1 1 1 1]\n",
      " [1 1 1 1]\n",
      " [1 1 1 1]]\n"
     ]
    }
   ],
   "source": [
    "N1=np.ones(A.shape,dtype=int)\n",
    "print(N1)"
   ]
  },
  {
   "cell_type": "code",
   "execution_count": 9,
   "metadata": {},
   "outputs": [
    {
     "name": "stdout",
     "output_type": "stream",
     "text": [
      "[[1 0 0 0]\n",
      " [0 1 0 0]\n",
      " [0 0 1 0]\n",
      " [0 0 0 1]]\n"
     ]
    }
   ],
   "source": [
    "I=np.eye(4,dtype=int)\n",
    "print(I)"
   ]
  },
  {
   "cell_type": "code",
   "execution_count": 10,
   "metadata": {},
   "outputs": [
    {
     "name": "stdout",
     "output_type": "stream",
     "text": [
      "[[6 4 3]\n",
      " [1 4 6]]\n"
     ]
    }
   ],
   "source": [
    "R=np.random.randint(0,10,(2,3))    #creating an array of dimension (2,3) with random integer between 0 1nd 10(excluding 10)\n",
    "print(R)"
   ]
  },
  {
   "cell_type": "code",
   "execution_count": 11,
   "metadata": {},
   "outputs": [
    {
     "name": "stdout",
     "output_type": "stream",
     "text": [
      "[[[0 7 5 1]\n",
      "  [8 9 2 7]\n",
      "  [7 3 9 5]]\n",
      "\n",
      " [[3 0 1 3]\n",
      "  [9 8 3 6]\n",
      "  [0 8 5 0]]]\n"
     ]
    }
   ],
   "source": [
    "R2=np.random.randint(0,10,(2,3,4))  #creating an array of dimension (2,3,4) with random integer between 0 1nd 10(excluding 10)\n",
    "print(R2)"
   ]
  },
  {
   "cell_type": "code",
   "execution_count": 12,
   "metadata": {},
   "outputs": [
    {
     "name": "stdout",
     "output_type": "stream",
     "text": [
      "[ 0  1  2  3  4  5  6  7  8  9 10]\n"
     ]
    }
   ],
   "source": [
    "#Creating sample array\n",
    "arr = np.arange(0,11)\n",
    "print(arr)"
   ]
  },
  {
   "cell_type": "code",
   "execution_count": 13,
   "metadata": {},
   "outputs": [
    {
     "name": "stdout",
     "output_type": "stream",
     "text": [
      "[  1.   10.8  20.6  30.4  40.2  50. ]\n"
     ]
    }
   ],
   "source": [
    "#creating a linspace\n",
    "arr2=np.linspace(1,50,6)\n",
    "print(arr2)"
   ]
  },
  {
   "cell_type": "raw",
   "metadata": {
    "collapsed": true
   },
   "source": [
    "# Inspecting Properties"
   ]
  },
  {
   "cell_type": "code",
   "execution_count": 14,
   "metadata": {
    "collapsed": true
   },
   "outputs": [],
   "source": [
    "#creating a list\n",
    "my_list1 = [1,2,3,4]\n",
    "# Make another list\n",
    "my_list2 = [11,22,33,44]\n",
    "#Make a list of lists\n",
    "my_lists = [my_list1,my_list2]\n",
    "#Make multi-dimensional array\n",
    "my_array2 = np.array(my_lists)"
   ]
  },
  {
   "cell_type": "code",
   "execution_count": 15,
   "metadata": {},
   "outputs": [
    {
     "data": {
      "text/plain": [
       "array([[ 1,  2,  3,  4],\n",
       "       [11, 22, 33, 44]])"
      ]
     },
     "execution_count": 15,
     "metadata": {},
     "output_type": "execute_result"
    }
   ],
   "source": [
    "#Show array\n",
    "my_array2"
   ]
  },
  {
   "cell_type": "code",
   "execution_count": 16,
   "metadata": {},
   "outputs": [
    {
     "data": {
      "text/plain": [
       "(2, 4)"
      ]
     },
     "execution_count": 16,
     "metadata": {},
     "output_type": "execute_result"
    }
   ],
   "source": [
    "my_array2.shape"
   ]
  },
  {
   "cell_type": "code",
   "execution_count": 17,
   "metadata": {},
   "outputs": [
    {
     "data": {
      "text/plain": [
       "8"
      ]
     },
     "execution_count": 17,
     "metadata": {},
     "output_type": "execute_result"
    }
   ],
   "source": [
    "my_array2.size"
   ]
  },
  {
   "cell_type": "code",
   "execution_count": 18,
   "metadata": {},
   "outputs": [
    {
     "data": {
      "text/plain": [
       "dtype('int64')"
      ]
     },
     "execution_count": 18,
     "metadata": {},
     "output_type": "execute_result"
    }
   ],
   "source": [
    "my_array2.dtype"
   ]
  },
  {
   "cell_type": "code",
   "execution_count": 19,
   "metadata": {},
   "outputs": [
    {
     "data": {
      "text/plain": [
       "[[1, 2, 3, 4], [11, 22, 33, 44]]"
      ]
     },
     "execution_count": 19,
     "metadata": {},
     "output_type": "execute_result"
    }
   ],
   "source": [
    "list_my_array2=my_array2.tolist()   #converting the array into list\n",
    "list_my_array2"
   ]
  },
  {
   "cell_type": "raw",
   "metadata": {
    "collapsed": true
   },
   "source": [
    "# Adding or Removing elements"
   ]
  },
  {
   "cell_type": "code",
   "execution_count": 4,
   "metadata": {},
   "outputs": [
    {
     "data": {
      "text/plain": [
       "array([0, 2, 4, 9, 7, 2, 4, 6, 9, 1, 3, 7, 0])"
      ]
     },
     "execution_count": 4,
     "metadata": {},
     "output_type": "execute_result"
    }
   ],
   "source": [
    "import numpy as np\n",
    "A=np.array([[0,2,4,7],\n",
    "           [2,4,6,9],\n",
    "           [1,3,7,0]])\n",
    "B=np.append(A,[4,5,6,8])\n",
    "B"
   ]
  },
  {
   "cell_type": "code",
   "execution_count": 2,
   "metadata": {},
   "outputs": [
    {
     "data": {
      "text/plain": [
       "array([0, 2, 4, 9, 7, 2, 4, 6, 9, 1, 3, 7, 0, 4, 5, 6, 8])"
      ]
     },
     "execution_count": 2,
     "metadata": {},
     "output_type": "execute_result"
    }
   ],
   "source": [
    "#inserting the value into array\n",
    "C=np.insert(B,3,9)\n",
    "C"
   ]
  },
  {
   "cell_type": "code",
   "execution_count": 25,
   "metadata": {},
   "outputs": [
    {
     "data": {
      "text/plain": [
       "array([0, 2, 4, 9, 2, 4, 6, 9, 1, 3, 7, 0, 4, 5, 6, 8])"
      ]
     },
     "execution_count": 25,
     "metadata": {},
     "output_type": "execute_result"
    }
   ],
   "source": [
    "#Deleting an element at index 4 from array\n",
    "D=np.delete(C,4,axis=0)\n",
    "D"
   ]
  },
  {
   "cell_type": "raw",
   "metadata": {
    "collapsed": true
   },
   "source": [
    "# Splitting and Combining"
   ]
  },
  {
   "cell_type": "code",
   "execution_count": 27,
   "metadata": {},
   "outputs": [
    {
     "data": {
      "text/plain": [
       "array([0, 2, 4, 7, 2, 4, 6, 9, 1, 3, 7, 0, 4, 5, 6, 8, 0, 2, 4, 9, 7, 2, 4,\n",
       "       6, 9, 1, 3, 7, 0, 4, 5, 6, 8])"
      ]
     },
     "execution_count": 27,
     "metadata": {},
     "output_type": "execute_result"
    }
   ],
   "source": [
    "#concatenate the two array\n",
    "E=np.concatenate((B,C),axis=0)\n",
    "E"
   ]
  },
  {
   "cell_type": "code",
   "execution_count": 28,
   "metadata": {},
   "outputs": [
    {
     "data": {
      "text/plain": [
       "array([[ 2,  3, 21, 13],\n",
       "       [ 5,  6, 51, 16]])"
      ]
     },
     "execution_count": 28,
     "metadata": {},
     "output_type": "execute_result"
    }
   ],
   "source": [
    "#concatenate the two array with axis 1\n",
    "arr4=np.array([[2,3],\n",
    "              [5,6]])\n",
    "arr5=np.array([[21,13],\n",
    "              [51,16]])\n",
    "F=np.concatenate((arr4,arr5),axis=1)\n",
    "F"
   ]
  },
  {
   "cell_type": "code",
   "execution_count": 29,
   "metadata": {},
   "outputs": [
    {
     "data": {
      "text/plain": [
       "[array([0, 2, 4, 7, 2, 4, 6, 9, 1, 3, 7]),\n",
       " array([0, 4, 5, 6, 8, 0, 2, 4, 9, 7, 2]),\n",
       " array([4, 6, 9, 1, 3, 7, 0, 4, 5, 6, 8])]"
      ]
     },
     "execution_count": 29,
     "metadata": {},
     "output_type": "execute_result"
    }
   ],
   "source": [
    "#splitting the array into 3 subarray\n",
    "S=np.split(E,3)\n",
    "S"
   ]
  },
  {
   "cell_type": "raw",
   "metadata": {
    "collapsed": true
   },
   "source": [
    "# Sorting and Reshaping"
   ]
  },
  {
   "cell_type": "code",
   "execution_count": 31,
   "metadata": {
    "collapsed": true
   },
   "outputs": [],
   "source": [
    "import numpy as np\n",
    "#Create array\n",
    "arr = np.arange(50).reshape((10,5))"
   ]
  },
  {
   "cell_type": "code",
   "execution_count": 32,
   "metadata": {},
   "outputs": [
    {
     "data": {
      "text/plain": [
       "array([[ 0,  1,  2,  3,  4],\n",
       "       [ 5,  6,  7,  8,  9],\n",
       "       [10, 11, 12, 13, 14],\n",
       "       [15, 16, 17, 18, 19],\n",
       "       [20, 21, 22, 23, 24],\n",
       "       [25, 26, 27, 28, 29],\n",
       "       [30, 31, 32, 33, 34],\n",
       "       [35, 36, 37, 38, 39],\n",
       "       [40, 41, 42, 43, 44],\n",
       "       [45, 46, 47, 48, 49]])"
      ]
     },
     "execution_count": 32,
     "metadata": {},
     "output_type": "execute_result"
    }
   ],
   "source": [
    "#Show\n",
    "arr"
   ]
  },
  {
   "cell_type": "code",
   "execution_count": 33,
   "metadata": {},
   "outputs": [
    {
     "data": {
      "text/plain": [
       "array([[ 0,  5, 10, 15, 20, 25, 30, 35, 40, 45],\n",
       "       [ 1,  6, 11, 16, 21, 26, 31, 36, 41, 46],\n",
       "       [ 2,  7, 12, 17, 22, 27, 32, 37, 42, 47],\n",
       "       [ 3,  8, 13, 18, 23, 28, 33, 38, 43, 48],\n",
       "       [ 4,  9, 14, 19, 24, 29, 34, 39, 44, 49]])"
      ]
     },
     "execution_count": 33,
     "metadata": {},
     "output_type": "execute_result"
    }
   ],
   "source": [
    "# transpose\n",
    "arr.T"
   ]
  },
  {
   "cell_type": "code",
   "execution_count": 34,
   "metadata": {
    "collapsed": true
   },
   "outputs": [],
   "source": [
    "#reshaping Example\n",
    "# For 3D matrix\n",
    "arr3d = np.arange(50)"
   ]
  },
  {
   "cell_type": "code",
   "execution_count": 35,
   "metadata": {},
   "outputs": [
    {
     "data": {
      "text/plain": [
       "array([ 0,  1,  2,  3,  4,  5,  6,  7,  8,  9, 10, 11, 12, 13, 14, 15, 16,\n",
       "       17, 18, 19, 20, 21, 22, 23, 24, 25, 26, 27, 28, 29, 30, 31, 32, 33,\n",
       "       34, 35, 36, 37, 38, 39, 40, 41, 42, 43, 44, 45, 46, 47, 48, 49])"
      ]
     },
     "execution_count": 35,
     "metadata": {},
     "output_type": "execute_result"
    }
   ],
   "source": [
    "#Show\n",
    "arr3d"
   ]
  },
  {
   "cell_type": "code",
   "execution_count": 36,
   "metadata": {},
   "outputs": [
    {
     "data": {
      "text/plain": [
       "array([[[ 0,  1],\n",
       "        [ 2,  3],\n",
       "        [ 4,  5],\n",
       "        [ 6,  7],\n",
       "        [ 8,  9]],\n",
       "\n",
       "       [[10, 11],\n",
       "        [12, 13],\n",
       "        [14, 15],\n",
       "        [16, 17],\n",
       "        [18, 19]],\n",
       "\n",
       "       [[20, 21],\n",
       "        [22, 23],\n",
       "        [24, 25],\n",
       "        [26, 27],\n",
       "        [28, 29]],\n",
       "\n",
       "       [[30, 31],\n",
       "        [32, 33],\n",
       "        [34, 35],\n",
       "        [36, 37],\n",
       "        [38, 39]],\n",
       "\n",
       "       [[40, 41],\n",
       "        [42, 43],\n",
       "        [44, 45],\n",
       "        [46, 47],\n",
       "        [48, 49]]])"
      ]
     },
     "execution_count": 36,
     "metadata": {},
     "output_type": "execute_result"
    }
   ],
   "source": [
    "arr3d = np.arange(50).reshape((5,5,2))\n",
    "arr3d"
   ]
  },
  {
   "cell_type": "code",
   "execution_count": 37,
   "metadata": {},
   "outputs": [
    {
     "data": {
      "text/plain": [
       "array([[0, 1, 2],\n",
       "       [3, 0, 1]])"
      ]
     },
     "execution_count": 37,
     "metadata": {},
     "output_type": "execute_result"
    }
   ],
   "source": [
    "#resizing array\n",
    "arr=np.array([[0,1],[2,3]])\n",
    "np.resize(arr,(2,3))"
   ]
  },
  {
   "cell_type": "code",
   "execution_count": 38,
   "metadata": {},
   "outputs": [
    {
     "name": "stdout",
     "output_type": "stream",
     "text": [
      "[1]\n"
     ]
    }
   ],
   "source": [
    "print(arr[0,1:])"
   ]
  },
  {
   "cell_type": "code",
   "execution_count": 5,
   "metadata": {},
   "outputs": [
    {
     "data": {
      "text/plain": [
       "array([[1, 2, 3],\n",
       "       [4, 5, 6],\n",
       "       [7, 8, 9]])"
      ]
     },
     "execution_count": 5,
     "metadata": {},
     "output_type": "execute_result"
    }
   ],
   "source": [
    "arr_2 = np.array([[1,2,3],[4,5,6],[7,8,9]])\n",
    "\n",
    "arr_2"
   ]
  },
  {
   "cell_type": "code",
   "execution_count": 6,
   "metadata": {},
   "outputs": [
    {
     "name": "stdout",
     "output_type": "stream",
     "text": [
      "[3 6]\n"
     ]
    }
   ],
   "source": [
    "print(arr_2[:2,2])"
   ]
  },
  {
   "cell_type": "code",
   "execution_count": 41,
   "metadata": {},
   "outputs": [
    {
     "name": "stdout",
     "output_type": "stream",
     "text": [
      "[1 3]\n"
     ]
    }
   ],
   "source": [
    "print(arr_2[0,::2])"
   ]
  },
  {
   "cell_type": "code",
   "execution_count": 42,
   "metadata": {},
   "outputs": [
    {
     "data": {
      "text/plain": [
       "array([6, 9, 1, 9, 9, 7, 0, 9])"
      ]
     },
     "execution_count": 42,
     "metadata": {},
     "output_type": "execute_result"
    }
   ],
   "source": [
    "arr=np.random.randint(0,10,8)\n",
    "arr"
   ]
  },
  {
   "cell_type": "code",
   "execution_count": 43,
   "metadata": {},
   "outputs": [
    {
     "data": {
      "text/plain": [
       "array([0, 1, 6, 7, 9, 9, 9, 9])"
      ]
     },
     "execution_count": 43,
     "metadata": {},
     "output_type": "execute_result"
    }
   ],
   "source": [
    "arr.sort()\n",
    "arr"
   ]
  },
  {
   "cell_type": "raw",
   "metadata": {
    "collapsed": true
   },
   "source": [
    "# Slicing"
   ]
  },
  {
   "cell_type": "code",
   "execution_count": 45,
   "metadata": {},
   "outputs": [
    {
     "data": {
      "text/plain": [
       "array([ 0,  1,  2,  3,  4,  5,  6,  7,  8,  9, 10, 11, 12])"
      ]
     },
     "execution_count": 45,
     "metadata": {},
     "output_type": "execute_result"
    }
   ],
   "source": [
    "arr_3=np.arange(13)\n",
    "arr_3"
   ]
  },
  {
   "cell_type": "code",
   "execution_count": 46,
   "metadata": {},
   "outputs": [
    {
     "data": {
      "text/plain": [
       "4"
      ]
     },
     "execution_count": 46,
     "metadata": {},
     "output_type": "execute_result"
    }
   ],
   "source": [
    "arr_3[4]"
   ]
  },
  {
   "cell_type": "code",
   "execution_count": 47,
   "metadata": {},
   "outputs": [
    {
     "data": {
      "text/plain": [
       "array([[1, 2, 3],\n",
       "       [4, 5, 6],\n",
       "       [7, 8, 9]])"
      ]
     },
     "execution_count": 47,
     "metadata": {},
     "output_type": "execute_result"
    }
   ],
   "source": [
    "arr_4 = np.array([[1,2,3],[4,5,6],[7,8,9]])\n",
    "arr_4"
   ]
  },
  {
   "cell_type": "code",
   "execution_count": 48,
   "metadata": {},
   "outputs": [
    {
     "data": {
      "text/plain": [
       "array([3, 6, 9])"
      ]
     },
     "execution_count": 48,
     "metadata": {},
     "output_type": "execute_result"
    }
   ],
   "source": [
    "arr_4[:,2]"
   ]
  },
  {
   "cell_type": "code",
   "execution_count": 49,
   "metadata": {},
   "outputs": [
    {
     "data": {
      "text/plain": [
       "6"
      ]
     },
     "execution_count": 49,
     "metadata": {},
     "output_type": "execute_result"
    }
   ],
   "source": [
    "arr_4[1,2]"
   ]
  },
  {
   "cell_type": "raw",
   "metadata": {
    "collapsed": true
   },
   "source": [
    "# Statistics"
   ]
  },
  {
   "cell_type": "code",
   "execution_count": 51,
   "metadata": {},
   "outputs": [
    {
     "data": {
      "text/plain": [
       "array([ 1, 49, 13, 25, 10, 20, 24, 32, 37, 37, 27, 12, 30,  6, 17,  3, 24,\n",
       "       35, 23, 22, 24,  2, 39,  7, 44])"
      ]
     },
     "execution_count": 51,
     "metadata": {},
     "output_type": "execute_result"
    }
   ],
   "source": [
    "import numpy as np\n",
    "arr5=np.random.randint(0,50,25)\n",
    "arr5"
   ]
  },
  {
   "cell_type": "code",
   "execution_count": 52,
   "metadata": {},
   "outputs": [
    {
     "data": {
      "text/plain": [
       "22.52"
      ]
     },
     "execution_count": 52,
     "metadata": {},
     "output_type": "execute_result"
    }
   ],
   "source": [
    "#Getting mean value\n",
    "np.mean(arr5,axis=0)"
   ]
  },
  {
   "cell_type": "code",
   "execution_count": 53,
   "metadata": {},
   "outputs": [
    {
     "data": {
      "text/plain": [
       "563"
      ]
     },
     "execution_count": 53,
     "metadata": {},
     "output_type": "execute_result"
    }
   ],
   "source": [
    "#Getting sum value\n",
    "np.sum(arr5)"
   ]
  },
  {
   "cell_type": "code",
   "execution_count": 54,
   "metadata": {},
   "outputs": [
    {
     "data": {
      "text/plain": [
       "174.4896"
      ]
     },
     "execution_count": 54,
     "metadata": {},
     "output_type": "execute_result"
    }
   ],
   "source": [
    "#Getting varience\n",
    "np.var(arr5)"
   ]
  },
  {
   "cell_type": "code",
   "execution_count": 55,
   "metadata": {},
   "outputs": [
    {
     "data": {
      "text/plain": [
       "49"
      ]
     },
     "execution_count": 55,
     "metadata": {},
     "output_type": "execute_result"
    }
   ],
   "source": [
    "#Getting max value\n",
    "np.max(arr5)"
   ]
  },
  {
   "cell_type": "code",
   "execution_count": 56,
   "metadata": {},
   "outputs": [
    {
     "data": {
      "text/plain": [
       "1"
      ]
     },
     "execution_count": 56,
     "metadata": {},
     "output_type": "execute_result"
    }
   ],
   "source": [
    "#Getting min value\n",
    "np.min(arr5)"
   ]
  },
  {
   "cell_type": "raw",
   "metadata": {
    "collapsed": true
   },
   "source": [
    "# Scalar Math"
   ]
  },
  {
   "cell_type": "code",
   "execution_count": 58,
   "metadata": {
    "collapsed": true
   },
   "outputs": [],
   "source": [
    "#creating an array\n",
    "a=np.array([[2,3],[4,5]])\n",
    "b=np.array([[12,13],[14,15]])"
   ]
  },
  {
   "cell_type": "code",
   "execution_count": 59,
   "metadata": {},
   "outputs": [
    {
     "data": {
      "text/plain": [
       "array([[3, 4],\n",
       "       [5, 6]])"
      ]
     },
     "execution_count": 59,
     "metadata": {},
     "output_type": "execute_result"
    }
   ],
   "source": [
    "#Scalar process Add 1 to each element of an array a\n",
    "np.add(a,1)"
   ]
  },
  {
   "cell_type": "code",
   "execution_count": 60,
   "metadata": {},
   "outputs": [
    {
     "data": {
      "text/plain": [
       "array([[10, 11],\n",
       "       [12, 13]])"
      ]
     },
     "execution_count": 60,
     "metadata": {},
     "output_type": "execute_result"
    }
   ],
   "source": [
    "#Scalar process Substract 2 to each element of an array b\n",
    "np.subtract(b,2)"
   ]
  },
  {
   "cell_type": "code",
   "execution_count": 61,
   "metadata": {},
   "outputs": [
    {
     "data": {
      "text/plain": [
       "array([[ 4,  6],\n",
       "       [ 8, 10]])"
      ]
     },
     "execution_count": 61,
     "metadata": {},
     "output_type": "execute_result"
    }
   ],
   "source": [
    "#Scalar process Multiply 2 to each element of an array a\n",
    "np.multiply(a,2)"
   ]
  },
  {
   "cell_type": "code",
   "execution_count": 62,
   "metadata": {},
   "outputs": [
    {
     "data": {
      "text/plain": [
       "array([[ 6. ,  6.5],\n",
       "       [ 7. ,  7.5]])"
      ]
     },
     "execution_count": 62,
     "metadata": {},
     "output_type": "execute_result"
    }
   ],
   "source": [
    "#Scalar process Divide 2 to each element of an array b\n",
    "np.divide(b,2)"
   ]
  },
  {
   "cell_type": "raw",
   "metadata": {
    "collapsed": true
   },
   "source": [
    "# Vector Math"
   ]
  },
  {
   "cell_type": "code",
   "execution_count": 64,
   "metadata": {
    "collapsed": true
   },
   "outputs": [],
   "source": [
    "#creating an array\n",
    "a1=np.array([[2,3],[4,5]])\n",
    "b1=np.array([[12,13],[14,15]])"
   ]
  },
  {
   "cell_type": "code",
   "execution_count": 65,
   "metadata": {},
   "outputs": [
    {
     "data": {
      "text/plain": [
       "array([[24, 39],\n",
       "       [56, 75]])"
      ]
     },
     "execution_count": 65,
     "metadata": {},
     "output_type": "execute_result"
    }
   ],
   "source": [
    "#Multiplication of 2D array\n",
    "a1*b1"
   ]
  },
  {
   "cell_type": "code",
   "execution_count": 66,
   "metadata": {},
   "outputs": [
    {
     "data": {
      "text/plain": [
       "array([[24, 39],\n",
       "       [56, 75]])"
      ]
     },
     "execution_count": 66,
     "metadata": {},
     "output_type": "execute_result"
    }
   ],
   "source": [
    "#Multiplication of 2D array\n",
    "np.multiply(a1,b1)"
   ]
  },
  {
   "cell_type": "code",
   "execution_count": 67,
   "metadata": {},
   "outputs": [
    {
     "data": {
      "text/plain": [
       "array([[14, 16],\n",
       "       [18, 20]])"
      ]
     },
     "execution_count": 67,
     "metadata": {},
     "output_type": "execute_result"
    }
   ],
   "source": [
    "#Addition of 2D array\n",
    "a1+b1"
   ]
  },
  {
   "cell_type": "code",
   "execution_count": 68,
   "metadata": {},
   "outputs": [
    {
     "data": {
      "text/plain": [
       "array([[14, 16],\n",
       "       [18, 20]])"
      ]
     },
     "execution_count": 68,
     "metadata": {},
     "output_type": "execute_result"
    }
   ],
   "source": [
    "#Addition of 2D array\n",
    "np.add(a1,b1)"
   ]
  },
  {
   "cell_type": "code",
   "execution_count": 69,
   "metadata": {},
   "outputs": [
    {
     "data": {
      "text/plain": [
       "array([[-10, -10],\n",
       "       [-10, -10]])"
      ]
     },
     "execution_count": 69,
     "metadata": {},
     "output_type": "execute_result"
    }
   ],
   "source": [
    "#Substraction of 2D array\n",
    "(a1-b1)"
   ]
  },
  {
   "cell_type": "code",
   "execution_count": 70,
   "metadata": {},
   "outputs": [
    {
     "data": {
      "text/plain": [
       "array([[-10, -10],\n",
       "       [-10, -10]])"
      ]
     },
     "execution_count": 70,
     "metadata": {},
     "output_type": "execute_result"
    }
   ],
   "source": [
    "#Substraction of 2D array\n",
    "np.subtract(a1,b1)"
   ]
  },
  {
   "cell_type": "code",
   "execution_count": 71,
   "metadata": {},
   "outputs": [
    {
     "data": {
      "text/plain": [
       "array([[ 0.16666667,  0.23076923],\n",
       "       [ 0.28571429,  0.33333333]])"
      ]
     },
     "execution_count": 71,
     "metadata": {},
     "output_type": "execute_result"
    }
   ],
   "source": [
    "#Division of 2D array\n",
    "(a1/b1)"
   ]
  },
  {
   "cell_type": "code",
   "execution_count": 72,
   "metadata": {},
   "outputs": [
    {
     "data": {
      "text/plain": [
       "array([[ 0.16666667,  0.23076923],\n",
       "       [ 0.28571429,  0.33333333]])"
      ]
     },
     "execution_count": 72,
     "metadata": {},
     "output_type": "execute_result"
    }
   ],
   "source": [
    "#Division of 2D array\n",
    "np.divide(a1,b1)"
   ]
  },
  {
   "cell_type": "code",
   "execution_count": 73,
   "metadata": {},
   "outputs": [
    {
     "data": {
      "text/plain": [
       "array([[ 66,  71],\n",
       "       [118, 127]])"
      ]
     },
     "execution_count": 73,
     "metadata": {},
     "output_type": "execute_result"
    }
   ],
   "source": [
    "# Dot product of 2D array\n",
    "a1.dot(b1)"
   ]
  },
  {
   "cell_type": "code",
   "execution_count": 74,
   "metadata": {},
   "outputs": [
    {
     "data": {
      "text/plain": [
       "array([[ 66,  71],\n",
       "       [118, 127]])"
      ]
     },
     "execution_count": 74,
     "metadata": {},
     "output_type": "execute_result"
    }
   ],
   "source": [
    "# Dot product of 2D array\n",
    "np.dot(a1,b1)"
   ]
  },
  {
   "cell_type": "code",
   "execution_count": 75,
   "metadata": {},
   "outputs": [
    {
     "data": {
      "text/plain": [
       "array([[ 7,  8],\n",
       "       [ 9, 10]])"
      ]
     },
     "execution_count": 75,
     "metadata": {},
     "output_type": "execute_result"
    }
   ],
   "source": [
    "#broadcasting example: Addition of scalar and 2D array\n",
    "a1+5"
   ]
  },
  {
   "cell_type": "raw",
   "metadata": {
    "collapsed": true
   },
   "source": [
    "# Pandas"
   ]
  },
  {
   "cell_type": "raw",
   "metadata": {
    "collapsed": true
   },
   "source": [
    "# Read method of pandas "
   ]
  },
  {
   "cell_type": "code",
   "execution_count": 79,
   "metadata": {},
   "outputs": [
    {
     "data": {
      "text/html": [
       "<div>\n",
       "<style>\n",
       "    .dataframe thead tr:only-child th {\n",
       "        text-align: right;\n",
       "    }\n",
       "\n",
       "    .dataframe thead th {\n",
       "        text-align: left;\n",
       "    }\n",
       "\n",
       "    .dataframe tbody tr th {\n",
       "        vertical-align: top;\n",
       "    }\n",
       "</style>\n",
       "<table border=\"1\" class=\"dataframe\">\n",
       "  <thead>\n",
       "    <tr style=\"text-align: right;\">\n",
       "      <th></th>\n",
       "      <th>This is a test</th>\n",
       "      <th>Unnamed: 1</th>\n",
       "      <th>Unnamed: 2</th>\n",
       "    </tr>\n",
       "  </thead>\n",
       "  <tbody>\n",
       "    <tr>\n",
       "      <th>0</th>\n",
       "      <td>23</td>\n",
       "      <td>6678</td>\n",
       "      <td>456</td>\n",
       "    </tr>\n",
       "    <tr>\n",
       "      <th>1</th>\n",
       "      <td>234</td>\n",
       "      <td>678</td>\n",
       "      <td>456</td>\n",
       "    </tr>\n",
       "    <tr>\n",
       "      <th>2</th>\n",
       "      <td>234</td>\n",
       "      <td>7</td>\n",
       "      <td>345</td>\n",
       "    </tr>\n",
       "    <tr>\n",
       "      <th>3</th>\n",
       "      <td>34</td>\n",
       "      <td>56</td>\n",
       "      <td>234</td>\n",
       "    </tr>\n",
       "    <tr>\n",
       "      <th>4</th>\n",
       "      <td>5</td>\n",
       "      <td>456</td>\n",
       "      <td>4365</td>\n",
       "    </tr>\n",
       "  </tbody>\n",
       "</table>\n",
       "</div>"
      ],
      "text/plain": [
       "   This is a test  Unnamed: 1  Unnamed: 2\n",
       "0              23        6678         456\n",
       "1             234         678         456\n",
       "2             234           7         345\n",
       "3              34          56         234\n",
       "4               5         456        4365"
      ]
     },
     "execution_count": 79,
     "metadata": {},
     "output_type": "execute_result"
    }
   ],
   "source": [
    "#read_csv file\n",
    "import pandas as pd\n",
    "from pandas import ExcelFile\n",
    "df = pd.read_excel('football.xlsx', sheetname='Sheet1')\n",
    "df.head()"
   ]
  },
  {
   "cell_type": "code",
   "execution_count": 80,
   "metadata": {
    "collapsed": true
   },
   "outputs": [],
   "source": [
    "# Can open csv files as a dataframe\n",
    "dframe = pd.read_csv('new.csv')"
   ]
  },
  {
   "cell_type": "code",
   "execution_count": 81,
   "metadata": {},
   "outputs": [
    {
     "data": {
      "text/plain": [
       "0             3\n",
       "1             5\n",
       "2        Singer\n",
       "3          2.71\n",
       "4          -9.4\n",
       "5    Experiment\n",
       "dtype: object"
      ]
     },
     "execution_count": 81,
     "metadata": {},
     "output_type": "execute_result"
    }
   ],
   "source": [
    "# import pandas as pd\n",
    "import pandas as pd\n",
    "s = pd.Series([3, 5, 'Singer', 2.71, -9.4, 'Experiment'])\n",
    "s"
   ]
  },
  {
   "cell_type": "code",
   "execution_count": 82,
   "metadata": {},
   "outputs": [
    {
     "data": {
      "text/plain": [
       "a             3\n",
       "d             5\n",
       "f        Singer\n",
       "h          2.71\n",
       "i          -9.4\n",
       "t    Experiment\n",
       "dtype: object"
      ]
     },
     "execution_count": 82,
     "metadata": {},
     "output_type": "execute_result"
    }
   ],
   "source": [
    "# With the given indices\n",
    "s1 = pd.Series([3, 5, 'Singer', 2.71, -9.4, 'Experiment'],  index=['a', 'd', 'f', 'h', 'i', 't'])\n",
    "s1"
   ]
  },
  {
   "cell_type": "code",
   "execution_count": 83,
   "metadata": {
    "collapsed": true
   },
   "outputs": [],
   "source": [
    "#Read Html File\n",
    "#import data \n",
    "from pandas import read_html\n",
    "import pandas as pd\n",
    "from pandas import Series, DataFrame"
   ]
  },
  {
   "cell_type": "code",
   "execution_count": 84,
   "metadata": {
    "collapsed": true
   },
   "outputs": [],
   "source": [
    "#list of failed banks url \n",
    "url_bank = 'http://www.fdic.gov/bank/individual/failed/banklist.html'\n",
    "# Grab the data from html file\n",
    "dframe_list = pd.io.html.read_html(url_bank)\n",
    "dframe=dframe_list[0]"
   ]
  },
  {
   "cell_type": "code",
   "execution_count": 12,
   "metadata": {},
   "outputs": [
    {
     "data": {
      "text/html": [
       "<div>\n",
       "<style>\n",
       "    .dataframe thead tr:only-child th {\n",
       "        text-align: right;\n",
       "    }\n",
       "\n",
       "    .dataframe thead th {\n",
       "        text-align: left;\n",
       "    }\n",
       "\n",
       "    .dataframe tbody tr th {\n",
       "        vertical-align: top;\n",
       "    }\n",
       "</style>\n",
       "<table border=\"1\" class=\"dataframe\">\n",
       "  <thead>\n",
       "    <tr style=\"text-align: right;\">\n",
       "      <th></th>\n",
       "      <th>0</th>\n",
       "      <th>1</th>\n",
       "      <th>2</th>\n",
       "    </tr>\n",
       "  </thead>\n",
       "  <tbody>\n",
       "    <tr>\n",
       "      <th>0</th>\n",
       "      <td>user1</td>\n",
       "      <td>item1</td>\n",
       "      <td>2.5</td>\n",
       "    </tr>\n",
       "    <tr>\n",
       "      <th>1</th>\n",
       "      <td>user1</td>\n",
       "      <td>item2</td>\n",
       "      <td>3.5</td>\n",
       "    </tr>\n",
       "    <tr>\n",
       "      <th>2</th>\n",
       "      <td>user1</td>\n",
       "      <td>item3</td>\n",
       "      <td>3.0</td>\n",
       "    </tr>\n",
       "    <tr>\n",
       "      <th>3</th>\n",
       "      <td>user1</td>\n",
       "      <td>item4</td>\n",
       "      <td>3.5</td>\n",
       "    </tr>\n",
       "    <tr>\n",
       "      <th>4</th>\n",
       "      <td>user1</td>\n",
       "      <td>item5</td>\n",
       "      <td>2.5</td>\n",
       "    </tr>\n",
       "    <tr>\n",
       "      <th>5</th>\n",
       "      <td>user1</td>\n",
       "      <td>item6</td>\n",
       "      <td>3.0</td>\n",
       "    </tr>\n",
       "    <tr>\n",
       "      <th>6</th>\n",
       "      <td>user2</td>\n",
       "      <td>item1</td>\n",
       "      <td>2.5</td>\n",
       "    </tr>\n",
       "    <tr>\n",
       "      <th>7</th>\n",
       "      <td>user2</td>\n",
       "      <td>item2</td>\n",
       "      <td>3.0</td>\n",
       "    </tr>\n",
       "    <tr>\n",
       "      <th>8</th>\n",
       "      <td>user2</td>\n",
       "      <td>item3</td>\n",
       "      <td>3.5</td>\n",
       "    </tr>\n",
       "    <tr>\n",
       "      <th>9</th>\n",
       "      <td>user2</td>\n",
       "      <td>item4</td>\n",
       "      <td>4.0</td>\n",
       "    </tr>\n",
       "    <tr>\n",
       "      <th>10</th>\n",
       "      <td>user3</td>\n",
       "      <td>item2</td>\n",
       "      <td>4.5</td>\n",
       "    </tr>\n",
       "    <tr>\n",
       "      <th>11</th>\n",
       "      <td>user3</td>\n",
       "      <td>item5</td>\n",
       "      <td>1.0</td>\n",
       "    </tr>\n",
       "    <tr>\n",
       "      <th>12</th>\n",
       "      <td>user3</td>\n",
       "      <td>item6</td>\n",
       "      <td>4.0</td>\n",
       "    </tr>\n",
       "  </tbody>\n",
       "</table>\n",
       "</div>"
      ],
      "text/plain": [
       "        0      1    2\n",
       "0   user1  item1  2.5\n",
       "1   user1  item2  3.5\n",
       "2   user1  item3  3.0\n",
       "3   user1  item4  3.5\n",
       "4   user1  item5  2.5\n",
       "5   user1  item6  3.0\n",
       "6   user2  item1  2.5\n",
       "7   user2  item2  3.0\n",
       "8   user2  item3  3.5\n",
       "9   user2  item4  4.0\n",
       "10  user3  item2  4.5\n",
       "11  user3  item5  1.0\n",
       "12  user3  item6  4.0"
      ]
     },
     "execution_count": 12,
     "metadata": {},
     "output_type": "execute_result"
    }
   ],
   "source": [
    "# Converting Dictionary into data frame\n",
    "import pandas\n",
    "\n",
    "sample={'user1': {'item1': 2.5, 'item2': 3.5, 'item3': 3.0, 'item4': 3.5, 'item5': 2.5, 'item6': 3.0},\n",
    "        'user2': {'item1': 2.5, 'item2': 3.0, 'item3': 3.5, 'item4': 4.0},\n",
    "        'user3': {'item2':4.5,'item5':1.0,'item6':4.0}}\n",
    "\n",
    "df = pandas.DataFrame([\n",
    "    [col1,col2,col3] for col1, d in sample.items() for col2, col3 in d.items()\n",
    "])\n",
    "df\n",
    "\n"
   ]
  },
  {
   "cell_type": "raw",
   "metadata": {
    "collapsed": true
   },
   "source": [
    "# Exporting Data"
   ]
  },
  {
   "cell_type": "code",
   "execution_count": 88,
   "metadata": {},
   "outputs": [
    {
     "name": "stdout",
     "output_type": "stream",
     "text": [
      "                                             Bank Name                City  \\\n",
      "0                                  Fayette County Bank          Saint Elmo   \n",
      "1    Guaranty Bank, (d/b/a BestBank in Georgia & Mi...           Milwaukee   \n",
      "2                                       First NBC Bank         New Orleans   \n",
      "3                                        Proficio Bank  Cottonwood Heights   \n",
      "4                        Seaway Bank and Trust Company             Chicago   \n",
      "5                               Harvest Community Bank          Pennsville   \n",
      "6                                          Allied Bank            Mulberry   \n",
      "7                         The Woodbury Banking Company            Woodbury   \n",
      "8                               First CornerStone Bank     King of Prussia   \n",
      "9                                   Trust Company Bank             Memphis   \n",
      "10                          North Milwaukee State Bank           Milwaukee   \n",
      "11                              Hometown National Bank            Longview   \n",
      "12                                 The Bank of Georgia      Peachtree City   \n",
      "13                                        Premier Bank              Denver   \n",
      "14                                      Edgebrook Bank             Chicago   \n",
      "15                              Doral Bank  En Espanol            San Juan   \n",
      "16                   Capitol City Bank & Trust Company             Atlanta   \n",
      "17                             Highland Community Bank             Chicago   \n",
      "18                    First National Bank of Crestview           Crestview   \n",
      "19                                  Northern Star Bank             Mankato   \n",
      "20              Frontier Bank, FSB D/B/A El Paseo Bank         Palm Desert   \n",
      "21               The National Republic Bank of Chicago             Chicago   \n",
      "22                                      NBRS Financial          Rising Sun   \n",
      "23                               GreenChoice Bank, fsb             Chicago   \n",
      "24                            Eastside Commercial Bank             Conyers   \n",
      "25                              The Freedom State Bank             Freedom   \n",
      "26                                         Valley Bank     Fort Lauderdale   \n",
      "27                                         Valley Bank              Moline   \n",
      "28                         Slavie Federal Savings Bank             Bel Air   \n",
      "29                               Columbia Savings Bank          Cincinnati   \n",
      "..                                                 ...                 ...   \n",
      "523                                  ANB Financial, NA         Bentonville   \n",
      "524                                          Hume Bank                Hume   \n",
      "525                             Douglass National Bank         Kansas City   \n",
      "526                                  Miami Valley Bank            Lakeview   \n",
      "527                                            NetBank          Alpharetta   \n",
      "528                          Metropolitan Savings Bank          Pittsburgh   \n",
      "529                                    Bank of Ephraim             Ephraim   \n",
      "530                                      Reliance Bank        White Plains   \n",
      "531              Guaranty National Bank of Tallahassee         Tallahassee   \n",
      "532                                Dollar Savings Bank              Newark   \n",
      "533                               Pulaski Savings Bank        Philadelphia   \n",
      "534              First National Bank of Blanchardville      Blanchardville   \n",
      "535                              Southern Pacific Bank            Torrance   \n",
      "536                        Farmers Bank of Cheneyville         Cheneyville   \n",
      "537                                      Bank of Alamo               Alamo   \n",
      "538             AmTrade International Bank  En Espanol             Atlanta   \n",
      "539                     Universal Federal Savings Bank             Chicago   \n",
      "540                       Connecticut Bank of Commerce            Stamford   \n",
      "541                                   New Century Bank     Shelby Township   \n",
      "542                              Net 1st National Bank          Boca Raton   \n",
      "543                                       NextBank, NA             Phoenix   \n",
      "544                           Oakwood Deposit Bank Co.             Oakwood   \n",
      "545                              Bank of Sierra Blanca       Sierra Blanca   \n",
      "546                      Hamilton Bank, NA  En Espanol               Miami   \n",
      "547                             Sinclair National Bank            Gravette   \n",
      "548                                 Superior Bank, FSB            Hinsdale   \n",
      "549                                Malta National Bank               Malta   \n",
      "550                    First Alliance Bank & Trust Co.          Manchester   \n",
      "551                  National State Bank of Metropolis          Metropolis   \n",
      "552                                   Bank of Honolulu            Honolulu   \n",
      "\n",
      "     ST   CERT                Acquiring Institution        Closing Date  \\\n",
      "0    IL   1802            United Fidelity Bank, fsb        May 26, 2017   \n",
      "1    WI  30003  First-Citizens Bank & Trust Company         May 5, 2017   \n",
      "2    LA  58302                         Whitney Bank      April 28, 2017   \n",
      "3    UT  35495                    Cache Valley Bank       March 3, 2017   \n",
      "4    IL  19328                  State Bank of Texas    January 27, 2017   \n",
      "5    NJ  34951  First-Citizens Bank & Trust Company    January 13, 2017   \n",
      "6    AR     91                         Today's Bank  September 23, 2016   \n",
      "7    GA  11297                          United Bank     August 19, 2016   \n",
      "8    PA  35312  First-Citizens Bank & Trust Company         May 6, 2016   \n",
      "9    TN   9956           The Bank of Fayette County      April 29, 2016   \n",
      "10   WI  20364  First-Citizens Bank & Trust Company      March 11, 2016   \n",
      "11   WA  35156                       Twin City Bank     October 2, 2015   \n",
      "12   GA  35259                        Fidelity Bank     October 2, 2015   \n",
      "13   CO  34112            United Fidelity Bank, fsb       July 10, 2015   \n",
      "14   IL  57772             Republic Bank of Chicago         May 8, 2015   \n",
      "15   PR  32102         Banco Popular de Puerto Rico   February 27, 2015   \n",
      "16   GA  33938  First-Citizens Bank & Trust Company   February 13, 2015   \n",
      "17   IL  20290            United Fidelity Bank, fsb    January 23, 2015   \n",
      "18   FL  17557                       First NBC Bank    January 16, 2015   \n",
      "19   MN  34983                            BankVista   December 19, 2014   \n",
      "20   CA  34738    Bank of Southern California, N.A.    November 7, 2014   \n",
      "21   IL    916                  State Bank of Texas    October 24, 2014   \n",
      "22   MD   4862                          Howard Bank    October 17, 2014   \n",
      "23   IL  28462                 Providence Bank, LLC       July 25, 2014   \n",
      "24   GA  58125            Community & Southern Bank       July 18, 2014   \n",
      "25   OK  12483      Alva State Bank & Trust Company       June 27, 2014   \n",
      "26   FL  21793  Landmark Bank, National Association       June 20, 2014   \n",
      "27   IL  10450                  Great Southern Bank       June 20, 2014   \n",
      "28   MD  32368                        Bay Bank, FSB        May 30, 2014   \n",
      "29   OH  32284            United Fidelity Bank, fsb        May 23, 2014   \n",
      "..   ..    ...                                  ...                 ...   \n",
      "523  AR  33901       Pulaski Bank and Trust Company         May 9, 2008   \n",
      "524  MO   1971                        Security Bank       March 7, 2008   \n",
      "525  MO  24660       Liberty Bank and Trust Company    January 25, 2008   \n",
      "526  OH  16848         The Citizens Banking Company     October 4, 2007   \n",
      "527  GA  32575                           ING DIRECT  September 28, 2007   \n",
      "528  PA  35353  Allegheny Valley Bank of Pittsburgh    February 2, 2007   \n",
      "529  UT   1249                        Far West Bank       June 25, 2004   \n",
      "530  NY  26778                     Union State Bank      March 19, 2004   \n",
      "531  FL  26838              Hancock Bank of Florida      March 12, 2004   \n",
      "532  NJ  31330                          No Acquirer   February 14, 2004   \n",
      "533  PA  27203                       Earthstar Bank   November 14, 2003   \n",
      "534  WI  11639                        The Park Bank         May 9, 2003   \n",
      "535  CA  27094                            Beal Bank    February 7, 2003   \n",
      "536  LA  16445            Sabine State Bank & Trust   December 17, 2002   \n",
      "537  TN   9961                          No Acquirer    November 8, 2002   \n",
      "538  GA  33784                          No Acquirer  September 30, 2002   \n",
      "539  IL  29355               Chicago Community Bank       June 27, 2002   \n",
      "540  CT  19183                   Hudson United Bank       June 26, 2002   \n",
      "541  MI  34979                          No Acquirer      March 28, 2002   \n",
      "542  FL  26652                       Bank Leumi USA       March 1, 2002   \n",
      "543  AZ  22314                          No Acquirer    February 7, 2002   \n",
      "544  OH   8966       The State Bank & Trust Company    February 1, 2002   \n",
      "545  TX  22002     The Security State Bank of Pecos    January 18, 2002   \n",
      "546  FL  24382     Israel Discount Bank of New York    January 11, 2002   \n",
      "547  AR  34248                   Delta Trust & Bank   September 7, 2001   \n",
      "548  IL  32646                Superior Federal, FSB       July 27, 2001   \n",
      "549  OH   6629                    North Valley Bank         May 3, 2001   \n",
      "550  NH  34264  Southern New Hampshire Bank & Trust    February 2, 2001   \n",
      "551  IL   3815              Banterra Bank of Marion   December 14, 2000   \n",
      "552  HI  21029                   Bank of the Orient    October 13, 2000   \n",
      "\n",
      "           Updated Date  \n",
      "0         July 26, 2017  \n",
      "1         July 26, 2017  \n",
      "2         July 26, 2017  \n",
      "3          May 18, 2017  \n",
      "4          May 18, 2017  \n",
      "5          May 18, 2017  \n",
      "6     November 17, 2016  \n",
      "7          June 1, 2017  \n",
      "8     September 6, 2016  \n",
      "9     September 6, 2016  \n",
      "10       March 13, 2017  \n",
      "11       April 13, 2016  \n",
      "12     October 24, 2016  \n",
      "13      August 17, 2016  \n",
      "14        July 12, 2016  \n",
      "15         May 13, 2015  \n",
      "16       April 21, 2015  \n",
      "17       April 21, 2015  \n",
      "18          May 8, 2017  \n",
      "19      January 6, 2016  \n",
      "20    November 10, 2016  \n",
      "21      January 6, 2016  \n",
      "22       March 26, 2015  \n",
      "23    December 12, 2016  \n",
      "24        July 11, 2016  \n",
      "25       March 25, 2016  \n",
      "26        June 29, 2015  \n",
      "27        June 26, 2015  \n",
      "28    December 12, 2016  \n",
      "29    November 10, 2016  \n",
      "..                  ...  \n",
      "523     August 28, 2012  \n",
      "524     August 28, 2012  \n",
      "525    October 26, 2012  \n",
      "526  September 12, 2016  \n",
      "527     August 28, 2012  \n",
      "528    October 27, 2010  \n",
      "529       April 9, 2008  \n",
      "530       April 9, 2008  \n",
      "531        June 5, 2012  \n",
      "532       April 9, 2008  \n",
      "533       July 22, 2005  \n",
      "534        June 5, 2012  \n",
      "535    October 20, 2008  \n",
      "536    October 20, 2004  \n",
      "537      March 18, 2005  \n",
      "538  September 11, 2006  \n",
      "539       April 9, 2008  \n",
      "540   February 14, 2012  \n",
      "541      March 18, 2005  \n",
      "542       April 9, 2008  \n",
      "543    February 5, 2015  \n",
      "544    October 25, 2012  \n",
      "545    November 6, 2003  \n",
      "546  September 21, 2015  \n",
      "547   February 10, 2004  \n",
      "548     August 19, 2014  \n",
      "549   November 18, 2002  \n",
      "550   February 18, 2003  \n",
      "551      March 17, 2005  \n",
      "552      March 17, 2005  \n",
      "\n",
      "[553 rows x 7 columns]\n"
     ]
    }
   ],
   "source": [
    "# Let's see dframe again\n",
    "print(dframe)"
   ]
  },
  {
   "cell_type": "code",
   "execution_count": 89,
   "metadata": {
    "collapsed": true
   },
   "outputs": [],
   "source": [
    "# Now let's see how we can write DataFrames out to text files\n",
    "dframe.to_csv('textdata_out.csv')"
   ]
  },
  {
   "cell_type": "code",
   "execution_count": 90,
   "metadata": {},
   "outputs": [
    {
     "data": {
      "text/plain": [
       "'{\"A\":{\"0\":0.3659267818,\"1\":0.2214655315,\"2\":-0.7081883866,\"3\":-1.3372013591,\"4\":-0.4267107339},\"B\":{\"0\":-1.5359485478,\"1\":0.0621061379,\"2\":-0.3699102609,\"3\":-0.5441084561,\"4\":1.248482134}}'"
      ]
     },
     "execution_count": 90,
     "metadata": {},
     "output_type": "execute_result"
    }
   ],
   "source": [
    "#Writing to json file\n",
    "import numpy as np\n",
    "import json\n",
    "dfj = pd.DataFrame(np.random.randn(5, 2), columns=list('AB'))\n",
    "json = dfj.to_json()\n",
    "json"
   ]
  },
  {
   "cell_type": "code",
   "execution_count": 91,
   "metadata": {},
   "outputs": [
    {
     "data": {
      "text/plain": [
       "[          0         1         2         3         4\n",
       " 0 -0.307341 -0.836149 -1.365991 -2.129666  1.099302\n",
       " 1  0.790957  1.417012  0.246815 -0.271792  1.128619\n",
       " 2 -0.365735 -2.153383  1.306387  0.621841 -0.222282\n",
       " 3 -0.005006  0.687077 -0.373919 -0.223170 -1.108648\n",
       " 4  0.460411 -0.250946  1.180907  0.689256 -0.805224]"
      ]
     },
     "execution_count": 91,
     "metadata": {},
     "output_type": "execute_result"
    }
   ],
   "source": [
    "#write to html \n",
    "import numpy as np\n",
    "df = pd.DataFrame(np.random.randn(5, 5))\n",
    "s = df.to_html(float_format='{0:.40g}'.format)\n",
    "dfin = pd.read_html(s, index_col=0)\n",
    "dfin"
   ]
  },
  {
   "cell_type": "code",
   "execution_count": 92,
   "metadata": {},
   "outputs": [
    {
     "name": "stdout",
     "output_type": "stream",
     "text": [
      "          a         b         c\n",
      "0 -1.026985 -0.865928 -0.526670\n",
      "1 -0.500048 -0.102747  0.615057\n",
      "2 -0.475754 -0.073578  0.472532\n",
      "3  0.098536 -0.229358  0.735441\n",
      "4  0.280504  0.998106 -0.756824\n",
      "          a         b         c\n",
      "0  1.020963 -0.732186 -0.451694\n",
      "1 -1.238864 -0.216915  2.308934\n",
      "2  0.115481 -0.557659 -1.697562\n",
      "3 -0.367606 -1.788916  0.554105\n",
      "4 -2.168305 -0.046988  1.626719\n",
      "          a         b         c\n",
      "0  1.477451  0.930764 -1.409800\n",
      "1  0.825477  0.049044 -0.500695\n",
      "2  0.635429 -0.862001 -2.646025\n",
      "3 -1.182325 -1.740961 -0.547629\n",
      "4 -0.905726  1.488734  0.101731\n",
      "          a         b         c\n",
      "0  0.440951 -0.178622  0.628068\n",
      "1 -0.667356 -0.095698  1.008501\n",
      "2 -1.057778 -0.378950 -0.411551\n",
      "3 -1.466632 -1.056545 -0.320066\n",
      "4  1.871261 -0.859750  0.503080\n"
     ]
    }
   ],
   "source": [
    "#Writing to sql\n",
    "from sqlalchemy import create_engine\n",
    "#Creating an engine\n",
    "engine = create_engine('sqlite:///:memory:')\n",
    "#Creating Data Frame\n",
    "df = pd.DataFrame(np.random.randn(20, 3), columns=list('abc'))\n",
    "df.to_sql('data_chunks', engine, index=False)\n",
    "for chunk in pd.read_sql_query(\"SELECT * FROM data_chunks\", engine,chunksize=5):\n",
    "        print(chunk)"
   ]
  },
  {
   "cell_type": "code",
   "execution_count": 93,
   "metadata": {
    "collapsed": true
   },
   "outputs": [],
   "source": [
    "# Inspecting data"
   ]
  },
  {
   "cell_type": "code",
   "execution_count": 94,
   "metadata": {},
   "outputs": [
    {
     "name": "stdout",
     "output_type": "stream",
     "text": [
      "   year       city  weight  height\n",
      "0  2012      Delhi     2.5      50\n",
      "1  2013  Bangalore     8.0      70\n",
      "2  2014     Mumbai    12.5      90\n",
      "3  2015       Pune    14.0     100\n",
      "4  2016  Bangalore    16.0     110\n",
      "5  2017     London    25.0     120\n"
     ]
    }
   ],
   "source": [
    "kid_diction = {'year': [2012, 2013, 2014,2015,2016,2017],\n",
    "        'city': ['Delhi', 'Bangalore', 'Mumbai', 'Pune', 'Bangalore', 'London'],\n",
    "        'weight': [2.5, 8, 12.5, 14, 16, 25],\n",
    "        'height': [50, 70, 90, 100, 110, 120]}\n",
    "kid = pd.DataFrame(kid_diction, columns=['year', 'city', 'weight', 'height'])\n",
    "print(kid)"
   ]
  },
  {
   "cell_type": "code",
   "execution_count": 95,
   "metadata": {},
   "outputs": [
    {
     "data": {
      "text/html": [
       "<div>\n",
       "<style>\n",
       "    .dataframe thead tr:only-child th {\n",
       "        text-align: right;\n",
       "    }\n",
       "\n",
       "    .dataframe thead th {\n",
       "        text-align: left;\n",
       "    }\n",
       "\n",
       "    .dataframe tbody tr th {\n",
       "        vertical-align: top;\n",
       "    }\n",
       "</style>\n",
       "<table border=\"1\" class=\"dataframe\">\n",
       "  <thead>\n",
       "    <tr style=\"text-align: right;\">\n",
       "      <th></th>\n",
       "      <th>year</th>\n",
       "      <th>city</th>\n",
       "      <th>weight</th>\n",
       "      <th>height</th>\n",
       "    </tr>\n",
       "  </thead>\n",
       "  <tbody>\n",
       "    <tr>\n",
       "      <th>0</th>\n",
       "      <td>2012</td>\n",
       "      <td>Delhi</td>\n",
       "      <td>2.5</td>\n",
       "      <td>50</td>\n",
       "    </tr>\n",
       "    <tr>\n",
       "      <th>1</th>\n",
       "      <td>2013</td>\n",
       "      <td>Bangalore</td>\n",
       "      <td>8.0</td>\n",
       "      <td>70</td>\n",
       "    </tr>\n",
       "  </tbody>\n",
       "</table>\n",
       "</div>"
      ],
      "text/plain": [
       "   year       city  weight  height\n",
       "0  2012      Delhi     2.5      50\n",
       "1  2013  Bangalore     8.0      70"
      ]
     },
     "execution_count": 95,
     "metadata": {},
     "output_type": "execute_result"
    }
   ],
   "source": [
    "kid.head(2)"
   ]
  },
  {
   "cell_type": "code",
   "execution_count": 96,
   "metadata": {},
   "outputs": [
    {
     "name": "stdout",
     "output_type": "stream",
     "text": [
      "   year       city  weight  height\n",
      "4  2016  Bangalore    16.0     110\n",
      "5  2017     London    25.0     120\n"
     ]
    }
   ],
   "source": [
    "print(kid.tail(2))"
   ]
  },
  {
   "cell_type": "code",
   "execution_count": 97,
   "metadata": {},
   "outputs": [
    {
     "name": "stdout",
     "output_type": "stream",
     "text": [
      "<class 'pandas.core.frame.DataFrame'>\n",
      "RangeIndex: 6 entries, 0 to 5\n",
      "Data columns (total 4 columns):\n",
      "year      6 non-null int64\n",
      "city      6 non-null object\n",
      "weight    6 non-null float64\n",
      "height    6 non-null int64\n",
      "dtypes: float64(1), int64(2), object(1)\n",
      "memory usage: 272.0+ bytes\n"
     ]
    }
   ],
   "source": [
    "kid.info()"
   ]
  },
  {
   "cell_type": "code",
   "execution_count": 98,
   "metadata": {},
   "outputs": [
    {
     "name": "stdout",
     "output_type": "stream",
     "text": [
      "              year     weight     height\n",
      "count     6.000000   6.000000    6.00000\n",
      "mean   2014.500000  13.000000   90.00000\n",
      "std       1.870829   7.609205   26.07681\n",
      "min    2012.000000   2.500000   50.00000\n",
      "25%    2013.250000   9.125000   75.00000\n",
      "50%    2014.500000  13.250000   95.00000\n",
      "75%    2015.750000  15.500000  107.50000\n",
      "max    2017.000000  25.000000  120.00000\n"
     ]
    }
   ],
   "source": [
    "print(kid.describe())"
   ]
  },
  {
   "cell_type": "code",
   "execution_count": 100,
   "metadata": {
    "collapsed": true
   },
   "outputs": [],
   "source": [
    "# Selecting Data"
   ]
  },
  {
   "cell_type": "code",
   "execution_count": 101,
   "metadata": {},
   "outputs": [
    {
     "name": "stdout",
     "output_type": "stream",
     "text": [
      "   year       city\n",
      "0  2012      Delhi\n",
      "1  2013  Bangalore\n",
      "2  2014     Mumbai\n",
      "3  2015       Pune\n"
     ]
    }
   ],
   "source": [
    "print(kid.iloc[0:4, :2])"
   ]
  },
  {
   "cell_type": "code",
   "execution_count": 102,
   "metadata": {},
   "outputs": [
    {
     "name": "stdout",
     "output_type": "stream",
     "text": [
      "0        Delhi\n",
      "1    Bangalore\n",
      "2       Mumbai\n",
      "3         Pune\n",
      "4    Bangalore\n",
      "5       London\n",
      "Name: city, dtype: object\n"
     ]
    }
   ],
   "source": [
    "print(kid['city'])"
   ]
  },
  {
   "cell_type": "code",
   "execution_count": 103,
   "metadata": {},
   "outputs": [
    {
     "data": {
      "text/plain": [
       "78.0"
      ]
     },
     "execution_count": 103,
     "metadata": {},
     "output_type": "execute_result"
    }
   ],
   "source": [
    "kid['weight'].sum()"
   ]
  },
  {
   "cell_type": "code",
   "execution_count": 104,
   "metadata": {},
   "outputs": [
    {
     "name": "stdout",
     "output_type": "stream",
     "text": [
      "            year    weight    height\n",
      "year    1.000000  0.969406  0.983904\n",
      "weight  0.969406  1.000000  0.957546\n",
      "height  0.983904  0.957546  1.000000\n"
     ]
    }
   ],
   "source": [
    "print(kid.corr())"
   ]
  },
  {
   "cell_type": "code",
   "execution_count": 105,
   "metadata": {},
   "outputs": [
    {
     "name": "stdout",
     "output_type": "stream",
     "text": [
      "   year  weight  height\n",
      "0  2012     2.5      50\n",
      "1  2013     8.0      70\n",
      "2  2014    12.5      90\n",
      "3  2015    14.0     100\n",
      "4  2016    16.0     110\n",
      "5  2017    25.0     120\n"
     ]
    }
   ],
   "source": [
    "print(kid.drop('city', axis= 1)) # removing city column , axis =1 means column"
   ]
  },
  {
   "cell_type": "code",
   "execution_count": 106,
   "metadata": {},
   "outputs": [
    {
     "name": "stdout",
     "output_type": "stream",
     "text": [
      "   year       city  weight  height BestFriend\n",
      "0  2012      Delhi     2.5      50        Mom\n",
      "1  2013  Bangalore     8.0      70        Dad\n",
      "2  2014     Mumbai    12.5      90      Bunty\n",
      "3  2015       Pune    14.0     100      Jimmy\n",
      "4  2016  Bangalore    16.0     110     Chintu\n",
      "5  2017     London    25.0     120      Julie\n"
     ]
    }
   ],
   "source": [
    "kid['BestFriend'] = ['Mom','Dad','Bunty','Jimmy','Chintu','Julie'] # Adding a new column\n",
    "print(kid)"
   ]
  },
  {
   "cell_type": "code",
   "execution_count": 107,
   "metadata": {
    "collapsed": true
   },
   "outputs": [],
   "source": [
    "# Cleaning Data"
   ]
  },
  {
   "cell_type": "code",
   "execution_count": 108,
   "metadata": {
    "collapsed": true
   },
   "outputs": [],
   "source": [
    "import numpy as np\n",
    "from pandas import Series,DataFrame\n",
    "import pandas as pd\n",
    "#Now we'll learn how to deal with missing data, a very common task when analyzing datasets!\n",
    "data = Series(['one','two', np.nan, 'four'])"
   ]
  },
  {
   "cell_type": "code",
   "execution_count": 109,
   "metadata": {},
   "outputs": [
    {
     "data": {
      "text/plain": [
       "0     one\n",
       "1     two\n",
       "2     NaN\n",
       "3    four\n",
       "dtype: object"
      ]
     },
     "execution_count": 109,
     "metadata": {},
     "output_type": "execute_result"
    }
   ],
   "source": [
    "#Show data\n",
    "data"
   ]
  },
  {
   "cell_type": "code",
   "execution_count": 110,
   "metadata": {},
   "outputs": [
    {
     "data": {
      "text/plain": [
       "0    False\n",
       "1    False\n",
       "2     True\n",
       "3    False\n",
       "dtype: bool"
      ]
     },
     "execution_count": 110,
     "metadata": {},
     "output_type": "execute_result"
    }
   ],
   "source": [
    "#Find the missing values\n",
    "data.isnull()"
   ]
  },
  {
   "cell_type": "code",
   "execution_count": 111,
   "metadata": {},
   "outputs": [
    {
     "data": {
      "text/plain": [
       "0     one\n",
       "1     two\n",
       "3    four\n",
       "dtype: object"
      ]
     },
     "execution_count": 111,
     "metadata": {},
     "output_type": "execute_result"
    }
   ],
   "source": [
    "#We can simply drop the NAN \n",
    "data.dropna()"
   ]
  },
  {
   "cell_type": "code",
   "execution_count": 16,
   "metadata": {},
   "outputs": [],
   "source": [
    "# In a DataFrame we need to be a little more careful!\n",
    "import pandas as pd\n",
    "dframe = pd.DataFrame([[1,2,3],[np.nan,5,6],[7,np.nan,9],[np.nan,np.nan,np.nan]])"
   ]
  },
  {
   "cell_type": "code",
   "execution_count": 17,
   "metadata": {},
   "outputs": [
    {
     "name": "stdout",
     "output_type": "stream",
     "text": [
      "     0    1    2\n",
      "0  1.0  2.0  3.0\n",
      "1  NaN  5.0  6.0\n",
      "2  7.0  NaN  9.0\n",
      "3  NaN  NaN  NaN\n"
     ]
    }
   ],
   "source": [
    "#Show\n",
    "print(dframe)"
   ]
  },
  {
   "cell_type": "code",
   "execution_count": 18,
   "metadata": {
    "collapsed": true
   },
   "outputs": [],
   "source": [
    "clean_dframe = dframe.dropna()"
   ]
  },
  {
   "cell_type": "code",
   "execution_count": 19,
   "metadata": {},
   "outputs": [
    {
     "name": "stdout",
     "output_type": "stream",
     "text": [
      "     0    1    2\n",
      "0  1.0  2.0  3.0\n"
     ]
    }
   ],
   "source": [
    "#Show\n",
    "print(clean_dframe)"
   ]
  },
  {
   "cell_type": "code",
   "execution_count": 20,
   "metadata": {},
   "outputs": [
    {
     "name": "stdout",
     "output_type": "stream",
     "text": [
      "     0    1    2\n",
      "0  1.0  2.0  3.0\n",
      "1  NaN  5.0  6.0\n",
      "2  7.0  NaN  9.0\n"
     ]
    }
   ],
   "source": [
    "#We can also specify to only drop rows that are complete missing all data\n",
    "print(dframe.dropna(how='all'))"
   ]
  },
  {
   "cell_type": "code",
   "execution_count": 21,
   "metadata": {},
   "outputs": [
    {
     "name": "stdout",
     "output_type": "stream",
     "text": [
      "Empty DataFrame\n",
      "Columns: []\n",
      "Index: [0, 1, 2, 3]\n"
     ]
    }
   ],
   "source": [
    "#Or we can specify to drop columns with missing data\n",
    "print(dframe.dropna(axis=1))"
   ]
  },
  {
   "cell_type": "code",
   "execution_count": 118,
   "metadata": {
    "collapsed": true
   },
   "outputs": [],
   "source": [
    "#Empty DataFrame\n",
    "Columns: []\n",
    "Index: [0, 1, 2, 3]"
   ]
  },
  {
   "cell_type": "code",
   "execution_count": 119,
   "metadata": {
    "collapsed": true
   },
   "outputs": [],
   "source": [
    "#For example if we only want rows with at least 3 data points\n",
    "dframe2 = DataFrame([[1,2,3,np.nan],[2,np.nan,5,6],[np.nan,7,np.nan,9],[1,np.nan,np.nan,np.nan]])"
   ]
  },
  {
   "cell_type": "code",
   "execution_count": 120,
   "metadata": {},
   "outputs": [
    {
     "name": "stdout",
     "output_type": "stream",
     "text": [
      "     0    1    2    3\n",
      "0  1.0  2.0  3.0  NaN\n",
      "1  2.0  NaN  5.0  6.0\n",
      "2  NaN  7.0  NaN  9.0\n",
      "3  1.0  NaN  NaN  NaN\n"
     ]
    }
   ],
   "source": [
    "#Show\n",
    "print(dframe2)"
   ]
  },
  {
   "cell_type": "code",
   "execution_count": 121,
   "metadata": {},
   "outputs": [
    {
     "name": "stdout",
     "output_type": "stream",
     "text": [
      "     0    1    2    3\n",
      "0  1.0  2.0  3.0  NaN\n",
      "1  2.0  NaN  5.0  6.0\n",
      "2  NaN  7.0  NaN  9.0\n"
     ]
    }
   ],
   "source": [
    "#Droppin any rows tht dont have at least 2 data points\n",
    "print(dframe2.dropna(thresh=2))"
   ]
  },
  {
   "cell_type": "code",
   "execution_count": 122,
   "metadata": {},
   "outputs": [
    {
     "name": "stdout",
     "output_type": "stream",
     "text": [
      "     0    1    2    3\n",
      "0  1.0  2.0  3.0  NaN\n",
      "1  2.0  NaN  5.0  6.0\n"
     ]
    }
   ],
   "source": [
    "#Dropiing rows without at least 3 data points\n",
    "print(dframe2.dropna(thresh=3))"
   ]
  },
  {
   "cell_type": "code",
   "execution_count": 123,
   "metadata": {},
   "outputs": [
    {
     "name": "stdout",
     "output_type": "stream",
     "text": [
      "     0    1    2    3\n",
      "0  1.0  2.0  3.0  1.0\n",
      "1  2.0  1.0  5.0  6.0\n",
      "2  1.0  7.0  1.0  9.0\n",
      "3  1.0  1.0  1.0  1.0\n"
     ]
    }
   ],
   "source": [
    "#We can also fill any NAN\n",
    "print(dframe2.fillna(1))"
   ]
  },
  {
   "cell_type": "code",
   "execution_count": 124,
   "metadata": {},
   "outputs": [
    {
     "name": "stdout",
     "output_type": "stream",
     "text": [
      "     0    1    2    3\n",
      "0  1.0  2.0  3.0  3.0\n",
      "1  2.0  1.0  5.0  6.0\n",
      "2  0.0  7.0  2.0  9.0\n",
      "3  1.0  1.0  2.0  3.0\n"
     ]
    }
   ],
   "source": [
    "#Can also fill in diff values for diff columns\n",
    "print(dframe2.fillna({0:0,1:1,2:2,3:3}))"
   ]
  },
  {
   "cell_type": "code",
   "execution_count": 125,
   "metadata": {},
   "outputs": [
    {
     "name": "stdout",
     "output_type": "stream",
     "text": [
      "     0    1    2    3\n",
      "0  1.0  2.0  3.0  NaN\n",
      "1  2.0  NaN  5.0  6.0\n",
      "2  NaN  7.0  NaN  9.0\n",
      "3  1.0  NaN  NaN  NaN\n"
     ]
    }
   ],
   "source": [
    "#Note that we still have access to the original dframe\n",
    "print(dframe2)"
   ]
  },
  {
   "cell_type": "code",
   "execution_count": 126,
   "metadata": {},
   "outputs": [
    {
     "name": "stdout",
     "output_type": "stream",
     "text": [
      "     0    1    2    3\n",
      "0  1.0  2.0  3.0  0.0\n",
      "1  2.0  0.0  5.0  6.0\n",
      "2  0.0  7.0  0.0  9.0\n",
      "3  1.0  0.0  0.0  0.0\n"
     ]
    }
   ],
   "source": [
    "#If we want to modify the exsisting object, use inplace\n",
    "dframe2.fillna(0,inplace=True)\n",
    "#Now let's see the dframe\n",
    "print(dframe2)"
   ]
  },
  {
   "cell_type": "code",
   "execution_count": 127,
   "metadata": {},
   "outputs": [
    {
     "name": "stdout",
     "output_type": "stream",
     "text": [
      "     0    1    2    3\n",
      "0  one  2.0  3.0  0.0\n",
      "1    2  0.0  5.0  6.0\n",
      "2    0  7.0  0.0  9.0\n",
      "3  one  0.0  0.0  0.0\n"
     ]
    }
   ],
   "source": [
    "print(dframe2.replace(1,'one'))"
   ]
  },
  {
   "cell_type": "code",
   "execution_count": 128,
   "metadata": {},
   "outputs": [
    {
     "name": "stdout",
     "output_type": "stream",
     "text": [
      "     0    1      2\n",
      "0  1.0  two  three\n",
      "1  NaN    5      6\n",
      "2  7.0  NaN      9\n",
      "3  NaN  NaN    NaN\n"
     ]
    }
   ],
   "source": [
    "print(dframe.replace([2,3],['two','three']))"
   ]
  },
  {
   "cell_type": "code",
   "execution_count": 129,
   "metadata": {
    "collapsed": true
   },
   "outputs": [],
   "source": [
    "# Filtering , Sorting ,Grouping"
   ]
  },
  {
   "cell_type": "code",
   "execution_count": 130,
   "metadata": {
    "collapsed": true
   },
   "outputs": [],
   "source": [
    "import numpy as np\n",
    "import pandas as pd\n",
    "from pandas import DataFrame, Series"
   ]
  },
  {
   "cell_type": "code",
   "execution_count": 25,
   "metadata": {},
   "outputs": [
    {
     "name": "stdout",
     "output_type": "stream",
     "text": [
      "   dataset1  dataset2 k1     k2\n",
      "0 -0.067187  0.789814  X  alpha\n",
      "1 -0.465575 -1.379472  X   beta\n",
      "2 -0.484255 -0.293089  Y  alpha\n",
      "3  0.259449 -0.894750  Y   beta\n",
      "4  0.286754  0.605637  Z  alpha\n"
     ]
    },
    {
     "data": {
      "text/plain": [
       "0   -0.067187\n",
       "1   -0.465575\n",
       "2   -0.484255\n",
       "3    0.259449\n",
       "4    0.286754\n",
       "Name: dataset1, dtype: float64"
      ]
     },
     "execution_count": 25,
     "metadata": {},
     "output_type": "execute_result"
    }
   ],
   "source": [
    "#Let's make a dframe\n",
    "dframe = pd.DataFrame({'k1':['X','X','Y','Y','Z'],\n",
    "                    'k2':['alpha','beta','alpha','beta','alpha'],\n",
    "                    'dataset1':np.random.randn(5),\n",
    "                    'dataset2':np.random.randn(5)})\n",
    "\n",
    "#Show\n",
    "print(dframe)\n",
    "dframe['dataset1']"
   ]
  },
  {
   "cell_type": "code",
   "execution_count": 32,
   "metadata": {},
   "outputs": [
    {
     "data": {
      "text/plain": [
       "k1\n",
       "X   -0.266381\n",
       "Y   -0.112403\n",
       "Z    0.286754\n",
       "Name: dataset1, dtype: float64"
      ]
     },
     "execution_count": 32,
     "metadata": {},
     "output_type": "execute_result"
    }
   ],
   "source": [
    "#Lets grab the dataset1 column and group it by the k1 key\n",
    "group1 = dframe['dataset1'].groupby(dframe['k1'])\n",
    "#Show the groupby object\n",
    "group1"
   ]
  },
  {
   "cell_type": "code",
   "execution_count": 33,
   "metadata": {},
   "outputs": [
    {
     "data": {
      "text/plain": [
       "k1\n",
       "X   -0.266381\n",
       "Y   -0.112403\n",
       "Z    0.286754\n",
       "Name: dataset1, dtype: float64"
      ]
     },
     "execution_count": 33,
     "metadata": {},
     "output_type": "execute_result"
    }
   ],
   "source": [
    "#Now we can perform operations on this particular group\n",
    "group1.mean()"
   ]
  },
  {
   "cell_type": "code",
   "execution_count": 35,
   "metadata": {
    "collapsed": true
   },
   "outputs": [],
   "source": [
    "#We'll make some arrays for use as keys\n",
    "cities = np.array(['NY','LA','LA','NY','NY'])\n",
    "month = np.array(['JAN','FEB','JAN','FEB','JAN'])"
   ]
  },
  {
   "cell_type": "code",
   "execution_count": 36,
   "metadata": {},
   "outputs": [
    {
     "data": {
      "text/plain": [
       "LA  FEB   -0.465575\n",
       "    JAN   -0.484255\n",
       "NY  FEB    0.259449\n",
       "    JAN    0.109783\n",
       "Name: dataset1, dtype: float64"
      ]
     },
     "execution_count": 36,
     "metadata": {},
     "output_type": "execute_result"
    }
   ],
   "source": [
    "#Now using the data from dataset1, group the means by city and month\n",
    "dframe['dataset1'].groupby([cities,month]).mean()"
   ]
  },
  {
   "cell_type": "code",
   "execution_count": 136,
   "metadata": {},
   "outputs": [
    {
     "name": "stdout",
     "output_type": "stream",
     "text": [
      "   dataset1  dataset2 k1     k2\n",
      "0 -0.113152  1.034727  X  alpha\n",
      "1  0.345732 -0.172638  X   beta\n",
      "2  0.131448 -1.369575  Y  alpha\n",
      "3 -0.055597  1.245758  Y   beta\n",
      "4  0.840971 -1.005069  Z  alpha\n"
     ]
    }
   ],
   "source": [
    "# let's see the original dframe again.\n",
    "print(dframe)"
   ]
  },
  {
   "cell_type": "code",
   "execution_count": 137,
   "metadata": {},
   "outputs": [
    {
     "name": "stdout",
     "output_type": "stream",
     "text": [
      "    dataset1  dataset2\n",
      "k1                    \n",
      "X   0.116290  0.431045\n",
      "Y   0.037925 -0.061908\n",
      "Z   0.840971 -1.005069\n"
     ]
    }
   ],
   "source": [
    "# WE can also pass column names as group keys\n",
    "print(dframe.groupby('k1').mean())"
   ]
  },
  {
   "cell_type": "code",
   "execution_count": 138,
   "metadata": {},
   "outputs": [
    {
     "name": "stdout",
     "output_type": "stream",
     "text": [
      "          dataset1  dataset2\n",
      "k1 k2                       \n",
      "X  alpha -0.113152  1.034727\n",
      "   beta   0.345732 -0.172638\n",
      "Y  alpha  0.131448 -1.369575\n",
      "   beta  -0.055597  1.245758\n",
      "Z  alpha  0.840971 -1.005069\n"
     ]
    }
   ],
   "source": [
    "# Or multiple column names\n",
    "print(dframe.groupby(['k1','k2']).mean())"
   ]
  },
  {
   "cell_type": "code",
   "execution_count": 139,
   "metadata": {},
   "outputs": [
    {
     "data": {
      "text/plain": [
       "k1\n",
       "X    2\n",
       "Y    2\n",
       "Z    1\n",
       "dtype: int64"
      ]
     },
     "execution_count": 139,
     "metadata": {},
     "output_type": "execute_result"
    }
   ],
   "source": [
    "# Another useful groupby method is getting the group sizes\n",
    "dframe.groupby(['k1']).size()"
   ]
  },
  {
   "cell_type": "code",
   "execution_count": 140,
   "metadata": {
    "collapsed": true
   },
   "outputs": [],
   "source": [
    "# merge data sets by linking rows by keys.\n",
    "import numpy as np\n",
    "import pandas as pd\n",
    "from pandas import Series, DataFrame"
   ]
  },
  {
   "cell_type": "code",
   "execution_count": 141,
   "metadata": {},
   "outputs": [
    {
     "name": "stdout",
     "output_type": "stream",
     "text": [
      "   data_set_1 key\n",
      "0           0   X\n",
      "1           1   Z\n",
      "2           2   Y\n",
      "3           3   Z\n",
      "4           4   X\n",
      "5           5   X\n"
     ]
    }
   ],
   "source": [
    "# Let's make a dframe\n",
    "dframe1 = DataFrame({'key':['X','Z','Y','Z','X','X'],'data_set_1': np.arange(6)})\n",
    "#Show\n",
    "print(dframe1)"
   ]
  },
  {
   "cell_type": "code",
   "execution_count": 142,
   "metadata": {},
   "outputs": [
    {
     "name": "stdout",
     "output_type": "stream",
     "text": [
      "   data_set_2 key\n",
      "0           1   Q\n",
      "1           2   Y\n",
      "2           3   Z\n"
     ]
    }
   ],
   "source": [
    "#Now lets make another dframe\n",
    "dframe2 = DataFrame({'key':['Q','Y','Z'],'data_set_2':[1,2,3]})\n",
    "#Show\n",
    "print(dframe2)"
   ]
  },
  {
   "cell_type": "code",
   "execution_count": 143,
   "metadata": {},
   "outputs": [
    {
     "name": "stdout",
     "output_type": "stream",
     "text": [
      "   data_set_1 key  data_set_2\n",
      "0           1   Z           3\n",
      "1           3   Z           3\n",
      "2           2   Y           2\n"
     ]
    }
   ],
   "source": [
    "# Merge will automatically choose overlapping columns to merge on\n",
    "print(pd.merge(dframe1,dframe2))"
   ]
  },
  {
   "cell_type": "code",
   "execution_count": 144,
   "metadata": {},
   "outputs": [
    {
     "name": "stdout",
     "output_type": "stream",
     "text": [
      "   data_set_1 key  data_set_2\n",
      "0           1   Z           3\n",
      "1           3   Z           3\n",
      "2           2   Y           2\n"
     ]
    }
   ],
   "source": [
    "# We could have also specified which column to merge on\n",
    "print(pd.merge(dframe1,dframe2,on='key'))"
   ]
  },
  {
   "cell_type": "code",
   "execution_count": 145,
   "metadata": {},
   "outputs": [
    {
     "name": "stdout",
     "output_type": "stream",
     "text": [
      "   data_set_1 key  data_set_2\n",
      "0           0   X         NaN\n",
      "1           1   Z         3.0\n",
      "2           2   Y         2.0\n",
      "3           3   Z         3.0\n",
      "4           4   X         NaN\n",
      "5           5   X         NaN\n"
     ]
    }
   ],
   "source": [
    "# We can choose which DataFrame's keys to use\n",
    "print(pd.merge(dframe1,dframe2,on='key',how='left'))"
   ]
  },
  {
   "cell_type": "code",
   "execution_count": 146,
   "metadata": {},
   "outputs": [
    {
     "name": "stdout",
     "output_type": "stream",
     "text": [
      "   data_set_1 key  data_set_2\n",
      "0         1.0   Z           3\n",
      "1         3.0   Z           3\n",
      "2         2.0   Y           2\n",
      "3         NaN   Q           1\n"
     ]
    }
   ],
   "source": [
    "# Choosing the one on the right (dframe2)\n",
    "print(pd.merge(dframe1,dframe2,on='key',how='right'))"
   ]
  },
  {
   "cell_type": "code",
   "execution_count": 147,
   "metadata": {},
   "outputs": [
    {
     "name": "stdout",
     "output_type": "stream",
     "text": [
      "   data_set_1 key  data_set_2\n",
      "0         0.0   X         NaN\n",
      "1         4.0   X         NaN\n",
      "2         5.0   X         NaN\n",
      "3         1.0   Z         3.0\n",
      "4         3.0   Z         3.0\n",
      "5         2.0   Y         2.0\n",
      "6         NaN   Q         1.0\n"
     ]
    }
   ],
   "source": [
    "#Choosing the \"outer\" method selects the union of both keys\n",
    "print(pd.merge(dframe1,dframe2,on='key',how='outer'))"
   ]
  },
  {
   "cell_type": "code",
   "execution_count": 148,
   "metadata": {},
   "outputs": [
    {
     "name": "stdout",
     "output_type": "stream",
     "text": [
      "   data_set_3 key  data_set_4\n",
      "0           0   X           2\n",
      "1           0   X           3\n",
      "2           1   X           2\n",
      "3           1   X           3\n",
      "4           2   X           2\n",
      "5           2   X           3\n",
      "6           3   Y           0\n",
      "7           3   Y           1\n",
      "8           4   Z           4\n",
      "9           5   Z           4\n"
     ]
    }
   ],
   "source": [
    "# Nnote that these DataFrames contain more than one instance of the key in BOTH datasets\n",
    "dframe3 = DataFrame({'key': ['X', 'X', 'X', 'Y', 'Z', 'Z'],\n",
    "                 'data_set_3': range(6)})\n",
    "dframe4 = DataFrame({'key': ['Y', 'Y', 'X', 'X', 'Z'],\n",
    "                 'data_set_4': range(5)})\n",
    "#Show the merge\n",
    "print(pd.merge(dframe3, dframe4))"
   ]
  },
  {
   "cell_type": "code",
   "execution_count": 39,
   "metadata": {},
   "outputs": [
    {
     "name": "stdout",
     "output_type": "stream",
     "text": [
      "  key1 key2  left_data  right_data\n",
      "0   SF  one       10.0        40.0\n",
      "1   SF  one       10.0        50.0\n",
      "2   SF  two       20.0         NaN\n",
      "3   LA  one       30.0        60.0\n",
      "4   LA  two        NaN        70.0\n"
     ]
    }
   ],
   "source": [
    "# Dframe on left\n",
    "import pandas as pd\n",
    "df_left = pd.DataFrame({'key1': ['SF', 'SF', 'LA'],\n",
    "                  'key2': ['one', 'two', 'one'],\n",
    "                  'left_data': [10,20,30]})\n",
    "#Dframe on right\n",
    "df_right = pd.DataFrame({'key1': ['SF', 'SF', 'LA', 'LA'],\n",
    "                   'key2': ['one', 'one', 'one', 'two'],\n",
    "                   'right_data': [40,50,60,70]})\n",
    "#Merge\n",
    "print(pd.merge(df_left, df_right, on=['key1', 'key2'], how='outer'))"
   ]
  },
  {
   "cell_type": "code",
   "execution_count": 150,
   "metadata": {},
   "outputs": [
    {
     "name": "stdout",
     "output_type": "stream",
     "text": [
      "  key1 key2_x  left_data key2_y  right_data\n",
      "0   SF    one         10    one          40\n",
      "1   SF    one         10    one          50\n",
      "2   SF    two         20    one          40\n",
      "3   SF    two         20    one          50\n",
      "4   LA    one         30    one          60\n",
      "5   LA    one         30    two          70\n"
     ]
    }
   ],
   "source": [
    "# pandas automatically adds suffixes to them\n",
    "print(pd.merge(df_left,df_right,on='key1'))"
   ]
  },
  {
   "cell_type": "code",
   "execution_count": 151,
   "metadata": {},
   "outputs": [
    {
     "name": "stdout",
     "output_type": "stream",
     "text": [
      "  key1 key2_lefty  left_data key2_righty  right_data\n",
      "0   SF        one         10         one          40\n",
      "1   SF        one         10         one          50\n",
      "2   SF        two         20         one          40\n",
      "3   SF        two         20         one          50\n",
      "4   LA        one         30         one          60\n",
      "5   LA        one         30         two          70\n"
     ]
    }
   ],
   "source": [
    "# We can also specify what the suffix becomes\n",
    "print(pd.merge(df_left,df_right, on='key1',suffixes=('_lefty','_righty')))"
   ]
  },
  {
   "cell_type": "code",
   "execution_count": 152,
   "metadata": {
    "collapsed": true
   },
   "outputs": [],
   "source": [
    "# Statistics"
   ]
  },
  {
   "cell_type": "code",
   "execution_count": 153,
   "metadata": {},
   "outputs": [
    {
     "name": "stdout",
     "output_type": "stream",
     "text": [
      "   year         city  weight  height\n",
      "0  2012       Mumbai     3.5      50\n",
      "1  2013        Delhi     9.0      70\n",
      "2  2014     Guwahati    11.5      90\n",
      "3  2015       Mumbai    13.0     100\n",
      "4  2016  KualaLumpur    15.0     110\n",
      "5  2017        Dubai    23.0     120\n"
     ]
    }
   ],
   "source": [
    "import pandas as pd\n",
    "kid_diction = {'year': [2012, 2013, 2014,2015,2016,2017],\n",
    "        'city': ['Mumbai', 'Delhi', 'Guwahati', 'Mumbai', 'KualaLumpur', 'Dubai'],\n",
    "        'weight': [3.5, 9, 11.5, 13, 15, 23],\n",
    "        'height': [50, 70, 90, 100, 110, 120]}\n",
    "kid = pd.DataFrame(kid_diction, columns=['year', 'city', 'weight', 'height'])\n",
    "print(kid)"
   ]
  },
  {
   "cell_type": "code",
   "execution_count": 154,
   "metadata": {},
   "outputs": [
    {
     "name": "stdout",
     "output_type": "stream",
     "text": [
      "            year    weight    height\n",
      "year    1.000000  0.962710  0.983904\n",
      "weight  0.962710  1.000000  0.944516\n",
      "height  0.983904  0.944516  1.000000\n"
     ]
    }
   ],
   "source": [
    "print(kid.corr())"
   ]
  },
  {
   "cell_type": "code",
   "execution_count": 155,
   "metadata": {},
   "outputs": [
    {
     "data": {
      "text/plain": [
       "0     3.5\n",
       "1     9.0\n",
       "2    11.5\n",
       "3    13.0\n",
       "4    15.0\n",
       "5    23.0\n",
       "dtype: float64"
      ]
     },
     "execution_count": 155,
     "metadata": {},
     "output_type": "execute_result"
    }
   ],
   "source": [
    "kid[['weight']].mean(axis=1)"
   ]
  },
  {
   "cell_type": "code",
   "execution_count": 156,
   "metadata": {},
   "outputs": [
    {
     "name": "stdout",
     "output_type": "stream",
     "text": [
      "          height    weight\n",
      "height  1.000000  0.944516\n",
      "weight  0.944516  1.000000\n"
     ]
    }
   ],
   "source": [
    "print(kid[['height', 'weight']].corr())"
   ]
  },
  {
   "cell_type": "code",
   "execution_count": 157,
   "metadata": {},
   "outputs": [
    {
     "data": {
      "text/plain": [
       "6"
      ]
     },
     "execution_count": 157,
     "metadata": {},
     "output_type": "execute_result"
    }
   ],
   "source": [
    "kid['city'].count()"
   ]
  },
  {
   "cell_type": "code",
   "execution_count": 158,
   "metadata": {
    "collapsed": true
   },
   "outputs": [],
   "source": [
    "# Scikit Learn"
   ]
  },
  {
   "cell_type": "code",
   "execution_count": 159,
   "metadata": {
    "collapsed": true
   },
   "outputs": [],
   "source": [
    "# Decision Tree Regressor"
   ]
  },
  {
   "cell_type": "code",
   "execution_count": 40,
   "metadata": {
    "collapsed": true
   },
   "outputs": [],
   "source": [
    "# Importing packages\n",
    "from sklearn.datasets import load_boston\n",
    "from sklearn import datasets\n",
    "from sklearn.model_selection import cross_val_score\n",
    "from sklearn.tree import DecisionTreeRegressor\n",
    "import pandas as pd\n",
    "import numpy as np"
   ]
  },
  {
   "cell_type": "code",
   "execution_count": 41,
   "metadata": {
    "collapsed": true
   },
   "outputs": [],
   "source": [
    "# Load the data\n",
    "iris = datasets.load_iris()\n",
    "boston = load_boston()"
   ]
  },
  {
   "cell_type": "code",
   "execution_count": 44,
   "metadata": {},
   "outputs": [
    {
     "data": {
      "text/plain": [
       "array(['setosa', 'versicolor', 'virginica'], \n",
       "      dtype='<U10')"
      ]
     },
     "execution_count": 44,
     "metadata": {},
     "output_type": "execute_result"
    }
   ],
   "source": [
    "# Create a dataframe with the four feature variables of iris dataset\n",
    "df = pd.DataFrame(iris.data, columns=iris.feature_names)\n",
    "df\n",
    "iris.target_names"
   ]
  },
  {
   "cell_type": "code",
   "execution_count": 172,
   "metadata": {
    "collapsed": true
   },
   "outputs": [],
   "source": [
    "# Deriving a categorical variable, name of Species\n",
    "df['species'] = pd.Categorical.from_codes(iris.target, iris.target_names)"
   ]
  },
  {
   "cell_type": "code",
   "execution_count": 173,
   "metadata": {
    "collapsed": true
   },
   "outputs": [],
   "source": [
    "# Create a list of the feature column's names\n",
    "features = df.columns[:4]  # a typical dataframe for features"
   ]
  },
  {
   "cell_type": "code",
   "execution_count": 174,
   "metadata": {
    "collapsed": true
   },
   "outputs": [],
   "source": [
    "# 75% rows for training and rest for test\n",
    "df['is_train'] = np.random.uniform(0, 1, len(df)) <= .75\n",
    "train, test = df[df['is_train']==True], df[df['is_train']==False]\n",
    "\n",
    "X,y = iris.data, iris.target"
   ]
  },
  {
   "cell_type": "code",
   "execution_count": 175,
   "metadata": {
    "collapsed": true
   },
   "outputs": [],
   "source": [
    "#A decision tree regressor.\n",
    "regressor = DecisionTreeRegressor(random_state=6)\n",
    "reg = regressor.fit(X,y)"
   ]
  },
  {
   "cell_type": "code",
   "execution_count": 176,
   "metadata": {},
   "outputs": [
    {
     "data": {
      "text/plain": [
       "array([ 1. ,  1. ,  0. ,  0.7,  0. ])"
      ]
     },
     "execution_count": 176,
     "metadata": {},
     "output_type": "execute_result"
    }
   ],
   "source": [
    "# Dividing data into five datasets and training on combined-four datasets and testing on last one dataset\n",
    "# 5 possible ways to do it\n",
    "cross_val_score(reg, iris.data, iris.target, cv=5) # cross-validation score"
   ]
  },
  {
   "cell_type": "code",
   "execution_count": 177,
   "metadata": {},
   "outputs": [
    {
     "data": {
      "text/plain": [
       "array([ 0.67684004,  0.39099452,  0.67282569,  0.37665716, -1.85035488])"
      ]
     },
     "execution_count": 177,
     "metadata": {},
     "output_type": "execute_result"
    }
   ],
   "source": [
    "#Getting the cross value score on boston housing data\n",
    "cross_val_score(reg, boston.data, boston.target, cv=5)"
   ]
  },
  {
   "cell_type": "code",
   "execution_count": 45,
   "metadata": {
    "collapsed": true
   },
   "outputs": [],
   "source": [
    "#svm.SVR\n",
    "#Importing the packages\n",
    "import numpy as np\n",
    "import matplotlib.pyplot as plt\n",
    "from sklearn import svm, datasets, metrics"
   ]
  },
  {
   "cell_type": "code",
   "execution_count": 179,
   "metadata": {
    "collapsed": true
   },
   "outputs": [],
   "source": [
    "# Loading the iris dataset\n",
    "iris = datasets.lo"
   ]
  },
  {
   "cell_type": "code",
   "execution_count": 180,
   "metadata": {},
   "outputs": [
    {
     "data": {
      "text/plain": [
       "array([0, 0, 0, 0, 0, 0, 0, 0, 0, 0, 0, 0, 0, 0, 0, 0, 0, 0, 0, 0, 0, 0, 0,\n",
       "       0, 0, 0, 0, 0, 0, 0, 0, 0, 0, 0, 0, 0, 0, 0, 0, 0, 0, 0, 0, 0, 0, 0,\n",
       "       0, 0, 0, 0, 1, 1, 1, 1, 1, 1, 1, 1, 1, 1, 1, 1, 1, 1, 1, 1, 1, 1, 1,\n",
       "       1, 1, 1, 1, 1, 1, 1, 1, 2, 1, 1, 1, 1, 1, 2, 1, 1, 1, 1, 1, 1, 1, 1,\n",
       "       1, 1, 1, 1, 1, 1, 1, 1, 2, 2, 2, 2, 2, 2, 2, 2, 2, 2, 2, 2, 2, 2, 2,\n",
       "       2, 2, 2, 2, 2, 2, 2, 2, 2, 2, 2, 2, 2, 2, 2, 2, 2, 2, 2, 2, 2, 2, 2,\n",
       "       2, 2, 2, 2, 2, 2, 2, 2, 2, 2, 2, 2])"
      ]
     },
     "execution_count": 180,
     "metadata": {},
     "output_type": "execute_result"
    }
   ],
   "source": [
    "#Classify the data\n",
    "classifier = svm.SVC().fit(iris.data, iris.target)\n",
    "classifier.predict(iris.data)"
   ]
  },
  {
   "cell_type": "code",
   "execution_count": 181,
   "metadata": {},
   "outputs": [
    {
     "name": "stdout",
     "output_type": "stream",
     "text": [
      "             precision    recall  f1-score   support\n",
      "\n",
      "          0       1.00      1.00      1.00        50\n",
      "          1       0.96      1.00      0.98        48\n",
      "          2       1.00      0.96      0.98        52\n",
      "\n",
      "avg / total       0.99      0.99      0.99       150\n",
      "\n"
     ]
    }
   ],
   "source": [
    "#Printing the value of classification report\n",
    "print(metrics.classification_report(classifier.predict(iris.data), iris.target))"
   ]
  },
  {
   "cell_type": "code",
   "execution_count": 182,
   "metadata": {
    "collapsed": true
   },
   "outputs": [],
   "source": [
    "#Generalized Linear Model\n",
    "#Importing the packages\n",
    "from sklearn import linear_model"
   ]
  },
  {
   "cell_type": "code",
   "execution_count": 183,
   "metadata": {
    "collapsed": true
   },
   "outputs": [],
   "source": [
    "## Many regressors(objects) are created\n",
    "#Linear Regressor(OLS)\n",
    "regLin = linear_model.LinearRegression()"
   ]
  },
  {
   "cell_type": "code",
   "execution_count": 184,
   "metadata": {
    "collapsed": true
   },
   "outputs": [],
   "source": [
    "# Linear Regressor with Lasso Regularization\n",
    "regLasso = linear_model.Lasso()"
   ]
  },
  {
   "cell_type": "code",
   "execution_count": 185,
   "metadata": {
    "collapsed": true
   },
   "outputs": [],
   "source": [
    "# Linear Regressor with Ridge Regularization\n",
    "regRidge = linear_model.Ridge()"
   ]
  },
  {
   "cell_type": "code",
   "execution_count": 186,
   "metadata": {
    "collapsed": true
   },
   "outputs": [],
   "source": [
    "# Huber Regressor\n",
    "regHub = linear_model.HuberRegressor()"
   ]
  },
  {
   "cell_type": "code",
   "execution_count": 187,
   "metadata": {},
   "outputs": [
    {
     "data": {
      "text/html": [
       "<div>\n",
       "<style>\n",
       "    .dataframe thead tr:only-child th {\n",
       "        text-align: right;\n",
       "    }\n",
       "\n",
       "    .dataframe thead th {\n",
       "        text-align: left;\n",
       "    }\n",
       "\n",
       "    .dataframe tbody tr th {\n",
       "        vertical-align: top;\n",
       "    }\n",
       "</style>\n",
       "<table border=\"1\" class=\"dataframe\">\n",
       "  <thead>\n",
       "    <tr style=\"text-align: right;\">\n",
       "      <th></th>\n",
       "      <th>0</th>\n",
       "      <th>1</th>\n",
       "    </tr>\n",
       "  </thead>\n",
       "  <tbody>\n",
       "    <tr>\n",
       "      <th>0</th>\n",
       "      <td>0.0</td>\n",
       "      <td>0.5</td>\n",
       "    </tr>\n",
       "    <tr>\n",
       "      <th>1</th>\n",
       "      <td>1.0</td>\n",
       "      <td>2.0</td>\n",
       "    </tr>\n",
       "    <tr>\n",
       "      <th>2</th>\n",
       "      <td>2.0</td>\n",
       "      <td>6.0</td>\n",
       "    </tr>\n",
       "    <tr>\n",
       "      <th>3</th>\n",
       "      <td>3.0</td>\n",
       "      <td>12.0</td>\n",
       "    </tr>\n",
       "    <tr>\n",
       "      <th>4</th>\n",
       "      <td>4.0</td>\n",
       "      <td>14.0</td>\n",
       "    </tr>\n",
       "    <tr>\n",
       "      <th>5</th>\n",
       "      <td>6.0</td>\n",
       "      <td>21.0</td>\n",
       "    </tr>\n",
       "  </tbody>\n",
       "</table>\n",
       "</div>"
      ],
      "text/plain": [
       "     0     1\n",
       "0  0.0   0.5\n",
       "1  1.0   2.0\n",
       "2  2.0   6.0\n",
       "3  3.0  12.0\n",
       "4  4.0  14.0\n",
       "5  6.0  21.0"
      ]
     },
     "execution_count": 187,
     "metadata": {},
     "output_type": "execute_result"
    }
   ],
   "source": [
    "#Creating a dataset having six instances where each instance has two Xs and 1 Y\n",
    "X,Y = np.array([[0, 0.5], [1, 2], [2, 6],[3,12 ], [4, 14], [6, 21]]), np.array([7,6.2, 4,4,5,1])\n",
    "pd.DataFrame(X.tolist()) # Only features(X)"
   ]
  },
  {
   "cell_type": "code",
   "execution_count": 188,
   "metadata": {},
   "outputs": [
    {
     "data": {
      "text/plain": [
       "(array([-1.20019569,  0.0913242 ]), 6.8891063274624926)"
      ]
     },
     "execution_count": 188,
     "metadata": {},
     "output_type": "execute_result"
    }
   ],
   "source": [
    "#Linear Regressor (Ordinary least square)\n",
    "regLin.fit (X,Y)\n",
    "regLin.coef_ ,regLin.intercept_  # Coefficents of X1 and X2  & y-intercept"
   ]
  },
  {
   "cell_type": "code",
   "execution_count": 189,
   "metadata": {},
   "outputs": [
    {
     "data": {
      "text/plain": [
       "(array([-0.        , -0.21664637]), 6.5373122208688592)"
      ]
     },
     "execution_count": 189,
     "metadata": {},
     "output_type": "execute_result"
    }
   ],
   "source": [
    "#Linear Regressor with Lasso Regularization\n",
    "regLasso.fit (X,Y)\n",
    "regLasso.coef_ ,regLasso.intercept_  # Coefficents of X1 and X2  & y-intercept"
   ]
  },
  {
   "cell_type": "code",
   "execution_count": 190,
   "metadata": {},
   "outputs": [
    {
     "data": {
      "text/plain": [
       "(array([-0.14978065, -0.1933201 ]), 6.7209593129510807)"
      ]
     },
     "execution_count": 190,
     "metadata": {},
     "output_type": "execute_result"
    }
   ],
   "source": [
    "# Alternate way of doing Lasso\n",
    "from sklearn.linear_model import Lasso\n",
    "lasso_reg = Lasso(alpha=0.1)\n",
    "lasso_reg.fit(X, Y)\n",
    "lasso_reg.coef_,lasso_reg.intercept_"
   ]
  },
  {
   "cell_type": "code",
   "execution_count": 191,
   "metadata": {},
   "outputs": [
    {
     "data": {
      "text/plain": [
       "(array([-0.37755231, -0.13269318]), 6.7675514086420874)"
      ]
     },
     "execution_count": 191,
     "metadata": {},
     "output_type": "execute_result"
    }
   ],
   "source": [
    "#Linear Regressor with Ridge Regularization\n",
    "##############\n",
    "regRidge.fit (X,Y)\n",
    "regRidge.coef_ ,regRidge.intercept_  # Coefficents of X1 and X2  & y-intercept"
   ]
  },
  {
   "cell_type": "code",
   "execution_count": 192,
   "metadata": {},
   "outputs": [
    {
     "data": {
      "text/plain": [
       "(array([-0.37755231, -0.13269318]), 6.7675514086420874)"
      ]
     },
     "execution_count": 192,
     "metadata": {},
     "output_type": "execute_result"
    }
   ],
   "source": [
    "#Alternate way of doing Ridge Regression\n",
    "###########\n",
    "from sklearn.linear_model import Ridge\n",
    "reg = Ridge(alpha=1, solver=\"cholesky\")\n",
    "reg.fit (X,Y) \n",
    "reg.coef_,reg.intercept_ "
   ]
  },
  {
   "cell_type": "code",
   "execution_count": 193,
   "metadata": {},
   "outputs": [
    {
     "data": {
      "text/plain": [
       "(array([-0.82189908, -0.05159418]), 7.0626482295554078)"
      ]
     },
     "execution_count": 193,
     "metadata": {},
     "output_type": "execute_result"
    }
   ],
   "source": [
    "#Huber Regressor\n",
    "###############\n",
    "regHub.fit (X,Y)\n",
    "regHub.coef_ ,regHub.intercept_  # Coefficents of X1 and X2  & y-intercept"
   ]
  },
  {
   "cell_type": "code",
   "execution_count": 194,
   "metadata": {
    "collapsed": true
   },
   "outputs": [],
   "source": [
    "#RandomForest Regressor\n",
    "# Importing the packages\n",
    "from sklearn.ensemble import RandomForestRegressor\n",
    "from sklearn.datasets import make_regression"
   ]
  },
  {
   "cell_type": "code",
   "execution_count": 195,
   "metadata": {},
   "outputs": [
    {
     "data": {
      "text/html": [
       "<div>\n",
       "<style>\n",
       "    .dataframe thead tr:only-child th {\n",
       "        text-align: right;\n",
       "    }\n",
       "\n",
       "    .dataframe thead th {\n",
       "        text-align: left;\n",
       "    }\n",
       "\n",
       "    .dataframe tbody tr th {\n",
       "        vertical-align: top;\n",
       "    }\n",
       "</style>\n",
       "<table border=\"1\" class=\"dataframe\">\n",
       "  <thead>\n",
       "    <tr style=\"text-align: right;\">\n",
       "      <th></th>\n",
       "      <th>0</th>\n",
       "      <th>1</th>\n",
       "      <th>2</th>\n",
       "      <th>3</th>\n",
       "    </tr>\n",
       "  </thead>\n",
       "  <tbody>\n",
       "    <tr>\n",
       "      <th>0</th>\n",
       "      <td>1.764052</td>\n",
       "      <td>0.400157</td>\n",
       "      <td>0.978738</td>\n",
       "      <td>2.240893</td>\n",
       "    </tr>\n",
       "    <tr>\n",
       "      <th>1</th>\n",
       "      <td>1.867558</td>\n",
       "      <td>-0.977278</td>\n",
       "      <td>0.950088</td>\n",
       "      <td>-0.151357</td>\n",
       "    </tr>\n",
       "    <tr>\n",
       "      <th>2</th>\n",
       "      <td>-0.103219</td>\n",
       "      <td>0.410599</td>\n",
       "      <td>0.144044</td>\n",
       "      <td>1.454274</td>\n",
       "    </tr>\n",
       "    <tr>\n",
       "      <th>3</th>\n",
       "      <td>0.761038</td>\n",
       "      <td>0.121675</td>\n",
       "      <td>0.443863</td>\n",
       "      <td>0.333674</td>\n",
       "    </tr>\n",
       "    <tr>\n",
       "      <th>4</th>\n",
       "      <td>1.494079</td>\n",
       "      <td>-0.205158</td>\n",
       "      <td>0.313068</td>\n",
       "      <td>-0.854096</td>\n",
       "    </tr>\n",
       "  </tbody>\n",
       "</table>\n",
       "</div>"
      ],
      "text/plain": [
       "          0         1         2         3\n",
       "0  1.764052  0.400157  0.978738  2.240893\n",
       "1  1.867558 -0.977278  0.950088 -0.151357\n",
       "2 -0.103219  0.410599  0.144044  1.454274\n",
       "3  0.761038  0.121675  0.443863  0.333674\n",
       "4  1.494079 -0.205158  0.313068 -0.854096"
      ]
     },
     "execution_count": 195,
     "metadata": {},
     "output_type": "execute_result"
    }
   ],
   "source": [
    "#Loading Data for Making Regression\n",
    "X, y = make_regression(n_features=4, n_informative=2,random_state=0, shuffle=False)\n",
    "pd.DataFrame(X.tolist()).head()"
   ]
  },
  {
   "cell_type": "code",
   "execution_count": 196,
   "metadata": {},
   "outputs": [
    {
     "data": {
      "text/plain": [
       "RandomForestRegressor(bootstrap=True, criterion='mse', max_depth=None,\n",
       "           max_features='auto', max_leaf_nodes=None,\n",
       "           min_impurity_split=1e-07, min_samples_leaf=1,\n",
       "           min_samples_split=2, min_weight_fraction_leaf=0.0,\n",
       "           n_estimators=10, n_jobs=1, oob_score=False, random_state=None,\n",
       "           verbose=0, warm_start=False)"
      ]
     },
     "execution_count": 196,
     "metadata": {},
     "output_type": "execute_result"
    }
   ],
   "source": [
    "#Applying the Random Forest Regression\n",
    "RF = RandomForestRegressor()\n",
    "RF.fit(X, y)"
   ]
  },
  {
   "cell_type": "code",
   "execution_count": 197,
   "metadata": {},
   "outputs": [
    {
     "name": "stdout",
     "output_type": "stream",
     "text": [
      "[ 0.24141211  0.74941939  0.00471141  0.00445708]\n"
     ]
    }
   ],
   "source": [
    "#Print features importance\n",
    "print(RF.feature_importances_)"
   ]
  },
  {
   "cell_type": "code",
   "execution_count": 199,
   "metadata": {},
   "outputs": [
    {
     "name": "stdout",
     "output_type": "stream",
     "text": [
      "[ 90.43341248]\n"
     ]
    }
   ],
   "source": [
    "#Print the predict value\n",
    "print(RF.predict([[2, 3, 1, 0]]))"
   ]
  },
  {
   "cell_type": "code",
   "execution_count": 200,
   "metadata": {
    "collapsed": true
   },
   "outputs": [],
   "source": [
    "#GradientBoosting Regressor\n",
    "#importing the packages\n",
    "from sklearn import ensemble\n",
    "from sklearn import datasets\n",
    "from sklearn.utils import shuffle\n",
    "from sklearn.metrics import mean_squared_error"
   ]
  },
  {
   "cell_type": "code",
   "execution_count": 201,
   "metadata": {
    "collapsed": true
   },
   "outputs": [],
   "source": [
    "# Load data\n",
    "boston = datasets.load_boston()"
   ]
  },
  {
   "cell_type": "code",
   "execution_count": 202,
   "metadata": {
    "collapsed": true
   },
   "outputs": [],
   "source": [
    "#Shuffle data\n",
    "#Loading Data for Making Regression\n",
    "X, y = make_regression(n_features=4, n_informative=2,random_state=0, shuffle=False)"
   ]
  },
  {
   "cell_type": "code",
   "execution_count": 203,
   "metadata": {
    "collapsed": true
   },
   "outputs": [],
   "source": [
    "#X = X.astype(np.float32)\n",
    "offset = int(X.shape[0] * 0.9)"
   ]
  },
  {
   "cell_type": "code",
   "execution_count": 204,
   "metadata": {
    "collapsed": true
   },
   "outputs": [],
   "source": [
    "#Divide the data into train and test set\n",
    "X_train, y_train = X[:offset], y[:offset]\n",
    "X_test, y_test = X[offset:], y[offset:]"
   ]
  },
  {
   "cell_type": "code",
   "execution_count": 205,
   "metadata": {
    "collapsed": true
   },
   "outputs": [],
   "source": [
    "# Fit regression model\n",
    "params = {'n_estimators': 400, 'max_depth': 4, 'min_samples_split': 2,\n",
    "          'learning_rate': 0.01, 'loss': 'ls'}"
   ]
  },
  {
   "cell_type": "code",
   "execution_count": 206,
   "metadata": {},
   "outputs": [
    {
     "data": {
      "text/plain": [
       "GradientBoostingRegressor(alpha=0.9, criterion='friedman_mse', init=None,\n",
       "             learning_rate=0.01, loss='ls', max_depth=4, max_features=None,\n",
       "             max_leaf_nodes=None, min_impurity_split=1e-07,\n",
       "             min_samples_leaf=1, min_samples_split=2,\n",
       "             min_weight_fraction_leaf=0.0, n_estimators=400,\n",
       "             presort='auto', random_state=None, subsample=1.0, verbose=0,\n",
       "             warm_start=False)"
      ]
     },
     "execution_count": 206,
     "metadata": {},
     "output_type": "execute_result"
    }
   ],
   "source": [
    "# Apply GradientBoostingRegressor\n",
    "clf = ensemble.GradientBoostingRegressor(**params)\n",
    "clf.fit(X_train, y_train)"
   ]
  },
  {
   "cell_type": "code",
   "execution_count": 207,
   "metadata": {},
   "outputs": [
    {
     "name": "stdout",
     "output_type": "stream",
     "text": [
      "MSE: 34.5603\n"
     ]
    }
   ],
   "source": [
    "#Finding mean square error\n",
    "mse = mean_squared_error(y_test, clf.predict(X_test))\n",
    "print(\"MSE: %.4f\" % mse)"
   ]
  },
  {
   "cell_type": "code",
   "execution_count": 208,
   "metadata": {
    "collapsed": true
   },
   "outputs": [],
   "source": [
    "#MLPRegressor\n",
    "# Importing the package\n",
    "from sklearn.neural_network import MLPRegressor\n",
    "import numpy as np\n",
    "import matplotlib.pyplot as plt"
   ]
  },
  {
   "cell_type": "code",
   "execution_count": 209,
   "metadata": {
    "collapsed": true
   },
   "outputs": [],
   "source": [
    "# Getting the value of x,y\n",
    "X = np.arange(1.0, 4, 0.01).reshape(-1, 1)\n",
    "y = np.sin(2 * np.pi * X).ravel()"
   ]
  },
  {
   "cell_type": "code",
   "execution_count": 210,
   "metadata": {
    "collapsed": true
   },
   "outputs": [],
   "source": [
    "# Fit the MLPRegressor model\n",
    "reg = MLPRegressor(hidden_layer_sizes=(10,),  activation='logistic', solver='adam',    alpha=0.001,batch_size='auto',\n",
    "               learning_rate='constant', learning_rate_init=0.005, power_t=0.5, max_iter=500, shuffle=True,\n",
    "               epsilon=1e-08)\n",
    "reg = reg.fit(X, y)"
   ]
  },
  {
   "cell_type": "code",
   "execution_count": 211,
   "metadata": {
    "collapsed": true
   },
   "outputs": [],
   "source": [
    "# Assign the value for test\n",
    "test_X = np.arange(1.0, 4, 0.05).reshape(-1, 1)\n",
    "test_y = reg.predict(test_X)"
   ]
  },
  {
   "cell_type": "code",
   "execution_count": 213,
   "metadata": {},
   "outputs": [
    {
     "data": {
      "text/plain": [
       "array([ 0.25170748,  0.24301537,  0.23435605,  0.22573166,  0.21714434,\n",
       "        0.20859616,  0.20008916,  0.19162533,  0.18320661,  0.17483489,\n",
       "        0.16651202,  0.15823978,  0.15001991,  0.14185409,  0.13374395,\n",
       "        0.12569106,  0.11769694,  0.10976302,  0.10189072,  0.09408137,\n",
       "        0.08633625,  0.07865657,  0.0710435 ,  0.06349813,  0.0560215 ,\n",
       "        0.04861459,  0.04127833,  0.03401357,  0.02682111,  0.01970171,\n",
       "        0.01265605,  0.00568476, -0.00121158, -0.00803246, -0.0147774 ,\n",
       "       -0.021446  , -0.02803789, -0.03455276, -0.04099035, -0.04735045,\n",
       "       -0.0536329 , -0.05983758, -0.06596442, -0.07201339, -0.07798451,\n",
       "       -0.08387783, -0.08969345, -0.0954315 , -0.10109215, -0.10667562,\n",
       "       -0.11218214, -0.117612  , -0.12296549, -0.12824296, -0.13344478,\n",
       "       -0.13857134, -0.14362305, -0.14860038, -0.15350379, -0.15833377])"
      ]
     },
     "execution_count": 213,
     "metadata": {},
     "output_type": "execute_result"
    }
   ],
   "source": [
    "test_y"
   ]
  },
  {
   "cell_type": "code",
   "execution_count": 214,
   "metadata": {
    "collapsed": true
   },
   "outputs": [],
   "source": [
    "#DecisionTreeClassifier\n",
    "# Importing the packages\n",
    "from sklearn.datasets import load_iris\n",
    "from sklearn.model_selection import cross_val_score\n",
    "from sklearn.tree import DecisionTreeClassifier\n",
    "from sklearn import tree"
   ]
  },
  {
   "cell_type": "code",
   "execution_count": 215,
   "metadata": {
    "collapsed": true
   },
   "outputs": [],
   "source": [
    "#Classify the data\n",
    "DTclf =tree.DecisionTreeClassifier()"
   ]
  },
  {
   "cell_type": "code",
   "execution_count": 216,
   "metadata": {
    "collapsed": true
   },
   "outputs": [],
   "source": [
    "#Load the data\n",
    "iris = load_iris()"
   ]
  },
  {
   "cell_type": "code",
   "execution_count": 217,
   "metadata": {
    "collapsed": true
   },
   "outputs": [],
   "source": [
    "# Fit the data\n",
    "DTclf = DTclf.fit(iris.data, iris.target)"
   ]
  },
  {
   "cell_type": "code",
   "execution_count": 218,
   "metadata": {},
   "outputs": [
    {
     "data": {
      "text/plain": [
       "array([ 0.96666667,  0.96666667,  0.9       ,  1.        ,  1.        ])"
      ]
     },
     "execution_count": 218,
     "metadata": {},
     "output_type": "execute_result"
    }
   ],
   "source": [
    "# Evaluating the cross validation score\n",
    "cross_val_score(DTclf, iris.data, iris.target, cv=5)"
   ]
  },
  {
   "cell_type": "code",
   "execution_count": 220,
   "metadata": {
    "collapsed": true
   },
   "outputs": [],
   "source": [
    "# find predicted value\n",
    "actual = iris.target\n",
    "predicted = DTclf.predict(iris.data)"
   ]
  },
  {
   "cell_type": "code",
   "execution_count": 222,
   "metadata": {},
   "outputs": [
    {
     "name": "stdout",
     "output_type": "stream",
     "text": [
      "[[50  0  0]\n",
      " [ 0 50  0]\n",
      " [ 0  0 50]]\n"
     ]
    }
   ],
   "source": [
    "#Getting confusion matrics\n",
    "print(metrics.confusion_matrix(actual, predicted))"
   ]
  },
  {
   "cell_type": "code",
   "execution_count": 223,
   "metadata": {},
   "outputs": [
    {
     "name": "stdout",
     "output_type": "stream",
     "text": [
      "             precision    recall  f1-score   support\n",
      "\n",
      "          0       1.00      1.00      1.00        50\n",
      "          1       1.00      1.00      1.00        50\n",
      "          2       1.00      1.00      1.00        50\n",
      "\n",
      "avg / total       1.00      1.00      1.00       150\n",
      "\n"
     ]
    }
   ],
   "source": [
    "# summarize the fit of the model\n",
    "print(metrics.classification_report(actual, predicted))"
   ]
  },
  {
   "cell_type": "code",
   "execution_count": 224,
   "metadata": {
    "collapsed": true
   },
   "outputs": [],
   "source": [
    "#SVC Example\n",
    "#Importing the packages\n",
    "import numpy as np\n",
    "from sklearn.svm import SVC"
   ]
  },
  {
   "cell_type": "code",
   "execution_count": 229,
   "metadata": {
    "collapsed": true
   },
   "outputs": [],
   "source": [
    "# Apply the SVC model and fit\n",
    "SVclf = SVC()\n",
    "model=SVclf.fit(iris.data, iris.target) "
   ]
  },
  {
   "cell_type": "code",
   "execution_count": 230,
   "metadata": {},
   "outputs": [
    {
     "data": {
      "text/plain": [
       "array([ 0.96666667,  1.        ,  0.96666667,  0.96666667,  1.        ])"
      ]
     },
     "execution_count": 230,
     "metadata": {},
     "output_type": "execute_result"
    }
   ],
   "source": [
    "# Evaluating the cross validation score\n",
    "cross_val_score(SVclf, iris.data, iris.target, cv=5)"
   ]
  },
  {
   "cell_type": "code",
   "execution_count": 231,
   "metadata": {},
   "outputs": [
    {
     "name": "stdout",
     "output_type": "stream",
     "text": [
      "[0]\n"
     ]
    }
   ],
   "source": [
    "# Print the predicting value\n",
    "print(SVclf.predict([[5,3.2, 1.5,0.3]])) # find predicted value"
   ]
  },
  {
   "cell_type": "code",
   "execution_count": 234,
   "metadata": {
    "collapsed": true
   },
   "outputs": [],
   "source": [
    "actual = iris.target\n",
    "predicted = model.predict(iris.data)# Predicting the class(amongst 0,1,2)"
   ]
  },
  {
   "cell_type": "code",
   "execution_count": 235,
   "metadata": {},
   "outputs": [
    {
     "name": "stdout",
     "output_type": "stream",
     "text": [
      "[[50  0  0]\n",
      " [ 0 48  2]\n",
      " [ 0  0 50]]\n"
     ]
    }
   ],
   "source": [
    "#Getting confusion matrics\n",
    "print(metrics.confusion_matrix(actual, predicted))"
   ]
  },
  {
   "cell_type": "code",
   "execution_count": 236,
   "metadata": {},
   "outputs": [
    {
     "name": "stdout",
     "output_type": "stream",
     "text": [
      "             precision    recall  f1-score   support\n",
      "\n",
      "          0       1.00      1.00      1.00        50\n",
      "          1       1.00      0.96      0.98        50\n",
      "          2       0.96      1.00      0.98        50\n",
      "\n",
      "avg / total       0.99      0.99      0.99       150\n",
      "\n"
     ]
    }
   ],
   "source": [
    "# summarize the fit of the model\n",
    "print(metrics.classification_report(actual, predicted))"
   ]
  },
  {
   "cell_type": "code",
   "execution_count": 237,
   "metadata": {
    "collapsed": true
   },
   "outputs": [],
   "source": [
    "#Linear SVC\n",
    "#Importing the packages\n",
    "from sklearn.svm import LinearSVC\n",
    "from sklearn.datasets import make_classification"
   ]
  },
  {
   "cell_type": "code",
   "execution_count": 238,
   "metadata": {
    "collapsed": true
   },
   "outputs": [],
   "source": [
    "# Classify the variable\n",
    "X, y = make_classification(n_features=4, random_state=5)"
   ]
  },
  {
   "cell_type": "code",
   "execution_count": 239,
   "metadata": {},
   "outputs": [
    {
     "data": {
      "text/plain": [
       "LinearSVC(C=1.0, class_weight=None, dual=True, fit_intercept=True,\n",
       "     intercept_scaling=1, loss='squared_hinge', max_iter=1000,\n",
       "     multi_class='ovr', penalty='l2', random_state=0, tol=0.0001,\n",
       "     verbose=0)"
      ]
     },
     "execution_count": 239,
     "metadata": {},
     "output_type": "execute_result"
    }
   ],
   "source": [
    "#Apply and fit the model\n",
    "clf = LinearSVC(random_state=0)\n",
    "clf.fit(X, y)"
   ]
  },
  {
   "cell_type": "code",
   "execution_count": 240,
   "metadata": {},
   "outputs": [
    {
     "name": "stdout",
     "output_type": "stream",
     "text": [
      "[[ 0.45509526  1.22750577 -0.28367467 -0.05580608]]\n"
     ]
    }
   ],
   "source": [
    "# internal memory layout \n",
    "print(clf.coef_)"
   ]
  },
  {
   "cell_type": "code",
   "execution_count": 241,
   "metadata": {},
   "outputs": [
    {
     "name": "stdout",
     "output_type": "stream",
     "text": [
      "[ 0.08454363]\n"
     ]
    }
   ],
   "source": [
    "#Constants in decision function\n",
    "print(clf.intercept_)"
   ]
  },
  {
   "cell_type": "code",
   "execution_count": 242,
   "metadata": {},
   "outputs": [
    {
     "name": "stdout",
     "output_type": "stream",
     "text": [
      "[1]\n"
     ]
    }
   ],
   "source": [
    "# predict value\n",
    "print(clf.predict([[1, 2.5, 5, 3]]))"
   ]
  },
  {
   "cell_type": "code",
   "execution_count": 243,
   "metadata": {
    "collapsed": true
   },
   "outputs": [],
   "source": [
    "# find predicted value\n",
    "actual = y\n",
    "predicted = model.predict(X)"
   ]
  },
  {
   "cell_type": "code",
   "execution_count": 244,
   "metadata": {},
   "outputs": [
    {
     "name": "stdout",
     "output_type": "stream",
     "text": [
      "[[ 0  0 49]\n",
      " [ 0  0 51]\n",
      " [ 0  0  0]]\n"
     ]
    }
   ],
   "source": [
    "#Getting confusion matrics\n",
    "print(metrics.confusion_matrix(actual, predicted))"
   ]
  },
  {
   "cell_type": "code",
   "execution_count": 245,
   "metadata": {},
   "outputs": [
    {
     "name": "stdout",
     "output_type": "stream",
     "text": [
      "             precision    recall  f1-score   support\n",
      "\n",
      "          0       0.00      0.00      0.00        49\n",
      "          1       0.00      0.00      0.00        51\n",
      "          2       0.00      0.00      0.00         0\n",
      "\n",
      "avg / total       0.00      0.00      0.00       100\n",
      "\n"
     ]
    },
    {
     "name": "stderr",
     "output_type": "stream",
     "text": [
      "/home/navin/anaconda3/lib/python3.6/site-packages/sklearn/metrics/classification.py:1113: UndefinedMetricWarning: Precision and F-score are ill-defined and being set to 0.0 in labels with no predicted samples.\n",
      "  'precision', 'predicted', average, warn_for)\n",
      "/home/kunal/anaconda3/lib/python3.6/site-packages/sklearn/metrics/classification.py:1115: UndefinedMetricWarning: Recall and F-score are ill-defined and being set to 0.0 in labels with no true samples.\n",
      "  'recall', 'true', average, warn_for)\n"
     ]
    }
   ],
   "source": [
    "# summarize the fit of the model\n",
    "print(metrics.classification_report(actual, predicted))"
   ]
  },
  {
   "cell_type": "code",
   "execution_count": 246,
   "metadata": {
    "collapsed": true
   },
   "outputs": [],
   "source": [
    "#LogisticRegression\n",
    "# Importing packages\n",
    "from sklearn import datasets\n",
    "from sklearn import metrics\n",
    "from sklearn.linear_model import LogisticRegression"
   ]
  },
  {
   "cell_type": "code",
   "execution_count": 247,
   "metadata": {
    "collapsed": true
   },
   "outputs": [],
   "source": [
    "# load the iris datasets\n",
    "dataset = datasets.load_iris()"
   ]
  },
  {
   "cell_type": "code",
   "execution_count": 248,
   "metadata": {},
   "outputs": [
    {
     "data": {
      "text/plain": [
       "LogisticRegression(C=1.0, class_weight=None, dual=False, fit_intercept=True,\n",
       "          intercept_scaling=1, max_iter=100, multi_class='ovr', n_jobs=1,\n",
       "          penalty='l2', random_state=None, solver='liblinear', tol=0.0001,\n",
       "          verbose=0, warm_start=False)"
      ]
     },
     "execution_count": 248,
     "metadata": {},
     "output_type": "execute_result"
    }
   ],
   "source": [
    "# fit a logistic regression model to the data\n",
    "model = LogisticRegression()\n",
    "model.fit(dataset.data, dataset.target)"
   ]
  },
  {
   "cell_type": "code",
   "execution_count": 249,
   "metadata": {},
   "outputs": [
    {
     "name": "stdout",
     "output_type": "stream",
     "text": [
      "LogisticRegression(C=1.0, class_weight=None, dual=False, fit_intercept=True,\n",
      "          intercept_scaling=1, max_iter=100, multi_class='ovr', n_jobs=1,\n",
      "          penalty='l2', random_state=None, solver='liblinear', tol=0.0001,\n",
      "          verbose=0, warm_start=False)\n"
     ]
    }
   ],
   "source": [
    "#Print the model\n",
    "print(model)"
   ]
  },
  {
   "cell_type": "code",
   "execution_count": 250,
   "metadata": {
    "collapsed": true
   },
   "outputs": [],
   "source": [
    "# find predicted value\n",
    "expected = dataset.target\n",
    "predicted = model.predict(dataset.data)"
   ]
  },
  {
   "cell_type": "code",
   "execution_count": 251,
   "metadata": {},
   "outputs": [
    {
     "name": "stdout",
     "output_type": "stream",
     "text": [
      "             precision    recall  f1-score   support\n",
      "\n",
      "          0       1.00      1.00      1.00        50\n",
      "          1       0.98      0.90      0.94        50\n",
      "          2       0.91      0.98      0.94        50\n",
      "\n",
      "avg / total       0.96      0.96      0.96       150\n",
      "\n"
     ]
    }
   ],
   "source": [
    "# summarize the fit of the model\n",
    "print(metrics.classification_report(expected, predicted))"
   ]
  },
  {
   "cell_type": "code",
   "execution_count": 252,
   "metadata": {},
   "outputs": [
    {
     "name": "stdout",
     "output_type": "stream",
     "text": [
      "[[50  0  0]\n",
      " [ 0 45  5]\n",
      " [ 0  1 49]]\n"
     ]
    }
   ],
   "source": [
    "#Getting confusion matrics\n",
    "print(metrics.confusion_matrix(expected, predicted))"
   ]
  },
  {
   "cell_type": "code",
   "execution_count": 253,
   "metadata": {
    "collapsed": true
   },
   "outputs": [],
   "source": [
    "# Random Forest Classification\n",
    "import pandas\n",
    "from sklearn import model_selection\n",
    "from sklearn.ensemble import RandomForestClassifier\n",
    "from sklearn.datasets import load_iris"
   ]
  },
  {
   "cell_type": "code",
   "execution_count": 255,
   "metadata": {
    "collapsed": true
   },
   "outputs": [],
   "source": [
    "# load the iris datasets\n",
    "iris = datasets.load_iris()\n",
    "num_trees = 100\n",
    "max_features = 3\n",
    "seed=7\n",
    "kfold = model_selection.KFold(n_splits=10, random_state=seed)"
   ]
  },
  {
   "cell_type": "code",
   "execution_count": 256,
   "metadata": {
    "collapsed": true
   },
   "outputs": [],
   "source": [
    "# Classify Random Forest\n",
    "model = RandomForestClassifier(n_estimators=num_trees, max_features=max_features)\n",
    "model = model.fit(iris.data, iris.target)\n",
    "results = model_selection.cross_val_score(model, iris.data, iris.target, cv=kfold)"
   ]
  },
  {
   "cell_type": "code",
   "execution_count": 257,
   "metadata": {},
   "outputs": [
    {
     "name": "stdout",
     "output_type": "stream",
     "text": [
      "0.946666666667\n"
     ]
    }
   ],
   "source": [
    "# Print mean value\n",
    "print(results.mean())"
   ]
  },
  {
   "cell_type": "code",
   "execution_count": 258,
   "metadata": {
    "collapsed": true
   },
   "outputs": [],
   "source": [
    "# find predicted value\n",
    "expected = iris.target\n",
    "predicted = model.predict(iris.data)"
   ]
  },
  {
   "cell_type": "code",
   "execution_count": 259,
   "metadata": {},
   "outputs": [
    {
     "name": "stdout",
     "output_type": "stream",
     "text": [
      "             precision    recall  f1-score   support\n",
      "\n",
      "          0       1.00      1.00      1.00        50\n",
      "          1       1.00      1.00      1.00        50\n",
      "          2       1.00      1.00      1.00        50\n",
      "\n",
      "avg / total       1.00      1.00      1.00       150\n",
      "\n"
     ]
    }
   ],
   "source": [
    "# summarize the fit of the model\n",
    "print(metrics.classification_report(expected, predicted))"
   ]
  },
  {
   "cell_type": "code",
   "execution_count": 260,
   "metadata": {},
   "outputs": [
    {
     "name": "stdout",
     "output_type": "stream",
     "text": [
      "[[50  0  0]\n",
      " [ 0 50  0]\n",
      " [ 0  0 50]]\n"
     ]
    }
   ],
   "source": [
    "#Getting confusion matrics\n",
    "print(metrics.confusion_matrix(expected, predicted))"
   ]
  },
  {
   "cell_type": "code",
   "execution_count": 262,
   "metadata": {
    "collapsed": true
   },
   "outputs": [],
   "source": [
    "#KNeighborsClassifier\n",
    "# Importing the packages\n",
    "import pandas\n",
    "from sklearn import model_selection\n",
    "from sklearn.neighbors import KNeighborsClassifier"
   ]
  },
  {
   "cell_type": "code",
   "execution_count": 263,
   "metadata": {
    "collapsed": true
   },
   "outputs": [],
   "source": [
    "# load the iris datasets\n",
    "iris = datasets.load_iris()\n",
    "kfold = model_selection.KFold(n_splits=10, random_state=seed)"
   ]
  },
  {
   "cell_type": "code",
   "execution_count": 264,
   "metadata": {
    "collapsed": true
   },
   "outputs": [],
   "source": [
    "#Classify KNN model\n",
    "model = KNeighborsClassifier()\n",
    "model = model.fit(iris.data, iris.target)\n",
    "results = model_selection.cross_val_score(model, iris.data, iris.target, cv=kfold)"
   ]
  },
  {
   "cell_type": "code",
   "execution_count": 265,
   "metadata": {},
   "outputs": [
    {
     "name": "stdout",
     "output_type": "stream",
     "text": [
      "0.933333333333\n"
     ]
    }
   ],
   "source": [
    "# Print mean value of KNN model\n",
    "print(results.mean())"
   ]
  },
  {
   "cell_type": "code",
   "execution_count": 266,
   "metadata": {
    "collapsed": true
   },
   "outputs": [],
   "source": [
    "# find predicted value\n",
    "expected = iris.target\n",
    "predicted = model.predict(iris.data)"
   ]
  },
  {
   "cell_type": "code",
   "execution_count": 267,
   "metadata": {},
   "outputs": [
    {
     "name": "stdout",
     "output_type": "stream",
     "text": [
      "             precision    recall  f1-score   support\n",
      "\n",
      "          0       1.00      1.00      1.00        50\n",
      "          1       0.96      0.94      0.95        50\n",
      "          2       0.94      0.96      0.95        50\n",
      "\n",
      "avg / total       0.97      0.97      0.97       150\n",
      "\n"
     ]
    }
   ],
   "source": [
    "# summarize the fit of the model\n",
    "print(metrics.classification_report(expected, predicted))"
   ]
  },
  {
   "cell_type": "code",
   "execution_count": 268,
   "metadata": {},
   "outputs": [
    {
     "name": "stdout",
     "output_type": "stream",
     "text": [
      "[[50  0  0]\n",
      " [ 0 47  3]\n",
      " [ 0  2 48]]\n"
     ]
    }
   ],
   "source": [
    "#Getting confusion matrics\n",
    "print(metrics.confusion_matrix(expected, predicted))"
   ]
  },
  {
   "cell_type": "code",
   "execution_count": 269,
   "metadata": {
    "collapsed": true
   },
   "outputs": [],
   "source": [
    "#Gradient Boosting Classifier\n",
    "# Stochastic Gradient Boosting Classification\n",
    "import pandas\n",
    "from sklearn import model_selection\n",
    "from sklearn.ensemble import GradientBoostingClassifier"
   ]
  },
  {
   "cell_type": "code",
   "execution_count": 270,
   "metadata": {
    "collapsed": true
   },
   "outputs": [],
   "source": [
    "# load the iris datasets\n",
    "iris = datasets.load_iris()"
   ]
  },
  {
   "cell_type": "code",
   "execution_count": 271,
   "metadata": {
    "collapsed": true
   },
   "outputs": [],
   "source": [
    "num_trees = 100\n",
    "kfold = model_selection.KFold(n_splits=10, random_state=seed)\n",
    "model = GradientBoostingClassifier(n_estimators=num_trees, random_state=1)\n",
    "model = model.fit(iris.data, iris.target)"
   ]
  },
  {
   "cell_type": "code",
   "execution_count": 272,
   "metadata": {
    "collapsed": true
   },
   "outputs": [],
   "source": [
    "# find predicted value\n",
    "expected = iris.target\n",
    "predicted = model.predict(iris.data)"
   ]
  },
  {
   "cell_type": "code",
   "execution_count": 273,
   "metadata": {},
   "outputs": [
    {
     "name": "stdout",
     "output_type": "stream",
     "text": [
      "             precision    recall  f1-score   support\n",
      "\n",
      "          0       1.00      1.00      1.00        50\n",
      "          1       1.00      1.00      1.00        50\n",
      "          2       1.00      1.00      1.00        50\n",
      "\n",
      "avg / total       1.00      1.00      1.00       150\n",
      "\n"
     ]
    }
   ],
   "source": [
    "# summarize the fit of the model\n",
    "print(metrics.classification_report(expected, predicted))"
   ]
  },
  {
   "cell_type": "code",
   "execution_count": 274,
   "metadata": {},
   "outputs": [
    {
     "name": "stdout",
     "output_type": "stream",
     "text": [
      "[[50  0  0]\n",
      " [ 0 50  0]\n",
      " [ 0  0 50]]\n"
     ]
    }
   ],
   "source": [
    "#Getting confusion matrics\n",
    "print(metrics.confusion_matrix(expected, predicted))"
   ]
  },
  {
   "cell_type": "code",
   "execution_count": 275,
   "metadata": {
    "collapsed": true
   },
   "outputs": [],
   "source": [
    "# Gaussian Naive Bayes\n",
    "from sklearn import datasets\n",
    "from sklearn import metrics\n",
    "from sklearn.naive_bayes import GaussianNB"
   ]
  },
  {
   "cell_type": "code",
   "execution_count": 276,
   "metadata": {
    "collapsed": true
   },
   "outputs": [],
   "source": [
    "# load the iris datasets\n",
    "dataset = datasets.load_iris()"
   ]
  },
  {
   "cell_type": "code",
   "execution_count": 277,
   "metadata": {
    "collapsed": true
   },
   "outputs": [],
   "source": [
    "# fit a Naive Bayes model to the data\n",
    "model = GaussianNB()\n",
    "model.fit(dataset.data, dataset.target)# make predictions\n",
    "expected = dataset.target\n",
    "predicted = model.predict(dataset.data)"
   ]
  },
  {
   "cell_type": "code",
   "execution_count": 278,
   "metadata": {},
   "outputs": [
    {
     "name": "stdout",
     "output_type": "stream",
     "text": [
      "             precision    recall  f1-score   support\n",
      "\n",
      "          0       1.00      1.00      1.00        50\n",
      "          1       0.94      0.94      0.94        50\n",
      "          2       0.94      0.94      0.94        50\n",
      "\n",
      "avg / total       0.96      0.96      0.96       150\n",
      "\n",
      "[[50  0  0]\n",
      " [ 0 47  3]\n",
      " [ 0  3 47]]\n"
     ]
    }
   ],
   "source": [
    "# summarize the fit of the model\n",
    "print(metrics.classification_report(expected, predicted))\n",
    "print(metrics.confusion_matrix(expected, predicted))"
   ]
  },
  {
   "cell_type": "code",
   "execution_count": 279,
   "metadata": {
    "collapsed": true
   },
   "outputs": [],
   "source": [
    "# make predictions\n",
    "actual = dataset.target\n",
    "predicted = model.predict(dataset.data)"
   ]
  },
  {
   "cell_type": "code",
   "execution_count": 280,
   "metadata": {},
   "outputs": [
    {
     "name": "stdout",
     "output_type": "stream",
     "text": [
      "             precision    recall  f1-score   support\n",
      "\n",
      "          0       1.00      1.00      1.00        50\n",
      "          1       0.94      0.94      0.94        50\n",
      "          2       0.94      0.94      0.94        50\n",
      "\n",
      "avg / total       0.96      0.96      0.96       150\n",
      "\n",
      "[[50  0  0]\n",
      " [ 0 47  3]\n",
      " [ 0  3 47]]\n"
     ]
    }
   ],
   "source": [
    "# summarize the fit of the model\n",
    "print(metrics.classification_report(actual, predicted))\n",
    "print(metrics.confusion_matrix(actual, predicted))"
   ]
  },
  {
   "cell_type": "code",
   "execution_count": 281,
   "metadata": {},
   "outputs": [
    {
     "name": "stdout",
     "output_type": "stream",
     "text": [
      "[2 0 2 2 1 0 2 0 1]\n",
      "[[ 2.66666667  5.66666667]\n",
      " [ 6.          3.5       ]\n",
      " [ 2.25        1.25      ]]\n",
      "[2 1]\n"
     ]
    }
   ],
   "source": [
    "#Clustering\n",
    "#KMeans Clustering\n",
    "from sklearn.cluster import KMeans\n",
    "import numpy as np\n",
    "X = np.array([[3, 1], [2, 4], [1, 1],[2, 1], [6, 5], [2, 7],\n",
    "              [3, 2], [4, 6], [6, 2]])\n",
    "kmeans = KMeans(n_clusters=3, random_state=0).fit(X)\n",
    "print(kmeans.labels_) \n",
    "print(kmeans.cluster_centers_)\n",
    "print(kmeans.predict([[0, 0], [4, 4]]))"
   ]
  },
  {
   "cell_type": "code",
   "execution_count": 282,
   "metadata": {
    "collapsed": true
   },
   "outputs": [],
   "source": [
    "#DBSCAN\n",
    "import numpy as np\n",
    "from sklearn.cluster import DBSCAN\n",
    "from sklearn import metrics\n",
    "from sklearn.datasets.samples_generator import make_blobs\n",
    "from sklearn.preprocessing import StandardScaler\n",
    "from pylab import *"
   ]
  },
  {
   "cell_type": "code",
   "execution_count": 283,
   "metadata": {},
   "outputs": [
    {
     "data": {
      "image/png": "[encoded data removed]",
      "text/plain": [
       "<matplotlib.figure.Figure at 0x7f0ba3e4ad30>"
      ]
     },
     "metadata": {},
     "output_type": "display_data"
    }
   ],
   "source": [
    "# Generate sample data\n",
    "centers = [[2, 1], [1, -1], [0, -1]]\n",
    "X, labels_true = make_blobs(n_samples=600, centers=centers, cluster_std=0.4, random_state=0)\n",
    "X = StandardScaler().fit_transform(X) \n",
    "xx, yy = zip(*X)\n",
    "scatter(xx,yy)\n",
    "show()"
   ]
  },
  {
   "cell_type": "code",
   "execution_count": 284,
   "metadata": {
    "collapsed": true
   },
   "outputs": [],
   "source": [
    "#Model Selection train_test_split\n",
    "import numpy as np\n",
    "from sklearn.model_selection import train_test_split\n",
    "from sklearn import datasets\n",
    "from sklearn import svm"
   ]
  },
  {
   "cell_type": "code",
   "execution_count": 285,
   "metadata": {},
   "outputs": [
    {
     "data": {
      "text/plain": [
       "((150, 4), (150,))"
      ]
     },
     "execution_count": 285,
     "metadata": {},
     "output_type": "execute_result"
    }
   ],
   "source": [
    "iris = datasets.load_iris()\n",
    "iris.data.shape, iris.target.shape"
   ]
  },
  {
   "cell_type": "code",
   "execution_count": 286,
   "metadata": {},
   "outputs": [
    {
     "data": {
      "text/plain": [
       "((30, 4), (30,))"
      ]
     },
     "execution_count": 286,
     "metadata": {},
     "output_type": "execute_result"
    }
   ],
   "source": [
    "X_train, X_test, y_train, y_test = train_test_split(iris.data, iris.target, test_size=0.2, random_state=20)\n",
    "X_train.shape, y_train.shape\n",
    "X_test.shape, y_test.shape"
   ]
  },
  {
   "cell_type": "code",
   "execution_count": 287,
   "metadata": {
    "collapsed": true
   },
   "outputs": [],
   "source": [
    "#model selection GridSearchCV\n",
    "# Grid Search for Algorithm Tuning\n",
    "import numpy as np\n",
    "from sklearn import datasets\n",
    "from sklearn.linear_model import Ridge\n",
    "from sklearn.model_selection import GridSearchCV"
   ]
  },
  {
   "cell_type": "code",
   "execution_count": 288,
   "metadata": {
    "collapsed": true
   },
   "outputs": [],
   "source": [
    "# load the diabetes datasets\n",
    "dataset = datasets.load_diabetes()"
   ]
  },
  {
   "cell_type": "code",
   "execution_count": 289,
   "metadata": {
    "collapsed": true
   },
   "outputs": [],
   "source": [
    "# prepare a range of alpha values to test\n",
    "alphas = np.array([1,0.1,0.01,0.001,0.0001,0])"
   ]
  },
  {
   "cell_type": "code",
   "execution_count": 290,
   "metadata": {},
   "outputs": [
    {
     "name": "stdout",
     "output_type": "stream",
     "text": [
      "GridSearchCV(cv=None, error_score='raise',\n",
      "       estimator=Ridge(alpha=1.0, copy_X=True, fit_intercept=True, max_iter=None,\n",
      "   normalize=False, random_state=None, solver='auto', tol=0.001),\n",
      "       fit_params={}, iid=True, n_jobs=1,\n",
      "       param_grid={'alpha': array([  1.00000e+00,   1.00000e-01,   1.00000e-02,   1.00000e-03,\n",
      "         1.00000e-04,   0.00000e+00])},\n",
      "       pre_dispatch='2*n_jobs', refit=True, return_train_score=True,\n",
      "       scoring=None, verbose=0)\n"
     ]
    }
   ],
   "source": [
    "# create and fit a ridge regression model, testing each alpha\n",
    "model = Ridge()\n",
    "grid = GridSearchCV(estimator=model, param_grid=dict(alpha=alphas))\n",
    "grid.fit(dataset.data, dataset.target)\n",
    "print(grid)"
   ]
  },
  {
   "cell_type": "code",
   "execution_count": 291,
   "metadata": {},
   "outputs": [
    {
     "name": "stdout",
     "output_type": "stream",
     "text": [
      "0.488790204461\n",
      "0.001\n"
     ]
    }
   ],
   "source": [
    "# summarize the results of the grid search\n",
    "print(grid.best_score_)\n",
    "print(grid.best_estimator_.alpha)"
   ]
  },
  {
   "cell_type": "code",
   "execution_count": 292,
   "metadata": {},
   "outputs": [
    {
     "data": {
      "text/plain": [
       "array([ 0.96666667,  1.        ,  0.96666667,  0.96666667,  1.        ])"
      ]
     },
     "execution_count": 292,
     "metadata": {},
     "output_type": "execute_result"
    }
   ],
   "source": [
    "#cross_val_score\n",
    "from sklearn.model_selection import cross_val_score\n",
    "clf = svm.SVC(kernel='linear', C=1)\n",
    "scores = cross_val_score(clf, iris.data, iris.target, cv=5)\n",
    "scores"
   ]
  },
  {
   "cell_type": "code",
   "execution_count": 293,
   "metadata": {},
   "outputs": [
    {
     "data": {
      "text/plain": [
       "0.98000000000000009"
      ]
     },
     "execution_count": 293,
     "metadata": {},
     "output_type": "execute_result"
    }
   ],
   "source": [
    "scores.mean()"
   ]
  },
  {
   "cell_type": "code",
   "execution_count": 294,
   "metadata": {},
   "outputs": [
    {
     "data": {
      "text/plain": [
       "array([ 0.96658312,  1.        ,  0.96658312,  0.96658312,  1.        ])"
      ]
     },
     "execution_count": 294,
     "metadata": {},
     "output_type": "execute_result"
    }
   ],
   "source": [
    "from sklearn import metrics\n",
    "scores = cross_val_score(clf, iris.data, iris.target, cv=5, scoring='f1_macro')\n",
    "scores"
   ]
  },
  {
   "cell_type": "code",
   "execution_count": 295,
   "metadata": {},
   "outputs": [
    {
     "data": {
      "text/plain": [
       "array([ 1.        ,  1.        ,  0.93333333])"
      ]
     },
     "execution_count": 295,
     "metadata": {},
     "output_type": "execute_result"
    }
   ],
   "source": [
    "from sklearn.model_selection import ShuffleSplit\n",
    "n_samples = iris.data.shape[0]\n",
    "cv = ShuffleSplit(n_splits=3, test_size=0.2)\n",
    "cross_val_score(clf, iris.data, iris.target, cv=cv)"
   ]
  },
  {
   "cell_type": "code",
   "execution_count": 296,
   "metadata": {
    "collapsed": true
   },
   "outputs": [],
   "source": [
    "#accuracy_score\n",
    "import numpy as np\n",
    "from sklearn.naive_bayes import GaussianNB\n",
    "from sklearn.metrics import accuracy_score\n",
    "from sklearn.ensemble import RandomForestClassifier\n",
    "from sklearn.datasets import load_iris"
   ]
  },
  {
   "cell_type": "code",
   "execution_count": 297,
   "metadata": {
    "collapsed": true
   },
   "outputs": [],
   "source": [
    "iris = load_iris()"
   ]
  },
  {
   "cell_type": "code",
   "execution_count": 298,
   "metadata": {
    "collapsed": true
   },
   "outputs": [],
   "source": [
    "model = RandomForestClassifier(n_estimators=500, max_features=3)\n",
    "model = model.fit(iris.data, iris.target)\n",
    "actual = iris.target\n",
    "predicted = model.predict(iris.data)"
   ]
  },
  {
   "cell_type": "code",
   "execution_count": 299,
   "metadata": {},
   "outputs": [
    {
     "data": {
      "text/plain": [
       "1.0"
      ]
     },
     "execution_count": 299,
     "metadata": {},
     "output_type": "execute_result"
    }
   ],
   "source": [
    "#Accuracy\n",
    "(actual==predicted).sum()/actual.shape[0]"
   ]
  },
  {
   "cell_type": "code",
   "execution_count": 300,
   "metadata": {
    "collapsed": true
   },
   "outputs": [],
   "source": [
    "#log_loss\n",
    "from sklearn.metrics import log_loss\n",
    "from sklearn.ensemble import RandomForestClassifier"
   ]
  },
  {
   "cell_type": "code",
   "execution_count": 301,
   "metadata": {
    "collapsed": true
   },
   "outputs": [],
   "source": [
    "# Test that calibration of a multiclass classifier decreases log-loss\n",
    "# for RandomForestClassifier\n",
    "X, y = make_blobs(n_samples=100, n_features=2, random_state=42,\n",
    "                  cluster_std=3.0)\n",
    "X_train, y_train = X[::2], y[::2]\n",
    "X_test, y_test = X[1::2], y[1::2]"
   ]
  },
  {
   "cell_type": "code",
   "execution_count": 302,
   "metadata": {},
   "outputs": [
    {
     "data": {
      "text/plain": [
       "0.92932689762935372"
      ]
     },
     "execution_count": 302,
     "metadata": {},
     "output_type": "execute_result"
    }
   ],
   "source": [
    "clf = RandomForestClassifier(n_estimators=10, random_state=42)\n",
    "clf.fit(X_train, y_train)\n",
    "clf_probs = clf.predict_proba(X_test)\n",
    "loss = log_loss(y_test, clf_probs)\n",
    "loss"
   ]
  },
  {
   "cell_type": "code",
   "execution_count": 303,
   "metadata": {},
   "outputs": [
    {
     "data": {
      "text/plain": [
       "0.75"
      ]
     },
     "execution_count": 303,
     "metadata": {},
     "output_type": "execute_result"
    }
   ],
   "source": [
    "#roc_auc_score\n",
    "import numpy as np\n",
    "from sklearn.metrics import roc_auc_score\n",
    "y_true = np.array([0, 0, 1, 1])\n",
    "y_scores = np.array([0.1, 0.4, 0.35, 0.8])\n",
    "roc_auc_score(y_true, y_scores)"
   ]
  },
  {
   "cell_type": "code",
   "execution_count": 304,
   "metadata": {
    "collapsed": true
   },
   "outputs": [],
   "source": [
    "#mean_absolute_error\n",
    "from sklearn.metrics import mean_absolute_error\n",
    "y_true = [3, -0.5, 2, 7]\n",
    "y_pred = [2.5, 0.0, 2, 8]"
   ]
  },
  {
   "cell_type": "code",
   "execution_count": 305,
   "metadata": {
    "collapsed": true
   },
   "outputs": [],
   "source": [
    "mean_absolute_error(y_true, y_pred)\n",
    "y_true = [[0.5, 1], [-1, 1], [7, -6]]\n",
    "y_pred = [[0, 2], [-1, 2], [8, -5]]"
   ]
  },
  {
   "cell_type": "code",
   "execution_count": 306,
   "metadata": {},
   "outputs": [
    {
     "data": {
      "text/plain": [
       "0.84999999999999998"
      ]
     },
     "execution_count": 306,
     "metadata": {},
     "output_type": "execute_result"
    }
   ],
   "source": [
    "mean_absolute_error(y_true, y_pred)\n",
    "mean_absolute_error(y_true, y_pred, multioutput='raw_values')\n",
    "mean_absolute_error(y_true, y_pred, multioutput=[0.3, 0.7])"
   ]
  },
  {
   "cell_type": "code",
   "execution_count": 307,
   "metadata": {
    "collapsed": true
   },
   "outputs": [],
   "source": [
    "from sklearn import datasets\n",
    "import pandas as pd"
   ]
  },
  {
   "cell_type": "code",
   "execution_count": 308,
   "metadata": {
    "collapsed": true
   },
   "outputs": [],
   "source": [
    "iris = datasets.load_iris()"
   ]
  },
  {
   "cell_type": "code",
   "execution_count": 309,
   "metadata": {
    "collapsed": true
   },
   "outputs": [],
   "source": [
    "# Create a dataframe with the four feature variables of iris dataset\n",
    "df = pd.DataFrame(iris.data, columns=iris.feature_names)"
   ]
  },
  {
   "cell_type": "code",
   "execution_count": 311,
   "metadata": {
    "collapsed": true
   },
   "outputs": [],
   "source": [
    "# Deriving a categorical variable, name of Species\n",
    "df['species'] = pd.Categorical.from_codes(iris.target, iris.target_names)"
   ]
  },
  {
   "cell_type": "code",
   "execution_count": 312,
   "metadata": {
    "collapsed": true
   },
   "outputs": [],
   "source": [
    "# Create a list of the feature column's names\n",
    "features = df.columns[:4]"
   ]
  },
  {
   "cell_type": "code",
   "execution_count": 314,
   "metadata": {},
   "outputs": [
    {
     "name": "stdout",
     "output_type": "stream",
     "text": [
      "     sepal length (cm)  sepal width (cm)  petal length (cm)  petal width (cm)\n",
      "0                  5.1               3.5                1.4               0.2\n",
      "1                  4.9               3.0                1.4               0.2\n",
      "2                  4.7               3.2                1.3               0.2\n",
      "3                  4.6               3.1                1.5               0.2\n",
      "4                  5.0               3.6                1.4               0.2\n",
      "5                  5.4               3.9                1.7               0.4\n",
      "6                  4.6               3.4                1.4               0.3\n",
      "7                  5.0               3.4                1.5               0.2\n",
      "8                  4.4               2.9                1.4               0.2\n",
      "9                  4.9               3.1                1.5               0.1\n",
      "10                 5.4               3.7                1.5               0.2\n",
      "11                 4.8               3.4                1.6               0.2\n",
      "12                 4.8               3.0                1.4               0.1\n",
      "13                 4.3               3.0                1.1               0.1\n",
      "14                 5.8               4.0                1.2               0.2\n",
      "15                 5.7               4.4                1.5               0.4\n",
      "16                 5.4               3.9                1.3               0.4\n",
      "17                 5.1               3.5                1.4               0.3\n",
      "18                 5.7               3.8                1.7               0.3\n",
      "19                 5.1               3.8                1.5               0.3\n",
      "20                 5.4               3.4                1.7               0.2\n",
      "21                 5.1               3.7                1.5               0.4\n",
      "22                 4.6               3.6                1.0               0.2\n",
      "23                 5.1               3.3                1.7               0.5\n",
      "24                 4.8               3.4                1.9               0.2\n",
      "25                 5.0               3.0                1.6               0.2\n",
      "26                 5.0               3.4                1.6               0.4\n",
      "27                 5.2               3.5                1.5               0.2\n",
      "28                 5.2               3.4                1.4               0.2\n",
      "29                 4.7               3.2                1.6               0.2\n",
      "..                 ...               ...                ...               ...\n",
      "120                6.9               3.2                5.7               2.3\n",
      "121                5.6               2.8                4.9               2.0\n",
      "122                7.7               2.8                6.7               2.0\n",
      "123                6.3               2.7                4.9               1.8\n",
      "124                6.7               3.3                5.7               2.1\n",
      "125                7.2               3.2                6.0               1.8\n",
      "126                6.2               2.8                4.8               1.8\n",
      "127                6.1               3.0                4.9               1.8\n",
      "128                6.4               2.8                5.6               2.1\n",
      "129                7.2               3.0                5.8               1.6\n",
      "130                7.4               2.8                6.1               1.9\n",
      "131                7.9               3.8                6.4               2.0\n",
      "132                6.4               2.8                5.6               2.2\n",
      "133                6.3               2.8                5.1               1.5\n",
      "134                6.1               2.6                5.6               1.4\n",
      "135                7.7               3.0                6.1               2.3\n",
      "136                6.3               3.4                5.6               2.4\n",
      "137                6.4               3.1                5.5               1.8\n",
      "138                6.0               3.0                4.8               1.8\n",
      "139                6.9               3.1                5.4               2.1\n",
      "140                6.7               3.1                5.6               2.4\n",
      "141                6.9               3.1                5.1               2.3\n",
      "142                5.8               2.7                5.1               1.9\n",
      "143                6.8               3.2                5.9               2.3\n",
      "144                6.7               3.3                5.7               2.5\n",
      "145                6.7               3.0                5.2               2.3\n",
      "146                6.3               2.5                5.0               1.9\n",
      "147                6.5               3.0                5.2               2.0\n",
      "148                6.2               3.4                5.4               2.3\n",
      "149                5.9               3.0                5.1               1.8\n",
      "\n",
      "[150 rows x 4 columns]\n"
     ]
    }
   ],
   "source": [
    "# Principal Component Analysis(PCA) for feature transformation\n",
    "print(df[features])"
   ]
  },
  {
   "cell_type": "code",
   "execution_count": 315,
   "metadata": {
    "collapsed": true
   },
   "outputs": [],
   "source": [
    "import numpy as np\n",
    "from sklearn.decomposition import PCA\n",
    "import matplotlib.pyplot as plt"
   ]
  },
  {
   "cell_type": "code",
   "execution_count": 316,
   "metadata": {},
   "outputs": [
    {
     "data": {
      "text/plain": [
       "PCA(copy=True, iterated_power='auto', n_components=3, random_state=None,\n",
       "  svd_solver='auto', tol=0.0, whiten=False)"
      ]
     },
     "execution_count": 316,
     "metadata": {},
     "output_type": "execute_result"
    }
   ],
   "source": [
    "# Getting transformed(new) features\n",
    "pca = PCA(n_components=3) # number of new features can be anything less than number of features\n",
    "pca.fit(df[features])"
   ]
  },
  {
   "cell_type": "code",
   "execution_count": 317,
   "metadata": {},
   "outputs": [
    {
     "name": "stdout",
     "output_type": "stream",
     "text": [
      "<class 'numpy.ndarray'>\n"
     ]
    }
   ],
   "source": [
    "#Transformed Dataset\n",
    "df_transformed = pca.fit_transform(df[features]) # New dataset \n",
    "print(type(df_transformed))"
   ]
  },
  {
   "cell_type": "code",
   "execution_count": 318,
   "metadata": {},
   "outputs": [
    {
     "name": "stdout",
     "output_type": "stream",
     "text": [
      "[ 92.46  97.76  99.48]\n"
     ]
    },
    {
     "data": {
      "image/png": "[encoded data removed]",
      "text/plain": [
       "<matplotlib.figure.Figure at 0x7f0b9fa34908>"
      ]
     },
     "metadata": {},
     "output_type": "display_data"
    }
   ],
   "source": [
    "# Quantifying its effectiveness\n",
    "var1 = np.cumsum(np.round(pca.explained_variance_ratio_, decimals = 4) * 100)\n",
    "print(var1)\n",
    "\n",
    "plt.plot(np.arange(0,3),var1)\n",
    "plt.show()"
   ]
  },
  {
   "cell_type": "code",
   "execution_count": 319,
   "metadata": {
    "collapsed": true
   },
   "outputs": [],
   "source": [
    "#Matplotlib"
   ]
  },
  {
   "cell_type": "code",
   "execution_count": 320,
   "metadata": {
    "collapsed": true
   },
   "outputs": [],
   "source": [
    "#Basic Plot\n",
    "import matplotlib.pyplot as plt\n",
    "import numpy as np\n",
    "%matplotlib inline"
   ]
  },
  {
   "cell_type": "code",
   "execution_count": 321,
   "metadata": {
    "collapsed": true
   },
   "outputs": [],
   "source": [
    "#define some data\n",
    "x = np.linspace(0,10,100) # 100 points starting from 0\n",
    "mu, sigma = 0, 0.1 # mean and standard deviation\n",
    "y = np.random.normal(mu, sigma, 100) # creating data of normal distribution"
   ]
  },
  {
   "cell_type": "code",
   "execution_count": 322,
   "metadata": {},
   "outputs": [
    {
     "data": {
      "text/plain": [
       "[<matplotlib.lines.Line2D at 0x7f0b9f8fb4e0>]"
      ]
     },
     "execution_count": 322,
     "metadata": {},
     "output_type": "execute_result"
    },
    {
     "data": {
      "image/png": "[encoded data removed]",
      "text/plain": [
       "<matplotlib.figure.Figure at 0x7f0b9fa1af28>"
      ]
     },
     "metadata": {},
     "output_type": "display_data"
    }
   ],
   "source": [
    "plt.plot(x, y)"
   ]
  },
  {
   "cell_type": "code",
   "execution_count": 323,
   "metadata": {},
   "outputs": [
    {
     "data": {
      "text/plain": [
       "<matplotlib.figure.Figure at 0x7f0b9f9413c8>"
      ]
     },
     "metadata": {},
     "output_type": "display_data"
    }
   ],
   "source": [
    "plt.savefig('PlotA.png') # saving images on local machine"
   ]
  },
  {
   "cell_type": "code",
   "execution_count": 324,
   "metadata": {},
   "outputs": [
    {
     "data": {
      "text/plain": [
       "<matplotlib.text.Text at 0x7f0b9f8e72b0>"
      ]
     },
     "execution_count": 324,
     "metadata": {},
     "output_type": "execute_result"
    },
    {
     "data": {
      "image/png": "[encoded data removed]",
      "text/plain": [
       "<matplotlib.figure.Figure at 0x7f0b9f9a4be0>"
      ]
     },
     "metadata": {},
     "output_type": "display_data"
    }
   ],
   "source": [
    "#  plot (Time Series)\n",
    "fig, ax = plt.subplots()\n",
    "ax.plot(x, y, color='red')\n",
    "ax.grid()\n",
    "ax.set_xlabel('Time (in Minute)')\n",
    "ax.set_ylabel(' Stock Price')\n",
    "ax.set_title(' Stock Price Movement')"
   ]
  },
  {
   "cell_type": "code",
   "execution_count": 325,
   "metadata": {},
   "outputs": [
    {
     "data": {
      "image/png": "[encoded data removed]",
      "text/plain": [
       "<matplotlib.figure.Figure at 0x7f0b9f8c9320>"
      ]
     },
     "metadata": {},
     "output_type": "display_data"
    }
   ],
   "source": [
    "n = 12\n",
    "X = np.arange(n)\n",
    "Y1 = (1-X/float(n)) * np.random.uniform(0.5,1.0,n)\n",
    "Y2 = (1-X/float(n)) * np.random.uniform(0.5,1.0,n)\n",
    "\n",
    "plt.bar(X, +Y1, facecolor='#1199ee', edgecolor='white')\n",
    "plt.bar(X, -Y2, facecolor='#ee9988', edgecolor='white')\n",
    "\n",
    "for x,y in zip(X,Y1):\n",
    "    plt.text(x+0.4, y+0.05, '%.2f' % y, ha='center', va= 'bottom')\n",
    "\n",
    "plt.ylim(-1.25,+1.25)\n",
    "plt.show()"
   ]
  },
  {
   "cell_type": "code",
   "execution_count": 326,
   "metadata": {},
   "outputs": [
    {
     "data": {
      "image/png": "[encoded data removed]",
      "text/plain": [
       "<matplotlib.figure.Figure at 0x7f0b9f8b42e8>"
      ]
     },
     "metadata": {},
     "output_type": "display_data"
    }
   ],
   "source": [
    " # Pie Chart\n",
    "import numpy as np\n",
    "import matplotlib.pyplot as plt\n",
    "n = 6\n",
    "Z = np.random.uniform(0,1,n)\n",
    "plt.pie(Z)\n",
    "plt.show()"
   ]
  },
  {
   "cell_type": "code",
   "execution_count": 327,
   "metadata": {},
   "outputs": [
    {
     "data": {
      "image/png": "[encoded data removed]",
      "text/plain": [
       "<matplotlib.figure.Figure at 0x7f0ba5789be0>"
      ]
     },
     "metadata": {},
     "output_type": "display_data"
    }
   ],
   "source": [
    "n1 = np.random.randn(1000)\n",
    "n2 = np.random.uniform(-1,5,800)\n",
    "fig, axes = plt.subplots(1, 2, figsize=(10,4)) #One row, Two columns  for position of plots\n",
    "axes[0].hist(n1)\n",
    "axes[0].set_title(\"Histogram: Normal Distribution\")\n",
    "axes[0].set_xlim((min(n1), max(n1)))\n",
    "axes[1].hist(n2)\n",
    "axes[1].set_title(\"Histogram: Uniform Distribution\")\n",
    "axes[1].set_xlim((min(n2), max(n2)));"
   ]
  },
  {
   "cell_type": "code",
   "execution_count": 328,
   "metadata": {},
   "outputs": [
    {
     "data": {
      "text/plain": [
       "[<matplotlib.text.Text at 0x7f0b9f6a8898>,\n",
       " <matplotlib.text.Text at 0x7f0ba32bce48>,\n",
       " <matplotlib.text.Text at 0x7f0b9f799c50>,\n",
       " <matplotlib.text.Text at 0x7f0b9f71f9e8>]"
      ]
     },
     "execution_count": 328,
     "metadata": {},
     "output_type": "execute_result"
    },
    {
     "data": {
      "image/png": "[encoded data removed]",
      "text/plain": [
       "<matplotlib.figure.Figure at 0x7f0b9f5b05f8>"
      ]
     },
     "metadata": {},
     "output_type": "display_data"
    }
   ],
   "source": [
    "# Boxplots\n",
    "# Create data\n",
    "np.random.seed(10)\n",
    "client_1 = np.random.normal(40, 8, 50)\n",
    "client_2 = np.random.normal(50, 10, 50)\n",
    "client_3 = np.random.normal(50, 15, 50)\n",
    "client_4 = np.random.normal(60, 25, 50)\n",
    "\n",
    "## combine these different collections into a list    \n",
    "data_to_plot = [client_1, client_2, client_3, client_4]\n",
    "# Create a figure instance\n",
    "fig = plt.figure(1, figsize=(9, 6))\n",
    "# Create an axes instance\n",
    "ax = fig.add_subplot(111)\n",
    "# Create the boxplot\n",
    "bp = ax.boxplot(data_to_plot)\n",
    "# Save the figure\n",
    "fig.savefig('Client_Comparison.png', bbox_inches='tight')\n",
    "ax.set_xticklabels(['client1', 'client2', 'client3', 'client4'])"
   ]
  },
  {
   "cell_type": "code",
   "execution_count": 329,
   "metadata": {},
   "outputs": [
    {
     "data": {
      "image/png": "[encoded data removed]",
      "text/plain": [
       "<matplotlib.figure.Figure at 0x7f0b9f768b70>"
      ]
     },
     "metadata": {},
     "output_type": "display_data"
    }
   ],
   "source": [
    " # Multiple plots in a single diagram\n",
    "t = np.arange(0,50)\n",
    "fig, ax = plt.subplots()\n",
    "plt.plot(t,client_1,'r') # plotting t,a separately \n",
    "plt.plot(t,client_2,'b') # plotting t,b separately \n",
    "plt.plot(t,client_3,'g') # plotting t,c separately \n",
    "\n",
    "#plt.set_title(\"KPI\")\n",
    "plt.show()"
   ]
  },
  {
   "cell_type": "code",
   "execution_count": null,
   "metadata": {
    "collapsed": true
   },
   "outputs": [],
   "source": []
  }
 ],
 "metadata": {
  "kernelspec": {
   "display_name": "Python 3",
   "language": "python",
   "name": "python3"
  },
  "language_info": {
   "codemirror_mode": {
    "name": "ipython",
    "version": 3
   },
   "file_extension": ".py",
   "mimetype": "text/x-python",
   "name": "python",
   "nbconvert_exporter": "python",
   "pygments_lexer": "ipython3",
   "version": "3.6.3"
  }
 },
 "nbformat": 4,
 "nbformat_minor": 2
}
