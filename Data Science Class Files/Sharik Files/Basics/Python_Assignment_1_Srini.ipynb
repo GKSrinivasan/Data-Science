{
 "cells": [
  {
   "cell_type": "markdown",
   "metadata": {},
   "source": [
    "_**TODO: Select the three most recent dates from this list using list slicing notation**_\n"
   ]
  },
  {
   "cell_type": "code",
   "execution_count": 1,
   "metadata": {},
   "outputs": [],
   "source": [
    "eclipse_dates = ['June 21, 2001', 'December 4, 2002', 'November 23, 2003',\n",
    "                 'March 29, 2006', 'August 1, 2008', 'July 22, 2009',\n",
    "                 'July 11, 2010', 'November 13, 2012', 'March 20, 2015',\n",
    "                 'March 9, 2016']\n",
    "                 \n",
    "\n",
    "#print(eclipse_dates)"
   ]
  },
  {
   "cell_type": "code",
   "execution_count": 4,
   "metadata": {},
   "outputs": [
    {
     "name": "stdout",
     "output_type": "stream",
     "text": [
      "['November 13, 2012', 'March 20, 2015', 'March 9, 2016']\n"
     ]
    }
   ],
   "source": [
    "print(eclipse_dates[len(eclipse_dates)-3:len(eclipse_dates)])"
   ]
  },
  {
   "cell_type": "markdown",
   "metadata": {},
   "source": [
    "_**TODO: Print the list and max value from the three (name of the list which has maximum value and its value **_\n"
   ]
  },
  {
   "cell_type": "code",
   "execution_count": 64,
   "metadata": {},
   "outputs": [
    {
     "name": "stdout",
     "output_type": "stream",
     "text": [
      "A List\n",
      "[1, 5, 8, 15, 150]\n",
      "A List Max Value\n",
      "150\n",
      "B List\n",
      "[2, 6, 9, 10, 50, 75]\n",
      "B List Max Value\n",
      "75\n",
      "C List\n",
      "[100, 20, 30, 18, 25]\n",
      "C List Max Value\n",
      "100\n",
      "A List:  150\n"
     ]
    }
   ],
   "source": [
    "# Code should work if the values are changed\n",
    "a = [1, 5, 8, 15, 150]\n",
    "b = [2, 6, 9, 10, 50, 75]\n",
    "c = [100, 20, 30, 18, 25 ]\n",
    "a_max=max(a)\n",
    "b_max=max(b)\n",
    "c_max=max(c)\n",
    "print(\"A List\")\n",
    "print(a)\n",
    "print(\"A List Max Value\")\n",
    "print(a_max)\n",
    "print(\"B List\")\n",
    "print(b)\n",
    "print(\"B List Max Value\")\n",
    "print(b_max)\n",
    "print(\"C List\")\n",
    "print(c)\n",
    "print(\"C List Max Value\")\n",
    "print(c_max)\n",
    "if a_max>b_max and a_max>c_max:\n",
    "    print(\"A List: \",a_max)\n",
    "elif b_max>a_max and b_max>c_max:\n",
    "    print(\"B List: \",b_max)\n",
    "else:\n",
    "    print(\"C List: \",c_max)"
   ]
  },
  {
   "cell_type": "markdown",
   "metadata": {},
   "source": [
    "_**TODO: **_\n"
   ]
  },
  {
   "cell_type": "code",
   "execution_count": 57,
   "metadata": {},
   "outputs": [],
   "source": [
    "names = [\"Carol\", \"Albert\", \"Ben\", \"Donna\"]\n",
    "\n",
    "# Expected output \n",
    "# Carol-Albert and Ben-Donna"
   ]
  },
  {
   "cell_type": "code",
   "execution_count": 58,
   "metadata": {},
   "outputs": [
    {
     "data": {
      "text/plain": [
       "'Carol-Albert and Ben-Donna'"
      ]
     },
     "execution_count": 58,
     "metadata": {},
     "output_type": "execute_result"
    }
   ],
   "source": [
    "str=\"\"\n",
    "for i in range(len(names)):\n",
    "    if (i+1)%2!=0:\n",
    "        str+=names[i]+\"-\"\n",
    "    elif (i+1) != len(names):\n",
    "        str+=names[i]+\" and \"\n",
    "    else:\n",
    "        str+=names[i]\n",
    "str"
   ]
  },
  {
   "cell_type": "markdown",
   "metadata": {},
   "source": [
    "_**TODO: Print the numbers present in 1 and missing in 2 and viceversa **_                                                        \n",
    "_** Also the common numbers **_"
   ]
  },
  {
   "cell_type": "code",
   "execution_count": 54,
   "metadata": {},
   "outputs": [
    {
     "name": "stdout",
     "output_type": "stream",
     "text": [
      "Present in 1 and missing in 2\n",
      "set()\n",
      "Present in 2 and missing in 1\n",
      "{8, 5, 7}\n",
      "Common numbers\n",
      "{1, 2, 3, 6}\n"
     ]
    }
   ],
   "source": [
    "numbers_1 = [1, 2, 6, 3, 1, 1, 6]\n",
    "numbers_2 = [2, 5, 8, 7, 3, 1, 6]\n",
    "numbers_1_set=set(numbers_1)\n",
    "numbers_2_set=set(numbers_2)\n",
    "print(\"Present in 1 and missing in 2\")\n",
    "print(numbers_1_set.difference(numbers_2_set))\n",
    "print(\"Present in 2 and missing in 1\")\n",
    "print(numbers_2_set.difference(numbers_1_set))\n",
    "print(\"Common numbers\")\n",
    "print(numbers_1_set.intersection(number_2_set))"
   ]
  },
  {
   "cell_type": "markdown",
   "metadata": {},
   "source": [
    "_**TODO: Tax Purchase\n",
    "Depending on where an individual is from we need to tax them appropriately. The states of CA, MN, and NY have taxes of 7.5%, 9.5%, and 8.9% respectively. Use this information to take the amount of a purchase and the corresponding state to assure that they are taxed by the right amount**_"
   ]
  },
  {
   "cell_type": "code",
   "execution_count": null,
   "metadata": {
    "collapsed": true
   },
   "outputs": [],
   "source": [
    "#The states of CA, MN and NY have taxes of 7.5%, 9.5%, and 8.9% respectively\n",
    "# Based on state and purchase amount print the tax value(Hints: Get the inputs via input command from the user) \n",
    "\n",
    "#state = \n",
    "#purchase_amount =\n",
    "\n",
    "#tax = purchase_amount*tax_amount(Formula)"
   ]
  },
  {
   "cell_type": "code",
   "execution_count": 46,
   "metadata": {},
   "outputs": [
    {
     "name": "stdout",
     "output_type": "stream",
     "text": [
      "Enter the stateCA\n",
      "Enter the purchase amt200\n",
      "Tax15.0\n"
     ]
    }
   ],
   "source": [
    "def tax_amount(purechase_amt,state):\n",
    "    tax=0\n",
    "    if state==\"CA\":\n",
    "        tax=7.5\n",
    "    elif state == \"MN\":\n",
    "        tax=9.5\n",
    "    elif state == \"NY\":\n",
    "        tax=8.9\n",
    "    return (purechase_amt*tax)/100\n",
    "state=input(\"Enter the state\")\n",
    "purechase_amt=int(input(\"Enter the purchase amt\"))\n",
    "print(\"Tax: \"+str(tax_amount(purechase_amt,state)))"
   ]
  },
  {
   "cell_type": "markdown",
   "metadata": {},
   "source": [
    "_**TODO: Write a for loop that iterates over the names list to create a usernames list. To create a username for each name, make everything lowercase and replace spaces with underscores**_"
   ]
  },
  {
   "cell_type": "code",
   "execution_count": 42,
   "metadata": {},
   "outputs": [],
   "source": [
    "# Input\n",
    "names = [\"Joey Tribbiani\", \"Monica Geller\", \"Chandler Bing\", \"Phoebe Buffay\"]\n",
    "\n",
    "# Expected list \n",
    "usernames = [\"joey_tribbiani\", \"monica_geller\", \"chandler_bing\", \"phoebe_buffay\"]\n"
   ]
  },
  {
   "cell_type": "markdown",
   "metadata": {},
   "source": [
    "_**TODO: For the above problem modify the same list names without creating a new list**_"
   ]
  },
  {
   "cell_type": "code",
   "execution_count": 43,
   "metadata": {},
   "outputs": [
    {
     "data": {
      "text/plain": [
       "['joey_tribbiani', 'monica_geller', 'chandler_bing', 'phoebe_buffay']"
      ]
     },
     "execution_count": 43,
     "metadata": {},
     "output_type": "execute_result"
    }
   ],
   "source": [
    "for i in range(len(names)):\n",
    "    names[i]=names[i].replace(\" \",\"_\").lower()\n",
    "names"
   ]
  },
  {
   "cell_type": "markdown",
   "metadata": {},
   "source": [
    "_**TODO: Create a dictionary with the word count**_"
   ]
  },
  {
   "cell_type": "code",
   "execution_count": 26,
   "metadata": {},
   "outputs": [],
   "source": [
    "book_title =  ['great', 'expectations','the', 'adventures', 'of', 'sherlock','holmes','the','great','gasby','hamlet','adventures','of','huckleberry','fin']\n",
    "\n",
    "# Expected result\n",
    "#{'great': 2, 'expectations': 1, 'the': 2, 'adventures': 2, 'of': 2, 'sherlock': 1, 'holmes': 1, 'gasby': 1, 'hamlet': 1, 'huckleberry': 1, 'fin': 1}"
   ]
  },
  {
   "cell_type": "code",
   "execution_count": 34,
   "metadata": {},
   "outputs": [
    {
     "data": {
      "text/plain": [
       "{'great': 2,\n",
       " 'expectations': 1,\n",
       " 'the': 2,\n",
       " 'adventures': 2,\n",
       " 'of': 2,\n",
       " 'sherlock': 1,\n",
       " 'holmes': 1,\n",
       " 'gasby': 1,\n",
       " 'hamlet': 1,\n",
       " 'huckleberry': 1,\n",
       " 'fin': 1}"
      ]
     },
     "execution_count": 34,
     "metadata": {},
     "output_type": "execute_result"
    }
   ],
   "source": [
    "book_dic=dict()\n",
    "for i in book_title:\n",
    "    book_dic.update({i:book_title.count(i)})\n",
    "book_dic"
   ]
  },
  {
   "cell_type": "markdown",
   "metadata": {},
   "source": [
    "_**TODO: Iterate through the dictionary **_"
   ]
  },
  {
   "cell_type": "code",
   "execution_count": 5,
   "metadata": {},
   "outputs": [],
   "source": [
    "cast = {\n",
    "           \"Jerry Seinfeld\": \"Jerry Seinfeld\",\n",
    "           \"Julia Louis-Dreyfus\": \"Elaine Benes\",\n",
    "           \"Jason Alexander\": \"George Costanza\",\n",
    "           \"Michael Richards\": \"Cosmo Kramer\"\n",
    "       }\n",
    "\n",
    "# Expected output:\n",
    "\n",
    "# Actor: Jerry Seinfeld    Role: Jerry Seinfeld\n",
    "# Actor: Julia Louis-Dreyfus    Role: Elaine Benes\n",
    "# Actor: Jason Alexander    Role: George Costanza\n",
    "# Actor: Michael Richards    Role: Cosmo Kramer"
   ]
  },
  {
   "cell_type": "code",
   "execution_count": 14,
   "metadata": {},
   "outputs": [
    {
     "name": "stdout",
     "output_type": "stream",
     "text": [
      "Actor: Jerry Seinfeld   Role: Jerry Seinfeld\n",
      "Actor: Julia Louis-Dreyfus   Role: Elaine Benes\n",
      "Actor: Jason Alexander   Role: George Costanza\n",
      "Actor: Michael Richards   Role: Cosmo Kramer\n"
     ]
    }
   ],
   "source": [
    "for i in cast.items():\n",
    "    print(\"Actor: \"+i[0]+\"   Role: \"+i[1])"
   ]
  },
  {
   "cell_type": "code",
   "execution_count": null,
   "metadata": {},
   "outputs": [],
   "source": []
  }
 ],
 "metadata": {
  "kernelspec": {
   "display_name": "Python 3",
   "language": "python",
   "name": "python3"
  },
  "language_info": {
   "codemirror_mode": {
    "name": "ipython",
    "version": 3
   },
   "file_extension": ".py",
   "mimetype": "text/x-python",
   "name": "python",
   "nbconvert_exporter": "python",
   "pygments_lexer": "ipython3",
   "version": "3.6.5"
  }
 },
 "nbformat": 4,
 "nbformat_minor": 2
}
