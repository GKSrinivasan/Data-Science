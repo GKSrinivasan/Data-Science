{
 "cells": [
  {
   "cell_type": "code",
   "execution_count": 2,
   "metadata": {},
   "outputs": [],
   "source": [
    "import numpy as np\n",
    "import pandas as pd"
   ]
  },
  {
   "cell_type": "code",
   "execution_count": 5,
   "metadata": {},
   "outputs": [],
   "source": [
    "dataSet = pd.read_csv('my_bank.csv')"
   ]
  },
  {
   "cell_type": "code",
   "execution_count": 7,
   "metadata": {},
   "outputs": [
    {
     "data": {
      "text/plain": [
       "Index(['ID', 'Age', 'Experience', 'Income', 'ZIP Code', 'Family', 'CCAvg',\n",
       "       'Education', 'Mortgage', 'Personal Loan', 'Securities Account',\n",
       "       'CD Account', 'Online', 'CreditCard', 'Phone'],\n",
       "      dtype='object')"
      ]
     },
     "execution_count": 7,
     "metadata": {},
     "output_type": "execute_result"
    }
   ],
   "source": [
    "dataSet.columns"
   ]
  },
  {
   "cell_type": "code",
   "execution_count": 8,
   "metadata": {},
   "outputs": [
    {
     "name": "stdout",
     "output_type": "stream",
     "text": [
      "<class 'pandas.core.frame.DataFrame'>\n",
      "RangeIndex: 5005 entries, 0 to 5004\n",
      "Data columns (total 15 columns):\n",
      "ID                    5005 non-null int64\n",
      "Age                   5005 non-null int64\n",
      "Experience            5005 non-null int64\n",
      "Income                5001 non-null float64\n",
      "ZIP Code              5005 non-null int64\n",
      "Family                5005 non-null int64\n",
      "CCAvg                 5002 non-null float64\n",
      "Education             5005 non-null int64\n",
      "Mortgage              5005 non-null int64\n",
      "Personal Loan         5005 non-null int64\n",
      "Securities Account    5005 non-null int64\n",
      "CD Account            5005 non-null int64\n",
      "Online                5005 non-null int64\n",
      "CreditCard            5005 non-null int64\n",
      "Phone                 7 non-null float64\n",
      "dtypes: float64(3), int64(12)\n",
      "memory usage: 586.6 KB\n"
     ]
    }
   ],
   "source": [
    "dataSet.info()"
   ]
  },
  {
   "cell_type": "code",
   "execution_count": 9,
   "metadata": {},
   "outputs": [],
   "source": [
    "dataSet.drop(['ID','Phone'],axis=1,inplace=True)"
   ]
  },
  {
   "cell_type": "code",
   "execution_count": 10,
   "metadata": {},
   "outputs": [
    {
     "data": {
      "text/plain": [
       "Index(['Age', 'Experience', 'Income', 'ZIP Code', 'Family', 'CCAvg',\n",
       "       'Education', 'Mortgage', 'Personal Loan', 'Securities Account',\n",
       "       'CD Account', 'Online', 'CreditCard'],\n",
       "      dtype='object')"
      ]
     },
     "execution_count": 10,
     "metadata": {},
     "output_type": "execute_result"
    }
   ],
   "source": [
    "dataSet.columns"
   ]
  },
  {
   "cell_type": "code",
   "execution_count": 11,
   "metadata": {},
   "outputs": [],
   "source": [
    "dataSet.columns=['Age', 'Experience', 'Income', 'ZIPCode', 'Family', 'CCAvg',\n",
    "       'Education', 'Mortgage', 'PersonalLoan', 'SecuritiesAccount',\n",
    "       'CDAccount', 'Online', 'CreditCard']"
   ]
  },
  {
   "cell_type": "code",
   "execution_count": 16,
   "metadata": {},
   "outputs": [],
   "source": [
    "dataSet.ZIPCode=dataSet.ZIPCode.astype('category')"
   ]
  },
  {
   "cell_type": "code",
   "execution_count": 17,
   "metadata": {},
   "outputs": [
    {
     "name": "stdout",
     "output_type": "stream",
     "text": [
      "<class 'pandas.core.frame.DataFrame'>\n",
      "RangeIndex: 5005 entries, 0 to 5004\n",
      "Data columns (total 13 columns):\n",
      "Age                  5005 non-null int64\n",
      "Experience           5005 non-null int64\n",
      "Income               5001 non-null float64\n",
      "ZIPCode              5005 non-null category\n",
      "Family               5005 non-null int64\n",
      "CCAvg                5002 non-null float64\n",
      "Education            5005 non-null int64\n",
      "Mortgage             5005 non-null int64\n",
      "PersonalLoan         5005 non-null int64\n",
      "SecuritiesAccount    5005 non-null int64\n",
      "CDAccount            5005 non-null int64\n",
      "Online               5005 non-null int64\n",
      "CreditCard           5005 non-null int64\n",
      "dtypes: category(1), float64(2), int64(10)\n",
      "memory usage: 502.7 KB\n"
     ]
    }
   ],
   "source": [
    "dataSet.info()"
   ]
  },
  {
   "cell_type": "code",
   "execution_count": 19,
   "metadata": {},
   "outputs": [],
   "source": [
    "dataSet.ZIPCode=dataSet.ZIPCode.cat.codes"
   ]
  },
  {
   "cell_type": "code",
   "execution_count": 20,
   "metadata": {},
   "outputs": [
    {
     "name": "stdout",
     "output_type": "stream",
     "text": [
      "<class 'pandas.core.frame.DataFrame'>\n",
      "RangeIndex: 5005 entries, 0 to 5004\n",
      "Data columns (total 13 columns):\n",
      "Age                  5005 non-null int64\n",
      "Experience           5005 non-null int64\n",
      "Income               5001 non-null float64\n",
      "ZIPCode              5005 non-null int16\n",
      "Family               5005 non-null int64\n",
      "CCAvg                5002 non-null float64\n",
      "Education            5005 non-null int64\n",
      "Mortgage             5005 non-null int64\n",
      "PersonalLoan         5005 non-null int64\n",
      "SecuritiesAccount    5005 non-null int64\n",
      "CDAccount            5005 non-null int64\n",
      "Online               5005 non-null int64\n",
      "CreditCard           5005 non-null int64\n",
      "dtypes: float64(2), int16(1), int64(10)\n",
      "memory usage: 479.1 KB\n"
     ]
    }
   ],
   "source": [
    "dataSet.info()"
   ]
  },
  {
   "cell_type": "code",
   "execution_count": 21,
   "metadata": {},
   "outputs": [
    {
     "data": {
      "text/html": [
       "<div>\n",
       "<style scoped>\n",
       "    .dataframe tbody tr th:only-of-type {\n",
       "        vertical-align: middle;\n",
       "    }\n",
       "\n",
       "    .dataframe tbody tr th {\n",
       "        vertical-align: top;\n",
       "    }\n",
       "\n",
       "    .dataframe thead th {\n",
       "        text-align: right;\n",
       "    }\n",
       "</style>\n",
       "<table border=\"1\" class=\"dataframe\">\n",
       "  <thead>\n",
       "    <tr style=\"text-align: right;\">\n",
       "      <th></th>\n",
       "      <th>Age</th>\n",
       "      <th>Experience</th>\n",
       "      <th>Income</th>\n",
       "      <th>ZIPCode</th>\n",
       "      <th>Family</th>\n",
       "      <th>CCAvg</th>\n",
       "      <th>Education</th>\n",
       "      <th>Mortgage</th>\n",
       "      <th>PersonalLoan</th>\n",
       "      <th>SecuritiesAccount</th>\n",
       "      <th>CDAccount</th>\n",
       "      <th>Online</th>\n",
       "      <th>CreditCard</th>\n",
       "    </tr>\n",
       "  </thead>\n",
       "  <tbody>\n",
       "    <tr>\n",
       "      <th>count</th>\n",
       "      <td>5005.000000</td>\n",
       "      <td>5005.000000</td>\n",
       "      <td>5001.000000</td>\n",
       "      <td>5005.000000</td>\n",
       "      <td>5005.000000</td>\n",
       "      <td>5002.000000</td>\n",
       "      <td>5005.000000</td>\n",
       "      <td>5005.000000</td>\n",
       "      <td>5005.000000</td>\n",
       "      <td>5005.000000</td>\n",
       "      <td>5005.000000</td>\n",
       "      <td>5005.000000</td>\n",
       "      <td>5005.000000</td>\n",
       "    </tr>\n",
       "    <tr>\n",
       "      <th>mean</th>\n",
       "      <td>45.405195</td>\n",
       "      <td>20.108891</td>\n",
       "      <td>73.731654</td>\n",
       "      <td>239.731069</td>\n",
       "      <td>2.395205</td>\n",
       "      <td>1.938083</td>\n",
       "      <td>1.881718</td>\n",
       "      <td>56.505295</td>\n",
       "      <td>0.096104</td>\n",
       "      <td>0.104296</td>\n",
       "      <td>0.060539</td>\n",
       "      <td>0.597003</td>\n",
       "      <td>0.294106</td>\n",
       "    </tr>\n",
       "    <tr>\n",
       "      <th>std</th>\n",
       "      <td>11.785471</td>\n",
       "      <td>11.466139</td>\n",
       "      <td>46.016401</td>\n",
       "      <td>130.809195</td>\n",
       "      <td>1.147782</td>\n",
       "      <td>1.747419</td>\n",
       "      <td>0.839899</td>\n",
       "      <td>101.694910</td>\n",
       "      <td>0.294763</td>\n",
       "      <td>0.305674</td>\n",
       "      <td>0.238507</td>\n",
       "      <td>0.490549</td>\n",
       "      <td>0.455685</td>\n",
       "    </tr>\n",
       "    <tr>\n",
       "      <th>min</th>\n",
       "      <td>23.000000</td>\n",
       "      <td>-3.000000</td>\n",
       "      <td>8.000000</td>\n",
       "      <td>0.000000</td>\n",
       "      <td>1.000000</td>\n",
       "      <td>0.000000</td>\n",
       "      <td>1.000000</td>\n",
       "      <td>0.000000</td>\n",
       "      <td>0.000000</td>\n",
       "      <td>0.000000</td>\n",
       "      <td>0.000000</td>\n",
       "      <td>0.000000</td>\n",
       "      <td>0.000000</td>\n",
       "    </tr>\n",
       "    <tr>\n",
       "      <th>25%</th>\n",
       "      <td>35.000000</td>\n",
       "      <td>10.000000</td>\n",
       "      <td>39.000000</td>\n",
       "      <td>131.000000</td>\n",
       "      <td>1.000000</td>\n",
       "      <td>0.700000</td>\n",
       "      <td>1.000000</td>\n",
       "      <td>0.000000</td>\n",
       "      <td>0.000000</td>\n",
       "      <td>0.000000</td>\n",
       "      <td>0.000000</td>\n",
       "      <td>0.000000</td>\n",
       "      <td>0.000000</td>\n",
       "    </tr>\n",
       "    <tr>\n",
       "      <th>50%</th>\n",
       "      <td>45.000000</td>\n",
       "      <td>20.000000</td>\n",
       "      <td>64.000000</td>\n",
       "      <td>254.000000</td>\n",
       "      <td>2.000000</td>\n",
       "      <td>1.500000</td>\n",
       "      <td>2.000000</td>\n",
       "      <td>0.000000</td>\n",
       "      <td>0.000000</td>\n",
       "      <td>0.000000</td>\n",
       "      <td>0.000000</td>\n",
       "      <td>1.000000</td>\n",
       "      <td>0.000000</td>\n",
       "    </tr>\n",
       "    <tr>\n",
       "      <th>75%</th>\n",
       "      <td>55.000000</td>\n",
       "      <td>30.000000</td>\n",
       "      <td>98.000000</td>\n",
       "      <td>352.000000</td>\n",
       "      <td>3.000000</td>\n",
       "      <td>2.500000</td>\n",
       "      <td>3.000000</td>\n",
       "      <td>101.000000</td>\n",
       "      <td>0.000000</td>\n",
       "      <td>0.000000</td>\n",
       "      <td>0.000000</td>\n",
       "      <td>1.000000</td>\n",
       "      <td>1.000000</td>\n",
       "    </tr>\n",
       "    <tr>\n",
       "      <th>max</th>\n",
       "      <td>200.000000</td>\n",
       "      <td>43.000000</td>\n",
       "      <td>224.000000</td>\n",
       "      <td>466.000000</td>\n",
       "      <td>4.000000</td>\n",
       "      <td>10.000000</td>\n",
       "      <td>3.000000</td>\n",
       "      <td>635.000000</td>\n",
       "      <td>1.000000</td>\n",
       "      <td>1.000000</td>\n",
       "      <td>1.000000</td>\n",
       "      <td>1.000000</td>\n",
       "      <td>1.000000</td>\n",
       "    </tr>\n",
       "  </tbody>\n",
       "</table>\n",
       "</div>"
      ],
      "text/plain": [
       "               Age   Experience       Income      ZIPCode       Family  \\\n",
       "count  5005.000000  5005.000000  5001.000000  5005.000000  5005.000000   \n",
       "mean     45.405195    20.108891    73.731654   239.731069     2.395205   \n",
       "std      11.785471    11.466139    46.016401   130.809195     1.147782   \n",
       "min      23.000000    -3.000000     8.000000     0.000000     1.000000   \n",
       "25%      35.000000    10.000000    39.000000   131.000000     1.000000   \n",
       "50%      45.000000    20.000000    64.000000   254.000000     2.000000   \n",
       "75%      55.000000    30.000000    98.000000   352.000000     3.000000   \n",
       "max     200.000000    43.000000   224.000000   466.000000     4.000000   \n",
       "\n",
       "             CCAvg    Education     Mortgage  PersonalLoan  SecuritiesAccount  \\\n",
       "count  5002.000000  5005.000000  5005.000000   5005.000000        5005.000000   \n",
       "mean      1.938083     1.881718    56.505295      0.096104           0.104296   \n",
       "std       1.747419     0.839899   101.694910      0.294763           0.305674   \n",
       "min       0.000000     1.000000     0.000000      0.000000           0.000000   \n",
       "25%       0.700000     1.000000     0.000000      0.000000           0.000000   \n",
       "50%       1.500000     2.000000     0.000000      0.000000           0.000000   \n",
       "75%       2.500000     3.000000   101.000000      0.000000           0.000000   \n",
       "max      10.000000     3.000000   635.000000      1.000000           1.000000   \n",
       "\n",
       "         CDAccount       Online   CreditCard  \n",
       "count  5005.000000  5005.000000  5005.000000  \n",
       "mean      0.060539     0.597003     0.294106  \n",
       "std       0.238507     0.490549     0.455685  \n",
       "min       0.000000     0.000000     0.000000  \n",
       "25%       0.000000     0.000000     0.000000  \n",
       "50%       0.000000     1.000000     0.000000  \n",
       "75%       0.000000     1.000000     1.000000  \n",
       "max       1.000000     1.000000     1.000000  "
      ]
     },
     "execution_count": 21,
     "metadata": {},
     "output_type": "execute_result"
    }
   ],
   "source": [
    "dataSet.describe()"
   ]
  },
  {
   "cell_type": "code",
   "execution_count": 26,
   "metadata": {},
   "outputs": [],
   "source": [
    "dataSet.Income.fillna(np.mean(dataSet.Income),inplace=True)"
   ]
  },
  {
   "cell_type": "code",
   "execution_count": 29,
   "metadata": {},
   "outputs": [],
   "source": [
    "dataSet.CCAvg.fillna(np.mean(dataSet.Income),inplace=True)"
   ]
  },
  {
   "cell_type": "code",
   "execution_count": 30,
   "metadata": {},
   "outputs": [
    {
     "name": "stdout",
     "output_type": "stream",
     "text": [
      "<class 'pandas.core.frame.DataFrame'>\n",
      "RangeIndex: 5005 entries, 0 to 5004\n",
      "Data columns (total 13 columns):\n",
      "Age                  5005 non-null int64\n",
      "Experience           5005 non-null int64\n",
      "Income               5005 non-null float64\n",
      "ZIPCode              5005 non-null int16\n",
      "Family               5005 non-null int64\n",
      "CCAvg                5005 non-null float64\n",
      "Education            5005 non-null int64\n",
      "Mortgage             5005 non-null int64\n",
      "PersonalLoan         5005 non-null int64\n",
      "SecuritiesAccount    5005 non-null int64\n",
      "CDAccount            5005 non-null int64\n",
      "Online               5005 non-null int64\n",
      "CreditCard           5005 non-null int64\n",
      "dtypes: float64(2), int16(1), int64(10)\n",
      "memory usage: 479.1 KB\n"
     ]
    }
   ],
   "source": [
    "dataSet.info()"
   ]
  },
  {
   "cell_type": "code",
   "execution_count": 33,
   "metadata": {},
   "outputs": [],
   "source": [
    "dataSet.drop_duplicates(inplace=True)"
   ]
  },
  {
   "cell_type": "code",
   "execution_count": 34,
   "metadata": {},
   "outputs": [
    {
     "name": "stdout",
     "output_type": "stream",
     "text": [
      "<class 'pandas.core.frame.DataFrame'>\n",
      "Int64Index: 5000 entries, 0 to 4999\n",
      "Data columns (total 13 columns):\n",
      "Age                  5000 non-null int64\n",
      "Experience           5000 non-null int64\n",
      "Income               5000 non-null float64\n",
      "ZIPCode              5000 non-null int16\n",
      "Family               5000 non-null int64\n",
      "CCAvg                5000 non-null float64\n",
      "Education            5000 non-null int64\n",
      "Mortgage             5000 non-null int64\n",
      "PersonalLoan         5000 non-null int64\n",
      "SecuritiesAccount    5000 non-null int64\n",
      "CDAccount            5000 non-null int64\n",
      "Online               5000 non-null int64\n",
      "CreditCard           5000 non-null int64\n",
      "dtypes: float64(2), int16(1), int64(10)\n",
      "memory usage: 517.6 KB\n"
     ]
    }
   ],
   "source": [
    "dataSet.info()"
   ]
  },
  {
   "cell_type": "code",
   "execution_count": 36,
   "metadata": {},
   "outputs": [],
   "source": [
    "dataSet.drop(['Mortgage'],axis=1,inplace=True)"
   ]
  },
  {
   "cell_type": "code",
   "execution_count": 38,
   "metadata": {},
   "outputs": [
    {
     "name": "stdout",
     "output_type": "stream",
     "text": [
      "0.0040203234340823145\n",
      "0.008967447335361374\n",
      "-0.0020608237335221734\n",
      "0.02279983492389364\n",
      "0.011588066109776274\n",
      "-0.0031076051266360955\n",
      "-0.011014133979204515\n",
      "0.0028015088415559455\n",
      "-0.015028318897300256\n",
      "0.27864436461471476\n",
      "0.004209656154684466\n"
     ]
    }
   ],
   "source": [
    "print(dataSet.CreditCard.corr(dataSet.Age))\n",
    "print(dataSet.CreditCard.corr(dataSet.Experience))\n",
    "print(dataSet.CreditCard.corr(dataSet.Income))\n",
    "print(dataSet.CreditCard.corr(dataSet.ZIPCode))\n",
    "print(dataSet.CreditCard.corr(dataSet.Family))\n",
    "print(dataSet.CreditCard.corr(dataSet.CCAvg))\n",
    "print(dataSet.CreditCard.corr(dataSet.Education))\n",
    "print(dataSet.CreditCard.corr(dataSet.PersonalLoan))\n",
    "print(dataSet.CreditCard.corr(dataSet.SecuritiesAccount))\n",
    "print(dataSet.CreditCard.corr(dataSet.CDAccount))\n",
    "print(dataSet.CreditCard.corr(dataSet.Online))"
   ]
  },
  {
   "cell_type": "code",
   "execution_count": 40,
   "metadata": {},
   "outputs": [],
   "source": [
    "dependent = dataSet['CreditCard']\n",
    "inDependent = dataSet.drop(['CreditCard'],axis=1)"
   ]
  },
  {
   "cell_type": "code",
   "execution_count": 41,
   "metadata": {},
   "outputs": [],
   "source": [
    "from sklearn.cross_validation import train_test_split"
   ]
  },
  {
   "cell_type": "code",
   "execution_count": 42,
   "metadata": {},
   "outputs": [],
   "source": [
    "x_train,x_test,y_train,y_test = train_test_split(inDependent,dependent,test_size=0.3,random_state=333)"
   ]
  },
  {
   "cell_type": "code",
   "execution_count": 43,
   "metadata": {},
   "outputs": [],
   "source": [
    "from sklearn.linear_model import LogisticRegression\n",
    "from sklearn.tree import DecisionTreeClassifier\n",
    "from sklearn.ensemble import RandomForestClassifier"
   ]
  },
  {
   "cell_type": "code",
   "execution_count": 44,
   "metadata": {},
   "outputs": [],
   "source": [
    "lg=LogisticRegression()"
   ]
  },
  {
   "cell_type": "code",
   "execution_count": 45,
   "metadata": {},
   "outputs": [],
   "source": [
    "lg=lg.fit(x_train,y_train)"
   ]
  },
  {
   "cell_type": "code",
   "execution_count": 46,
   "metadata": {},
   "outputs": [],
   "source": [
    "lg_train_prd=lg.predict(x_train)\n",
    "lg_test_prd=lg.predict(x_test)"
   ]
  },
  {
   "cell_type": "code",
   "execution_count": 48,
   "metadata": {},
   "outputs": [],
   "source": [
    "from sklearn.metrics import confusion_matrix"
   ]
  },
  {
   "cell_type": "code",
   "execution_count": 49,
   "metadata": {},
   "outputs": [
    {
     "name": "stdout",
     "output_type": "stream",
     "text": [
      "[[2440   45]\n",
      " [ 848  167]]\n",
      "[[1028   17]\n",
      " [ 382   73]]\n"
     ]
    }
   ],
   "source": [
    "lg_train_confussion = confusion_matrix(y_train,lg_train_prd)\n",
    "print(lg_train_confussion)\n",
    "lg_test_confussion = confusion_matrix(y_test,lg_test_prd)\n",
    "print(lg_test_confussion)"
   ]
  },
  {
   "cell_type": "code",
   "execution_count": 50,
   "metadata": {},
   "outputs": [],
   "source": [
    "from sklearn.metrics import classification_report"
   ]
  },
  {
   "cell_type": "code",
   "execution_count": 51,
   "metadata": {},
   "outputs": [
    {
     "name": "stdout",
     "output_type": "stream",
     "text": [
      "             precision    recall  f1-score   support\n",
      "\n",
      "          0       0.74      0.98      0.85      2485\n",
      "          1       0.79      0.16      0.27      1015\n",
      "\n",
      "avg / total       0.76      0.74      0.68      3500\n",
      "\n",
      "             precision    recall  f1-score   support\n",
      "\n",
      "          0       0.73      0.98      0.84      1045\n",
      "          1       0.81      0.16      0.27       455\n",
      "\n",
      "avg / total       0.75      0.73      0.66      1500\n",
      "\n"
     ]
    }
   ],
   "source": [
    "print(classification_report(y_train, lg_train_prd))\n",
    "print(classification_report(y_test, lg_test_prd))"
   ]
  },
  {
   "cell_type": "code",
   "execution_count": 52,
   "metadata": {},
   "outputs": [
    {
     "data": {
      "text/plain": [
       "DecisionTreeClassifier(class_weight=None, criterion='gini', max_depth=7,\n",
       "            max_features=None, max_leaf_nodes=None,\n",
       "            min_impurity_decrease=0.0, min_impurity_split=None,\n",
       "            min_samples_leaf=5, min_samples_split=2,\n",
       "            min_weight_fraction_leaf=0.0, presort=False, random_state=100,\n",
       "            splitter='best')"
      ]
     },
     "execution_count": 52,
     "metadata": {},
     "output_type": "execute_result"
    }
   ],
   "source": [
    "clf_gini = DecisionTreeClassifier(criterion = \"gini\", random_state = 100,\n",
    "                               max_depth=7, min_samples_leaf=5)\n",
    "clf_gini.fit(x_train, y_train)"
   ]
  },
  {
   "cell_type": "code",
   "execution_count": 53,
   "metadata": {},
   "outputs": [
    {
     "data": {
      "text/plain": [
       "DecisionTreeClassifier(class_weight=None, criterion='entropy', max_depth=7,\n",
       "            max_features=None, max_leaf_nodes=None,\n",
       "            min_impurity_decrease=0.0, min_impurity_split=None,\n",
       "            min_samples_leaf=5, min_samples_split=2,\n",
       "            min_weight_fraction_leaf=0.0, presort=False, random_state=100,\n",
       "            splitter='best')"
      ]
     },
     "execution_count": 53,
     "metadata": {},
     "output_type": "execute_result"
    }
   ],
   "source": [
    "clf_entropy = DecisionTreeClassifier(criterion = \"entropy\", random_state = 100,\n",
    " max_depth=7, min_samples_leaf=5)\n",
    "clf_entropy.fit(x_train, y_train)"
   ]
  },
  {
   "cell_type": "code",
   "execution_count": 54,
   "metadata": {},
   "outputs": [],
   "source": [
    "gini_train_prd = clf_gini.predict(x_train)\n",
    "gini_test_prd = clf_gini.predict(x_test)"
   ]
  },
  {
   "cell_type": "code",
   "execution_count": 55,
   "metadata": {},
   "outputs": [],
   "source": [
    "entropy_train_prd = clf_entropy.predict(x_train)\n",
    "entropy_test_prd = clf_entropy.predict(x_test)"
   ]
  },
  {
   "cell_type": "code",
   "execution_count": 57,
   "metadata": {},
   "outputs": [],
   "source": [
    "from sklearn.metrics import accuracy_score"
   ]
  },
  {
   "cell_type": "code",
   "execution_count": 58,
   "metadata": {},
   "outputs": [
    {
     "name": "stdout",
     "output_type": "stream",
     "text": [
      "Accuracy is  75.65714285714286\n",
      "Accuracy is  72.06666666666666\n"
     ]
    }
   ],
   "source": [
    "print (\"Accuracy is \", accuracy_score(y_train,gini_train_prd)*100)\n",
    "print (\"Accuracy is \", accuracy_score(y_test,gini_test_prd)*100)"
   ]
  },
  {
   "cell_type": "code",
   "execution_count": 59,
   "metadata": {},
   "outputs": [
    {
     "name": "stdout",
     "output_type": "stream",
     "text": [
      "Accuracy is  75.45714285714286\n",
      "Accuracy is  73.0\n"
     ]
    }
   ],
   "source": [
    "print (\"Accuracy is \", accuracy_score(y_train,entropy_train_prd)*100)\n",
    "print (\"Accuracy is \", accuracy_score(y_test,entropy_test_prd)*100)"
   ]
  },
  {
   "cell_type": "code",
   "execution_count": 60,
   "metadata": {},
   "outputs": [
    {
     "data": {
      "text/plain": [
       "RandomForestClassifier(bootstrap=True, class_weight=None, criterion='gini',\n",
       "            max_depth=7, max_features='auto', max_leaf_nodes=None,\n",
       "            min_impurity_decrease=0.0, min_impurity_split=None,\n",
       "            min_samples_leaf=5, min_samples_split=2,\n",
       "            min_weight_fraction_leaf=0.0, n_estimators=10, n_jobs=1,\n",
       "            oob_score=False, random_state=100, verbose=0, warm_start=False)"
      ]
     },
     "execution_count": 60,
     "metadata": {},
     "output_type": "execute_result"
    }
   ],
   "source": [
    "rand_gini = RandomForestClassifier(n_estimators=10,criterion = \"gini\", random_state = 100,\n",
    "                               max_depth=7, min_samples_leaf=5)\n",
    "rand_gini.fit(x_train, y_train)"
   ]
  },
  {
   "cell_type": "code",
   "execution_count": 61,
   "metadata": {},
   "outputs": [
    {
     "data": {
      "text/plain": [
       "RandomForestClassifier(bootstrap=True, class_weight=None, criterion='entropy',\n",
       "            max_depth=7, max_features='auto', max_leaf_nodes=None,\n",
       "            min_impurity_decrease=0.0, min_impurity_split=None,\n",
       "            min_samples_leaf=5, min_samples_split=2,\n",
       "            min_weight_fraction_leaf=0.0, n_estimators=10, n_jobs=1,\n",
       "            oob_score=False, random_state=100, verbose=0, warm_start=False)"
      ]
     },
     "execution_count": 61,
     "metadata": {},
     "output_type": "execute_result"
    }
   ],
   "source": [
    "rand_entropy = RandomForestClassifier(n_estimators=10,criterion = \"entropy\", random_state = 100,\n",
    " max_depth=7, min_samples_leaf=5)\n",
    "rand_entropy.fit(x_train, y_train)"
   ]
  },
  {
   "cell_type": "code",
   "execution_count": 62,
   "metadata": {},
   "outputs": [],
   "source": [
    "rand_gini_train_prd = rand_gini.predict(x_train)\n",
    "rand_gini_test_prd = rand_gini.predict(x_test)\n",
    "rand_entropy_train_prd = rand_entropy.predict(x_train)\n",
    "rand_entropy_test_prd = rand_entropy.predict(x_test)"
   ]
  },
  {
   "cell_type": "code",
   "execution_count": 63,
   "metadata": {},
   "outputs": [
    {
     "name": "stdout",
     "output_type": "stream",
     "text": [
      "Accuracy is  74.97142857142856\n",
      "Accuracy is  73.66666666666667\n",
      "Accuracy is  74.94285714285715\n",
      "Accuracy is  73.53333333333333\n"
     ]
    }
   ],
   "source": [
    "print (\"Accuracy is \", accuracy_score(y_train,rand_gini_train_prd)*100)\n",
    "print (\"Accuracy is \", accuracy_score(y_test,rand_gini_test_prd)*100)\n",
    "print (\"Accuracy is \", accuracy_score(y_train,rand_entropy_train_prd)*100)\n",
    "print (\"Accuracy is \", accuracy_score(y_test,rand_entropy_test_prd)*100)"
   ]
  }
 ],
 "metadata": {
  "kernelspec": {
   "display_name": "Python 3",
   "language": "python",
   "name": "python3"
  },
  "language_info": {
   "codemirror_mode": {
    "name": "ipython",
    "version": 3
   },
   "file_extension": ".py",
   "mimetype": "text/x-python",
   "name": "python",
   "nbconvert_exporter": "python",
   "pygments_lexer": "ipython3",
   "version": "3.6.5"
  }
 },
 "nbformat": 4,
 "nbformat_minor": 2
}
