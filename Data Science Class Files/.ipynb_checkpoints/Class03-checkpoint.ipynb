{
 "cells": [
  {
   "cell_type": "code",
   "execution_count": 2,
   "metadata": {},
   "outputs": [
    {
     "data": {
      "text/plain": [
       "['JAN', 'FEB']"
      ]
     },
     "execution_count": 2,
     "metadata": {},
     "output_type": "execute_result"
    }
   ],
   "source": [
    "A=['jan','feb']\n",
    "for i in range(len(A)):\n",
    "    A[i]=A[i].upper()\n",
    "A"
   ]
  },
  {
   "cell_type": "code",
   "execution_count": 9,
   "metadata": {},
   "outputs": [
    {
     "name": "stdout",
     "output_type": "stream",
     "text": [
      "['JAN', 'FEB']\n"
     ]
    }
   ],
   "source": [
    "A=['jan','feb']\n",
    "b=[i.upper() for i in A]\n",
    "print(b)"
   ]
  },
  {
   "cell_type": "code",
   "execution_count": 13,
   "metadata": {},
   "outputs": [
    {
     "name": "stdout",
     "output_type": "stream",
     "text": [
      "['Even', 'odd', 'Even', 'odd', 'Even', 'odd', 'Even', 'odd', 'Even', 'odd']\n"
     ]
    }
   ],
   "source": [
    "c=[\"Even\" if i%2==0 else \"odd\" for i in range(10)]\n",
    "print(c)"
   ]
  },
  {
   "cell_type": "code",
   "execution_count": 14,
   "metadata": {},
   "outputs": [
    {
     "name": "stdout",
     "output_type": "stream",
     "text": [
      "9\n",
      "None\n"
     ]
    }
   ],
   "source": [
    "def add(a,b):\n",
    "    print(a+b)\n",
    "x=add(5,4)\n",
    "print(x)"
   ]
  },
  {
   "cell_type": "code",
   "execution_count": 30,
   "metadata": {},
   "outputs": [
    {
     "name": "stdout",
     "output_type": "stream",
     "text": [
      "['1' '2' '3' 'hghj']\n",
      "(4,)\n",
      "<U11\n",
      "<class 'numpy.ndarray'>\n"
     ]
    }
   ],
   "source": [
    "import numpy as np\n",
    "a=[1,2,3,'hghj']\n",
    "x=np.array(a)\n",
    "print(x)\n",
    "print(x.shape)\n",
    "print(x.dtype)\n",
    "print(type(x))"
   ]
  },
  {
   "cell_type": "code",
   "execution_count": 36,
   "metadata": {},
   "outputs": [
    {
     "name": "stdout",
     "output_type": "stream",
     "text": [
      "[['1' '2' '3']\n",
      " ['a' 'b' 'c']]\n",
      "(2, 3)\n",
      "<U11\n",
      "<class 'numpy.ndarray'>\n"
     ]
    }
   ],
   "source": [
    "b=np.array([[1,2,3],['a','b','c']])\n",
    "print(b)\n",
    "print(b.shape)\n",
    "print(b.dtype)\n",
    "print(type(b))"
   ]
  },
  {
   "cell_type": "code",
   "execution_count": 41,
   "metadata": {},
   "outputs": [
    {
     "name": "stdout",
     "output_type": "stream",
     "text": [
      "[['1' '2' '3']]\n"
     ]
    }
   ],
   "source": [
    "print(np.delete(b,1,0))"
   ]
  },
  {
   "cell_type": "code",
   "execution_count": 54,
   "metadata": {},
   "outputs": [
    {
     "name": "stdout",
     "output_type": "stream",
     "text": [
      "[['1' '2' '3' '5']\n",
      " ['a' 'b' 'c' '5']]\n",
      "[['1' '2' '3']\n",
      " ['a' 'b' 'c']\n",
      " ['5' '5' '5']]\n"
     ]
    }
   ],
   "source": [
    "print(np.insert(b,3,5,1))\n",
    "print(np.insert(b,2,5,0))"
   ]
  },
  {
   "cell_type": "code",
   "execution_count": 58,
   "metadata": {},
   "outputs": [
    {
     "name": "stdout",
     "output_type": "stream",
     "text": [
      "[ 2  4  6  8 10]\n",
      "[False False  True  True  True]\n",
      "[ 6  8 10]\n"
     ]
    }
   ],
   "source": [
    "test=np.array([2,4,6,8,10])\n",
    "print(test)\n",
    "print(test>5)\n",
    "print(test[test>5])"
   ]
  },
  {
   "cell_type": "code",
   "execution_count": null,
   "metadata": {},
   "outputs": [],
   "source": []
  }
 ],
 "metadata": {
  "kernelspec": {
   "display_name": "Python 3",
   "language": "python",
   "name": "python3"
  },
  "language_info": {
   "codemirror_mode": {
    "name": "ipython",
    "version": 3
   },
   "file_extension": ".py",
   "mimetype": "text/x-python",
   "name": "python",
   "nbconvert_exporter": "python",
   "pygments_lexer": "ipython3",
   "version": "3.6.5"
  }
 },
 "nbformat": 4,
 "nbformat_minor": 2
}
