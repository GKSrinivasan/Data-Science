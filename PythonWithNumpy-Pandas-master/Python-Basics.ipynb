{
 "cells": [
  {
   "cell_type": "code",
   "execution_count": null,
   "metadata": {
    "collapsed": true
   },
   "outputs": [],
   "source": [
    "############# -------------------------- Python Basics ------------------------------------------ #################"
   ]
  },
  {
   "cell_type": "code",
   "execution_count": 30,
   "metadata": {
    "collapsed": true
   },
   "outputs": [],
   "source": [
    "    ############## ------------Types of methods to run Python------------------###############\n",
    "\n",
    "\n",
    "# Immediate mode - cmd- python\n",
    "#Script mode - python file.py\n",
    "#IDE - Integrated Developement environment- spyder, pycharm, jupyter notebook   "
   ]
  },
  {
   "cell_type": "code",
   "execution_count": 17,
   "metadata": {},
   "outputs": [
    {
     "data": {
      "text/plain": [
       "' Multiple line comment '"
      ]
     },
     "execution_count": 17,
     "metadata": {},
     "output_type": "execute_result"
    }
   ],
   "source": [
    "#single line Comment\n",
    "\n",
    "\"\"\" Multiple line comment \"\"\"\n",
    "#print(\"Hi\")\n"
   ]
  },
  {
   "cell_type": "code",
   "execution_count": 20,
   "metadata": {},
   "outputs": [
    {
     "name": "stdout",
     "output_type": "stream",
     "text": [
      "4\n",
      "34\n"
     ]
    }
   ],
   "source": [
    "#Keywords\n",
    "\n",
    "#break = 2\n",
    "\n",
    "#Identifiers\n",
    "0\n",
    "#Identifier is a name given to entities like class, functions, variables\n",
    "a = 4\n",
    "\n",
    "a1 = 34\n",
    "\n",
    "# 1. can be in alphabet with range of a to z\n",
    "# 2. can be in range of A to Z\n",
    "# 3. should not start with digits\n",
    "# 4. should not be keywords\n",
    "# 5. cannot use special symbols !,@,#,$,%\n",
    "#global = 5 \n",
    "\n",
    "#a$ = 7\n",
    "\n",
    "print(a)\n",
    "print(a1)"
   ]
  },
  {
   "cell_type": "code",
   "execution_count": 21,
   "metadata": {},
   "outputs": [
    {
     "name": "stdout",
     "output_type": "stream",
     "text": [
      "23\n",
      "30\n",
      "54 43 42\n",
      "2 4.2 Hello\n",
      "same data same data same data\n"
     ]
    }
   ],
   "source": [
    "#Statements\n",
    "\n",
    "a = 1 #assigngment statement\n",
    "\n",
    "\n",
    "#Multiple Statement\n",
    "a = 1 + 2 +3 + 4 + \\\n",
    "    2 + 4 +\\\n",
    "    3 + 4\n",
    "    \n",
    "print(a)\n",
    "\n",
    "a = (2 + 5 + 3 + 3 +\n",
    "     2 + 5 + 6\n",
    "     + 4)\n",
    "print(a)\n",
    "\n",
    "\n",
    "#Multiple Assigngment statement\n",
    "a = 54; b = 43; c = 42;\n",
    "\n",
    "print(a,b,c)\n",
    "\n",
    "a, b, c = 2,4.2,\"Hello\"\n",
    "\n",
    "print(a,b,c)\n",
    "\n",
    "a =b = c= \"same data\"\n",
    "\n",
    "print(a,b,c)\n",
    "\n"
   ]
  },
  {
   "cell_type": "code",
   "execution_count": 22,
   "metadata": {},
   "outputs": [
    {
     "data": {
      "text/plain": [
       "float"
      ]
     },
     "execution_count": 22,
     "metadata": {},
     "output_type": "execute_result"
    }
   ],
   "source": [
    "a,b,c=2,3.4,\"ds\"\n",
    "\n",
    "c = 4.5\n",
    "type(c)\n"
   ]
  },
  {
   "cell_type": "code",
   "execution_count": 23,
   "metadata": {},
   "outputs": [
    {
     "name": "stdout",
     "output_type": "stream",
     "text": [
      "5\n",
      "6\n"
     ]
    }
   ],
   "source": [
    "# Case sensitive language\n",
    "\n",
    "data = 5\n",
    "Data = 6\n",
    "\n",
    "print(data)\n",
    "print(Data)\n",
    "\n",
    "\n"
   ]
  },
  {
   "cell_type": "code",
   "execution_count": 24,
   "metadata": {},
   "outputs": [
    {
     "name": "stdout",
     "output_type": "stream",
     "text": [
      "1\n",
      "Inside for loop\n",
      "2\n",
      "Inside for loop\n",
      "3\n",
      "Inside for loop\n",
      "4\n",
      "Inside for loop\n",
      "5\n",
      "Inside if loop\n",
      "Hi\n",
      "Hello\n",
      "34\n"
     ]
    }
   ],
   "source": [
    "#Indentation\n",
    "\n",
    "\n",
    "for i in range(1,11):\n",
    "    print(i)\n",
    "    if(i==5):\n",
    "        print(\"Inside if loop\")\n",
    "        break     \n",
    "    print(\"Inside for loop\")    \n",
    "    \n",
    "if True:\n",
    "    print(\"Hi\")\n",
    "        \n",
    "\n",
    "if True: print(\"Hello\"); a =34; print(a)\n",
    "    \n",
    "        \n",
    "        "
   ]
  },
  {
   "cell_type": "code",
   "execution_count": 29,
   "metadata": {},
   "outputs": [
    {
     "name": "stdout",
     "output_type": "stream",
     "text": [
      "a is of type <class 'int'>\n",
      "a is of type <class 'float'>\n",
      "a is of type <class 'str'>\n",
      "a is of type <class 'complex'>\n"
     ]
    },
    {
     "data": {
      "text/plain": [
       "True"
      ]
     },
     "execution_count": 29,
     "metadata": {},
     "output_type": "execute_result"
    }
   ],
   "source": [
    "a = 5\n",
    "print(\"a is of type\", type(a))\n",
    "\n",
    "a = 4.35\n",
    "print(\"a is of type\", type(a))\n",
    "\n",
    "a = \"Hello\"\n",
    "print(\"a is of type\", type(a))\n",
    "\n",
    "a = 1+2j\n",
    "print(\"a is of type\", type(a))\n",
    "\n",
    "isinstance(\"dcfsd\",str)\n"
   ]
  },
  {
   "cell_type": "code",
   "execution_count": 1,
   "metadata": {},
   "outputs": [
    {
     "name": "stdout",
     "output_type": "stream",
     "text": [
      "The type of num before conversion :  <class 'float'>\n",
      "5\n",
      "The type of num after conversion :  <class 'int'>\n"
     ]
    }
   ],
   "source": [
    "#Conversion of data types\n",
    "\n",
    "num  = 5.5\n",
    "\n",
    "print ('The type of num before conversion : ',type(num))\n",
    "\n",
    "#Conversion\n",
    "num = int(num)\n",
    "\n",
    "print(num)\n",
    "\n",
    "print ('The type of num after conversion : ',type(num))"
   ]
  },
  {
   "cell_type": "code",
   "execution_count": 2,
   "metadata": {},
   "outputs": [
    {
     "name": "stdout",
     "output_type": "stream",
     "text": [
      "-10\n",
      "10.0\n",
      "The type of abc before conversion :  <class 'int'>\n",
      "The type of abc after conversion :  <class 'str'>\n"
     ]
    }
   ],
   "source": [
    "print (int(-10.454))\n",
    "\n",
    "print (float(10))\n",
    "\n",
    "#conversion\n",
    "abc = 123\n",
    "\n",
    "print('The type of abc before conversion : ',type(abc))\n",
    "abc = str(abc)\n",
    "print('The type of abc after conversion : ',type(abc))\n"
   ]
  },
  {
   "cell_type": "code",
   "execution_count": 3,
   "metadata": {},
   "outputs": [
    {
     "ename": "ValueError",
     "evalue": "invalid literal for int() with base 10: 'a'",
     "output_type": "error",
     "traceback": [
      "\u001b[1;31m---------------------------------------------------------------------------\u001b[0m",
      "\u001b[1;31mValueError\u001b[0m                                Traceback (most recent call last)",
      "\u001b[1;32m<ipython-input-3-96a49a4bcdc6>\u001b[0m in \u001b[0;36m<module>\u001b[1;34m()\u001b[0m\n\u001b[0;32m      1\u001b[0m \u001b[1;31m#Conversion should be compatible values\u001b[0m\u001b[1;33m\u001b[0m\u001b[1;33m\u001b[0m\u001b[0m\n\u001b[0;32m      2\u001b[0m \u001b[1;33m\u001b[0m\u001b[0m\n\u001b[1;32m----> 3\u001b[1;33m \u001b[0mint\u001b[0m\u001b[1;33m(\u001b[0m\u001b[1;34m'a'\u001b[0m\u001b[1;33m)\u001b[0m\u001b[1;33m\u001b[0m\u001b[0m\n\u001b[0m",
      "\u001b[1;31mValueError\u001b[0m: invalid literal for int() with base 10: 'a'"
     ]
    }
   ],
   "source": [
    "#Conversion should be compatible values\n",
    "\n",
    "int('a')"
   ]
  },
  {
   "cell_type": "code",
   "execution_count": 4,
   "metadata": {},
   "outputs": [
    {
     "name": "stdout",
     "output_type": "stream",
     "text": [
      "[11, 1, 1, 2, 2, 3, 3, 4, 4, 5, 5, 5, 6, 6, 6, 7]\n",
      "The type of a before conversion :  <class 'list'>\n",
      "{1, 2, 3, 4, 5, 6, 7, 11}\n",
      "The type of a after conversion :  <class 'set'>\n"
     ]
    }
   ],
   "source": [
    "#Set conversion\n",
    "a = [11,1,1,2,2,3,3,4,4,5,5,5,6,6,6,7]\n",
    "\n",
    "print (a)\n",
    "\n",
    "print('The type of a before conversion : ',type(a))\n",
    "\n",
    "#Conversion\n",
    "a = set(a)\n",
    "\n",
    "print (a)\n",
    "\n",
    "print('The type of a after conversion : ',type(a))\n",
    "\n",
    "\n"
   ]
  },
  {
   "cell_type": "code",
   "execution_count": 5,
   "metadata": {},
   "outputs": [
    {
     "name": "stdout",
     "output_type": "stream",
     "text": [
      "The type of a before conversion :  <class 'list'>\n",
      "The type of a after conversion :  <class 'tuple'>\n"
     ]
    },
    {
     "ename": "TypeError",
     "evalue": "'tuple' object does not support item assignment",
     "output_type": "error",
     "traceback": [
      "\u001b[1;31m---------------------------------------------------------------------------\u001b[0m",
      "\u001b[1;31mTypeError\u001b[0m                                 Traceback (most recent call last)",
      "\u001b[1;32m<ipython-input-5-29e806ce6636>\u001b[0m in \u001b[0;36m<module>\u001b[1;34m()\u001b[0m\n\u001b[0;32m     11\u001b[0m \u001b[0mprint\u001b[0m\u001b[1;33m(\u001b[0m\u001b[1;34m'The type of a after conversion : '\u001b[0m\u001b[1;33m,\u001b[0m\u001b[0mtype\u001b[0m\u001b[1;33m(\u001b[0m\u001b[0ma\u001b[0m\u001b[1;33m)\u001b[0m\u001b[1;33m)\u001b[0m\u001b[1;33m\u001b[0m\u001b[0m\n\u001b[0;32m     12\u001b[0m \u001b[1;33m\u001b[0m\u001b[0m\n\u001b[1;32m---> 13\u001b[1;33m \u001b[0ma\u001b[0m\u001b[1;33m[\u001b[0m\u001b[1;36m2\u001b[0m\u001b[1;33m]\u001b[0m \u001b[1;33m=\u001b[0m \u001b[1;36m100\u001b[0m\u001b[1;33m\u001b[0m\u001b[0m\n\u001b[0m",
      "\u001b[1;31mTypeError\u001b[0m: 'tuple' object does not support item assignment"
     ]
    }
   ],
   "source": [
    "a = [1,3,4,5,6,4,32,8,6,9]\n",
    "a\n",
    "print('The type of a before conversion : ',type(a))\n",
    "\n",
    "\n",
    "a[2] = 53\n",
    "a\n",
    "\n",
    "a = tuple(a)\n",
    "\n",
    "print('The type of a after conversion : ',type(a))\n",
    "\n",
    "a[2] = 100\n"
   ]
  },
  {
   "cell_type": "raw",
   "metadata": {},
   "source": [
    "a = 'Hello, How are you!'\n",
    "print(a)\n",
    "\n",
    "#a[2] = 'r'\n",
    "print('The type of a before conversion : ',type(a))\n",
    "\n",
    "a = list(a)\n",
    "print(a)\n",
    "print('The type of a after conversion : ',type(a))\n",
    "\n",
    "a[2] = 'r'\n",
    "print(a)\n",
    " \n",
    "import datetime\n",
    "datetime.st"
   ]
  },
  {
   "cell_type": "code",
   "execution_count": 7,
   "metadata": {},
   "outputs": [
    {
     "name": "stdout",
     "output_type": "stream",
     "text": [
      "{'a': 1, 'b': 2}\n"
     ]
    }
   ],
   "source": [
    "dict([[1,2],[3,4]])\n",
    "\n",
    "list1 = ['a',1]\n",
    "list2 = ['b',2]\n",
    "\n",
    "d = dict([list1,list2])\n",
    "\n",
    "print(d)\n",
    "\n"
   ]
  },
  {
   "cell_type": "code",
   "execution_count": 8,
   "metadata": {
    "collapsed": true
   },
   "outputs": [],
   "source": [
    "print?"
   ]
  },
  {
   "cell_type": "code",
   "execution_count": 9,
   "metadata": {},
   "outputs": [
    {
     "name": "stdout",
     "output_type": "stream",
     "text": [
      "The value of a is :  4\n",
      "1 2 3 4\n",
      "1@2@3@4\n",
      "1@2@3@4****\n",
      "\n",
      "The value of x is 5 and y is 10\n",
      "The value of x is 5 and y is 10\n",
      "The value of x is 10 and y is 5\n",
      "The value of x is 10 and y is 5\n",
      "Hello Python, Good Morning\n",
      "Enter the number:12345\n",
      "12345\n"
     ]
    }
   ],
   "source": [
    "#Input and Output formatting\n",
    "\n",
    "a = 4\n",
    "\n",
    "print(\"The value of a is : \",a)\n",
    "\n",
    "print(1,2,3,4)\n",
    "\n",
    "#print(object,sep='',end='',file=sys.stdout,flush=False)\n",
    "\n",
    "print(1,2,3,4,sep='@')\n",
    "\n",
    "print(1,2,3,4,sep='@',end='****')\n",
    "\n",
    "print('\\n')\n",
    "\n",
    "x = 5\n",
    "\n",
    "y = 10\n",
    "\n",
    "print('The value of x is {} and y is {}'.format(x,y))\n",
    "\n",
    "\n",
    "print('The value of x is {0} and y is {1}'.format(x,y))\n",
    "\n",
    "print('The value of x is {1} and y is {0}'.format(x,y))\n",
    "\n",
    "print('The value of x is {0} and y is {1}'.format(y,x))\n",
    "\n",
    "print('Hello {name}, {greeting}'.format(greeting='Good Morning',name='Python'))\n",
    "\n",
    "\n",
    "num = input('Enter the number:')\n",
    "print (num)\n",
    "\n"
   ]
  },
  {
   "cell_type": "code",
   "execution_count": 10,
   "metadata": {},
   "outputs": [
    {
     "name": "stdout",
     "output_type": "stream",
     "text": [
      "Enter the first number 1\n",
      "Enter the second number 2\n",
      "3\n",
      "The sum of 1,2 is 3\n"
     ]
    }
   ],
   "source": [
    "a = input('Enter the first number ')\n",
    "b = input('Enter the second number ')\n",
    "\n",
    "a = int(a)\n",
    "b = int(b)\n",
    "\n",
    "c = a+b\n",
    "\n",
    "print(c)\n",
    "print('The sum of {0},{1} is {2}'.format(a,b,c))"
   ]
  },
  {
   "cell_type": "code",
   "execution_count": 11,
   "metadata": {},
   "outputs": [
    {
     "name": "stdout",
     "output_type": "stream",
     "text": [
      "3.141592653589793\n",
      "3.141592653589793\n"
     ]
    }
   ],
   "source": [
    "#import \n",
    "# definitions inside inside module that can be imported to another module or interactive interpreter in python\n",
    "\n",
    "import math\n",
    "print(math.pi)\n",
    "\n",
    "from math import pi\n",
    "print(pi)"
   ]
  },
  {
   "cell_type": "code",
   "execution_count": 12,
   "metadata": {},
   "outputs": [
    {
     "name": "stdout",
     "output_type": "stream",
     "text": [
      "13\n",
      "7\n",
      "30\n",
      "3.3333333333333335\n",
      "1\n",
      "3\n",
      "1000\n"
     ]
    }
   ],
   "source": [
    "#operators\n",
    "\n",
    "#Arithnetic operators\n",
    "\n",
    "#+,-,*,/,%,//,**\n",
    "\n",
    "x = 10\n",
    "y = 3\n",
    "print(x+y)\n",
    "print(x-y)\n",
    "print(x*3)\n",
    "print(x/y) #Quotient\n",
    "print(x%y)  #Reminder\n",
    "print(x//y) #whole number in quotient\n",
    "print(x**y) #Power"
   ]
  },
  {
   "cell_type": "code",
   "execution_count": 14,
   "metadata": {},
   "outputs": [
    {
     "name": "stdout",
     "output_type": "stream",
     "text": [
      "True\n",
      "True\n",
      "False\n",
      "True\n",
      "True\n",
      "True\n",
      "False\n"
     ]
    }
   ],
   "source": [
    "#Comparison Operators\n",
    "\n",
    "#  >,<.==, !=, >=, <=\n",
    "\n",
    "#logical operators\n",
    "#   and , or, not\n",
    "\n",
    "#Bitwise operators\n",
    "#  &,|,~,^,>>,<<\n",
    "\n",
    "#Special operators - Identity operator\n",
    "\n",
    "#is  and isnot\n",
    "\n",
    "x1 = 5\n",
    "y1 = 5\n",
    "x2 = 'Hello'\n",
    "y2 = 'Hello'\n",
    "x3 = [1,2,3]\n",
    "y3 = [1,2,3]\n",
    "\n",
    "\n",
    "print(x1 is y1)\n",
    "print(x2 is y2)\n",
    "\n",
    "\n",
    "#Membership operators\n",
    "\n",
    "# in and not in\n",
    "\n",
    "print(5 in x3)\n",
    "\n",
    "x = 'Hello world'\n",
    "y = {1 : 'a', 2:'b'}\n",
    "\n",
    "print('H' in x)\n",
    "print('hello' not in x)\n",
    "print(1 in y)\n",
    "print('a' in y)\n"
   ]
  },
  {
   "cell_type": "code",
   "execution_count": null,
   "metadata": {
    "collapsed": true
   },
   "outputs": [],
   "source": [
    "#### ----------------Conditional and Looping------------------------------ ######"
   ]
  },
  {
   "cell_type": "code",
   "execution_count": 15,
   "metadata": {},
   "outputs": [
    {
     "name": "stdout",
     "output_type": "stream",
     "text": [
      "Enter a number : 1\n",
      "1  is a positive number \n",
      "This is always printed\n"
     ]
    }
   ],
   "source": [
    "#If statement\n",
    "\n",
    "#if test expression:\n",
    "#    statement(s)\n",
    "\n",
    "\n",
    "# program to print positive integer or not\n",
    "\n",
    "num = int(input(\"Enter a number : \"))\n",
    "\n",
    "if num > 0:\n",
    "    print(num,\" is a positive number \")\n",
    "print(\"This is always printed\")\n",
    "\n",
    "if num <0 :\n",
    "    print(num,\" is a negative number \")\n",
    "\n",
    "\n"
   ]
  },
  {
   "cell_type": "code",
   "execution_count": 18,
   "metadata": {},
   "outputs": [
    {
     "name": "stdout",
     "output_type": "stream",
     "text": [
      "Enter a number : -0\n",
      "0  is a negative number \n"
     ]
    }
   ],
   "source": [
    "#if else statement\n",
    "\n",
    "#if test expression:\n",
    "#    Body of if\n",
    "#else:\n",
    "#      Body of else   \n",
    "\n",
    "\n",
    "# program to print positive integer or not\n",
    "\n",
    "num = int(input(\"Enter a number : \"))\n",
    "\n",
    "if num > 0:\n",
    "    print(num,\" is a positive number \")\n",
    "else:\n",
    "    print(num,\" is a negative number \")\n",
    "\n",
    "\n"
   ]
  },
  {
   "cell_type": "code",
   "execution_count": 19,
   "metadata": {},
   "outputs": [
    {
     "name": "stdout",
     "output_type": "stream",
     "text": [
      "Enter a number : 0\n",
      "0  is Zero \n"
     ]
    }
   ],
   "source": [
    "# if...elif...else\n",
    "\n",
    "#if test expression:\n",
    "#   Body of if\n",
    "#elif test expresion\n",
    "#   Body of elif\n",
    "#else:\n",
    "#    Body of else\n",
    "\n",
    "\n",
    "# program to print positive integer or not\n",
    "\n",
    "num = int(input(\"Enter a number : \"))\n",
    "\n",
    "if num > 0:\n",
    "    print(num,\" is a positive number \")\n",
    "elif num == 0:\n",
    "    print(num,\" is Zero \")\n",
    "else:\n",
    "    print(num,\" is a negative number \")\n",
    "\n",
    "\n",
    "\n"
   ]
  },
  {
   "cell_type": "code",
   "execution_count": 20,
   "metadata": {},
   "outputs": [
    {
     "name": "stdout",
     "output_type": "stream",
     "text": [
      "The sum of num list is  65\n"
     ]
    }
   ],
   "source": [
    "#for loop\n",
    "\n",
    "#for val in sequence:\n",
    "#   Body of for\n",
    "\n",
    "num = [6,3,4,5,6,8,5,6,4,3,1,2,3,9]\n",
    "sum = 0\n",
    "for val in num:\n",
    "    sum = sum +val\n",
    "print (\"The sum of num list is \",sum)\n"
   ]
  },
  {
   "cell_type": "code",
   "execution_count": 21,
   "metadata": {},
   "outputs": [
    {
     "name": "stdout",
     "output_type": "stream",
     "text": [
      "[1, 2, 3, 4, 5, 6, 7, 8, 9, 10]\n",
      "[2, 3, 4, 5, 6, 7]\n",
      "[1, 4, 7, 10]\n",
      "I like  vanilla\n",
      "I like  strawberry\n",
      "I like  butterscoth\n"
     ]
    }
   ],
   "source": [
    "#Range\n",
    "\n",
    "print(list(range(1,11)))\n",
    "print(list(range(2,8)))\n",
    "print(list(range(1,11,3)))\n",
    "\n",
    "iceCream = ['vanilla', 'strawberry','butterscoth']\n",
    "for i in range(len(iceCream)):\n",
    "    print ('I like ',iceCream[i])\n"
   ]
  },
  {
   "cell_type": "code",
   "execution_count": 22,
   "metadata": {},
   "outputs": [
    {
     "name": "stdout",
     "output_type": "stream",
     "text": [
      "0\n",
      "1\n",
      "2\n",
      "6\n",
      "7\n",
      "9\n",
      "No item is left\n"
     ]
    }
   ],
   "source": [
    "#for with else\n",
    "\n",
    "digits = [0,1,2,6,7,9]\n",
    "for i in digits:\n",
    "    print(i)\n",
    "else:\n",
    "    print(\"No item is left\")\n"
   ]
  },
  {
   "cell_type": "code",
   "execution_count": 23,
   "metadata": {},
   "outputs": [
    {
     "name": "stdout",
     "output_type": "stream",
     "text": [
      "2\n",
      "The program is done\n",
      "The sum is :  55\n"
     ]
    }
   ],
   "source": [
    "#While loop\n",
    "\n",
    "#While test_Expression:\n",
    "#    Body of while\n",
    "\n",
    "n = 10\n",
    "sum = 0\n",
    "i = 1\n",
    "while i <= n:\n",
    "    sum = sum + i\n",
    "    i = i + 1\n",
    "    if(i==2):\n",
    "        print(i)\n",
    "else:\n",
    "    print(\"The program is done\")\n",
    "print(\"The sum is : \",sum)\n",
    "\n",
    "\n"
   ]
  },
  {
   "cell_type": "code",
   "execution_count": 24,
   "metadata": {},
   "outputs": [
    {
     "name": "stdout",
     "output_type": "stream",
     "text": [
      "s\n",
      "t\n",
      "r\n",
      "End\n"
     ]
    }
   ],
   "source": [
    "#break\n",
    "\n",
    "for val in 'string':\n",
    "    if val == 'i':\n",
    "        break\n",
    "    print(val)\n",
    "print(\"End\")"
   ]
  },
  {
   "cell_type": "code",
   "execution_count": 25,
   "metadata": {},
   "outputs": [
    {
     "name": "stdout",
     "output_type": "stream",
     "text": [
      "s\n",
      "t\n",
      "r\n",
      "n\n",
      "g\n",
      "End\n"
     ]
    }
   ],
   "source": [
    "#Continue\n",
    "\n",
    "for val in 'string':\n",
    "    if val == 'i':\n",
    "        continue\n",
    "    print(val)\n",
    "print(\"End\")"
   ]
  },
  {
   "cell_type": "code",
   "execution_count": 26,
   "metadata": {
    "collapsed": true
   },
   "outputs": [],
   "source": [
    "#Pass \n",
    "\n",
    "#we use pass statement to construct a body that does not do anything\n",
    "\n",
    "sequence = {'p','a','s','s'}\n",
    "for val in sequence:\n",
    "    pass\n",
    "\n",
    "def function(args):\n",
    "    pass\n",
    "    \n",
    "\n",
    "class example:\n",
    "    pass\n",
    "    "
   ]
  },
  {
   "cell_type": "code",
   "execution_count": 27,
   "metadata": {
    "collapsed": true
   },
   "outputs": [],
   "source": [
    "##### Python Functions ##################\n",
    "\n",
    "\n",
    "#Syntax of function\n",
    "\n",
    "#def function_name(parameters): \"\"\"doc string\"\"\" statement(s) return \"\""
   ]
  },
  {
   "cell_type": "code",
   "execution_count": 28,
   "metadata": {
    "collapsed": true
   },
   "outputs": [],
   "source": [
    "# Keyword - def\n",
    "# function name should be uniquely identify it.\n",
    "# Parameter - optional\n",
    "# : - mandatory\n",
    "# doctring - optional\n",
    "# return statement - optional"
   ]
  },
  {
   "cell_type": "code",
   "execution_count": 30,
   "metadata": {},
   "outputs": [
    {
     "name": "stdout",
     "output_type": "stream",
     "text": [
      "Hello,  Python  Good morning!\n",
      "Hello,  Numpy  Good morning!\n",
      "Hello,  Pandas  Good morning!\n"
     ]
    }
   ],
   "source": [
    "def greet(name):\n",
    "    \"\"\"This function greets to the person passed in as parameter\"\"\"\n",
    "    print(\"Hello, \",name,\" Good morning!\")\n",
    "\n",
    "#Function call\n",
    "greet(\"Python\") \n",
    "greet(\"Numpy\")\n",
    "greet(\"Pandas\")"
   ]
  },
  {
   "cell_type": "code",
   "execution_count": 31,
   "metadata": {},
   "outputs": [
    {
     "name": "stdout",
     "output_type": "stream",
     "text": [
      "This function greets to the person passed in as parameter\n"
     ]
    }
   ],
   "source": [
    "print(greet.__doc__)"
   ]
  },
  {
   "cell_type": "code",
   "execution_count": 32,
   "metadata": {},
   "outputs": [
    {
     "name": "stdout",
     "output_type": "stream",
     "text": [
      "value inside function :  10\n",
      "value outside function :  20\n"
     ]
    }
   ],
   "source": [
    "#Scope of a variables in function\n",
    "\n",
    "def my_func(x):\n",
    "    x = 10\n",
    "    print(\"value inside function : \",x)\n",
    "\n",
    "x = 20\n",
    "my_func(x+1)\n",
    "print(\"value outside function : \",x)\n"
   ]
  },
  {
   "cell_type": "code",
   "execution_count": 33,
   "metadata": {},
   "outputs": [
    {
     "name": "stdout",
     "output_type": "stream",
     "text": [
      "first  20\n",
      "sec  10\n"
     ]
    }
   ],
   "source": [
    "x = 20\n",
    "print(\"first \",x)\n",
    "x = 10\n",
    "print(\"sec \",x)\n"
   ]
  },
  {
   "cell_type": "code",
   "execution_count": 34,
   "metadata": {},
   "outputs": [
    {
     "name": "stdout",
     "output_type": "stream",
     "text": [
      "Hello,  Python Good Morning\n",
      "Hello,  Pandas Good Morning\n"
     ]
    }
   ],
   "source": [
    "#Argument/Parameter\n",
    "\n",
    "def greet(name,msg):\n",
    "    \"\"\"This function greets to the person passed in as parameter\"\"\"\n",
    "    print(\"Hello, \",name,msg)\n",
    "\n",
    "#Function call\n",
    "greet(\"Python\",\"Good Morning\") \n",
    "greet(\"Pandas\",\"Good Morning\")\n",
    "\n"
   ]
  },
  {
   "cell_type": "code",
   "execution_count": 35,
   "metadata": {},
   "outputs": [
    {
     "name": "stdout",
     "output_type": "stream",
     "text": [
      "Hello,  Python Good Night\n",
      "Hello,  Numpy Good morning\n"
     ]
    }
   ],
   "source": [
    "def greet(name,msg = \"Good morning\"):\n",
    "    \"\"\"This function greets to the person passed in as parameter\"\"\"\n",
    "    print(\"Hello, \",name,msg)\n",
    "\n",
    "#Function call\n",
    "greet(\"Python\",\"Good Night\") \n",
    "greet(\"Numpy\")\n",
    "\n"
   ]
  },
  {
   "cell_type": "code",
   "execution_count": 36,
   "metadata": {},
   "outputs": [
    {
     "name": "stdout",
     "output_type": "stream",
     "text": [
      "Hello,  Python\n",
      "Hello,  Numpy\n",
      "Hello,  Pandas\n"
     ]
    }
   ],
   "source": [
    "#Arbitrary Arguments\n",
    "\n",
    "def greet(*name):\n",
    "    \"\"\"This function greets to the person passed in as parameter\"\"\"\n",
    "    for i in name:\n",
    "        print(\"Hello, \",i)\n",
    "\n",
    "#Function call\n",
    "greet(\"Python\",\"Numpy\",\"Pandas\")"
   ]
  },
  {
   "cell_type": "code",
   "execution_count": 37,
   "metadata": {},
   "outputs": [
    {
     "name": "stdout",
     "output_type": "stream",
     "text": [
      "Select operation : \n",
      "1. Add \n",
      "2. Subtract\n",
      "3. Multiply\n",
      "4. Divide\n",
      "Enter the choice (1/2/3/4): 1\n",
      "Enter the first number 1\n",
      "Enter the second number 2\n",
      "1 + 2  =  3\n"
     ]
    }
   ],
   "source": [
    "#Simple calculator\n",
    "\n",
    "'''Program make a simple calculator'''\n",
    "#This function adds the two numbers\n",
    "def add(x,y):\n",
    "    return x+y\n",
    "\n",
    "#This function subtract the two numbers\n",
    "def sub(x,y):\n",
    "    return x-y\n",
    "\n",
    "#This function multiplication the two numbers\n",
    "def mul(x,y):\n",
    "    return x*y\n",
    "\n",
    "#This function division the two numbers\n",
    "def div(x,y):\n",
    "    return x/y\n",
    "\n",
    "print(\"Select operation : \")\n",
    "print(\"1. Add \")\n",
    "print(\"2. Subtract\")\n",
    "print(\"3. Multiply\")\n",
    "print(\"4. Divide\")\n",
    "#Take input from the user\n",
    "choice = input(\"Enter the choice (1/2/3/4): \")\n",
    "\n",
    "num1 = int(input(\"Enter the first number \"))\n",
    "num2 = int(input(\"Enter the second number \"))\n",
    "\n",
    "if choice == \"1\":\n",
    "    print(num1,\"+\",num2,\" = \",add(num1,num2))\n",
    "    \n",
    "elif choice == \"2\":\n",
    "    print(num1,\"-\",num2,\" = \",sub(num1,num2))\n",
    "    \n",
    "elif choice == \"3\":\n",
    "    print(num1,\"*\",num2,\" = \",mul(num1,num2))\n",
    "\n",
    "elif choice == \"4\":\n",
    "    print(num1,\"/\",num2,\" = \",div(num1,num2))\n",
    "\n",
    "else:\n",
    "    print(\"Invalid input\")"
   ]
  },
  {
   "cell_type": "code",
   "execution_count": 38,
   "metadata": {},
   "outputs": [
    {
     "data": {
      "text/plain": [
       "120"
      ]
     },
     "execution_count": 38,
     "metadata": {},
     "output_type": "execute_result"
    }
   ],
   "source": [
    "# Recursive function\n",
    "# Function which call itself\n",
    "\n",
    "def calc_factorial(x):\n",
    "    if x ==1 :\n",
    "        return 1\n",
    "    else:\n",
    "        return x*calc_factorial(x-1)\n",
    "\n",
    "# 3*2*1\n",
    "calc_factorial(5)"
   ]
  },
  {
   "cell_type": "code",
   "execution_count": 39,
   "metadata": {},
   "outputs": [
    {
     "data": {
      "text/plain": [
       "15"
      ]
     },
     "execution_count": 39,
     "metadata": {},
     "output_type": "execute_result"
    }
   ],
   "source": [
    "def calc_sum_natural(x):\n",
    "    if x==1:\n",
    "        return 1\n",
    "    else:\n",
    "        return x+calc_sum_natural(x-1)\n",
    "#5+4+3+2+1    \n",
    "calc_sum_natural(5)"
   ]
  },
  {
   "cell_type": "code",
   "execution_count": 40,
   "metadata": {
    "collapsed": true
   },
   "outputs": [],
   "source": [
    "#Advantage of recursive function:\n",
    "\n",
    "#Makes the code clean and elegant\n",
    "#complex task can be broken down into simpler sub problem\n",
    "\n",
    "#Disadvantage:\n",
    "\n",
    "#Hard to follow\n",
    "#hard to debug"
   ]
  },
  {
   "cell_type": "code",
   "execution_count": 41,
   "metadata": {},
   "outputs": [
    {
     "data": {
      "text/plain": [
       "9"
      ]
     },
     "execution_count": 41,
     "metadata": {},
     "output_type": "execute_result"
    }
   ],
   "source": [
    "#Lambda Function\n",
    "\n",
    "#lambda arguments : expression\n",
    "\n",
    "double = lambda x : x**2\n",
    "\n",
    "double(3) #3^2"
   ]
  },
  {
   "cell_type": "code",
   "execution_count": 42,
   "metadata": {
    "collapsed": true
   },
   "outputs": [],
   "source": [
    "# Higher order function in lambda\n",
    "\n",
    "# filter()\n",
    "# map()"
   ]
  },
  {
   "cell_type": "code",
   "execution_count": 43,
   "metadata": {},
   "outputs": [
    {
     "data": {
      "text/plain": [
       "[6, 2, 8, 6, 6, 4]"
      ]
     },
     "execution_count": 43,
     "metadata": {},
     "output_type": "execute_result"
    }
   ],
   "source": [
    "mylist = [1,3,5,6,7,2,7,8,6,6,4]\n",
    "new_list = list(filter(lambda x : (x%2==0),mylist))\n",
    "\n",
    "new_list"
   ]
  },
  {
   "cell_type": "code",
   "execution_count": 44,
   "metadata": {},
   "outputs": [
    {
     "data": {
      "text/plain": [
       "[2, 6, 10, 12, 14, 4, 14, 16, 12, 12, 8]"
      ]
     },
     "execution_count": 44,
     "metadata": {},
     "output_type": "execute_result"
    }
   ],
   "source": [
    "new_list = list(map(lambda x : (x*2),mylist))\n",
    "new_list"
   ]
  },
  {
   "cell_type": "code",
   "execution_count": 45,
   "metadata": {},
   "outputs": [
    {
     "data": {
      "text/plain": [
       "55"
      ]
     },
     "execution_count": 45,
     "metadata": {},
     "output_type": "execute_result"
    }
   ],
   "source": [
    "from functools import reduce\n",
    "\n",
    "mylist = [1,3,5,6,7,2,7,8,6,6,4]\n",
    "\n",
    "new_list = reduce(lambda x,y : x+y , mylist)\n",
    "new_list"
   ]
  },
  {
   "cell_type": "code",
   "execution_count": 47,
   "metadata": {},
   "outputs": [
    {
     "name": "stdout",
     "output_type": "stream",
     "text": [
      "C:\\Users\\Siraj\\Sandbox\\MYLEARNING\\python\\python_learning_2\\MyRepository\\ML-Python-Numpy-Pandas\n"
     ]
    },
    {
     "name": "stderr",
     "output_type": "stream",
     "text": [
      "C:\\Users\\Siraj\\Anaconda3\\lib\\site-packages\\ipykernel_launcher.py:6: DeprecationWarning: The Windows bytes API has been deprecated, use Unicode filenames instead\n",
      "  \n"
     ]
    },
    {
     "data": {
      "text/plain": [
       "b'C:\\\\Users\\\\Siraj\\\\Sandbox\\\\MYLEARNING\\\\python\\\\python_learning_2\\\\MyRepository\\\\ML-Python-Numpy-Pandas'"
      ]
     },
     "execution_count": 47,
     "metadata": {},
     "output_type": "execute_result"
    }
   ],
   "source": [
    "#Python Directory and files Management\n",
    "#Get the directory\n",
    "import os\n",
    "print(os.getcwd()) # String\n",
    "os.getcwdb() # Bytes object"
   ]
  },
  {
   "cell_type": "code",
   "execution_count": 48,
   "metadata": {},
   "outputs": [
    {
     "name": "stdout",
     "output_type": "stream",
     "text": [
      "['.git', '.ipynb_checkpoints', 'ign.csv', 'Python-Basics.ipynb', 'Python-DataStructures.ipynb', 'Python-Numpy.ipynb', 'Python-Pandas.ipynb', 'thanksgiving-2015-poll-data.csv', 'Why Numpy.ipynb', 'winequality-red.csv']\n"
     ]
    }
   ],
   "source": [
    "#list directories and files\n",
    "\n",
    "print(os.listdir())"
   ]
  },
  {
   "cell_type": "code",
   "execution_count": 49,
   "metadata": {},
   "outputs": [
    {
     "name": "stdout",
     "output_type": "stream",
     "text": [
      "['$Recycle.Bin', '2f63b856aa47242cfab331ca1def3902', '7dca33c3762de608a80df7cd4a9d', '98a6c3c3480b0d80b4', 'Boot', 'bootmgr', 'BOOTSECT.BAK', 'c991877a48d23c0eb992', 'Config.Msi', 'Documents and Settings', 'GeneralSoftwares', 'grldr', 'hiberfil.sys', 'Intel', 'mongodb', 'MSOCache', 'my', 'pagefile.sys', 'PerfLogs', 'Program Files', 'Program Files (x86)', 'ProgramData', 'Python27', 'Recovery', 'server', 'System Volume Information', 'TempEI4', 'Users', 'WinDDK', 'Windows', 'WinShell']\n"
     ]
    }
   ],
   "source": [
    "print(os.listdir('c:\\\\'))"
   ]
  },
  {
   "cell_type": "code",
   "execution_count": 50,
   "metadata": {
    "collapsed": true
   },
   "outputs": [],
   "source": [
    "# ----------------Error can also occur at runtime and there are called exceptions-------------------- ####\n",
    "\n",
    "# Eg :1/0"
   ]
  },
  {
   "cell_type": "code",
   "execution_count": 51,
   "metadata": {},
   "outputs": [
    {
     "ename": "ZeroDivisionError",
     "evalue": "division by zero",
     "output_type": "error",
     "traceback": [
      "\u001b[1;31m---------------------------------------------------------------------------\u001b[0m",
      "\u001b[1;31mZeroDivisionError\u001b[0m                         Traceback (most recent call last)",
      "\u001b[1;32m<ipython-input-51-05c9758a9c21>\u001b[0m in \u001b[0;36m<module>\u001b[1;34m()\u001b[0m\n\u001b[1;32m----> 1\u001b[1;33m \u001b[1;36m1\u001b[0m\u001b[1;33m/\u001b[0m\u001b[1;36m0\u001b[0m\u001b[1;33m\u001b[0m\u001b[0m\n\u001b[0m",
      "\u001b[1;31mZeroDivisionError\u001b[0m: division by zero"
     ]
    }
   ],
   "source": [
    "1/0"
   ]
  },
  {
   "cell_type": "code",
   "execution_count": 52,
   "metadata": {},
   "outputs": [
    {
     "name": "stdout",
     "output_type": "stream",
     "text": [
      "1\n",
      "1\n",
      "\n",
      "\n",
      "Try is done and it is executed finally\n",
      "1\n",
      "3\n",
      "\n",
      "\n",
      "Try is done and it is executed finally\n",
      "1\n",
      "4\n",
      "\n",
      "\n",
      "Try is done and it is executed finally\n",
      "1\n",
      "0\n",
      "\n",
      "\n",
      "OOPs! <class 'ZeroDivisionError'> occured\n",
      "\n",
      "Try is done and it is executed finally\n",
      "1\n",
      "2\n",
      "\n",
      "\n",
      "Try is done and it is executed finally\n",
      "1\n",
      "4\n",
      "\n",
      "\n",
      "Try is done and it is executed finally\n",
      "2\n",
      "1\n",
      "\n",
      "\n",
      "Try is done and it is executed finally\n",
      "2\n",
      "3\n",
      "\n",
      "\n",
      "Try is done and it is executed finally\n",
      "2\n",
      "4\n",
      "\n",
      "\n",
      "Try is done and it is executed finally\n",
      "2\n",
      "0\n",
      "\n",
      "\n",
      "OOPs! <class 'ZeroDivisionError'> occured\n",
      "\n",
      "Try is done and it is executed finally\n",
      "2\n",
      "2\n",
      "\n",
      "\n",
      "Try is done and it is executed finally\n",
      "2\n",
      "4\n",
      "\n",
      "\n",
      "Try is done and it is executed finally\n",
      "3\n",
      "1\n",
      "\n",
      "\n",
      "Try is done and it is executed finally\n",
      "3\n",
      "3\n",
      "\n",
      "\n",
      "Try is done and it is executed finally\n",
      "3\n",
      "4\n",
      "\n",
      "\n",
      "Try is done and it is executed finally\n",
      "3\n",
      "0\n",
      "\n",
      "\n",
      "OOPs! <class 'ZeroDivisionError'> occured\n",
      "\n",
      "Try is done and it is executed finally\n",
      "3\n",
      "2\n",
      "\n",
      "\n",
      "Try is done and it is executed finally\n",
      "3\n",
      "4\n",
      "\n",
      "\n",
      "Try is done and it is executed finally\n",
      "40\n",
      "1\n",
      "\n",
      "\n",
      "Try is done and it is executed finally\n",
      "40\n",
      "3\n",
      "\n",
      "\n",
      "Try is done and it is executed finally\n",
      "40\n",
      "4\n",
      "\n",
      "\n",
      "Try is done and it is executed finally\n",
      "40\n",
      "0\n",
      "\n",
      "\n",
      "OOPs! <class 'ZeroDivisionError'> occured\n",
      "\n",
      "Try is done and it is executed finally\n",
      "40\n",
      "2\n",
      "\n",
      "\n",
      "Try is done and it is executed finally\n",
      "40\n",
      "4\n",
      "\n",
      "\n",
      "Try is done and it is executed finally\n",
      "0\n",
      "1\n",
      "\n",
      "\n",
      "Try is done and it is executed finally\n",
      "0\n",
      "3\n",
      "\n",
      "\n",
      "Try is done and it is executed finally\n",
      "0\n",
      "4\n",
      "\n",
      "\n",
      "Try is done and it is executed finally\n",
      "0\n",
      "0\n",
      "\n",
      "\n",
      "OOPs! <class 'ZeroDivisionError'> occured\n",
      "\n",
      "Try is done and it is executed finally\n",
      "0\n",
      "2\n",
      "\n",
      "\n",
      "Try is done and it is executed finally\n",
      "0\n",
      "4\n",
      "\n",
      "\n",
      "Try is done and it is executed finally\n",
      "23\n",
      "1\n",
      "\n",
      "\n",
      "Try is done and it is executed finally\n",
      "23\n",
      "3\n",
      "\n",
      "\n",
      "Try is done and it is executed finally\n",
      "23\n",
      "4\n",
      "\n",
      "\n",
      "Try is done and it is executed finally\n",
      "23\n",
      "0\n",
      "\n",
      "\n",
      "OOPs! <class 'ZeroDivisionError'> occured\n",
      "\n",
      "Try is done and it is executed finally\n",
      "23\n",
      "2\n",
      "\n",
      "\n",
      "Try is done and it is executed finally\n",
      "23\n",
      "4\n",
      "\n",
      "\n",
      "Try is done and it is executed finally\n"
     ]
    }
   ],
   "source": [
    "import sys\n",
    "a = [1,2,3,40,0,23]\n",
    "b = [1,3,4,0,2,4]\n",
    "\n",
    "for x in a:\n",
    "    for y in b:\n",
    "        try:\n",
    "            print(x)\n",
    "            print(y)\n",
    "            print(\"\\n\")\n",
    "            x/y\n",
    "        except:\n",
    "            print(\"OOPs!\",sys.exc_info()[0],\"occured\" )\n",
    "            print()\n",
    "        finally:\n",
    "            print(\"Try is done and it is executed finally\")\n",
    "            "
   ]
  },
  {
   "cell_type": "code",
   "execution_count": null,
   "metadata": {
    "collapsed": true
   },
   "outputs": [],
   "source": []
  },
  {
   "cell_type": "code",
   "execution_count": 1,
   "metadata": {},
   "outputs": [
    {
     "name": "stdout",
     "output_type": "stream",
     "text": [
      "1 2\n"
     ]
    }
   ],
   "source": [
    "print (1,2)"
   ]
  },
  {
   "cell_type": "code",
   "execution_count": 4,
   "metadata": {},
   "outputs": [
    {
     "name": "stdout",
     "output_type": "stream",
     "text": [
      "2\n",
      "4\n",
      "6\n",
      "8\n",
      "10\n",
      "12\n",
      "14\n",
      "16\n",
      "18\n",
      "20\n",
      "22\n",
      "24\n",
      "26\n",
      "28\n",
      "30\n",
      "32\n",
      "34\n",
      "36\n",
      "38\n",
      "40\n",
      "42\n",
      "44\n",
      "46\n",
      "48\n",
      "50\n",
      "52\n",
      "54\n",
      "56\n",
      "58\n",
      "60\n",
      "62\n",
      "64\n",
      "66\n",
      "68\n",
      "70\n",
      "72\n",
      "74\n",
      "76\n",
      "78\n",
      "80\n",
      "82\n",
      "84\n",
      "86\n",
      "88\n",
      "90\n",
      "92\n",
      "94\n",
      "96\n",
      "98\n",
      "END\n"
     ]
    }
   ],
   "source": [
    "for i in range(1,100):\n",
    "    if i%2 ==0:\n",
    "        print(i)\n",
    "print(\"END\")\n"
   ]
  },
  {
   "cell_type": "code",
   "execution_count": null,
   "metadata": {
    "collapsed": true
   },
   "outputs": [],
   "source": []
  }
 ],
 "metadata": {
  "kernelspec": {
   "display_name": "Python 3",
   "language": "python",
   "name": "python3"
  },
  "language_info": {
   "codemirror_mode": {
    "name": "ipython",
    "version": 3
   },
   "file_extension": ".py",
   "mimetype": "text/x-python",
   "name": "python",
   "nbconvert_exporter": "python",
   "pygments_lexer": "ipython3",
   "version": "3.6.3"
  }
 },
 "nbformat": 4,
 "nbformat_minor": 2
}
