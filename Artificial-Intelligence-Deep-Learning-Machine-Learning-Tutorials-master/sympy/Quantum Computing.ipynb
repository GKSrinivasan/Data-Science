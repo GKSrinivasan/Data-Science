{
 "cells": [
  {
   "cell_type": "code",
   "execution_count": 31,
   "metadata": {
    "collapsed": true
   },
   "outputs": [],
   "source": [
    "from sympy.physics.quantum.qubit import Qubit, IntQubit, IntQubitBra, matrix_to_qubit\n",
    "from sympy.physics.quantum.dagger import Dagger\n",
    "from sympy.physics.quantum.gate import Z\n",
    "from sympy.physics.quantum.represent import represent"
   ]
  },
  {
   "cell_type": "markdown",
   "metadata": {},
   "source": [
    "## Qubits "
   ]
  },
  {
   "cell_type": "markdown",
   "metadata": {},
   "source": [
    "### We could have also called \n",
    "Alternatively we could have also done\n",
    "from sympy.physics.quantum.qubit import Qubit\n"
   ]
  },
  {
   "cell_type": "code",
   "execution_count": 16,
   "metadata": {},
   "outputs": [
    {
     "data": {
      "text/plain": [
       "|000>"
      ]
     },
     "execution_count": 16,
     "metadata": {},
     "output_type": "execute_result"
    }
   ],
   "source": [
    "Qubit(0,0,0)"
   ]
  },
  {
   "cell_type": "code",
   "execution_count": 17,
   "metadata": {},
   "outputs": [
    {
     "data": {
      "text/plain": [
       "|0101>"
      ]
     },
     "execution_count": 17,
     "metadata": {},
     "output_type": "execute_result"
    }
   ],
   "source": [
    "q = Qubit('0101')\n",
    "q"
   ]
  },
  {
   "cell_type": "code",
   "execution_count": 18,
   "metadata": {},
   "outputs": [
    {
     "data": {
      "text/plain": [
       "4"
      ]
     },
     "execution_count": 18,
     "metadata": {},
     "output_type": "execute_result"
    }
   ],
   "source": [
    "q.nqubits"
   ]
  },
  {
   "cell_type": "code",
   "execution_count": 19,
   "metadata": {},
   "outputs": [
    {
     "data": {
      "text/plain": [
       "4"
      ]
     },
     "execution_count": 19,
     "metadata": {},
     "output_type": "execute_result"
    }
   ],
   "source": [
    "len(q)"
   ]
  },
  {
   "cell_type": "code",
   "execution_count": 20,
   "metadata": {},
   "outputs": [
    {
     "data": {
      "text/plain": [
       "4"
      ]
     },
     "execution_count": 20,
     "metadata": {},
     "output_type": "execute_result"
    }
   ],
   "source": [
    "q.dimension"
   ]
  },
  {
   "cell_type": "code",
   "execution_count": 21,
   "metadata": {},
   "outputs": [
    {
     "data": {
      "text/plain": [
       "|0111>"
      ]
     },
     "execution_count": 21,
     "metadata": {},
     "output_type": "execute_result"
    }
   ],
   "source": [
    "q.flip(1)"
   ]
  },
  {
   "cell_type": "code",
   "execution_count": 22,
   "metadata": {},
   "outputs": [
    {
     "data": {
      "text/plain": [
       "(0, 1, 0, 1)"
      ]
     },
     "execution_count": 22,
     "metadata": {},
     "output_type": "execute_result"
    }
   ],
   "source": [
    "q.qubit_values"
   ]
  },
  {
   "cell_type": "code",
   "execution_count": 23,
   "metadata": {},
   "outputs": [
    {
     "data": {
      "text/plain": [
       "<0101|"
      ]
     },
     "execution_count": 23,
     "metadata": {},
     "output_type": "execute_result"
    }
   ],
   "source": [
    "Dagger(q)"
   ]
  },
  {
   "cell_type": "code",
   "execution_count": 24,
   "metadata": {},
   "outputs": [
    {
     "data": {
      "text/plain": [
       "sympy.physics.quantum.qubit.QubitBra"
      ]
     },
     "execution_count": 24,
     "metadata": {},
     "output_type": "execute_result"
    }
   ],
   "source": [
    "type(Dagger(q))"
   ]
  },
  {
   "cell_type": "code",
   "execution_count": 25,
   "metadata": {},
   "outputs": [
    {
     "data": {
      "text/plain": [
       "<0101|0101>"
      ]
     },
     "execution_count": 25,
     "metadata": {},
     "output_type": "execute_result"
    }
   ],
   "source": [
    "ip = Dagger(q)*q\n",
    "ip"
   ]
  },
  {
   "cell_type": "code",
   "execution_count": 26,
   "metadata": {},
   "outputs": [
    {
     "data": {
      "text/plain": [
       "|5>"
      ]
     },
     "execution_count": 26,
     "metadata": {},
     "output_type": "execute_result"
    }
   ],
   "source": [
    "# Create a qubit for integer 5\n",
    "q = IntQubit(Qubit('101'))\n",
    "q"
   ]
  },
  {
   "cell_type": "code",
   "execution_count": 27,
   "metadata": {},
   "outputs": [
    {
     "data": {
      "text/plain": [
       "5"
      ]
     },
     "execution_count": 27,
     "metadata": {},
     "output_type": "execute_result"
    }
   ],
   "source": [
    "q.as_int()"
   ]
  },
  {
   "cell_type": "code",
   "execution_count": 28,
   "metadata": {},
   "outputs": [
    {
     "data": {
      "text/plain": [
       "3"
      ]
     },
     "execution_count": 28,
     "metadata": {},
     "output_type": "execute_result"
    }
   ],
   "source": [
    "q.nqubits"
   ]
  },
  {
   "cell_type": "code",
   "execution_count": 29,
   "metadata": {},
   "outputs": [
    {
     "data": {
      "text/plain": [
       "(1, 0, 1)"
      ]
     },
     "execution_count": 29,
     "metadata": {},
     "output_type": "execute_result"
    }
   ],
   "source": [
    "q.qubit_values"
   ]
  },
  {
   "cell_type": "code",
   "execution_count": 32,
   "metadata": {},
   "outputs": [
    {
     "data": {
      "text/plain": [
       "|01>"
      ]
     },
     "execution_count": 32,
     "metadata": {},
     "output_type": "execute_result"
    }
   ],
   "source": [
    "# Represent a state and then go back to its qubit form\n",
    "q = Qubit('01')\n",
    "matrix_to_qubit(represent(q))"
   ]
  },
  {
   "cell_type": "code",
   "execution_count": 33,
   "metadata": {
    "collapsed": true
   },
   "outputs": [],
   "source": [
    "# measure all, matrix to density\n",
    "from sympy.physics.quantum.qubit import Qubit, measure_all, measure_partial, measure_all_oneshot, measure_partial_oneshot\n",
    "from sympy.physics.quantum.gate import H, X, Y, Z\n",
    "from sympy.physics.quantum.qapply import qapply"
   ]
  },
  {
   "cell_type": "code",
   "execution_count": 34,
   "metadata": {},
   "outputs": [
    {
     "data": {
      "text/plain": [
       "H(0)*H(1)*|00>"
      ]
     },
     "execution_count": 34,
     "metadata": {},
     "output_type": "execute_result"
    }
   ],
   "source": [
    "c = H(0)*H(1)*Qubit('00')\n",
    "c"
   ]
  },
  {
   "cell_type": "code",
   "execution_count": 35,
   "metadata": {},
   "outputs": [
    {
     "data": {
      "text/plain": [
       "[(|00>, 1/4), (|01>, 1/4), (|10>, 1/4), (|11>, 1/4)]"
      ]
     },
     "execution_count": 35,
     "metadata": {},
     "output_type": "execute_result"
    }
   ],
   "source": [
    "q = qapply(c) \n",
    "measure_all(q)"
   ]
  },
  {
   "cell_type": "code",
   "execution_count": 36,
   "metadata": {},
   "outputs": [
    {
     "data": {
      "text/plain": [
       "[(sqrt(2)*|00>/2 + sqrt(2)*|10>/2, 1/2),\n",
       " (sqrt(2)*|01>/2 + sqrt(2)*|11>/2, 1/2)]"
      ]
     },
     "execution_count": 36,
     "metadata": {},
     "output_type": "execute_result"
    }
   ],
   "source": [
    "# measure partial\n",
    "measure_partial(q, (0,))"
   ]
  },
  {
   "cell_type": "code",
   "execution_count": 37,
   "metadata": {},
   "outputs": [
    {
     "data": {
      "text/plain": [
       "sqrt(2)*|01>/2 + sqrt(2)*|11>/2"
      ]
     },
     "execution_count": 37,
     "metadata": {},
     "output_type": "execute_result"
    }
   ],
   "source": [
    "# measure partial oneshot\n",
    "measure_partial_oneshot(q, (0,))"
   ]
  },
  {
   "cell_type": "code",
   "execution_count": 38,
   "metadata": {},
   "outputs": [
    {
     "data": {
      "text/plain": [
       "|10>"
      ]
     },
     "execution_count": 38,
     "metadata": {},
     "output_type": "execute_result"
    }
   ],
   "source": [
    "# measure all one shot\n",
    "measure_all_oneshot(q)"
   ]
  },
  {
   "cell_type": "markdown",
   "metadata": {},
   "source": [
    "### Applying Hadamard gate to a single Qubit system\n",
    "\n"
   ]
  },
  {
   "cell_type": "markdown",
   "metadata": {},
   "source": [
    "## Shor's Algorithm \n",
    "\n",
    "From [Wikipedia](https://en.wikipedia.org/wiki/Shor%27s_algorithm), [**Also** read Peter Shor's arxiv research paper](https://arxiv.org/abs/quant-ph/9508027)\n",
    "\n",
    "Shor's algorithm, named after mathematician Peter Shor, is a quantum algorithm (an algorithm that runs on a quantum computer) for integer factorization formulated in 1994. Informally it solves the following problem: given an integer N, find its prime factors.\n",
    "\n",
    "On a quantum computer, to factor an integer N, Shor's algorithm runs in polynomial time (the time taken is polynomial in log N, which is the size of the input).[1] Specifically it takes quantum gates of order O((log N)2(log log N)(log log log N)) using fast multiplication,[2] demonstrating that the integer factorization problem can be efficiently solved on a quantum computer and is thus in the complexity class BQP. This is substantially faster than the most efficient known classical factoring algorithm, the general number field sieve, which works in sub-exponential time – about O(e1.9 (log N)1/3 (log log N)2/3).[3] The efficiency of Shor's algorithm is due to the efficiency of the quantum Fourier transform, and modular exponentiation by repeated squarings.\n",
    "\n",
    "If a quantum computer with a sufficient number of qubits could operate without succumbing to noise and other quantum decoherence phenomena, Shor's algorithm could be used to break public-key cryptography schemes such as the widely used RSA scheme. RSA is based on the assumption that factoring large numbers is computationally intractable. So far as is known, this assumption is valid for classical (non-quantum) computers; no classical algorithm is known that can factor in polynomial time. However, Shor's algorithm shows that factoring is efficient on an ideal quantum computer, so it may be feasible to defeat RSA by constructing a large quantum computer. It was also a powerful motivator for the design and construction of quantum computers and for the study of new quantum computer algorithms. It has also facilitated research on new cryptosystems that are secure from quantum computers, collectively called post-quantum cryptography.\n",
    "\n",
    "In 2001, Shor's algorithm was demonstrated by a group at IBM, who factored 15 into 3 × 5, using an NMR implementation of a quantum computer with 7 qubits.[4] After IBM's implementation, two independent groups implemented Shor's algorithm using photonic qubits, emphasizing that multi-qubit entanglement was observed when running the Shor's algorithm circuits.[5][6] In 2012, the factorization of 15 was performed with solid-state qubits.[7] Also in 2012, the factorization of 21 was achieved, setting the record for the largest number factored with Shor's algorithm.[8] In April 2012, the factorization of 143 was achieved, although this used adiabatic quantum computation rather than Shor's algorithm.[9] In November 2014, it was discovered that this 2012 adiabatic quantum computation had also factored larger numbers, the largest being 56153.[10][11]"
   ]
  },
  {
   "cell_type": "markdown",
   "metadata": {},
   "source": [
    "### Plain english?\n",
    "\n",
    "Let's say you have two prime numers. $p = 17$ and $q = 19$, then multiply these as follows as $pq = 323$. \n",
    "Now lets subtract these two by 1 and multiply that as in:\n",
    "\n",
    "$$ (p-1)*(q-1) = 16*18 = 288$$."
   ]
  },
  {
   "cell_type": "code",
   "execution_count": 54,
   "metadata": {},
   "outputs": [
    {
     "name": "stdout",
     "output_type": "stream",
     "text": [
      "Product of p and q is : 323\n",
      "Product of p-1 and q-1 is : 288\n"
     ]
    }
   ],
   "source": [
    "p = 17\n",
    "q = 19\n",
    "A = p*q\n",
    "B = (p-1)*(q-1)\n",
    "print(\"Product of p and q is :\",A)\n",
    "print(\"Product of p-1 and q-1 is :\", B)"
   ]
  },
  {
   "cell_type": "markdown",
   "metadata": {},
   "source": [
    "#### What next?\n",
    "Now, in a range of 1 and B(288), pick any number such that its LCD (lowest common denimonator) with A(323) is 1.\n",
    "Let's say we pick 9?\n",
    "\n",
    "What you'll realize is that you have to go a whole lot before you can find that number which is divisible by 9."
   ]
  },
  {
   "cell_type": "code",
   "execution_count": 5,
   "metadata": {},
   "outputs": [
    {
     "name": "stdout",
     "output_type": "stream",
     "text": [
      "45\n"
     ]
    },
    {
     "ename": "TypeError",
     "evalue": "'str' object cannot be interpreted as an integer",
     "output_type": "error",
     "traceback": [
      "\u001b[0;31m---------------------------------------------------------------------------\u001b[0m",
      "\u001b[0;31mTypeError\u001b[0m                                 Traceback (most recent call last)",
      "\u001b[0;32m<ipython-input-5-6393d02656db>\u001b[0m in \u001b[0;36m<module>\u001b[0;34m()\u001b[0m\n\u001b[1;32m      1\u001b[0m \u001b[0mnum\u001b[0m \u001b[0;34m=\u001b[0m \u001b[0minput\u001b[0m\u001b[0;34m(\u001b[0m\u001b[0;34m)\u001b[0m\u001b[0;34m\u001b[0m\u001b[0m\n\u001b[0;32m----> 2\u001b[0;31m \u001b[0;32mfor\u001b[0m \u001b[0mx\u001b[0m \u001b[0;32min\u001b[0m \u001b[0mrange\u001b[0m\u001b[0;34m(\u001b[0m\u001b[0;36m1\u001b[0m\u001b[0;34m,\u001b[0m \u001b[0mnum\u001b[0m\u001b[0;34m)\u001b[0m\u001b[0;34m:\u001b[0m\u001b[0;34m\u001b[0m\u001b[0m\n\u001b[0m\u001b[1;32m      3\u001b[0m     \u001b[0;32mif\u001b[0m \u001b[0;34m(\u001b[0m\u001b[0mnum\u001b[0m \u001b[0;34m%\u001b[0m \u001b[0mx\u001b[0m\u001b[0;34m)\u001b[0m \u001b[0;34m==\u001b[0m\u001b[0;36m0\u001b[0m\u001b[0;34m:\u001b[0m\u001b[0;34m\u001b[0m\u001b[0m\n\u001b[1;32m      4\u001b[0m         \u001b[0mprint\u001b[0m \u001b[0;34m(\u001b[0m\u001b[0;34m\"Fact :\"\u001b[0m\u001b[0;34m)\u001b[0m\u001b[0;34m\u001b[0m\u001b[0m\n",
      "\u001b[0;31mTypeError\u001b[0m: 'str' object cannot be interpreted as an integer"
     ]
    }
   ],
   "source": [
    "num = 0\n",
    "for x in range(1, 289):\n",
    "    if (num % x) ==0:\n",
    "        print (\"Fact :\")"
   ]
  },
  {
   "cell_type": "code",
   "execution_count": null,
   "metadata": {
    "collapsed": true
   },
   "outputs": [],
   "source": [
    "! python shor.py"
   ]
  },
  {
   "cell_type": "raw",
   "metadata": {},
   "source": [
    "\tprojectq\n",
    "\t--------\n",
    "\tImplementation of Shor's algorithm.\n",
    "\tNumber to factor: 15\n",
    "\n",
    "\tFactoring N = 15: 00000001\n",
    "\n",
    "\tBad luck: Found 15 and 1\n",
    "Allocate : 109\n",
    "CCR(0.19634954084936207) : 16\n",
    "CCR(0.39269908169872414) : 32\n",
    "CCR(0.7853981633974483) : 64\n",
    "CCR(1.1780972450961724) : 8\n",
    "CCR(1.3744467859455345) : 16\n",
    "CCR(1.5707963267948966) : 104\n",
    "CCR(1.9634954084936207) : 8\n",
    "CCR(2.1598449493429825) : 16\n",
    "CCR(2.356194490192345) : 24\n",
    "CCR(2.552544031041707) : 16\n",
    "CCR(2.748893571891069) : 32\n",
    "CCR(3.141592653589793) : 192\n",
    "CCR(3.5342917352885173) : 16\n",
    "CCR(3.730641276137879) : 8\n",
    "CCR(3.9269908169872414) : 24\n",
    "CCR(4.123340357836604) : 8\n",
    "CCR(4.319689898685965) : 16\n",
    "CCR(4.71238898038469) : 88\n",
    "CCR(4.908738521234052) : 8\n",
    "CCR(5.105088062083414) : 16\n",
    "CCR(5.497787143782138) : 56\n",
    "CCR(5.890486225480862) : 16\n",
    "CCR(6.086835766330224) : 8\n",
    "CR(0.19634954084936207) : 144\n",
    "CR(0.39269908169872414) : 288\n",
    "CR(0.7853981633974483) : 432\n",
    "CR(1.5707963267948966) : 568\n",
    "CR(10.995574287564276) : 568\n",
    "CR(11.780972450961723) : 432\n",
    "CR(12.173671532660448) : 288\n",
    "CR(12.370021073509811) : 144\n",
    "CR(2.945243112740431) : 64\n",
    "CR(3.141592653589793) : 64\n",
    "CR(4.71238898038469) : 64\n",
    "CR(5.497787143782138) : 64\n",
    "CR(5.890486225480862) : 64\n",
    "CSwap : 32\n",
    "CX : 128\n",
    "Deallocate : 109\n",
    "H : 1408\n",
    "Measure : 9\n",
    "R(0.39269908169872414) : 64\n",
    "R(0.7853981633974483) : 64\n",
    "R(1.5707963267948966) : 64\n",
    "R(3.141592653589793) : 64\n",
    "R(3.3379421944391554) : 64\n",
    "X : 130\n",
    "\n",
    "Max. width (number of qubits) : 11."
   ]
  },
  {
   "cell_type": "raw",
   "metadata": {},
   "source": [
    "\tprojectq\n",
    "\t--------\n",
    "\tImplementation of Shor's algorithm.\n",
    "\tNumber to factor: 21\n",
    "\n",
    "\tFactoring N = 21: 0000000000\n",
    "\n",
    "\tFactors found :-) : 3 * 7 = 21\n",
    "Allocate : 166\n",
    "CCR(0.09817477042468103) : 20\n",
    "CCR(0.19634954084936207) : 40\n",
    "CCR(0.39269908169872414) : 76\n",
    "CCR(0.4908738521234052) : 20\n",
    "CCR(0.7853981633974483) : 96\n",
    "CCR(0.9817477042468103) : 22\n",
    "CCR(1.0799224746714913) : 2\n",
    "CCR(1.1780972450961724) : 30\n",
    "CCR(1.2762720155208536) : 20\n",
    "CCR(1.5707963267948966) : 189\n",
    "CCR(1.6689710972195777) : 18\n",
    "CCR(1.8653206380689396) : 20\n",
    "CCR(1.9634954084936207) : 43\n",
    "CCR(2.1598449493429825) : 2\n",
    "CCR(2.356194490192345) : 53\n",
    "CCR(2.552544031041707) : 30\n",
    "CCR(2.945243112740431) : 9\n",
    "CCR(3.141592653589793) : 300\n",
    "CCR(3.3379421944391554) : 18\n",
    "CCR(3.730641276137879) : 30\n",
    "CCR(3.9269908169872414) : 73\n",
    "CCR(4.123340357836604) : 1\n",
    "CCR(4.319689898685965) : 23\n",
    "CCR(4.417864669110646) : 10\n",
    "CCR(4.614214209960008) : 9\n",
    "CCR(4.71238898038469) : 111\n",
    "CCR(5.006913291658733) : 10\n",
    "CCR(5.105088062083414) : 30\n",
    "CCR(5.203262832508095) : 1\n",
    "CCR(5.3014376029327765) : 11\n",
    "CCR(5.497787143782138) : 48\n",
    "CCR(5.792311455056181) : 10\n",
    "CCR(5.890486225480862) : 38\n",
    "CCR(6.086835766330224) : 20\n",
    "CCR(6.185010536754905) : 10\n",
    "CR(0.09817477042468103) : 220\n",
    "CR(0.19634954084936207) : 440\n",
    "CR(0.39269908169872414) : 660\n",
    "CR(0.7853981633974483) : 880\n",
    "CR(1.5707963267948966) : 1191\n",
    "CR(1.9634954084936207) : 100\n",
    "CR(10.995574287564276) : 1091\n",
    "CR(11.780972450961723) : 880\n",
    "CR(12.173671532660448) : 660\n",
    "CR(12.370021073509811) : 440\n",
    "CR(12.468195843934492) : 220\n",
    "CR(2.061670178918302) : 100\n",
    "CR(3.141592653589793) : 100\n",
    "CR(3.9269908169872414) : 100\n",
    "CR(4.123340357836604) : 100\n",
    "CSwap : 50\n",
    "CX : 200\n",
    "Deallocate : 166\n",
    "H : 2602\n",
    "Measure : 11\n",
    "R(2.1598449493429825) : 100\n",
    "R(2.356194490192345) : 100\n",
    "R(3.141592653589793) : 100\n",
    "R(4.221515128261284) : 100\n",
    "R(4.319689898685965) : 100\n",
    "R(4.71238898038469) : 100\n",
    "X : 201\n",
    "\n",
    "Max. width (number of qubits) : 13."
   ]
  },
  {
   "cell_type": "code",
   "execution_count": 3,
   "metadata": {},
   "outputs": [
    {
     "name": "stdout",
     "output_type": "stream",
     "text": [
      "[  1.67968750e-01   1.30225008e-03   1.30273786e-03   1.30355358e-03\n",
      "   1.30470318e-03   1.30618108e-03   1.30799331e-03   1.31014048e-03\n",
      "   1.31262676e-03   1.31546019e-03   1.31863658e-03   1.32216723e-03\n",
      "   1.32605678e-03   1.33031129e-03   1.33493636e-03   1.33994152e-03\n",
      "   1.34533609e-03   1.35112600e-03   1.35732396e-03   1.36393902e-03\n",
      "   1.37098425e-03   1.37847115e-03   1.38641417e-03   1.39482960e-03\n",
      "   1.40373036e-03   1.41313591e-03   1.42306322e-03   1.43353408e-03\n",
      "   1.44457014e-03   1.45619374e-03   1.46843132e-03   1.48130930e-03\n",
      "   1.49485713e-03   1.50910765e-03   1.52409403e-03   1.53985468e-03\n",
      "   1.55643013e-03   1.57386507e-03   1.59220572e-03   1.61150552e-03\n",
      "   1.63182185e-03   1.65321585e-03   1.67575583e-03   1.69951643e-03\n",
      "   1.72457972e-03   1.75103592e-03   1.77898316e-03   1.80853216e-03\n",
      "   1.83980353e-03   1.87293277e-03   1.90807099e-03   1.94538489e-03\n",
      "   1.98506215e-03   2.02731695e-03   2.07238318e-03   2.12053210e-03\n",
      "   2.17207172e-03   2.22735084e-03   2.28676922e-03   2.35079066e-03\n",
      "   2.41994765e-03   2.49486417e-03   2.57626735e-03   2.66501866e-03\n",
      "   2.76213582e-03   2.86884140e-03   2.98661017e-03   3.11723398e-03\n",
      "   3.26292147e-03   3.42642260e-03   3.61120468e-03   3.82169592e-03\n",
      "   4.06366028e-03   4.34472878e-03   4.67522023e-03   5.06945327e-03\n",
      "   5.54787926e-03   6.14076247e-03   6.89488417e-03   7.88655039e-03\n",
      "   9.24931746e-03   1.12399999e-02   1.44236134e-02   2.03337222e-02\n",
      "   3.51046287e-02   1.38482124e-01   6.82627186e-02   2.69094110e-02\n",
      "   1.65681671e-02   1.18653337e-02   9.17610805e-03   7.43435323e-03\n",
      "   6.21361798e-03   5.30994311e-03   4.61349683e-03   4.05990006e-03\n",
      "   3.60890455e-03   3.23406071e-03   2.91727204e-03   2.64572888e-03\n",
      "   2.41011987e-03   2.20350199e-03   2.02059420e-03   1.85731647e-03\n",
      "   1.71045063e-03   1.57743436e-03   1.45619689e-03   1.34504680e-03\n",
      "   1.24258758e-03   1.14765391e-03   1.05926616e-03   9.76593234e-04\n",
      "   8.98924714e-04   8.25647556e-04   7.56232650e-04   6.90211076e-04\n",
      "   6.27178350e-04   5.66765957e-04   5.08654397e-04   4.52546636e-04\n",
      "   3.98181233e-04   3.45313776e-04   2.93719611e-04   2.43191898e-04\n",
      "   1.93534739e-04   1.44561796e-04   9.60954203e-05   4.79645823e-05\n",
      "   2.25686999e-17   4.79645823e-05   9.60954203e-05   1.44561796e-04\n",
      "   1.93534739e-04   2.43191898e-04   2.93719611e-04   3.45313776e-04\n",
      "   3.98181233e-04   4.52546636e-04   5.08654397e-04   5.66765957e-04\n",
      "   6.27178350e-04   6.90211076e-04   7.56232650e-04   8.25647556e-04\n",
      "   8.98924714e-04   9.76593234e-04   1.05926616e-03   1.14765391e-03\n",
      "   1.24258758e-03   1.34504680e-03   1.45619689e-03   1.57743436e-03\n",
      "   1.71045063e-03   1.85731647e-03   2.02059420e-03   2.20350199e-03\n",
      "   2.41011987e-03   2.64572888e-03   2.91727204e-03   3.23406071e-03\n",
      "   3.60890455e-03   4.05990006e-03   4.61349683e-03   5.30994311e-03\n",
      "   6.21361798e-03   7.43435323e-03   9.17610805e-03   1.18653337e-02\n",
      "   1.65681671e-02   2.69094110e-02   6.82627186e-02   1.38482124e-01\n",
      "   3.51046287e-02   2.03337222e-02   1.44236134e-02   1.12399999e-02\n",
      "   9.24931746e-03   7.88655039e-03   6.89488417e-03   6.14076247e-03\n",
      "   5.54787926e-03   5.06945327e-03   4.67522023e-03   4.34472878e-03\n",
      "   4.06366028e-03   3.82169592e-03   3.61120468e-03   3.42642260e-03\n",
      "   3.26292147e-03   3.11723398e-03   2.98661017e-03   2.86884140e-03\n",
      "   2.76213582e-03   2.66501866e-03   2.57626735e-03   2.49486417e-03\n",
      "   2.41994765e-03   2.35079066e-03   2.28676922e-03   2.22735084e-03\n",
      "   2.17207172e-03   2.12053210e-03   2.07238318e-03   2.02731695e-03\n",
      "   1.98506215e-03   1.94538489e-03   1.90807099e-03   1.87293277e-03\n",
      "   1.83980353e-03   1.80853216e-03   1.77898316e-03   1.75103592e-03\n",
      "   1.72457972e-03   1.69951643e-03   1.67575583e-03   1.65321585e-03\n",
      "   1.63182185e-03   1.61150552e-03   1.59220572e-03   1.57386507e-03\n",
      "   1.55643013e-03   1.53985468e-03   1.52409403e-03   1.50910765e-03\n",
      "   1.49485713e-03   1.48130930e-03   1.46843132e-03   1.45619374e-03\n",
      "   1.44457014e-03   1.43353408e-03   1.42306322e-03   1.41313591e-03\n",
      "   1.40373036e-03   1.39482960e-03   1.38641417e-03   1.37847115e-03\n",
      "   1.37098425e-03   1.36393902e-03   1.35732396e-03   1.35112600e-03\n",
      "   1.34533609e-03   1.33994152e-03   1.33493636e-03   1.33031129e-03\n",
      "   1.32605678e-03   1.32216723e-03   1.31863658e-03   1.31546019e-03\n",
      "   1.31262676e-03   1.31014048e-03   1.30799331e-03   1.30618108e-03\n",
      "   1.30470318e-03   1.30355358e-03   1.30273786e-03   1.30225008e-03\n",
      "   1.67968750e-01   1.30225008e-03   1.30273786e-03   1.30355358e-03\n",
      "   1.30470318e-03   1.30618108e-03   1.30799331e-03   1.31014048e-03\n",
      "   1.31262676e-03   1.31546019e-03   1.31863658e-03   1.32216723e-03\n",
      "   1.32605678e-03   1.33031129e-03   1.33493636e-03   1.33994152e-03\n",
      "   1.34533609e-03   1.35112600e-03   1.35732396e-03   1.36393902e-03\n",
      "   1.37098425e-03   1.37847115e-03   1.38641417e-03   1.39482960e-03\n",
      "   1.40373036e-03   1.41313591e-03   1.42306322e-03   1.43353408e-03\n",
      "   1.44457014e-03   1.45619374e-03   1.46843132e-03   1.48130930e-03\n",
      "   1.49485713e-03   1.50910765e-03   1.52409403e-03   1.53985468e-03\n",
      "   1.55643013e-03   1.57386507e-03   1.59220572e-03   1.61150552e-03\n",
      "   1.63182185e-03   1.65321585e-03   1.67575583e-03   1.69951643e-03\n",
      "   1.72457972e-03   1.75103592e-03   1.77898316e-03   1.80853216e-03\n",
      "   1.83980353e-03   1.87293277e-03   1.90807099e-03   1.94538489e-03\n",
      "   1.98506215e-03   2.02731695e-03   2.07238318e-03   2.12053210e-03\n",
      "   2.17207172e-03   2.22735084e-03   2.28676922e-03   2.35079066e-03\n",
      "   2.41994765e-03   2.49486417e-03   2.57626735e-03   2.66501866e-03\n",
      "   2.76213582e-03   2.86884140e-03   2.98661017e-03   3.11723398e-03\n",
      "   3.26292147e-03   3.42642260e-03   3.61120468e-03   3.82169592e-03\n",
      "   4.06366028e-03   4.34472878e-03   4.67522023e-03   5.06945327e-03\n",
      "   5.54787926e-03   6.14076247e-03   6.89488417e-03   7.88655039e-03\n",
      "   9.24931746e-03   1.12399999e-02   1.44236134e-02   2.03337222e-02\n",
      "   3.51046287e-02   1.38482124e-01   6.82627186e-02   2.69094110e-02\n",
      "   1.65681671e-02   1.18653337e-02   9.17610805e-03   7.43435323e-03\n",
      "   6.21361798e-03   5.30994311e-03   4.61349683e-03   4.05990006e-03\n",
      "   3.60890455e-03   3.23406071e-03   2.91727204e-03   2.64572888e-03\n",
      "   2.41011987e-03   2.20350199e-03   2.02059420e-03   1.85731647e-03\n",
      "   1.71045063e-03   1.57743436e-03   1.45619689e-03   1.34504680e-03\n",
      "   1.24258758e-03   1.14765391e-03   1.05926616e-03   9.76593234e-04\n",
      "   8.98924714e-04   8.25647556e-04   7.56232650e-04   6.90211076e-04\n",
      "   6.27178350e-04   5.66765957e-04   5.08654397e-04   4.52546636e-04\n",
      "   3.98181233e-04   3.45313776e-04   2.93719611e-04   2.43191898e-04\n",
      "   1.93534739e-04   1.44561796e-04   9.60954203e-05   4.79645823e-05\n",
      "   3.73421125e-17   4.79645823e-05   9.60954203e-05   1.44561796e-04\n",
      "   1.93534739e-04   2.43191898e-04   2.93719611e-04   3.45313776e-04\n",
      "   3.98181233e-04   4.52546636e-04   5.08654397e-04   5.66765957e-04\n",
      "   6.27178350e-04   6.90211076e-04   7.56232650e-04   8.25647556e-04\n",
      "   8.98924714e-04   9.76593234e-04   1.05926616e-03   1.14765391e-03\n",
      "   1.24258758e-03   1.34504680e-03   1.45619689e-03   1.57743436e-03\n",
      "   1.71045063e-03   1.85731647e-03   2.02059420e-03   2.20350199e-03\n",
      "   2.41011987e-03   2.64572888e-03   2.91727204e-03   3.23406071e-03\n",
      "   3.60890455e-03   4.05990006e-03   4.61349683e-03   5.30994311e-03\n",
      "   6.21361798e-03   7.43435323e-03   9.17610805e-03   1.18653337e-02\n",
      "   1.65681671e-02   2.69094110e-02   6.82627186e-02   1.38482124e-01\n",
      "   3.51046287e-02   2.03337222e-02   1.44236134e-02   1.12399999e-02\n",
      "   9.24931746e-03   7.88655039e-03   6.89488417e-03   6.14076247e-03\n",
      "   5.54787926e-03   5.06945327e-03   4.67522023e-03   4.34472878e-03\n",
      "   4.06366028e-03   3.82169592e-03   3.61120468e-03   3.42642260e-03\n",
      "   3.26292147e-03   3.11723398e-03   2.98661017e-03   2.86884140e-03\n",
      "   2.76213582e-03   2.66501866e-03   2.57626735e-03   2.49486417e-03\n",
      "   2.41994765e-03   2.35079066e-03   2.28676922e-03   2.22735084e-03\n",
      "   2.17207172e-03   2.12053210e-03   2.07238318e-03   2.02731695e-03\n",
      "   1.98506215e-03   1.94538489e-03   1.90807099e-03   1.87293277e-03\n",
      "   1.83980353e-03   1.80853216e-03   1.77898316e-03   1.75103592e-03\n",
      "   1.72457972e-03   1.69951643e-03   1.67575583e-03   1.65321585e-03\n",
      "   1.63182185e-03   1.61150552e-03   1.59220572e-03   1.57386507e-03\n",
      "   1.55643013e-03   1.53985468e-03   1.52409403e-03   1.50910765e-03\n",
      "   1.49485713e-03   1.48130930e-03   1.46843132e-03   1.45619374e-03\n",
      "   1.44457014e-03   1.43353408e-03   1.42306322e-03   1.41313591e-03\n",
      "   1.40373036e-03   1.39482960e-03   1.38641417e-03   1.37847115e-03\n",
      "   1.37098425e-03   1.36393902e-03   1.35732396e-03   1.35112600e-03\n",
      "   1.34533609e-03   1.33994152e-03   1.33493636e-03   1.33031129e-03\n",
      "   1.32605678e-03   1.32216723e-03   1.31863658e-03   1.31546019e-03\n",
      "   1.31262676e-03   1.31014048e-03   1.30799331e-03   1.30618108e-03\n",
      "   1.30470318e-03   1.30355358e-03   1.30273786e-03   1.30225008e-03]\n",
      "0.167969\n",
      "0.138482\n",
      "0.0682627\n"
     ]
    },
    {
     "data": {
      "image/png": "[encoded data removed]",
      "text/plain": [
       "<matplotlib.figure.Figure at 0x10c9e1b70>"
      ]
     },
     "metadata": {},
     "output_type": "display_data"
    }
   ],
   "source": [
    "import numpy as np\n",
    "import matplotlib.pyplot as plt\n",
    "%matplotlib inline\n",
    "\n",
    "def Hadamard(n):\n",
    "    def Hn(H=np.array([[1, 1], [1, -1]], dtype=np.complex64), n=n):\n",
    "        if n > 1:\n",
    "            return Hn(H=np.kron(np.array([[1, 1], [1, -1]], dtype=np.complex64), H), n=n-1)\n",
    "        return H\n",
    "\n",
    "    return Hn(n=n)\n",
    "\n",
    "def QFT(t):\n",
    "    Q = np.zeros(shape=(2 ** t, 2 ** t), dtype=np.complex64)\n",
    "    N = 2 ** t\n",
    "    for i in range(N):\n",
    "        for j in range(N):\n",
    "            Q[i][j] = np.exp(np.pi * 2j * ((i * j) % N) / N)\n",
    "\n",
    "    return Q\n",
    "\n",
    "N = 21\n",
    "t = 9\n",
    "H = Hadamard(t)\n",
    "\n",
    "reg1 = np.zeros(shape=(2 ** t), dtype=np.complex64)\n",
    "reg2 = np.ones(shape=(2 ** t), dtype=np.complex64)\n",
    "reg1[0] = 1\n",
    "reg1 = H.dot(reg1)\n",
    "\n",
    "for i in range(2 ** t):\n",
    "    reg2[i] = 2 ** i % N\n",
    "\n",
    "r = reg2[0]\n",
    "\n",
    "for i in range(2 ** t):\n",
    "    if reg2[i] != r:\n",
    "        reg1[i] = 0\n",
    "\n",
    "Q = QFT(9)\n",
    "reg1 = np.linalg.inv(Q).dot(reg1)\n",
    "print (abs(reg1))\n",
    "print (abs(reg1[0]))\n",
    "print (abs(reg1[85]))\n",
    "print (abs(reg1[86]))\n",
    "\n",
    "fig, ax = plt.subplots( nrows=1, ncols=1 )\n",
    "ax.plot(abs(reg1))\n",
    "fig.savefig('plot.png')\n",
    "plt.show()"
   ]
  },
  {
   "cell_type": "code",
   "execution_count": null,
   "metadata": {
    "collapsed": true
   },
   "outputs": [],
   "source": []
  }
 ],
 "metadata": {
  "kernelspec": {
   "display_name": "Python 3",
   "language": "python",
   "name": "python3"
  },
  "language_info": {
   "codemirror_mode": {
    "name": "ipython",
    "version": 3
   },
   "file_extension": ".py",
   "mimetype": "text/x-python",
   "name": "python",
   "nbconvert_exporter": "python",
   "pygments_lexer": "ipython3",
   "version": "3.6.1"
  }
 },
 "nbformat": 4,
 "nbformat_minor": 2
}
