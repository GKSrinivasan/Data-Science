{
 "cells": [
  {
   "cell_type": "code",
   "execution_count": 2,
   "metadata": {},
   "outputs": [
    {
     "data": {
      "text/plain": []
     },
     "execution_count": 2,
     "metadata": {},
     "output_type": "execute_result"
    }
   ],
   "source": [
    "#include<iostream>\n",
    "#include<new>"
   ]
  },
  {
   "cell_type": "code",
   "execution_count": 3,
   "metadata": {},
   "outputs": [
    {
     "data": {
      "text/plain": [
       "(float) 100.00000f\n"
      ]
     },
     "execution_count": 3,
     "metadata": {},
     "output_type": "execute_result"
    }
   ],
   "source": [
    "int num = 100;\n",
    "float fnum = num;"
   ]
  },
  {
   "cell_type": "code",
   "execution_count": 5,
   "metadata": {},
   "outputs": [
    {
     "data": {
      "text/plain": [
       "(int *) 0x7fdda061abc0\n"
      ]
     },
     "execution_count": 5,
     "metadata": {},
     "output_type": "execute_result"
    }
   ],
   "source": [
    "// clang style pointer\n",
    "int *p = new int[10];\n",
    "int *pnew = (int*) p;"
   ]
  },
  {
   "cell_type": "code",
   "execution_count": 6,
   "metadata": {},
   "outputs": [
    {
     "data": {
      "text/plain": [
       "(int) 78\n"
      ]
     },
     "execution_count": 6,
     "metadata": {},
     "output_type": "execute_result"
    }
   ],
   "source": [
    "int n = static_cast<int>(78.98);"
   ]
  },
  {
   "cell_type": "code",
   "execution_count": 7,
   "metadata": {},
   "outputs": [
    {
     "data": {
      "text/plain": [
       "(int *) 0x7fdda053bc00\n"
      ]
     },
     "execution_count": 7,
     "metadata": {},
     "output_type": "execute_result"
    }
   ],
   "source": [
    "int *p2 = static_cast<int*> (malloc(100));"
   ]
  },
  {
   "cell_type": "code",
   "execution_count": 8,
   "metadata": {},
   "outputs": [
    {
     "name": "stdout",
     "output_type": "stream",
     "text": [
      "0x109937050\n"
     ]
    },
    {
     "data": {
      "text/plain": [
       "(std::__1::basic_ostream &) @0x7fffb67ba660\n"
      ]
     },
     "execution_count": 8,
     "metadata": {},
     "output_type": "execute_result"
    }
   ],
   "source": [
    "//const_cast\n",
    "\n",
    "//const_cast去掉常量指针属性 %5\n",
    "int numarr[3] = { 1, 2, 3 };\n",
    "const int *p3 = numarr;\n",
    "int *pnew2 = const_cast<int *>(p3);\n",
    "\n",
    "std::cout<< &pnew2<<std::endl;"
   ]
  },
  {
   "cell_type": "code",
   "execution_count": 9,
   "metadata": {},
   "outputs": [
    {
     "name": "stdout",
     "output_type": "stream",
     "text": [
      "\u0003,3,0x105cc4e70\n",
      "\u0000,0,0x105cc4e71\n",
      "\u0000,0,0x105cc4e72\n",
      "\u0000,0,0x105cc4e73\n",
      "3(int) 1\n"
     ]
    },
    {
     "data": {
      "text/plain": [
       "(int) 1\n"
      ]
     },
     "execution_count": 9,
     "metadata": {},
     "output_type": "execute_result"
    }
   ],
   "source": [
    "#include <stdio.h>\n",
    "//reinterpret_cast %1\n",
    "int num3 = 3;\n",
    "char *p4 = reinterpret_cast<char *>(&num3);\n",
    "for (int i = 0; i < 4; i++)\n",
    "{\n",
    "    printf(\"%c,%d,%p\\n\", *(p4+i), *(p4+i), p4+i);\n",
    "}\n",
    "printf(\"%d\",num3)"
   ]
  },
  {
   "cell_type": "code",
   "execution_count": null,
   "metadata": {},
   "outputs": [],
   "source": []
  }
 ],
 "metadata": {
  "kernelspec": {
   "display_name": "C++17",
   "language": "",
   "name": "cling-cpp17"
  },
  "language_info": {
   "codemirror_mode": "c++",
   "file_extension": ".c++",
   "mimetype": "text/x-c++src",
   "name": "c++"
  }
 },
 "nbformat": 4,
 "nbformat_minor": 2
}
