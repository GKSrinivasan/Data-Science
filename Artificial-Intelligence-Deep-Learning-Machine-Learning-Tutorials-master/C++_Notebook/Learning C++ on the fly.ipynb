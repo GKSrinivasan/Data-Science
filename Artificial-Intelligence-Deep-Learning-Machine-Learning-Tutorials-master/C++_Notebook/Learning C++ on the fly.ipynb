{
 "cells": [
  {
   "cell_type": "markdown",
   "metadata": {},
   "source": [
    "## Learning C++ on the fly\n",
    "\n",
    "This will be a resource to check how we can graduate from our low level interpreter like Python to a compiler language like C++. Thanks to many folks such as [here](http://blog.coldflake.com/posts/On-the-fly-C++/) and more coming."
   ]
  },
  {
   "cell_type": "code",
   "execution_count": 5,
   "metadata": {},
   "outputs": [
    {
     "name": "stderr",
     "output_type": "stream",
     "text": [
      "input_line_7:3:3: error: use of undeclared identifier 'cout'\n",
      "  cout << \"hello world forever\" << endl;\n",
      "  ^\n",
      "input_line_7:3:36: error: use of undeclared identifier 'endl'; did you mean 'std::endl'?\n",
      "  cout << \"hello world forever\" << endl;\n",
      "                                   ^~~~\n",
      "                                   std::endl\n",
      "/Users/tarrysingh/anaconda/envs/cling/bin/../include/c++/v1/ostream:1032:1: note: 'std::endl' declared here\n",
      "endl(basic_ostream<_CharT, _Traits>& __os)\n",
      "^\n"
     ]
    },
    {
     "ename": "ename",
     "evalue": "evalue",
     "output_type": "error",
     "traceback": []
    }
   ],
   "source": [
    "while(true) {\n",
    "  cout << \"hello world forever\" << endl;\n",
    "}"
   ]
  }
 ],
 "metadata": {
  "kernelspec": {
   "display_name": "C++17",
   "language": "",
   "name": "cling-cpp17"
  },
  "language_info": {
   "codemirror_mode": "c++",
   "file_extension": ".c++",
   "mimetype": "text/x-c++src",
   "name": "c++"
  }
 },
 "nbformat": 4,
 "nbformat_minor": 2
}
