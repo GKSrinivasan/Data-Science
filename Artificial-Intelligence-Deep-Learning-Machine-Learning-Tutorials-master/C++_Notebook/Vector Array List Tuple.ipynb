{
 "cells": [
  {
   "cell_type": "code",
   "execution_count": 1,
   "metadata": {},
   "outputs": [
    {
     "data": {
      "text/plain": []
     },
     "execution_count": 1,
     "metadata": {},
     "output_type": "execute_result"
    }
   ],
   "source": [
    "#include <iostream>\n",
    "#include<vector>\n",
    "#include<array>\n",
    "#include<string>\n",
    "#include<algorithm>"
   ]
  },
  {
   "cell_type": "code",
   "execution_count": 2,
   "metadata": {},
   "outputs": [
    {
     "data": {
      "text/plain": [
       "(std::array<double, 4> &) @0x1058861d0\n"
      ]
     },
     "execution_count": 2,
     "metadata": {},
     "output_type": "execute_result"
    }
   ],
   "source": [
    "double db[4] = { 1.1, 2.2, 3.3, 4.4 };\n",
    "std::array<double, 4>  dbnew1 = { 10.1, 10.2, 10.3, 10.4 };\n",
    "std::array<double, 4>  dbnew2 = dbnew1;"
   ]
  },
  {
   "cell_type": "code",
   "execution_count": 3,
   "metadata": {},
   "outputs": [
    {
     "name": "stdout",
     "output_type": "stream",
     "text": [
      "book\n",
      "notepad\n",
      "run\n",
      "mspaint\n",
      "scibe\n",
      "\n",
      "loop finished\n"
     ]
    },
    {
     "data": {
      "text/plain": [
       "(std::__1::basic_ostream &) @0x7fffb67ba660\n"
      ]
     },
     "execution_count": 3,
     "metadata": {},
     "output_type": "execute_result"
    }
   ],
   "source": [
    "std::array<std::string, 5> string1 = { \"book\", \"notepad\", \"run\", \"mspaint\", \"scibe\" };\n",
    "\n",
    "for (int i = 0; i < 5; i++)\n",
    "{\n",
    "    std::cout << string1[i] << std::endl;\n",
    "}\n",
    "std::cout<<\"\\nloop finished\"<<std::endl;"
   ]
  },
  {
   "cell_type": "code",
   "execution_count": 4,
   "metadata": {},
   "outputs": [
    {
     "data": {
      "text/plain": []
     },
     "execution_count": 4,
     "metadata": {},
     "output_type": "execute_result"
    }
   ],
   "source": [
    "void vec_print()\n",
    "{\n",
    "    std::vector<int> myvector;\n",
    "    myvector.push_back(1);\n",
    "    myvector.push_back(11);\n",
    "    myvector.push_back(111);\n",
    "    myvector.pop_back();\n",
    "    myvector.insert(myvector.begin() +1, 999);\n",
    "    myvector.erase(myvector.begin()+5);\n",
    "    //myvector.clear();\n",
    "    for (int i = 0; i < myvector.size(); i++)\n",
    "    {\n",
    "        std::cout << myvector.at(i) << std::endl;\n",
    "    }\n",
    "    std::cout<<\"\\n\"<<std::endl;\n",
    "}"
   ]
  },
  {
   "cell_type": "code",
   "execution_count": 1,
   "metadata": {},
   "outputs": [
    {
     "name": "stderr",
     "output_type": "stream",
     "text": [
      "input_line_3:2:2: error: use of undeclared identifier 'vec_print'\n",
      " vec_print();\n",
      " ^\n"
     ]
    },
    {
     "ename": "ename",
     "evalue": "evalue",
     "output_type": "error",
     "traceback": []
    }
   ],
   "source": [
    "vec_print();"
   ]
  },
  {
   "cell_type": "code",
   "execution_count": null,
   "metadata": {},
   "outputs": [],
   "source": []
  }
 ],
 "metadata": {
  "kernelspec": {
   "display_name": "C++14",
   "language": "",
   "name": "cling-cpp14"
  },
  "language_info": {
   "codemirror_mode": "c++",
   "file_extension": ".c++",
   "mimetype": "text/x-c++src",
   "name": "c++"
  }
 },
 "nbformat": 4,
 "nbformat_minor": 2
}
