{
 "cells": [
  {
   "cell_type": "code",
   "execution_count": 1,
   "metadata": {},
   "outputs": [
    {
     "name": "stdout",
     "output_type": "stream",
     "text": [
      "Weclome to my cpp notes\n"
     ]
    },
    {
     "data": {
      "text/plain": [
       "(std::__1::basic_ostream &) @0x7fffb67ba660\n"
      ]
     },
     "execution_count": 1,
     "metadata": {},
     "output_type": "execute_result"
    }
   ],
   "source": [
    "#include<iostream>\n",
    "#include<stdlib.h>\n",
    "using namespace std;\n",
    "cout <<\"Weclome to my cpp notes\"<<endl;"
   ]
  },
  {
   "cell_type": "code",
   "execution_count": 2,
   "metadata": {},
   "outputs": [
    {
     "data": {
      "text/plain": [
       "(int [20]) { 0, 0, 0, 0, 0, 0, 0, 0, 0, 0, 0, 0, 0, 0, 0, 0, 0, 0, 0, 0 }\n"
      ]
     },
     "execution_count": 2,
     "metadata": {},
     "output_type": "execute_result"
    }
   ],
   "source": [
    "int a[20];"
   ]
  },
  {
   "cell_type": "code",
   "execution_count": 6,
   "metadata": {},
   "outputs": [
    {
     "data": {
      "text/plain": [
       "(int [20]) { 0, 0, 0, 0, 0, 0, 0, 0, 0, 0, 0, 0, 0, 0, 0, 0, 0, 0, 0, 0 }\n"
      ]
     },
     "execution_count": 6,
     "metadata": {},
     "output_type": "execute_result"
    }
   ],
   "source": [
    "int (&ra)[20] = a;"
   ]
  },
  {
   "cell_type": "code",
   "execution_count": 7,
   "metadata": {},
   "outputs": [
    {
     "name": "stdout",
     "output_type": "stream",
     "text": [
      "0x10517b330\n",
      "0x10517b330\n"
     ]
    },
    {
     "data": {
      "text/plain": [
       "(std::__1::basic_ostream &) @0x7fffb67ba660\n"
      ]
     },
     "execution_count": 7,
     "metadata": {},
     "output_type": "execute_result"
    }
   ],
   "source": [
    "std::cout<<&a<<std::endl;\n",
    "std::cout<<&ra<<std::endl;"
   ]
  },
  {
   "cell_type": "code",
   "execution_count": 10,
   "metadata": {},
   "outputs": [
    {
     "name": "stderr",
     "output_type": "stream",
     "text": [
      "input_line_18:6:35: error: subscripted value is not an array, pointer, or vector\n",
      "         std::cout << \" \" << ra[i][j];\n",
      "                             ~~~~~^~\n"
     ]
    },
    {
     "ename": "ename",
     "evalue": "evalue",
     "output_type": "error",
     "traceback": []
    }
   ],
   "source": [
    "for (int i = 0; i < 2; i++)\n",
    "{\n",
    "    for (int j = 0; j < 3; j++)\n",
    "    {\n",
    "         std::cout << \" \" << ra[i][j];\n",
    "    }\n",
    "     std::cout << \"\\n\";\n",
    "}"
   ]
  },
  {
   "cell_type": "code",
   "execution_count": 11,
   "metadata": {},
   "outputs": [
    {
     "data": {
      "text/plain": []
     },
     "execution_count": 11,
     "metadata": {},
     "output_type": "execute_result"
    }
   ],
   "source": [
    "int jia(int a, int b)\n",
    "{\n",
    "    return a + b;\n",
    "}"
   ]
  },
  {
   "cell_type": "code",
   "execution_count": 12,
   "metadata": {},
   "outputs": [
    {
     "data": {
      "text/plain": [
       "(int) 3\n"
      ]
     },
     "execution_count": 12,
     "metadata": {},
     "output_type": "execute_result"
    }
   ],
   "source": [
    "jia(1, 2);"
   ]
  },
  {
   "cell_type": "markdown",
   "metadata": {},
   "source": [
    "### Polymorphism "
   ]
  },
  {
   "cell_type": "code",
   "execution_count": 18,
   "metadata": {},
   "outputs": [
    {
     "data": {
      "text/plain": []
     },
     "execution_count": 18,
     "metadata": {},
     "output_type": "execute_result"
    }
   ],
   "source": [
    "#include <typeinfo>\n",
    "\n",
    "template <class T>\n",
    "class FooT\n",
    "{\n",
    "public:\n",
    "    \n",
    "    explicit FooT(const T& t) : m_t(t) {}\n",
    "    \n",
    "    void print() const\n",
    "    {\n",
    "        std::cout << typeid(T).name() << \" m_t = \" << m_t << std::endl;\n",
    "    }\n",
    "    \n",
    "private:\n",
    "    \n",
    "    T m_t;\n",
    "};\n",
    "\n",
    "template <>\n",
    "class FooT<int>\n",
    "{\n",
    "public:\n",
    "    \n",
    "    explicit FooT(const int& t) : m_t(t) {}\n",
    "    \n",
    "    void print() const\n",
    "    {\n",
    "        std::cout << \"m_t = \" << m_t << std::endl;\n",
    "    }\n",
    "    \n",
    "private:\n",
    "    \n",
    "    int m_t;\n",
    "};"
   ]
  },
  {
   "cell_type": "code",
   "execution_count": 19,
   "metadata": {},
   "outputs": [
    {
     "name": "stdout",
     "output_type": "stream",
     "text": [
      "d m_t = 1.2\n"
     ]
    },
    {
     "data": {
      "text/plain": [
       "(void) @0x700008e57d60\n"
      ]
     },
     "execution_count": 19,
     "metadata": {},
     "output_type": "execute_result"
    }
   ],
   "source": [
    "FooT<double> foot1(1.2);\n",
    "foot1.print();"
   ]
  },
  {
   "cell_type": "code",
   "execution_count": 20,
   "metadata": {},
   "outputs": [
    {
     "name": "stdout",
     "output_type": "stream",
     "text": [
      "m_t = 4\n"
     ]
    },
    {
     "data": {
      "text/plain": [
       "(void) @0x700008e57d60\n"
      ]
     },
     "execution_count": 20,
     "metadata": {},
     "output_type": "execute_result"
    }
   ],
   "source": [
    "FooT<int> foot2(4);\n",
    "foot2.print();"
   ]
  }
 ],
 "metadata": {
  "kernelspec": {
   "display_name": "C++17",
   "language": "",
   "name": "cling-cpp17"
  },
  "language_info": {
   "codemirror_mode": "c++",
   "file_extension": ".c++",
   "mimetype": "text/x-c++src",
   "name": "c++"
  }
 },
 "nbformat": 4,
 "nbformat_minor": 2
}
