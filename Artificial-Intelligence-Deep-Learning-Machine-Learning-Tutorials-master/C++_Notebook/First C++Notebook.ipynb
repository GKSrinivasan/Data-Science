{
 "cells": [
  {
   "cell_type": "markdown",
   "metadata": {},
   "source": [
    "## Getting Jupyter Cling C++ Working on your MacBook\n",
    "\n",
    "```shell\n",
    "\n",
    "MacBook-Pro-2:handson-ml tarrysingh$ conda create -n cling\n",
    "Fetching package metadata ...............\n",
    "Solving package specifications: \n",
    "Package plan for installation in environment /Users/tarrysingh/anaconda/envs/cling:\n",
    "\n",
    "Proceed ([y]/n)? \n",
    "\n",
    "#\n",
    "# To activate this environment, use:\n",
    "# > source activate cling\n",
    "#\n",
    "# To deactivate an active environment, use:\n",
    "# > source deactivate\n",
    "#\n",
    "\n",
    "MacBook-Pro-2:tarrysingh$ source activate cling\n",
    "(cling) MacBook-Pro-2:handson-ml tarrysingh$ conda install cling -c QuantStack -c conda-forge\n",
    "Fetching package metadata .................\n",
    "Solving package specifications: .\n",
    "\n",
    "Package plan for installation in environment /Users/tarrysingh/anaconda/envs/cling:\n",
    "\n",
    "The following NEW packages will be INSTALLED:\n",
    "\n",
    "    clangdev:      3.9.1-cling_4 conda-forge [cling]\n",
    "    cling:         0.3.post-1    conda-forge [cling]\n",
    "    cling-patches: 1-0           conda-forge\n",
    "    icu:           58.2-0        conda-forge\n",
    "    libcxx:        3.9.1-0       conda-forge\n",
    "    libiconv:      1.15-0        conda-forge\n",
    "    libxml2:       2.9.5-2       conda-forge\n",
    "    llvmdev:       3.9.1-cling_4 conda-forge [cling]\n",
    "    xz:            5.2.3-0       conda-forge\n",
    "    zlib:          1.2.11-0      conda-forge\n",
    "\n",
    "Proceed ([y]/n)? y\n",
    "\n",
    "cling-patches- 100% |######################################################################| Time: 0:00:00   1.75 MB/s\n",
    "icu-58.2-0.tar 100% |######################################################################| Time: 0:00:06   3.88 MB/s\n",
    "libiconv-1.15- 100% |######################################################################| Time: 0:00:00   5.60 MB/s\n",
    "xz-5.2.3-0.tar 100% |######################################################################| Time: 0:00:00   2.65 MB/s\n",
    "zlib-1.2.11-0. 100% |######################################################################| Time: 0:00:00  35.34 MB/s\n",
    "libxml2-2.9.5- 100% |######################################################################| Time: 0:00:00   3.22 MB/s\n",
    "llvmdev-3.9.1- 100% |######################################################################| Time: 0:00:10   7.72 MB/s\n",
    "clangdev-3.9.1 100% |######################################################################| Time: 0:00:06   8.13 MB/s\n",
    "libcxx-3.9.1-0 100% |######################################################################| Time: 0:00:00   5.16 MB/s\n",
    "cling-0.3.post 100% |######################################################################| Time: 0:00:05   7.11 MB/s\n",
    "(cling) MacBook-Pro-2:tarrysingh$ conda install xeus-cling -c QuantStack -c conda-forge\n",
    "Fetching package metadata .................\n",
    "\n",
    "PackageNotFoundError: Packages missing in current channels:\n",
    "            \n",
    "  - xeus-cling\n",
    "\n",
    "We have searched for the packages in the following channels:\n",
    "            \n",
    "  - https://conda.anaconda.org/QuantStack/osx-64\n",
    "  - https://conda.anaconda.org/QuantStack/noarch\n",
    "  - https://conda.anaconda.org/conda-forge/osx-64\n",
    "  - https://conda.anaconda.org/conda-forge/noarch\n",
    "  - https://repo.continuum.io/pkgs/main/osx-64\n",
    "  - https://repo.continuum.io/pkgs/main/noarch\n",
    "  - https://repo.continuum.io/pkgs/free/osx-64\n",
    "  - https://repo.continuum.io/pkgs/free/noarch\n",
    "  - https://repo.continuum.io/pkgs/r/osx-64\n",
    "  - https://repo.continuum.io/pkgs/r/noarch\n",
    "  - https://repo.continuum.io/pkgs/pro/osx-64\n",
    "  - https://repo.continuum.io/pkgs/pro/noarch\n",
    "  - https://conda.anaconda.org/anaconda-fusion/osx-64\n",
    "  - https://conda.anaconda.org/anaconda-fusion/noarch\n",
    "            \n",
    "\n",
    "(cling) MacBook-Pro-2:handson-ml tarrysingh$ cd\n",
    "(cling) MacBook-Pro-2:~ tarrysingh$ conda install xeus-cling -c QuantStack -c conda-forge\n",
    "Fetching package metadata .................\n",
    "\n",
    "PackageNotFoundError: Packages missing in current channels:\n",
    "            \n",
    "  - xeus-cling\n",
    "\n",
    "We have searched for the packages in the following channels:\n",
    "            \n",
    "  - https://conda.anaconda.org/QuantStack/osx-64\n",
    "  - https://conda.anaconda.org/QuantStack/noarch\n",
    "  - https://conda.anaconda.org/conda-forge/osx-64\n",
    "  - https://conda.anaconda.org/conda-forge/noarch\n",
    "  - https://repo.continuum.io/pkgs/main/osx-64\n",
    "  - https://repo.continuum.io/pkgs/main/noarch\n",
    "  - https://repo.continuum.io/pkgs/free/osx-64\n",
    "  - https://repo.continuum.io/pkgs/free/noarch\n",
    "  - https://repo.continuum.io/pkgs/r/osx-64\n",
    "  - https://repo.continuum.io/pkgs/r/noarch\n",
    "  - https://repo.continuum.io/pkgs/pro/osx-64\n",
    "  - https://repo.continuum.io/pkgs/pro/noarch\n",
    "  - https://conda.anaconda.org/anaconda-fusion/osx-64\n",
    "  - https://conda.anaconda.org/anaconda-fusion/noarch\n",
    "            \n",
    "\n",
    "(cling) MacBook-Pro-2:~ tarrysingh$ conda install xeus -c conda-forge\n",
    "Fetching package metadata ...............\n",
    "Solving package specifications: .\n",
    "\n",
    "Package plan for installation in environment /Users/tarrysingh/anaconda/envs/cling:\n",
    "\n",
    "The following NEW packages will be INSTALLED:\n",
    "\n",
    "    cryptopp:  5.6.5-3  conda-forge\n",
    "    libsodium: 1.0.15-1 conda-forge\n",
    "    xeus:      0.3.0-0  conda-forge\n",
    "    zeromq:    4.2.1-1  conda-forge\n",
    "\n",
    "Proceed ([y]/n)? y\n",
    "\n",
    "cryptopp-5.6.5 100% |######################################################################| Time: 0:00:01 912.07 kB/s\n",
    "libsodium-1.0. 100% |######################################################################| Time: 0:00:00   1.41 MB/s\n",
    "xeus-0.3.0-0.t 100% |######################################################################| Time: 0:00:01 611.78 kB/s\n",
    "(cling) MacBook-Pro-2:~ tarrysingh$ conda install notebook -c conda-forge\n",
    "Fetching package metadata ...............\n",
    "Solving package specifications: .\n",
    "\n",
    "Package plan for installation in environment /Users/tarrysingh/anaconda/envs/cling:\n",
    "\n",
    "The following NEW packages will be INSTALLED:\n",
    "\n",
    "    appnope:          0.1.0-py36_0       conda-forge\n",
    "    bleach:           2.0.0-py36_0       conda-forge\n",
    "    ca-certificates:  2017.11.5-0        conda-forge\n",
    "    certifi:          2017.11.5-py36_0   conda-forge\n",
    "    decorator:        4.1.2-py36_0       conda-forge\n",
    "    entrypoints:      0.2.3-py36_1       conda-forge\n",
    "    html5lib:         0.999999999-py36_0 conda-forge\n",
    "    ipykernel:        4.6.1-py36_0       conda-forge\n",
    "    ipython:          6.2.1-py36_0       conda-forge\n",
    "    ipython_genutils: 0.2.0-py36_0       conda-forge\n",
    "    jedi:             0.10.2-py36_0      conda-forge\n",
    "    jinja2:           2.10-py36_0        conda-forge\n",
    "    jsonschema:       2.6.0-py36_0       conda-forge\n",
    "    jupyter_client:   5.1.0-py36_0       conda-forge\n",
    "    jupyter_core:     4.4.0-py_0         conda-forge\n",
    "    markupsafe:       1.0-py36_0         conda-forge\n",
    "    mistune:          0.8-py36_0         conda-forge\n",
    "    nbconvert:        5.3.1-py_1         conda-forge\n",
    "    nbformat:         4.4.0-py36_0       conda-forge\n",
    "    ncurses:          5.9-10             conda-forge\n",
    "    notebook:         5.2.2-py36_0       conda-forge\n",
    "    openssl:          1.0.2m-0           conda-forge\n",
    "    pandoc:           2.0.3-0            conda-forge\n",
    "    pandocfilters:    1.4.1-py36_0       conda-forge\n",
    "    pexpect:          4.3.0-py36_0       conda-forge\n",
    "    pickleshare:      0.7.4-py36_0       conda-forge\n",
    "    pip:              9.0.1-py36_0       conda-forge\n",
    "    prompt_toolkit:   1.0.15-py36_0      conda-forge\n",
    "    ptyprocess:       0.5.2-py36_0       conda-forge\n",
    "    pygments:         2.2.0-py36_0       conda-forge\n",
    "    python:           3.6.3-1            conda-forge\n",
    "    python-dateutil:  2.6.1-py36_0       conda-forge\n",
    "    pyzmq:            16.0.2-py36_2      conda-forge\n",
    "    readline:         6.2-0              conda-forge\n",
    "    setuptools:       37.0.0-py36_0      conda-forge\n",
    "    simplegeneric:    0.8.1-py36_0       conda-forge\n",
    "    six:              1.11.0-py36_1      conda-forge\n",
    "    sqlite:           3.13.0-1           conda-forge\n",
    "    terminado:        0.8.1-py36_0       conda-forge\n",
    "    testpath:         0.3.1-py36_0       conda-forge\n",
    "    tk:               8.5.19-2           conda-forge\n",
    "    tornado:          4.5.2-py36_0       conda-forge\n",
    "    traitlets:        4.3.2-py36_0       conda-forge\n",
    "    wcwidth:          0.1.7-py36_0       conda-forge\n",
    "    webencodings:     0.5-py36_0         conda-forge\n",
    "    wheel:            0.30.0-py_1        conda-forge\n",
    "\n",
    "Proceed ([y]/n)? y\n",
    "\n",
    "ca-certificate 100% |######################################################################| Time: 0:00:00 216.83 kB/s\n",
    "pandoc-2.0.3-0 100% |######################################################################| Time: 0:00:05   4.35 MB/s\n",
    "tk-8.5.19-2.ta 100% |######################################################################| Time: 0:00:00   4.62 MB/s\n",
    "openssl-1.0.2m 100% |######################################################################| Time: 0:00:01   2.29 MB/s\n",
    "python-3.6.3-1 100% |######################################################################| Time: 0:00:02   4.54 MB/s\n",
    "appnope-0.1.0- 100% |######################################################################| Time: 0:00:00   9.05 MB/s\n",
    "certifi-2017.1 100% |######################################################################| Time: 0:00:00  27.93 MB/s\n",
    "decorator-4.1. 100% |######################################################################| Time: 0:00:00  11.75 MB/s\n",
    "entrypoints-0. 100% |######################################################################| Time: 0:00:00   9.15 MB/s\n",
    "ipython_genuti 100% |######################################################################| Time: 0:00:00  24.21 MB/s\n",
    "jedi-0.10.2-py 100% |######################################################################| Time: 0:00:00   2.22 MB/s\n",
    "jsonschema-2.6 100% |######################################################################| Time: 0:00:00  25.72 MB/s\n",
    "markupsafe-1.0 100% |######################################################################| Time: 0:00:00  12.69 MB/s\n",
    "mistune-0.8-py 100% |######################################################################| Time: 0:00:00  22.36 MB/s\n",
    "pandocfilters- 100% |######################################################################| Time: 0:00:00  15.33 MB/s\n",
    "pickleshare-0. 100% |######################################################################| Time: 0:00:00   8.06 MB/s\n",
    "ptyprocess-0.5 100% |######################################################################| Time: 0:00:00  13.39 MB/s\n",
    "pyzmq-16.0.2-p 100% |######################################################################| Time: 0:00:00 716.11 kB/s\n",
    "simplegeneric- 100% |######################################################################| Time: 0:00:00   7.25 MB/s\n",
    "six-1.11.0-py3 100% |######################################################################| Time: 0:00:00  14.16 MB/s\n",
    "testpath-0.3.1 100% |######################################################################| Time: 0:00:00  30.57 MB/s\n",
    "tornado-4.5.2- 100% |######################################################################| Time: 0:00:00   2.59 MB/s\n",
    "wcwidth-0.1.7- 100% |######################################################################| Time: 0:00:00  13.85 MB/s\n",
    "webencodings-0 100% |######################################################################| Time: 0:00:00  17.59 MB/s\n",
    "html5lib-0.999 100% |######################################################################| Time: 0:00:00  28.45 MB/s\n",
    "pexpect-4.3.0- 100% |######################################################################| Time: 0:00:00 178.31 kB/s\n",
    "python-dateuti 100% |######################################################################| Time: 0:00:00 430.94 kB/s\n",
    "setuptools-37. 100% |######################################################################| Time: 0:00:00   1.15 MB/s\n",
    "terminado-0.8. 100% |######################################################################| Time: 0:00:00  12.25 MB/s\n",
    "traitlets-4.3. 100% |######################################################################| Time: 0:00:00  24.93 MB/s\n",
    "bleach-2.0.0-p 100% |######################################################################| Time: 0:00:00  21.49 MB/s\n",
    "jinja2-2.10-py 100% |######################################################################| Time: 0:00:00   1.64 MB/s\n",
    "jupyter_core-4 100% |######################################################################| Time: 0:00:00  31.60 MB/s\n",
    "pygments-2.2.0 100% |######################################################################| Time: 0:00:01   1.22 MB/s\n",
    "wheel-0.30.0-p 100% |######################################################################| Time: 0:00:00  26.48 MB/s\n",
    "jupyter_client 100% |######################################################################| Time: 0:00:00   1.03 MB/s\n",
    "nbformat-4.4.0 100% |######################################################################| Time: 0:00:00   1.21 MB/s\n",
    "pip-9.0.1-py36 100% |######################################################################| Time: 0:00:01   1.22 MB/s\n",
    "prompt_toolkit 100% |######################################################################| Time: 0:00:00   2.88 MB/s\n",
    "ipython-6.2.1- 100% |######################################################################| Time: 0:00:00   1.57 MB/s\n",
    "nbconvert-5.3. 100% |######################################################################| Time: 0:00:00   2.74 MB/s\n",
    "ipykernel-4.6. 100% |######################################################################| Time: 0:00:00   1.21 MB/s\n",
    "notebook-5.2.2 100% |######################################################################| Time: 0:00:01   3.66 MB/s\n",
    "(cling) MacBook-Pro-2:~ tarrysingh$ jypyter notebook\n",
    "\n",
    "```\n",
    "\n",
    "**Error**: I ran into this error, when I tried to create a C++11 or C++17 notebook\n",
    "\n",
    "```shell\n",
    "\n",
    "Traceback (most recent call last):\n",
    "  File \"/Users/tarrysingh/anaconda/envs/cling/bin/jupyter-cling-kernel\", line 3, in <module>\n",
    "    from clingkernel import main\n",
    "ModuleNotFoundError: No module named 'clingkernel'\n",
    "```\n",
    "So, I did the following (**all within my newly created cling env!!**:\n",
    "\n",
    "- Got the latest ditrobution from [here](https://root.cern.ch/download/cling/)\n",
    "- Unzipped and copied it to my root folder\n",
    "- exported the path : `export PATH=/home/me/cling/bin:$PATH`\n",
    "- Installed kernel : ```shell\n",
    "cd /home/me/cling/share/cling/Jupyter/kernel\n",
    "pip install -e .\n",
    "```\n",
    "- Register kernelspec for C++ (I did all):\n",
    "```shell\n",
    "    $ jupyter-kernelspec install [--user] cling-cpp17\n",
    "    $ jupyter-kernelspec install [--user] cling-cpp14\n",
    "    $ jupyter-kernelspec install [--user] cling-cpp11\n",
    "```\n",
    "\n",
    "- Fire Jupyter notebook & voila!\n",
    "It all works now!\n",
    "\n",
    "```shell\n",
    "(cling) MacBook-Pro-2:~ tarrysingh$ cd cling/share/cling/Jupyter/kernel/\n",
    "(cling) MacBook-Pro-2:kernel tarrysingh$ pip install -e .\n",
    "Obtaining file:///Users/tarrysingh/cling/share/cling/Jupyter/kernel\n",
    "Requirement already satisfied: ipykernel in /Users/tarrysingh/anaconda/envs/cling/lib/python3.6/site-packages (from clingkernel==0.0.2)\n",
    ".\n",
    ".\n",
    ".\n",
    "Installing collected packages: clingkernel\n",
    "  Running setup.py develop for clingkernel\n",
    "Successfully installed clingkernel\n",
    "\n",
    "```\n"
   ]
  },
  {
   "cell_type": "code",
   "execution_count": 1,
   "metadata": {},
   "outputs": [
    {
     "name": "stdout",
     "output_type": "stream",
     "text": [
      "hell0,Interactive C++\n"
     ]
    },
    {
     "data": {
      "text/plain": [
       "(std::__1::basic_ostream &) @0x7fffb67ba660\n"
      ]
     },
     "execution_count": 1,
     "metadata": {},
     "output_type": "execute_result"
    }
   ],
   "source": [
    "#include <iostream>\n",
    "using namespace std;\n",
    "\n",
    "cout<<\"hell0,Interactive C++\"<<endl;"
   ]
  },
  {
   "cell_type": "code",
   "execution_count": 2,
   "metadata": {},
   "outputs": [
    {
     "data": {
      "text/plain": []
     },
     "execution_count": 2,
     "metadata": {},
     "output_type": "execute_result"
    }
   ],
   "source": [
    "void test() \n",
    "{\n",
    "    std::cout <<\"just a test\"<<endl;\n",
    "}"
   ]
  },
  {
   "cell_type": "code",
   "execution_count": 3,
   "metadata": {},
   "outputs": [
    {
     "name": "stdout",
     "output_type": "stream",
     "text": [
      "just a test\n"
     ]
    },
    {
     "data": {
      "text/plain": [
       "(void) @0x700002654d60\n"
      ]
     },
     "execution_count": 3,
     "metadata": {},
     "output_type": "execute_result"
    }
   ],
   "source": [
    "test()"
   ]
  },
  {
   "cell_type": "code",
   "execution_count": 4,
   "metadata": {},
   "outputs": [
    {
     "name": "stderr",
     "output_type": "stream",
     "text": [
      "input_line_10:7:1: error: function definition is not allowed here\n",
      "{\n",
      "^\n"
     ]
    },
    {
     "ename": "ename",
     "evalue": "evalue",
     "output_type": "error",
     "traceback": []
    }
   ],
   "source": [
    "void test2() \n",
    "{\n",
    "    std::cout <<\"just a test2\"<<endl;\n",
    "}\n",
    "void test3() \n",
    "{\n",
    "    std::cout <<\"just a test3\"<<endl;\n",
    "}"
   ]
  },
  {
   "cell_type": "markdown",
   "metadata": {},
   "source": [
    "### Multiclass definiton can be in the same cell "
   ]
  },
  {
   "cell_type": "code",
   "execution_count": 9,
   "metadata": {},
   "outputs": [
    {
     "name": "stderr",
     "output_type": "stream",
     "text": [
      "input_line_15:5:7: error: redefinition of 'B1'\n",
      "class B1\n",
      "      ^\n",
      "input_line_11:5:7: note: previous definition is here\n",
      "class B1\n",
      "      ^\n"
     ]
    },
    {
     "ename": "ename",
     "evalue": "evalue",
     "output_type": "error",
     "traceback": []
    }
   ],
   "source": [
    "#include <iostream>\n",
    "using namespace std;\n",
    "\n",
    "class B1\n",
    "{\n",
    "public:\n",
    "    B1(int i)\n",
    "    {\n",
    "        cout << \"B1 \" << i << endl;\n",
    "    }\n",
    "};\n",
    "\n",
    "class B2\n",
    "{\n",
    "public:\n",
    "    B2(int i)\n",
    "    {\n",
    "        cout << \"B2 \" << i << endl;\n",
    "    }\n",
    "};\n",
    "\n",
    "class B3\n",
    "{\n",
    "public:\n",
    "    B3()\n",
    "    {\n",
    "        cout << \"B3 \" << endl;\n",
    "    }\n",
    "};\n",
    "\n",
    "class Derived : public B2,  public B1, virtual public B3\n",
    "{\n",
    "public:\n",
    "    Derived(int a, int b, int c, int d, int e): B1(a), b2(d), b1(c), B2(b)\n",
    "    {\n",
    "        m = e;\n",
    "        cout << \"Derived\"<<endl;\n",
    "    }\n",
    "protected:\n",
    "    B1 b1;\n",
    "    B2 b2;\n",
    "    B3 b3;\n",
    "    int m;\n",
    "};"
   ]
  },
  {
   "cell_type": "code",
   "execution_count": 10,
   "metadata": {},
   "outputs": [
    {
     "name": "stderr",
     "output_type": "stream",
     "text": [
      "input_line_16:2:10: error: redefinition of 'test' as different kind of symbol\n",
      " Derived test(1, 2, 3, 4, 5);\n",
      "         ^\n",
      "input_line_7:1:6: note: previous definition is here\n",
      "void test() \n",
      "     ^\n"
     ]
    },
    {
     "ename": "ename",
     "evalue": "evalue",
     "output_type": "error",
     "traceback": []
    }
   ],
   "source": [
    "Derived test(1, 2, 3, 4, 5);"
   ]
  },
  {
   "cell_type": "markdown",
   "metadata": {},
   "source": [
    "### Some basic calculations "
   ]
  },
  {
   "cell_type": "code",
   "execution_count": 8,
   "metadata": {},
   "outputs": [
    {
     "data": {
      "text/plain": [
       "(int) 200\n"
      ]
     },
     "execution_count": 8,
     "metadata": {},
     "output_type": "execute_result"
    }
   ],
   "source": [
    "int a = 200;"
   ]
  },
  {
   "cell_type": "code",
   "execution_count": 9,
   "metadata": {},
   "outputs": [
    {
     "data": {
      "text/plain": [
       "(double) 12.000000\n"
      ]
     },
     "execution_count": 9,
     "metadata": {},
     "output_type": "execute_result"
    }
   ],
   "source": [
    "double b = 12.0;"
   ]
  },
  {
   "cell_type": "code",
   "execution_count": 10,
   "metadata": {},
   "outputs": [
    {
     "data": {
      "text/plain": [
       "(double) 212.000000\n"
      ]
     },
     "execution_count": 10,
     "metadata": {},
     "output_type": "execute_result"
    }
   ],
   "source": [
    "a + b;"
   ]
  }
 ],
 "metadata": {
  "kernelspec": {
   "display_name": "C++17",
   "language": "",
   "name": "cling-cpp17"
  },
  "language_info": {
   "codemirror_mode": "c++",
   "file_extension": ".c++",
   "mimetype": "text/x-c++src",
   "name": "c++"
  }
 },
 "nbformat": 4,
 "nbformat_minor": 2
}
