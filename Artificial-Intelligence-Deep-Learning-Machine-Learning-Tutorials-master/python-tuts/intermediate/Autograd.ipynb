{
 "cells": [
  {
   "cell_type": "markdown",
   "metadata": {},
   "source": [
    "# Autograd\n",
    "Autograd can automatically differentiate native Python and Numpy code. It can handle a large subset of Python's features, including loops, ifs, recursion and closures, and it can even take derivatives of derivatives of derivatives. It uses reverse-mode differentiation (a.k.a. backpropagation), which means it can efficiently take gradients of scalar-valued functions with respect to array-valued arguments. There's also a forward-mode extension, which lets you arbitrarily mix forward- and reverse-mode accumulation. The main intended application of autograd is gradient-based optimization."
   ]
  },
  {
   "cell_type": "code",
   "execution_count": 24,
   "metadata": {},
   "outputs": [],
   "source": [
    "# Use pip install autograd OR conda install autograd (if you have Anaconda)\n",
    "import autograd.numpy as np\n",
    "from autograd import grad\n",
    "import matplotlib.pyplot as plt\n",
    "%matplotlib inline"
   ]
  },
  {
   "cell_type": "code",
   "execution_count": 25,
   "metadata": {
    "collapsed": true
   },
   "outputs": [],
   "source": [
    "# Define a simple tan function\n",
    "def tanh(x):\n",
    "    y = np.exp(-x)\n",
    "    return (1.0 - y) / (1.0 + y)\n",
    "grad_tanh = grad(tanh) # get its gradient function"
   ]
  },
  {
   "cell_type": "code",
   "execution_count": 26,
   "metadata": {},
   "outputs": [
    {
     "data": {
      "text/plain": [
       "0.39322386648296376"
      ]
     },
     "execution_count": 26,
     "metadata": {},
     "output_type": "execute_result"
    }
   ],
   "source": [
    "#Calculate gradient when x = 1.0\n",
    "grad_tanh(1.0)"
   ]
  },
  {
   "cell_type": "code",
   "execution_count": 27,
   "metadata": {},
   "outputs": [
    {
     "data": {
      "text/plain": [
       "0.39322386636453377"
      ]
     },
     "execution_count": 27,
     "metadata": {},
     "output_type": "execute_result"
    }
   ],
   "source": [
    "# Compare to finite differences\n",
    "(tanh(1.0001) - tanh(0.9999)) / 0.0002"
   ]
  },
  {
   "cell_type": "markdown",
   "metadata": {},
   "source": [
    "#### Differentiate as many time as you like\n",
    "We can continue to differentiate as many times as we like, and use numpy's broadcasting of scalar-valued functions across many different input values:"
   ]
  },
  {
   "cell_type": "code",
   "execution_count": null,
   "metadata": {},
   "outputs": [],
   "source": [
    "x = np.linspace(-7, 7, 200)\n",
    "plt.plot(x, tanh(x),\n",
    "         x, grad(tanh)(x),                                 # first derivative\n",
    "         x, grad(grad(tanh))(x),                           # second derivative\n",
    "         x, grad(grad(grad(tanh)))(x),                     # third derivative\n",
    "         x, grad(grad(grad(grad(tanh))))(x),               # fourth derivative\n",
    "         x, grad(grad(grad(grad(grad(tanh)))))(x),         # fifth derivative\n",
    "         x, grad(grad(grad(grad(grad(grad(tanh))))))(x))   # sixth derivative\n",
    "\n",
    "plt.axis('off')\n",
    "plt.savefig(\"tanh.png\")\n",
    "plt.show()"
   ]
  },
  {
   "cell_type": "markdown",
   "metadata": {},
   "source": [
    "## Another simpler example"
   ]
  },
  {
   "cell_type": "code",
   "execution_count": 37,
   "metadata": {},
   "outputs": [
    {
     "name": "stdout",
     "output_type": "stream",
     "text": [
      "Gradient of sin(pi) is:  -0.9998995297042174\n"
     ]
    }
   ],
   "source": [
    "def taylor_sine(x):  # Taylor approximation to sine function\n",
    "    ans = currterm = x\n",
    "    i = 0\n",
    "    while np.abs(currterm) > 0.001:\n",
    "        currterm = -currterm * x**2 / ((2 * i + 3) * (2 * i + 2))\n",
    "        ans = ans + currterm\n",
    "        i += 1\n",
    "    return ans\n",
    "\n",
    "grad_sine = grad(taylor_sine)\n",
    "print(\"Gradient of sin(pi) is: \", grad_sine(np.pi))"
   ]
  },
  {
   "cell_type": "markdown",
   "metadata": {},
   "source": [
    "## Complete Example: Logistic Regression\n",
    "A common use case for automatic differentiation is to train a probabilistic model. Here we present a very simple (but complete) example of specifying and training a logistic regression model for binary classification:"
   ]
  },
  {
   "cell_type": "code",
   "execution_count": 39,
   "metadata": {},
   "outputs": [
    {
     "name": "stdout",
     "output_type": "stream",
     "text": [
      "Initial loss: 2.77258872224\n",
      "Trained loss: 0.389007543156\n"
     ]
    }
   ],
   "source": [
    "def sigmoid(x):\n",
    "    return 0.5*(np.tanh(x) + 1)\n",
    "\n",
    "def logistic_predictions(weights, inputs):\n",
    "    # Outputs probability of a label being true according to logistic model.\n",
    "    return sigmoid(np.dot(inputs, weights))\n",
    "\n",
    "def training_loss(weights):\n",
    "    # Training loss is the negative log-likelihood of the training labels.\n",
    "    preds = logistic_predictions(weights, inputs)\n",
    "    label_probabilities = preds * targets + (1 - preds) * (1 - targets)\n",
    "    return -np.sum(np.log(label_probabilities))\n",
    "\n",
    "# Build a toy dataset.\n",
    "inputs = np.array([[0.52, 1.12,  0.77],\n",
    "                   [0.88, -1.08, 0.15],\n",
    "                   [0.52, 0.06, -1.30],\n",
    "                   [0.74, -2.49, 1.39]])\n",
    "targets = np.array([True, True, False, True])\n",
    "\n",
    "# Define a function that returns gradients of training loss using autograd.\n",
    "training_gradient_fun = grad(training_loss)\n",
    "\n",
    "# Optimize weights using gradient descent.\n",
    "weights = np.array([0.0, 0.0, 0.0])\n",
    "print(\"Initial loss:\", training_loss(weights))\n",
    "for i in range(100):\n",
    "    weights -= training_gradient_fun(weights) * 0.01\n",
    "\n",
    "print(\"Trained loss:\", training_loss(weights))"
   ]
  },
  {
   "cell_type": "markdown",
   "metadata": {},
   "source": [
    "## A Simple Neural Network\n",
    "A multi-layer perceptron for classification of MNIST handwritten digits"
   ]
  },
  {
   "cell_type": "code",
   "execution_count": 43,
   "metadata": {},
   "outputs": [],
   "source": [
    "from __future__ import absolute_import, division\n",
    "from __future__ import print_function\n",
    "import autograd.numpy as np\n",
    "import autograd.numpy.random as npr\n",
    "from autograd.scipy.misc import logsumexp\n",
    "from autograd import grad\n",
    "from autograd.util import flatten\n",
    "from autograd.optimizers import adam\n",
    "from data import load_mnist"
   ]
  },
  {
   "cell_type": "code",
   "execution_count": 44,
   "metadata": {
    "collapsed": true
   },
   "outputs": [],
   "source": [
    "def init_random_params(scale, layer_sizes, rs=npr.RandomState(0)):\n",
    "    \"\"\"Build a list of (weights, biases) tuples,\n",
    "       one for each layer in the net.\"\"\"\n",
    "    return [(scale * rs.randn(m, n),   # weight matrix\n",
    "             scale * rs.randn(n))      # bias vector\n",
    "            for m, n in zip(layer_sizes[:-1], layer_sizes[1:])]"
   ]
  },
  {
   "cell_type": "code",
   "execution_count": 45,
   "metadata": {
    "collapsed": true
   },
   "outputs": [],
   "source": [
    "def neural_net_predict(params, inputs):\n",
    "    \"\"\"Implements a deep neural network for classification.\n",
    "       params is a list of (weights, bias) tuples.\n",
    "       inputs is an (N x D) matrix.\n",
    "       returns normalized class log-probabilities.\"\"\"\n",
    "    for W, b in params:\n",
    "        outputs = np.dot(inputs, W) + b\n",
    "        inputs = np.tanh(outputs)\n",
    "    return outputs - logsumexp(outputs, axis=1, keepdims=True)"
   ]
  },
  {
   "cell_type": "code",
   "execution_count": 46,
   "metadata": {
    "collapsed": true
   },
   "outputs": [],
   "source": [
    "def l2_norm(params):\n",
    "    \"\"\"Computes l2 norm of params by flattening them into a vector.\"\"\"\n",
    "    flattened, _ = flatten(params)\n",
    "    return np.dot(flattened, flattened)"
   ]
  },
  {
   "cell_type": "code",
   "execution_count": 47,
   "metadata": {
    "collapsed": true
   },
   "outputs": [],
   "source": [
    "def log_posterior(params, inputs, targets, L2_reg):\n",
    "    log_prior = -L2_reg * l2_norm(params)\n",
    "    log_lik = np.sum(neural_net_predict(params, inputs) * targets)\n",
    "    return log_prior + log_lik"
   ]
  },
  {
   "cell_type": "code",
   "execution_count": 48,
   "metadata": {
    "collapsed": true
   },
   "outputs": [],
   "source": [
    "def accuracy(params, inputs, targets):\n",
    "    target_class    = np.argmax(targets, axis=1)\n",
    "    predicted_class = np.argmax(neural_net_predict(params, inputs), axis=1)\n",
    "    return np.mean(predicted_class == target_class)"
   ]
  },
  {
   "cell_type": "code",
   "execution_count": 50,
   "metadata": {},
   "outputs": [
    {
     "name": "stdout",
     "output_type": "stream",
     "text": [
      "Loading training data...\n",
      "     Epoch     |    Train accuracy  |       Test accuracy  \n",
      "              0|              0.1186|              0.1228\n",
      "              1|  0.9070666666666667|              0.9119\n",
      "              2|             0.91235|              0.9157\n",
      "              3|             0.91715|              0.9208\n",
      "              4|  0.9211166666666667|              0.9252\n",
      "              5|  0.9249833333333334|              0.9284\n",
      "              6|              0.9274|              0.9302\n",
      "              7|  0.9301166666666667|              0.9328\n",
      "              8|  0.9317333333333333|              0.9339\n",
      "              9|  0.9333666666666667|              0.9354\n"
     ]
    }
   ],
   "source": [
    "if __name__ == '__main__':\n",
    "    # Model parameters\n",
    "    layer_sizes = [784, 200, 100, 10]\n",
    "    L2_reg = 1.0\n",
    "\n",
    "    # Training parameters\n",
    "    param_scale = 0.1\n",
    "    batch_size = 256\n",
    "    num_epochs = 10\n",
    "    step_size = 0.001\n",
    "\n",
    "    print(\"Loading training data...\")\n",
    "    N, train_images, train_labels, test_images,  test_labels = load_mnist()\n",
    "\n",
    "    init_params = init_random_params(param_scale, layer_sizes)\n",
    "\n",
    "    num_batches = int(np.ceil(len(train_images) / batch_size))\n",
    "    def batch_indices(iter):\n",
    "        idx = iter % num_batches\n",
    "        return slice(idx * batch_size, (idx+1) * batch_size)\n",
    "\n",
    "    # Define training objective\n",
    "    def objective(params, iter):\n",
    "        idx = batch_indices(iter)\n",
    "        return -log_posterior(params, train_images[idx], train_labels[idx], L2_reg)\n",
    "\n",
    "    # Get gradient of objective using autograd.\n",
    "    objective_grad = grad(objective)\n",
    "\n",
    "    print(\"     Epoch     |    Train accuracy  |       Test accuracy  \")\n",
    "    def print_perf(params, iter, gradient):\n",
    "        if iter % num_batches == 0:\n",
    "            train_acc = accuracy(params, train_images, train_labels)\n",
    "            test_acc  = accuracy(params, test_images, test_labels)\n",
    "            print(\"{:15}|{:20}|{:20}\".format(iter//num_batches, train_acc, test_acc))\n",
    "\n",
    "    # The optimizers provided can optimize lists, tuples, or dicts of parameters.\n",
    "    optimized_params = adam(objective_grad, init_params, step_size=step_size,\n",
    "                            num_iters=num_epochs * num_batches, callback=print_perf)"
   ]
  },
  {
   "cell_type": "markdown",
   "metadata": {},
   "source": [
    "### Coming up...\n",
    "\n",
    "1. **Convolutional Neural Net** Example\n",
    "2. ** RNN - Recurrent Neural Net ** Example\n",
    "3. ** LTSM - Long Short-Term Memory** Example\n",
    "4. ** Backprop - Back Propagation with some fluid simulation** Example\n",
    "5. ** GAN - Generative Adversarial Net** Example\n",
    "6. ** Gaussian & Deep Gaussian** Example\n",
    "7. ** Bayesian Neural Net** Example\n",
    "8. And much more..."
   ]
  }
 ],
 "metadata": {
  "kernelspec": {
   "display_name": "Python 3",
   "language": "python",
   "name": "python3"
  },
  "language_info": {
   "codemirror_mode": {
    "name": "ipython",
    "version": 3
   },
   "file_extension": ".py",
   "mimetype": "text/x-python",
   "name": "python",
   "nbconvert_exporter": "python",
   "pygments_lexer": "ipython3",
   "version": "3.6.1"
  }
 },
 "nbformat": 4,
 "nbformat_minor": 2
}
