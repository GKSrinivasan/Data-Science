{
 "cells": [
  {
   "cell_type": "markdown",
   "metadata": {},
   "source": [
    "\n",
    "## Here we go briefly through the basics of a class \n",
    "Here we get a brief introduction to classes and how we can create them once and use anywhere!\n",
    "Simply put: classes have functions,and they encapsulate and collect related bits of useful information. And you can put related classes and functions in a file and give it a name, and we call that a module, which you can then import for your own work.\n",
    "\n",
    "So actually, creating classes, creating functions, creating modules, it's all really easy. It's all just Python, and it's all just reusing a couple of concepts that we've seen a bunch of times in this series. So functions for encapsulating and naming useful bits of work,classes for encapsulating and naming related bits of functionality, and then modules to store a bunch of classes and functions. With all this you'll get a feel for when it makes sense to write functions, when it makes sense to right classes, and when it makes sense to create your own modules."
   ]
  },
  {
   "cell_type": "code",
   "execution_count": 3,
   "metadata": {},
   "outputs": [
    {
     "name": "stdout",
     "output_type": "stream",
     "text": [
      "Hi there!\n",
      "Goodbye!\n",
      "Hi there!\n",
      "Goodbye!\n"
     ]
    }
   ],
   "source": [
    "class greeting(object):\n",
    "    def hello(self):\n",
    "        print('Hi there!')\n",
    "    def goodbye(self):\n",
    "        print('Goodbye!')\n",
    "g = greeting()\n",
    "g.hello()\n",
    "g.goodbye()\n",
    "g2 = greeting()\n",
    "g2.hello()\n",
    "g2.goodbye()"
   ]
  },
  {
   "cell_type": "code",
   "execution_count": 2,
   "metadata": {},
   "outputs": [
    {
     "name": "stdout",
     "output_type": "stream",
     "text": [
      "Hi there!\n",
      "Goodbye!\n"
     ]
    }
   ],
   "source": [
    "g2 = greeting()\n",
    "g2.hello()\n",
    "g2.goodbye()"
   ]
  },
  {
   "cell_type": "code",
   "execution_count": 5,
   "metadata": {},
   "outputs": [
    {
     "name": "stdout",
     "output_type": "stream",
     "text": [
      "Hi there! Tarry\n",
      "Goodbye! Tarry\n",
      "Hi there! Jessica\n",
      "Goodbye! Jessica\n"
     ]
    }
   ],
   "source": [
    "class greeting(object):\n",
    "    def __init__(self, name): #is called whenever a new instance of a class is created\n",
    "        self.name = name\n",
    "    def hello(self):\n",
    "        print('Hi there! ' + self.name)\n",
    "    def goodbye(self):\n",
    "        print('Goodbye! ' + self.name)\n",
    "        \n",
    "g = greeting(\"Tarry\")\n",
    "g.hello()\n",
    "g.goodbye()\n",
    "g2 = greeting(\"Jessica\")\n",
    "g2.hello()\n",
    "g2.goodbye()"
   ]
  },
  {
   "cell_type": "code",
   "execution_count": 11,
   "metadata": {},
   "outputs": [
    {
     "name": "stdout",
     "output_type": "stream",
     "text": [
      "1\n",
      "3\n",
      "5\n"
     ]
    }
   ],
   "source": [
    "import random\n",
    "\n",
    "class Die(object): # it inherist an object\n",
    "    def roll(self):\n",
    "       return random.randint(1, 6)\n",
    "d = Die()\n",
    "print(d.roll())\n",
    "print(d.roll())\n",
    "print(d.roll())\n"
   ]
  },
  {
   "cell_type": "code",
   "execution_count": 16,
   "metadata": {},
   "outputs": [
    {
     "name": "stdout",
     "output_type": "stream",
     "text": [
      "D1 rolls: \n",
      "4\n",
      "3\n",
      "6\n",
      "D2 rolls: \n",
      "8\n",
      "10\n",
      "17\n"
     ]
    }
   ],
   "source": [
    "import random\n",
    "\n",
    "class Die(object): # it inherist an object\n",
    "    def __init__(self, sides):\n",
    "        self.sides = sides\n",
    "    def roll(self):\n",
    "       return random.randint(1, self.sides)\n",
    "print(\"D1 rolls: \")\n",
    "d = Die(6)\n",
    "print(d.roll())\n",
    "print(d.roll())\n",
    "print(d.roll())\n",
    "\n",
    "print(\"D2 rolls: \")\n",
    "d2 = Die(20)\n",
    "print(d2.roll())\n",
    "print(d2.roll())\n",
    "print(d2.roll())"
   ]
  },
  {
   "cell_type": "code",
   "execution_count": 30,
   "metadata": {},
   "outputs": [
    {
     "name": "stdout",
     "output_type": "stream",
     "text": [
      "5 of Clubs\n",
      "Ace of Clubs\n",
      "9 of Diamonds\n"
     ]
    }
   ],
   "source": [
    "import random\n",
    "class Deck(object):\n",
    "    def shuffle(self):\n",
    "        suits = ['Spades', 'Hearts', 'Clubs', 'Diamonds']\n",
    "        ranks = ['1','2','3','4','5','6','7','8','9','10', 'Jack', 'Queen', 'King', 'Ace']\n",
    "        self.cards = [] #Giving it self exposes is to the rest of the class for usage\n",
    "        for suit in suits:\n",
    "            for rank in ranks:\n",
    "                self.cards.append(rank + ' of ' + suit)\n",
    "        random.shuffle(self.cards)\n",
    "        \n",
    "    def deal(self):\n",
    "        return self.cards.pop()\n",
    "    \n",
    "d = Deck()\n",
    "d.shuffle()\n",
    "print(d.deal())\n",
    "print(d.deal())\n",
    "print(d.deal())"
   ]
  }
 ],
 "metadata": {
  "kernelspec": {
   "display_name": "Python 3",
   "language": "python",
   "name": "python3"
  },
  "language_info": {
   "codemirror_mode": {
    "name": "ipython",
    "version": 3
   },
   "file_extension": ".py",
   "mimetype": "text/x-python",
   "name": "python",
   "nbconvert_exporter": "python",
   "pygments_lexer": "ipython3",
   "version": "3.6.1"
  }
 },
 "nbformat": 4,
 "nbformat_minor": 2
}
