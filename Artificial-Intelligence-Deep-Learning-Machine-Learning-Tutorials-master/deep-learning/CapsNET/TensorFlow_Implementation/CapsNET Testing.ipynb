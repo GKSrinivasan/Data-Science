{
 "cells": [
  {
   "cell_type": "markdown",
   "metadata": {},
   "source": [
    "# CapsNET\n",
    "\n",
    "**What you'll be needing is the following**:\n",
    "\n",
    "- Tensorflow (I'm using the latest TF version 1.3.x)\n",
    "- tqdm (Uses progress bar so you can follow the progress of your epochs)\n",
    "- numpy\n",
    "- MNIST dataset\n",
    "- utils.py (type `help(utils)` to see what it has ( where you download dataset and use `numpy`, `os`, `scipy` and do regular stuff such as 1) load MNIST data 2) Get batch data 3) save and merge the images\n",
    "- config.py (type `help(config)` to get more info) This one is the place where your *hyperparameters* and *env variables* sit\n",
    "- capsLayer.py (type `help(capsLayer)` for more info). This the Capsule Layer. This is what it takes:\n",
    "``` Capsule layer.\n",
    "    Args:\n",
    "        input: A 4-D tensor.\n",
    "        num_units: integer, the length of the output vector of a capsule.\n",
    "        with_routing: boolean, this capsule is routing with the\n",
    "                      lower-level layer capsule.\n",
    "        num_outputs: the number of capsule in this layer.\n",
    "    Returns:\n",
    "        A 4-D tensor.\n",
    "```\n",
    "- capsNet.py (type `help(capsNet)` to get more details). Ley functions in thsi class are model architecture and loss.\n"
   ]
  },
  {
   "cell_type": "code",
   "execution_count": 2,
   "metadata": {},
   "outputs": [
    {
     "name": "stdout",
     "output_type": "stream",
     "text": [
      "Collecting tqdm\n",
      "  Downloading tqdm-4.19.4-py2.py3-none-any.whl (50kB)\n",
      "\u001b[K    100% |████████████████████████████████| 51kB 3.7MB/s ta 0:00:011\n",
      "\u001b[?25hInstalling collected packages: tqdm\n",
      "Successfully installed tqdm-4.19.4\n"
     ]
    }
   ],
   "source": [
    "! pip install tqdm"
   ]
  },
  {
   "cell_type": "code",
   "execution_count": 3,
   "metadata": {
    "collapsed": true
   },
   "outputs": [],
   "source": [
    "! mkdir -p data/mnist"
   ]
  },
  {
   "cell_type": "code",
   "execution_count": 5,
   "metadata": {},
   "outputs": [
    {
     "name": "stdout",
     "output_type": "stream",
     "text": [
      "--2017-10-31 21:38:59--  http://yann.lecun.com/exdb/mnist/%7Btrain-images-idx3-ubyte.gz,train-labels-idx1-ubyte.gz,t10k-images-idx3-ubyte.gz,t10k-labels-idx1-ubyte.gz%7D\n",
      "Resolving yann.lecun.com (yann.lecun.com)... 216.165.22.6\n",
      "Connecting to yann.lecun.com (yann.lecun.com)|216.165.22.6|:80... connected.\n",
      "HTTP request sent, awaiting response... 404 Not Found\n",
      "2017-10-31 21:39:00 ERROR 404: Not Found.\n",
      "\n"
     ]
    }
   ],
   "source": [
    "! wget -c -P data/mnist http://yann.lecun.com/exdb/mnist/{train-images-idx3-ubyte.gz,train-labels-idx1-ubyte.gz,t10k-images-idx3-ubyte.gz,t10k-labels-idx1-ubyte.gz}"
   ]
  },
  {
   "cell_type": "code",
   "execution_count": 7,
   "metadata": {},
   "outputs": [],
   "source": [
    "! gunzip data/mnist/*.gz"
   ]
  },
  {
   "cell_type": "code",
   "execution_count": 9,
   "metadata": {},
   "outputs": [
    {
     "name": "stdout",
     "output_type": "stream",
     "text": [
      "t10k-images-idx3-ubyte\ttrain-images-idx3-ubyte\r\n",
      "t10k-labels-idx1-ubyte\ttrain-labels-idx1-ubyte\r\n"
     ]
    }
   ],
   "source": [
    "! ls data/mnist/"
   ]
  },
  {
   "cell_type": "code",
   "execution_count": 11,
   "metadata": {},
   "outputs": [],
   "source": [
    "import tensorflow as tf\n",
    "from tqdm import tqdm\n",
    "from config import cfg\n",
    "from capsNet import CapsNet"
   ]
  },
  {
   "cell_type": "code",
   "execution_count": 12,
   "metadata": {},
   "outputs": [
    {
     "name": "stdout",
     "output_type": "stream",
     "text": [
      "INFO:tensorflow:Seting up the main structure\n",
      "INFO:tensorflow:Graph is loaded\n"
     ]
    }
   ],
   "source": [
    "capsNet = CapsNet(is_training=cfg.is_training)\n",
    "tf.logging.info(\"Graph is loaded\")\n",
    "sv = tf.train.Supervisor(graph=capsNet.graph,\n",
    "                        logdir=cfg.logdir,\n",
    "                        save_model_secs=0)"
   ]
  },
  {
   "cell_type": "markdown",
   "metadata": {},
   "source": [
    "### I've changed couple of paramters in the config file to the following\n",
    "\n",
    "```python\n",
    "flags.DEFINE_float('m_plus', 0.9, 'the parameter of m plus')\n",
    "flags.DEFINE_float('m_minus', 0.1, 'the parameter of m minus')\n",
    "flags.DEFINE_float('lambda_val', 0.5, 'down weight of the loss for absent digit classes')\n",
    "flags.DEFINE_integer('batch_size', 256, 'batch size')\n",
    "flags.DEFINE_integer('epoch', 2000, 'epoch')\n",
    "flags.DEFINE_integer('iter_routing', 3, 'number of iterations in routing algorithm')\n",
    "```"
   ]
  },
  {
   "cell_type": "code",
   "execution_count": null,
   "metadata": {},
   "outputs": [
    {
     "name": "stdout",
     "output_type": "stream",
     "text": [
      "INFO:tensorflow:Starting standard services.\n",
      "INFO:tensorflow:Starting queue runners.\n"
     ]
    },
    {
     "name": "stderr",
     "output_type": "stream",
     "text": [
      "\r",
      "  0%|                                          | 0/937 [00:00<?, ?b/s]"
     ]
    },
    {
     "name": "stdout",
     "output_type": "stream",
     "text": [
      "INFO:tensorflow:global_step/sec: 0\n",
      "INFO:tensorflow:Recording summary at step 0.\n"
     ]
    },
    {
     "name": "stderr",
     "output_type": "stream",
     "text": [
      "  9%|██▉                              | 82/937 [01:58<20:40,  1.45s/b]"
     ]
    },
    {
     "name": "stdout",
     "output_type": "stream",
     "text": [
      "INFO:tensorflow:global_step/sec: 0.693313\n",
      "INFO:tensorflow:Recording summary at step 83.\n"
     ]
    },
    {
     "name": "stderr",
     "output_type": "stream",
     "text": [
      " 18%|█████▋                          | 168/937 [04:00<18:18,  1.43s/b]"
     ]
    },
    {
     "name": "stdout",
     "output_type": "stream",
     "text": [
      "INFO:tensorflow:global_step/sec: 0.708194\n",
      "INFO:tensorflow:Recording summary at step 168.\n"
     ]
    },
    {
     "name": "stderr",
     "output_type": "stream",
     "text": [
      " 27%|████████▋                       | 253/937 [05:59<16:11,  1.42s/b]"
     ]
    },
    {
     "name": "stdout",
     "output_type": "stream",
     "text": [
      "INFO:tensorflow:global_step/sec: 0.716896\n",
      "INFO:tensorflow:Recording summary at step 254.\n"
     ]
    },
    {
     "name": "stderr",
     "output_type": "stream",
     "text": [
      " 36%|███████████▌                    | 339/937 [08:00<14:06,  1.42s/b]"
     ]
    },
    {
     "name": "stdout",
     "output_type": "stream",
     "text": [
      "INFO:tensorflow:global_step/sec: 0.708336\n",
      "INFO:tensorflow:Recording summary at step 339.\n"
     ]
    },
    {
     "name": "stderr",
     "output_type": "stream",
     "text": [
      " 45%|██████████████▍                 | 424/937 [09:59<12:04,  1.41s/b]"
     ]
    },
    {
     "name": "stdout",
     "output_type": "stream",
     "text": [
      "INFO:tensorflow:global_step/sec: 0.716611\n",
      "INFO:tensorflow:Recording summary at step 425.\n"
     ]
    },
    {
     "name": "stderr",
     "output_type": "stream",
     "text": [
      " 54%|█████████████████▍              | 510/937 [11:59<10:02,  1.41s/b]"
     ]
    },
    {
     "name": "stdout",
     "output_type": "stream",
     "text": [
      "INFO:tensorflow:global_step/sec: 0.708388\n",
      "INFO:tensorflow:Recording summary at step 510.\n"
     ]
    },
    {
     "name": "stderr",
     "output_type": "stream",
     "text": [
      " 64%|████████████████████▎           | 595/937 [13:59<08:02,  1.41s/b]"
     ]
    },
    {
     "name": "stdout",
     "output_type": "stream",
     "text": [
      "INFO:tensorflow:global_step/sec: 0.716666\n",
      "INFO:tensorflow:Recording summary at step 596.\n"
     ]
    },
    {
     "name": "stderr",
     "output_type": "stream",
     "text": [
      " 73%|███████████████████████▎        | 681/937 [15:59<06:00,  1.41s/b]"
     ]
    },
    {
     "name": "stdout",
     "output_type": "stream",
     "text": [
      "INFO:tensorflow:global_step/sec: 0.708333\n",
      "INFO:tensorflow:Recording summary at step 681.\n"
     ]
    },
    {
     "name": "stderr",
     "output_type": "stream",
     "text": [
      " 82%|██████████████████████████▏     | 766/937 [17:59<04:00,  1.41s/b]"
     ]
    },
    {
     "name": "stdout",
     "output_type": "stream",
     "text": [
      "INFO:tensorflow:global_step/sec: 0.715969\n",
      "INFO:tensorflow:Recording summary at step 767.\n"
     ]
    },
    {
     "name": "stderr",
     "output_type": "stream",
     "text": [
      " 91%|█████████████████████████████   | 852/937 [20:00<01:59,  1.41s/b]"
     ]
    },
    {
     "name": "stdout",
     "output_type": "stream",
     "text": [
      "INFO:tensorflow:Recording summary at step 852.\n"
     ]
    },
    {
     "name": "stderr",
     "output_type": "stream",
     "text": [
      "  0%|                                          | 0/937 [00:00<?, ?b/s]"
     ]
    },
    {
     "name": "stdout",
     "output_type": "stream",
     "text": [
      "INFO:tensorflow:Recording summary at step 938.\n"
     ]
    },
    {
     "name": "stderr",
     "output_type": "stream",
     "text": [
      "  9%|███                              | 86/937 [02:00<19:55,  1.41s/b]"
     ]
    },
    {
     "name": "stdout",
     "output_type": "stream",
     "text": [
      "INFO:tensorflow:Recording summary at step 1023.\n"
     ]
    },
    {
     "name": "stderr",
     "output_type": "stream",
     "text": [
      " 18%|█████▊                          | 171/937 [04:00<17:55,  1.40s/b]"
     ]
    },
    {
     "name": "stdout",
     "output_type": "stream",
     "text": [
      "INFO:tensorflow:Recording summary at step 1109.\n"
     ]
    },
    {
     "name": "stderr",
     "output_type": "stream",
     "text": [
      " 27%|████████▋                       | 256/937 [05:59<15:56,  1.40s/b]"
     ]
    },
    {
     "name": "stdout",
     "output_type": "stream",
     "text": [
      "INFO:tensorflow:Recording summary at step 1194.\n"
     ]
    },
    {
     "name": "stderr",
     "output_type": "stream",
     "text": [
      " 36%|███████████▋                    | 342/937 [08:00<13:55,  1.40s/b]"
     ]
    },
    {
     "name": "stdout",
     "output_type": "stream",
     "text": [
      "INFO:tensorflow:Recording summary at step 1280.\n"
     ]
    },
    {
     "name": "stderr",
     "output_type": "stream",
     "text": [
      " 46%|██████████████▌                 | 427/937 [09:59<11:56,  1.40s/b]"
     ]
    },
    {
     "name": "stdout",
     "output_type": "stream",
     "text": [
      "INFO:tensorflow:Recording summary at step 1365.\n"
     ]
    },
    {
     "name": "stderr",
     "output_type": "stream",
     "text": [
      " 55%|█████████████████▌              | 513/937 [12:00<09:55,  1.40s/b]"
     ]
    },
    {
     "name": "stdout",
     "output_type": "stream",
     "text": [
      "INFO:tensorflow:Recording summary at step 1450.\n"
     ]
    },
    {
     "name": "stderr",
     "output_type": "stream",
     "text": [
      " 64%|████████████████████▍           | 599/937 [14:00<07:54,  1.40s/b]"
     ]
    },
    {
     "name": "stdout",
     "output_type": "stream",
     "text": [
      "INFO:tensorflow:Recording summary at step 1536.\n"
     ]
    },
    {
     "name": "stderr",
     "output_type": "stream",
     "text": [
      " 73%|███████████████████████▎        | 684/937 [15:59<05:55,  1.40s/b]"
     ]
    },
    {
     "name": "stdout",
     "output_type": "stream",
     "text": [
      "INFO:tensorflow:Recording summary at step 1622.\n"
     ]
    },
    {
     "name": "stderr",
     "output_type": "stream",
     "text": [
      " 74%|███████████████████████▊        | 696/937 [16:16<05:38,  1.40s/b]"
     ]
    }
   ],
   "source": [
    "#Start the session and train\n",
    "with sv.managed_session() as sess:\n",
    "    num_batch = int(120000 / cfg.batch_size)\n",
    "    for epoch in range(cfg.epoch):\n",
    "        if sv.should_stop():\n",
    "            break\n",
    "        for step in tqdm(range(num_batch), total=num_batch, ncols=70, leave=False, unit='b'):\n",
    "            sess.run(capsNet.train_op)\n",
    "            \n",
    "            global_step = sess.run(capsNet.global_step)\n",
    "            sv.saver.save(sess, cfg.logdir + '/model_epoch_%04d_step_%02d' % (epoch, global_step))\n",
    "tf.logging.info(\"Done with training\")\n",
    "    "
   ]
  },
  {
   "cell_type": "code",
   "execution_count": null,
   "metadata": {
    "collapsed": true
   },
   "outputs": [],
   "source": [
    "! python eval.py --is_training False"
   ]
  }
 ],
 "metadata": {
  "kernelspec": {
   "display_name": "Python 3",
   "language": "python",
   "name": "python3"
  },
  "language_info": {
   "codemirror_mode": {
    "name": "ipython",
    "version": 3
   },
   "file_extension": ".py",
   "mimetype": "text/x-python",
   "name": "python",
   "nbconvert_exporter": "python",
   "pygments_lexer": "ipython3",
   "version": "3.6.1"
  }
 },
 "nbformat": 4,
 "nbformat_minor": 2
}
