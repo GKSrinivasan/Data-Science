{
 "cells": [
  {
   "cell_type": "code",
   "execution_count": 2,
   "metadata": {},
   "outputs": [
    {
     "name": "stdout",
     "output_type": "stream",
     "text": [
      "creating geocoding objects!\n"
     ]
    }
   ],
   "source": [
    "from geopy.geocoders import ArcGIS, Bing, Nominatim, OpenCage, GeocoderDotUS, GoogleV3, OpenMapQuest\n",
    "import csv, sys\n",
    "\n",
    "print ('creating geocoding objects!')"
   ]
  },
  {
   "cell_type": "code",
   "execution_count": 3,
   "metadata": {
    "collapsed": true
   },
   "outputs": [],
   "source": [
    "arcgis = ArcGIS(timeout=100)\n",
    "bing = Bing('your-API-key',timeout=100)\n",
    "nominatim = Nominatim(timeout=100)\n",
    "opencage = OpenCage('your-API-key',timeout=100)\n",
    "geocoderDotUS = GeocoderDotUS(timeout=100)\n",
    "googlev3 = GoogleV3(timeout=100)\n",
    "openmapquest = OpenMapQuest(timeout=100)\n",
    "\n",
    "# choose and order your preference for geocoders here\n",
    "geocoders = [googlev3, bing, nominatim]"
   ]
  },
  {
   "cell_type": "code",
   "execution_count": 7,
   "metadata": {},
   "outputs": [
    {
     "name": "stdout",
     "output_type": "stream",
     "text": [
      "geocoding addresses!\n"
     ]
    }
   ],
   "source": [
    "def geocode(address):\n",
    "    i = 0\n",
    "    try:\n",
    "        while i < len(geocoders):\n",
    "            # try to geocode using a service\n",
    "            location = geocoders[i].geocode(address)\n",
    "\n",
    "            # if it returns a location\n",
    "            if location != None:\n",
    "                \n",
    "                # return those values\n",
    "                return [location.latitude, location.longitude]\n",
    "            else:\n",
    "                # otherwise try the next one\n",
    "                i += 1\n",
    "    except:\n",
    "        # catch whatever errors, likely timeout, and return null values\n",
    "        print (sys.exc_info()[0])\n",
    "        return ['null','null']\n",
    "\n",
    "    # if all services have failed to geocode, return null values\n",
    "    return ['null','null']\n",
    "\n",
    "print ('geocoding addresses!')"
   ]
  },
  {
   "cell_type": "code",
   "execution_count": 8,
   "metadata": {},
   "outputs": [
    {
     "ename": "FileNotFoundError",
     "evalue": "[Errno 2] No such file or directory: 'data.csv'",
     "output_type": "error",
     "traceback": [
      "\u001b[0;31m---------------------------------------------------------------------------\u001b[0m",
      "\u001b[0;31mFileNotFoundError\u001b[0m                         Traceback (most recent call last)",
      "\u001b[0;32m<ipython-input-8-f5adf5d71f4f>\u001b[0m in \u001b[0;36m<module>\u001b[0;34m()\u001b[0m\n\u001b[1;32m      2\u001b[0m \u001b[0mdout\u001b[0m \u001b[0;34m=\u001b[0m \u001b[0;34m[\u001b[0m\u001b[0;34m]\u001b[0m\u001b[0;34m\u001b[0m\u001b[0m\n\u001b[1;32m      3\u001b[0m \u001b[0;34m\u001b[0m\u001b[0m\n\u001b[0;32m----> 4\u001b[0;31m \u001b[0;32mwith\u001b[0m \u001b[0mopen\u001b[0m\u001b[0;34m(\u001b[0m\u001b[0;34m'data.csv'\u001b[0m\u001b[0;34m,\u001b[0m \u001b[0mmode\u001b[0m\u001b[0;34m=\u001b[0m\u001b[0;34m'rb'\u001b[0m\u001b[0;34m)\u001b[0m \u001b[0;32mas\u001b[0m \u001b[0mfin\u001b[0m\u001b[0;34m:\u001b[0m\u001b[0;34m\u001b[0m\u001b[0m\n\u001b[0m\u001b[1;32m      5\u001b[0m \u001b[0;34m\u001b[0m\u001b[0m\n\u001b[1;32m      6\u001b[0m     \u001b[0mreader\u001b[0m \u001b[0;34m=\u001b[0m \u001b[0mcsv\u001b[0m\u001b[0;34m.\u001b[0m\u001b[0mreader\u001b[0m\u001b[0;34m(\u001b[0m\u001b[0mfin\u001b[0m\u001b[0;34m)\u001b[0m\u001b[0;34m\u001b[0m\u001b[0m\n",
      "\u001b[0;31mFileNotFoundError\u001b[0m: [Errno 2] No such file or directory: 'data.csv'"
     ]
    }
   ],
   "source": [
    "# list to hold all rows\n",
    "dout = []\n",
    "\n",
    "with open('data.csv', mode='rb') as fin:\n",
    "\n",
    "    reader = csv.reader(fin)\n",
    "    j = 0\n",
    "    for row in reader:\n",
    "        print ('processing #',j)\n",
    "        j+=1\n",
    "        try:\n",
    "            # configure this based upon your input CSV file\n",
    "            street = row[4]\n",
    "            city = row[6]\n",
    "            state = row[7]\n",
    "            postalcode = row[5]\n",
    "            country = row[8]\n",
    "            address = street + \", \" + city + \", \" + state + \" \" + postalcode + \" \" + country\n",
    "            \n",
    "            result = geocode(address)\n",
    "            # add the lat/lon values to the row\n",
    "            row.extend(result)\n",
    "            # add the new row to master list\n",
    "            dout.append(row)\n",
    "        except:\n",
    "            print ('you are a beautiful unicorn')\n",
    "\n",
    "print ('writing the results to file')"
   ]
  },
  {
   "cell_type": "code",
   "execution_count": null,
   "metadata": {
    "collapsed": true
   },
   "outputs": [],
   "source": []
  }
 ],
 "metadata": {
  "kernelspec": {
   "display_name": "Python 3",
   "language": "python",
   "name": "python3"
  },
  "language_info": {
   "codemirror_mode": {
    "name": "ipython",
    "version": 3
   },
   "file_extension": ".py",
   "mimetype": "text/x-python",
   "name": "python",
   "nbconvert_exporter": "python",
   "pygments_lexer": "ipython3",
   "version": "3.6.1"
  }
 },
 "nbformat": 4,
 "nbformat_minor": 2
}
