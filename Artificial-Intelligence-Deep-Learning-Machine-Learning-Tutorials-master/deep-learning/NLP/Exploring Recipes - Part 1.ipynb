{
 "cells": [
  {
   "cell_type": "markdown",
   "metadata": {},
   "source": [
    "## Step 1: Get and load the data\n",
    "\n",
    "Go to Gutenberg press and https://www.gutenberg.org/ebooks/24407, get all the data and put it innto your /data/recipes folder."
   ]
  },
  {
   "cell_type": "code",
   "execution_count": 4,
   "metadata": {},
   "outputs": [
    {
     "name": "stdout",
     "output_type": "stream",
     "text": [
      "Number of docs: 220\n",
      "Corpus size (char): 161146\n"
     ]
    }
   ],
   "source": [
    "import os\n",
    "\n",
    "data_folder = os.path.join('data/recipes')\n",
    "all_recipe_files = [os.path.join(data_folder, fname)\n",
    "                    for fname in os.listdir(data_folder)]\n",
    "\n",
    "documents = {}\n",
    "for recipe_fname in all_recipe_files:\n",
    "    bname = os.path.basename(recipe_fname)\n",
    "    recipe_number = os.path.splitext(bname)[0]\n",
    "    with open(recipe_fname, 'r') as f:\n",
    "        documents[recipe_number] = f.read()\n",
    "\n",
    "corpus_all_in_one = ' '.join([doc for doc in documents.values()])\n",
    "\n",
    "print(\"Number of docs: {}\".format(len(documents)))\n",
    "print(\"Corpus size (char): {}\".format(len(corpus_all_in_one)))"
   ]
  },
  {
   "cell_type": "markdown",
   "metadata": {},
   "source": [
    "## Step 2: Let's tokenize\n",
    "\n",
    "What this actually means is that we will be splitting raw string into a list of tokens. Where A \"token\" seentially is meaningful units of text such as **words, phrases, punctuation, numbers, dates,...**"
   ]
  },
  {
   "cell_type": "code",
   "execution_count": 5,
   "metadata": {},
   "outputs": [
    {
     "name": "stdout",
     "output_type": "stream",
     "text": [
      "Total number of tokens: 33719\n"
     ]
    }
   ],
   "source": [
    "from nltk.tokenize import word_tokenize\n",
    "all_tokens = [token for token in word_tokenize(corpus_all_in_one)]\n",
    "print(\"Total number of tokens: {}\".format(len(all_tokens)))"
   ]
  },
  {
   "cell_type": "markdown",
   "metadata": {},
   "source": [
    "## Step 3: Let's do a word count\n",
    "\n",
    "We start with a simple word count using `collections.Counter` function. \n",
    "\n",
    "Why we're doing this?\n",
    "\n",
    "We want to know the number times a word occurs in the whole corpus and in home many docs it occurs."
   ]
  },
  {
   "cell_type": "code",
   "execution_count": 8,
   "metadata": {},
   "outputs": [
    {
     "name": "stdout",
     "output_type": "stream",
     "text": [
      "the\t1933\n",
      ",\t1726\n",
      ".\t1568\n",
      "and\t1435\n",
      "a\t1076\n",
      "of\t988\n",
      "in\t811\n",
      "with\t726\n",
      "it\t537\n",
      "to\t452\n",
      "or\t389\n",
      "is\t337\n",
      "(\t295\n",
      ")\t295\n",
      "be\t266\n",
      "them\t248\n",
      "butter\t231\n",
      "on\t220\n",
      "water\t205\n",
      "little\t198\n"
     ]
    }
   ],
   "source": [
    "from collections import Counter\n",
    "\n",
    "total_word_freq = Counter(all_tokens)\n",
    "\n",
    "for word, freq in total_word_freq.most_common(20):\n",
    "    # Let's try the top 25 words in descending order\n",
    "    print(\"{}\\t{}\".format(word, freq))"
   ]
  },
  {
   "cell_type": "markdown",
   "metadata": {},
   "source": [
    "## Step 4: Stop words\n",
    "\n",
    "Obviously you can see that a lot of words above were expected. Actually also quite boring as (, ) or full stop is something one would expect. If it were a scary novel a lot of ! would appear.\n",
    "\n",
    "Wwe call these type of words **stop words** and they are pretty meaningless in themselves, right?\n",
    "\n",
    "Also you will see that there is no universal list of stop words *and* removing them can have a certain desirable or undesirable effect, right?\n",
    "\n",
    "So lets's import stop words from the big and mighty nltk library"
   ]
  },
  {
   "cell_type": "code",
   "execution_count": 10,
   "metadata": {},
   "outputs": [
    {
     "name": "stdout",
     "output_type": "stream",
     "text": [
      "['i', 'me', 'my', 'myself', 'we', 'our', 'ours', 'ourselves', 'you', 'your', 'yours', 'yourself', 'yourselves', 'he', 'him', 'his', 'himself', 'she', 'her', 'hers', 'herself', 'it', 'its', 'itself', 'they', 'them', 'their', 'theirs', 'themselves', 'what', 'which', 'who', 'whom', 'this', 'that', 'these', 'those', 'am', 'is', 'are', 'was', 'were', 'be', 'been', 'being', 'have', 'has', 'had', 'having', 'do', 'does', 'did', 'doing', 'a', 'an', 'the', 'and', 'but', 'if', 'or', 'because', 'as', 'until', 'while', 'of', 'at', 'by', 'for', 'with', 'about', 'against', 'between', 'into', 'through', 'during', 'before', 'after', 'above', 'below', 'to', 'from', 'up', 'down', 'in', 'out', 'on', 'off', 'over', 'under', 'again', 'further', 'then', 'once', 'here', 'there', 'when', 'where', 'why', 'how', 'all', 'any', 'both', 'each', 'few', 'more', 'most', 'other', 'some', 'such', 'no', 'nor', 'not', 'only', 'own', 'same', 'so', 'than', 'too', 'very', 's', 't', 'can', 'will', 'just', 'don', 'should', 'now', 'd', 'll', 'm', 'o', 're', 've', 'y', 'ain', 'aren', 'couldn', 'didn', 'doesn', 'hadn', 'hasn', 'haven', 'isn', 'ma', 'mightn', 'mustn', 'needn', 'shan', 'shouldn', 'wasn', 'weren', 'won', 'wouldn']\n",
      "153\n",
      "!\"#$%&'()*+,-./:;<=>?@[\\]^_`{|}~\n"
     ]
    }
   ],
   "source": [
    "from nltk.corpus import stopwords\n",
    "import string\n",
    "\n",
    "print(stopwords.words('english'))\n",
    "print(len(stopwords.words('english')))\n",
    "print(string.punctuation)"
   ]
  },
  {
   "cell_type": "markdown",
   "metadata": {},
   "source": [
    "### Tip: A little bit about strings and digits btw\n",
    "\n",
    "There is a pythonic way to do stuff as well but that's for another time and you can play a little game by creating a password generator and checking out all kinds og modules in string as well as crypt (there is cryptography as well)"
   ]
  },
  {
   "cell_type": "code",
   "execution_count": 11,
   "metadata": {},
   "outputs": [
    {
     "data": {
      "text/plain": [
       "'abcdefghijklmnopqrstuvwxyzABCDEFGHIJKLMNOPQRSTUVWXYZ'"
      ]
     },
     "execution_count": 11,
     "metadata": {},
     "output_type": "execute_result"
    }
   ],
   "source": [
    "string.ascii_letters"
   ]
  },
  {
   "cell_type": "code",
   "execution_count": 12,
   "metadata": {},
   "outputs": [
    {
     "data": {
      "text/plain": [
       "'abcdefghijklmnopqrstuvwxyz'"
      ]
     },
     "execution_count": 12,
     "metadata": {},
     "output_type": "execute_result"
    }
   ],
   "source": [
    "string.ascii_lowercase"
   ]
  },
  {
   "cell_type": "code",
   "execution_count": 13,
   "metadata": {},
   "outputs": [
    {
     "data": {
      "text/plain": [
       "'ABCDEFGHIJKLMNOPQRSTUVWXYZ'"
      ]
     },
     "execution_count": 13,
     "metadata": {},
     "output_type": "execute_result"
    }
   ],
   "source": [
    "string.ascii_uppercase"
   ]
  },
  {
   "cell_type": "code",
   "execution_count": 26,
   "metadata": {},
   "outputs": [
    {
     "name": "stdout",
     "output_type": "stream",
     "text": [
      ",o8r_xqAR\n"
     ]
    }
   ],
   "source": [
    "# How to get them all including symbols and make a cool password\n",
    "import random\n",
    "char_set = string.ascii_letters + string.digits + string.punctuation\n",
    "print(\"\".join(random.sample(char_set*9, 9)))"
   ]
  },
  {
   "cell_type": "code",
   "execution_count": 25,
   "metadata": {},
   "outputs": [
    {
     "name": "stdout",
     "output_type": "stream",
     "text": [
      "Enter your email: me@me.com\n",
      "$1ocjj.wZDJpw\n"
     ]
    }
   ],
   "source": [
    "import crypt\n",
    "passwd = input(\"Enter your email: \")\n",
    "value = '$1$' + ''.join([random.choice(string.ascii_letters + string.digits) for _ in range(16)])\n",
    "# print(\"%s\" % value)\n",
    "print(crypt.crypt(passwd, value))"
   ]
  },
  {
   "cell_type": "markdown",
   "metadata": {},
   "source": [
    "OK, we got distracted a bit, so we're back 😅"
   ]
  },
  {
   "cell_type": "markdown",
   "metadata": {},
   "source": [
    "**So, back to where we were...**"
   ]
  },
  {
   "cell_type": "code",
   "execution_count": 27,
   "metadata": {},
   "outputs": [
    {
     "name": "stdout",
     "output_type": "stream",
     "text": [
      "butter\t231\n",
      "water\t205\n",
      "little\t198\n",
      "put\t197\n",
      "one\t186\n",
      "salt\t185\n",
      "fire\t169\n",
      "half\t169\n",
      "two\t157\n",
      "When\t132\n",
      "sauce\t128\n",
      "pepper\t128\n",
      "add\t125\n",
      "cut\t125\n",
      "flour\t116\n",
      "piece\t116\n",
      "The\t111\n",
      "sugar\t100\n",
      "saucepan\t100\n",
      "oil\t99\n",
      "pieces\t95\n",
      "well\t94\n",
      "meat\t90\n",
      "brown\t88\n",
      "small\t87\n"
     ]
    }
   ],
   "source": [
    "stop_list = stopwords.words('english') + list(string.punctuation)\n",
    "tokens_no_stop = [token for token in all_tokens if token not in stop_list]\n",
    "total_term_freq_no_stop = Counter(tokens_no_stop)\n",
    "\n",
    "for word, freq in total_term_freq_no_stop.most_common(25):\n",
    "    print(\"{}\\t{}\".format(word, freq))"
   ]
  },
  {
   "cell_type": "markdown",
   "metadata": {},
   "source": [
    "Do you see capitalized When and The?"
   ]
  },
  {
   "cell_type": "code",
   "execution_count": 29,
   "metadata": {},
   "outputs": [
    {
     "name": "stdout",
     "output_type": "stream",
     "text": [
      "27\n",
      "3\n",
      "1\n",
      "0\n",
      "0\n",
      "1\n"
     ]
    }
   ],
   "source": [
    "print(total_term_freq_no_stop['olive'])\n",
    "print(total_term_freq_no_stop['olives'])\n",
    "print(total_term_freq_no_stop['Olive'])\n",
    "print(total_term_freq_no_stop['Olives'])\n",
    "print(total_term_freq_no_stop['OLIVE'])\n",
    "print(total_term_freq_no_stop['OLIVES'])"
   ]
  },
  {
   "cell_type": "markdown",
   "metadata": {},
   "source": [
    "## Step 5: Text Normalization\n",
    "\n",
    "Replacing tokens with a canonical form, so we can group them together different spelling / variations of the same word:\n",
    "\n",
    "- lowercases\n",
    "- stemming\n",
    "- UStoGB mapping\n",
    "- synonym mapping\n",
    "\n",
    "Stemming, btw - is a process of reducing the words -- nenerally modifed of derived, to their word stem or root form. The ain goal of stemmnig is to reduce related words to the same stem even when the stem isn't a dictionary word.\n",
    "\n",
    "As a simple example, lets take this for instance:\n",
    "\n",
    "1. handsome and handsomly would be stemmed as \"handsom\" - so it does not end up being a word you know!\n",
    "2. Nice, cool, awesome would be stemmed as nice, cool and awesome\n",
    "\n",
    "- You must also be careful with one-way transformations as well such as lowercasing (these you should be able to imporve post your training/epochs and loading the computation graph when done)\n",
    "\n",
    "Lets take a deeper look at this..."
   ]
  },
  {
   "cell_type": "code",
   "execution_count": 32,
   "metadata": {},
   "outputs": [
    {
     "name": "stdout",
     "output_type": "stream",
     "text": [
      "put\t286\n",
      "butter\t245\n",
      "salt\t215\n",
      "piec\t211\n",
      "one\t210\n",
      "water\t209\n",
      "cook\t208\n",
      "littl\t198\n",
      "cut\t175\n",
      "half\t170\n",
      "brown\t169\n",
      "fire\t169\n",
      "egg\t163\n",
      "two\t162\n",
      "add\t160\n",
      "boil\t154\n",
      "sauc\t152\n",
      "pepper\t130\n",
      "serv\t128\n",
      "remov\t127\n",
      "flour\t123\n",
      "season\t123\n",
      "sugar\t116\n",
      "slice\t102\n",
      "saucepan\t101\n"
     ]
    }
   ],
   "source": [
    "from nltk.stem import PorterStemmer\n",
    "\n",
    "stemmer = PorterStemmer()\n",
    "all_tokens_lowercase = [token.lower() for token in all_tokens]\n",
    "tokens_normalized = [stemmer.stem(token) for token in all_tokens_lowercase if token not in stop_list]\n",
    "\n",
    "total_term_freq_normalized = Counter(tokens_normalized)\n",
    "\n",
    "for word, freq in total_term_freq_normalized.most_common(25):\n",
    "    print(\"{}\\t{}\".format(word, freq))"
   ]
  },
  {
   "cell_type": "markdown",
   "metadata": {},
   "source": [
    "Clearly you see the effect we just discussed aboce such as **\"littl\"** and so on..."
   ]
  },
  {
   "cell_type": "markdown",
   "metadata": {},
   "source": [
    "## n-grams -- What are they?\n",
    "\n",
    "n-gram is a sequence of n-items from a given sequence of text or speech. The items can be phonemes, syllables, letters, words or base pairs.\n",
    "\n",
    "n-grams of texts are used quite heavily in text mining and NLP tasks. They basically are a set of words that co-occur within a given sentence and typically move one word forward. for instance `the dog jumps over the car`, and say if `N=2`(a bi-gram), then n-grams would be as such:\n",
    "\n",
    "- th dog\n",
    "- dog jumps\n",
    "- jumps over\n",
    "- over the\n",
    "- the car\n",
    "\n",
    "So, we have 5-ngrams in this case.\n",
    "\n",
    "And if `N = 3` (tri-gram), then you have four n-grams and so on...\n",
    "- the dog jumps\n",
    "- dog jumps over\n",
    "- jumps over the\n",
    "- over the car\n",
    "\n",
    "So, how many N-grams can be in a sentence?\n",
    "\n",
    "If `X= number of words in a sentence K` then the number of n-grams for sentence K would be:\n",
    "$$N_{gramsK} = X - (N - 1)$$\n",
    "\n",
    "Two popular uses of N-grams:\n",
    "\n",
    "- For buildin g language models (unigram, bigram, trigram). Google Yahoo Microsoft Amazon Netflix etc. use web scale n-gram models to do stuff like fix spellings, word breaking and text summarization\n",
    "- For developing features for supervised Deep Learningh models such as SVM, MaxEnt model, Naive Bayes etc\n",
    "\n",
    "**OK, enough lecture**, we move on to the next...\n"
   ]
  },
  {
   "cell_type": "code",
   "execution_count": 33,
   "metadata": {},
   "outputs": [
    {
     "name": "stdout",
     "output_type": "stream",
     "text": [
      "('in', 'the') 101\n",
      "('in', 'a') 101\n",
      "('of', 'the') 101\n",
      "('with', 'a') 101\n",
      "('.', 'when') 101\n",
      "('the', 'fire') 101\n",
      "('on', 'the') 101\n",
      "(',', 'and') 101\n",
      "('with', 'the') 101\n",
      "('salt', 'and') 101\n",
      "('it', 'is') 101\n",
      "('a', 'little') 101\n",
      "('piece', 'of') 101\n",
      "('and', 'a') 101\n",
      "('of', 'butter') 101\n",
      "('and', 'pepper') 101\n",
      "('.', 'the') 101\n",
      "('and', 'the') 101\n",
      "('when', 'the') 101\n",
      "('with', 'salt') 101\n",
      "('and', 'put') 101\n",
      "('to', 'be') 101\n",
      "('from', 'the') 101\n",
      "('butter', ',') 101\n",
      "(',', 'a') 101\n"
     ]
    }
   ],
   "source": [
    "from nltk import ngrams\n",
    "\n",
    "phrases = Counter(ngrams(all_tokens_lowercase, 2)) # N = 2\n",
    "for phrase, frew in phrases.most_common(25):\n",
    "    print(phrase, freq)\n",
    "    # Sorry, I know its elegant to write like this => print()\"{}\\t{}\".format(phrase, freq)), but too non-intuitive!"
   ]
  },
  {
   "cell_type": "code",
   "execution_count": 34,
   "metadata": {},
   "outputs": [
    {
     "name": "stdout",
     "output_type": "stream",
     "text": [
      "('season', 'salt', 'pepper') 28\n",
      "('Season', 'salt', 'pepper') 16\n",
      "('pinch', 'grated', 'cheese') 11\n",
      "('bread', 'crumbs', 'ground') 11\n",
      "('cut', 'thin', 'slices') 11\n",
      "('good', 'olive', 'oil') 10\n",
      "('saucepan', 'piece', 'butter') 9\n",
      "('another', 'piece', 'butter') 9\n",
      "('cut', 'small', 'pieces') 9\n",
      "('salt', 'pepper', 'When') 9\n",
      "('half', 'inch', 'thick') 9\n",
      "('greased', 'butter', 'sprinkled') 9\n",
      "('small', 'piece', 'butter') 9\n",
      "('tomato', 'sauce', 'No') 8\n",
      "('sauce', 'No', '12') 8\n",
      "('medium', 'sized', 'onion') 8\n",
      "('ounces', 'Sweet', 'almonds') 8\n",
      "('three', 'half', 'ounces') 8\n",
      "('piece', 'butter', 'When') 7\n",
      "('seasoning', 'salt', 'pepper') 7\n",
      "('put', 'back', 'fire') 7\n",
      "('oil', 'salt', 'pepper') 7\n",
      "('butter', 'salt', 'pepper') 7\n",
      "('tomato', 'paste', 'diluted') 7\n",
      "('crumbs', 'ground', 'fine') 7\n"
     ]
    }
   ],
   "source": [
    "phrases = Counter(ngrams(tokens_no_stop, 3)) # N = 3\n",
    "for phrase, freq in phrases.most_common(25):\n",
    "    print(phrase, freq)"
   ]
  },
  {
   "cell_type": "code",
   "execution_count": null,
   "metadata": {
    "collapsed": true
   },
   "outputs": [],
   "source": []
  }
 ],
 "metadata": {
  "kernelspec": {
   "display_name": "Python 3",
   "language": "python",
   "name": "python3"
  },
  "language_info": {
   "codemirror_mode": {
    "name": "ipython",
    "version": 3
   },
   "file_extension": ".py",
   "mimetype": "text/x-python",
   "name": "python",
   "nbconvert_exporter": "python",
   "pygments_lexer": "ipython3",
   "version": "3.6.1"
  }
 },
 "nbformat": 4,
 "nbformat_minor": 2
}
