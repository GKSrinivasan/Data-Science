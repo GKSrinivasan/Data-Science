{
 "cells": [
  {
   "cell_type": "markdown",
   "metadata": {},
   "source": [
    "## Text Classification\n",
    "\n",
    "There are several types of classification:\n",
    "\n",
    "- Binary : 2 mutually exclusive categories (Detecting spam etc)\n",
    "- Multiclass: More than 2 mutually exclusive categories (Language detection etc)\n",
    "- Multilabel: non-mutually exclusive categories (like movie genres, tV shows etc)\n",
    "\n",
    "### Binary text classification problem\n",
    "\n"
   ]
  },
  {
   "cell_type": "code",
   "execution_count": 1,
   "metadata": {
    "collapsed": true
   },
   "outputs": [],
   "source": [
    "from sklearn.feature_extraction.text import TfidfVectorizer\n",
    "from sklearn.svm import LinearSVC"
   ]
  },
  {
   "cell_type": "code",
   "execution_count": 2,
   "metadata": {
    "collapsed": true
   },
   "outputs": [],
   "source": [
    "# Train and test data set\n",
    "\n",
    "train_data = ['Football: a great sport', \n",
    "              'The referee has been very bad this season', \n",
    "              'Our team scored 5 goals', 'I love tenis',\n",
    "              'Politics is in decline in the UK', \n",
    "              'Brexit means Brexit', \n",
    "              'The parlament wants to create new legislation',\n",
    "              'I so want to travel the world']\n",
    "\n",
    "train_labels = [\"Sports\",\"Sports\",\"Sports\",\"Sports\", \n",
    "                \"Non Sports\", \"Non Sports\", \"Non Sports\", \"Non Sports\"]\n",
    "\n",
    "test_data = ['Swimming is a great sport', \n",
    "             'A lot of policy changes will happen after Brexit', \n",
    "             'The table tenis team will travel to the UK soon for the European Championship']\n",
    "test_labels = [\"Sports\", \"Non Sports\", \"Sports\"]"
   ]
  },
  {
   "cell_type": "code",
   "execution_count": 3,
   "metadata": {
    "collapsed": true
   },
   "outputs": [],
   "source": [
    "# Representation of data using Tf-IDF\n",
    "vectorizer = TfidfVectorizer()\n",
    "vectorized_train_data = vectorizer.fit_transform(train_data)\n",
    "vectorized_test_data = vectorizer.transform(test_data)"
   ]
  },
  {
   "cell_type": "code",
   "execution_count": 4,
   "metadata": {},
   "outputs": [
    {
     "data": {
      "text/plain": [
       "LinearSVC(C=1.0, class_weight=None, dual=True, fit_intercept=True,\n",
       "     intercept_scaling=1, loss='squared_hinge', max_iter=1000,\n",
       "     multi_class='ovr', penalty='l2', random_state=None, tol=0.0001,\n",
       "     verbose=0)"
      ]
     },
     "execution_count": 4,
     "metadata": {},
     "output_type": "execute_result"
    }
   ],
   "source": [
    "# Train the classifier given the training data\n",
    "classifier = LinearSVC()\n",
    "classifier.fit(vectorized_train_data, train_labels)"
   ]
  },
  {
   "cell_type": "code",
   "execution_count": 5,
   "metadata": {},
   "outputs": [
    {
     "name": "stdout",
     "output_type": "stream",
     "text": [
      "['Sports' 'Non Sports' 'Non Sports']\n"
     ]
    }
   ],
   "source": [
    "# Predict the labels for the test documents \n",
    "print(classifier.predict(vectorized_test_data))"
   ]
  },
  {
   "cell_type": "markdown",
   "metadata": {},
   "source": [
    "### Nice. We build our text classifier :)\n",
    "- Matching problems\n",
    "- Cases never seen below\n",
    "- \"Spurious\" correlations and bias (\"car\" appears only in the +ve category)"
   ]
  },
  {
   "cell_type": "code",
   "execution_count": 10,
   "metadata": {},
   "outputs": [
    {
     "name": "stdout",
     "output_type": "stream",
     "text": [
      "[[('sport', 0.57735026918962584),\n",
      "  ('is', 0.57735026918962584),\n",
      "  ('great', 0.57735026918962584)],\n",
      " [('brexit', 1.0)],\n",
      " [('uk', 0.34666892278432909),\n",
      "  ('travel', 0.34666892278432909),\n",
      "  ('to', 0.29053561299308733),\n",
      "  ('the', 0.6594480187891556),\n",
      "  ('tenis', 0.34666892278432909),\n",
      "  ('team', 0.34666892278432909)]]\n"
     ]
    }
   ],
   "source": [
    "from pprint import pprint # This way we print pretty :)\n",
    "\n",
    "def feature_values(doc, representer):\n",
    "    doc_rep = representer.transform([doc])\n",
    "    features = representer.get_feature_names()\n",
    "    return [(features[index], doc_rep[0, index]) for index in doc_rep.nonzero()[1]]\n",
    "pprint([feature_values(doc, vectorizer) for doc in test_data])"
   ]
  },
  {
   "cell_type": "markdown",
   "metadata": {},
   "source": [
    "### Let's try with remove with stop-word "
   ]
  },
  {
   "cell_type": "code",
   "execution_count": 14,
   "metadata": {},
   "outputs": [
    {
     "name": "stdout",
     "output_type": "stream",
     "text": [
      "['Sports' 'Non Sports' 'Sports']\n"
     ]
    }
   ],
   "source": [
    "from nltk.corpus import stopwords\n",
    "\n",
    "# Load the list of english / stop words from nltk\n",
    "stop_words = stopwords.words(\"english\")\n",
    "\n",
    "# Represent, train, predict and print it out\n",
    "vectorizer = TfidfVectorizer(stop_words=stop_words)\n",
    "vectorized_train_data = vectorizer.fit_transform(train_data)\n",
    "vectorized_test_data = vectorizer.transform(test_data)\n",
    "\n",
    "# Assign SVC classifier\n",
    "\n",
    "classifier = LinearSVC()\n",
    "\n",
    "# fit the classifier with vectorized train data set and their labels.\n",
    "\n",
    "classifier.fit(vectorized_train_data, train_labels)\n",
    "\n",
    "# Lets print and see what comes out, should give a Sports, Non Sports, Sports\n",
    "\n",
    "print(classifier.predict(vectorized_test_data))"
   ]
  },
  {
   "cell_type": "markdown",
   "metadata": {},
   "source": [
    "### Ok, cool.\n",
    "\n",
    "### Multi-Class Classification Challenge\n",
    "\n",
    "Here lets address the multi-class problem of detecting the language of a sentence based on 3 mutually exclusive languages such as English, Spanish, French. Lets assume that we can only have three languages that the documents can contain.\n",
    "\n",
    "So, lets get on and create a sample artificial text..."
   ]
  },
  {
   "cell_type": "code",
   "execution_count": 15,
   "metadata": {},
   "outputs": [
    {
     "name": "stdout",
     "output_type": "stream",
     "text": [
      "array(['SP', 'SP', 'EN', 'EN'],\n",
      "      dtype='<U2')\n"
     ]
    }
   ],
   "source": [
    "train_data = ['PyCon es una gran conferencia', \n",
    "              'Aprendizaje automatico esta listo para dominar el mundo dentro de poco',\n",
    "             'This is a great conference with a lot of amazing talks', \n",
    "              'AI will dominate the world in the near future',\n",
    "             'Dix chiffres por resumer le feuilleton de la loi travail']\n",
    "train_labels = [\"SP\", \"SP\", \"EN\", \"EN\", \"FR\"]\n",
    "test_data = ['Estoy preparandome para dominar las olimpiadas', \n",
    "             'Me gustaria mucho aprender el lenguage de programacion Scala',\n",
    "             'Machine Learning is amazing',\n",
    "             'Hola a todos']\n",
    "test_labels = [\"SP\", \"SP\", \"EN\", \"SP\"]\n",
    "\n",
    "# Representation\n",
    "vectorizer = TfidfVectorizer()\n",
    "vectorized_train_data = vectorizer.fit_transform(train_data)\n",
    "vectorized_test_data = vectorizer.transform(test_data)\n",
    "\n",
    "# Training\n",
    "classifier = LinearSVC()\n",
    "classifier.fit(vectorized_train_data, train_labels)\n",
    "\n",
    "# Predicting\n",
    "predictions = classifier.predict(vectorized_test_data)\n",
    "pprint(predictions)"
   ]
  },
  {
   "cell_type": "markdown",
   "metadata": {},
   "source": [
    "###  So, what happened above?\n",
    "\n",
    "Why didn't is show SP in the end as per the test label but EN?\n",
    "\n",
    "### Multi-Label Problem\n",
    "\n",
    "Here we try to figure out the multi-label problem of labelling documents with their relevance to sports, politics etc. As previously demonstrated, we create a small collection.\n",
    "\n",
    "We will try to do it differently this time in:\n",
    "- Change the representation of the data viewing every document as a list of bits -- with them representing of weither being OR not to each category. We'll need a `MultiLabelBinarizer` from the sklearn library\n",
    "- We'll run the classifier N times, once for each category where the negative cases will be documents in all other categories. for this we'll need a `OneVsRestClassifier` from sklearn. [Note: There is also a `OneVsOneClassifier`, but we'll discuss this another time]\n",
    "\n",
    "So, lets get started..."
   ]
  },
  {
   "cell_type": "code",
   "execution_count": 21,
   "metadata": {},
   "outputs": [
    {
     "name": "stdout",
     "output_type": "stream",
     "text": [
      "These are Binary Train Labels:  [[0 1]\n",
      " [0 1]\n",
      " [0 1]\n",
      " [0 1]\n",
      " [1 0]\n",
      " [1 0]\n",
      " [1 0]\n",
      " [0 0]\n",
      " [1 1]\n",
      " [0 0]]\n",
      "These are Binary Test Labels:  [[0 1]\n",
      " [1 0]\n",
      " [0 1]\n",
      " [1 1]\n",
      " [0 0]]\n"
     ]
    }
   ],
   "source": [
    "from sklearn.preprocessing import MultiLabelBinarizer\n",
    "from sklearn.multiclass import OneVsRestClassifier\n",
    "\n",
    "train_data = ['Soccer: a great sport', \n",
    "              'The referee has been very bad this season', \n",
    "              'Our team scored 5 goals', 'I love tenis',\n",
    "              'Politics is in decline in the UK', 'Brexit means Brexit', \n",
    "              'The parlament wants to create new legislation',\n",
    "              'I so want to travel the world', \n",
    "              'The government will increase the budget for sports in the NL after great sport medal tally!',\n",
    "              \"O'Reilly has a great conference this year\"]\n",
    "train_labels = [[\"Sports\"], [\"Sports\"], [\"Sports\"], [\"Sports\"],\n",
    "                [\"Politics\"],[\"Politics\"],[\"Politics\"],[],[\"Politics\", \"Sports\"],[]]\n",
    "\n",
    "test_data = ['Swimming is a great sport', \n",
    "             'A lot of policy changes will happen after Brexit', \n",
    "             'The table tenis team will travel to the UK soon for the European Championship',\n",
    "             'The government will increase the budget for sports in the NL after great sport medal tally!',\n",
    "             'PyCon is my favourite conference']\n",
    "test_labels = [[\"Sports\"], [\"Politics\"], [\"Sports\"], [\"Politics\",\"Sports\"],[]]\n",
    "\n",
    "# We change the representation of the data as a list of bit lists\n",
    "multilabelbin = MultiLabelBinarizer()\n",
    "binary_train_labels = multilabelbin.fit_transform(train_labels)\n",
    "binary_test_labels = multilabelbin.transform(test_labels)\n",
    "\n",
    "print(\"These are Binary Train Labels: \", binary_train_labels)\n",
    "print(\"These are Binary Test Labels: \", binary_test_labels)"
   ]
  },
  {
   "cell_type": "code",
   "execution_count": 25,
   "metadata": {},
   "outputs": [
    {
     "name": "stdout",
     "output_type": "stream",
     "text": [
      "[[0 1]\n",
      " [1 0]\n",
      " [0 1]\n",
      " [1 1]\n",
      " [0 0]]\n",
      "\n"
     ]
    }
   ],
   "source": [
    "# Doing same with OneVsRest\n",
    "# Represent first\n",
    "vectorizer = TfidfVectorizer(stop_words=stop_words)\n",
    "vectorized_train_data = vectorizer.fit_transform(train_data)\n",
    "vectorized_test_data = vectorizer.transform(test_data)\n",
    "\n",
    "# Build one classifier per category\n",
    "classifier = OneVsRestClassifier(LinearSVC())\n",
    "classifier.fit(vectorized_train_data, binary_train_labels)\n",
    "\n",
    "# Predict\n",
    "predictions = classifier.predict(vectorized_test_data)\n",
    "print(predictions)\n",
    "print()"
   ]
  },
  {
   "cell_type": "code",
   "execution_count": 26,
   "metadata": {},
   "outputs": [
    {
     "name": "stdout",
     "output_type": "stream",
     "text": [
      "[('Sports',), ('Politics',), ('Sports',), ('Politics', 'Sports'), ()]\n"
     ]
    }
   ],
   "source": [
    "print(multilabelbin.inverse_transform(predictions))"
   ]
  },
  {
   "cell_type": "code",
   "execution_count": null,
   "metadata": {
    "collapsed": true
   },
   "outputs": [],
   "source": []
  }
 ],
 "metadata": {
  "kernelspec": {
   "display_name": "Python 3",
   "language": "python",
   "name": "python3"
  },
  "language_info": {
   "codemirror_mode": {
    "name": "ipython",
    "version": 3
   },
   "file_extension": ".py",
   "mimetype": "text/x-python",
   "name": "python",
   "nbconvert_exporter": "python",
   "pygments_lexer": "ipython3",
   "version": "3.6.1"
  }
 },
 "nbformat": 4,
 "nbformat_minor": 2
}
