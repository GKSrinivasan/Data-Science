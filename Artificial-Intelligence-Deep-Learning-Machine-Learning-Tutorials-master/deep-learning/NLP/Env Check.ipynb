{
 "cells": [
  {
   "cell_type": "code",
   "execution_count": 3,
   "metadata": {},
   "outputs": [
    {
     "name": "stdout",
     "output_type": "stream",
     "text": [
      "You are all set\n"
     ]
    }
   ],
   "source": [
    "import os\n",
    "from nltk.tokenize import word_tokenize\n",
    "from nltk.corpus import stopwords\n",
    "from nltk import ngrams\n",
    "import string\n",
    "from nltk.stem import PorterStemmer\n",
    "import matplotlib.pyplot as plt\n",
    "from wordcloud import WordCloud\n",
    "from collections import Counter\n",
    "from sklearn.feature_extraction.text import TfidfVectorizer\n",
    "from sklearn.svm import LinearSVC\n",
    "from sklearn.feature_extraction.text import TfidfVectorizer\n",
    "from sklearn.svm import LinearSVC\n",
    "from pprint import pprint\n",
    "from sklearn.preprocessing import MultiLabelBinarizer\n",
    "from sklearn.multiclass import OneVsRestClassifier\n",
    "from sklearn.metrics import f1_score, precision_score, recall_score\n",
    "from nltk.corpus import reuters\n",
    "from operator import itemgetter\n",
    "\n",
    "\n",
    "# Test that verifies that the imports don't fail and that we have the correct files from nltk downloaded\n",
    "reuters.fileids()\n",
    "stopwords.words('english')\n",
    "word_tokenize('This is just a test')\n",
    "\n",
    "print('You are all set')"
   ]
  },
  {
   "cell_type": "code",
   "execution_count": 2,
   "metadata": {},
   "outputs": [
    {
     "name": "stdout",
     "output_type": "stream",
     "text": [
      "Requirement already satisfied: wordcloud in /Users/tarrysingh/anaconda/lib/python3.6/site-packages\n",
      "Requirement already satisfied: numpy>=1.6.1 in /Users/tarrysingh/anaconda/lib/python3.6/site-packages (from wordcloud)\n",
      "Requirement already satisfied: pillow in /Users/tarrysingh/anaconda/lib/python3.6/site-packages (from wordcloud)\n",
      "Requirement already satisfied: matplotlib in /Users/tarrysingh/anaconda/lib/python3.6/site-packages (from wordcloud)\n",
      "Requirement already satisfied: olefile in /Users/tarrysingh/anaconda/lib/python3.6/site-packages (from pillow->wordcloud)\n",
      "Requirement already satisfied: six>=1.10 in /Users/tarrysingh/anaconda/lib/python3.6/site-packages (from matplotlib->wordcloud)\n",
      "Requirement already satisfied: python-dateutil in /Users/tarrysingh/anaconda/lib/python3.6/site-packages (from matplotlib->wordcloud)\n",
      "Requirement already satisfied: pytz in /Users/tarrysingh/anaconda/lib/python3.6/site-packages (from matplotlib->wordcloud)\n",
      "Requirement already satisfied: cycler>=0.10 in /Users/tarrysingh/anaconda/lib/python3.6/site-packages (from matplotlib->wordcloud)\n",
      "Requirement already satisfied: pyparsing!=2.0.4,!=2.1.2,!=2.1.6,>=1.5.6 in /Users/tarrysingh/anaconda/lib/python3.6/site-packages (from matplotlib->wordcloud)\n"
     ]
    }
   ],
   "source": [
    "! pip install wordcloud"
   ]
  },
  {
   "cell_type": "code",
   "execution_count": null,
   "metadata": {
    "collapsed": true
   },
   "outputs": [],
   "source": []
  }
 ],
 "metadata": {
  "kernelspec": {
   "display_name": "Python 3",
   "language": "python",
   "name": "python3"
  },
  "language_info": {
   "codemirror_mode": {
    "name": "ipython",
    "version": 3
   },
   "file_extension": ".py",
   "mimetype": "text/x-python",
   "name": "python",
   "nbconvert_exporter": "python",
   "pygments_lexer": "ipython3",
   "version": "3.6.1"
  }
 },
 "nbformat": 4,
 "nbformat_minor": 2
}
