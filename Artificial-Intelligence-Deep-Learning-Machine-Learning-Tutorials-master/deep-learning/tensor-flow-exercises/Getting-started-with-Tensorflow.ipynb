{
 "cells": [
  {
   "cell_type": "markdown",
   "metadata": {},
   "source": [
    "## Getting started with TensorFlow\n",
    "Getting Started With TensorFlow\n",
    "\n",
    "This guide gets you started programming in TensorFlow. Before using this guide, install TensorFlow. To get the most out of this guide, you should know the following:\n",
    "\n",
    "How to program in Python.\n",
    "At least a little bit about arrays.\n",
    "Ideally, something about machine learning. However, if you know little or nothing about machine learning, then this is still the first guide you should read.\n",
    "TensorFlow provides multiple APIs. The lowest level API--TensorFlow Core-- provides you with complete programming control. We recommend TensorFlow Core for machine learning researchers and others who require fine levels of control over their models. The higher level APIs are built on top of TensorFlow Core. These higher level APIs are typically easier to learn and use than TensorFlow Core. In addition, the higher level APIs make repetitive tasks easier and more consistent between different users. A high-level API like tf.contrib.learn helps you manage data sets, estimators, training and inference. Note that a few of the high-level TensorFlow APIs--those whose method names contain contrib-- are still in development. It is possible that some contrib methods will change or become obsolete in subsequent TensorFlow releases.\n",
    "\n",
    "This guide begins with a tutorial on TensorFlow Core. Later, we demonstrate how to implement the same model in tf.contrib.learn. Knowing TensorFlow Core principles will give you a great mental model of how things are working internally when you use the more compact higher level API.\n",
    "\n",
    "### Tensors\n",
    "\n",
    "The central unit of data in TensorFlow is the tensor. A tensor consists of a set of primitive values shaped into an array of any number of dimensions. A tensor's rank is its number of dimensions. Here are some examples of tensors:\n",
    "\n",
    "3 # a rank 0 tensor; this is a scalar with shape []\n",
    "[1. ,2., 3.] # a rank 1 tensor; this is a vector with shape [3]\n",
    "[[1., 2., 3.], [4., 5., 6.]] # a rank 2 tensor; a matrix with shape [2, 3]\n",
    "[[[1., 2., 3.]], [[7., 8., 9.]]] # a rank 3 tensor with shape [2, 1, 3]\n",
    "\n",
    "For more info\n",
    "\n",
    "https://www.tensorflow.org/get_started/get_started#the_computational_graph"
   ]
  },
  {
   "cell_type": "code",
   "execution_count": 1,
   "metadata": {
    "collapsed": true
   },
   "outputs": [],
   "source": [
    "import tensorflow as tf\n",
    "import numpy as np"
   ]
  },
  {
   "cell_type": "code",
   "execution_count": 3,
   "metadata": {
    "collapsed": true
   },
   "outputs": [],
   "source": [
    "# Model parameters\n",
    "W = tf.Variable([.3], dtype=tf.float32)\n",
    "b = tf.Variable([-.3], dtype=tf.float32)"
   ]
  },
  {
   "cell_type": "code",
   "execution_count": 4,
   "metadata": {
    "collapsed": true
   },
   "outputs": [],
   "source": [
    "# Model imput and output\n",
    "x = tf.placeholder(tf.float32)\n",
    "linear_model = W*x+b\n",
    "y = tf.placeholder(tf.float32)"
   ]
  },
  {
   "cell_type": "code",
   "execution_count": 5,
   "metadata": {
    "collapsed": true
   },
   "outputs": [],
   "source": [
    "#loss\n",
    "loss = tf.reduce_sum(tf.square(linear_model-y)) #sum of the suqares RSSE"
   ]
  },
  {
   "cell_type": "code",
   "execution_count": 6,
   "metadata": {
    "collapsed": true
   },
   "outputs": [],
   "source": [
    "#optimizer\n",
    "optimizer = tf.train.GradientDescentOptimizer(0.01)\n",
    "train = optimizer.minimize(loss)"
   ]
  },
  {
   "cell_type": "code",
   "execution_count": 7,
   "metadata": {
    "collapsed": true
   },
   "outputs": [],
   "source": [
    "# trainnig data\n",
    "x_train = [1,2,3,4]\n",
    "y_train = [0,-1,-2,-3]"
   ]
  },
  {
   "cell_type": "code",
   "execution_count": 9,
   "metadata": {
    "collapsed": true
   },
   "outputs": [],
   "source": [
    "# training loop\n",
    "init = tf.global_variables_initializer()\n",
    "sess = tf.Session()\n",
    "sess.run(init) #reset values to wrong\n",
    "for i in range(1000):\n",
    "    sess.run(train, {x:x_train, y:y_train})"
   ]
  },
  {
   "cell_type": "code",
   "execution_count": 10,
   "metadata": {},
   "outputs": [
    {
     "name": "stdout",
     "output_type": "stream",
     "text": [
      "W: [-0.9999969] b: [ 0.99999082] loss: 5.69997e-11\n"
     ]
    }
   ],
   "source": [
    "#evaluate training accuracy\n",
    "curr_W, curr_b, curr_loss = sess.run([W,b,loss], {x:x_train, y:y_train})\n",
    "print('W: %s b: %s loss: %s'%(curr_W, curr_b, curr_loss))"
   ]
  },
  {
   "cell_type": "code",
   "execution_count": 11,
   "metadata": {},
   "outputs": [
    {
     "name": "stdout",
     "output_type": "stream",
     "text": [
      "INFO:tensorflow:Using default config.\n",
      "WARNING:tensorflow:Using temporary folder as model directory: /var/folders/23/6q1218md0m9dq343vm842bmc0000gn/T/tmp12oqbfkd\n",
      "INFO:tensorflow:Using config: {'_task_type': None, '_task_id': 0, '_cluster_spec': <tensorflow.python.training.server_lib.ClusterSpec object at 0x11b649a58>, '_master': '', '_num_ps_replicas': 0, '_num_worker_replicas': 0, '_environment': 'local', '_is_chief': True, '_evaluation_master': '', '_tf_config': gpu_options {\n",
      "  per_process_gpu_memory_fraction: 1\n",
      "}\n",
      ", '_tf_random_seed': None, '_save_summary_steps': 100, '_save_checkpoints_secs': 600, '_log_step_count_steps': 100, '_session_config': None, '_save_checkpoints_steps': None, '_keep_checkpoint_max': 5, '_keep_checkpoint_every_n_hours': 10000, '_model_dir': '/var/folders/23/6q1218md0m9dq343vm842bmc0000gn/T/tmp12oqbfkd'}\n",
      "WARNING:tensorflow:From /Users/tarrysingh/anaconda/lib/python3.6/site-packages/tensorflow/contrib/learn/python/learn/estimators/head.py:642: scalar_summary (from tensorflow.python.ops.logging_ops) is deprecated and will be removed after 2016-11-30.\n",
      "Instructions for updating:\n",
      "Please switch to tf.summary.scalar. Note that tf.summary.scalar uses the node name instead of the tag. This means that TensorFlow will automatically de-duplicate summary names based on the scope they are created in. Also, passing a tensor or list of tags to a scalar summary op is no longer supported.\n",
      "INFO:tensorflow:Create CheckpointSaverHook.\n",
      "INFO:tensorflow:Saving checkpoints for 1 into /var/folders/23/6q1218md0m9dq343vm842bmc0000gn/T/tmp12oqbfkd/model.ckpt.\n",
      "INFO:tensorflow:loss = 0.0, step = 1\n",
      "INFO:tensorflow:global_step/sec: 1339.89\n",
      "INFO:tensorflow:loss = 0.0629402, step = 101 (0.077 sec)\n",
      "INFO:tensorflow:global_step/sec: 1476.1\n",
      "INFO:tensorflow:loss = 0.0594314, step = 201 (0.068 sec)\n",
      "INFO:tensorflow:global_step/sec: 1438.12\n",
      "INFO:tensorflow:loss = 0.013545, step = 301 (0.069 sec)\n",
      "INFO:tensorflow:global_step/sec: 1440.63\n",
      "INFO:tensorflow:loss = 0.00308352, step = 401 (0.068 sec)\n",
      "INFO:tensorflow:global_step/sec: 1343.96\n",
      "INFO:tensorflow:loss = 0.00126576, step = 501 (0.074 sec)\n",
      "INFO:tensorflow:global_step/sec: 1336.65\n",
      "INFO:tensorflow:loss = 0.000102853, step = 601 (0.075 sec)\n",
      "INFO:tensorflow:global_step/sec: 1183.32\n",
      "INFO:tensorflow:loss = 4.51106e-05, step = 701 (0.085 sec)\n",
      "INFO:tensorflow:global_step/sec: 1295.09\n",
      "INFO:tensorflow:loss = 2.49627e-05, step = 801 (0.077 sec)\n",
      "INFO:tensorflow:global_step/sec: 1721.05\n",
      "INFO:tensorflow:loss = 5.63728e-06, step = 901 (0.058 sec)\n",
      "INFO:tensorflow:Saving checkpoints for 1000 into /var/folders/23/6q1218md0m9dq343vm842bmc0000gn/T/tmp12oqbfkd/model.ckpt.\n",
      "INFO:tensorflow:Loss for final step: 1.56215e-06.\n",
      "WARNING:tensorflow:From /Users/tarrysingh/anaconda/lib/python3.6/site-packages/tensorflow/contrib/learn/python/learn/estimators/head.py:642: scalar_summary (from tensorflow.python.ops.logging_ops) is deprecated and will be removed after 2016-11-30.\n",
      "Instructions for updating:\n",
      "Please switch to tf.summary.scalar. Note that tf.summary.scalar uses the node name instead of the tag. This means that TensorFlow will automatically de-duplicate summary names based on the scope they are created in. Also, passing a tensor or list of tags to a scalar summary op is no longer supported.\n",
      "INFO:tensorflow:Starting evaluation at 2017-07-16-12:51:52\n",
      "INFO:tensorflow:Restoring parameters from /var/folders/23/6q1218md0m9dq343vm842bmc0000gn/T/tmp12oqbfkd/model.ckpt-1000\n",
      "INFO:tensorflow:Finished evaluation at 2017-07-16-12:51:53\n",
      "INFO:tensorflow:Saving dict for global step 1000: global_step = 1000, loss = 1.70255e-06\n",
      "WARNING:tensorflow:From /Users/tarrysingh/anaconda/lib/python3.6/site-packages/tensorflow/contrib/learn/python/learn/estimators/head.py:642: scalar_summary (from tensorflow.python.ops.logging_ops) is deprecated and will be removed after 2016-11-30.\n",
      "Instructions for updating:\n",
      "Please switch to tf.summary.scalar. Note that tf.summary.scalar uses the node name instead of the tag. This means that TensorFlow will automatically de-duplicate summary names based on the scope they are created in. Also, passing a tensor or list of tags to a scalar summary op is no longer supported.\n",
      "INFO:tensorflow:Starting evaluation at 2017-07-16-12:51:53\n",
      "INFO:tensorflow:Restoring parameters from /var/folders/23/6q1218md0m9dq343vm842bmc0000gn/T/tmp12oqbfkd/model.ckpt-1000\n",
      "INFO:tensorflow:Finished evaluation at 2017-07-16-12:51:54\n",
      "INFO:tensorflow:Saving dict for global step 1000: global_step = 1000, loss = 0.00266949\n",
      "train loss: {'loss': 1.7025455e-06, 'global_step': 1000}\n",
      "eval loss: {'loss': 0.0026694918, 'global_step': 1000}\n"
     ]
    }
   ],
   "source": [
    "# Declare list of features. We only have one real-valued feature. There are many\n",
    "# other types of columns that are more complicated and useful.\n",
    "features = [tf.contrib.layers.real_valued_column(\"x\", dimension=1)]\n",
    "\n",
    "# An estimator is the front end to invoke training (fitting) and evaluation\n",
    "# (inference). There are many predefined types like linear regression,\n",
    "# logistic regression, linear classification, logistic classification, and\n",
    "# many neural network classifiers and regressors. The following code\n",
    "# provides an estimator that does linear regression.\n",
    "estimator = tf.contrib.learn.LinearRegressor(feature_columns=features)\n",
    "\n",
    "# TensorFlow provides many helper methods to read and set up data sets.\n",
    "# Here we use two data sets: one for training and one for evaluation\n",
    "# We have to tell the function how many batches\n",
    "# of data (num_epochs) we want and how big each batch should be.\n",
    "x_train = np.array([1., 2., 3., 4.])\n",
    "y_train = np.array([0., -1., -2., -3.])\n",
    "x_eval = np.array([2., 5., 8., 1.])\n",
    "y_eval = np.array([-1.01, -4.1, -7, 0.])\n",
    "input_fn = tf.contrib.learn.io.numpy_input_fn({\"x\":x_train}, y_train,\n",
    "                                              batch_size=4,\n",
    "                                              num_epochs=1000)\n",
    "eval_input_fn = tf.contrib.learn.io.numpy_input_fn(\n",
    "    {\"x\":x_eval}, y_eval, batch_size=4, num_epochs=1000)\n",
    "\n",
    "# We can invoke 1000 training steps by invoking the  method and passing the\n",
    "# training data set.\n",
    "estimator.fit(input_fn=input_fn, steps=1000)\n",
    "\n",
    "# Here we evaluate how well our model did.\n",
    "train_loss = estimator.evaluate(input_fn=input_fn)\n",
    "eval_loss = estimator.evaluate(input_fn=eval_input_fn)\n",
    "print(\"train loss: %r\"% train_loss)\n",
    "print(\"eval loss: %r\"% eval_loss)"
   ]
  },
  {
   "cell_type": "code",
   "execution_count": 12,
   "metadata": {},
   "outputs": [
    {
     "name": "stdout",
     "output_type": "stream",
     "text": [
      "INFO:tensorflow:Using default config.\n",
      "WARNING:tensorflow:Using temporary folder as model directory: /var/folders/23/6q1218md0m9dq343vm842bmc0000gn/T/tmpaw_q3dru\n",
      "INFO:tensorflow:Using config: {'_task_type': None, '_task_id': 0, '_cluster_spec': <tensorflow.python.training.server_lib.ClusterSpec object at 0x11bf81f60>, '_master': '', '_num_ps_replicas': 0, '_num_worker_replicas': 0, '_environment': 'local', '_is_chief': True, '_evaluation_master': '', '_tf_config': gpu_options {\n",
      "  per_process_gpu_memory_fraction: 1\n",
      "}\n",
      ", '_tf_random_seed': None, '_save_summary_steps': 100, '_save_checkpoints_secs': 600, '_log_step_count_steps': 100, '_session_config': None, '_save_checkpoints_steps': None, '_keep_checkpoint_max': 5, '_keep_checkpoint_every_n_hours': 10000, '_model_dir': '/var/folders/23/6q1218md0m9dq343vm842bmc0000gn/T/tmpaw_q3dru'}\n",
      "INFO:tensorflow:Create CheckpointSaverHook.\n",
      "INFO:tensorflow:Saving checkpoints for 1 into /var/folders/23/6q1218md0m9dq343vm842bmc0000gn/T/tmpaw_q3dru/model.ckpt.\n",
      "INFO:tensorflow:loss = 27.3902514693, step = 1\n",
      "INFO:tensorflow:global_step/sec: 1321.89\n",
      "INFO:tensorflow:loss = 0.0984034262743, step = 101 (0.079 sec)\n",
      "INFO:tensorflow:global_step/sec: 1390.66\n",
      "INFO:tensorflow:loss = 0.0102844820634, step = 201 (0.071 sec)\n",
      "INFO:tensorflow:global_step/sec: 1374.58\n",
      "INFO:tensorflow:loss = 0.00143467850435, step = 301 (0.073 sec)\n",
      "INFO:tensorflow:global_step/sec: 1383.41\n",
      "INFO:tensorflow:loss = 6.15873409103e-05, step = 401 (0.073 sec)\n",
      "INFO:tensorflow:global_step/sec: 1439.01\n",
      "INFO:tensorflow:loss = 5.4181989346e-06, step = 501 (0.068 sec)\n",
      "INFO:tensorflow:global_step/sec: 1441.84\n",
      "INFO:tensorflow:loss = 1.01271692435e-07, step = 601 (0.069 sec)\n",
      "INFO:tensorflow:global_step/sec: 1422.72\n",
      "INFO:tensorflow:loss = 2.41026606984e-08, step = 701 (0.070 sec)\n",
      "INFO:tensorflow:global_step/sec: 1451.25\n",
      "INFO:tensorflow:loss = 2.22637831331e-09, step = 801 (0.068 sec)\n",
      "INFO:tensorflow:global_step/sec: 1814.26\n",
      "INFO:tensorflow:loss = 5.88383642992e-10, step = 901 (0.055 sec)\n",
      "INFO:tensorflow:Saving checkpoints for 1000 into /var/folders/23/6q1218md0m9dq343vm842bmc0000gn/T/tmpaw_q3dru/model.ckpt.\n",
      "INFO:tensorflow:Loss for final step: 3.04462472386e-11.\n",
      "INFO:tensorflow:Starting evaluation at 2017-07-16-12:53:10\n",
      "INFO:tensorflow:Restoring parameters from /var/folders/23/6q1218md0m9dq343vm842bmc0000gn/T/tmpaw_q3dru/model.ckpt-1000\n",
      "INFO:tensorflow:Finished evaluation at 2017-07-16-12:53:11\n",
      "INFO:tensorflow:Saving dict for global step 1000: global_step = 1000, loss = 4.74475e-11\n",
      "INFO:tensorflow:Starting evaluation at 2017-07-16-12:53:11\n",
      "INFO:tensorflow:Restoring parameters from /var/folders/23/6q1218md0m9dq343vm842bmc0000gn/T/tmpaw_q3dru/model.ckpt-1000\n",
      "INFO:tensorflow:Finished evaluation at 2017-07-16-12:53:12\n",
      "INFO:tensorflow:Saving dict for global step 1000: global_step = 1000, loss = 0.0101016\n",
      "train loss: {'loss': 4.7447483e-11, 'global_step': 1000}\n",
      "eval loss: {'loss': 0.01010162, 'global_step': 1000}\n"
     ]
    }
   ],
   "source": [
    "import numpy as np\n",
    "import tensorflow as tf\n",
    "# Declare list of features, we only have one real-valued feature\n",
    "def model(features, labels, mode):\n",
    "  # Build a linear model and predict values\n",
    "  W = tf.get_variable(\"W\", [1], dtype=tf.float64)\n",
    "  b = tf.get_variable(\"b\", [1], dtype=tf.float64)\n",
    "  y = W*features['x'] + b\n",
    "  # Loss sub-graph\n",
    "  loss = tf.reduce_sum(tf.square(y - labels))\n",
    "  # Training sub-graph\n",
    "  global_step = tf.train.get_global_step()\n",
    "  optimizer = tf.train.GradientDescentOptimizer(0.01)\n",
    "  train = tf.group(optimizer.minimize(loss),\n",
    "                   tf.assign_add(global_step, 1))\n",
    "  # ModelFnOps connects subgraphs we built to the\n",
    "  # appropriate functionality.\n",
    "  return tf.contrib.learn.ModelFnOps(\n",
    "      mode=mode, predictions=y,\n",
    "      loss=loss,\n",
    "      train_op=train)\n",
    "\n",
    "estimator = tf.contrib.learn.Estimator(model_fn=model)\n",
    "# define our data sets\n",
    "x_train = np.array([1., 2., 3., 4.])\n",
    "y_train = np.array([0., -1., -2., -3.])\n",
    "x_eval = np.array([2., 5., 8., 1.])\n",
    "y_eval = np.array([-1.01, -4.1, -7, 0.])\n",
    "input_fn = tf.contrib.learn.io.numpy_input_fn({\"x\": x_train}, y_train, 4, num_epochs=1000)\n",
    "\n",
    "# train\n",
    "estimator.fit(input_fn=input_fn, steps=1000)\n",
    "# Here we evaluate how well our model did. \n",
    "train_loss = estimator.evaluate(input_fn=input_fn)\n",
    "eval_loss = estimator.evaluate(input_fn=eval_input_fn)\n",
    "print(\"train loss: %r\"% train_loss)\n",
    "print(\"eval loss: %r\"% eval_loss)"
   ]
  },
  {
   "cell_type": "code",
   "execution_count": null,
   "metadata": {
    "collapsed": true
   },
   "outputs": [],
   "source": []
  }
 ],
 "metadata": {
  "kernelspec": {
   "display_name": "Python 3",
   "language": "python",
   "name": "python3"
  },
  "language_info": {
   "codemirror_mode": {
    "name": "ipython",
    "version": 3
   },
   "file_extension": ".py",
   "mimetype": "text/x-python",
   "name": "python",
   "nbconvert_exporter": "python",
   "pygments_lexer": "ipython3",
   "version": "3.6.1"
  }
 },
 "nbformat": 4,
 "nbformat_minor": 2
}
