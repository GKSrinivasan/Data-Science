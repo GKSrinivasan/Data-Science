{
 "cells": [
  {
   "cell_type": "markdown",
   "metadata": {},
   "source": [
    "# Posterior Sampling for Gaussian Mixture Model with CRP using Gibbs sampler\n",
    "\n",
    "Reference: https://pdfs.semanticscholar.org/9ece/0336316d78837076ef048f3d07e953e38072.pdf"
   ]
  },
  {
   "cell_type": "code",
   "execution_count": 1,
   "metadata": {
    "collapsed": true
   },
   "outputs": [],
   "source": [
    "import numpy as np\n",
    "import scipy.stats as stats\n",
    "import matplotlib.pyplot as plt"
   ]
  },
  {
   "cell_type": "code",
   "execution_count": 2,
   "metadata": {},
   "outputs": [
    {
     "data": {
      "text/plain": [
       "array([[  6.38718904,   6.26744299],\n",
       "       [  4.91069596,   5.05729021],\n",
       "       [  5.6358458 ,   3.76841987],\n",
       "       [  4.69085752,   5.87209214],\n",
       "       [  4.51370654,   4.57976556],\n",
       "       [  5.22511027,   3.26420955],\n",
       "       [  4.30695956,   4.99733247],\n",
       "       [  5.67752375,   4.59798902],\n",
       "       [  4.76786938,   5.29183611],\n",
       "       [  5.68605653,   5.48175125],\n",
       "       [  4.5712212 ,   5.86214207],\n",
       "       [  4.37396308,   4.22177446],\n",
       "       [  5.48148715,   5.54768881],\n",
       "       [  6.22246802,   5.58785939],\n",
       "       [  4.59196756,   4.83510177],\n",
       "       [  4.77665056,   5.37374645],\n",
       "       [  4.41072153,   4.11089838],\n",
       "       [  4.37349841,   3.96235133],\n",
       "       [  4.98377582,   5.64058177],\n",
       "       [  4.94854768,   6.42038406],\n",
       "       [  7.29714298,   7.02506548],\n",
       "       [  8.43446672,   7.97241902],\n",
       "       [  7.88298324,   7.55896888],\n",
       "       [  8.90127699,   8.46433482],\n",
       "       [  9.37849218,   8.01302645],\n",
       "       [  8.69586662,   7.59193842],\n",
       "       [  7.73618367,   8.13888114],\n",
       "       [  8.28239825,   8.07133091],\n",
       "       [  8.04823711,   8.55966501],\n",
       "       [  7.56427516,   7.06953573],\n",
       "       [  8.30175242,   7.07262052],\n",
       "       [  7.32714652,   9.24490819],\n",
       "       [  7.70322135,   8.62088795],\n",
       "       [  7.92745386,   8.64154538],\n",
       "       [  8.43446148,   7.79757988],\n",
       "       [  7.61779693,   8.64818687],\n",
       "       [  8.63158978,   8.83780836],\n",
       "       [  9.12116043,   8.08889186],\n",
       "       [  8.92570313,   7.37272735],\n",
       "       [  7.27698376,   9.34061205],\n",
       "       [ 20.12610329,  19.27838637],\n",
       "       [ 20.85319119,  20.54128886],\n",
       "       [ 20.22716299,  19.75025435],\n",
       "       [ 19.05749074,  20.27508139],\n",
       "       [ 20.69283531,  19.26247796],\n",
       "       [ 20.59528468,  20.57555103],\n",
       "       [ 20.13364517,  19.32872786],\n",
       "       [ 21.02789898,  20.61969523],\n",
       "       [ 19.91443049,  19.87489443],\n",
       "       [ 18.99676176,  19.31568962]])"
      ]
     },
     "execution_count": 2,
     "metadata": {},
     "output_type": "execute_result"
    }
   ],
   "source": [
    "# Lets generate some data\n",
    "X1 = np.random.multivariate_normal([5, 5], np.diag([0.5, 0.5]), size=20)\n",
    "X2 = np.random.multivariate_normal([8, 8], np.diag([0.5, 0.5]), size=20)\n",
    "X3 = np.random.multivariate_normal([20, 20], np.diag([0.5, 0.5]), size=10)\n",
    "\n",
    "X = np.vstack([X1, X2, X3])\n",
    "\n",
    "X"
   ]
  },
  {
   "cell_type": "code",
   "execution_count": 4,
   "metadata": {
    "collapsed": true
   },
   "outputs": [],
   "source": [
    "N, D = X.shape"
   ]
  },
  {
   "cell_type": "code",
   "execution_count": 5,
   "metadata": {
    "collapsed": true
   },
   "outputs": [],
   "source": [
    "# GMM paramters\n",
    "mus = [] # This lists a 2x1 vector (mean vector of each gaussian)\n",
    "sigma = np.eye(D)\n",
    "precision = np.linalg.inv(sigma)\n",
    "zs = np.zeros([N], dtype=int)\n",
    "C = [] # Cluster, bu=inary matrix of KxM\n",
    "Ns = [] # Count of each cluster"
   ]
  },
  {
   "cell_type": "code",
   "execution_count": 6,
   "metadata": {},
   "outputs": [
    {
     "data": {
      "text/plain": [
       "array([[ 1.,  0.],\n",
       "       [ 0.,  1.]])"
      ]
     },
     "execution_count": 6,
     "metadata": {},
     "output_type": "execute_result"
    }
   ],
   "source": [
    "sigma"
   ]
  },
  {
   "cell_type": "code",
   "execution_count": 7,
   "metadata": {},
   "outputs": [
    {
     "data": {
      "text/plain": [
       "array([[ 1.,  0.],\n",
       "       [ 0.,  1.]])"
      ]
     },
     "execution_count": 7,
     "metadata": {},
     "output_type": "execute_result"
    }
   ],
   "source": [
    "precision"
   ]
  },
  {
   "cell_type": "code",
   "execution_count": 8,
   "metadata": {},
   "outputs": [
    {
     "data": {
      "text/plain": [
       "array([0, 0, 0, 0, 0, 0, 0, 0, 0, 0, 0, 0, 0, 0, 0, 0, 0, 0, 0, 0, 0, 0, 0,\n",
       "       0, 0, 0, 0, 0, 0, 0, 0, 0, 0, 0, 0, 0, 0, 0, 0, 0, 0, 0, 0, 0, 0, 0,\n",
       "       0, 0, 0, 0])"
      ]
     },
     "execution_count": 8,
     "metadata": {},
     "output_type": "execute_result"
    }
   ],
   "source": [
    "zs"
   ]
  },
  {
   "cell_type": "code",
   "execution_count": 9,
   "metadata": {
    "collapsed": true
   },
   "outputs": [],
   "source": [
    "# CRP prior\n",
    "alpha = 200"
   ]
  },
  {
   "cell_type": "code",
   "execution_count": 10,
   "metadata": {
    "collapsed": true
   },
   "outputs": [],
   "source": [
    "# Base distribution prior: N(mutheta, precisiontheta)\n",
    "mu_theta = np.ones(D)\n",
    "sigma_theta = np.eye(D)\n",
    "precision_theta = np.linalg.inv(np.eye(D))\n",
    "G_theta = stats.multivariate_normal(mean=mu_theta, cov=np.eye(D))"
   ]
  },
  {
   "cell_type": "code",
   "execution_count": 11,
   "metadata": {
    "collapsed": true
   },
   "outputs": [],
   "source": [
    "# Initiate the ONE cluster\n",
    "C.append(np.ones(N, dtype=int))\n",
    "zs[:] = 0\n",
    "Ns.append(N)\n",
    "mus.append(G_theta.rvs())\n",
    "\n",
    "K = 1\n",
    "mvn = stats.multivariate_normal"
   ]
  },
  {
   "cell_type": "code",
   "execution_count": 15,
   "metadata": {},
   "outputs": [],
   "source": [
    "# Gibbs sampler\n",
    "for it in range(20):\n",
    "    # here we sample from full conditional of assignment from CRP prior\n",
    "    # z ~ GEM(alpha)\n",
    "    # Now, for each data point, draw a cluster assignment\n",
    "    for i in range(N):\n",
    "         # Remove assignment from cluster\n",
    "        # ------------------------------\n",
    "\n",
    "        zi = zs[i]\n",
    "        C[zi][i] = 0\n",
    "        Ns[zi] -= 1\n",
    "\n",
    "        # If empty, remove cluster\n",
    "        if Ns[zi] == 0:\n",
    "            # Fix indices\n",
    "            zs[zs > zi] -= 1\n",
    "\n",
    "            # Delete cluster\n",
    "            del C[zi]\n",
    "            del Ns[zi]\n",
    "            del mus[zi]\n",
    "\n",
    "            # Decrement cluster count\n",
    "            K -= 1\n",
    "\n",
    "        # Draw new assignment zi weighted by CRP prior\n",
    "        # --------------------------------------------\n",
    "\n",
    "        probs = np.zeros(K + 1)\n",
    "        zs_minus_i = zs[np.arange(len(zs)) != i]\n",
    "\n",
    "        # Probs of joining existing cluster\n",
    "        for k in range(K):\n",
    "            nk_minus = zs_minus_i[zs_minus_i == k].shape[0]\n",
    "            crp = nk_minus / (N + alpha - 1)\n",
    "            probs[k] = crp * mvn.pdf(X[i], mus[k], sigma)\n",
    "\n",
    "        # Prob of creating new cluster\n",
    "        crp = alpha / (N + alpha - 1)\n",
    "        lik = mvn.pdf(X[i], mu_theta, sigma_theta + sigma)  # marginal dist. of x\n",
    "        probs[K] = crp*lik\n",
    "\n",
    "        # Normalize\n",
    "        probs /= np.sum(probs)\n",
    "\n",
    "        # Draw new assignment for i\n",
    "        z = np.random.multinomial(n=1, pvals=probs).argmax()\n",
    "\n",
    "        # Update assignment trackers\n",
    "        if z == K:\n",
    "            C.append(np.zeros(N, dtype=int))\n",
    "            Ns.append(0)\n",
    "            mus.append(G_theta.rvs())\n",
    "            K += 1\n",
    "\n",
    "        zs[i] = z\n",
    "        C[z][i] = 1\n",
    "        Ns[z] += 1\n",
    "\n",
    "    # -------------------------------------------------\n",
    "    # Sample from full conditional of cluster parameter\n",
    "    # -------------------------------------------------\n",
    "\n",
    "    # Assume fixed covariance => posterior is Normal\n",
    "    # mu ~ N(mu, sigma)\n",
    "    for k in range(K):\n",
    "        Xk = X[zs == k]\n",
    "        Ns[k] = Xk.shape[0]\n",
    "\n",
    "        # Covariance of posterior\n",
    "        lambda_post = precision_theta + Ns[k]*precision\n",
    "        cov_post = np.linalg.inv(lambda_post)\n",
    "\n",
    "        # Mean of posterior\n",
    "        left = cov_post\n",
    "        right = precision_theta @ mu_theta + Ns[k]*precision @ np.mean(Xk, axis=0)\n",
    "        mus_post = left @ right\n",
    "\n",
    "        # Draw new mean sample from posterior\n",
    "        mus[k] = mvn.rvs(mus_post, cov_post)"
   ]
  },
  {
   "cell_type": "markdown",
   "metadata": {},
   "source": [
    "##  Even though we only initialize with one cluster, the result should be:\n",
    "\n",
    " **Expected output:**\n",
    "``` python \n",
    "20 data in cluster-0, mean: [ 5  5 ]\n",
    "20 data in cluster-1, mean: [ 8  8 ]\n",
    "10 data in cluster-2, mean: [ 20  20 ]\n",
    "```\n",
    "\n",
    " Note: cluster label is exchangeable"
   ]
  },
  {
   "cell_type": "code",
   "execution_count": 17,
   "metadata": {},
   "outputs": [
    {
     "name": "stdout",
     "output_type": "stream",
     "text": [
      "19 data in cluster-0, mean: [ 4.5457113   4.93233594]\n",
      "21 data in cluster-1, mean: [ 8.25548463  7.50082634]\n",
      "10 data in cluster-2, mean: [ 18.60459256  18.30911234]\n"
     ]
    }
   ],
   "source": [
    "for k in range(K):\n",
    "    print('{} data in cluster-{}, mean: {}'.format(Ns[k], k, mus[k]))"
   ]
  },
  {
   "cell_type": "code",
   "execution_count": null,
   "metadata": {
    "collapsed": true
   },
   "outputs": [],
   "source": []
  }
 ],
 "metadata": {
  "kernelspec": {
   "display_name": "Python 3",
   "language": "python",
   "name": "python3"
  },
  "language_info": {
   "codemirror_mode": {
    "name": "ipython",
    "version": 3
   },
   "file_extension": ".py",
   "mimetype": "text/x-python",
   "name": "python",
   "nbconvert_exporter": "python",
   "pygments_lexer": "ipython3",
   "version": "3.6.1"
  }
 },
 "nbformat": 4,
 "nbformat_minor": 2
}
