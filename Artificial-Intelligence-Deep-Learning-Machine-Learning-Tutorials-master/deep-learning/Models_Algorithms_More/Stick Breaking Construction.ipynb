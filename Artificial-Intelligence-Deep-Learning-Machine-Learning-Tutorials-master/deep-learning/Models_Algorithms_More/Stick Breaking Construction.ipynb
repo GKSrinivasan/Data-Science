{
 "cells": [
  {
   "cell_type": "markdown",
   "metadata": {},
   "source": [
    "# Stick Breaking Construction\n",
    "\n",
    "Generative story of Stick Breaking process"
   ]
  },
  {
   "cell_type": "code",
   "execution_count": 1,
   "metadata": {
    "collapsed": true
   },
   "outputs": [],
   "source": [
    "import numpy as np"
   ]
  },
  {
   "cell_type": "code",
   "execution_count": 2,
   "metadata": {
    "collapsed": true
   },
   "outputs": [],
   "source": [
    "alpha = 1 # Dirichtlet prior\n",
    "num_clusters = 100 # number of clusters\n",
    "G = lambda: np.random.normal() # base distribution, theta ~ G\n",
    "thetas = np.zeros(num_clusters) # cluster parameters\n",
    "phis = np.zeros(num_clusters) # cluster mixing weights"
   ]
  },
  {
   "cell_type": "code",
   "execution_count": 3,
   "metadata": {},
   "outputs": [
    {
     "name": "stdout",
     "output_type": "stream",
     "text": [
      "1.0\n"
     ]
    }
   ],
   "source": [
    "prev_v = 1\n",
    "for i in range(num_clusters):\n",
    "    #v ~ Beta (1, alpha)\n",
    "    v = np.random.beta(1, alpha)\n",
    "    # theta ~ G\n",
    "    theta = G()\n",
    "    \n",
    "    thetas[i] = theta\n",
    "    phis[i] = v*prev_v # v_1 \\ prod_{i>1} v_i\n",
    "    \n",
    "    prev_v *= (1 - v)\n",
    "# See if phis sum to one as n_clusters \n",
    "print(np.sum(phis))"
   ]
  },
  {
   "cell_type": "code",
   "execution_count": null,
   "metadata": {
    "collapsed": true
   },
   "outputs": [],
   "source": []
  }
 ],
 "metadata": {
  "kernelspec": {
   "display_name": "Python 3",
   "language": "python",
   "name": "python3"
  },
  "language_info": {
   "codemirror_mode": {
    "name": "ipython",
    "version": 3
   },
   "file_extension": ".py",
   "mimetype": "text/x-python",
   "name": "python",
   "nbconvert_exporter": "python",
   "pygments_lexer": "ipython3",
   "version": "3.6.1"
  }
 },
 "nbformat": 4,
 "nbformat_minor": 2
}
