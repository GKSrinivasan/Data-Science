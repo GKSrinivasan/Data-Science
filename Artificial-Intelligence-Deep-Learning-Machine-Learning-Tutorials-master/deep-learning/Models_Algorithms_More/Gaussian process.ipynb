{
 "cells": [
  {
   "cell_type": "markdown",
   "metadata": {},
   "source": [
    "#  Gaussian Process"
   ]
  },
  {
   "cell_type": "code",
   "execution_count": 1,
   "metadata": {
    "collapsed": true
   },
   "outputs": [],
   "source": [
    "import numpy as np\n",
    "import scipy.stats as st\n",
    "import matplotlib.pyplot as plt"
   ]
  },
  {
   "cell_type": "markdown",
   "metadata": {},
   "source": [
    "## Generate data "
   ]
  },
  {
   "cell_type": "code",
   "execution_count": 2,
   "metadata": {
    "collapsed": true
   },
   "outputs": [],
   "source": [
    "# Generate data\n",
    "M = 3\n",
    "\n",
    "# X = np.linspace(0, 10, num=M)\n",
    "X = np.array([5, 14, 19], dtype=np.float)\n",
    "t_real = np.sin(X)\n",
    "t = t_real + np.random.randn(M) * 0.25\n",
    "\n",
    "\n",
    "def kernel(x1, x2, var=1):\n",
    "    # 1D Gaussian kernel\n",
    "    return np.exp(-(x1 - x2)**2 / (2*var))\n",
    "\n",
    "\n",
    "def gaussian_kernel(x):\n",
    "    phi = kernel(x, X)\n",
    "    return phi"
   ]
  },
  {
   "cell_type": "markdown",
   "metadata": {},
   "source": [
    "## Design matrix "
   ]
  },
  {
   "cell_type": "code",
   "execution_count": 3,
   "metadata": {
    "collapsed": true
   },
   "outputs": [],
   "source": [
    "# Design matrix\n",
    "Phi = np.zeros([M, M])\n",
    "\n",
    "for i, x in enumerate(X):\n",
    "    Phi[i] = gaussian_kernel(x)"
   ]
  },
  {
   "cell_type": "markdown",
   "metadata": {},
   "source": [
    "## Gaussian Process Prior "
   ]
  },
  {
   "cell_type": "code",
   "execution_count": 4,
   "metadata": {
    "collapsed": true
   },
   "outputs": [],
   "source": [
    "# Gaussian process prior\n",
    "# ----------------------\n",
    "# Assume prior p(w) = N(w | 0, alpha*I), alpha := variance\n",
    "\n",
    "# Precisions, hyperparameters\n",
    "alpha = 2  # for p(w), the prior\n",
    "beta = 2  # for p(t|y), the noisy observation\n",
    "\n",
    "y_mean = np.zeros(M)\n",
    "y_cov = 1/alpha * Phi @ Phi.T  # Gram matrix\n",
    "K = y_cov\n",
    "p_y = st.multivariate_normal(mean=y_mean, cov=y_cov, allow_singular=True)\n",
    "\n",
    "# with noise\n",
    "t_mean = np.zeros(M)\n",
    "t_cov = y_cov + 1/beta*np.eye(M)\n",
    "C = t_cov\n",
    "p_t = st.multivariate_normal(mean=y_mean, cov=t_cov, allow_singular=True)\n"
   ]
  },
  {
   "cell_type": "markdown",
   "metadata": {},
   "source": [
    "## Predictive Distribution\n"
   ]
  },
  {
   "cell_type": "code",
   "execution_count": 5,
   "metadata": {
    "collapsed": true
   },
   "outputs": [],
   "source": [
    "N = 100  # num of data points to predict\n",
    "X_prime = np.linspace(0, 20, num=N)\n",
    "\n",
    "# Kernel matrix of X_prime and observation X\n",
    "K_ = np.zeros([N, M])\n",
    "for i, x in enumerate(X_prime):\n",
    "    K_[i] = gaussian_kernel(x)\n",
    "K_ = K_.T  # K_: MxN"
   ]
  },
  {
   "cell_type": "markdown",
   "metadata": {},
   "source": [
    "### Gram matrix for X_prime"
   ]
  },
  {
   "cell_type": "code",
   "execution_count": 6,
   "metadata": {
    "collapsed": true
   },
   "outputs": [],
   "source": [
    "# Gram matrix of X_prime\n",
    "K__ = np.zeros([N, N])\n",
    "for i, x in enumerate(X_prime):\n",
    "    K__[i] = kernel(x, X_prime)"
   ]
  },
  {
   "cell_type": "markdown",
   "metadata": {},
   "source": [
    "### Posterior parameters"
   ]
  },
  {
   "cell_type": "code",
   "execution_count": 7,
   "metadata": {
    "collapsed": true
   },
   "outputs": [],
   "source": [
    "tmp = K_.T @ np.linalg.inv(C)\n",
    "\n",
    "mean = tmp @ t\n",
    "cov = K__ - tmp @ K_"
   ]
  },
  {
   "cell_type": "markdown",
   "metadata": {},
   "source": [
    "### Posterior for gaussian process "
   ]
  },
  {
   "cell_type": "code",
   "execution_count": 8,
   "metadata": {
    "collapsed": true
   },
   "outputs": [],
   "source": [
    "GP_post = st.multivariate_normal(mean=mean, cov=cov, allow_singular=True)"
   ]
  },
  {
   "cell_type": "markdown",
   "metadata": {},
   "source": [
    "### Sample from posterior "
   ]
  },
  {
   "cell_type": "code",
   "execution_count": 9,
   "metadata": {
    "collapsed": true
   },
   "outputs": [],
   "source": [
    "y_samples = GP_post.rvs(500)\n",
    "\n",
    "y_mean = np.mean(y_samples, axis=0)\n",
    "y_std = np.std(y_samples, axis=0)"
   ]
  },
  {
   "cell_type": "markdown",
   "metadata": {},
   "source": [
    "### Visualize "
   ]
  },
  {
   "cell_type": "code",
   "execution_count": 10,
   "metadata": {},
   "outputs": [
    {
     "data": {
      "image/png": "[encoded data removed]",
      "text/plain": [
       "<matplotlib.figure.Figure at 0x117044160>"
      ]
     },
     "metadata": {},
     "output_type": "display_data"
    }
   ],
   "source": [
    "plt.title('Gaussian Process')\n",
    "plt.scatter(X, t, label='Observations')\n",
    "plt.plot(X_prime, y_mean, color='red', label='GP mean')\n",
    "plt.fill_between(\n",
    "    X_prime, y_mean-y_std, y_mean+y_std,\n",
    "    interpolate=True, color='green', alpha=0.1, label='GP +- 1 stddev'\n",
    ")\n",
    "plt.legend(loc='lower right')\n",
    "plt.show()"
   ]
  },
  {
   "cell_type": "code",
   "execution_count": null,
   "metadata": {
    "collapsed": true
   },
   "outputs": [],
   "source": []
  }
 ],
 "metadata": {
  "kernelspec": {
   "display_name": "Python 3",
   "language": "python",
   "name": "python3"
  },
  "language_info": {
   "codemirror_mode": {
    "name": "ipython",
    "version": 3
   },
   "file_extension": ".py",
   "mimetype": "text/x-python",
   "name": "python",
   "nbconvert_exporter": "python",
   "pygments_lexer": "ipython3",
   "version": "3.6.1"
  }
 },
 "nbformat": 4,
 "nbformat_minor": 2
}
