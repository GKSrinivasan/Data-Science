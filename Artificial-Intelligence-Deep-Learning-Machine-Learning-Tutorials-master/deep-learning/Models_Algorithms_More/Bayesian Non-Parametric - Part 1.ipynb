{
 "cells": [
  {
   "cell_type": "markdown",
   "metadata": {},
   "source": [
    "# Chinese Restaurant Process \n",
    "\n",
    "Generative story of CRP"
   ]
  },
  {
   "cell_type": "code",
   "execution_count": 2,
   "metadata": {},
   "outputs": [],
   "source": [
    "import numpy as np"
   ]
  },
  {
   "cell_type": "code",
   "execution_count": 3,
   "metadata": {},
   "outputs": [
    {
     "name": "stdout",
     "output_type": "stream",
     "text": [
      "[ 0.  1.  1.  1.  0.  2.  3.  2.  0.  3.  3.  3.  1.  0.  3.  1.  4.  3.\n",
      "  5.  0.]\n"
     ]
    }
   ],
   "source": [
    "N = 20 # number of customers\n",
    "alpha = 1 # dirichlet prior\n",
    "\n",
    "C = np.zeros(N) # customer table assignment\n",
    "K = 0 # No. of current tables\n",
    "tables = [] # customer for tables\n",
    "\n",
    "for n in range(N):\n",
    "    p_join = np.zeros(K)\n",
    "    \n",
    "    for k in range(K):\n",
    "        p_join[k] = tables[k] / (n + alpha)\n",
    "        \n",
    "    # Open a new table with prob propto alpha\n",
    "    p_new = alpha / (n + alpha)\n",
    "    \n",
    "    # Draw table nth customer will join\n",
    "    p = np.append(p_join, p_new)\n",
    "    t = np.random.multinomial(n = 1, pvals = p).argmax()\n",
    "    \n",
    "    # Update table count\n",
    "    if t >= K:\n",
    "        K = K + 1\n",
    "        tables.append(0)\n",
    "        \n",
    "    C[n] = t # Assign customer n to table t\n",
    "    tables[t] += 1 # Increment customer count for tth table\n",
    "    \n",
    "print(C)"
   ]
  }
 ],
 "metadata": {
  "kernelspec": {
   "display_name": "Python 3",
   "language": "python",
   "name": "python3"
  },
  "language_info": {
   "codemirror_mode": {
    "name": "ipython",
    "version": 3
   },
   "file_extension": ".py",
   "mimetype": "text/x-python",
   "name": "python",
   "nbconvert_exporter": "python",
   "pygments_lexer": "ipython3",
   "version": "3.6.1"
  }
 },
 "nbformat": 4,
 "nbformat_minor": 2
}
