{
 "cells": [
  {
   "cell_type": "markdown",
   "metadata": {
    "collapsed": true
   },
   "source": [
    "# Image Classification\n",
    "In this project, you'll classify images from the [CIFAR-10 dataset](https://www.cs.toronto.edu/~kriz/cifar.html).  The dataset consists of airplanes, dogs, cats, and other objects. You'll preprocess the images, then train a convolutional neural network on all the samples. The images need to be normalized and the labels need to be one-hot encoded.  You'll get to apply what you learned and build a convolutional, max pooling, dropout, and fully connected layers.  At the end, you'll get to see your neural network's predictions on the sample images.\n",
    "## Get the Data\n",
    "Run the following cell to download the [CIFAR-10 dataset for python](https://www.cs.toronto.edu/~kriz/cifar-10-python.tar.gz)."
   ]
  },
  {
   "cell_type": "code",
   "execution_count": 1,
   "metadata": {
    "collapsed": false
   },
   "outputs": [
    {
     "name": "stdout",
     "output_type": "stream",
     "text": [
      "All files found!\n"
     ]
    }
   ],
   "source": [
    "\"\"\"\n",
    "DON'T MODIFY ANYTHING IN THIS CELL THAT IS BELOW THIS LINE\n",
    "\"\"\"\n",
    "from urllib.request import urlretrieve\n",
    "from os.path import isfile, isdir\n",
    "from tqdm import tqdm\n",
    "import problem_unittests as tests\n",
    "import tarfile\n",
    "\n",
    "cifar10_dataset_folder_path = 'cifar-10-batches-py'\n",
    "\n",
    "class DLProgress(tqdm):\n",
    "    last_block = 0\n",
    "\n",
    "    def hook(self, block_num=1, block_size=1, total_size=None):\n",
    "        self.total = total_size\n",
    "        self.update((block_num - self.last_block) * block_size)\n",
    "        self.last_block = block_num\n",
    "\n",
    "if not isfile('cifar-10-python.tar.gz'):\n",
    "    with DLProgress(unit='B', unit_scale=True, miniters=1, desc='CIFAR-10 Dataset') as pbar:\n",
    "        urlretrieve(\n",
    "            'https://www.cs.toronto.edu/~kriz/cifar-10-python.tar.gz',\n",
    "            'cifar-10-python.tar.gz',\n",
    "            pbar.hook)\n",
    "\n",
    "if not isdir(cifar10_dataset_folder_path):\n",
    "    with tarfile.open('cifar-10-python.tar.gz') as tar:\n",
    "        tar.extractall()\n",
    "        tar.close()\n",
    "\n",
    "\n",
    "tests.test_folder_path(cifar10_dataset_folder_path)"
   ]
  },
  {
   "cell_type": "markdown",
   "metadata": {},
   "source": [
    "## Explore the Data\n",
    "The dataset is broken into batches to prevent your machine from running out of memory.  The CIFAR-10 dataset consists of 5 batches, named `data_batch_1`, `data_batch_2`, etc.. Each batch contains the labels and images that are one of the following:\n",
    "* airplane\n",
    "* automobile\n",
    "* bird\n",
    "* cat\n",
    "* deer\n",
    "* dog\n",
    "* frog\n",
    "* horse\n",
    "* ship\n",
    "* truck\n",
    "\n",
    "Understanding a dataset is part of making predictions on the data.  Play around with the code cell below by changing the `batch_id` and `sample_id`. The `batch_id` is the id for a batch (1-5). The `sample_id` is the id for a image and label pair in the batch.\n",
    "\n",
    "Ask yourself \"What are all possible labels?\", \"What is the range of values for the image data?\", \"Are the labels in order or random?\".  Answers to questions like these will help you preprocess the data and end up with better predictions."
   ]
  },
  {
   "cell_type": "code",
   "execution_count": 2,
   "metadata": {
    "collapsed": false
   },
   "outputs": [
    {
     "name": "stdout",
     "output_type": "stream",
     "text": [
      "\n",
      "Stats of batch 1:\n",
      "Samples: 10000\n",
      "Label Counts: {0: 1005, 1: 974, 2: 1032, 3: 1016, 4: 999, 5: 937, 6: 1030, 7: 1001, 8: 1025, 9: 981}\n",
      "First 20 Labels: [6, 9, 9, 4, 1, 1, 2, 7, 8, 3, 4, 7, 7, 2, 9, 9, 9, 3, 2, 6]\n",
      "\n",
      "Example of Image 5:\n",
      "Image - Min Value: 0 Max Value: 252\n",
      "Image - Shape: (32, 32, 3)\n",
      "Label - Label Id: 1 Name: automobile\n"
     ]
    },
    {
     "data": {
      "image/png": "[encoded data removed]",
      "text/plain": [
       "<matplotlib.figure.Figure at 0x115a3d080>"
      ]
     },
     "metadata": {
      "image/png": {
       "height": 250,
       "width": 253
      }
     },
     "output_type": "display_data"
    }
   ],
   "source": [
    "%matplotlib inline\n",
    "%config InlineBackend.figure_format = 'retina'\n",
    "\n",
    "import helper\n",
    "import numpy as np\n",
    "\n",
    "# Explore the dataset\n",
    "batch_id = 1\n",
    "sample_id = 5\n",
    "helper.display_stats(cifar10_dataset_folder_path, batch_id, sample_id)"
   ]
  },
  {
   "cell_type": "markdown",
   "metadata": {},
   "source": [
    "## Implement Preprocess Functions\n",
    "### Normalize\n",
    "In the cell below, implement the `normalize` function to take in image data, `x`, and return it as a normalized Numpy array. The values should be in the range of 0 to 1, inclusive.  The return object should be the same shape as `x`."
   ]
  },
  {
   "cell_type": "code",
   "execution_count": 3,
   "metadata": {
    "collapsed": false
   },
   "outputs": [
    {
     "name": "stdout",
     "output_type": "stream",
     "text": [
      "Tests Passed\n"
     ]
    }
   ],
   "source": [
    "def normalize(x):\n",
    "    \"\"\"\n",
    "    Normalize a list of sample image data in the range of 0 to 1\n",
    "    : x: List of image data.  The image shape is (32, 32, 3)\n",
    "    : return: Numpy array of normalize data\n",
    "    \"\"\"\n",
    "    # TODO: Implement Function\n",
    "    return x / 255\n",
    "\n",
    "\n",
    "\"\"\"\n",
    "DON'T MODIFY ANYTHING IN THIS CELL THAT IS BELOW THIS LINE\n",
    "\"\"\"\n",
    "tests.test_normalize(normalize)"
   ]
  },
  {
   "cell_type": "markdown",
   "metadata": {},
   "source": [
    "### One-hot encode\n",
    "Just like the previous code cell, you'll be implementing a function for preprocessing.  This time, you'll implement the `one_hot_encode` function. The input, `x`, are a list of labels.  Implement the function to return the list of labels as One-Hot encoded Numpy array.  The possible values for labels are 0 to 9. The one-hot encoding function should return the same encoding for each value between each call to `one_hot_encode`.  Make sure to save the map of encodings outside the function.\n",
    "\n",
    "Hint: Don't reinvent the wheel."
   ]
  },
  {
   "cell_type": "code",
   "execution_count": 4,
   "metadata": {
    "collapsed": false
   },
   "outputs": [
    {
     "name": "stdout",
     "output_type": "stream",
     "text": [
      "Tests Passed\n"
     ]
    }
   ],
   "source": [
    "MAP = np.eye(10)\n",
    "\n",
    "def one_hot_encode(xs):\n",
    "    \"\"\"\n",
    "    One hot encode a list of sample labels. Return a one-hot encoded vector for each label.\n",
    "    : x: List of sample Labels\n",
    "    : return: Numpy array of one-hot encoded labels\n",
    "    \"\"\"\n",
    "    # TODO: Implement Function\n",
    "    return np.vstack([MAP[x,:] for x in xs])\n",
    "\n",
    "\n",
    "\"\"\"\n",
    "DON'T MODIFY ANYTHING IN THIS CELL THAT IS BELOW THIS LINE\n",
    "\"\"\"\n",
    "tests.test_one_hot_encode(one_hot_encode)"
   ]
  },
  {
   "cell_type": "markdown",
   "metadata": {},
   "source": [
    "### Randomize Data\n",
    "As you saw from exploring the data above, the order of the samples are randomized.  It doesn't hurt to randomize it again, but you don't need to for this dataset."
   ]
  },
  {
   "cell_type": "markdown",
   "metadata": {},
   "source": [
    "## Preprocess all the data and save it\n",
    "Running the code cell below will preprocess all the CIFAR-10 data and save it to file. The code below also uses 10% of the training data for validation."
   ]
  },
  {
   "cell_type": "code",
   "execution_count": 5,
   "metadata": {
    "collapsed": false
   },
   "outputs": [],
   "source": [
    "\"\"\"\n",
    "DON'T MODIFY ANYTHING IN THIS CELL\n",
    "\"\"\"\n",
    "# Preprocess Training, Validation, and Testing Data\n",
    "helper.preprocess_and_save_data(cifar10_dataset_folder_path, normalize, one_hot_encode)"
   ]
  },
  {
   "cell_type": "markdown",
   "metadata": {},
   "source": [
    "# Check Point\n",
    "This is your first checkpoint.  If you ever decide to come back to this notebook or have to restart the notebook, you can start from here.  The preprocessed data has been saved to disk."
   ]
  },
  {
   "cell_type": "code",
   "execution_count": 6,
   "metadata": {
    "collapsed": true
   },
   "outputs": [],
   "source": [
    "\"\"\"\n",
    "DON'T MODIFY ANYTHING IN THIS CELL\n",
    "\"\"\"\n",
    "import pickle\n",
    "import problem_unittests as tests\n",
    "import helper\n",
    "\n",
    "# Load the Preprocessed Validation data\n",
    "valid_features, valid_labels = pickle.load(open('preprocess_validation.p', mode='rb'))"
   ]
  },
  {
   "cell_type": "markdown",
   "metadata": {},
   "source": [
    "## Build the network\n",
    "For the neural network, you'll build each layer into a function.  Most of the code you've seen has been outside of functions. To test your code more thoroughly, we require that you put each layer in a function.  This allows us to give you better feedback and test for simple mistakes using our unittests before you submit your project.\n",
    "\n",
    "If you're finding it hard to dedicate enough time for this course a week, we've provided a small shortcut to this part of the project. In the next couple of problems, you'll have the option to use [TensorFlow Layers](https://www.tensorflow.org/api_docs/python/tf/layers) or [TensorFlow Layers (contrib)](https://www.tensorflow.org/api_guides/python/contrib.layers) to build each layer, except \"Convolutional & Max Pooling\" layer.  TF Layers is similar to Keras's and TFLearn's abstraction to layers, so it's easy to pickup.\n",
    "\n",
    "If you would like to get the most of this course, try to solve all the problems without TF Layers.  Let's begin!\n",
    "### Input\n",
    "The neural network needs to read the image data, one-hot encoded labels, and dropout keep probability. Implement the following functions\n",
    "* Implement `neural_net_image_input`\n",
    " * Return a [TF Placeholder](https://www.tensorflow.org/api_docs/python/tf/placeholder)\n",
    " * Set the shape using `image_shape` with batch size set to `None`.\n",
    " * Name the TensorFlow placeholder \"x\" using the TensorFlow `name` parameter in the [TF Placeholder](https://www.tensorflow.org/api_docs/python/tf/placeholder).\n",
    "* Implement `neural_net_label_input`\n",
    " * Return a [TF Placeholder](https://www.tensorflow.org/api_docs/python/tf/placeholder)\n",
    " * Set the shape using `n_classes` with batch size set to `None`.\n",
    " * Name the TensorFlow placeholder \"y\" using the TensorFlow `name` parameter in the [TF Placeholder](https://www.tensorflow.org/api_docs/python/tf/placeholder).\n",
    "* Implement `neural_net_keep_prob_input`\n",
    " * Return a [TF Placeholder](https://www.tensorflow.org/api_docs/python/tf/placeholder) for dropout keep probability.\n",
    " * Name the TensorFlow placeholder \"keep_prob\" using the TensorFlow `name` parameter in the [TF Placeholder](https://www.tensorflow.org/api_docs/python/tf/placeholder).\n",
    "\n",
    "These names will be used at the end of the project to load your saved model.\n",
    "\n",
    "Note: `None` for shapes in TensorFlow allow for a dynamic size."
   ]
  },
  {
   "cell_type": "code",
   "execution_count": 7,
   "metadata": {
    "collapsed": false
   },
   "outputs": [
    {
     "name": "stdout",
     "output_type": "stream",
     "text": [
      "Image Input Tests Passed.\n",
      "Label Input Tests Passed.\n",
      "Keep Prob Tests Passed.\n"
     ]
    }
   ],
   "source": [
    "import tensorflow as tf\n",
    "\n",
    "def neural_net_image_input(image_shape):\n",
    "    \"\"\"\n",
    "    Return a Tensor for a bach of image input\n",
    "    : image_shape: Shape of the images\n",
    "    : return: Tensor for image input.\n",
    "    \"\"\"\n",
    "    # TODO: Implement Function\n",
    "    return tf.placeholder(tf.float32, shape=(None, *image_shape), name='x')\n",
    "\n",
    "\n",
    "def neural_net_label_input(n_classes):\n",
    "    \"\"\"\n",
    "    Return a Tensor for a batch of label input\n",
    "    : n_classes: Number of classes\n",
    "    : return: Tensor for label input.\n",
    "    \"\"\"\n",
    "    # TODO: Implement Function\n",
    "    return tf.placeholder(tf.float32, shape=(None, n_classes), name='y')\n",
    "\n",
    "\n",
    "def neural_net_keep_prob_input():\n",
    "    \"\"\"\n",
    "    Return a Tensor for keep probability\n",
    "    : return: Tensor for keep probability.\n",
    "    \"\"\"\n",
    "    # TODO: Implement Function\n",
    "    return tf.placeholder(tf.float32, name='keep_prob')\n",
    "\n",
    "\n",
    "\"\"\"\n",
    "DON'T MODIFY ANYTHING IN THIS CELL THAT IS BELOW THIS LINE\n",
    "\"\"\"\n",
    "tf.reset_default_graph()\n",
    "tests.test_nn_image_inputs(neural_net_image_input)\n",
    "tests.test_nn_label_inputs(neural_net_label_input)\n",
    "tests.test_nn_keep_prob_inputs(neural_net_keep_prob_input)"
   ]
  },
  {
   "cell_type": "markdown",
   "metadata": {},
   "source": [
    "### Convolution and Max Pooling Layer\n",
    "Convolution layers have a lot of success with images. For this code cell, you should implement the function `conv2d_maxpool` to apply convolution then max pooling:\n",
    "* Create the weight and bias using `conv_ksize`, `conv_num_outputs` and the shape of `x_tensor`.\n",
    "* Apply a convolution to `x_tensor` using weight and `conv_strides`.\n",
    " * We recommend you use same padding, but you're welcome to use any padding.\n",
    "* Add bias\n",
    "* Add a nonlinear activation to the convolution.\n",
    "* Apply Max Pooling using `pool_ksize` and `pool_strides`.\n",
    " * We recommend you use same padding, but you're welcome to use any padding.\n",
    "\n",
    "Note: You **can't** use [TensorFlow Layers](https://www.tensorflow.org/api_docs/python/tf/layers) or [TensorFlow Layers (contrib)](https://www.tensorflow.org/api_guides/python/contrib.layers) for this layer.  You're free to use any TensorFlow package for all the other layers."
   ]
  },
  {
   "cell_type": "code",
   "execution_count": 8,
   "metadata": {
    "collapsed": false
   },
   "outputs": [
    {
     "name": "stdout",
     "output_type": "stream",
     "text": [
      "Tests Passed\n"
     ]
    }
   ],
   "source": [
    "MEAN_INIT = 0.001\n",
    "STDDEV_INIT = 0.05\n",
    "\n",
    "def conv2d_maxpool(x_tensor, conv_num_outputs, conv_ksize, conv_strides, pool_ksize, pool_strides):\n",
    "    \"\"\"\n",
    "    Apply convolution then max pooling to x_tensor\n",
    "    :param x_tensor: TensorFlow Tensor\n",
    "    :param conv_num_outputs: Number of outputs for the convolutional layer\n",
    "    :param conv_strides: Stride 2-D Tuple for convolution\n",
    "    :param pool_ksize: kernel size 2-D Tuple for pool\n",
    "    :param pool_strides: Stride 2-D Tuple for pool\n",
    "    :return: A tensor that represents convolution and max pooling of x_tensor\n",
    "    \"\"\"\n",
    "    # TODO: Implement Function\n",
    "    x_batch, x_height, x_width, x_depth = x_tensor.shape\n",
    "    filter_weights = tf.Variable(tf.truncated_normal(mean=MEAN_INIT, stddev=STDDEV_INIT, shape=[*conv_ksize, x_depth.value, conv_num_outputs]))\n",
    "    bias = tf.Variable(tf.truncated_normal(mean=MEAN_INIT, stddev=STDDEV_INIT, shape=[conv_num_outputs]))\n",
    "    x_tensor = tf.nn.conv2d(x_tensor, filter_weights, strides=[1, *conv_strides, 1], padding='SAME')\n",
    "    x_tensor = tf.nn.bias_add(x_tensor, bias)\n",
    "    x_tensor = tf.nn.relu(x_tensor)\n",
    "    x_tensor = tf.nn.max_pool(x_tensor, ksize=[1, *pool_ksize, 1], strides=[1, *pool_strides, 1], padding='SAME')\n",
    "    return x_tensor \n",
    "\n",
    "\n",
    "\"\"\"\n",
    "DON'T MODIFY ANYTHING IN THIS CELL THAT IS BELOW THIS LINE\n",
    "\"\"\"\n",
    "tests.test_con_pool(conv2d_maxpool)"
   ]
  },
  {
   "cell_type": "markdown",
   "metadata": {},
   "source": [
    "### Flatten Layer\n",
    "Implement the `flatten` function to change the dimension of `x_tensor` from a 4-D tensor to a 2-D tensor.  The output should be the shape (*Batch Size*, *Flattened Image Size*). You can use [TensorFlow Layers](https://www.tensorflow.org/api_docs/python/tf/layers) or [TensorFlow Layers (contrib)](https://www.tensorflow.org/api_guides/python/contrib.layers) for this layer."
   ]
  },
  {
   "cell_type": "code",
   "execution_count": 9,
   "metadata": {
    "collapsed": false
   },
   "outputs": [
    {
     "name": "stdout",
     "output_type": "stream",
     "text": [
      "Tests Passed\n"
     ]
    }
   ],
   "source": [
    "from functools import reduce\n",
    "\n",
    "def flatten(x_tensor):\n",
    "    \"\"\"\n",
    "    Flatten x_tensor to (Batch Size, Flattened Image Size)\n",
    "    : x_tensor: A tensor of size (Batch Size, ...), where ... are the image dimensions.\n",
    "    : return: A tensor of size (Batch Size, Flattened Image Size).\n",
    "    \"\"\"\n",
    "    # TODO: Implement Function\n",
    "    dim = reduce(lambda x, y: x*y, x_tensor.shape[1:])\n",
    "    return tf.reshape(x_tensor, [-1, dim.value])\n",
    "\n",
    "\n",
    "\"\"\"\n",
    "DON'T MODIFY ANYTHING IN THIS CELL THAT IS BELOW THIS LINE\n",
    "\"\"\"\n",
    "tests.test_flatten(flatten)"
   ]
  },
  {
   "cell_type": "markdown",
   "metadata": {},
   "source": [
    "### Fully-Connected Layer\n",
    "Implement the `fully_conn` function to apply a fully connected layer to `x_tensor` with the shape (*Batch Size*, *num_outputs*). You can use [TensorFlow Layers](https://www.tensorflow.org/api_docs/python/tf/layers) or [TensorFlow Layers (contrib)](https://www.tensorflow.org/api_guides/python/contrib.layers) for this layer."
   ]
  },
  {
   "cell_type": "code",
   "execution_count": 10,
   "metadata": {
    "collapsed": false
   },
   "outputs": [
    {
     "name": "stdout",
     "output_type": "stream",
     "text": [
      "Tests Passed\n"
     ]
    }
   ],
   "source": [
    "def fully_conn(x_tensor, num_outputs):\n",
    "    \"\"\"\n",
    "    Apply a fully connected layer to x_tensor using weight and bias\n",
    "    : x_tensor: A 2-D tensor where the first dimension is batch size.\n",
    "    : num_outputs: The number of output that the new tensor should be.\n",
    "    : return: A 2-D tensor where the second dimension is num_outputs.\n",
    "    \"\"\"\n",
    "    weights = tf.Variable(tf.truncated_normal(mean=MEAN_INIT, stddev=STDDEV_INIT, shape=[x_tensor.shape[1].value, num_outputs]))\n",
    "    bias = tf.Variable(tf.truncated_normal(mean=MEAN_INIT, stddev=STDDEV_INIT, shape=[num_outputs]))\n",
    "    return tf.nn.relu(tf.add(tf.matmul(x_tensor, weights), bias))\n",
    "\n",
    "\n",
    "\"\"\"\n",
    "DON'T MODIFY ANYTHING IN THIS CELL THAT IS BELOW THIS LINE\n",
    "\"\"\"\n",
    "tests.test_fully_conn(fully_conn)"
   ]
  },
  {
   "cell_type": "markdown",
   "metadata": {},
   "source": [
    "### Output Layer\n",
    "Implement the `output` function to apply a fully connected layer to `x_tensor` with the shape (*Batch Size*, *num_outputs*). You can use [TensorFlow Layers](https://www.tensorflow.org/api_docs/python/tf/layers) or [TensorFlow Layers (contrib)](https://www.tensorflow.org/api_guides/python/contrib.layers) for this layer.\n",
    "\n",
    "Note: Activation, softmax, or cross entropy shouldn't be applied to this."
   ]
  },
  {
   "cell_type": "code",
   "execution_count": 11,
   "metadata": {
    "collapsed": false
   },
   "outputs": [
    {
     "name": "stdout",
     "output_type": "stream",
     "text": [
      "Tests Passed\n"
     ]
    }
   ],
   "source": [
    "def output(x_tensor, num_outputs):\n",
    "    \"\"\"\n",
    "    Apply a output layer to x_tensor using weight and bias\n",
    "    : x_tensor: A 2-D tensor where the first dimension is batch size.\n",
    "    : num_outputs: The number of output that the new tensor should be.\n",
    "    : return: A 2-D tensor where the second dimension is num_outputs.\n",
    "    \"\"\"\n",
    "    # TODO: Implement Function\n",
    "    weights = tf.Variable(tf.truncated_normal(mean=MEAN_INIT, stddev=STDDEV_INIT, shape=[x_tensor.shape[1].value, num_outputs]))\n",
    "    bias = tf.Variable(tf.truncated_normal(mean=MEAN_INIT, stddev=STDDEV_INIT, shape=[num_outputs]))\n",
    "    return tf.add(tf.matmul(x_tensor, weights), bias)\n",
    "\n",
    "\n",
    "\"\"\"\n",
    "DON'T MODIFY ANYTHING IN THIS CELL THAT IS BELOW THIS LINE\n",
    "\"\"\"\n",
    "tests.test_output(output)"
   ]
  },
  {
   "cell_type": "markdown",
   "metadata": {},
   "source": [
    "### Create Convolutional Model\n",
    "Implement the function `conv_net` to create a convolutional neural network model. The function takes in a batch of images, `x`, and outputs logits.  Use the layers you created above to create this model:\n",
    "\n",
    "* Apply 1, 2, or 3 Convolution and Max Pool layers\n",
    "* Apply a Flatten Layer\n",
    "* Apply 1, 2, or 3 Fully Connected Layers\n",
    "* Apply an Output Layer\n",
    "* Return the output\n",
    "* Apply [TensorFlow's Dropout](https://www.tensorflow.org/api_docs/python/tf/nn/dropout) to one or more layers in the model using `keep_prob`. "
   ]
  },
  {
   "cell_type": "code",
   "execution_count": 12,
   "metadata": {
    "collapsed": false
   },
   "outputs": [
    {
     "name": "stdout",
     "output_type": "stream",
     "text": [
      "Final shape is: 1024\n",
      "Final shape is: 1024\n",
      "Neural Network Built!\n"
     ]
    }
   ],
   "source": [
    "def conv_net(x, keep_prob):\n",
    "    \"\"\"\n",
    "    Create a convolutional neural network model\n",
    "    : x: Placeholder tensor that holds image data.\n",
    "    : keep_prob: Placeholder tensor that hold dropout keep probability.\n",
    "    : return: Tensor that represents logits\n",
    "    \"\"\"\n",
    "    # TODO: Apply 1, 2, or 3 Convolution and Max Pool layers\n",
    "    #    Play around with different number of outputs, kernel size and stride\n",
    "    # Function Definition from Above:\n",
    "    #    conv2d_maxpool(x_tensor, conv_num_outputs, conv_ksize, conv_strides, pool_ksize, pool_strides)\n",
    "    x = conv2d_maxpool(x, 16, (5, 5), (1, 1), (2, 2), (2, 2))\n",
    "    x = conv2d_maxpool(x, 32, (5, 5), (1, 1), (2, 2), (2, 2))\n",
    "    x = conv2d_maxpool(x, 64, (5, 5), (1, 1), (2, 2), (2, 2))\n",
    "    \n",
    "    # TODO: Apply a Flatten Layer\n",
    "    # Function Definition from Above:\n",
    "    x = flatten(x)\n",
    "    \n",
    "    print(\"Final shape is: {}\".format(x.shape[1]))\n",
    "    # TODO: Apply 1, 2, or 3 Fully Connected Layers\n",
    "    #    Play around with different number of outputs\n",
    "    # Function Definition from Above:\n",
    "    x = fully_conn(x, num_outputs=786)\n",
    "    x = fully_conn(x, num_outputs=786)\n",
    "    x = tf.nn.dropout(x, keep_prob)\n",
    "    \n",
    "    # TODO: Apply an Output Layer\n",
    "    #    Set this to the number of classes\n",
    "    # Function Definition from Above:\n",
    "    x = output(x, num_outputs=10)\n",
    "    \n",
    "    # TODO: return output\n",
    "    return x\n",
    "\n",
    "\n",
    "\"\"\"\n",
    "DON'T MODIFY ANYTHING IN THIS CELL THAT IS BELOW THIS LINE\n",
    "\"\"\"\n",
    "\n",
    "##############################\n",
    "## Build the Neural Network ##\n",
    "##############################\n",
    "\n",
    "# Remove previous weights, bias, inputs, etc..\n",
    "tf.reset_default_graph()\n",
    "\n",
    "# Inputs\n",
    "x = neural_net_image_input((32, 32, 3))\n",
    "y = neural_net_label_input(10)\n",
    "keep_prob = neural_net_keep_prob_input()\n",
    "\n",
    "# Model\n",
    "logits = conv_net(x, keep_prob)\n",
    "\n",
    "# Name logits Tensor, so that is can be loaded from disk after training\n",
    "logits = tf.identity(logits, name='logits')\n",
    "\n",
    "# Loss and Optimizer\n",
    "cost = tf.reduce_mean(tf.nn.softmax_cross_entropy_with_logits(logits=logits, labels=y))\n",
    "optimizer = tf.train.AdamOptimizer().minimize(cost)\n",
    "\n",
    "# Accuracy\n",
    "correct_pred = tf.equal(tf.argmax(logits, 1), tf.argmax(y, 1))\n",
    "accuracy = tf.reduce_mean(tf.cast(correct_pred, tf.float32), name='accuracy')\n",
    "\n",
    "tests.test_conv_net(conv_net)"
   ]
  },
  {
   "cell_type": "markdown",
   "metadata": {},
   "source": [
    "## Train the Neural Network\n",
    "### Single Optimization\n",
    "Implement the function `train_neural_network` to do a single optimization.  The optimization should use `optimizer` to optimize in `session` with a `feed_dict` of the following:\n",
    "* `x` for image input\n",
    "* `y` for labels\n",
    "* `keep_prob` for keep probability for dropout\n",
    "\n",
    "This function will be called for each batch, so `tf.global_variables_initializer()` has already been called.\n",
    "\n",
    "Note: Nothing needs to be returned. This function is only optimizing the neural network."
   ]
  },
  {
   "cell_type": "code",
   "execution_count": 13,
   "metadata": {
    "collapsed": false
   },
   "outputs": [
    {
     "name": "stdout",
     "output_type": "stream",
     "text": [
      "Tests Passed\n"
     ]
    }
   ],
   "source": [
    "def train_neural_network(session, optimizer, keep_probability, feature_batch, label_batch):\n",
    "    \"\"\"\n",
    "    Optimize the session on a batch of images and labels\n",
    "    : session: Current TensorFlow session\n",
    "    : optimizer: TensorFlow optimizer function\n",
    "    : keep_probability: keep probability\n",
    "    : feature_batch: Batch of Numpy image data\n",
    "    : label_batch: Batch of Numpy label data\n",
    "    \"\"\"\n",
    "    # TODO: Implement Function\n",
    "    feed_dict = {'keep_prob:0': keep_probability, 'x:0': feature_batch, 'y:0': label_batch}\n",
    "    session.run(optimizer, feed_dict=feed_dict)\n",
    "\n",
    "\"\"\"\n",
    "DON'T MODIFY ANYTHING IN THIS CELL THAT IS BELOW THIS LINE\n",
    "\"\"\"\n",
    "tests.test_train_nn(train_neural_network)"
   ]
  },
  {
   "cell_type": "markdown",
   "metadata": {},
   "source": [
    "### Show Stats\n",
    "Implement the function `print_stats` to print loss and validation accuracy.  Use the global variables `valid_features` and `valid_labels` to calculate validation accuracy.  Use a keep probability of `1.0` to calculate the loss and validation accuracy."
   ]
  },
  {
   "cell_type": "code",
   "execution_count": 14,
   "metadata": {
    "collapsed": false
   },
   "outputs": [],
   "source": [
    "def print_stats(session, feature_batch, label_batch, cost, accuracy):\n",
    "    \"\"\"\n",
    "    Print information about loss and validation accuracy\n",
    "    : session: Current TensorFlow session\n",
    "    : feature_batch: Batch of Numpy image data\n",
    "    : label_batch: Batch of Numpy label data\n",
    "    : cost: TensorFlow cost function\n",
    "    : accuracy: TensorFlow accuracy function\n",
    "    \"\"\"\n",
    "    # TODO: Implement Function\n",
    "    feed_cost = {'keep_prob:0': 1.0, 'x:0': feature_batch, 'y:0': label_batch}\n",
    "    feed_valid = {'keep_prob:0': 1.0, 'x:0': valid_features, 'y:0': valid_labels}\n",
    "    cost = session.run(cost, feed_dict=feed_cost)\n",
    "    accuracy = session.run(accuracy, feed_dict=feed_valid)\n",
    "    print(\"cost: {}, accuracy: {}\".format(cost, accuracy))"
   ]
  },
  {
   "cell_type": "markdown",
   "metadata": {},
   "source": [
    "### Hyperparameters\n",
    "Tune the following parameters:\n",
    "* Set `epochs` to the number of iterations until the network stops learning or start overfitting\n",
    "* Set `batch_size` to the highest number that your machine has memory for.  Most people set them to common sizes of memory:\n",
    " * 64\n",
    " * 128\n",
    " * 256\n",
    " * ...\n",
    "* Set `keep_probability` to the probability of keeping a node using dropout"
   ]
  },
  {
   "cell_type": "code",
   "execution_count": 15,
   "metadata": {
    "collapsed": true
   },
   "outputs": [],
   "source": [
    "# TODO: Tune Parameters\n",
    "epochs = 50\n",
    "batch_size = 128\n",
    "keep_probability = 0.8"
   ]
  },
  {
   "cell_type": "markdown",
   "metadata": {},
   "source": [
    "### Train on a Single CIFAR-10 Batch\n",
    "Instead of training the neural network on all the CIFAR-10 batches of data, let's use a single batch. This should save time while you iterate on the model to get a better accuracy.  Once the final validation accuracy is 50% or greater, run the model on all the data in the next section."
   ]
  },
  {
   "cell_type": "code",
   "execution_count": 16,
   "metadata": {
    "collapsed": false
   },
   "outputs": [
    {
     "name": "stdout",
     "output_type": "stream",
     "text": [
      "Checking the Training on a Single Batch...\n",
      "Epoch  1, CIFAR-10 Batch 1:  cost: 2.0509302616119385, accuracy: 0.3100000023841858\n",
      "Epoch  2, CIFAR-10 Batch 1:  cost: 1.8859847784042358, accuracy: 0.3901999890804291\n",
      "Epoch  3, CIFAR-10 Batch 1:  cost: 1.662210464477539, accuracy: 0.4442000091075897\n",
      "Epoch  4, CIFAR-10 Batch 1:  cost: 1.3321642875671387, accuracy: 0.44780001044273376\n",
      "Epoch  5, CIFAR-10 Batch 1:  cost: 1.0849549770355225, accuracy: 0.48579999804496765\n",
      "Epoch  6, CIFAR-10 Batch 1:  cost: 0.867091953754425, accuracy: 0.5055999755859375\n",
      "Epoch  7, CIFAR-10 Batch 1:  cost: 0.79790198802948, accuracy: 0.5139999985694885\n",
      "Epoch  8, CIFAR-10 Batch 1:  cost: 0.7054855227470398, accuracy: 0.5353999733924866\n",
      "Epoch  9, CIFAR-10 Batch 1:  cost: 0.513192355632782, accuracy: 0.5429999828338623\n",
      "Epoch 10, CIFAR-10 Batch 1:  cost: 0.46006861329078674, accuracy: 0.52920001745224\n",
      "Epoch 11, CIFAR-10 Batch 1:  cost: 0.30870896577835083, accuracy: 0.5167999863624573\n",
      "Epoch 12, CIFAR-10 Batch 1:  cost: 0.1975238174200058, accuracy: 0.5419999957084656\n",
      "Epoch 13, CIFAR-10 Batch 1:  cost: 0.122894287109375, accuracy: 0.5260000228881836\n",
      "Epoch 14, CIFAR-10 Batch 1:  cost: 0.11120320856571198, accuracy: 0.5311999917030334\n",
      "Epoch 15, CIFAR-10 Batch 1:  cost: 0.06588362157344818, accuracy: 0.5379999876022339\n",
      "Epoch 16, CIFAR-10 Batch 1:  cost: 0.04799598455429077, accuracy: 0.5235999822616577\n",
      "Epoch 17, CIFAR-10 Batch 1:  cost: 0.030204802751541138, accuracy: 0.520799994468689\n",
      "Epoch 18, CIFAR-10 Batch 1:  cost: 0.04791964963078499, accuracy: 0.5175999999046326\n",
      "Epoch 19, CIFAR-10 Batch 1:  cost: 0.016544366255402565, accuracy: 0.5012000203132629\n",
      "Epoch 20, CIFAR-10 Batch 1:  cost: 0.022180087864398956, accuracy: 0.4878000020980835\n",
      "Epoch 21, CIFAR-10 Batch 1:  cost: 0.00858812965452671, accuracy: 0.5288000106811523\n",
      "Epoch 22, CIFAR-10 Batch 1:  cost: 0.00722538074478507, accuracy: 0.5564000010490417\n",
      "Epoch 23, CIFAR-10 Batch 1:  cost: 0.0031978324986994267, accuracy: 0.5422000288963318\n",
      "Epoch 24, CIFAR-10 Batch 1:  cost: 0.00604749983176589, accuracy: 0.5508000254631042\n",
      "Epoch 25, CIFAR-10 Batch 1:  cost: 0.005734555888921022, accuracy: 0.5522000193595886\n",
      "Epoch 26, CIFAR-10 Batch 1:  cost: 0.00500847352668643, accuracy: 0.5540000200271606\n",
      "Epoch 27, CIFAR-10 Batch 1:  cost: 0.004503889009356499, accuracy: 0.5422000288963318\n",
      "Epoch 28, CIFAR-10 Batch 1:  cost: 0.0013200596440583467, accuracy: 0.5415999889373779\n",
      "Epoch 29, CIFAR-10 Batch 1:  cost: 0.0007645435398444533, accuracy: 0.5393999814987183\n",
      "Epoch 30, CIFAR-10 Batch 1:  cost: 0.0013131981249898672, accuracy: 0.5299999713897705\n",
      "Epoch 31, CIFAR-10 Batch 1:  cost: 0.0015346817672252655, accuracy: 0.5410000085830688\n",
      "Epoch 32, CIFAR-10 Batch 1:  cost: 0.0010683147702366114, accuracy: 0.5460000038146973\n",
      "Epoch 33, CIFAR-10 Batch 1:  cost: 0.0005294515285640955, accuracy: 0.5523999929428101\n",
      "Epoch 34, CIFAR-10 Batch 1:  cost: 0.0006441144505515695, accuracy: 0.5357999801635742\n",
      "Epoch 35, CIFAR-10 Batch 1:  cost: 0.001909498474560678, accuracy: 0.5455999970436096\n",
      "Epoch 36, CIFAR-10 Batch 1:  cost: 0.00045194028643891215, accuracy: 0.5383999943733215\n",
      "Epoch 37, CIFAR-10 Batch 1:  cost: 0.00543100293725729, accuracy: 0.5296000242233276\n",
      "Epoch 38, CIFAR-10 Batch 1:  cost: 0.0003381586284376681, accuracy: 0.5493999719619751\n",
      "Epoch 39, CIFAR-10 Batch 1:  cost: 0.0006923808832652867, accuracy: 0.5491999983787537\n",
      "Epoch 40, CIFAR-10 Batch 1:  cost: 0.0011802001390606165, accuracy: 0.534600019454956\n",
      "Epoch 41, CIFAR-10 Batch 1:  cost: 0.0003546265361364931, accuracy: 0.5446000099182129\n",
      "Epoch 42, CIFAR-10 Batch 1:  cost: 0.0019332444062456489, accuracy: 0.5533999800682068\n",
      "Epoch 43, CIFAR-10 Batch 1:  cost: 0.0005203156033530831, accuracy: 0.5418000221252441\n",
      "Epoch 44, CIFAR-10 Batch 1:  cost: 0.00015491087106056511, accuracy: 0.5586000084877014\n",
      "Epoch 45, CIFAR-10 Batch 1:  cost: 0.0010078044142574072, accuracy: 0.5562000274658203\n",
      "Epoch 46, CIFAR-10 Batch 1:  cost: 0.000902503845281899, accuracy: 0.5436000227928162\n",
      "Epoch 47, CIFAR-10 Batch 1:  cost: 0.002962005790323019, accuracy: 0.5424000024795532\n",
      "Epoch 48, CIFAR-10 Batch 1:  cost: 0.0009106557117775083, accuracy: 0.5375999808311462\n",
      "Epoch 49, CIFAR-10 Batch 1:  cost: 0.00023991367197595537, accuracy: 0.5368000268936157\n",
      "Epoch 50, CIFAR-10 Batch 1:  cost: 4.4168125896248966e-05, accuracy: 0.5446000099182129\n"
     ]
    }
   ],
   "source": [
    "\"\"\"\n",
    "DON'T MODIFY ANYTHING IN THIS CELL\n",
    "\"\"\"\n",
    "print('Checking the Training on a Single Batch...')\n",
    "with tf.Session() as sess:\n",
    "    # Initializing the variables\n",
    "    sess.run(tf.global_variables_initializer())\n",
    "    \n",
    "    # Training cycle\n",
    "    for epoch in range(epochs):\n",
    "        batch_i = 1\n",
    "        for batch_features, batch_labels in helper.load_preprocess_training_batch(batch_i, batch_size):\n",
    "            train_neural_network(sess, optimizer, keep_probability, batch_features, batch_labels)\n",
    "        print('Epoch {:>2}, CIFAR-10 Batch {}:  '.format(epoch + 1, batch_i), end='')\n",
    "        print_stats(sess, batch_features, batch_labels, cost, accuracy)"
   ]
  },
  {
   "cell_type": "markdown",
   "metadata": {},
   "source": [
    "### Fully Train the Model\n",
    "Now that you got a good accuracy with a single CIFAR-10 batch, try it with all five batches."
   ]
  },
  {
   "cell_type": "code",
   "execution_count": 17,
   "metadata": {
    "collapsed": false
   },
   "outputs": [
    {
     "name": "stdout",
     "output_type": "stream",
     "text": [
      "Training...\n",
      "Epoch  1, CIFAR-10 Batch 1:  cost: 2.0099589824676514, accuracy: 0.35260000824928284\n",
      "Epoch  1, CIFAR-10 Batch 2:  cost: 1.6788551807403564, accuracy: 0.4189999997615814\n",
      "Epoch  1, CIFAR-10 Batch 3:  cost: 1.2045905590057373, accuracy: 0.45559999346733093\n",
      "Epoch  1, CIFAR-10 Batch 4:  cost: 1.371019959449768, accuracy: 0.48919999599456787\n",
      "Epoch  1, CIFAR-10 Batch 5:  cost: 1.4088184833526611, accuracy: 0.5246000289916992\n",
      "Epoch  2, CIFAR-10 Batch 1:  cost: 1.2661172151565552, accuracy: 0.5450000166893005\n",
      "Epoch  2, CIFAR-10 Batch 2:  cost: 1.0411255359649658, accuracy: 0.5315999984741211\n",
      "Epoch  2, CIFAR-10 Batch 3:  cost: 0.8106317520141602, accuracy: 0.5889999866485596\n",
      "Epoch  2, CIFAR-10 Batch 4:  cost: 0.8899438977241516, accuracy: 0.5902000069618225\n",
      "Epoch  2, CIFAR-10 Batch 5:  cost: 1.0334088802337646, accuracy: 0.6122000217437744\n",
      "Epoch  3, CIFAR-10 Batch 1:  cost: 0.9444438815116882, accuracy: 0.6222000122070312\n",
      "Epoch  3, CIFAR-10 Batch 2:  cost: 0.7626779079437256, accuracy: 0.5867999792098999\n",
      "Epoch  3, CIFAR-10 Batch 3:  cost: 0.6085611581802368, accuracy: 0.6155999898910522\n",
      "Epoch  3, CIFAR-10 Batch 4:  cost: 0.6562917232513428, accuracy: 0.6287999749183655\n",
      "Epoch  3, CIFAR-10 Batch 5:  cost: 0.6868247985839844, accuracy: 0.6435999870300293\n",
      "Epoch  4, CIFAR-10 Batch 1:  cost: 0.6539279222488403, accuracy: 0.6452000141143799\n",
      "Epoch  4, CIFAR-10 Batch 2:  cost: 0.5704281330108643, accuracy: 0.5917999744415283\n",
      "Epoch  4, CIFAR-10 Batch 3:  cost: 0.4030838906764984, accuracy: 0.65420001745224\n",
      "Epoch  4, CIFAR-10 Batch 4:  cost: 0.44847041368484497, accuracy: 0.6618000268936157\n",
      "Epoch  4, CIFAR-10 Batch 5:  cost: 0.43964606523513794, accuracy: 0.6579999923706055\n",
      "Epoch  5, CIFAR-10 Batch 1:  cost: 0.4733918309211731, accuracy: 0.6589999794960022\n",
      "Epoch  5, CIFAR-10 Batch 2:  cost: 0.3801477551460266, accuracy: 0.6561999917030334\n",
      "Epoch  5, CIFAR-10 Batch 3:  cost: 0.27773910760879517, accuracy: 0.6588000059127808\n",
      "Epoch  5, CIFAR-10 Batch 4:  cost: 0.3897170424461365, accuracy: 0.6669999957084656\n",
      "Epoch  5, CIFAR-10 Batch 5:  cost: 0.28900596499443054, accuracy: 0.6478000283241272\n",
      "Epoch  6, CIFAR-10 Batch 1:  cost: 0.30007532238960266, accuracy: 0.6535999774932861\n",
      "Epoch  6, CIFAR-10 Batch 2:  cost: 0.2678578495979309, accuracy: 0.6638000011444092\n",
      "Epoch  6, CIFAR-10 Batch 3:  cost: 0.19902251660823822, accuracy: 0.652999997138977\n",
      "Epoch  6, CIFAR-10 Batch 4:  cost: 0.2809479534626007, accuracy: 0.6606000065803528\n",
      "Epoch  6, CIFAR-10 Batch 5:  cost: 0.21816286444664001, accuracy: 0.65420001745224\n",
      "Epoch  7, CIFAR-10 Batch 1:  cost: 0.26636773347854614, accuracy: 0.6363999843597412\n",
      "Epoch  7, CIFAR-10 Batch 2:  cost: 0.17677538096904755, accuracy: 0.6514000296592712\n",
      "Epoch  7, CIFAR-10 Batch 3:  cost: 0.12800189852714539, accuracy: 0.6779999732971191\n",
      "Epoch  7, CIFAR-10 Batch 4:  cost: 0.23155951499938965, accuracy: 0.6521999835968018\n",
      "Epoch  7, CIFAR-10 Batch 5:  cost: 0.13493391871452332, accuracy: 0.6362000107765198\n",
      "Epoch  8, CIFAR-10 Batch 1:  cost: 0.13786447048187256, accuracy: 0.6543999910354614\n",
      "Epoch  8, CIFAR-10 Batch 2:  cost: 0.09780488163232803, accuracy: 0.6615999937057495\n",
      "Epoch  8, CIFAR-10 Batch 3:  cost: 0.09229917824268341, accuracy: 0.6646000146865845\n",
      "Epoch  8, CIFAR-10 Batch 4:  cost: 0.11048878729343414, accuracy: 0.6480000019073486\n",
      "Epoch  8, CIFAR-10 Batch 5:  cost: 0.1307782679796219, accuracy: 0.6195999979972839\n",
      "Epoch  9, CIFAR-10 Batch 1:  cost: 0.09605319797992706, accuracy: 0.6620000004768372\n",
      "Epoch  9, CIFAR-10 Batch 2:  cost: 0.1870536059141159, accuracy: 0.6304000020027161\n",
      "Epoch  9, CIFAR-10 Batch 3:  cost: 0.04024790972471237, accuracy: 0.6498000025749207\n",
      "Epoch  9, CIFAR-10 Batch 4:  cost: 0.061130594462156296, accuracy: 0.6593999862670898\n",
      "Epoch  9, CIFAR-10 Batch 5:  cost: 0.12088891118764877, accuracy: 0.6380000114440918\n",
      "Epoch 10, CIFAR-10 Batch 1:  cost: 0.047633927315473557, accuracy: 0.6679999828338623\n",
      "Epoch 10, CIFAR-10 Batch 2:  cost: 0.06088339537382126, accuracy: 0.6759999990463257\n",
      "Epoch 10, CIFAR-10 Batch 3:  cost: 0.024148736149072647, accuracy: 0.6646000146865845\n",
      "Epoch 10, CIFAR-10 Batch 4:  cost: 0.06432919204235077, accuracy: 0.657800018787384\n",
      "Epoch 10, CIFAR-10 Batch 5:  cost: 0.06864200532436371, accuracy: 0.6714000105857849\n",
      "Epoch 11, CIFAR-10 Batch 1:  cost: 0.040502142161130905, accuracy: 0.6728000044822693\n",
      "Epoch 11, CIFAR-10 Batch 2:  cost: 0.03853069990873337, accuracy: 0.6665999889373779\n",
      "Epoch 11, CIFAR-10 Batch 3:  cost: 0.04708380252122879, accuracy: 0.6711999773979187\n",
      "Epoch 11, CIFAR-10 Batch 4:  cost: 0.07653167843818665, accuracy: 0.6358000040054321\n",
      "Epoch 11, CIFAR-10 Batch 5:  cost: 0.0401395782828331, accuracy: 0.6600000262260437\n",
      "Epoch 12, CIFAR-10 Batch 1:  cost: 0.05678318813443184, accuracy: 0.6628000140190125\n",
      "Epoch 12, CIFAR-10 Batch 2:  cost: 0.016760434955358505, accuracy: 0.6510000228881836\n",
      "Epoch 12, CIFAR-10 Batch 3:  cost: 0.02574637532234192, accuracy: 0.6679999828338623\n",
      "Epoch 12, CIFAR-10 Batch 4:  cost: 0.043211497366428375, accuracy: 0.6589999794960022\n",
      "Epoch 12, CIFAR-10 Batch 5:  cost: 0.024156196042895317, accuracy: 0.6534000039100647\n",
      "Epoch 13, CIFAR-10 Batch 1:  cost: 0.01918249949812889, accuracy: 0.6668000221252441\n",
      "Epoch 13, CIFAR-10 Batch 2:  cost: 0.010222027078270912, accuracy: 0.6385999917984009\n",
      "Epoch 13, CIFAR-10 Batch 3:  cost: 0.019596226513385773, accuracy: 0.6607999801635742\n",
      "Epoch 13, CIFAR-10 Batch 4:  cost: 0.02218768186867237, accuracy: 0.6654000282287598\n",
      "Epoch 13, CIFAR-10 Batch 5:  cost: 0.014646145515143871, accuracy: 0.6668000221252441\n",
      "Epoch 14, CIFAR-10 Batch 1:  cost: 0.02686353400349617, accuracy: 0.6579999923706055\n",
      "Epoch 14, CIFAR-10 Batch 2:  cost: 0.01741344854235649, accuracy: 0.6484000086784363\n",
      "Epoch 14, CIFAR-10 Batch 3:  cost: 0.005788873881101608, accuracy: 0.6462000012397766\n",
      "Epoch 14, CIFAR-10 Batch 4:  cost: 0.006137105170637369, accuracy: 0.6722000241279602\n",
      "Epoch 14, CIFAR-10 Batch 5:  cost: 0.01599903032183647, accuracy: 0.6647999882698059\n",
      "Epoch 15, CIFAR-10 Batch 1:  cost: 0.011846615001559258, accuracy: 0.6362000107765198\n",
      "Epoch 15, CIFAR-10 Batch 2:  cost: 0.013499146327376366, accuracy: 0.6460000276565552\n",
      "Epoch 15, CIFAR-10 Batch 3:  cost: 0.01518981158733368, accuracy: 0.6597999930381775\n",
      "Epoch 15, CIFAR-10 Batch 4:  cost: 0.007776287384331226, accuracy: 0.6571999788284302\n",
      "Epoch 15, CIFAR-10 Batch 5:  cost: 0.008350593037903309, accuracy: 0.6765999794006348\n",
      "Epoch 16, CIFAR-10 Batch 1:  cost: 0.014632245525717735, accuracy: 0.6642000079154968\n",
      "Epoch 16, CIFAR-10 Batch 2:  cost: 0.009992488659918308, accuracy: 0.6417999863624573\n",
      "Epoch 16, CIFAR-10 Batch 3:  cost: 0.00701886136084795, accuracy: 0.6773999929428101\n",
      "Epoch 16, CIFAR-10 Batch 4:  cost: 0.01283203810453415, accuracy: 0.6510000228881836\n",
      "Epoch 16, CIFAR-10 Batch 5:  cost: 0.006700102239847183, accuracy: 0.6697999835014343\n",
      "Epoch 17, CIFAR-10 Batch 1:  cost: 0.00396672124043107, accuracy: 0.6693999767303467\n",
      "Epoch 17, CIFAR-10 Batch 2:  cost: 0.0044259727001190186, accuracy: 0.6412000060081482\n",
      "Epoch 17, CIFAR-10 Batch 3:  cost: 0.0022096510510891676, accuracy: 0.6705999970436096\n",
      "Epoch 17, CIFAR-10 Batch 4:  cost: 0.008999073877930641, accuracy: 0.6600000262260437\n",
      "Epoch 17, CIFAR-10 Batch 5:  cost: 0.0025905997026711702, accuracy: 0.670199990272522\n",
      "Epoch 18, CIFAR-10 Batch 1:  cost: 0.013525545597076416, accuracy: 0.673799991607666\n",
      "Epoch 18, CIFAR-10 Batch 2:  cost: 0.0025191353633999825, accuracy: 0.6549999713897705\n",
      "Epoch 18, CIFAR-10 Batch 3:  cost: 0.002179510658606887, accuracy: 0.6777999997138977\n",
      "Epoch 18, CIFAR-10 Batch 4:  cost: 0.005526732187718153, accuracy: 0.6642000079154968\n",
      "Epoch 18, CIFAR-10 Batch 5:  cost: 0.005095196422189474, accuracy: 0.6650000214576721\n",
      "Epoch 19, CIFAR-10 Batch 1:  cost: 0.01025305688381195, accuracy: 0.6607999801635742\n",
      "Epoch 19, CIFAR-10 Batch 2:  cost: 0.008938830345869064, accuracy: 0.6484000086784363\n",
      "Epoch 19, CIFAR-10 Batch 3:  cost: 0.004094268195331097, accuracy: 0.676800012588501\n",
      "Epoch 19, CIFAR-10 Batch 4:  cost: 0.0062690912745893, accuracy: 0.6650000214576721\n",
      "Epoch 19, CIFAR-10 Batch 5:  cost: 0.0030129002407193184, accuracy: 0.6638000011444092\n",
      "Epoch 20, CIFAR-10 Batch 1:  cost: 0.001877250149846077, accuracy: 0.6715999841690063\n",
      "Epoch 20, CIFAR-10 Batch 2:  cost: 0.0046332525089383125, accuracy: 0.6452000141143799\n",
      "Epoch 20, CIFAR-10 Batch 3:  cost: 0.005032200366258621, accuracy: 0.6758000254631042\n",
      "Epoch 20, CIFAR-10 Batch 4:  cost: 0.008030140772461891, accuracy: 0.6574000120162964\n",
      "Epoch 20, CIFAR-10 Batch 5:  cost: 0.001570744439959526, accuracy: 0.6654000282287598\n",
      "Epoch 21, CIFAR-10 Batch 1:  cost: 0.0033563184551894665, accuracy: 0.6693999767303467\n",
      "Epoch 21, CIFAR-10 Batch 2:  cost: 0.0007428874960169196, accuracy: 0.6710000038146973\n",
      "Epoch 21, CIFAR-10 Batch 3:  cost: 0.004548223223537207, accuracy: 0.6809999942779541\n",
      "Epoch 21, CIFAR-10 Batch 4:  cost: 0.002977763069793582, accuracy: 0.6733999848365784\n",
      "Epoch 21, CIFAR-10 Batch 5:  cost: 0.0008506512967869639, accuracy: 0.6777999997138977\n",
      "Epoch 22, CIFAR-10 Batch 1:  cost: 0.0022669306490570307, accuracy: 0.6675999760627747\n",
      "Epoch 22, CIFAR-10 Batch 2:  cost: 0.0004103404935449362, accuracy: 0.6777999997138977\n",
      "Epoch 22, CIFAR-10 Batch 3:  cost: 0.002668272703886032, accuracy: 0.6678000092506409\n",
      "Epoch 22, CIFAR-10 Batch 4:  cost: 0.006490341387689114, accuracy: 0.6646000146865845\n",
      "Epoch 22, CIFAR-10 Batch 5:  cost: 0.004476640373468399, accuracy: 0.6614000201225281\n",
      "Epoch 23, CIFAR-10 Batch 1:  cost: 0.006572230253368616, accuracy: 0.6736000180244446\n",
      "Epoch 23, CIFAR-10 Batch 2:  cost: 0.0006337544182315469, accuracy: 0.6592000126838684\n",
      "Epoch 23, CIFAR-10 Batch 3:  cost: 0.0016144334804266691, accuracy: 0.6592000126838684\n",
      "Epoch 23, CIFAR-10 Batch 4:  cost: 0.0026775486767292023, accuracy: 0.6787999868392944\n",
      "Epoch 23, CIFAR-10 Batch 5:  cost: 0.002004265086725354, accuracy: 0.6650000214576721\n",
      "Epoch 24, CIFAR-10 Batch 1:  cost: 0.0019323716405779123, accuracy: 0.6827999949455261\n",
      "Epoch 24, CIFAR-10 Batch 2:  cost: 0.0004193583445157856, accuracy: 0.6836000084877014\n",
      "Epoch 24, CIFAR-10 Batch 3:  cost: 0.0005898930830881, accuracy: 0.6674000024795532\n",
      "Epoch 24, CIFAR-10 Batch 4:  cost: 0.0034621618688106537, accuracy: 0.6769999861717224\n",
      "Epoch 24, CIFAR-10 Batch 5:  cost: 0.003554958151653409, accuracy: 0.6621999740600586\n",
      "Epoch 25, CIFAR-10 Batch 1:  cost: 0.0013945023529231548, accuracy: 0.6840000152587891\n",
      "Epoch 25, CIFAR-10 Batch 2:  cost: 0.0010864547220990062, accuracy: 0.680400013923645\n",
      "Epoch 25, CIFAR-10 Batch 3:  cost: 0.0018683094531297684, accuracy: 0.6740000247955322\n",
      "Epoch 25, CIFAR-10 Batch 4:  cost: 0.0009120762115344405, accuracy: 0.6711999773979187\n",
      "Epoch 25, CIFAR-10 Batch 5:  cost: 0.0005092008505016565, accuracy: 0.6654000282287598\n",
      "Epoch 26, CIFAR-10 Batch 1:  cost: 0.000341638718964532, accuracy: 0.6801999807357788\n",
      "Epoch 26, CIFAR-10 Batch 2:  cost: 0.0012712801108136773, accuracy: 0.6661999821662903\n",
      "Epoch 26, CIFAR-10 Batch 3:  cost: 0.0005451105535030365, accuracy: 0.6732000112533569\n",
      "Epoch 26, CIFAR-10 Batch 4:  cost: 0.0017536910017952323, accuracy: 0.6725999712944031\n",
      "Epoch 26, CIFAR-10 Batch 5:  cost: 0.0006593228317797184, accuracy: 0.6615999937057495\n",
      "Epoch 27, CIFAR-10 Batch 1:  cost: 0.0010609746677801013, accuracy: 0.6759999990463257\n",
      "Epoch 27, CIFAR-10 Batch 2:  cost: 0.002095876494422555, accuracy: 0.6715999841690063\n",
      "Epoch 27, CIFAR-10 Batch 3:  cost: 0.0001277031551580876, accuracy: 0.6668000221252441\n",
      "Epoch 27, CIFAR-10 Batch 4:  cost: 0.0030968638602644205, accuracy: 0.6661999821662903\n",
      "Epoch 27, CIFAR-10 Batch 5:  cost: 0.0005053936620242894, accuracy: 0.6647999882698059\n",
      "Epoch 28, CIFAR-10 Batch 1:  cost: 0.001585581572726369, accuracy: 0.6765999794006348\n",
      "Epoch 28, CIFAR-10 Batch 2:  cost: 0.0014138215919956565, accuracy: 0.6740000247955322\n",
      "Epoch 28, CIFAR-10 Batch 3:  cost: 0.0013512527802959085, accuracy: 0.6611999869346619\n",
      "Epoch 28, CIFAR-10 Batch 4:  cost: 0.002908203983679414, accuracy: 0.6556000113487244\n",
      "Epoch 28, CIFAR-10 Batch 5:  cost: 0.003222506958991289, accuracy: 0.6657999753952026\n",
      "Epoch 29, CIFAR-10 Batch 1:  cost: 0.0006541861221194267, accuracy: 0.678600013256073\n",
      "Epoch 29, CIFAR-10 Batch 2:  cost: 0.0008452385663986206, accuracy: 0.6700000166893005\n",
      "Epoch 29, CIFAR-10 Batch 3:  cost: 0.0004070454160682857, accuracy: 0.6686000227928162\n",
      "Epoch 29, CIFAR-10 Batch 4:  cost: 0.0012020645663142204, accuracy: 0.6636000275611877\n",
      "Epoch 29, CIFAR-10 Batch 5:  cost: 0.00038812129059806466, accuracy: 0.6741999983787537\n",
      "Epoch 30, CIFAR-10 Batch 1:  cost: 0.0021899635903537273, accuracy: 0.6758000254631042\n",
      "Epoch 30, CIFAR-10 Batch 2:  cost: 0.0014190331567078829, accuracy: 0.670799970626831\n",
      "Epoch 30, CIFAR-10 Batch 3:  cost: 0.0009544625645503402, accuracy: 0.6740000247955322\n",
      "Epoch 30, CIFAR-10 Batch 4:  cost: 0.00043371538049541414, accuracy: 0.6711999773979187\n",
      "Epoch 30, CIFAR-10 Batch 5:  cost: 0.0004171860055066645, accuracy: 0.6732000112533569\n",
      "Epoch 31, CIFAR-10 Batch 1:  cost: 0.003903087927028537, accuracy: 0.675599992275238\n",
      "Epoch 31, CIFAR-10 Batch 2:  cost: 0.001467617228627205, accuracy: 0.6733999848365784\n",
      "Epoch 31, CIFAR-10 Batch 3:  cost: 0.002287625800818205, accuracy: 0.6675999760627747\n",
      "Epoch 31, CIFAR-10 Batch 4:  cost: 0.0007468316471204162, accuracy: 0.6668000221252441\n",
      "Epoch 31, CIFAR-10 Batch 5:  cost: 0.0013262351276353002, accuracy: 0.6746000051498413\n",
      "Epoch 32, CIFAR-10 Batch 1:  cost: 0.0023523722775280476, accuracy: 0.6787999868392944\n",
      "Epoch 32, CIFAR-10 Batch 2:  cost: 0.00021358029334805906, accuracy: 0.6848000288009644\n",
      "Epoch 32, CIFAR-10 Batch 3:  cost: 0.0004871482087764889, accuracy: 0.6777999997138977\n",
      "Epoch 32, CIFAR-10 Batch 4:  cost: 0.01099357195198536, accuracy: 0.6686000227928162\n",
      "Epoch 32, CIFAR-10 Batch 5:  cost: 0.000661910860799253, accuracy: 0.6741999983787537\n",
      "Epoch 33, CIFAR-10 Batch 1:  cost: 0.001849785097874701, accuracy: 0.6800000071525574\n",
      "Epoch 33, CIFAR-10 Batch 2:  cost: 0.0005768086994066834, accuracy: 0.6873999834060669\n",
      "Epoch 33, CIFAR-10 Batch 3:  cost: 0.0004823656636290252, accuracy: 0.6794000267982483\n",
      "Epoch 33, CIFAR-10 Batch 4:  cost: 0.0038540672976523638, accuracy: 0.6729999780654907\n",
      "Epoch 33, CIFAR-10 Batch 5:  cost: 0.0005302000790834427, accuracy: 0.678600013256073\n",
      "Epoch 34, CIFAR-10 Batch 1:  cost: 0.0010191004257649183, accuracy: 0.6693999767303467\n",
      "Epoch 34, CIFAR-10 Batch 2:  cost: 0.00039572035893797874, accuracy: 0.6643999814987183\n",
      "Epoch 34, CIFAR-10 Batch 3:  cost: 0.0008166364277713001, accuracy: 0.6773999929428101\n",
      "Epoch 34, CIFAR-10 Batch 4:  cost: 0.002165088662877679, accuracy: 0.6710000038146973\n",
      "Epoch 34, CIFAR-10 Batch 5:  cost: 7.400271715596318e-05, accuracy: 0.6772000193595886\n",
      "Epoch 35, CIFAR-10 Batch 1:  cost: 0.002818858250975609, accuracy: 0.6600000262260437\n",
      "Epoch 35, CIFAR-10 Batch 2:  cost: 0.005165734328329563, accuracy: 0.6808000206947327\n",
      "Epoch 35, CIFAR-10 Batch 3:  cost: 0.0010060758795589209, accuracy: 0.6801999807357788\n",
      "Epoch 35, CIFAR-10 Batch 4:  cost: 0.006699006073176861, accuracy: 0.6679999828338623\n",
      "Epoch 35, CIFAR-10 Batch 5:  cost: 0.0005025617429055274, accuracy: 0.6764000058174133\n",
      "Epoch 36, CIFAR-10 Batch 1:  cost: 0.000769542355556041, accuracy: 0.6725999712944031\n",
      "Epoch 36, CIFAR-10 Batch 2:  cost: 0.0002485216245986521, accuracy: 0.670799970626831\n",
      "Epoch 36, CIFAR-10 Batch 3:  cost: 7.275128155015409e-05, accuracy: 0.6718000173568726\n",
      "Epoch 36, CIFAR-10 Batch 4:  cost: 0.0010318733984604478, accuracy: 0.6705999970436096\n",
      "Epoch 36, CIFAR-10 Batch 5:  cost: 0.004154013004153967, accuracy: 0.6561999917030334\n",
      "Epoch 37, CIFAR-10 Batch 1:  cost: 0.0016475880984216928, accuracy: 0.657800018787384\n",
      "Epoch 37, CIFAR-10 Batch 2:  cost: 0.0004189779865555465, accuracy: 0.6746000051498413\n",
      "Epoch 37, CIFAR-10 Batch 3:  cost: 9.613964357413352e-05, accuracy: 0.6782000064849854\n",
      "Epoch 37, CIFAR-10 Batch 4:  cost: 0.0011210658121854067, accuracy: 0.6723999977111816\n",
      "Epoch 37, CIFAR-10 Batch 5:  cost: 0.00047500678920187056, accuracy: 0.6855999827384949\n",
      "Epoch 38, CIFAR-10 Batch 1:  cost: 0.004917255602777004, accuracy: 0.6661999821662903\n",
      "Epoch 38, CIFAR-10 Batch 2:  cost: 0.006313434336334467, accuracy: 0.670799970626831\n",
      "Epoch 38, CIFAR-10 Batch 3:  cost: 2.2402722606784664e-05, accuracy: 0.6869999766349792\n",
      "Epoch 38, CIFAR-10 Batch 4:  cost: 0.003843804122880101, accuracy: 0.6777999997138977\n",
      "Epoch 38, CIFAR-10 Batch 5:  cost: 0.00013403566845227033, accuracy: 0.680400013923645\n",
      "Epoch 39, CIFAR-10 Batch 1:  cost: 0.00024215919256675988, accuracy: 0.670199990272522\n",
      "Epoch 39, CIFAR-10 Batch 2:  cost: 0.00570697383955121, accuracy: 0.66839998960495\n",
      "Epoch 39, CIFAR-10 Batch 3:  cost: 0.00028486247174441814, accuracy: 0.6800000071525574\n",
      "Epoch 39, CIFAR-10 Batch 4:  cost: 0.0007714515668340027, accuracy: 0.6642000079154968\n",
      "Epoch 39, CIFAR-10 Batch 5:  cost: 0.00028290279442444444, accuracy: 0.6782000064849854\n",
      "Epoch 40, CIFAR-10 Batch 1:  cost: 0.004336761310696602, accuracy: 0.6593999862670898\n",
      "Epoch 40, CIFAR-10 Batch 2:  cost: 0.0008110239286907017, accuracy: 0.6801999807357788\n",
      "Epoch 40, CIFAR-10 Batch 3:  cost: 0.0003229735011700541, accuracy: 0.6899999976158142\n",
      "Epoch 40, CIFAR-10 Batch 4:  cost: 0.0006335604120977223, accuracy: 0.6632000207901001\n",
      "Epoch 40, CIFAR-10 Batch 5:  cost: 0.0011447337456047535, accuracy: 0.6782000064849854\n",
      "Epoch 41, CIFAR-10 Batch 1:  cost: 0.002490369137376547, accuracy: 0.670199990272522\n",
      "Epoch 41, CIFAR-10 Batch 2:  cost: 0.0013220520922914147, accuracy: 0.6759999990463257\n",
      "Epoch 41, CIFAR-10 Batch 3:  cost: 0.005957534536719322, accuracy: 0.6797999739646912\n",
      "Epoch 41, CIFAR-10 Batch 4:  cost: 0.0003229885478504002, accuracy: 0.6715999841690063\n",
      "Epoch 41, CIFAR-10 Batch 5:  cost: 0.0016399535816162825, accuracy: 0.6636000275611877\n",
      "Epoch 42, CIFAR-10 Batch 1:  cost: 0.0005457993829622865, accuracy: 0.6692000031471252\n",
      "Epoch 42, CIFAR-10 Batch 2:  cost: 0.0009923108154907823, accuracy: 0.6696000099182129\n",
      "Epoch 42, CIFAR-10 Batch 3:  cost: 0.0008324760710820556, accuracy: 0.6740000247955322\n",
      "Epoch 42, CIFAR-10 Batch 4:  cost: 0.0018984128255397081, accuracy: 0.6714000105857849\n",
      "Epoch 42, CIFAR-10 Batch 5:  cost: 0.000488123157992959, accuracy: 0.6574000120162964\n",
      "Epoch 43, CIFAR-10 Batch 1:  cost: 0.00026898481883108616, accuracy: 0.670199990272522\n",
      "Epoch 43, CIFAR-10 Batch 2:  cost: 0.001825634390115738, accuracy: 0.6769999861717224\n",
      "Epoch 43, CIFAR-10 Batch 3:  cost: 0.003385961754247546, accuracy: 0.6723999977111816\n",
      "Epoch 43, CIFAR-10 Batch 4:  cost: 0.001975793857127428, accuracy: 0.682200014591217\n",
      "Epoch 43, CIFAR-10 Batch 5:  cost: 0.0001296969421673566, accuracy: 0.6725999712944031\n",
      "Epoch 44, CIFAR-10 Batch 1:  cost: 0.0007964462856762111, accuracy: 0.6809999942779541\n",
      "Epoch 44, CIFAR-10 Batch 2:  cost: 0.0004516399058047682, accuracy: 0.6697999835014343\n",
      "Epoch 44, CIFAR-10 Batch 3:  cost: 0.0005045701982453465, accuracy: 0.676800012588501\n",
      "Epoch 44, CIFAR-10 Batch 4:  cost: 0.000520105182658881, accuracy: 0.6642000079154968\n",
      "Epoch 44, CIFAR-10 Batch 5:  cost: 0.0003938689478673041, accuracy: 0.6841999888420105\n",
      "Epoch 45, CIFAR-10 Batch 1:  cost: 0.001433562021702528, accuracy: 0.6754000186920166\n",
      "Epoch 45, CIFAR-10 Batch 2:  cost: 0.0006157842581160367, accuracy: 0.682200014591217\n",
      "Epoch 45, CIFAR-10 Batch 3:  cost: 0.0013053466100245714, accuracy: 0.6710000038146973\n",
      "Epoch 45, CIFAR-10 Batch 4:  cost: 0.00023890193551778793, accuracy: 0.6589999794960022\n",
      "Epoch 45, CIFAR-10 Batch 5:  cost: 0.00023288361262530088, accuracy: 0.6895999908447266\n",
      "Epoch 46, CIFAR-10 Batch 1:  cost: 0.0008220965974032879, accuracy: 0.6710000038146973\n",
      "Epoch 46, CIFAR-10 Batch 2:  cost: 0.00010703796579036862, accuracy: 0.6777999997138977\n",
      "Epoch 46, CIFAR-10 Batch 3:  cost: 0.0007341027958318591, accuracy: 0.6758000254631042\n",
      "Epoch 46, CIFAR-10 Batch 4:  cost: 0.0005463960114866495, accuracy: 0.6638000011444092\n",
      "Epoch 46, CIFAR-10 Batch 5:  cost: 0.0016517427284270525, accuracy: 0.673799991607666\n",
      "Epoch 47, CIFAR-10 Batch 1:  cost: 0.001029055449180305, accuracy: 0.671999990940094\n",
      "Epoch 47, CIFAR-10 Batch 2:  cost: 0.0019070565467700362, accuracy: 0.675599992275238\n",
      "Epoch 47, CIFAR-10 Batch 3:  cost: 0.000999568379484117, accuracy: 0.675000011920929\n",
      "Epoch 47, CIFAR-10 Batch 4:  cost: 0.00038458735798485577, accuracy: 0.6665999889373779\n",
      "Epoch 47, CIFAR-10 Batch 5:  cost: 0.00022150296717882156, accuracy: 0.6740000247955322\n",
      "Epoch 48, CIFAR-10 Batch 1:  cost: 0.0017145287711173296, accuracy: 0.6692000031471252\n",
      "Epoch 48, CIFAR-10 Batch 2:  cost: 0.00017729762475937605, accuracy: 0.6796000003814697\n",
      "Epoch 48, CIFAR-10 Batch 3:  cost: 0.0004906479734927416, accuracy: 0.6812000274658203\n",
      "Epoch 48, CIFAR-10 Batch 4:  cost: 0.000983451260253787, accuracy: 0.6692000031471252\n",
      "Epoch 48, CIFAR-10 Batch 5:  cost: 0.0001285066973650828, accuracy: 0.678600013256073\n",
      "Epoch 49, CIFAR-10 Batch 1:  cost: 0.0002664805215317756, accuracy: 0.6758000254631042\n",
      "Epoch 49, CIFAR-10 Batch 2:  cost: 0.0012906671036034822, accuracy: 0.6664000153541565\n",
      "Epoch 49, CIFAR-10 Batch 3:  cost: 0.0005535230739042163, accuracy: 0.671999990940094\n",
      "Epoch 49, CIFAR-10 Batch 4:  cost: 0.00014357214968185872, accuracy: 0.6693999767303467\n",
      "Epoch 49, CIFAR-10 Batch 5:  cost: 0.0006667990237474442, accuracy: 0.6711999773979187\n",
      "Epoch 50, CIFAR-10 Batch 1:  cost: 7.220666157081723e-05, accuracy: 0.6715999841690063\n",
      "Epoch 50, CIFAR-10 Batch 2:  cost: 0.004248165525496006, accuracy: 0.6858000159263611\n",
      "Epoch 50, CIFAR-10 Batch 3:  cost: 0.00034633142058737576, accuracy: 0.675000011920929\n",
      "Epoch 50, CIFAR-10 Batch 4:  cost: 2.9368462492129765e-05, accuracy: 0.6818000078201294\n",
      "Epoch 50, CIFAR-10 Batch 5:  cost: 0.0012618799228221178, accuracy: 0.682200014591217\n"
     ]
    }
   ],
   "source": [
    "\"\"\"\n",
    "DON'T MODIFY ANYTHING IN THIS CELL\n",
    "\"\"\"\n",
    "save_model_path = './image_classification'\n",
    "\n",
    "print('Training...')\n",
    "with tf.Session() as sess:\n",
    "    # Initializing the variables\n",
    "    sess.run(tf.global_variables_initializer())\n",
    "    \n",
    "    # Training cycle\n",
    "    for epoch in range(epochs):\n",
    "        # Loop over all batches\n",
    "        n_batches = 5\n",
    "        for batch_i in range(1, n_batches + 1):\n",
    "            for batch_features, batch_labels in helper.load_preprocess_training_batch(batch_i, batch_size):\n",
    "                train_neural_network(sess, optimizer, keep_probability, batch_features, batch_labels)\n",
    "            print('Epoch {:>2}, CIFAR-10 Batch {}:  '.format(epoch + 1, batch_i), end='')\n",
    "            print_stats(sess, batch_features, batch_labels, cost, accuracy)\n",
    "            \n",
    "    # Save Model\n",
    "    saver = tf.train.Saver()\n",
    "    save_path = saver.save(sess, save_model_path)"
   ]
  },
  {
   "cell_type": "markdown",
   "metadata": {},
   "source": [
    "# Checkpoint\n",
    "The model has been saved to disk.\n",
    "## Test Model\n",
    "Test your model against the test dataset.  This will be your final accuracy. You should have an accuracy greater than 50%. If you don't, keep tweaking the model architecture and parameters."
   ]
  },
  {
   "cell_type": "code",
   "execution_count": 18,
   "metadata": {
    "collapsed": false
   },
   "outputs": [
    {
     "name": "stdout",
     "output_type": "stream",
     "text": [
      "Testing Accuracy: 0.6745450949367089\n",
      "\n"
     ]
    },
    {
     "data": {
      "image/png": "[encoded data removed]",
      "text/plain": [
       "<matplotlib.figure.Figure at 0x10c9c2240>"
      ]
     },
     "metadata": {
      "image/png": {
       "height": 319,
       "width": 349
      }
     },
     "output_type": "display_data"
    }
   ],
   "source": [
    "\"\"\"\n",
    "DON'T MODIFY ANYTHING IN THIS CELL\n",
    "\"\"\"\n",
    "%matplotlib inline\n",
    "%config InlineBackend.figure_format = 'retina'\n",
    "\n",
    "import tensorflow as tf\n",
    "import pickle\n",
    "import helper\n",
    "import random\n",
    "\n",
    "# Set batch size if not already set\n",
    "try:\n",
    "    if batch_size:\n",
    "        pass\n",
    "except NameError:\n",
    "    batch_size = 64\n",
    "\n",
    "save_model_path = './image_classification'\n",
    "n_samples = 4\n",
    "top_n_predictions = 3\n",
    "\n",
    "def test_model():\n",
    "    \"\"\"\n",
    "    Test the saved model against the test dataset\n",
    "    \"\"\"\n",
    "\n",
    "    test_features, test_labels = pickle.load(open('preprocess_training.p', mode='rb'))\n",
    "    loaded_graph = tf.Graph()\n",
    "\n",
    "    with tf.Session(graph=loaded_graph) as sess:\n",
    "        # Load model\n",
    "        loader = tf.train.import_meta_graph(save_model_path + '.meta')\n",
    "        loader.restore(sess, save_model_path)\n",
    "\n",
    "        # Get Tensors from loaded model\n",
    "        loaded_x = loaded_graph.get_tensor_by_name('x:0')\n",
    "        loaded_y = loaded_graph.get_tensor_by_name('y:0')\n",
    "        loaded_keep_prob = loaded_graph.get_tensor_by_name('keep_prob:0')\n",
    "        loaded_logits = loaded_graph.get_tensor_by_name('logits:0')\n",
    "        loaded_acc = loaded_graph.get_tensor_by_name('accuracy:0')\n",
    "        \n",
    "        # Get accuracy in batches for memory limitations\n",
    "        test_batch_acc_total = 0\n",
    "        test_batch_count = 0\n",
    "        \n",
    "        for train_feature_batch, train_label_batch in helper.batch_features_labels(test_features, test_labels, batch_size):\n",
    "            test_batch_acc_total += sess.run(\n",
    "                loaded_acc,\n",
    "                feed_dict={loaded_x: train_feature_batch, loaded_y: train_label_batch, loaded_keep_prob: 1.0})\n",
    "            test_batch_count += 1\n",
    "\n",
    "        print('Testing Accuracy: {}\\n'.format(test_batch_acc_total/test_batch_count))\n",
    "\n",
    "        # Print Random Samples\n",
    "        random_test_features, random_test_labels = tuple(zip(*random.sample(list(zip(test_features, test_labels)), n_samples)))\n",
    "        random_test_predictions = sess.run(\n",
    "            tf.nn.top_k(tf.nn.softmax(loaded_logits), top_n_predictions),\n",
    "            feed_dict={loaded_x: random_test_features, loaded_y: random_test_labels, loaded_keep_prob: 1.0})\n",
    "        helper.display_image_predictions(random_test_features, random_test_labels, random_test_predictions)\n",
    "\n",
    "\n",
    "test_model()"
   ]
  },
  {
   "cell_type": "markdown",
   "metadata": {},
   "source": [
    "## Why 50-70% Accuracy?\n",
    "You might be wondering why you can't get an accuracy any higher. First things first, 50% isn't bad for a simple CNN.  Pure guessing would get you 10% accuracy. However, you might notice people are getting scores [well above 70%](http://rodrigob.github.io/are_we_there_yet/build/classification_datasets_results.html#43494641522d3130).  That's because we haven't taught you all there is to know about neural networks. We still need to cover a few more techniques.\n",
    "## Submitting This Project\n",
    "When submitting this project, make sure to run all the cells before saving the notebook.  Save the notebook file as \"dlnd_image_classification.ipynb\" and save it as a HTML file under \"File\" -> \"Download as\".  Include the \"helper.py\" and \"problem_unittests.py\" files in your submission."
   ]
  }
 ],
 "metadata": {
  "kernelspec": {
   "display_name": "Python 3",
   "language": "python",
   "name": "python3"
  },
  "language_info": {
   "codemirror_mode": {
    "name": "ipython",
    "version": 3
   },
   "file_extension": ".py",
   "mimetype": "text/x-python",
   "name": "python",
   "nbconvert_exporter": "python",
   "pygments_lexer": "ipython3",
   "version": "3.6.0"
  }
 },
 "nbformat": 4,
 "nbformat_minor": 0
}
