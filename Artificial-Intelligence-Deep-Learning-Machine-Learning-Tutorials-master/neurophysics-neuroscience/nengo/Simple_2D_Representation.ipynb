{
 "cells": [
  {
   "cell_type": "markdown",
   "metadata": {},
   "source": [
    "# Basics with Nengo"
   ]
  },
  {
   "cell_type": "markdown",
   "metadata": {},
   "source": [
    "## Part 1 - 2 Dimensional Representation\n",
    "\n",
    "Ensembles of neurons represent information. In Nengo, we represent that information with real-valued vectors, a list of numbers, say. \n",
    "\n",
    "Here we will represent a 2D vector with a singular ensemble of leaky integrate & fire neurons."
   ]
  },
  {
   "cell_type": "code",
   "execution_count": 1,
   "metadata": {},
   "outputs": [
    {
     "data": {
      "application/javascript": [
       "\n",
       "    define('nengo', [\"jupyter-js-widgets\"], function(widgets) {\n",
       "        \n",
       "      var NengoProgressBar = widgets.DOMWidgetView.extend({\n",
       "        render: function() {\n",
       "          // Work-around for messed up CSS in IPython 4\n",
       "          $('.widget-subarea').css({flex: '2 1 0%'});\n",
       "          // $el is the DOM of the widget\n",
       "          this.$el.css({width: '100%', marginBottom: '0.5em'});\n",
       "          this.$el.html([\n",
       "            '<div style=\"',\n",
       "                'width: 100%;',\n",
       "                'border: 1px solid #cfcfcf;',\n",
       "                'border-radius: 4px;',\n",
       "                'text-align: center;',\n",
       "                'position: relative;\">',\n",
       "              '<div class=\"pb-text\" style=\"',\n",
       "                  'position: absolute;',\n",
       "                  'width: 100%;\">',\n",
       "                '0%',\n",
       "              '</div>',\n",
       "              '<div class=\"pb-bar\" style=\"',\n",
       "                  'background-color: #bdd2e6;',\n",
       "                  'width: 0%;',\n",
       "                  'transition: width 0.1s linear;\">',\n",
       "                '&nbsp;',\n",
       "              '</div>',\n",
       "            '</div>'].join(''));\n",
       "        },\n",
       "\n",
       "        update: function() {\n",
       "          this.$el.css({width: '100%', marginBottom: '0.5em'});\n",
       "          var progress = 100 * this.model.get('progress');\n",
       "          var text = this.model.get('text');\n",
       "          this.$el.find('div.pb-bar').width(progress.toString() + '%');\n",
       "          this.$el.find('div.pb-text').html(text);\n",
       "        },\n",
       "      });\n",
       "    \n",
       "\n",
       "      return {\n",
       "        NengoProgressBar: NengoProgressBar\n",
       "      };\n",
       "    });"
      ],
      "text/plain": [
       "<IPython.core.display.Javascript object>"
      ]
     },
     "metadata": {},
     "output_type": "display_data"
    }
   ],
   "source": [
    "import matplotlib.pyplot as plt\n",
    "import numpy as np\n",
    "%matplotlib inline\n",
    "import nengo\n",
    "%load_ext nengo.ipynb"
   ]
  },
  {
   "cell_type": "markdown",
   "metadata": {},
   "source": [
    "## Build the network "
   ]
  },
  {
   "cell_type": "code",
   "execution_count": 2,
   "metadata": {
    "collapsed": true
   },
   "outputs": [],
   "source": [
    "mindmodel = nengo.Network(label=\"2D Space\")\n",
    "with mindmodel:\n",
    "    neurons = nengo.Ensemble(100, dimensions=2)"
   ]
  },
  {
   "cell_type": "markdown",
   "metadata": {},
   "source": [
    "## Provide input "
   ]
  },
  {
   "cell_type": "code",
   "execution_count": 3,
   "metadata": {
    "collapsed": true
   },
   "outputs": [],
   "source": [
    "import numpy as np\n",
    "with mindmodel:\n",
    "    sin = nengo.Node(output=np.sin)\n",
    "    cos = nengo.Node(output=np.cos)"
   ]
  },
  {
   "cell_type": "markdown",
   "metadata": {},
   "source": [
    "## Connect input to ensemble\n",
    "\n",
    "Here we connect the input nodes representing the sine and cosines"
   ]
  },
  {
   "cell_type": "code",
   "execution_count": 4,
   "metadata": {
    "collapsed": true
   },
   "outputs": [],
   "source": [
    "with mindmodel:\n",
    "    nengo.Connection(sin, neurons[0])\n",
    "    nengo.Connection(cos, neurons[1])"
   ]
  },
  {
   "cell_type": "markdown",
   "metadata": {},
   "source": [
    "## Probe outputs\n",
    "\n",
    "Anything that is probed will collect the data if produces over time, allowing us to analyze and visualzie it later.\n"
   ]
  },
  {
   "cell_type": "code",
   "execution_count": 6,
   "metadata": {},
   "outputs": [],
   "source": [
    "# Lets get the data\n",
    "with mindmodel:\n",
    "    sin_probe = nengo.Probe(sin, \"output\")\n",
    "    cos_probe = nengo.Probe(cos, \"output\")\n",
    "    neurons_probe = nengo.Probe(neurons, \"decoded_output\", synapse=0.01)"
   ]
  },
  {
   "cell_type": "markdown",
   "metadata": {},
   "source": [
    "## Finally, lets run the model\n",
    "\n",
    "To run the mode, we have to create a simulator. Then, we can run that simulator continuously without affecting the original model."
   ]
  },
  {
   "cell_type": "code",
   "execution_count": 8,
   "metadata": {},
   "outputs": [
    {
     "name": "stderr",
     "output_type": "stream",
     "text": [
      "Widget Javascript not detected.  It may not be installed or enabled properly.\n"
     ]
    },
    {
     "data": {
      "application/vnd.jupyter.widget-view+json": {
       "model_id": "d99d804b0b8d4396913f46b2f448a9db"
      }
     },
     "metadata": {},
     "output_type": "display_data"
    },
    {
     "name": "stderr",
     "output_type": "stream",
     "text": [
      "Widget Javascript not detected.  It may not be installed or enabled properly.\n"
     ]
    },
    {
     "data": {
      "application/vnd.jupyter.widget-view+json": {
       "model_id": "fa242201cbee470f97b0e4f6d4c4685a"
      }
     },
     "metadata": {},
     "output_type": "display_data"
    },
    {
     "data": {
      "text/plain": [
       "<matplotlib.text.Text at 0x7f2231946ac8>"
      ]
     },
     "execution_count": 8,
     "metadata": {},
     "output_type": "execute_result"
    },
    {
     "data": {
      "image/png": "[encoded data removed]",
      "text/plain": [
       "<matplotlib.figure.Figure at 0x7f2230688940>"
      ]
     },
     "metadata": {},
     "output_type": "display_data"
    }
   ],
   "source": [
    "# Create a simulator\n",
    "with nengo.Simulator(mindmodel) as sim:\n",
    "    sim.run(5) # make it run for 5 seconds\n",
    "    \n",
    "# Lets plot the decoded output of the ensemble\n",
    "plt.figure()\n",
    "plt.plot(sim.trange(), sim.data[neurons_probe], label=\"Decoded output\")\n",
    "plt.plot(sim.trange(), sim.data[sin_probe], 'c', label=\"Sine\")\n",
    "plt.plot(sim.trange(), sim.data[cos_probe], 'k', label=\"Cosine\")\n",
    "plt.legend()\n",
    "plt.xlabel(\"time [s]\")"
   ]
  },
  {
   "cell_type": "markdown",
   "metadata": {},
   "source": [
    "## Part 2: Firing many neurons\n",
    "\n",
    "Construct and manipulate a population of neurons. There are 100 leaky and fire neurons. The neuron tuning properties have ben randomly selected."
   ]
  }
 ],
 "metadata": {
  "kernelspec": {
   "display_name": "Python 3",
   "language": "python",
   "name": "python3"
  },
  "language_info": {
   "codemirror_mode": {
    "name": "ipython",
    "version": 3
   },
   "file_extension": ".py",
   "mimetype": "text/x-python",
   "name": "python",
   "nbconvert_exporter": "python",
   "pygments_lexer": "ipython3",
   "version": "3.6.1"
  }
 },
 "nbformat": 4,
 "nbformat_minor": 2
}
