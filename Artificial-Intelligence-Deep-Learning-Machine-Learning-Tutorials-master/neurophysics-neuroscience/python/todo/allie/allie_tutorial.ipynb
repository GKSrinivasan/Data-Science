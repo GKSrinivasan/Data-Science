{
 "cells": [
  {
   "cell_type": "code",
   "execution_count": 1,
   "metadata": {
    "collapsed": true
   },
   "outputs": [],
   "source": [
    "### This one uses a lot of custom matlab code. Might be better\n",
    "### to write a python tutorial that utilizes toolboxes and common functinos"
   ]
  },
  {
   "cell_type": "code",
   "execution_count": 3,
   "metadata": {},
   "outputs": [],
   "source": [
    "import scipy.io as si\n",
    "import numpy as np\n",
    "import matplotlib.pyplot as plt\n",
    "import nilearn as ni\n",
    "import xarray as xr\n",
    "%matplotlib inline"
   ]
  },
  {
   "cell_type": "code",
   "execution_count": 5,
   "metadata": {
    "scrolled": true
   },
   "outputs": [],
   "source": [
    "import numpy as np\n",
    "from nipy.core.api import Image, vox2mni"
   ]
  },
  {
   "cell_type": "code",
   "execution_count": 6,
   "metadata": {},
   "outputs": [
    {
     "ename": "FileNotFoundError",
     "evalue": "[Errno 2] No such file or directory: '../Allie/SfN_materials/Classification/code/fmriDat.mat'",
     "output_type": "error",
     "traceback": [
      "\u001b[0;31m---------------------------------------------------------------------------\u001b[0m",
      "\u001b[0;31mFileNotFoundError\u001b[0m                         Traceback (most recent call last)",
      "\u001b[0;32m<ipython-input-6-01a24fb99e57>\u001b[0m in \u001b[0;36m<module>\u001b[0;34m()\u001b[0m\n\u001b[1;32m      1\u001b[0m \u001b[0;31m## Load the data\u001b[0m\u001b[0;34m\u001b[0m\u001b[0;34m\u001b[0m\u001b[0m\n\u001b[0;32m----> 2\u001b[0;31m \u001b[0mdata\u001b[0m \u001b[0;34m=\u001b[0m \u001b[0msi\u001b[0m\u001b[0;34m.\u001b[0m\u001b[0mloadmat\u001b[0m\u001b[0;34m(\u001b[0m\u001b[0;34m'../Allie/SfN_materials/Classification/code/fmriDat.mat'\u001b[0m\u001b[0;34m)\u001b[0m\u001b[0;34m\u001b[0m\u001b[0m\n\u001b[0m",
      "\u001b[0;32m~/anaconda/lib/python3.6/site-packages/scipy/io/matlab/mio.py\u001b[0m in \u001b[0;36mloadmat\u001b[0;34m(file_name, mdict, appendmat, **kwargs)\u001b[0m\n\u001b[1;32m    133\u001b[0m     \"\"\"\n\u001b[1;32m    134\u001b[0m     \u001b[0mvariable_names\u001b[0m \u001b[0;34m=\u001b[0m \u001b[0mkwargs\u001b[0m\u001b[0;34m.\u001b[0m\u001b[0mpop\u001b[0m\u001b[0;34m(\u001b[0m\u001b[0;34m'variable_names'\u001b[0m\u001b[0;34m,\u001b[0m \u001b[0;32mNone\u001b[0m\u001b[0;34m)\u001b[0m\u001b[0;34m\u001b[0m\u001b[0m\n\u001b[0;32m--> 135\u001b[0;31m     \u001b[0mMR\u001b[0m \u001b[0;34m=\u001b[0m \u001b[0mmat_reader_factory\u001b[0m\u001b[0;34m(\u001b[0m\u001b[0mfile_name\u001b[0m\u001b[0;34m,\u001b[0m \u001b[0mappendmat\u001b[0m\u001b[0;34m,\u001b[0m \u001b[0;34m**\u001b[0m\u001b[0mkwargs\u001b[0m\u001b[0;34m)\u001b[0m\u001b[0;34m\u001b[0m\u001b[0m\n\u001b[0m\u001b[1;32m    136\u001b[0m     \u001b[0mmatfile_dict\u001b[0m \u001b[0;34m=\u001b[0m \u001b[0mMR\u001b[0m\u001b[0;34m.\u001b[0m\u001b[0mget_variables\u001b[0m\u001b[0;34m(\u001b[0m\u001b[0mvariable_names\u001b[0m\u001b[0;34m)\u001b[0m\u001b[0;34m\u001b[0m\u001b[0m\n\u001b[1;32m    137\u001b[0m     \u001b[0;32mif\u001b[0m \u001b[0mmdict\u001b[0m \u001b[0;32mis\u001b[0m \u001b[0;32mnot\u001b[0m \u001b[0;32mNone\u001b[0m\u001b[0;34m:\u001b[0m\u001b[0;34m\u001b[0m\u001b[0m\n",
      "\u001b[0;32m~/anaconda/lib/python3.6/site-packages/scipy/io/matlab/mio.py\u001b[0m in \u001b[0;36mmat_reader_factory\u001b[0;34m(file_name, appendmat, **kwargs)\u001b[0m\n\u001b[1;32m     56\u001b[0m        \u001b[0mtype\u001b[0m \u001b[0mdetected\u001b[0m \u001b[0;32min\u001b[0m\u001b[0;31m \u001b[0m\u001b[0;31m`\u001b[0m\u001b[0mfilename\u001b[0m\u001b[0;31m`\u001b[0m\u001b[0;34m.\u001b[0m\u001b[0;34m\u001b[0m\u001b[0m\n\u001b[1;32m     57\u001b[0m     \"\"\"\n\u001b[0;32m---> 58\u001b[0;31m     \u001b[0mbyte_stream\u001b[0m \u001b[0;34m=\u001b[0m \u001b[0m_open_file\u001b[0m\u001b[0;34m(\u001b[0m\u001b[0mfile_name\u001b[0m\u001b[0;34m,\u001b[0m \u001b[0mappendmat\u001b[0m\u001b[0;34m)\u001b[0m\u001b[0;34m\u001b[0m\u001b[0m\n\u001b[0m\u001b[1;32m     59\u001b[0m     \u001b[0mmjv\u001b[0m\u001b[0;34m,\u001b[0m \u001b[0mmnv\u001b[0m \u001b[0;34m=\u001b[0m \u001b[0mget_matfile_version\u001b[0m\u001b[0;34m(\u001b[0m\u001b[0mbyte_stream\u001b[0m\u001b[0;34m)\u001b[0m\u001b[0;34m\u001b[0m\u001b[0m\n\u001b[1;32m     60\u001b[0m     \u001b[0;32mif\u001b[0m \u001b[0mmjv\u001b[0m \u001b[0;34m==\u001b[0m \u001b[0;36m0\u001b[0m\u001b[0;34m:\u001b[0m\u001b[0;34m\u001b[0m\u001b[0m\n",
      "\u001b[0;32m~/anaconda/lib/python3.6/site-packages/scipy/io/matlab/mio.py\u001b[0m in \u001b[0;36m_open_file\u001b[0;34m(file_like, appendmat)\u001b[0m\n\u001b[1;32m     21\u001b[0m     \u001b[0;32mif\u001b[0m \u001b[0misinstance\u001b[0m\u001b[0;34m(\u001b[0m\u001b[0mfile_like\u001b[0m\u001b[0;34m,\u001b[0m \u001b[0mstring_types\u001b[0m\u001b[0;34m)\u001b[0m\u001b[0;34m:\u001b[0m\u001b[0;34m\u001b[0m\u001b[0m\n\u001b[1;32m     22\u001b[0m         \u001b[0;32mtry\u001b[0m\u001b[0;34m:\u001b[0m\u001b[0;34m\u001b[0m\u001b[0m\n\u001b[0;32m---> 23\u001b[0;31m             \u001b[0;32mreturn\u001b[0m \u001b[0mopen\u001b[0m\u001b[0;34m(\u001b[0m\u001b[0mfile_like\u001b[0m\u001b[0;34m,\u001b[0m \u001b[0;34m'rb'\u001b[0m\u001b[0;34m)\u001b[0m\u001b[0;34m\u001b[0m\u001b[0m\n\u001b[0m\u001b[1;32m     24\u001b[0m         \u001b[0;32mexcept\u001b[0m \u001b[0mIOError\u001b[0m \u001b[0;32mas\u001b[0m \u001b[0me\u001b[0m\u001b[0;34m:\u001b[0m\u001b[0;34m\u001b[0m\u001b[0m\n\u001b[1;32m     25\u001b[0m             \u001b[0;32mif\u001b[0m \u001b[0mappendmat\u001b[0m \u001b[0;32mand\u001b[0m \u001b[0;32mnot\u001b[0m \u001b[0mfile_like\u001b[0m\u001b[0;34m.\u001b[0m\u001b[0mendswith\u001b[0m\u001b[0;34m(\u001b[0m\u001b[0;34m'.mat'\u001b[0m\u001b[0;34m)\u001b[0m\u001b[0;34m:\u001b[0m\u001b[0;34m\u001b[0m\u001b[0m\n",
      "\u001b[0;31mFileNotFoundError\u001b[0m: [Errno 2] No such file or directory: '../Allie/SfN_materials/Classification/code/fmriDat.mat'"
     ]
    }
   ],
   "source": [
    "## Load the data\n",
    "data = si.loadmat('../Allie/SfN_materials/Classification/code/fmriDat.mat')"
   ]
  },
  {
   "cell_type": "code",
   "execution_count": 70,
   "metadata": {
    "collapsed": true
   },
   "outputs": [],
   "source": [
    "fmri = data['activity']\n",
    "ntrial, nvox, ntime = fmri.shape"
   ]
  },
  {
   "cell_type": "code",
   "execution_count": 76,
   "metadata": {
    "collapsed": true
   },
   "outputs": [],
   "source": [
    "# Plot the activity \n",
    "itrial = 50    # value of trial to plot\n",
    "iz = 7        # value of z to plot\n",
    "it = 14        # value of t to plot"
   ]
  },
  {
   "cell_type": "code",
   "execution_count": 77,
   "metadata": {},
   "outputs": [],
   "source": [
    "import nibabel as nb"
   ]
  },
  {
   "cell_type": "code",
   "execution_count": 78,
   "metadata": {
    "collapsed": true
   },
   "outputs": [],
   "source": [
    "from sklearn.preprocessing import scale"
   ]
  },
  {
   "cell_type": "code",
   "execution_count": 79,
   "metadata": {},
   "outputs": [],
   "source": [
    "meta = data['metaDat'][0, 0][0]\n",
    "meta = meta - 1"
   ]
  },
  {
   "cell_type": "code",
   "execution_count": 80,
   "metadata": {},
   "outputs": [],
   "source": [
    "mask_z = meta[:, 2] == iz\n",
    "fmri_slice = fmri[itrial][mask_z][:, it]\n",
    "space = np.zeros([meta[:, 0].max(), meta[:, 1].max()])"
   ]
  },
  {
   "cell_type": "code",
   "execution_count": 81,
   "metadata": {},
   "outputs": [
    {
     "ename": "IndexError",
     "evalue": "index 50 is out of bounds for axis 0 with size 50",
     "output_type": "error",
     "traceback": [
      "\u001b[0;31m---------------------------------------------------------------------------\u001b[0m",
      "\u001b[0;31mIndexError\u001b[0m                                Traceback (most recent call last)",
      "\u001b[0;32m<ipython-input-81-3008941e3eec>\u001b[0m in \u001b[0;36m<module>\u001b[0;34m()\u001b[0m\n\u001b[1;32m      1\u001b[0m \u001b[0;32mfor\u001b[0m \u001b[0mivox\u001b[0m\u001b[0;34m,\u001b[0m \u001b[0;34m(\u001b[0m\u001b[0mix\u001b[0m\u001b[0;34m,\u001b[0m \u001b[0miy\u001b[0m\u001b[0;34m)\u001b[0m \u001b[0;32min\u001b[0m \u001b[0mzip\u001b[0m\u001b[0;34m(\u001b[0m\u001b[0mfmri_slice\u001b[0m\u001b[0;34m,\u001b[0m \u001b[0mmeta\u001b[0m\u001b[0;34m[\u001b[0m\u001b[0mmask_z\u001b[0m\u001b[0;34m]\u001b[0m\u001b[0;34m[\u001b[0m\u001b[0;34m:\u001b[0m\u001b[0;34m,\u001b[0m \u001b[0;34m:\u001b[0m\u001b[0;36m2\u001b[0m\u001b[0;34m]\u001b[0m\u001b[0;34m)\u001b[0m\u001b[0;34m:\u001b[0m\u001b[0;34m\u001b[0m\u001b[0m\n\u001b[0;32m----> 2\u001b[0;31m     \u001b[0mspace\u001b[0m\u001b[0;34m[\u001b[0m\u001b[0mix\u001b[0m\u001b[0;34m,\u001b[0m \u001b[0miy\u001b[0m\u001b[0;34m]\u001b[0m \u001b[0;34m=\u001b[0m \u001b[0mivox\u001b[0m\u001b[0;34m\u001b[0m\u001b[0m\n\u001b[0m",
      "\u001b[0;31mIndexError\u001b[0m: index 50 is out of bounds for axis 0 with size 50"
     ]
    }
   ],
   "source": [
    "for ivox, (ix, iy) in zip(fmri_slice, meta[mask_z][:, :2]):\n",
    "    space[ix, iy] = ivox"
   ]
  },
  {
   "cell_type": "code",
   "execution_count": null,
   "metadata": {
    "collapsed": true
   },
   "outputs": [],
   "source": []
  },
  {
   "cell_type": "code",
   "execution_count": 59,
   "metadata": {},
   "outputs": [
    {
     "data": {
      "text/plain": [
       "<matplotlib.image.AxesImage at 0x110fde2d0>"
      ]
     },
     "execution_count": 59,
     "metadata": {},
     "output_type": "execute_result"
    },
    {
     "data": {
      "image/png": "[encoded data removed]",
      "text/plain": [
       "<matplotlib.figure.Figure at 0x110fde810>"
      ]
     },
     "metadata": {},
     "output_type": "display_data"
    }
   ],
   "source": [
    "fig, ax = plt.subplots()\n",
    "ax.imshow(space, vmin)"
   ]
  },
  {
   "cell_type": "code",
   "execution_count": null,
   "metadata": {
    "collapsed": true
   },
   "outputs": [],
   "source": [
    "## Plotting the data\n",
    "plotActivity(activity, metaDat, itrial, iz, it)\n",
    "\n",
    "# Add a colorbar\n",
    "colorbar()\n",
    "\n",
    "##\n",
    "# Now plot the activity from one of the trials where the\n",
    "# patient was seeing the picture \n",
    "itrial = 50  # value of trial to plot\n",
    "iz = 8         # value of z to plot\n",
    "itime = 14     # value of t to plot\n",
    "\n",
    "# Measure the max and min on the snap with in the \"task\" trial.\n",
    "# When we plot the rest and task trials together, we can place\n",
    "# them on the same color scale.\n",
    "vmax = max(activity(itrial,:,itime))\n",
    "vmin = min(activity(itrial,:,itime))\n",
    "\n",
    "subplot(1,2,2)\n",
    "plotActivity(activity, metaDat, itrial, iz, it, vmin, vmax)\n",
    "title('Sentence')\n",
    "set(gca,'FontSize',16)\n",
    "\n",
    "# Now plot the fMRI from a \"sentence\" trial\n",
    "itrial = 10       # value of trial to plot\n",
    "iz = 8            # value of z to plot\n",
    "itime = 14        # value of t to plot\n",
    "subplot(1,2,1)\n",
    "plotActivity(activity, metaDat, itrial, iz, it, vmin, vmax)\n",
    "title('Picture')\n",
    "set(gca,'FontSize',16)\n",
    "\n",
    "## Exercise 1\n",
    "# (a) In trial 50, find the average activity in each voxel over time.\n",
    "\n",
    "# Soln:  Get the activity.  Use the squeeze command to remove the first\n",
    "# dimension \n",
    "itrial = 50\n",
    "A = squeeze(activity(itrial,:,:))   \n",
    "    \n",
    "Amean = mean(A,2)          # Average over second dimension, i.e. time\n",
    "\n",
    "# (b) Find the voxels with the three largest average activities\n",
    "[Asort,Isort] = sort(Amean, 'descend')\n",
    "pos = metaDat.colToCoord(Isort(1:3),:)\n",
    "\n",
    "# In trial 50, time=40, find the x,y,z locations of the voxels with the\n",
    "# three largest average activities.  \n",
    "\n",
    "\n",
    "## Scatter plot for a Single Variable Classifier\n",
    "\n",
    "# Get a single variable.  We will explain how to select the variable below\n",
    "itime = 14     # time point within each trial\n",
    "ivox = 4688   # voxel index within the time\n",
    "\n",
    "# Get the activity values on the selected voxel\n",
    "x = activity(:,ivox,itime)\n",
    "\n",
    "# Get the labels.  Since the labels in the data are 1 and 2,\n",
    "# we subtract 1 to make the labels y=0 or 1.\n",
    "y = labels-1\n",
    "\n",
    "# Go to one subplot\n",
    "subplot(1,1,1)\n",
    "\n",
    "# Find samples where y==0 and plot those\n",
    "I0 = (y==0)\n",
    "plot(x(I0),y(I0),'o','LineWidth',3)\n",
    "hold on\n",
    "\n",
    "# Find samples where y==1 and plot those\n",
    "I1 = (y==1)\n",
    "plot(x(I1),y(I1),'x','LineWidth',3)\n",
    "hold off\n",
    "\n",
    "# Add grid lines, legend, etc...\n",
    "grid on\n",
    "set(gca,'FontSize',16)\n",
    "legend('Picture','Sentence','Location','NorthWest')\n",
    "xlabel('Activity')\n",
    "ylabel('Class')\n",
    "axis([-15 20 -0.2 1.2])\n",
    "\n",
    "## Exercise 2\n",
    "# For the selected voxel activities x, find the \n",
    "#    average during a sentence (y==1), \n",
    "#    average during a picture (y==0), \n",
    "#    standard deviation \n",
    "#    normalized shift\n",
    "\n",
    "# Get indices where y==0 or 1\n",
    "I0 = (y==0)\n",
    "I1 = (y==1)\n",
    "\n",
    "# Find average in each class, the std deviation, and\n",
    "# normalized shift\n",
    "xmean0 = mean(x(I0))\n",
    "xmean1 = mean(x(I1))\n",
    "xstd = std(x)\n",
    "zshift = (xmean1-xmean0)/xstd\n",
    "\n",
    "fprintf(1,'xmean0 = #f, xmean1 = #f\\n', xmean0, xmean1)\n",
    "fprintf(1,'xstd = #f\\n', xstd)\n",
    "fprintf(1,'normalized shift = #f\\n', zshift )\n",
    "\n",
    "\n",
    "\n",
    "## Optimizing the Threshold\n",
    "\n",
    "# Plot accuracy vs. threshold\n",
    "tvals = linspace(min(x),max(x),500)\n",
    "ntvals = length(tvals)\n",
    "acc = zeros(ntvals,1)\n",
    "for i = 1:ntvals\n",
    "    t = tvals(i)\n",
    "    yhat = (x>t)\n",
    "    acc(i) = mean( yhat == y )\n",
    "end\n",
    "plot(tvals,acc,'-','LineWidth',3)\n",
    "grid on\n",
    "xlabel('Threshold')\n",
    "ylabel('Accuracy')\n",
    "set(gca,'FontSize',16)\n",
    "\n",
    "# Find the optimal threshold\n",
    "[accmax,im] = max(acc)\n",
    "tmax = tvals(im)\n",
    "fprintf(1,'Max acc = #7.2f, t=#7.2f\\n', accmax, tmax)\n",
    "\n",
    "\n",
    "## Exercise 3:  \n",
    "# Modify the above code to plot the FPR and FNR\n",
    "# for each threshold value.  Plot FPR and FPR vs. t\n",
    "# Add a legend to your graph\n",
    "\n",
    "# Plot FPR and FNR vs. threshold\n",
    "tvals = linspace(min(x),max(x),500)\n",
    "ntvals = length(tvals)\n",
    "fpr = zeros(ntvals,1)\n",
    "fnr = zeros(ntvals,1)\n",
    "for i = 1:ntvals\n",
    "    t = tvals(i)\n",
    "    yhat = (x>t)\n",
    "    fpr(i) = mean((yhat==1) & (y==0) )\n",
    "    fnr(i) = mean((yhat==0) & (y==1) )\n",
    "end\n",
    "plot(tvals,[fpr fnr],'-','LineWidth',3)\n",
    "grid on\n",
    "legend('FPR', 'FNR', 'Location', 'SouthEast')\n",
    "set(gca,'FontSize',16)\n",
    "xlabel('Threshold')\n",
    "ylabel('Error rate')\n",
    "axis([min(tvals) max(tvals) 0 0.5])\n",
    "\n",
    "\n",
    "\n",
    "## Finding an activity variable via maximum correlation\n",
    "# Now, we look at how we can find the activity variable\n",
    "\n",
    "# Get total number of variables\n",
    "p = nvox*ntime\n",
    "\n",
    "# Create data matrix and labels\n",
    "X = reshape(activity,ntrial,p)\n",
    "y = labels\n",
    "\n",
    "# Standardize matrices\n",
    "Xs = zscore(X)\n",
    "ys = zscore(y)\n",
    "\n",
    "# Compute correlation\n",
    "n = size(Xs,1)\n",
    "rho = Xs'*ys/n\n",
    "rhosq = rho.^2\n",
    "\n",
    "# Find the maximum value\n",
    "[rhom, im] = max(rhosq(:))\n",
    "[ivoxm, itm] = ind2sub([nvox ntime],im)\n",
    "\n",
    "# Plot the correlation across the variables\n",
    "stem(rhosq)\n",
    "xlabel('Variable','Fontsize',16)\n",
    "ylabel('Correlation \\rho^2', 'Fontsize',16)\n",
    "grid on\n",
    "\n",
    "return\n",
    "\n",
    "\n",
    "## Adding a Second Variable\n",
    "\n",
    "# Sort the correlations in descending order\n",
    "[rhos,Is] = sort(rhosq(:),'descend')\n",
    "p = 2\n",
    "Xtot = reshape(activity,ntrial,nvox*ntime)\n",
    "X = Xtot(:,Is(1:p))\n",
    "\n",
    "# Plot points\n",
    "I0 = (y==0)\n",
    "plot(X(I0,1),X(I0,2),'o','LineWidth',3)\n",
    "hold on\n",
    "I1 = (y==1)\n",
    "plot(X(I1,1),X(I1,2),'x','LineWidth',3)\n",
    "hold off\n",
    "grid on\n",
    "set(gca,'FontSize',16)\n",
    "legend('Picture','Sentence','Location','NorthWest')\n",
    "##ylabel('Class')"
   ]
  }
 ],
 "metadata": {
  "hide_input": false,
  "kernelspec": {
   "display_name": "Python 3",
   "language": "python",
   "name": "python3"
  },
  "language_info": {
   "codemirror_mode": {
    "name": "ipython",
    "version": 3
   },
   "file_extension": ".py",
   "mimetype": "text/x-python",
   "name": "python",
   "nbconvert_exporter": "python",
   "pygments_lexer": "ipython3",
   "version": "3.6.1"
  }
 },
 "nbformat": 4,
 "nbformat_minor": 1
}
