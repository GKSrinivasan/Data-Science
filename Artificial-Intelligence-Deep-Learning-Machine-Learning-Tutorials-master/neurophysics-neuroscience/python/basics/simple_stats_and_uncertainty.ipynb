{
 "cells": [
  {
   "cell_type": "code",
   "execution_count": 1,
   "metadata": {
    "collapsed": true
   },
   "outputs": [],
   "source": [
    "import numpy as np\n",
    "import matplotlib.pyplot as plt\n",
    "from scipy.stats import ttest_ind, ttest_1samp, poisson\n",
    "%matplotlib inline"
   ]
  },
  {
   "cell_type": "markdown",
   "metadata": {
    "collapsed": true
   },
   "source": [
    "# Simple statistics and quantifying uncertainty"
   ]
  },
  {
   "cell_type": "markdown",
   "metadata": {},
   "source": [
    "In any data analysis, it's important to visualize distributions and quantify statistics about those distributions. In this tutorial we'll cover a few ways of doing this.\n",
    "\n",
    "First, we'll generate two random datasets. They'll both be normal distributions with the following parameters."
   ]
  },
  {
   "cell_type": "code",
   "execution_count": 2,
   "metadata": {
    "collapsed": true
   },
   "outputs": [],
   "source": [
    "# The data\n",
    "# N = 25\n",
    "N = 75\n",
    "mu1 = 7\n",
    "mu2 = 10\n",
    "sd = 5"
   ]
  },
  {
   "cell_type": "code",
   "execution_count": 3,
   "metadata": {
    "collapsed": true
   },
   "outputs": [],
   "source": [
    "# Generate random data\n",
    "data1 = sd * np.random.randn(N) + mu1\n",
    "data2 = sd * np.random.randn(N) + mu2"
   ]
  },
  {
   "cell_type": "markdown",
   "metadata": {},
   "source": [
    "As a first step let's plot the histograms of each dataset. This is a good high-level idea for whether these two distributions differ. "
   ]
  },
  {
   "cell_type": "code",
   "execution_count": 4,
   "metadata": {},
   "outputs": [
    {
     "data": {
      "text/plain": [
       "(array([  3.,   9.,  12.,  19.,  18.,   9.,   3.,   1.,   0.,   1.]),\n",
       " array([ -0.24247525,   2.71075457,   5.6639844 ,   8.61721422,\n",
       "         11.57044405,  14.52367387,  17.4769037 ,  20.43013353,\n",
       "         23.38336335,  26.33659318,  29.289823  ]),\n",
       " <a list of 10 Patch objects>)"
      ]
     },
     "execution_count": 4,
     "metadata": {},
     "output_type": "execute_result"
    },
    {
     "data": {
      "image/png": "[encoded data removed]",
      "text/plain": [
       "<matplotlib.figure.Figure at 0x10cd86390>"
      ]
     },
     "metadata": {},
     "output_type": "display_data"
    }
   ],
   "source": [
    "# Histograms\n",
    "fig, ax = plt.subplots()\n",
    "ax.hist(data1)\n",
    "ax.hist(data2)"
   ]
  },
  {
   "cell_type": "markdown",
   "metadata": {},
   "source": [
    "We'll run an old-fashioned t-test to find a p-value for whether these distributions are different. This test calculates the difference in mean of each distribution, and weights this by their standard deviations."
   ]
  },
  {
   "cell_type": "code",
   "execution_count": 5,
   "metadata": {},
   "outputs": [
    {
     "name": "stdout",
     "output_type": "stream",
     "text": [
      "4.0311874612e-10\n"
     ]
    }
   ],
   "source": [
    "result = ttest_ind(data1, data2)\n",
    "print(result.pvalue)"
   ]
  },
  {
   "cell_type": "markdown",
   "metadata": {},
   "source": [
    "Rather than visualizing the raw histograms, it's common to look at a bar plot of the data, along with some metric of \"variability\" of each group of data. If you could only look at this bar plot (in a paper figure, for instance), would you be able to tell if the difference was significant? \n",
    "\n",
    "Now we'll repeat for standard error. Compare and contrast the information provided by each metric. As you might notice, the standard error is much smaller. Try making the same plot, but using a larger `N`. The standard error will change. This is because standard error is meant to represent the error in the *mean* of the distribution, whereas standard deviation describes the distribution itself."
   ]
  },
  {
   "cell_type": "code",
   "execution_count": 6,
   "metadata": {
    "collapsed": true
   },
   "outputs": [],
   "source": [
    "# Means and standard deviations of each dataset\n",
    "mn1 = np.mean(data1)\n",
    "mn2 = np.mean(data2)\n",
    "\n",
    "std1 = np.std(data1)\n",
    "std2 = np.std(data2)\n",
    "\n",
    "# Now standard error\n",
    "ste1 = std1 / np.sqrt(N)\n",
    "ste2 = std2 / np.sqrt(N)"
   ]
  },
  {
   "cell_type": "code",
   "execution_count": 7,
   "metadata": {},
   "outputs": [
    {
     "data": {
      "image/png": "[encoded data removed]",
      "text/plain": [
       "<matplotlib.figure.Figure at 0x10cf8a4e0>"
      ]
     },
     "metadata": {},
     "output_type": "display_data"
    }
   ],
   "source": [
    "fig, axs = plt.subplots(2, 1, sharex=True, sharey=True)\n",
    "for ax, err1, err2, nm in zip(axs, [std1, ste1], [std2, ste2], ['std', 'ste']):\n",
    "    ax.vlines([0, 1], [mn1 - err1, mn2 - err2], [mn1 + err1, mn2 + err2])\n",
    "    _ = plt.setp(ax, xlim=[-1, 2], title='Error: {}'.format(nm))\n",
    "plt.tight_layout()"
   ]
  },
  {
   "cell_type": "markdown",
   "metadata": {},
   "source": [
    "# Merging the two\n",
    "Even better than a barplot, we can simultaneously show the histrograms as well as their standard errors:"
   ]
  },
  {
   "cell_type": "code",
   "execution_count": 8,
   "metadata": {},
   "outputs": [
    {
     "data": {
      "text/plain": [
       "(0.0, 27.252500000000001)"
      ]
     },
     "execution_count": 8,
     "metadata": {},
     "output_type": "execute_result"
    },
    {
     "data": {
      "image/png": "[encoded data removed]",
      "text/plain": [
       "<matplotlib.figure.Figure at 0x10d130320>"
      ]
     },
     "metadata": {},
     "output_type": "display_data"
    }
   ],
   "source": [
    "fig, ax = plt.subplots()\n",
    "ax.hist(data1)\n",
    "ax.hist(data2)\n",
    "\n",
    "ymax = ax.get_ylim()[-1]\n",
    "for ii, (imn, iste, c) in enumerate([(mn1, ste1, 'b'), (mn2, ste2, 'g')]):\n",
    "    ax.hlines(ymax + 1 + ii, imn - iste, imn + iste, lw=6, color=c)\n",
    "ax.set_ylim([None, ax.get_ylim()[-1] + 2])"
   ]
  },
  {
   "cell_type": "markdown",
   "metadata": {},
   "source": [
    "# Calculating uncertainty with computation: the bootstrap\n",
    "The standard error that we've shown above in some sense depends on assumptions we're making on the data. By calculating standard error, we're assuming a couple of things at least:\n",
    "\n",
    "1. The mean is a good description of the distribution\n",
    "2. The error is roughly symmetric about the mean\n",
    "\n",
    "But what if our distribution looked something like this:"
   ]
  },
  {
   "cell_type": "code",
   "execution_count": 9,
   "metadata": {},
   "outputs": [
    {
     "data": {
      "text/plain": [
       "<matplotlib.collections.LineCollection at 0x10cf5be10>"
      ]
     },
     "execution_count": 9,
     "metadata": {},
     "output_type": "execute_result"
    },
    {
     "data": {
      "image/png": "[encoded data removed]",
      "text/plain": [
       "<matplotlib.figure.Figure at 0x10cd86cc0>"
      ]
     },
     "metadata": {},
     "output_type": "display_data"
    }
   ],
   "source": [
    "data = np.random.poisson(lam=2, size=5000)\n",
    "\n",
    "mn = data.mean()\n",
    "ste = data.std() / np.sqrt(data.shape[0])\n",
    "\n",
    "fig, ax = plt.subplots()\n",
    "ax.hist(data, bins=np.arange(0, 10, 1))\n",
    "ax.hlines(ax.get_ylim()[-1] + 10, mn - ste, mn + ste, lw=10)"
   ]
  },
  {
   "cell_type": "markdown",
   "metadata": {},
   "source": [
    "As you can see above, this is *not* a symmetric distribution, so we can' just calculate its mean / standard error and call it a day.\n",
    "\n",
    "Luckily, with modern computational power we can *simulate* the uncertainty in the mean of this distribution. One way of doing this is called the *bootstrap*.\n",
    "\n",
    "Briefly, the bootstrap follows these steps:\n",
    "\n",
    "1. Take a random sample of our data points, of the same size as our dataset. Take this random sample *with replacement*\n",
    "2. Calculate the mean (or whatever statistic) of the sample.\n",
    "3. Collect this mean and repeat this N times (maybe 1000).\n",
    "4. Calculate percentiles of the distribution of our simulated means as a proxy for uncertainty of the statistic.\n",
    "\n",
    "Here's what it looks like in practice:"
   ]
  },
  {
   "cell_type": "code",
   "execution_count": 10,
   "metadata": {
    "collapsed": true
   },
   "outputs": [],
   "source": [
    "n_boots = 1000\n",
    "means = np.zeros(n_boots)\n",
    "for ii in range(n_boots):\n",
    "    ixs_sample = np.random.randint(0, data.shape[0], size=data.shape[0])\n",
    "    sample = data[ixs_sample]\n",
    "    means[ii] = sample.mean()"
   ]
  },
  {
   "cell_type": "markdown",
   "metadata": {},
   "source": [
    "Now we can plot the distribution of our means, as well as the 2.5th and 97.5th percentiles of this distribution (corresponding to a 95% confidence interval)"
   ]
  },
  {
   "cell_type": "code",
   "execution_count": 11,
   "metadata": {},
   "outputs": [
    {
     "data": {
      "text/plain": [
       "<matplotlib.collections.LineCollection at 0x10d516be0>"
      ]
     },
     "execution_count": 11,
     "metadata": {},
     "output_type": "execute_result"
    },
    {
     "data": {
      "image/png": "[encoded data removed]",
      "text/plain": [
       "<matplotlib.figure.Figure at 0x10d4beba8>"
      ]
     },
     "metadata": {},
     "output_type": "display_data"
    }
   ],
   "source": [
    "# Calculate confidence intervals\n",
    "clo, chi = np.percentile(means, [2.5, 97.5])\n",
    "\n",
    "fig, ax = plt.subplots()\n",
    "\n",
    "ax.hist(means, histtype='step', color='r')\n",
    "ax.hlines(ax.get_ylim()[-1] + 10, clo, chi, lw=10, color='r')\n",
    "ax.hlines(ax.get_ylim()[-1] + 20, mn - ste, mn + ste, lw=10, color='g')"
   ]
  },
  {
   "cell_type": "markdown",
   "metadata": {},
   "source": [
    "Note the difference between the green and red horizontal bars. The green bar is thinner, representing an overconfidence in the \"true\" mean of the distribution. Because the distribution is not symmetric, this is wrong, and a better description of the distribution is given by the bootstrapped confidence interval."
   ]
  }
 ],
 "metadata": {
  "hide_input": false,
  "kernelspec": {
   "display_name": "Python 3",
   "language": "python",
   "name": "python3"
  },
  "language_info": {
   "codemirror_mode": {
    "name": "ipython",
    "version": 3
   },
   "file_extension": ".py",
   "mimetype": "text/x-python",
   "name": "python",
   "nbconvert_exporter": "python",
   "pygments_lexer": "ipython3",
   "version": "3.6.1"
  }
 },
 "nbformat": 4,
 "nbformat_minor": 1
}
