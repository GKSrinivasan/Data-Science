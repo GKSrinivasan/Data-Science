{
 "cells": [
  {
   "cell_type": "markdown",
   "metadata": {},
   "source": [
    "# Comparing two datasets\n",
    "One of the simplest analyses we can make with a dataset is splitting it into groups (perhaps by experimental condition), and comparing some statistic between them. This tutorial will cover such \"first-pass\" analyses when the data naturally breaks into groups, and relatively simple statistics can be calculated between them\n",
    "\n",
    "# The t-test\n",
    "## Data Introduction\n",
    "Octopamine has been implicated in modulating feeding behaviors in both vertebrates and invertebrates. Pargyline has been shown to increase the levels of octopamine in the nervous system. The role of Pargyline in sucrose consumption was tested in blowflies. Two groups of blowfies were used in this study: one group was injected with Parglyine (n=295 flies) while the control group was injected with saline (n = 300 flies). The amount of sucrose consumed was then measured. [adapted from Samuels & Witmer, pg 220. Originally: Long & Murdock, PNAS 1983]"
   ]
  },
  {
   "cell_type": "code",
   "execution_count": 3,
   "metadata": {},
   "outputs": [],
   "source": [
    "import pandas as pd\n",
    "import numpy as np\n",
    "import matplotlib.pyplot as plt\n",
    "from scipy.stats import (ttest_ind, ttest_1samp, ttest_rel,\n",
    "                         wilcoxon, ks_2samp)\n",
    "from statsmodels.distributions.empirical_distribution import ECDF\n",
    "import statsmodels.api as sm\n",
    "\n",
    "%matplotlib inline"
   ]
  },
  {
   "cell_type": "markdown",
   "metadata": {},
   "source": [
    "First we'll load the data and take a look at it's structure. We'll note that each column is a variable, and each row is a data point. Some of the columns have `NaN`, because that variable doesn't apply to the particular datapoint."
   ]
  },
  {
   "cell_type": "code",
   "execution_count": 4,
   "metadata": {},
   "outputs": [
    {
     "data": {
      "text/html": [
       "<div>\n",
       "<style>\n",
       "    .dataframe thead tr:only-child th {\n",
       "        text-align: right;\n",
       "    }\n",
       "\n",
       "    .dataframe thead th {\n",
       "        text-align: left;\n",
       "    }\n",
       "\n",
       "    .dataframe tbody tr th {\n",
       "        vertical-align: top;\n",
       "    }\n",
       "</style>\n",
       "<table border=\"1\" class=\"dataframe\">\n",
       "  <thead>\n",
       "    <tr style=\"text-align: right;\">\n",
       "      <th></th>\n",
       "      <th>animal</th>\n",
       "      <th>measurement</th>\n",
       "      <th>feed_type</th>\n",
       "      <th>side</th>\n",
       "      <th>measurement_type</th>\n",
       "    </tr>\n",
       "  </thead>\n",
       "  <tbody>\n",
       "    <tr>\n",
       "      <th>0</th>\n",
       "      <td>NaN</td>\n",
       "      <td>21.7</td>\n",
       "      <td>saline</td>\n",
       "      <td>NaN</td>\n",
       "      <td>sucrose_consumption</td>\n",
       "    </tr>\n",
       "    <tr>\n",
       "      <th>1</th>\n",
       "      <td>NaN</td>\n",
       "      <td>17.0</td>\n",
       "      <td>saline</td>\n",
       "      <td>NaN</td>\n",
       "      <td>sucrose_consumption</td>\n",
       "    </tr>\n",
       "    <tr>\n",
       "      <th>2</th>\n",
       "      <td>NaN</td>\n",
       "      <td>11.1</td>\n",
       "      <td>saline</td>\n",
       "      <td>NaN</td>\n",
       "      <td>sucrose_consumption</td>\n",
       "    </tr>\n",
       "    <tr>\n",
       "      <th>3</th>\n",
       "      <td>NaN</td>\n",
       "      <td>6.3</td>\n",
       "      <td>saline</td>\n",
       "      <td>NaN</td>\n",
       "      <td>sucrose_consumption</td>\n",
       "    </tr>\n",
       "    <tr>\n",
       "      <th>4</th>\n",
       "      <td>NaN</td>\n",
       "      <td>19.3</td>\n",
       "      <td>saline</td>\n",
       "      <td>NaN</td>\n",
       "      <td>sucrose_consumption</td>\n",
       "    </tr>\n",
       "  </tbody>\n",
       "</table>\n",
       "</div>"
      ],
      "text/plain": [
       "   animal  measurement feed_type side     measurement_type\n",
       "0     NaN         21.7    saline  NaN  sucrose_consumption\n",
       "1     NaN         17.0    saline  NaN  sucrose_consumption\n",
       "2     NaN         11.1    saline  NaN  sucrose_consumption\n",
       "3     NaN          6.3    saline  NaN  sucrose_consumption\n",
       "4     NaN         19.3    saline  NaN  sucrose_consumption"
      ]
     },
     "execution_count": 4,
     "metadata": {},
     "output_type": "execute_result"
    }
   ],
   "source": [
    "data = pd.read_csv('../data/fly_feeding.csv')\n",
    "data.head()"
   ]
  },
  {
   "cell_type": "code",
   "execution_count": 5,
   "metadata": {},
   "outputs": [
    {
     "data": {
      "text/plain": [
       "array(['saline', 'pargyline', 'saline_two', 'parglyine_w_yohimbine', nan,\n",
       "       'feeding_type_1', 'feeding_type_2'], dtype=object)"
      ]
     },
     "execution_count": 5,
     "metadata": {},
     "output_type": "execute_result"
    }
   ],
   "source": [
    "data['feed_type'].unique()"
   ]
  },
  {
   "cell_type": "markdown",
   "metadata": {},
   "source": [
    "First, let's look at the distributions for feeding behavior under parglyine and saline"
   ]
  },
  {
   "cell_type": "code",
   "execution_count": 6,
   "metadata": {},
   "outputs": [
    {
     "data": {
      "image/png": "[encoded data removed]",
      "text/plain": [
       "<matplotlib.figure.Figure at 0x11c0905f8>"
      ]
     },
     "metadata": {},
     "output_type": "display_data"
    }
   ],
   "source": [
    "data_par = data.query('feed_type == \"pargyline\"')['measurement'].values\n",
    "data_sal = data.query('feed_type == \"saline\"')['measurement'].values\n",
    "\n",
    "fig, ax = plt.subplots()\n",
    "ax.hist(data_par)\n",
    "_ = ax.hist(data_sal)"
   ]
  },
  {
   "cell_type": "markdown",
   "metadata": {},
   "source": [
    "We'll also show the data as a boxplot, which is sometimes easier to interpret."
   ]
  },
  {
   "cell_type": "code",
   "execution_count": 7,
   "metadata": {},
   "outputs": [
    {
     "data": {
      "text/plain": [
       "<matplotlib.axes._subplots.AxesSubplot at 0x11c28b2b0>"
      ]
     },
     "execution_count": 7,
     "metadata": {},
     "output_type": "execute_result"
    },
    {
     "data": {
      "image/png": "[encoded data removed]",
      "text/plain": [
       "<matplotlib.figure.Figure at 0x11c0c31d0>"
      ]
     },
     "metadata": {},
     "output_type": "display_data"
    }
   ],
   "source": [
    "data.query('feed_type in [\"pargyline\", \"saline\"]').\\\n",
    "    boxplot('measurement', by='feed_type')"
   ]
  },
  {
   "cell_type": "markdown",
   "metadata": {},
   "source": [
    "We want to test for whether there is a statistical difference between the means of these two distributions. Because the two distributions look (relatively) normally distributed, s two-sample t-test seems like it may be useful. Let's perform this below."
   ]
  },
  {
   "cell_type": "code",
   "execution_count": 8,
   "metadata": {},
   "outputs": [
    {
     "name": "stdout",
     "output_type": "stream",
     "text": [
      "Ttest_indResult(statistic=41.861017904148426, pvalue=3.3320050655092234e-179)\n"
     ]
    }
   ],
   "source": [
    "res = ttest_ind(data_par, data_sal)\n",
    "print(res)"
   ]
  },
  {
   "cell_type": "markdown",
   "metadata": {},
   "source": [
    "Here we can see that, according to the t-test, there is a highly significant difference in the feeding behavior for these groups."
   ]
  },
  {
   "cell_type": "markdown",
   "metadata": {},
   "source": [
    "## Follow-up experiment\n",
    "To further confirm octopamine positively modulates feeding behavior, an additional experiment was done with Yohimbine (an antagonist of octopamine receptors in insects). One group was injected with Parglyine and Yohimbine (n = 130) while an additional control group was injected with saline (n = 100). The amount of sucrose consumed was then measured.\n",
    "\n",
    "First, we'll once again visualize the two conditions as histograms and boxplots. "
   ]
  },
  {
   "cell_type": "code",
   "execution_count": 9,
   "metadata": {},
   "outputs": [],
   "source": [
    "data_par_yoh = data.query('feed_type == \"parglyine_w_yohimbine\"')\n",
    "data_par_yoh = data_par_yoh['measurement'].values"
   ]
  },
  {
   "cell_type": "code",
   "execution_count": 10,
   "metadata": {},
   "outputs": [
    {
     "data": {
      "image/png": "[encoded data removed]",
      "text/plain": [
       "<matplotlib.figure.Figure at 0x11c33e1d0>"
      ]
     },
     "metadata": {},
     "output_type": "display_data"
    }
   ],
   "source": [
    "fig, ax = plt.subplots()\n",
    "ax.hist(data_sal)\n",
    "_ = ax.hist(data_par_yoh)"
   ]
  },
  {
   "cell_type": "code",
   "execution_count": 11,
   "metadata": {},
   "outputs": [
    {
     "data": {
      "text/plain": [
       "<matplotlib.axes._subplots.AxesSubplot at 0x11c439940>"
      ]
     },
     "execution_count": 11,
     "metadata": {},
     "output_type": "execute_result"
    },
    {
     "data": {
      "image/png": "[encoded data removed]",
      "text/plain": [
       "<matplotlib.figure.Figure at 0x11c5c12b0>"
      ]
     },
     "metadata": {},
     "output_type": "display_data"
    }
   ],
   "source": [
    "data_box = data.query('feed_type in [\"parglyine_w_yohimbine\", \"saline\"]')\n",
    "data_box.boxplot('measurement', by='feed_type')"
   ]
  },
  {
   "cell_type": "markdown",
   "metadata": {},
   "source": [
    "We'll run a t-test once again to test for any difference between these groups."
   ]
  },
  {
   "cell_type": "code",
   "execution_count": 12,
   "metadata": {},
   "outputs": [
    {
     "name": "stdout",
     "output_type": "stream",
     "text": [
      "Ttest_indResult(statistic=0.66622501018272595, pvalue=0.50562622201652518)\n"
     ]
    }
   ],
   "source": [
    "res = ttest_ind(data_sal, data_par_yoh)\n",
    "print(res)"
   ]
  },
  {
   "cell_type": "markdown",
   "metadata": {},
   "source": [
    "Here it seems like there is *no* difference between the groups...their means are not far enough apart to conclude statistical significance. However, would you conclude that the two distributions are not different at all? That's hard to say. For example, there seems to be a strong difference in the **variance** between the two distributions. This is something you should always pay attention to.\n",
    "\n",
    "Finding more complex relationships in your data requires different kinds of tests. Next we'll look at a slightly different version of the t-test: the \"paired\" t-test."
   ]
  },
  {
   "cell_type": "markdown",
   "metadata": {},
   "source": [
    "# Paired t-tests\n",
    "## About the data\n",
    "Certain types of nerve cells have the ability to regenerate a part of the cell that has been amputated. In an early study of this process, measurements were made on the nerves in the the spinal cord of rhesus monkeys. Nerves emanating from the left side of the cord were cut, while nerves from the right side were kept intact. During the regeneration process, the amount of creatine phosphate (CP) was measured in the left and right portions of the spinal cord. You are interested in whether CP levels are different between the cut and control sides of the spinal cord. [adapted from Samuels & Witmer, pg 387. Originally: Bodian (1947)]\n",
    "\n",
    "First, we'll visualize the data as a histogram + boxplot.\n"
   ]
  },
  {
   "cell_type": "code",
   "execution_count": 13,
   "metadata": {},
   "outputs": [
    {
     "data": {
      "text/html": [
       "<div>\n",
       "<style>\n",
       "    .dataframe thead tr:only-child th {\n",
       "        text-align: right;\n",
       "    }\n",
       "\n",
       "    .dataframe thead th {\n",
       "        text-align: left;\n",
       "    }\n",
       "\n",
       "    .dataframe tbody tr th {\n",
       "        vertical-align: top;\n",
       "    }\n",
       "</style>\n",
       "<table border=\"1\" class=\"dataframe\">\n",
       "  <thead>\n",
       "    <tr style=\"text-align: right;\">\n",
       "      <th></th>\n",
       "      <th>animal</th>\n",
       "      <th>measurement</th>\n",
       "      <th>feed_type</th>\n",
       "      <th>side</th>\n",
       "      <th>measurement_type</th>\n",
       "    </tr>\n",
       "  </thead>\n",
       "  <tbody>\n",
       "    <tr>\n",
       "      <th>825</th>\n",
       "      <td>1.0</td>\n",
       "      <td>11.5</td>\n",
       "      <td>NaN</td>\n",
       "      <td>Left</td>\n",
       "      <td>creatine_phosphate</td>\n",
       "    </tr>\n",
       "    <tr>\n",
       "      <th>826</th>\n",
       "      <td>2.0</td>\n",
       "      <td>3.6</td>\n",
       "      <td>NaN</td>\n",
       "      <td>Left</td>\n",
       "      <td>creatine_phosphate</td>\n",
       "    </tr>\n",
       "    <tr>\n",
       "      <th>827</th>\n",
       "      <td>3.0</td>\n",
       "      <td>12.5</td>\n",
       "      <td>NaN</td>\n",
       "      <td>Left</td>\n",
       "      <td>creatine_phosphate</td>\n",
       "    </tr>\n",
       "    <tr>\n",
       "      <th>828</th>\n",
       "      <td>4.0</td>\n",
       "      <td>6.3</td>\n",
       "      <td>NaN</td>\n",
       "      <td>Left</td>\n",
       "      <td>creatine_phosphate</td>\n",
       "    </tr>\n",
       "    <tr>\n",
       "      <th>829</th>\n",
       "      <td>5.0</td>\n",
       "      <td>15.2</td>\n",
       "      <td>NaN</td>\n",
       "      <td>Left</td>\n",
       "      <td>creatine_phosphate</td>\n",
       "    </tr>\n",
       "  </tbody>\n",
       "</table>\n",
       "</div>"
      ],
      "text/plain": [
       "     animal  measurement feed_type  side    measurement_type\n",
       "825     1.0         11.5       NaN  Left  creatine_phosphate\n",
       "826     2.0          3.6       NaN  Left  creatine_phosphate\n",
       "827     3.0         12.5       NaN  Left  creatine_phosphate\n",
       "828     4.0          6.3       NaN  Left  creatine_phosphate\n",
       "829     5.0         15.2       NaN  Left  creatine_phosphate"
      ]
     },
     "execution_count": 13,
     "metadata": {},
     "output_type": "execute_result"
    }
   ],
   "source": [
    "bef_aft = data.query('measurement_type == \"creatine_phosphate\"')\n",
    "bef_aft.head()"
   ]
  },
  {
   "cell_type": "code",
   "execution_count": 14,
   "metadata": {},
   "outputs": [],
   "source": [
    "data_left = bef_aft.query('side == \"Left\"')['measurement'].values\n",
    "data_right = bef_aft.query('side == \"Right\"')['measurement'].values"
   ]
  },
  {
   "cell_type": "code",
   "execution_count": 15,
   "metadata": {},
   "outputs": [
    {
     "data": {
      "image/png": "[encoded data removed]",
      "text/plain": [
       "<matplotlib.figure.Figure at 0x11c690390>"
      ]
     },
     "metadata": {},
     "output_type": "display_data"
    }
   ],
   "source": [
    "fig, ax = plt.subplots()\n",
    "ax.hist(data_left)\n",
    "_ = ax.hist(data_right)"
   ]
  },
  {
   "cell_type": "markdown",
   "metadata": {},
   "source": [
    "Per our earlier analysis, we'll perform a 2-sample t-test, splitting our data into two groups, \"before\" and \"after\" treatment with creatine phosphate:"
   ]
  },
  {
   "cell_type": "code",
   "execution_count": 16,
   "metadata": {},
   "outputs": [
    {
     "data": {
      "text/plain": [
       "Ttest_indResult(statistic=-1.4847824744326941, pvalue=0.159766872901516)"
      ]
     },
     "execution_count": 16,
     "metadata": {},
     "output_type": "execute_result"
    }
   ],
   "source": [
    "ttest_ind(data_left, data_right)"
   ]
  },
  {
   "cell_type": "markdown",
   "metadata": {},
   "source": [
    "There doesn't seem to be a statistical difference between the two groups. But wait one second! We have omitted an important component of our dataset. Rather than being two separate groups, there is a natural \"pairing\" of the data. *For each animal*, we have one recording from the left, and one from the right. This means that we can include this knowledge in our statistical test.\n",
    "\n",
    "As a start, let's visualize the difference between left and right for *each* animal. We'll use a line plot for this."
   ]
  },
  {
   "cell_type": "code",
   "execution_count": 17,
   "metadata": {},
   "outputs": [
    {
     "data": {
      "image/png": "[encoded data removed]",
      "text/plain": [
       "<matplotlib.figure.Figure at 0x11c7e7908>"
      ]
     },
     "metadata": {},
     "output_type": "display_data"
    }
   ],
   "source": [
    "fig, ax = plt.subplots()\n",
    "ax.plot([0, 1], [data_left, data_right], color='k')\n",
    "plt.xticks([0, 1], ['left', 'right'])\n",
    "_ = plt.setp(ax, xlim=[-1, 2])"
   ]
  },
  {
   "cell_type": "markdown",
   "metadata": {},
   "source": [
    "Perhaps there does seem to be something going on after all. The lines in general seem to go up from left to right. To run statistics on this, we'll use a \"paired\" t-test. This assumes the natural pairings that we're plotting above:"
   ]
  },
  {
   "cell_type": "code",
   "execution_count": 18,
   "metadata": {},
   "outputs": [
    {
     "data": {
      "text/plain": [
       "Ttest_relResult(statistic=-2.6846726320793435, pvalue=0.031326495462755705)"
      ]
     },
     "execution_count": 18,
     "metadata": {},
     "output_type": "execute_result"
    }
   ],
   "source": [
    "ttest_rel(data_left, data_right)"
   ]
  },
  {
   "cell_type": "markdown",
   "metadata": {},
   "source": [
    "We also could have calculated the *difference* between left and right for each animal, and then run a regular t-test for independence from 0 on this distribution:"
   ]
  },
  {
   "cell_type": "code",
   "execution_count": 19,
   "metadata": {},
   "outputs": [
    {
     "data": {
      "text/plain": [
       "Ttest_1sampResult(statistic=2.6846726320793435, pvalue=0.031326495462755705)"
      ]
     },
     "execution_count": 19,
     "metadata": {},
     "output_type": "execute_result"
    }
   ],
   "source": [
    "diff = data_right - data_left\n",
    "ttest_1samp(diff, 0)"
   ]
  },
  {
   "cell_type": "markdown",
   "metadata": {},
   "source": [
    "Thus far, we have assumed that our data is characterized by some well-defined distribution. Generally this means that we assume our data is gaussian-distributed.\n",
    "\n",
    "But this is obviously not always the case. What do we do in this situation? We'll finish this lesson by covering techniques that make less assumptions about the data, and don't require normal distributions."
   ]
  },
  {
   "cell_type": "markdown",
   "metadata": {},
   "source": [
    "# Non-parametric Tests\n",
    "## Wilcoxon Signed-Rank Test (one sample) and Wilcoxon-Mann-Whitney (two sample).\n",
    "We'll use the same dataset as above. If you look at the histograms, you might notice that the datasets were quite small. This is often reason enough to assume that you don't have a normally distributed dataset. \n",
    "\n",
    "To relax this assumption, we can use a *wilcoxon signed rank test*. This simply looks at whether the difference between two conditions is positive or negative, rather than the actual values of the difference."
   ]
  },
  {
   "cell_type": "code",
   "execution_count": 20,
   "metadata": {},
   "outputs": [
    {
     "name": "stderr",
     "output_type": "stream",
     "text": [
      "/Users/tarrysingh/anaconda/lib/python3.6/site-packages/scipy/stats/morestats.py:2397: UserWarning: Warning: sample size too small for normal approximation.\n",
      "  warnings.warn(\"Warning: sample size too small for normal approximation.\")\n"
     ]
    },
    {
     "data": {
      "text/plain": [
       "WilcoxonResult(statistic=3.0, pvalue=0.035691900116804412)"
      ]
     },
     "execution_count": 20,
     "metadata": {},
     "output_type": "execute_result"
    }
   ],
   "source": [
    "wilcoxon(data_left, data_right)"
   ]
  },
  {
   "cell_type": "code",
   "execution_count": 21,
   "metadata": {},
   "outputs": [
    {
     "name": "stderr",
     "output_type": "stream",
     "text": [
      "/Users/tarrysingh/anaconda/lib/python3.6/site-packages/scipy/stats/morestats.py:2397: UserWarning: Warning: sample size too small for normal approximation.\n",
      "  warnings.warn(\"Warning: sample size too small for normal approximation.\")\n"
     ]
    },
    {
     "data": {
      "text/plain": [
       "WilcoxonResult(statistic=3.0, pvalue=0.035691900116804412)"
      ]
     },
     "execution_count": 21,
     "metadata": {},
     "output_type": "execute_result"
    }
   ],
   "source": [
    "diff = data_left - data_right\n",
    "wilcoxon(diff)"
   ]
  },
  {
   "cell_type": "markdown",
   "metadata": {},
   "source": [
    "At this point you might be noticing that whenever we calculate the statistical test on the \"difference\" between paired datapoints, the p-value tends to go down. This is because paired tests generally have more **statistical power** than unpaired ones. If your data has this natural paired structure to it, it's a good idea to use it."
   ]
  },
  {
   "cell_type": "markdown",
   "metadata": {},
   "source": [
    "# When t-tests fail: the Kolmogorov-Smirnov test\n",
    "Generally speaking, parametric tests are more powerful than nonparametric tests. That’s because the assumptions that you make with a parameteric test allow you to make stronger statements with the data. However, there are some cases where nonparametric test can tell you more. Let's consider the first dataset we looked at in this notebook. We'll re-plot the distributions below:"
   ]
  },
  {
   "cell_type": "code",
   "execution_count": 22,
   "metadata": {},
   "outputs": [
    {
     "data": {
      "text/plain": [
       "(array([  2.,   8.,   6.,   6.,   9.,  11.,  12.,  14.,  14.,   9.,  10.,\n",
       "          5.,   7.,   2.,   4.,   4.,   2.,   2.,   2.,   1.]),\n",
       " array([  0.7 ,   2.39,   4.08,   5.77,   7.46,   9.15,  10.84,  12.53,\n",
       "         14.22,  15.91,  17.6 ,  19.29,  20.98,  22.67,  24.36,  26.05,\n",
       "         27.74,  29.43,  31.12,  32.81,  34.5 ]),\n",
       " <a list of 20 Patch objects>)"
      ]
     },
     "execution_count": 22,
     "metadata": {},
     "output_type": "execute_result"
    },
    {
     "data": {
      "image/png": "[encoded data removed]",
      "text/plain": [
       "<matplotlib.figure.Figure at 0x11c6a1128>"
      ]
     },
     "metadata": {},
     "output_type": "display_data"
    }
   ],
   "source": [
    "fig, ax = plt.subplots()\n",
    "ax.hist(data_sal, bins=20)\n",
    "ax.hist(data_par_yoh, bins=20)"
   ]
  },
  {
   "cell_type": "markdown",
   "metadata": {},
   "source": [
    "Looking at the distributions, it seems that while they have the same mean, the variance of each distribution may be different. All of the tests covered so far focus exclusively on the difference in *means* between two distributions. However, sometimes the mean isn't the statistic of interest between two distributions. To visualize this let's plot the \"cumulative distribution function\" of the data. This is another useful way of comparing datasets to one another:"
   ]
  },
  {
   "cell_type": "code",
   "execution_count": 23,
   "metadata": {},
   "outputs": [
    {
     "data": {
      "image/png": "[encoded data removed]",
      "text/plain": [
       "<matplotlib.figure.Figure at 0x11c4d3c18>"
      ]
     },
     "metadata": {},
     "output_type": "display_data"
    }
   ],
   "source": [
    "ecdf_py = ECDF(data_par_yoh)\n",
    "ecdf_sa = ECDF(data_sal)\n",
    "\n",
    "data_test = np.arange(np.min([data_par_yoh.min(), data_sal.min()]),\n",
    "                      np.max([data_par_yoh.max(), data_sal.max()]))\n",
    "fig, ax = plt.subplots()\n",
    "for i_ecdf in [ecdf_py, ecdf_sa]:\n",
    "    ax.plot(data_test, i_ecdf(data_test))\n"
   ]
  },
  {
   "cell_type": "markdown",
   "metadata": {},
   "source": [
    "These two lines don't look quite the same. One of them seems to be rising more sharply than the other, reflecting the fact that the distribution is clustered around a single value rather than spread out across many values. In other words, the clustered distribution has smaller variance. How can we test for this?\n",
    "\n",
    "One option is the Kolmogorov-Smirnov test. non-parametric test used to investigate the “shape” of a distribution. Let's see what it finds in this data"
   ]
  },
  {
   "cell_type": "code",
   "execution_count": 24,
   "metadata": {},
   "outputs": [
    {
     "data": {
      "text/plain": [
       "Ks_2sampResult(statistic=0.13230769230769229, pvalue=0.076487831246934382)"
      ]
     },
     "execution_count": 24,
     "metadata": {},
     "output_type": "execute_result"
    }
   ],
   "source": [
    "ks_2samp(data_par_yoh, data_sal)"
   ]
  },
  {
   "cell_type": "markdown",
   "metadata": {},
   "source": [
    "Is it \"significant\"? No. But p-values are arbitrary constructions anyway. The important point is that this test makes a different kind of statement about the data than t-tests. Instead of asking \"is the mean between the two distributions different?\" it asks \"is the shape of these distributions different?\". This is a much more complicated question to ask, and there are many ways to test for this. Regardless, choosing the right test to fit your question requires careful consideration.\n",
    "\n",
    "# An aside on p-values and multiple comparisons\n",
    "\n",
    "We've performed a lot of tests in this notebook, and have often referred to p-values as some reflection of \"significance\". But is this the right thing to do?\n",
    "\n",
    "Whenever we find a significant result, it's important to ask \"what's the likelihood that this was a false positive?\" Let’s try a little computer simulation, generating “fake” random data to help us understand how often false positive can occur.\n",
    "\n",
    "1. One trial is defined as follows: take two random samples (n = 10) from a normal distribution and run a two-sample t-test on them, taking note of the p-value.\n",
    "1. One experiment is 100 trials. (you should have 100 p-values at the end of an experiment). In the course of one experiment, how often are the two random samples significantly different from each other (at the level of alpha = 0.05)? Take a note of that number.\n",
    "1. Run the above experiment about 100 more times… Isn’t it interesting that the number of statistically different “data sets” is always very close to 5? Why do you think this may be the case? What implications does it have for t-tests?"
   ]
  },
  {
   "cell_type": "code",
   "execution_count": 25,
   "metadata": {
    "collapsed": true
   },
   "outputs": [],
   "source": [
    "n_iterations = 100\n",
    "n_trials = 100\n",
    "n_per_trial = 10\n",
    "\n",
    "pvalues = np.zeros([n_iterations, n_trials])\n",
    "for ii in range(n_iterations):\n",
    "    for jj in range(n_trials):\n",
    "        data1 = np.random.randn(n_per_trial)\n",
    "        data2 = np.random.randn(n_per_trial)\n",
    "        results = ttest_ind(data1, data2)\n",
    "        pvalues[ii, jj] = results.pvalue"
   ]
  },
  {
   "cell_type": "code",
   "execution_count": 26,
   "metadata": {},
   "outputs": [
    {
     "data": {
      "text/plain": [
       "<matplotlib.lines.Line2D at 0x11c1f5940>"
      ]
     },
     "execution_count": 26,
     "metadata": {},
     "output_type": "execute_result"
    },
    {
     "data": {
      "image/png": "[encoded data removed]",
      "text/plain": [
       "<matplotlib.figure.Figure at 0x11c1f55c0>"
      ]
     },
     "metadata": {},
     "output_type": "display_data"
    }
   ],
   "source": [
    "fig, ax = plt.subplots()\n",
    "ax.hist(pvalues[0], bins=20)\n",
    "ax.axvline(.05, c='r', ls='--', lw=3)"
   ]
  },
  {
   "cell_type": "code",
   "execution_count": 27,
   "metadata": {},
   "outputs": [
    {
     "data": {
      "text/plain": [
       "<matplotlib.lines.Line2D at 0x11cca57b8>"
      ]
     },
     "execution_count": 27,
     "metadata": {},
     "output_type": "execute_result"
    },
    {
     "data": {
      "image/png": "[encoded data removed]",
      "text/plain": [
       "<matplotlib.figure.Figure at 0x11c4e2940>"
      ]
     },
     "metadata": {},
     "output_type": "display_data"
    }
   ],
   "source": [
    "test_vals = np.arange(0, 1, .01)\n",
    "fig, ax = plt.subplots(figsize=(4, 4))\n",
    "for i_iteration in pvalues:\n",
    "    i_ecdf = ECDF(i_iteration)\n",
    "    ax.plot(test_vals, i_ecdf(test_vals), c='k', alpha=.1)\n",
    "ax.axhline(.05, ls='--', c='r', lw=2)\n",
    "ax.axvline(.05, ls='--', c='r', lw=2)"
   ]
  },
  {
   "cell_type": "markdown",
   "metadata": {},
   "source": [
    "Notice how, in every iteration, roughly the same proportion of the distribution lies under .05. This is the expected false positive rate (assuming all our assumptions about normality hold).\n",
    "\n",
    "This far we have focused on performing tests that use clever mathematical techniques. However, with the increasing computational power at our hands, there have evolved new ways for testing for differences between these groups. These computation-heavy methods inclue things like the statistical bootstrap and the permutation test."
   ]
  },
  {
   "cell_type": "markdown",
   "metadata": {
    "collapsed": true
   },
   "source": [
    "# Estimating the difference using a confidence interval\n",
    "Instead of using parametric statistics (or significance tests), another option is to simply give a confidence interval around the statistic of choice. For example, for the question \"what is the expected mean of the difference between two distributions?\", we might bootstrap the distribution of differences of the mean, and create confidence intervals around this value. See the [notebook on quantifying uncertainty](./simple_stats_and_uncertainty.ipynb) for a more thorough discussion."
   ]
  },
  {
   "cell_type": "code",
   "execution_count": 28,
   "metadata": {},
   "outputs": [],
   "source": [
    "n_boots = 1000\n",
    "n_sal = data_sal.shape[0]\n",
    "n_py = data_par_yoh.shape[0]\n",
    "differences = np.zeros(n_boots)\n",
    "for ii in range(n_boots):\n",
    "    sample_sal = data_sal[np.random.randint(0, n_sal, n_sal)]\n",
    "    sample_py = data_par_yoh[np.random.randint(0, n_py, n_py)]\n",
    "    differences[ii] = np.mean(sample_sal) - np.mean(sample_py)\n",
    "    \n",
    "clo, chi = np.percentile(differences, [2.5, 97.5])"
   ]
  },
  {
   "cell_type": "code",
   "execution_count": 29,
   "metadata": {},
   "outputs": [
    {
     "data": {
      "text/plain": [
       "<matplotlib.collections.LineCollection at 0x11cd78f98>"
      ]
     },
     "execution_count": 29,
     "metadata": {},
     "output_type": "execute_result"
    },
    {
     "data": {
      "image/png": "[encoded data removed]",
      "text/plain": [
       "<matplotlib.figure.Figure at 0x11cd78f28>"
      ]
     },
     "metadata": {},
     "output_type": "display_data"
    }
   ],
   "source": [
    "fig, ax = plt.subplots()\n",
    "ax.hist(differences, bins=np.arange(-2, 2, .1))\n",
    "ax.hlines(ax.get_ylim()[-1] + 5, clo, chi, lw=10, color='k')"
   ]
  },
  {
   "cell_type": "markdown",
   "metadata": {},
   "source": [
    "In a sense, this confidence interval represents the uncertainty in the difference in means of these two distributions. In a technical sense, a N% confidence interval means: \"repeating the data collection and re-calculating the confidence interval many times will cause the resulting confidence interval to overlap with the \"true\" mean N% of the time.\n",
    "\n",
    "This seems a bit difficult to intuit, so let's simulate this below. We'll estimate a single value using our confidence interval: the mean of a distribution."
   ]
  },
  {
   "cell_type": "code",
   "execution_count": 30,
   "metadata": {},
   "outputs": [],
   "source": [
    "n = 2000\n",
    "mn = 4\n",
    "std = 2\n",
    "\n",
    "n_simulations = 200\n",
    "n_boots = 1000\n",
    "all_differences = np.zeros([n_simulations, n_boots])\n",
    "for ii in range(n_simulations):\n",
    "    data = np.sqrt(2) * np.random.randn(n) + mn\n",
    "    for jj in range(n_boots):\n",
    "        sample = data[np.random.randint(0, n, n)]\n",
    "        all_differences[ii, jj] = np.mean(sample)\n",
    "        \n",
    "# Now calculate the 95% CI for each simulation\n",
    "clo, chi = np.percentile(all_differences, [2.5, 97.5], axis=1)"
   ]
  },
  {
   "cell_type": "markdown",
   "metadata": {},
   "source": [
    "Above we've performed `n_simulations` bootstraps, so this gives us `n_simulations` confidence intervals. Let's see how many of them overlap with the \"true\" mean:"
   ]
  },
  {
   "cell_type": "code",
   "execution_count": 31,
   "metadata": {},
   "outputs": [
    {
     "data": {
      "text/plain": [
       "<matplotlib.text.Text at 0x11cecf4e0>"
      ]
     },
     "execution_count": 31,
     "metadata": {},
     "output_type": "execute_result"
    },
    {
     "data": {
      "image/png": "[encoded data removed]",
      "text/plain": [
       "<matplotlib.figure.Figure at 0x11cd78a58>"
      ]
     },
     "metadata": {},
     "output_type": "display_data"
    }
   ],
   "source": [
    "fig, ax = plt.subplots()\n",
    "n_outside = 0\n",
    "for ii, (iclo, ichi) in enumerate(zip(clo, chi)):\n",
    "    if any([mn < iclo, mn > ichi]):\n",
    "        color = 'r'\n",
    "        n_outside += 1\n",
    "    else:\n",
    "        color = 'k'\n",
    "    ax.hlines(ii, iclo, ichi, lw=1, color=color)\n",
    "ax.set_title('Number of simulations outside of \"true\" mean:\\n'\n",
    "             '{} / {} ({:.3f}%)'.format(n_outside, n_simulations,\n",
    "                                   100 * (float(n_outside) / n_simulations)))"
   ]
  },
  {
   "cell_type": "markdown",
   "metadata": {},
   "source": [
    "Pretty close to 5%. If we were to run an infinite number of simulations, we'd quickly converge to 5% of cases where the confidence interval did *not* overlap with the true mean.\n",
    "\n",
    "Another important thing to notice here is that the confidence interval itself does not tell you where *within the interval* the mean lies. It only says that the mean is likely somewhere within that interval. Many people intuitively want to say \"the mean is most likely to be at the center of this interval\" but this is not necessarily true."
   ]
  },
  {
   "cell_type": "code",
   "execution_count": null,
   "metadata": {
    "collapsed": true
   },
   "outputs": [],
   "source": []
  }
 ],
 "metadata": {
  "hide_input": false,
  "kernelspec": {
   "display_name": "Python 3",
   "language": "python",
   "name": "python3"
  },
  "language_info": {
   "codemirror_mode": {
    "name": "ipython",
    "version": 3
   },
   "file_extension": ".py",
   "mimetype": "text/x-python",
   "name": "python",
   "nbconvert_exporter": "python",
   "pygments_lexer": "ipython3",
   "version": "3.6.1"
  }
 },
 "nbformat": 4,
 "nbformat_minor": 1
}
