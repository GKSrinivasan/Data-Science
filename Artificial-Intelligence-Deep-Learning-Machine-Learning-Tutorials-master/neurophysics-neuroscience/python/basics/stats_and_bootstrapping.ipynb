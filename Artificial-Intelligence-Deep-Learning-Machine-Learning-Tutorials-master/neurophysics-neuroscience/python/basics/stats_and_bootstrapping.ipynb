{
 "cells": [
  {
   "cell_type": "markdown",
   "metadata": {},
   "source": [
    "# Statistical Approaches to Neuroscience\n",
    "\n",
    "Theoretical quantities describe a probability distribution. Estimates of theoretical quantities from data are noisy and we must quantify the accuracy of our estimate.\n",
    "\n",
    "To warm up, let's consider a particular probability distribution- the standard normal with mean   and standard deviation . The corresponding probability density function (pdf) is\n",
    "\n",
    "$$p(x|\\mu=0, \\sigma=1)=\\frac{1}{\\sqrt{2\\pi}}exp(\\frac{-x^2}{2})$$\n",
    " \n",
    "which is the familiar \"bell curve,\" pictured below"
   ]
  },
  {
   "cell_type": "code",
   "execution_count": 1,
   "metadata": {},
   "outputs": [],
   "source": [
    "import sys\n",
    "sys.path.append('../src/')\n",
    "import opencourse as oc"
   ]
  },
  {
   "cell_type": "code",
   "execution_count": 2,
   "metadata": {
    "collapsed": true
   },
   "outputs": [],
   "source": [
    "import numpy as np\n",
    "import scipy.stats as stt\n",
    "import matplotlib.pyplot as plt\n",
    "import pandas as pd\n",
    "from scipy import polyfit\n",
    "from scipy.ndimage.filters import gaussian_filter1d\n",
    "%matplotlib inline"
   ]
  },
  {
   "cell_type": "code",
   "execution_count": 5,
   "metadata": {},
   "outputs": [
    {
     "data": {
      "text/plain": [
       "[<matplotlib.lines.Line2D at 0x1180bf390>]"
      ]
     },
     "execution_count": 5,
     "metadata": {},
     "output_type": "execute_result"
    },
    {
     "data": {
      "image/png": "[encoded data removed]",
      "text/plain": [
       "<matplotlib.figure.Figure at 0x10cb71780>"
      ]
     },
     "metadata": {},
     "output_type": "display_data"
    }
   ],
   "source": [
    "# Below we'll plot the PDF of a normal distribution.\n",
    "mean, std = 0, 1\n",
    "inputs = np.arange(-4, 4, .01)\n",
    "prob = stt.norm.pdf(inputs, mean, std)\n",
    "\n",
    "fig, ax = plt.subplots()\n",
    "ax.plot(inputs, prob,'g')"
   ]
  },
  {
   "cell_type": "markdown",
   "metadata": {},
   "source": [
    "Take and $\\beta_0=3$ and $\\beta_1=5$, then we can generate a dataset from our statistical model, such as the one pictured below. In black we plot the line $y=3+5x$, and in red we plot the line of best fit, in the least squares sense."
   ]
  },
  {
   "cell_type": "code",
   "execution_count": 6,
   "metadata": {},
   "outputs": [],
   "source": [
    "def simulate_data(n_datapoints, beta_1, beta_0, noise_func=np.random.randn):\n",
    "    x = np.random.rand(n_datapoints)\n",
    "    noise = noise_func(n_datapoints)\n",
    "    y = beta_1 * x + beta_0 + noise\n",
    "    return x, y\n",
    "\n",
    "def fit_model_to_data(x, y, model_degree=1):\n",
    "    betas_hat = polyfit(x, y, model_degree)\n",
    "    return betas_hat"
   ]
  },
  {
   "cell_type": "code",
   "execution_count": 7,
   "metadata": {
    "collapsed": true
   },
   "outputs": [],
   "source": [
    "n_datapoints = 25\n",
    "beta_1 = 5\n",
    "beta_0 = 3\n",
    "x, y = simulate_data(n_datapoints, beta_1, beta_0)\n",
    "beta_1_hat, beta_0_hat = fit_model_to_data(x, y)"
   ]
  },
  {
   "cell_type": "code",
   "execution_count": 8,
   "metadata": {
    "collapsed": true
   },
   "outputs": [],
   "source": [
    "# Create \"test\" predicted points for our two models\n",
    "x_pred = np.linspace(x.min(), x.max(), 1000)\n",
    "\n",
    "# The \"true\" model\n",
    "y_pred_true = x_pred * beta_1 + beta_0\n",
    "y_pred_model = x_pred * beta_1_hat + beta_0_hat"
   ]
  },
  {
   "cell_type": "code",
   "execution_count": 10,
   "metadata": {},
   "outputs": [
    {
     "data": {
      "text/plain": [
       "[<matplotlib.lines.Line2D at 0x118356c18>]"
      ]
     },
     "execution_count": 10,
     "metadata": {},
     "output_type": "execute_result"
    },
    {
     "data": {
      "image/png": "[encoded data removed]",
      "text/plain": [
       "<matplotlib.figure.Figure at 0x1183af1d0>"
      ]
     },
     "metadata": {},
     "output_type": "display_data"
    }
   ],
   "source": [
    "# Now plot the sample datapoints and our model\n",
    "fig, ax = plt.subplots()\n",
    "ax.plot(x, y, 'k.')\n",
    "ax.plot(x_pred, y_pred_true, 'g')\n",
    "ax.plot(x_pred, y_pred_model, 'r')"
   ]
  },
  {
   "cell_type": "markdown",
   "metadata": {},
   "source": [
    "Of course, the red and the black lines are not identical, because our datapoints are a random sample from our statistical model. If we were to resample our data, we would get an entirely different set of datapoints, and consequently a new set of estimates.\n",
    "\n",
    "In fact, let's see this in action, and quantify the variability of our least squares estimate of the slope of the line. Let's sample multiple datasets from our model, and for each dataset estimate the slope of the least squares line. We can then plot a histogram of our estimated slopes. Again, the procedure is:\n",
    "\n",
    "1. Generate multiple datasets from our known statistical model\n",
    "2. Calculate the statistic of interest for each dataset (here, the slope), and collect them into a vector (say\n",
    "slopeStar)\n",
    "3. Estimate the SE by calculating the standard deviation of the entries of slopeStar."
   ]
  },
  {
   "cell_type": "code",
   "execution_count": 11,
   "metadata": {
    "collapsed": true
   },
   "outputs": [],
   "source": [
    "n_datapoints = 25\n",
    "n_simulations = 1000\n",
    "beta_1 = 5\n",
    "beta_0 = 3\n",
    "\n",
    "betas = np.zeros([n_simulations, 2])\n",
    "simulations = np.zeros([n_simulations, x_pred.shape[-1]])\n",
    "for ii in range(n_simulations):\n",
    "    x = np.random.rand(n_datapoints)\n",
    "    noise = np.random.randn(n_datapoints)\n",
    "    y = beta_1 * x + beta_0 + noise\n",
    "\n",
    "    beta_1_hat, beta_0_hat = polyfit(x, y, 1)\n",
    "    y_pred_model = x_pred * beta_1_hat + beta_0_hat\n",
    "    betas[ii] = [beta_0_hat, beta_1_hat]\n",
    "    simulations[ii] = y_pred_model"
   ]
  },
  {
   "cell_type": "code",
   "execution_count": 12,
   "metadata": {},
   "outputs": [
    {
     "data": {
      "image/png": "[encoded data removed]",
      "text/plain": [
       "<matplotlib.figure.Figure at 0x118274320>"
      ]
     },
     "metadata": {},
     "output_type": "display_data"
    }
   ],
   "source": [
    "fig, axs = plt.subplots(1, 2, sharey=True)\n",
    "for ii, (ax, ibeta) in enumerate(zip(axs, betas.T)):\n",
    "    ax.hist(ibeta)\n",
    "    ax.set_title(\"Estimated Beta {}\\nMean: {:.3f}\\nSTD: {:.3f}\".format(\n",
    "            ii, ibeta.mean(), ibeta.std()))"
   ]
  },
  {
   "cell_type": "markdown",
   "metadata": {},
   "source": [
    "Here we see that the estimates for the slope of the least squares line have a histogram that looks like\n",
    "it could have plausibly been generated from a normal distribution, centered around the true slope. The histogram also yields an estimate of the standard error of the slope estimates. While in this simple case we could have easily derived the standard error theoretically, it is very easy to do so through simulation. Further, there are some instances where the standard error is diffucult to come by theoretically, and so simulation is a critical tool."
   ]
  },
  {
   "cell_type": "markdown",
   "metadata": {},
   "source": [
    "> QUESTION: What happens as sample size increases or decreases (e.g. sizeDataSet=15, 100, 250, 500, 1000)? . What happens if the errors are not normally distributed?\n",
    "\n",
    "\n",
    "> ADVANCED QUESTION: What happens to the variability of the empirical mean as the number of simulated datasets (numberDataSets) increases?"
   ]
  },
  {
   "cell_type": "code",
   "execution_count": 13,
   "metadata": {
    "collapsed": true
   },
   "outputs": [],
   "source": [
    "def simulate_multiple_data_sets(beta_1, beta_0, sample_sizes,\n",
    "                                noise_func=np.random.randn, n_simulations=1000,\n",
    "                                n_col=2):\n",
    "    \n",
    "    n_row = int(np.ceil(len(sample_sizes) / float(n_col)))\n",
    "    fig, axs = plt.subplots(n_row, n_col, figsize=(3*n_col, 3*n_row), sharex=True)\n",
    "    for n_samples, ax in zip(sample_sizes, axs.ravel()):\n",
    "        all_betas = np.zeros([n_simulations, 2])\n",
    "        for ii in range(n_simulations):\n",
    "            x, y = simulate_data(n_samples, beta_1, beta_0, noise_func=noise_func)\n",
    "            betas = fit_model_to_data(x, y)\n",
    "            all_betas[ii] = betas\n",
    "        ax.hist(all_betas[:, 0])\n",
    "        ax.set_title('Sample size: {}'.format(n_samples))\n",
    "    _ = fig.suptitle(r'Distribution of $\\beta_1$', fontsize=20)\n",
    "    return fig"
   ]
  },
  {
   "cell_type": "code",
   "execution_count": 14,
   "metadata": {},
   "outputs": [
    {
     "data": {
      "image/png": "[encoded data removed]",
      "text/plain": [
       "<matplotlib.figure.Figure at 0x118e988d0>"
      ]
     },
     "metadata": {},
     "output_type": "display_data"
    }
   ],
   "source": [
    "### QUESTION ANSWER\n",
    "sample_sizes = [10, 20, 40, 80]\n",
    "n_simulations = 1000\n",
    "fig = simulate_multiple_data_sets(beta_1, beta_0, sample_sizes)\n",
    "_ = plt.setp(fig.axes, xlim=[0, 8])"
   ]
  },
  {
   "cell_type": "code",
   "execution_count": 15,
   "metadata": {},
   "outputs": [
    {
     "data": {
      "text/plain": [
       "(array([ 10.,   8.,  16.,  12.,   5.,   5.,   5.,   9.,   6.,   6.,   6.,\n",
       "          2.,   1.,   4.,   2.,   0.,   2.,   0.,   0.,   1.]),\n",
       " array([-1.02599639, -0.85243443, -0.67887246, -0.50531049, -0.33174852,\n",
       "        -0.15818656,  0.01537541,  0.18893738,  0.36249934,  0.53606131,\n",
       "         0.70962328,  0.88318525,  1.05674721,  1.23030918,  1.40387115,\n",
       "         1.57743312,  1.75099508,  1.92455705,  2.09811902,  2.27168099,\n",
       "         2.44524295]),\n",
       " <a list of 20 Patch objects>)"
      ]
     },
     "execution_count": 15,
     "metadata": {},
     "output_type": "execute_result"
    },
    {
     "data": {
      "image/png": "[encoded data removed]",
      "text/plain": [
       "<matplotlib.figure.Figure at 0x1190a8748>"
      ]
     },
     "metadata": {},
     "output_type": "display_data"
    }
   ],
   "source": [
    "### QUESTION ANSWER\n",
    "def my_noise_func(n):\n",
    "    noise = 4 * np.random.beta(1, 3, n)\n",
    "    return noise - np.mean(noise)\n",
    "fig, ax = plt.subplots()\n",
    "ax.hist(my_noise_func(100), bins=20)"
   ]
  },
  {
   "cell_type": "code",
   "execution_count": 16,
   "metadata": {},
   "outputs": [
    {
     "data": {
      "image/png": "[encoded data removed]",
      "text/plain": [
       "<matplotlib.figure.Figure at 0x1190639e8>"
      ]
     },
     "metadata": {},
     "output_type": "display_data"
    }
   ],
   "source": [
    "### QUESTION ANSWER\n",
    "# Effect of different noise distributions on the empirical mean\n",
    "# Define noise function here\n",
    "empirical_means = np.zeros(n_simulations)\n",
    "\n",
    "# Run simulations\n",
    "for ii in range(n_simulations):\n",
    "    x, y = simulate_data(n_datapoints, beta_1, beta_0, noise_func=my_noise_func)\n",
    "    empirical_means[ii] = np.mean(y)\n",
    "    \n",
    "# Plot the results\n",
    "fig, ax = plt.subplots()\n",
    "_ = ax.hist(empirical_means, bins=20)"
   ]
  },
  {
   "cell_type": "code",
   "execution_count": 17,
   "metadata": {},
   "outputs": [
    {
     "data": {
      "image/png": "[encoded data removed]",
      "text/plain": [
       "<matplotlib.figure.Figure at 0x118df2ac8>"
      ]
     },
     "metadata": {},
     "output_type": "display_data"
    }
   ],
   "source": [
    "### QUESTION ANSWER\n",
    "# Fit multiple datasets and show how error dist changes betas\n",
    "fig = simulate_multiple_data_sets(beta_1, beta_0, sample_sizes,\n",
    "                                  noise_func=my_noise_func)\n",
    "_ = plt.setp(fig.axes, xlim=[0, 8])"
   ]
  },
  {
   "cell_type": "markdown",
   "metadata": {},
   "source": [
    "So far we have used simulation to show that estimates of statistics of interest are inherently variable across datasets. In practice, however, we only collect one dataset, but we still want to quantify the variability of our estimate. It turns out that the simulation procedure from above is still useful to us.\n",
    "\n",
    "## The bootstrap helps us to quantify the SE for a statistic of interest.\n",
    "\n",
    "In the section above we empirically showed the validity of some theoretical claims, though we relied on both knowlege of the probability distribution- and knowlege of its parameters- in order to generate multiple datasets. In practice, we may be willing to assume that a certain probability distribution could have reasonably generated our data, though we certainly don't know the true parameters of that distribution. In order to understand the variability of an estimate of a statistic, however, we can still use the framework developed above. Specifically our new procedure, the **parametric bootstrap**, is\n",
    "\n",
    "1. Estimate the parameters of the assumed probability distribution using our dataset and the maximum likelihood estimation procedure.\n",
    "2. Generate multiple datasets (pseudo-data) from the assumed distribution, plugging in the parameter estimates in place of their theoretical quantities.\n",
    "3. Calculate the statistic of interest for each dataset, and collect them in a vector (say tStar)\n",
    "4. Estimate the SE by calculating the standard deviation of the entries of tStar.\n",
    "\n",
    "##  The nonparametric bootstrap helps us to quantify the SE for a statistic of interest when our distribution is unknown or highly complex.\n",
    "\n",
    "The general procedure for the nonparametric bootstrap is essentially the same as before. The steps are\n",
    "\n",
    "1. Generate multiple datasets (pseudo-data)\n",
    "2. Calculate the statistic of interest for each dataset and collect the statistics 3. Estimate the SE by calculating the standard deviation of the statistics.\n",
    "\n",
    "The only question that remains is how to generate our pseudo-data. We do this by bootstrap sampling (or sampling with replacement) from our actual dataset.\n",
    "\n",
    "Let's practice the nonparametric bootstrap with a PSTH. Here our dataset consists of stimulus-locked trials, where each trial is represented by a vector with entries representing the number of spikes in the\n",
    "respective 50ms bin. Let be the vector of spike counts for the trial, then we can calculate the PSTH as\n",
    "\n",
    "$$PSTH=\\frac{\\sum{x_i}}{N*.05}$$\n",
    "\n",
    "where N is the total number of trials.\n",
    "\n",
    "> TASK: From the StevensonV2 dataset, plot the smoothed PSTH for neuron 193 and target location [0.0706 -0.0709]. Provide 95% confidence bands for the PSTH obtained through the nonparametric bootstrap. Finally, from the smoothed PSTH, estimate the location of the maximal firing rate in the PSTH. From your bootstrapped samples, obtain the bootstrapped distribution of the maximal firing rate.\n",
    "\n",
    "The bootstrap procedure is:\n",
    "\n",
    "1. Generate multiple (say, 1000) datasets (pseudo-data) by obtaining a bootstrap sample from the original dataset\n",
    "2. Calculate the statistic of interest for each dataset (here it will be the smoothed PSTH)\n",
    "3. In the simulation above we stored the statistic of interest (the mean) for each dataset in a vector called\n",
    "meanStar. In this case, each psuedo-dataset will generate a PSTH, which we will store as a row vector\n",
    "in a matrix called psthStar.\n",
    "4. Smooth each bootstrapped PSTH. For now, we can simply smooth each PSTH with a Gaussian filter.\n",
    "Set the window witdth to 5.\n",
    "5. To obtain the 95% confidence interval we can sort each column independently and record the 25th and\n",
    "975th entries for each column (assuming we are generating 1000 bootsrapped datasets). Plot these\n",
    "confidence bands.\n",
    "6. Calculate the location of the maximal firing rate for each bootstrapped dataset.\n",
    "7. Plot the distribution of maximal firing rate locations.\n",
    "\n",
    "For your convenience, a dataset for neuron 193 and target location [0.0706 -0.0709] is generated in the code below. To play around with a different neuron or location, simply change the variables \"neuron\" and \"targetInterest\". The variable you will use from this section is \"trialMat\" which collects the trials along the rows."
   ]
  },
  {
   "cell_type": "code",
   "execution_count": 19,
   "metadata": {},
   "outputs": [],
   "source": [
    "from scipy import io as si\n",
    "data = si.loadmat('../data/StevensonV2.mat')"
   ]
  },
  {
   "cell_type": "code",
   "execution_count": 20,
   "metadata": {
    "collapsed": true
   },
   "outputs": [],
   "source": [
    "# This defines the neuron and target locations we care about\n",
    "neuron_n = 192\n",
    "target_location = [0.0706, -0.0709]"
   ]
  },
  {
   "cell_type": "code",
   "execution_count": 21,
   "metadata": {},
   "outputs": [],
   "source": [
    "# Extract useful information from our dataset\n",
    "all_spikes = data['spikes']\n",
    "spikes = all_spikes[neuron_n]\n",
    "time = data['time']\n",
    "\n",
    "# This is the onset of each trial\n",
    "onsets = data['startBins'][0]\n",
    "\n",
    "# This determines where the target was on each trial\n",
    "locations = data['targets']\n",
    "locations = locations.T[:, :2]\n",
    "unique_locations = np.unique(locations)\n",
    "n_trials = onsets.shape[0]"
   ]
  },
  {
   "cell_type": "code",
   "execution_count": 22,
   "metadata": {},
   "outputs": [],
   "source": [
    "# Define time and the sampling frequency of data\n",
    "time_step = data['timeBase']\n",
    "sfreq = (1. / time_step).squeeze()"
   ]
  },
  {
   "cell_type": "code",
   "execution_count": 23,
   "metadata": {},
   "outputs": [],
   "source": [
    "# Define trials with the target location\n",
    "diff = (locations - target_location) < 1e-4\n",
    "mask_use = diff.all(axis=1)"
   ]
  },
  {
   "cell_type": "code",
   "execution_count": 24,
   "metadata": {},
   "outputs": [],
   "source": [
    "# Low-pass the spikes to smooth\n",
    "spikes_low = gaussian_filter1d(spikes.astype(float),5)"
   ]
  },
  {
   "cell_type": "markdown",
   "metadata": {},
   "source": [
    "Now that we have information about when each trial begins, we can slice our data so that we collect a window around each trial. Here we'll define the window, and create a new array of shape (trials, neurons, times). We'll use the phrase `epochs` interchangeably with `trials`."
   ]
  },
  {
   "cell_type": "code",
   "execution_count": 25,
   "metadata": {},
   "outputs": [],
   "source": [
    "# Convert data into epochs\n",
    "wmin, wmax = -5., 15.\n",
    "epochs = []\n",
    "for i_onset in onsets[mask_use]:\n",
    "    this_spikes = spikes_low[i_onset + int(wmin): i_onset + int(wmax)]\n",
    "    epochs.append(this_spikes)\n",
    "epochs = np.array(epochs)\n",
    "n_ep = len(epochs)"
   ]
  },
  {
   "cell_type": "code",
   "execution_count": 26,
   "metadata": {},
   "outputs": [],
   "source": [
    "# Define time for our epochs\n",
    "tmin = wmin / sfreq\n",
    "tmax = wmax / sfreq\n",
    "times = np.linspace(tmin, tmax, num=epochs.shape[-1])"
   ]
  },
  {
   "cell_type": "markdown",
   "metadata": {},
   "source": [
    "We'll now bootstrap lower / upper bounds for the activity at each timepoint in a trial. We'll do this by considering the data across trials."
   ]
  },
  {
   "cell_type": "code",
   "execution_count": 27,
   "metadata": {
    "collapsed": true
   },
   "outputs": [],
   "source": [
    "# Bootstrap lo / hi at each time point\n",
    "n_boots = 1000\n",
    "boot_means = np.zeros([n_boots, len(times)])\n",
    "for ii, i_time in enumerate(times):\n",
    "    for jj in range(n_boots):\n",
    "        sample = epochs[:, ii][np.random.randint(0, n_ep, n_ep)]\n",
    "        boot_means[jj, ii] = sample.mean()\n",
    "max_times = boot_means.argmax(axis=1)\n",
    "clo, chi = np.percentile(boot_means, [2.5, 97.5], axis=0)"
   ]
  },
  {
   "cell_type": "code",
   "execution_count": 28,
   "metadata": {},
   "outputs": [
    {
     "data": {
      "image/png": "[encoded data removed]",
      "text/plain": [
       "<matplotlib.figure.Figure at 0x119a31438>"
      ]
     },
     "metadata": {},
     "output_type": "display_data"
    }
   ],
   "source": [
    "# Plot the mean firing rate across trials\n",
    "fig, ax = plt.subplots()\n",
    "ax.plot(times, epochs.mean(0), 'k')\n",
    "ax.fill_between(times, clo, chi, alpha=.3, color='k')\n",
    "ax.set_title('Mean +/- 95% CI PSTH')\n",
    "plt.autoscale(tight=True)"
   ]
  },
  {
   "cell_type": "markdown",
   "metadata": {},
   "source": [
    "Finally, we can plot the timepoint that had the most activity in each bootstrap iteration. This gives us an idea for the variability across trials, and where in time the activity tends to be clustered."
   ]
  },
  {
   "cell_type": "code",
   "execution_count": 29,
   "metadata": {},
   "outputs": [
    {
     "data": {
      "text/plain": [
       "<matplotlib.text.Text at 0x11977b198>"
      ]
     },
     "execution_count": 29,
     "metadata": {},
     "output_type": "execute_result"
    },
    {
     "data": {
      "image/png": "[encoded data removed]",
      "text/plain": [
       "<matplotlib.figure.Figure at 0x119a3ba90>"
      ]
     },
     "metadata": {},
     "output_type": "display_data"
    }
   ],
   "source": [
    "fig, ax = plt.subplots()\n",
    "_ = ax.hist(times[max_times], bins=20)\n",
    "ax.set_title('Maximum time in each bootstrap')"
   ]
  },
  {
   "cell_type": "markdown",
   "metadata": {},
   "source": [
    "---\n",
    "> ADVANCED QUESTION:\n",
    "   \n",
    "> Question: What happens to a bootstrapped estimate of the standard error (as compared to the theoretically derived standard error) as the sample size (not the number of bootstrapped datasets) increases? You can test your answer as follows:\n",
    "1. Sample a dataset of some sample size from a known distribution (say, a normal distribution)\n",
    "2. For several different sample sizes ( say, sizeDataSet=15, 50, 100, 150, 300, 500, 1000, 10000,\n",
    "100000), and for some statistic (for instance the mean), do the following:\n",
    "  * Calculate the theoretical SE for the given sample size (you can also calculate this by simulation as we did above, though keep this simulation distinct from your original dataset)\n",
    "  * Perform a nonparametric bootstrap on your original dataset\n",
    "  * Compare the bootstrap SE and the theoretical SE.\n",
    "---"
   ]
  },
  {
   "cell_type": "code",
   "execution_count": 30,
   "metadata": {},
   "outputs": [
    {
     "data": {
      "text/html": [
       "<div>\n",
       "<style>\n",
       "    .dataframe thead tr:only-child th {\n",
       "        text-align: right;\n",
       "    }\n",
       "\n",
       "    .dataframe thead th {\n",
       "        text-align: left;\n",
       "    }\n",
       "\n",
       "    .dataframe tbody tr th {\n",
       "        vertical-align: top;\n",
       "    }\n",
       "</style>\n",
       "<table border=\"1\" class=\"dataframe\">\n",
       "  <thead>\n",
       "    <tr style=\"text-align: right;\">\n",
       "      <th></th>\n",
       "      <th>se</th>\n",
       "      <th>se_bootstrap</th>\n",
       "    </tr>\n",
       "  </thead>\n",
       "  <tbody>\n",
       "    <tr>\n",
       "      <th>15</th>\n",
       "      <td>0.284005</td>\n",
       "      <td>0.282649</td>\n",
       "    </tr>\n",
       "    <tr>\n",
       "      <th>50</th>\n",
       "      <td>0.153903</td>\n",
       "      <td>0.152142</td>\n",
       "    </tr>\n",
       "    <tr>\n",
       "      <th>100</th>\n",
       "      <td>0.10285</td>\n",
       "      <td>0.103906</td>\n",
       "    </tr>\n",
       "    <tr>\n",
       "      <th>150</th>\n",
       "      <td>0.0835439</td>\n",
       "      <td>0.0818338</td>\n",
       "    </tr>\n",
       "    <tr>\n",
       "      <th>300</th>\n",
       "      <td>0.0604349</td>\n",
       "      <td>0.0596184</td>\n",
       "    </tr>\n",
       "    <tr>\n",
       "      <th>500</th>\n",
       "      <td>0.0438719</td>\n",
       "      <td>0.0433581</td>\n",
       "    </tr>\n",
       "    <tr>\n",
       "      <th>1000</th>\n",
       "      <td>0.0318555</td>\n",
       "      <td>0.0325205</td>\n",
       "    </tr>\n",
       "    <tr>\n",
       "      <th>10000</th>\n",
       "      <td>0.00998568</td>\n",
       "      <td>0.0098465</td>\n",
       "    </tr>\n",
       "  </tbody>\n",
       "</table>\n",
       "</div>"
      ],
      "text/plain": [
       "               se se_bootstrap\n",
       "15       0.284005     0.282649\n",
       "50       0.153903     0.152142\n",
       "100       0.10285     0.103906\n",
       "150     0.0835439    0.0818338\n",
       "300     0.0604349    0.0596184\n",
       "500     0.0438719    0.0433581\n",
       "1000    0.0318555    0.0325205\n",
       "10000  0.00998568    0.0098465"
      ]
     },
     "execution_count": 30,
     "metadata": {},
     "output_type": "execute_result"
    }
   ],
   "source": [
    "### QUESTION ANSWER\n",
    "sample_sizes = [15, 50, 100, 150, 300, 500, 1000, 10000]\n",
    "n_simulations = 1000\n",
    "stat = np.mean\n",
    "random_func = np.random.randn\n",
    "\n",
    "#\n",
    "standard_errors = pd.DataFrame(index=sample_sizes,\n",
    "                               columns=['se', 'se_bootstrap'])\n",
    "for n_sample in sample_sizes:\n",
    "    sample = random_func(n_sample)\n",
    "    se = np.std(sample) / np.sqrt(n_sample)\n",
    "\n",
    "    simulation_means = np.zeros(n_simulations)\n",
    "    for ii in range(n_simulations):\n",
    "        boot_sample = sample[np.random.randint(0, n_sample, n_sample)]\n",
    "        simulation_means[ii] = stat(boot_sample)\n",
    "    se_boot = np.std(simulation_means)\n",
    "    standard_errors.loc[n_sample] = [se, se_boot]\n",
    "\n",
    "standard_errors"
   ]
  },
  {
   "cell_type": "markdown",
   "metadata": {
    "collapsed": true
   },
   "source": [
    "As you can see, there is a strong correlation between the bootstrapped standard error, and the theoretical standard error. This won't always be the case, especially when data are not normally distributed."
   ]
  }
 ],
 "metadata": {
  "hide_input": false,
  "kernelspec": {
   "display_name": "Python 3",
   "language": "python",
   "name": "python3"
  },
  "language_info": {
   "codemirror_mode": {
    "name": "ipython",
    "version": 3
   },
   "file_extension": ".py",
   "mimetype": "text/x-python",
   "name": "python",
   "nbconvert_exporter": "python",
   "pygments_lexer": "ipython3",
   "version": "3.6.1"
  }
 },
 "nbformat": 4,
 "nbformat_minor": 1
}
