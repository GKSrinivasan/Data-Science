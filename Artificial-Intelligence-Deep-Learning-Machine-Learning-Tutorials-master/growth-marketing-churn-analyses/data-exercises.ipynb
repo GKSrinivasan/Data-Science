{
 "metadata": {
  "name": "",
  "signature": "sha256:41bd97a63dfec3862de8efb78013a61d2e7f9158901feb65cba51aca94406ae4"
 },
 "nbformat": 3,
 "nbformat_minor": 0,
 "worksheets": [
  {
   "cells": [
    {
     "cell_type": "code",
     "collapsed": true,
     "input": [
      "from __future__ import division\n",
      "import matplotlib.pyplot as plt\n",
      "from sqlalchemy import *\n",
      "import numpy as np\n",
      "from sklearn.linear_model import LogisticRegression as LR\n",
      "from sklearn.ensemble import RandomForestClassifier as RF\n",
      "from sklearn.ensemble import GradientBoostingClassifier as GBC\n",
      "from sklearn.svm import SVC\n",
      "from sqlalchemy.orm import sessionmaker\n",
      "from sqlalchemy import func\n",
      "from sklearn.metrics import confusion_matrix\n",
      "from sklearn.cross_validation import train_test_split\n",
      "from churndata import *\n",
      "from sklearn.preprocessing import StandardScaler\n",
      "from pandas import DataFrame,Series\n",
      "from pandas.core.groupby import GroupBy\n",
      "import pandas as pd\n",
      "from util import query_to_df\n",
      "from util import *\n",
      "import matplotlib.pyplot as plt\n"
     ],
     "language": "python",
     "metadata": {},
     "outputs": [],
     "prompt_number": 3
    },
    {
     "cell_type": "code",
     "collapsed": true,
     "input": [
      "\n",
      "db = create_engine('sqlite:///forjar.db')\n",
      "\n",
      "\n",
      "metadata = MetaData(db)\n",
      "\n",
      "Session = sessionmaker(bind=db)\n",
      "\n",
      "\n",
      "session = Session()\n",
      "\n",
      "\n",
      "#used for later; defines the numerical mappings for each category\n",
      "campaign_to_num = {\n",
      "\t'TW' : 1,\n",
      "\t'RE' : 2,\n",
      "    'FB' : 3,\n",
      "    'PI' : 4\n",
      "}\n",
      "\n",
      "event_to_num = {\n",
      "   'like' : 1,\n",
      "   'share' : 2,\n",
      "   'nothing' : 3,\n",
      "   'bought' : 4\n",
      "}\n",
      "\n",
      "\n",
      "\n",
      "meal_to_num = {\n",
      "   'japanese':  1,\n",
      "   'chinese' : 2,\n",
      "   'french' : 3,\n",
      "    'german' : 4,\n",
      "    'italian' : 5,\n",
      "    'mexican' : 6,\n",
      "    'vietnamese' : 7\n",
      "}\n",
      "\n",
      "\n",
      "\n",
      "campaign_to_cost = {\n",
      "    'TW' : .25,\n",
      "    'RE' : .35,\n",
      "    'FB' : .45,\n",
      "    'PI' : .55\n",
      "}\n",
      "\n"
     ],
     "language": "python",
     "metadata": {},
     "outputs": [],
     "prompt_number": 4
    },
    {
     "cell_type": "code",
     "collapsed": false,
     "input": [
      "q = session.query(Event).join(Meal,Event.Meal_Id == Meal.id).join(Users).add_entity(Meal).add_entity(Users)"
     ],
     "language": "python",
     "metadata": {},
     "outputs": []
    },
    {
     "cell_type": "markdown",
     "metadata": {},
     "source": [
      "\n",
      "Overview\n",
      "========================\n",
      "\n",
      "The core objective of this exercise is to understand sql queries, pandas data frames, and general exploratory data analysis.\n",
      "\n",
      "Towards the end, we will learn how to take our basic tools for exploratory data analysis and transform the inputs in to something\n",
      "\n",
      "appropriate for a machine learning algorithm.\n",
      "\n",
      "\n",
      "For our baseline classes, we will be using the classes from churndata.py . This contains all of the necessary classes from which\n",
      "\n",
      "we will derive all of our analysis.\n",
      "\n",
      "The associated database forjar.db contains our actual data set. We will need to use sql alchemy to load the data in.\n"
     ]
    },
    {
     "cell_type": "markdown",
     "metadata": {},
     "source": [
      "\n",
      "Loading Data Via SQLAlchemy\n",
      "====================================\n",
      "\n",
      "First we will be loading the data from our sql lite database and doing a simple join.\n",
      "\n",
      "Our objective here will be to get a list of the users who have bought something.\n",
      "\n",
      "If we think in terms of our objectives of the site, it is to maximize revenue.\n",
      "\n",
      "In any given day, we need to understand which of our users actually tend to buy things on the site.\n",
      "\n",
      "If they aren't buying anything, we should do something about it given the data we know about them.\n",
      "\n",
      "\n",
      "Exercise:\n",
      "\n",
      "     1.  Goal: Load data from an sql database such that each you load a join of the users and events. We only want \n",
      "          the users who bought something.\n",
      "\n",
      "         Steps:\n",
      "              1. Load data via sqlalchemy from the sql lite database forjar.db\n",
      "              2. Create a query that contains a join on events and a filter on bought. Look in to sqlalchemy \n",
      "                 sessions.\n",
      "\n",
      "\n",
      "     2. Load the results of a call to query.all() in to a data frame.\n",
      "\n",
      "         Steps:\n",
      "              1. Create a dataframe with pandas\n",
      "              2. Set the columns to the query keys\n",
      "\n",
      "\n",
      "\n",
      "The goal with this particular exercise is to understand which users are buying things so we can understand what attributes are successful.\n",
      "\n",
      "Resources:\n",
      "--------------\n",
      "\n",
      "[SQLLite/SQLAlchemy](http://docs.sqlalchemy.org/en/rel_0_9/dialects/sqlite.html)\n",
      "\n",
      "[Basic Querying](http://docs.sqlalchemy.org/en/rel_0_9/orm/query.html)\n",
      "\n",
      "[Pandas Data Structures](http://pandas.pydata.org/pandas-docs/stable/dsintro.html)\n",
      "\n",
      "\n",
      "\n",
      "\n",
      "\n",
      "\n",
      "[Solution](https://gist.github.com/agibsonccc/c5f34f6a5d24e041d535)\n",
      "---------------------------------------------------------------------------\n",
      "\n",
      "\n",
      "\n",
      "\n",
      "\n"
     ]
    },
    {
     "cell_type": "markdown",
     "metadata": {},
     "source": [
      "\n",
      " Load data via sqlalchemy from the sql lite database forjar.db\n",
      " ===================================================================================\n",
      "\n",
      "\n"
     ]
    },
    {
     "cell_type": "code",
     "collapsed": false,
     "input": [
      "def query_to_df(session,query):\n",
      "    \"\"\"\n",
      "    Convert an sql query to a pandas data frame\n",
      "    \"\"\"\n",
      "    result = session.execute(query)\n",
      "    d = DataFrame(result.fetchall())\n",
      "    d.columns = result.keys()\n",
      "    return d"
     ],
     "language": "python",
     "metadata": {},
     "outputs": [],
     "prompt_number": 5
    },
    {
     "cell_type": "code",
     "collapsed": false,
     "input": [
      "q = session.query(Users.Campaign_ID,Event.Type,Users.id,Event.User_Id)\n",
      "d = query_to_df(session,q)\n",
      "print d\n",
      "#print d.sort('Users_id')\n",
      "grouped = d.groupby(['Users_Campaign_ID','Event_Type'])\n",
      "print grouped.agg({'Event_Type' : np.count_nonzero}).sort('Event_Type')"
     ],
     "language": "python",
     "metadata": {},
     "outputs": [
      {
       "output_type": "stream",
       "stream": "stderr",
       "text": [
        "/Users/junzhang/anaconda/lib/python2.7/site-packages/pandas/core/config.py:570: DeprecationWarning: height has been deprecated.\n",
        "\n",
        "  warnings.warn(d.msg, DeprecationWarning)\n",
        "/Users/junzhang/anaconda/lib/python2.7/site-packages/pandas/core/config.py:570: DeprecationWarning: height has been deprecated.\n",
        "\n",
        "  warnings.warn(d.msg, DeprecationWarning)\n"
       ]
      },
      {
       "output_type": "stream",
       "stream": "stdout",
       "text": [
        "<class 'pandas.core.frame.DataFrame'>\n",
        "Int64Index: 10108176 entries, 0 to 10108175\n",
        "Columns: 4 entries, Users_Campaign_ID to Event_User_Id\n",
        "dtypes: object(4)\n",
        "                              Event_Type\n",
        "Users_Campaign_ID Event_Type            \n",
        "RE                like            597313\n",
        "TW                like            604498\n",
        "RE                nothing         604795\n",
        "FB                like            605935\n",
        "PI                like            608330\n",
        "TW                nothing         612070\n",
        "FB                nothing         613525\n",
        "PI                nothing         615950\n",
        "RE                share           633476\n",
        "TW                share           641096\n",
        "FB                share           642620\n",
        "PI                share           645160\n",
        "RE                bought          663404\n",
        "TW                bought          671384\n",
        "FB                bought          672980\n",
        "PI                bought          675640"
       ]
      },
      {
       "output_type": "stream",
       "stream": "stdout",
       "text": [
        "\n"
       ]
      }
     ],
     "prompt_number": 6
    },
    {
     "cell_type": "markdown",
     "metadata": {},
     "source": [
      "\n",
      "\n",
      " Create a query that contains a join on events and a filter on bought. Look in to sqlalchemy sessions.\n",
      " ------------------------------------------------------------------------------------------------------------\n"
     ]
    },
    {
     "cell_type": "markdown",
     "metadata": {},
     "source": [
      "\n",
      ". Load the results of a call to query.all() in to a data frame.\n",
      "=============================================================================\n"
     ]
    },
    {
     "cell_type": "code",
     "collapsed": false,
     "input": [
      "d.head(10)"
     ],
     "language": "python",
     "metadata": {},
     "outputs": [
      {
       "output_type": "stream",
       "stream": "stderr",
       "text": [
        "/Users/junzhang/anaconda/lib/python2.7/site-packages/pandas/core/config.py:570: DeprecationWarning: height has been deprecated.\n",
        "\n",
        "  warnings.warn(d.msg, DeprecationWarning)\n",
        "/Users/junzhang/anaconda/lib/python2.7/site-packages/pandas/core/config.py:570: DeprecationWarning: height has been deprecated.\n",
        "\n",
        "  warnings.warn(d.msg, DeprecationWarning)\n"
       ]
      },
      {
       "html": [
        "<div style=\"max-height:1000px;max-width:1500px;overflow:auto;\">\n",
        "<table border=\"1\" class=\"dataframe\">\n",
        "  <thead>\n",
        "    <tr style=\"text-align: right;\">\n",
        "      <th></th>\n",
        "      <th>Users_Campaign_ID</th>\n",
        "      <th>Event_Type</th>\n",
        "      <th>Users_id</th>\n",
        "      <th>Event_User_Id</th>\n",
        "    </tr>\n",
        "  </thead>\n",
        "  <tbody>\n",
        "    <tr>\n",
        "      <th>0</th>\n",
        "      <td> PI</td>\n",
        "      <td> bought</td>\n",
        "      <td>  1</td>\n",
        "      <td> 1</td>\n",
        "    </tr>\n",
        "    <tr>\n",
        "      <th>1</th>\n",
        "      <td> RE</td>\n",
        "      <td> bought</td>\n",
        "      <td>  2</td>\n",
        "      <td> 1</td>\n",
        "    </tr>\n",
        "    <tr>\n",
        "      <th>2</th>\n",
        "      <td> RE</td>\n",
        "      <td> bought</td>\n",
        "      <td>  3</td>\n",
        "      <td> 1</td>\n",
        "    </tr>\n",
        "    <tr>\n",
        "      <th>3</th>\n",
        "      <td> PI</td>\n",
        "      <td> bought</td>\n",
        "      <td>  4</td>\n",
        "      <td> 1</td>\n",
        "    </tr>\n",
        "    <tr>\n",
        "      <th>4</th>\n",
        "      <td> RE</td>\n",
        "      <td> bought</td>\n",
        "      <td>  5</td>\n",
        "      <td> 1</td>\n",
        "    </tr>\n",
        "    <tr>\n",
        "      <th>5</th>\n",
        "      <td> TW</td>\n",
        "      <td> bought</td>\n",
        "      <td>  6</td>\n",
        "      <td> 1</td>\n",
        "    </tr>\n",
        "    <tr>\n",
        "      <th>6</th>\n",
        "      <td> RE</td>\n",
        "      <td> bought</td>\n",
        "      <td>  7</td>\n",
        "      <td> 1</td>\n",
        "    </tr>\n",
        "    <tr>\n",
        "      <th>7</th>\n",
        "      <td> PI</td>\n",
        "      <td> bought</td>\n",
        "      <td>  8</td>\n",
        "      <td> 1</td>\n",
        "    </tr>\n",
        "    <tr>\n",
        "      <th>8</th>\n",
        "      <td> RE</td>\n",
        "      <td> bought</td>\n",
        "      <td>  9</td>\n",
        "      <td> 1</td>\n",
        "    </tr>\n",
        "    <tr>\n",
        "      <th>9</th>\n",
        "      <td> RE</td>\n",
        "      <td> bought</td>\n",
        "      <td> 10</td>\n",
        "      <td> 1</td>\n",
        "    </tr>\n",
        "  </tbody>\n",
        "</table>\n",
        "</div>"
       ],
       "metadata": {},
       "output_type": "pyout",
       "prompt_number": 8,
       "text": [
        "  Users_Campaign_ID Event_Type Users_id Event_User_Id\n",
        "0                PI     bought        1             1\n",
        "1                RE     bought        2             1\n",
        "2                RE     bought        3             1\n",
        "3                PI     bought        4             1\n",
        "4                RE     bought        5             1\n",
        "5                TW     bought        6             1\n",
        "6                RE     bought        7             1\n",
        "7                PI     bought        8             1\n",
        "8                RE     bought        9             1\n",
        "9                RE     bought       10             1"
       ]
      }
     ],
     "prompt_number": 8
    },
    {
     "cell_type": "code",
     "collapsed": false,
     "input": [
      "q = session.query(Users.Campaign_ID,Event.Type,Users.id,Event.User_Id).filter(Event.Type == 'bought')\n",
      "d = query_to_df(session,q)\n",
      "grouped = d.groupby('Users_id')\n",
      "result = grouped.agg({'Event_Type' : np.count_nonzero}).sort('Event_Type')\n",
      "print result"
     ],
     "language": "python",
     "metadata": {},
     "outputs": [
      {
       "output_type": "stream",
       "stream": "stdout",
       "text": [
        "<class 'pandas.core.frame.DataFrame'>\n",
        "Index: 5044 entries, 1 to 999\n",
        "Data columns (total 1 columns):\n",
        "Event_Type    5044  non-null values\n",
        "dtypes: int64(1)\n"
       ]
      },
      {
       "output_type": "stream",
       "stream": "stderr",
       "text": [
        "/Users/junzhang/anaconda/lib/python2.7/site-packages/pandas/core/config.py:570: DeprecationWarning: height has been deprecated.\n",
        "\n",
        "  warnings.warn(d.msg, DeprecationWarning)\n"
       ]
      }
     ],
     "prompt_number": 9
    },
    {
     "cell_type": "code",
     "collapsed": false,
     "input": [
      "d.groupby('Users_id').sum()"
     ],
     "language": "python",
     "metadata": {},
     "outputs": [
      {
       "output_type": "stream",
       "stream": "stderr",
       "text": [
        "/Users/junzhang/anaconda/lib/python2.7/site-packages/pandas/core/config.py:570: DeprecationWarning: height has been deprecated.\n",
        "\n",
        "  warnings.warn(d.msg, DeprecationWarning)\n"
       ]
      },
      {
       "html": [
        "<pre>\n",
        "&lt;class 'pandas.core.frame.DataFrame'&gt;\n",
        "Index: 5044 entries, 1 to 999\n",
        "Data columns (total 3 columns):\n",
        "Users_Campaign_ID    5044  non-null values\n",
        "Event_Type           5044  non-null values\n",
        "Event_User_Id        5044  non-null values\n",
        "dtypes: object(3)\n",
        "</pre>"
       ],
       "metadata": {},
       "output_type": "pyout",
       "prompt_number": 28,
       "text": [
        "<class 'pandas.core.frame.DataFrame'>\n",
        "Index: 5044 entries, 1 to 999\n",
        "Data columns (total 3 columns):\n",
        "Users_Campaign_ID    5044  non-null values\n",
        "Event_Type           5044  non-null values\n",
        "Event_User_Id        5044  non-null values\n",
        "dtypes: object(3)"
       ]
      }
     ],
     "prompt_number": 28
    },
    {
     "cell_type": "code",
     "collapsed": false,
     "input": [
      "d.groupby('Users_Campaign_ID').describe()"
     ],
     "language": "python",
     "metadata": {},
     "outputs": [
      {
       "output_type": "stream",
       "stream": "stderr",
       "text": [
        "/Users/junzhang/anaconda/lib/python2.7/site-packages/pandas/core/config.py:570: DeprecationWarning: height has been deprecated.\n",
        "\n",
        "  warnings.warn(d.msg, DeprecationWarning)\n",
        "/Users/junzhang/anaconda/lib/python2.7/site-packages/pandas/core/config.py:570: DeprecationWarning: height has been deprecated.\n",
        "\n",
        "  warnings.warn(d.msg, DeprecationWarning)\n"
       ]
      },
      {
       "html": [
        "<div style=\"max-height:1000px;max-width:1500px;overflow:auto;\">\n",
        "<table border=\"1\" class=\"dataframe\">\n",
        "  <thead>\n",
        "    <tr style=\"text-align: right;\">\n",
        "      <th></th>\n",
        "      <th></th>\n",
        "      <th>Users_Campaign_ID</th>\n",
        "      <th>Event_Type</th>\n",
        "      <th>Users_id</th>\n",
        "      <th>Event_User_Id</th>\n",
        "    </tr>\n",
        "    <tr>\n",
        "      <th>Users_Campaign_ID</th>\n",
        "      <th></th>\n",
        "      <th></th>\n",
        "      <th></th>\n",
        "      <th></th>\n",
        "      <th></th>\n",
        "    </tr>\n",
        "  </thead>\n",
        "  <tbody>\n",
        "    <tr>\n",
        "      <th rowspan=\"4\" valign=\"top\">FB</th>\n",
        "      <th>count</th>\n",
        "      <td> 672980</td>\n",
        "      <td> 672980</td>\n",
        "      <td> 672980</td>\n",
        "      <td> 672980</td>\n",
        "    </tr>\n",
        "    <tr>\n",
        "      <th>unique</th>\n",
        "      <td>      1</td>\n",
        "      <td>      1</td>\n",
        "      <td>   1265</td>\n",
        "      <td>    334</td>\n",
        "    </tr>\n",
        "    <tr>\n",
        "      <th>top</th>\n",
        "      <td>     FB</td>\n",
        "      <td> bought</td>\n",
        "      <td>   3923</td>\n",
        "      <td>      1</td>\n",
        "    </tr>\n",
        "    <tr>\n",
        "      <th>freq</th>\n",
        "      <td> 672980</td>\n",
        "      <td> 672980</td>\n",
        "      <td>    532</td>\n",
        "      <td>  24035</td>\n",
        "    </tr>\n",
        "    <tr>\n",
        "      <th rowspan=\"4\" valign=\"top\">PI</th>\n",
        "      <th>count</th>\n",
        "      <td> 675640</td>\n",
        "      <td> 675640</td>\n",
        "      <td> 675640</td>\n",
        "      <td> 675640</td>\n",
        "    </tr>\n",
        "    <tr>\n",
        "      <th>unique</th>\n",
        "      <td>      1</td>\n",
        "      <td>      1</td>\n",
        "      <td>   1270</td>\n",
        "      <td>    334</td>\n",
        "    </tr>\n",
        "    <tr>\n",
        "      <th>top</th>\n",
        "      <td>     PI</td>\n",
        "      <td> bought</td>\n",
        "      <td>   3927</td>\n",
        "      <td>      1</td>\n",
        "    </tr>\n",
        "    <tr>\n",
        "      <th>freq</th>\n",
        "      <td> 675640</td>\n",
        "      <td> 675640</td>\n",
        "      <td>    532</td>\n",
        "      <td>  24130</td>\n",
        "    </tr>\n",
        "    <tr>\n",
        "      <th rowspan=\"4\" valign=\"top\">RE</th>\n",
        "      <th>count</th>\n",
        "      <td> 663404</td>\n",
        "      <td> 663404</td>\n",
        "      <td> 663404</td>\n",
        "      <td> 663404</td>\n",
        "    </tr>\n",
        "    <tr>\n",
        "      <th>unique</th>\n",
        "      <td>      1</td>\n",
        "      <td>      1</td>\n",
        "      <td>   1247</td>\n",
        "      <td>    334</td>\n",
        "    </tr>\n",
        "    <tr>\n",
        "      <th>top</th>\n",
        "      <td>     RE</td>\n",
        "      <td> bought</td>\n",
        "      <td>   4300</td>\n",
        "      <td>      1</td>\n",
        "    </tr>\n",
        "    <tr>\n",
        "      <th>freq</th>\n",
        "      <td> 663404</td>\n",
        "      <td> 663404</td>\n",
        "      <td>    532</td>\n",
        "      <td>  23693</td>\n",
        "    </tr>\n",
        "    <tr>\n",
        "      <th rowspan=\"4\" valign=\"top\">TW</th>\n",
        "      <th>count</th>\n",
        "      <td> 671384</td>\n",
        "      <td> 671384</td>\n",
        "      <td> 671384</td>\n",
        "      <td> 671384</td>\n",
        "    </tr>\n",
        "    <tr>\n",
        "      <th>unique</th>\n",
        "      <td>      1</td>\n",
        "      <td>      1</td>\n",
        "      <td>   1262</td>\n",
        "      <td>    334</td>\n",
        "    </tr>\n",
        "    <tr>\n",
        "      <th>top</th>\n",
        "      <td>     TW</td>\n",
        "      <td> bought</td>\n",
        "      <td>   3922</td>\n",
        "      <td>      1</td>\n",
        "    </tr>\n",
        "    <tr>\n",
        "      <th>freq</th>\n",
        "      <td> 671384</td>\n",
        "      <td> 671384</td>\n",
        "      <td>    532</td>\n",
        "      <td>  23978</td>\n",
        "    </tr>\n",
        "  </tbody>\n",
        "</table>\n",
        "</div>"
       ],
       "metadata": {},
       "output_type": "pyout",
       "prompt_number": 23,
       "text": [
        "                         Users_Campaign_ID Event_Type Users_id Event_User_Id\n",
        "Users_Campaign_ID                                                           \n",
        "FB                count             672980     672980   672980        672980\n",
        "                  unique                 1          1     1265           334\n",
        "                  top                   FB     bought     3923             1\n",
        "                  freq              672980     672980      532         24035\n",
        "PI                count             675640     675640   675640        675640\n",
        "                  unique                 1          1     1270           334\n",
        "                  top                   PI     bought     3927             1\n",
        "                  freq              675640     675640      532         24130\n",
        "RE                count             663404     663404   663404        663404\n",
        "                  unique                 1          1     1247           334\n",
        "                  top                   RE     bought     4300             1\n",
        "                  freq              663404     663404      532         23693\n",
        "TW                count             671384     671384   671384        671384\n",
        "                  unique                 1          1     1262           334\n",
        "                  top                   TW     bought     3922             1\n",
        "                  freq              671384     671384      532         23978"
       ]
      }
     ],
     "prompt_number": 23
    },
    {
     "cell_type": "code",
     "collapsed": false,
     "input": [
      "result.describe()"
     ],
     "language": "python",
     "metadata": {},
     "outputs": [
      {
       "output_type": "stream",
       "stream": "stderr",
       "text": [
        "/Users/junzhang/anaconda/lib/python2.7/site-packages/pandas/core/config.py:570: DeprecationWarning: height has been deprecated.\n",
        "\n",
        "  warnings.warn(d.msg, DeprecationWarning)\n",
        "/Users/junzhang/anaconda/lib/python2.7/site-packages/pandas/core/config.py:570: DeprecationWarning: height has been deprecated.\n",
        "\n",
        "  warnings.warn(d.msg, DeprecationWarning)\n"
       ]
      },
      {
       "html": [
        "<div style=\"max-height:1000px;max-width:1500px;overflow:auto;\">\n",
        "<table border=\"1\" class=\"dataframe\">\n",
        "  <thead>\n",
        "    <tr style=\"text-align: right;\">\n",
        "      <th></th>\n",
        "      <th>Event_Type</th>\n",
        "    </tr>\n",
        "  </thead>\n",
        "  <tbody>\n",
        "    <tr>\n",
        "      <th>count</th>\n",
        "      <td> 5044</td>\n",
        "    </tr>\n",
        "    <tr>\n",
        "      <th>mean</th>\n",
        "      <td>  532</td>\n",
        "    </tr>\n",
        "    <tr>\n",
        "      <th>std</th>\n",
        "      <td>    0</td>\n",
        "    </tr>\n",
        "    <tr>\n",
        "      <th>min</th>\n",
        "      <td>  532</td>\n",
        "    </tr>\n",
        "    <tr>\n",
        "      <th>25%</th>\n",
        "      <td>  532</td>\n",
        "    </tr>\n",
        "    <tr>\n",
        "      <th>50%</th>\n",
        "      <td>  532</td>\n",
        "    </tr>\n",
        "    <tr>\n",
        "      <th>75%</th>\n",
        "      <td>  532</td>\n",
        "    </tr>\n",
        "    <tr>\n",
        "      <th>max</th>\n",
        "      <td>  532</td>\n",
        "    </tr>\n",
        "  </tbody>\n",
        "</table>\n",
        "</div>"
       ],
       "metadata": {},
       "output_type": "pyout",
       "prompt_number": 15,
       "text": [
        "       Event_Type\n",
        "count        5044\n",
        "mean          532\n",
        "std             0\n",
        "min           532\n",
        "25%           532\n",
        "50%           532\n",
        "75%           532\n",
        "max           532"
       ]
      }
     ],
     "prompt_number": 15
    },
    {
     "cell_type": "code",
     "collapsed": false,
     "input": [
      "result.sum()"
     ],
     "language": "python",
     "metadata": {},
     "outputs": [
      {
       "metadata": {},
       "output_type": "pyout",
       "prompt_number": 27,
       "text": [
        "Event_Type    2683408\n",
        "dtype: int64"
       ]
      }
     ],
     "prompt_number": 27
    },
    {
     "cell_type": "code",
     "collapsed": false,
     "input": [
      "result.head(5)"
     ],
     "language": "python",
     "metadata": {},
     "outputs": [
      {
       "output_type": "stream",
       "stream": "stderr",
       "text": [
        "/Users/junzhang/anaconda/lib/python2.7/site-packages/pandas/core/config.py:570: DeprecationWarning: height has been deprecated.\n",
        "\n",
        "  warnings.warn(d.msg, DeprecationWarning)\n",
        "/Users/junzhang/anaconda/lib/python2.7/site-packages/pandas/core/config.py:570: DeprecationWarning: height has been deprecated.\n",
        "\n",
        "  warnings.warn(d.msg, DeprecationWarning)\n"
       ]
      },
      {
       "html": [
        "<div style=\"max-height:1000px;max-width:1500px;overflow:auto;\">\n",
        "<table border=\"1\" class=\"dataframe\">\n",
        "  <thead>\n",
        "    <tr style=\"text-align: right;\">\n",
        "      <th></th>\n",
        "      <th>Event_Type</th>\n",
        "    </tr>\n",
        "    <tr>\n",
        "      <th>Users_id</th>\n",
        "      <th></th>\n",
        "    </tr>\n",
        "  </thead>\n",
        "  <tbody>\n",
        "    <tr>\n",
        "      <th>1</th>\n",
        "      <td> 532</td>\n",
        "    </tr>\n",
        "    <tr>\n",
        "      <th>4028</th>\n",
        "      <td> 532</td>\n",
        "    </tr>\n",
        "    <tr>\n",
        "      <th>4027</th>\n",
        "      <td> 532</td>\n",
        "    </tr>\n",
        "    <tr>\n",
        "      <th>4026</th>\n",
        "      <td> 532</td>\n",
        "    </tr>\n",
        "    <tr>\n",
        "      <th>4025</th>\n",
        "      <td> 532</td>\n",
        "    </tr>\n",
        "  </tbody>\n",
        "</table>\n",
        "</div>"
       ],
       "metadata": {},
       "output_type": "pyout",
       "prompt_number": 10,
       "text": [
        "          Event_Type\n",
        "Users_id            \n",
        "1                532\n",
        "4028             532\n",
        "4027             532\n",
        "4026             532\n",
        "4025             532"
       ]
      }
     ],
     "prompt_number": 10
    },
    {
     "cell_type": "markdown",
     "metadata": {},
     "source": [
      "Set the columns to the query keys\n",
      "----------------------------------------------------------"
     ]
    },
    {
     "cell_type": "code",
     "collapsed": false,
     "input": [],
     "language": "python",
     "metadata": {},
     "outputs": []
    },
    {
     "cell_type": "markdown",
     "metadata": {},
     "source": [
      "Ranking\n",
      "======================\n",
      "\n",
      "Now we will want to perform some sort of ranking, understanding attributes of who bought the most will allow us\n",
      "\n",
      "to understand who our most profitable users are. Users who buy the most do not necessarily have the highest life time value,\n",
      "\n",
      "but it is a great low hanging fruit for understanding where to begin understanding your users.\n",
      "\n",
      "\n",
      "Exercise:\n",
      "         Create a ranked grouping of the users who bought the most\n",
      "\n",
      "         Steps:\n",
      "                1. Using our previous query, we should be able to also rank the users who bought the most.\n",
      "                2.  Again put the data in to a dataframe. RUn your aggregations and group bys via the data frame.\n",
      "\n",
      "Resources\n",
      "------------\n",
      "[Queries](http://docs.sqlalchemy.org/en/rel_0_9/orm/query.html)\n",
      "\n",
      "\n",
      "\n",
      "[Solution](https://gist.github.com/agibsonccc/7798e0908ab975a5f376)\n",
      "-----------------------------------------------------------------------------\n",
      "\n"
     ]
    },
    {
     "cell_type": "markdown",
     "metadata": {},
     "source": [
      "Using our previous query, we should be able to also rank the users who bought the most.\n",
      "-------------------------------------------------------------------------------------------------\n"
     ]
    },
    {
     "cell_type": "code",
     "collapsed": false,
     "input": [
      "q = session.query(Users.Campaign_ID,Event.Type,Users.id,Event.User_Id).filter(Event.Type == 'bought')\n",
      "d = query_to_df(session,q)\n",
      "grouped = d.groupby('Users_id')\n",
      "result = grouped.agg({'Event_Type' : np.count_nonzero}).sort('Event_Type')\n",
      "print result"
     ],
     "language": "python",
     "metadata": {},
     "outputs": []
    },
    {
     "cell_type": "markdown",
     "metadata": {},
     "source": [
      "\n",
      "Again put the data in to a dataframe. RUn your aggregations and group bys via the data frame.\n",
      "-----------------------------------------------------------------------------------------------------------\n"
     ]
    },
    {
     "cell_type": "code",
     "collapsed": false,
     "input": [
      "q = session.query(Users.Campaign_ID, Event.Type, Users.id, Event.User_Id).filter(Event.Type == 'bought') "
     ],
     "language": "python",
     "metadata": {},
     "outputs": [],
     "prompt_number": 24
    },
    {
     "cell_type": "code",
     "collapsed": false,
     "input": [
      "d = query_to_df(session, q)"
     ],
     "language": "python",
     "metadata": {},
     "outputs": [],
     "prompt_number": 25
    },
    {
     "cell_type": "code",
     "collapsed": false,
     "input": [
      "grouped = d.groupby('Users_id')"
     ],
     "language": "python",
     "metadata": {},
     "outputs": [],
     "prompt_number": 26
    },
    {
     "cell_type": "code",
     "collapsed": false,
     "input": [
      "type(d)"
     ],
     "language": "python",
     "metadata": {},
     "outputs": [
      {
       "metadata": {},
       "output_type": "pyout",
       "prompt_number": 33,
       "text": [
        "pandas.core.frame.DataFrame"
       ]
      }
     ],
     "prompt_number": 33
    },
    {
     "cell_type": "markdown",
     "metadata": {},
     "source": [
      "Counts on campaign wise event actions\n",
      "========================================\n",
      "\n",
      "\n",
      "Now we will use Pandas to start doing some exploratory analysis.  Let's compute some fairly simple statistics on our data.\n",
      "\n",
      "Exercise:\n",
      "\n",
      "     Steps:\n",
      "           1. Load the data from sql alchemy in to a pandas data frame\n",
      "\n",
      "           2. Using pandas, calculate the mean number of times each user\n",
      "\n",
      "           3. Do a dual group by from each campaign type (facebook,twitter,pinterest,...) and each event type\n",
      "\n",
      "\n",
      "\n",
      "Resources:\n",
      "----------------------------\n",
      "\n",
      "[Pandas Blog post](http://wesmckinney.com/blog/?p=125)\n",
      "\n",
      "[Solution](https://gist.github.com/agibsonccc/f5538976ed3782cb0441)\n",
      "-----------------------------------------------------------------------\n",
      "\n",
      "\n",
      "\n",
      "\"\"\""
     ]
    },
    {
     "cell_type": "markdown",
     "metadata": {},
     "source": [
      "Load the data from sql alchemy in to a pandas data frame\n",
      "---------------------------------------------------------------\n",
      "  "
     ]
    },
    {
     "cell_type": "code",
     "collapsed": false,
     "input": [],
     "language": "python",
     "metadata": {},
     "outputs": []
    },
    {
     "cell_type": "markdown",
     "metadata": {},
     "source": [
      "Using pandas, calculate the mean number of times each user\n",
      "-----------------------------------------------------------------\n"
     ]
    },
    {
     "cell_type": "markdown",
     "metadata": {},
     "source": [
      "Do a dual group by from each campaign type (facebook,twitter,pinterest,...) and each event type\n",
      "--------------------------------------------------------------------------------------------------------"
     ]
    },
    {
     "cell_type": "markdown",
     "metadata": {},
     "source": [
      "Visualizing Data\n",
      "============================\n",
      "\n",
      "Pandas has very powerful plotting built in to it alongside matplotlib. Let's generate scatterplots for all of the various user campaign to event types.\n",
      "\n",
      "Pandas has a lot of built in tools for data vis. Underneath it uses matplot lib. One key thing of note here is that pandas will not actually render your plots for you.\n",
      "\n",
      "To render plots after a call to something like dataframe.hist(), do the following:\n",
      "\n",
      "     import matplotlib.pyplot as plt\n",
      "     plt.show()\n",
      "\n",
      "This will allow us to see correlations in events all at once.\n",
      "\n",
      "Steps:\n",
      "       1. Load the data and do a join on: (Users.Campaign_ID,Event.Type,Users.id,Event.User_Id\n",
      "       2. If you have more than these columns in your dataframe subset them to this list of columns\n",
      "       3. Run an ordinal transform on each column. This is done via a 1 of k encoding mentioned earlier. \n",
      "       (Look in to the dict.get function alongside df[columnname].apply()\n",
      "       4. Now iterate over every possible combination of columns and plot a scatter plot of each.\n",
      "       Render these on the screen all at once.\n",
      "          Look in to plt.subplot for this. The end goal here is to transform the string values in \n",
      "          each column in the data frame to a numerical representation.\n",
      "\n",
      "\n"
     ]
    },
    {
     "cell_type": "markdown",
     "metadata": {},
     "source": [
      "Load the data and do a join on: Users.Campaign_ID,Event.Type,Users.id,Event.User_Id\n",
      "--------------------------------------------------------------------------------------------\n"
     ]
    },
    {
     "cell_type": "code",
     "collapsed": false,
     "input": [],
     "language": "python",
     "metadata": {},
     "outputs": []
    },
    {
     "cell_type": "markdown",
     "metadata": {},
     "source": [
      "If you have more than these columns in your dataframe subset them to this list of columns\n",
      "------------------------------------------------------------------------------------------------"
     ]
    },
    {
     "cell_type": "code",
     "collapsed": false,
     "input": [],
     "language": "python",
     "metadata": {},
     "outputs": []
    },
    {
     "cell_type": "markdown",
     "metadata": {},
     "source": [
      "Run an ordinal transform on each column. This is done via a 1 of k encoding mentioned earlier.\n",
      "---------------------------------------------------------------------------------------------------\n",
      "\n",
      " Look in to the two below functions:\n",
      " -------------------------------------------------------------------------------------------\n",
      "           \n",
      "                      dict.get\n",
      "                      df[columnname].apply()\n"
     ]
    },
    {
     "cell_type": "code",
     "collapsed": false,
     "input": [],
     "language": "python",
     "metadata": {},
     "outputs": []
    },
    {
     "cell_type": "markdown",
     "metadata": {},
     "source": [
      "Now iterate over every possible combination of columns and plot a scatter plot of each.\n",
      "---------------------------------------------------------------------------------------------------\n",
      "Render these on the screen all at once.\n",
      "-------------------------------------------------------------------------------------------------\n",
      "\n",
      "Look in to \n",
      "--------------\n",
      "\n",
      "           plt.subplot \n",
      "\n",
      "for this. The end goal here is to transform the string values in \n",
      "------------------------------------------------------------------------------------------\n",
      "each column in the data frame to a numerical representation.\n",
      "---------------------------------------------------------------------------------------------\n"
     ]
    },
    {
     "cell_type": "code",
     "collapsed": false,
     "input": [
      "def vectorize(df,label_column):\n",
      "    \"\"\"\n",
      "    Vectorize input features wrt a label column.\n",
      "    \"\"\"\n",
      "    feature_names = []\n",
      "    for feature_name in df.columns.values:\n",
      "        if feature_name != label_column:\n",
      "            if label_column not in feature_names:\n",
      "                feature_names.append(label_column)\n",
      "    inputs = df[feature_names].index\n",
      "    return inputs"
     ],
     "language": "python",
     "metadata": {},
     "outputs": [],
     "prompt_number": 31
    },
    {
     "cell_type": "markdown",
     "metadata": {},
     "source": [
      "Machine Learning Data input prep\n",
      "===========================================\n",
      "\n",
      "For Machine Learning Algorithms, they can only accept numbers. Our specific task here will be to predict a label.\n",
      "\n",
      "\n",
      "Exercise:\n",
      "\n",
      "Let's build out a data frame such that we have an outcome label. Set the outcome label to be event type.\n",
      "\n",
      "From here, binarize the event type outcome to be == bought or not.\n",
      "\n",
      "[Solution](https://gist.github.com/agibsonccc/9c54fbdc8d6f9b3f53fb)\n",
      "---------------------------------------------------------------------------\n",
      "\n",
      "\n"
     ]
    },
    {
     "cell_type": "markdown",
     "metadata": {},
     "source": [
      "Thinking about this we need to break up the dataset, this is simply isolating the target column and putting it in\n",
      "-------------------------------------------------------------------------------------------------------------------\n",
      "to its own data frame and dropping the column from the intended input set.\n",
      "-------------------------------------------------------------------------------------------------------------------"
     ]
    },
    {
     "cell_type": "markdown",
     "metadata": {},
     "source": [
      "Data Normalization\n",
      "=====================================================\n",
      "\n",
      "Machine Learning algorithms typically work better if you scale the data (squish the data in to 0,1 range)\n",
      "\n",
      "Exercise:\n",
      "\n",
      "\n",
      "Query for Users.Campaign_ID,Meal.Type,Event.Type and load it in to a dataframe\n",
      "\n",
      "Transform the data in to numerical (ordinal etc, think about what we did before)\n",
      "\n",
      "Split out the feature set columns from the outcome label and normalize the given features.\n",
      "\n",
      "Resources:\n",
      "----------------------\n",
      "\n",
      "[Scikit learn preprocessing](http://scikit-learn.org/stable/modules/preprocessing.html)\n",
      "\n",
      "[Solution](https://gist.github.com/agibsonccc/ec5062e81a4817cf35d4)\n",
      "---------------------------------------------------------------------------\n",
      "\n"
     ]
    },
    {
     "cell_type": "markdown",
     "metadata": {},
     "source": [
      "\n",
      "\n",
      "\n",
      "   Split out the feature set columns from the outcome label and normalize the giv\n"
     ]
    },
    {
     "cell_type": "markdown",
     "metadata": {},
     "source": [
      "  Query for Users.Campaign_ID,Meal.Type,Event.Type and load it in to a dataframe\n",
      "  -------------------------------------------------------------------------------------\n"
     ]
    },
    {
     "cell_type": "code",
     "collapsed": false,
     "input": [],
     "language": "python",
     "metadata": {},
     "outputs": []
    },
    {
     "cell_type": "markdown",
     "metadata": {},
     "source": [
      "Transform the data in to numerical (ordinal etc, think about what we did before)\n",
      "--------------------------------------------------------------------------------------------- "
     ]
    },
    {
     "cell_type": "code",
     "collapsed": false,
     "input": [],
     "language": "python",
     "metadata": {},
     "outputs": []
    }
   ],
   "metadata": {}
  }
 ]
}