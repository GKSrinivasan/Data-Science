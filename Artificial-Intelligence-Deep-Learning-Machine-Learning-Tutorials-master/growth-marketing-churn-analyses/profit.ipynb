{
 "metadata": {
  "name": "",
  "signature": "sha256:f87a49afb0cbe955a5333a789ccc2a6830fa57554c1b7b2cfd8354e0b7b4389e"
 },
 "nbformat": 3,
 "nbformat_minor": 0,
 "worksheets": [
  {
   "cells": [
    {
     "cell_type": "code",
     "collapsed": true,
     "input": [
      "from __future__ import division\n",
      "import matplotlib.pyplot as plt\n",
      "from sqlalchemy import *\n",
      "import numpy as np\n",
      "from sklearn.linear_model import LogisticRegression as LR\n",
      "from sklearn.ensemble import RandomForestClassifier as RF\n",
      "from sklearn.ensemble import GradientBoostingClassifier as GBC\n",
      "from sklearn.svm import SVC\n",
      "from sqlalchemy.orm import sessionmaker\n",
      "from sqlalchemy import func\n",
      "from sklearn.metrics import confusion_matrix\n",
      "from sklearn.cross_validation import train_test_split\n",
      "from churndata import *\n",
      "from sklearn.preprocessing import StandardScaler\n",
      "from pandas import DataFrame,Series\n",
      "from pandas.core.groupby import GroupBy\n",
      "import pandas as pd\n",
      "from util import query_to_df\n",
      "from util import *\n",
      "import matplotlib.pyplot as plt\n",
      "%matplotlib inline"
     ],
     "language": "python",
     "metadata": {},
     "outputs": [],
     "prompt_number": 6
    },
    {
     "cell_type": "markdown",
     "metadata": {},
     "source": [
      "Overview\n",
      "=========================\n",
      "\n",
      "\n",
      "In summary, this is boilerplate to run classifiers and generate profit curves. Below calculates the profit curves, sets up the classifiers, and renders the curve. "
     ]
    },
    {
     "cell_type": "code",
     "collapsed": true,
     "input": [
      "def confusion_rates(cm): \n",
      "\n",
      "    tn = cm[0][0]\n",
      "    fp = cm[0][1] \n",
      "    fn = cm[1][0]\n",
      "    tp = cm[1][1]\n",
      "    \n",
      "    N = fp + tn\n",
      "    P = tp + fn\n",
      "    \n",
      "    tpr = tp / P\n",
      "    fpr = fp / P\n",
      "    fnr = fn / N\n",
      "    tnr = tn / N\n",
      "    \n",
      "    rates = np.array([[tpr, fpr], [fnr, tnr]])\n",
      "    \n",
      "    return rates\n",
      "\n",
      "\n",
      "def profit_curve(classifiers):\n",
      "    for clf_class in classifiers:\n",
      "        name, clf_class = clf_class[0], clf_class[1]\n",
      "        clf = clf_class()\n",
      "        fit = clf.fit(X[train_index], y[train_index])\n",
      "        probabilities = np.array([prob[0] for prob in fit.predict_proba(X[test_index])])\n",
      "        profit = []\n",
      "        \n",
      "        indicies = np.argsort(probabilities)[::1]\n",
      "    \n",
      "        for idx in xrange(len(indicies)): \n",
      "            pred_true = indicies[:idx]\n",
      "            ctr = np.arange(indicies.shape[0])\n",
      "            masked_prediction = np.in1d(ctr, pred_true)\n",
      "            cm = confusion_matrix(y_test.astype(int), masked_prediction.astype(int))\n",
      "            rates = confusion_rates(cm)\n",
      "     \n",
      "            profit.append(np.sum(np.multiply(rates,cb)))\n",
      "        \n",
      "        plt.plot((np.arange(len(indicies)) / len(indicies) * 100), profit, label=name)\n",
      "    plt.legend(loc=\"lower right\")\n",
      "    plt.title(\"Profits of classifiers\")\n",
      "    plt.xlabel(\"Percentage of test instances (decreasing by score)\")\n",
      "    plt.ylabel(\"Profit\")\n",
      "    plt.ylim(20)\n",
      "    plt.show()\n",
      "\n",
      "\n",
      "\n"
     ],
     "language": "python",
     "metadata": {},
     "outputs": [],
     "prompt_number": 8
    },
    {
     "cell_type": "markdown",
     "metadata": {},
     "source": [
      "Parameter Initialization and Running Profit Curves\n",
      "=======================================================\n",
      "\n",
      "Below is the feature loading for the profit curves.\n",
      "\n",
      "3 models will be compared, Logistic Regression, Random Forest, and Gradient Boosting.\n",
      " \n",
      " The goal here is to leverage the probability outcome of classifiers to \n",
      " predict the profits and to find which classifier to leverage for churn prediction."
     ]
    },
    {
     "cell_type": "code",
     "collapsed": false,
     "input": [
      "\n",
      "\n",
      "churn_df = pd.read_csv('data/churn.csv')\n",
      "churn_result = churn_df['Churn?']\n",
      "y = np.where(churn_result == 'True.',1,0)\n",
      "to_drop = ['State','Area Code','Phone','Churn?']\n",
      "#to_drop = ['has_event_mo_6']\n",
      "churn_feat_space = churn_df.drop(to_drop,axis=1)\n",
      "yes_no_cols = [\"Int'l Plan\",\"VMail Plan\"]\n",
      "churn_feat_space[yes_no_cols] = churn_feat_space[yes_no_cols] == 'yes'\n",
      "features = churn_feat_space.columns\n",
      "#X = churn_feat_space.fillna(0).as_matrix().astype(np.float)\n",
      "X = churn_feat_space.as_matrix().astype(np.float)\n",
      "\n",
      "print \"Scaling features\"\n",
      "# This is important\n",
      "scaler = StandardScaler()\n",
      "X = scaler.fit_transform(X)\n",
      "\n",
      "train_index,test_index = train_test_split(churn_df.index)\n",
      "\n",
      "\n",
      "y_test = y[test_index].astype(float)\n",
      "\n",
      "# Cost-Benefit Matrix\n",
      "cb = np.array([[4, -5],\n",
      "               [0, 0]])\n",
      "\n",
      "# Define classifiers for comparison\n",
      "classifiers = [(\"Random Forest\", RF),\n",
      "               (\"Logistic Regression\", LR),\n",
      "               (\"Gradient Boosting Classifier\", GBC)]\n",
      "               \n",
      "# Plot profit curves\n",
      "profit_curve(classifiers)"
     ],
     "language": "python",
     "metadata": {},
     "outputs": [
      {
       "output_type": "stream",
       "stream": "stdout",
       "text": [
        "Scaling features\n"
       ]
      },
      {
       "metadata": {},
       "output_type": "display_data",
       "png": "[encoded data removed]",
       "text": [
        "<matplotlib.figure.Figure at 0x1815850>"
       ]
      }
     ],
     "prompt_number": 7
    },
    {
     "cell_type": "code",
     "collapsed": false,
     "input": [],
     "language": "python",
     "metadata": {},
     "outputs": [],
     "prompt_number": 4
    },
    {
     "cell_type": "code",
     "collapsed": false,
     "input": [],
     "language": "python",
     "metadata": {},
     "outputs": []
    }
   ],
   "metadata": {}
  }
 ]
}