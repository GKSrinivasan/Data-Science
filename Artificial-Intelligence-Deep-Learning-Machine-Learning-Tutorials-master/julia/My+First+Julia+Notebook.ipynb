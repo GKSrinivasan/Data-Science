{
 "cells": [
  {
   "cell_type": "markdown",
   "metadata": {},
   "source": [
    "```\n",
    "             _\n",
    "   _       _ _(_)_     |  A fresh approach to technical computing\n",
    "  (_)     | (_) (_)    |  Documentation: https://docs.julialang.org\n",
    "   _ _   _| |_  __ _   |  Type \"?help\" for help.\n",
    "  | | | | | | |/ _` |  |\n",
    "  | | |_| | | | (_| |  |  Version 0.6.1 (2017-10-24 22:15 UTC)\n",
    " _/ |\\__'_|_|_|\\__'_|  |  Official http://julialang.org/ release\n",
    "|__/                   |  x86_64-pc-linux-gnu\n",
    "\n",
    "julia> Pkg.add(\"IJulia\")\n",
    "INFO: Initializing package repository /.julia/v0.6\n",
    "INFO: Cloning METADATA from https://github.com/JuliaLang/METADATA.jl\n",
    "INFO: Cloning cache of BinDeps from https://github.com/JuliaLang/BinDeps.jl.git\n",
    "INFO: Cloning cache of Compat from https://github.com/JuliaLang/Compat.jl.git\n",
    "INFO: Cloning cache of Conda from https://github.com/JuliaPy/Conda.jl.git\n",
    "INFO: Cloning cache of IJulia from https://github.com/JuliaLang/IJulia.jl.git\n",
    "INFO: Cloning cache of JSON from https://github.com/JuliaIO/JSON.jl.git\n",
    "INFO: Cloning cache of MbedTLS from https://github.com/JuliaWeb/MbedTLS.jl.git\n",
    "INFO: Cloning cache of SHA from https://github.com/staticfloat/SHA.jl.git\n",
    "INFO: Cloning cache of URIParser from https://github.com/JuliaWeb/URIParser.jl.git\n",
    "INFO: Cloning cache of ZMQ from https://github.com/JuliaInterop/ZMQ.jl.git\n",
    "INFO: Installing BinDeps v0.6.0\n",
    "INFO: Installing Compat v0.34.0\n",
    "INFO: Installing Conda v0.7.0\n",
    "INFO: Installing IJulia v1.6.2\n",
    "INFO: Installing JSON v0.15.1\n",
    "INFO: Installing MbedTLS v0.5.1\n",
    "INFO: Installing SHA v0.5.1\n",
    "INFO: Installing URIParser v0.2.0\n",
    "INFO: Installing ZMQ v0.5.1\n",
    "INFO: Building Conda\n",
    "INFO: Building MbedTLS\n",
    "Using system libraries...\n",
    "INFO: Building ZMQ\n",
    "WARNING: Compat.ASCIIString is deprecated, use String instead.\n",
    "  likely near /.julia/v0.6/ZMQ/deps/build.jl:36\n",
    "INFO: Building IJulia\n",
    "INFO: Found Jupyter version 4.3.0: jupyter\n",
    "INFO: Installing Julia kernelspec julia-0.6\n",
    "[InstallKernelSpec] Installed kernelspec julia-0.6 in /.local/share/jupyter/kernels/julia-0.6\n",
    "INFO: Package database updated\n",
    "\n",
    "julia> using IJulia\n",
    "INFO: Precompiling module IJulia.\n",
    "\n",
    "julia> notebook()\n",
    "\n",
    "```\n",
    "\n",
    "**Then fire it up from you Jupyter Notebook**"
   ]
  },
  {
   "cell_type": "markdown",
   "metadata": {},
   "source": [
    "## Simple Tests"
   ]
  },
  {
   "cell_type": "code",
   "execution_count": 20,
   "metadata": {},
   "outputs": [
    {
     "data": {
      "text/plain": [
       "25"
      ]
     },
     "execution_count": 20,
     "metadata": {},
     "output_type": "execute_result"
    }
   ],
   "source": [
    "10+15"
   ]
  },
  {
   "cell_type": "code",
   "execution_count": 21,
   "metadata": {},
   "outputs": [
    {
     "data": {
      "text/plain": [
       "1120"
      ]
     },
     "execution_count": 21,
     "metadata": {},
     "output_type": "execute_result"
    }
   ],
   "source": [
    "80*14"
   ]
  },
  {
   "cell_type": "code",
   "execution_count": 22,
   "metadata": {},
   "outputs": [
    {
     "data": {
      "text/plain": [
       "184528125"
      ]
     },
     "execution_count": 22,
     "metadata": {},
     "output_type": "execute_result"
    }
   ],
   "source": [
    "45^5"
   ]
  },
  {
   "cell_type": "code",
   "execution_count": 23,
   "metadata": {},
   "outputs": [
    {
     "data": {
      "text/plain": [
       "3-element Array{Array{Float64,1},1}:\n",
       " [1.0, 2.0, 3.0]\n",
       " [1.0, 2.0]     \n",
       " [3.0, 4.0, 5.0]"
      ]
     },
     "execution_count": 23,
     "metadata": {},
     "output_type": "execute_result"
    }
   ],
   "source": [
    "a = Vector{Vector{Float64}}(3)\n",
    "a[1] = [1;2;3]\n",
    "a[2] = [1;2]\n",
    "a[3] = [3;4;5]\n",
    "a"
   ]
  },
  {
   "cell_type": "code",
   "execution_count": 24,
   "metadata": {},
   "outputs": [
    {
     "data": {
      "text/plain": [
       "3-element Array{Array{Float64,1},1}:\n",
       " [1.0, 4.0, 5.0]\n",
       " [1.0, 2.0]     \n",
       " [3.0, 4.0, 5.0]"
      ]
     },
     "execution_count": 24,
     "metadata": {},
     "output_type": "execute_result"
    }
   ],
   "source": [
    "b = a\n",
    "b[1] = [1;4;5]\n",
    "a"
   ]
  },
  {
   "cell_type": "markdown",
   "metadata": {},
   "source": [
    "## Control Flow "
   ]
  },
  {
   "cell_type": "code",
   "execution_count": 25,
   "metadata": {},
   "outputs": [
    {
     "name": "stdout",
     "output_type": "stream",
     "text": [
      "1\n",
      "2\n",
      "3\n",
      "4\n",
      "5\n",
      "0\n",
      "1\n",
      "2\n",
      "3\n",
      "4\n",
      "Groningen"
     ]
    }
   ],
   "source": [
    "for i=1:5\n",
    "    println(i)\n",
    "end\n",
    "\n",
    "t = 0\n",
    "while t < 5\n",
    "    println(t)\n",
    "    t += 1\n",
    "end\n",
    "\n",
    "school=:GRN\n",
    "\n",
    "if school==:GRN\n",
    "    print(\"Groningen\")\n",
    "else\n",
    "    print(\"If not Groningen, go home coz the brainiest folks come from Groningen!\")\n",
    "end"
   ]
  },
  {
   "cell_type": "code",
   "execution_count": 26,
   "metadata": {},
   "outputs": [
    {
     "name": "stdout",
     "output_type": "stream",
     "text": [
      "2\n",
      "3\n",
      "4\n",
      "4\n",
      "6\n",
      "8\n"
     ]
    }
   ],
   "source": [
    "for i=1:2,j=2:4\n",
    "    println(i*j)\n",
    "end"
   ]
  },
  {
   "cell_type": "markdown",
   "metadata": {},
   "source": [
    "### Simple Function Syntax "
   ]
  },
  {
   "cell_type": "code",
   "execution_count": 27,
   "metadata": {},
   "outputs": [
    {
     "data": {
      "text/plain": [
       "f (generic function with 1 method)"
      ]
     },
     "execution_count": 27,
     "metadata": {},
     "output_type": "execute_result"
    }
   ],
   "source": [
    "f(x,y) = 2x+y"
   ]
  },
  {
   "cell_type": "code",
   "execution_count": 28,
   "metadata": {},
   "outputs": [
    {
     "data": {
      "text/plain": [
       "4"
      ]
     },
     "execution_count": 28,
     "metadata": {},
     "output_type": "execute_result"
    }
   ],
   "source": [
    "f(1,2)"
   ]
  },
  {
   "cell_type": "code",
   "execution_count": 29,
   "metadata": {},
   "outputs": [
    {
     "name": "stdout",
     "output_type": "stream",
     "text": [
      "  0.001409 seconds (292 allocations: 18.649 KiB)\n",
      "  0.000001 seconds (4 allocations: 160 bytes)\n",
      "  0.000001 seconds (3 allocations: 144 bytes)\n",
      "  0.002049 seconds (831 allocations: 49.039 KiB)\n",
      "  0.000001 seconds (4 allocations: 160 bytes)\n"
     ]
    },
    {
     "data": {
      "text/plain": [
       "4.0"
      ]
     },
     "execution_count": 29,
     "metadata": {},
     "output_type": "execute_result"
    }
   ],
   "source": [
    "# More fun stuff\n",
    "f(x,y,z,w) = x+y+z+w\n",
    "@time f(1,1,1,1)\n",
    "@time f(1,1,1,1)\n",
    "@time f(1,1,1,1)\n",
    "@time f(1,1,1,1.0)\n",
    "@time f(1,1,1,1.0)"
   ]
  },
  {
   "cell_type": "markdown",
   "metadata": {},
   "source": [
    "### Vector operations \n",
    "\n",
    "**Note** : Unlike Python, here indexing starts with 1 :)"
   ]
  },
  {
   "cell_type": "code",
   "execution_count": 30,
   "metadata": {},
   "outputs": [
    {
     "data": {
      "text/plain": [
       "1×3 Array{Int64,2}:\n",
       " 3  5  7"
      ]
     },
     "execution_count": 30,
     "metadata": {},
     "output_type": "execute_result"
    }
   ],
   "source": [
    "A = [3 5 7] # create a row vector"
   ]
  },
  {
   "cell_type": "code",
   "execution_count": 31,
   "metadata": {},
   "outputs": [
    {
     "data": {
      "text/plain": [
       "3"
      ]
     },
     "execution_count": 31,
     "metadata": {},
     "output_type": "execute_result"
    }
   ],
   "source": [
    "A[1] # Getting first element, like Python and R"
   ]
  },
  {
   "cell_type": "code",
   "execution_count": 32,
   "metadata": {},
   "outputs": [
    {
     "data": {
      "text/plain": [
       "3-element Array{Int64,1}:\n",
       " 3\n",
       " 5\n",
       " 7"
      ]
     },
     "execution_count": 32,
     "metadata": {},
     "output_type": "execute_result"
    }
   ],
   "source": [
    "A = [3;5;7] # with semi-colons you create a column vector"
   ]
  },
  {
   "cell_type": "code",
   "execution_count": 33,
   "metadata": {},
   "outputs": [
    {
     "data": {
      "text/plain": [
       "35"
      ]
     },
     "execution_count": 33,
     "metadata": {},
     "output_type": "execute_result"
    }
   ],
   "source": [
    "# Change elements\n",
    "A[1] = 35"
   ]
  },
  {
   "cell_type": "code",
   "execution_count": 34,
   "metadata": {},
   "outputs": [
    {
     "data": {
      "text/plain": [
       "3-element Array{Int64,1}:\n",
       " 35\n",
       "  5\n",
       "  7"
      ]
     },
     "execution_count": 34,
     "metadata": {},
     "output_type": "execute_result"
    }
   ],
   "source": [
    "A"
   ]
  },
  {
   "cell_type": "markdown",
   "metadata": {},
   "source": [
    "### Matrix stuff "
   ]
  },
  {
   "cell_type": "code",
   "execution_count": 35,
   "metadata": {},
   "outputs": [
    {
     "data": {
      "text/plain": [
       "3×3 Array{Int64,2}:\n",
       "  1   5   7\n",
       "  9  11  13\n",
       " 15  17  19"
      ]
     },
     "execution_count": 35,
     "metadata": {},
     "output_type": "execute_result"
    }
   ],
   "source": [
    "M = [1 5 7;9 11 13;15 17 19] # We use semi-colons to change rows, space is used to seperate cols"
   ]
  },
  {
   "cell_type": "code",
   "execution_count": 36,
   "metadata": {},
   "outputs": [
    {
     "data": {
      "text/plain": [
       "3×3 Array{Int64,2}:\n",
       "  1  6767   7\n",
       "  9    11  13\n",
       " 15    17  19"
      ]
     },
     "execution_count": 36,
     "metadata": {},
     "output_type": "execute_result"
    }
   ],
   "source": [
    "M[1,2] = 6767 # change element in first row, second column\n",
    "M"
   ]
  },
  {
   "cell_type": "code",
   "execution_count": 37,
   "metadata": {},
   "outputs": [
    {
     "data": {
      "text/plain": [
       "3×3 Array{Int64,2}:\n",
       "    1   9  15\n",
       " 6767  11  17\n",
       "    7  13  19"
      ]
     },
     "execution_count": 37,
     "metadata": {},
     "output_type": "execute_result"
    }
   ],
   "source": [
    "M' # simple way to transpose values using a single quote"
   ]
  },
  {
   "cell_type": "code",
   "execution_count": 38,
   "metadata": {},
   "outputs": [
    {
     "data": {
      "text/plain": [
       "3×3 Array{Float64,2}:\n",
       " -7.39317e-5   -0.791402      0.541513   \n",
       "  0.000147863  -0.000529844   0.000308049\n",
       " -7.39317e-5    0.625265     -0.375154   "
      ]
     },
     "execution_count": 38,
     "metadata": {},
     "output_type": "execute_result"
    }
   ],
   "source": [
    "inv(M) # Inversing the matrix"
   ]
  },
  {
   "cell_type": "markdown",
   "metadata": {},
   "source": [
    "### Dictoinaries "
   ]
  },
  {
   "cell_type": "code",
   "execution_count": 39,
   "metadata": {},
   "outputs": [
    {
     "data": {
      "text/plain": [
       "Dict{String,String} with 2 entries:\n",
       "  \"Class\" => \"Julia Computing\"\n",
       "  \"name\"  => \"Tarry's Tuts\""
      ]
     },
     "execution_count": 39,
     "metadata": {},
     "output_type": "execute_result"
    }
   ],
   "source": [
    "D = Dict(\"name\" => \"Tarry's Tuts\", \"Class\" => \"Julia Computing\")"
   ]
  },
  {
   "cell_type": "code",
   "execution_count": 40,
   "metadata": {},
   "outputs": [
    {
     "data": {
      "text/plain": [
       "\"Tarry's Tuts\""
      ]
     },
     "execution_count": 40,
     "metadata": {},
     "output_type": "execute_result"
    }
   ],
   "source": [
    "D[\"name\"]"
   ]
  },
  {
   "cell_type": "code",
   "execution_count": 41,
   "metadata": {},
   "outputs": [
    {
     "data": {
      "text/plain": [
       "2"
      ]
     },
     "execution_count": 41,
     "metadata": {},
     "output_type": "execute_result"
    }
   ],
   "source": [
    "D.count"
   ]
  },
  {
   "cell_type": "markdown",
   "metadata": {},
   "source": [
    "### Strings "
   ]
  },
  {
   "cell_type": "code",
   "execution_count": 42,
   "metadata": {},
   "outputs": [
    {
     "name": "stdout",
     "output_type": "stream",
     "text": [
      "H\n",
      "24\n"
     ]
    }
   ],
   "source": [
    "txt = \"Hi there, I am a string!\"\n",
    "println(txt[1])\n",
    "println(txt.len)"
   ]
  },
  {
   "cell_type": "code",
   "execution_count": 43,
   "metadata": {},
   "outputs": [
    {
     "ename": "LoadError",
     "evalue": "\u001b[91mMethodError: no method matching setindex!(::String, ::String, ::Int64)\u001b[39m",
     "output_type": "error",
     "traceback": [
      "\u001b[91mMethodError: no method matching setindex!(::String, ::String, ::Int64)\u001b[39m",
      "",
      "Stacktrace:",
      " [1] \u001b[1minclude_string\u001b[22m\u001b[22m\u001b[1m(\u001b[22m\u001b[22m::String, ::String\u001b[1m)\u001b[22m\u001b[22m at \u001b[1m./loading.jl:522\u001b[22m\u001b[22m"
     ]
    }
   ],
   "source": [
    "txt[1] = \"Oh\" # We can't change them, once created!"
   ]
  },
  {
   "cell_type": "markdown",
   "metadata": {},
   "source": [
    "##  It's fun, right?\n",
    "\n",
    "### Let's try more fun stuff like Strang Matrix Problem"
   ]
  },
  {
   "cell_type": "code",
   "execution_count": 44,
   "metadata": {
    "collapsed": true
   },
   "outputs": [],
   "source": [
    "N = 15\n",
    "A = zeros(N, N)\n",
    "\n",
    "for i in 1:N, j in 1:N\n",
    "    abs(i-j) <= 1 && (A[i, j] += 1)\n",
    "    i == j && (A[i, j] -= 3)\n",
    "end"
   ]
  },
  {
   "cell_type": "code",
   "execution_count": 45,
   "metadata": {},
   "outputs": [
    {
     "data": {
      "text/plain": [
       "15×15 Array{Float64,2}:\n",
       " -2.0   1.0   0.0   0.0   0.0   0.0  …   0.0   0.0   0.0   0.0   0.0   0.0\n",
       "  1.0  -2.0   1.0   0.0   0.0   0.0      0.0   0.0   0.0   0.0   0.0   0.0\n",
       "  0.0   1.0  -2.0   1.0   0.0   0.0      0.0   0.0   0.0   0.0   0.0   0.0\n",
       "  0.0   0.0   1.0  -2.0   1.0   0.0      0.0   0.0   0.0   0.0   0.0   0.0\n",
       "  0.0   0.0   0.0   1.0  -2.0   1.0      0.0   0.0   0.0   0.0   0.0   0.0\n",
       "  0.0   0.0   0.0   0.0   1.0  -2.0  …   0.0   0.0   0.0   0.0   0.0   0.0\n",
       "  0.0   0.0   0.0   0.0   0.0   1.0      0.0   0.0   0.0   0.0   0.0   0.0\n",
       "  0.0   0.0   0.0   0.0   0.0   0.0      0.0   0.0   0.0   0.0   0.0   0.0\n",
       "  0.0   0.0   0.0   0.0   0.0   0.0      1.0   0.0   0.0   0.0   0.0   0.0\n",
       "  0.0   0.0   0.0   0.0   0.0   0.0     -2.0   1.0   0.0   0.0   0.0   0.0\n",
       "  0.0   0.0   0.0   0.0   0.0   0.0  …   1.0  -2.0   1.0   0.0   0.0   0.0\n",
       "  0.0   0.0   0.0   0.0   0.0   0.0      0.0   1.0  -2.0   1.0   0.0   0.0\n",
       "  0.0   0.0   0.0   0.0   0.0   0.0      0.0   0.0   1.0  -2.0   1.0   0.0\n",
       "  0.0   0.0   0.0   0.0   0.0   0.0      0.0   0.0   0.0   1.0  -2.0   1.0\n",
       "  0.0   0.0   0.0   0.0   0.0   0.0      0.0   0.0   0.0   0.0   1.0  -2.0"
      ]
     },
     "execution_count": 45,
     "metadata": {},
     "output_type": "execute_result"
    }
   ],
   "source": [
    "A"
   ]
  },
  {
   "cell_type": "code",
   "execution_count": 46,
   "metadata": {},
   "outputs": [
    {
     "data": {
      "text/plain": [
       "fxn_factorial (generic function with 1 method)"
      ]
     },
     "execution_count": 46,
     "metadata": {},
     "output_type": "execute_result"
    }
   ],
   "source": [
    "# Factorial problem\n",
    "\n",
    "function fxn_factorial(n)\n",
    "    k = one(n)\n",
    "    for i in 1:n\n",
    "        k *= i\n",
    "    end\n",
    "    k\n",
    "end"
   ]
  },
  {
   "cell_type": "code",
   "execution_count": 47,
   "metadata": {},
   "outputs": [
    {
     "data": {
      "text/plain": [
       "120"
      ]
     },
     "execution_count": 47,
     "metadata": {},
     "output_type": "execute_result"
    }
   ],
   "source": [
    "fxn_factorial(5)"
   ]
  },
  {
   "cell_type": "code",
   "execution_count": 48,
   "metadata": {},
   "outputs": [
    {
     "data": {
      "text/plain": [
       "265252859812191058636308480000000"
      ]
     },
     "execution_count": 48,
     "metadata": {},
     "output_type": "execute_result"
    }
   ],
   "source": [
    "fxn_factorial(big(30))"
   ]
  },
  {
   "cell_type": "code",
   "execution_count": 49,
   "metadata": {},
   "outputs": [
    {
     "data": {
      "text/plain": [
       "fxn_binomial (generic function with 1 method)"
      ]
     },
     "execution_count": 49,
     "metadata": {},
     "output_type": "execute_result"
    }
   ],
   "source": [
    "# Binomial Problem\n",
    "\n",
    "function fxn_binomial(n, p)\n",
    "    count = zero(n)\n",
    "    U = rand(n)\n",
    "    \n",
    "    for i in 1:n\n",
    "        U[i] < p && (count += 1)\n",
    "    end\n",
    "    count\n",
    "end"
   ]
  },
  {
   "cell_type": "code",
   "execution_count": 50,
   "metadata": {},
   "outputs": [
    {
     "data": {
      "text/plain": [
       "7"
      ]
     },
     "execution_count": 50,
     "metadata": {},
     "output_type": "execute_result"
    }
   ],
   "source": [
    "fxn_binomial(10, 0.5)"
   ]
  },
  {
   "cell_type": "code",
   "execution_count": 51,
   "metadata": {},
   "outputs": [
    {
     "data": {
      "text/plain": [
       "10-element Array{Int64,1}:\n",
       " 6\n",
       " 5\n",
       " 4\n",
       " 3\n",
       " 6\n",
       " 4\n",
       " 7\n",
       " 5\n",
       " 4\n",
       " 6"
      ]
     },
     "execution_count": 51,
     "metadata": {},
     "output_type": "execute_result"
    }
   ],
   "source": [
    "my_bin = [fxn_binomial(10, 0.5) for j in 1:10]"
   ]
  },
  {
   "cell_type": "markdown",
   "metadata": {},
   "source": [
    "### Monte Carlo pi Problem "
   ]
  },
  {
   "cell_type": "code",
   "execution_count": 52,
   "metadata": {},
   "outputs": [
    {
     "name": "stdout",
     "output_type": "stream",
     "text": [
      "3.1417512"
     ]
    },
    {
     "name": "stderr",
     "output_type": "stream",
     "text": [
      "WARNING: imported binding for count overwritten in module Main\n"
     ]
    }
   ],
   "source": [
    "n = 10000000 # Trying higher value will throw your laptop into overdrive :)\n",
    "\n",
    "count = 0\n",
    "for i in 1:n\n",
    "    u,v = 2rand(2) - 1\n",
    "    d = sqrt(u^2 + v^2) # distance from the middle of the square\n",
    "    d < 1 && (count += 1)\n",
    "end\n",
    "\n",
    "area_est = count / n\n",
    "\n",
    "print(area_est * 4)"
   ]
  },
  {
   "cell_type": "markdown",
   "metadata": {},
   "source": [
    "### Timeseries Generation "
   ]
  },
  {
   "cell_type": "code",
   "execution_count": 3,
   "metadata": {
    "scrolled": true
   },
   "outputs": [
    {
     "name": "stderr",
     "output_type": "stream",
     "text": [
      "\u001b[1m\u001b[36mINFO: \u001b[39m\u001b[22m\u001b[36mCloning cache of ColorTypes from https://github.com/JuliaGraphics/ColorTypes.jl.git\n",
      "\u001b[39m\u001b[1m\u001b[36mINFO: \u001b[39m\u001b[22m\u001b[36mCloning cache of Colors from https://github.com/JuliaGraphics/Colors.jl.git\n",
      "\u001b[39m\u001b[1m\u001b[36mINFO: \u001b[39m\u001b[22m\u001b[36mCloning cache of Contour from https://github.com/JuliaGeometry/Contour.jl.git\n",
      "\u001b[39m\u001b[1m\u001b[36mINFO: \u001b[39m\u001b[22m\u001b[36mCloning cache of DataStructures from https://github.com/JuliaCollections/DataStructures.jl.git\n",
      "\u001b[39m\u001b[1m\u001b[36mINFO: \u001b[39m\u001b[22m\u001b[36mCloning cache of FixedPointNumbers from https://github.com/JuliaMath/FixedPointNumbers.jl.git\n",
      "\u001b[39m\u001b[1m\u001b[36mINFO: \u001b[39m\u001b[22m\u001b[36mCloning cache of Measures from https://github.com/JuliaGraphics/Measures.jl.git\n",
      "\u001b[39m\u001b[1m\u001b[36mINFO: \u001b[39m\u001b[22m\u001b[36mCloning cache of NaNMath from https://github.com/mlubin/NaNMath.jl.git\n",
      "\u001b[39m\u001b[1m\u001b[36mINFO: \u001b[39m\u001b[22m\u001b[36mCloning cache of PlotThemes from https://github.com/JuliaPlots/PlotThemes.jl.git\n",
      "\u001b[39m\u001b[1m\u001b[36mINFO: \u001b[39m\u001b[22m\u001b[36mCloning cache of PlotUtils from https://github.com/JuliaPlots/PlotUtils.jl.git\n",
      "\u001b[39m\u001b[1m\u001b[36mINFO: \u001b[39m\u001b[22m\u001b[36mCloning cache of Plots from https://github.com/JuliaPlots/Plots.jl.git\n",
      "\u001b[39m\u001b[1m\u001b[36mINFO: \u001b[39m\u001b[22m\u001b[36mCloning cache of RecipesBase from https://github.com/JuliaPlots/RecipesBase.jl.git\n",
      "\u001b[39m\u001b[1m\u001b[36mINFO: \u001b[39m\u001b[22m\u001b[36mCloning cache of Reexport from https://github.com/simonster/Reexport.jl.git\n",
      "\u001b[39m\u001b[1m\u001b[36mINFO: \u001b[39m\u001b[22m\u001b[36mCloning cache of Requires from https://github.com/MikeInnes/Requires.jl.git\n",
      "\u001b[39m\u001b[1m\u001b[36mINFO: \u001b[39m\u001b[22m\u001b[36mCloning cache of Showoff from https://github.com/JuliaGraphics/Showoff.jl.git\n",
      "\u001b[39m\u001b[1m\u001b[36mINFO: \u001b[39m\u001b[22m\u001b[36mCloning cache of SpecialFunctions from https://github.com/JuliaMath/SpecialFunctions.jl.git\n",
      "\u001b[39m\u001b[1m\u001b[36mINFO: \u001b[39m\u001b[22m\u001b[36mCloning cache of StaticArrays from https://github.com/JuliaArrays/StaticArrays.jl.git\n",
      "\u001b[39m\u001b[1m\u001b[36mINFO: \u001b[39m\u001b[22m\u001b[36mCloning cache of StatsBase from https://github.com/JuliaStats/StatsBase.jl.git\n",
      "\u001b[39m\u001b[1m\u001b[36mINFO: \u001b[39m\u001b[22m\u001b[36mInstalling ColorTypes v0.6.5\n",
      "\u001b[39m\u001b[1m\u001b[36mINFO: \u001b[39m\u001b[22m\u001b[36mInstalling Colors v0.8.2\n",
      "\u001b[39m\u001b[1m\u001b[36mINFO: \u001b[39m\u001b[22m\u001b[36mInstalling Contour v0.4.0\n",
      "\u001b[39m\u001b[1m\u001b[36mINFO: \u001b[39m\u001b[22m\u001b[36mInstalling DataStructures v0.7.2\n",
      "\u001b[39m\u001b[1m\u001b[36mINFO: \u001b[39m\u001b[22m\u001b[36mInstalling FixedPointNumbers v0.4.3\n",
      "\u001b[39m\u001b[1m\u001b[36mINFO: \u001b[39m\u001b[22m\u001b[36mInstalling Measures v0.1.0\n",
      "\u001b[39m\u001b[1m\u001b[36mINFO: \u001b[39m\u001b[22m\u001b[36mInstalling NaNMath v0.2.6\n",
      "\u001b[39m\u001b[1m\u001b[36mINFO: \u001b[39m\u001b[22m\u001b[36mInstalling PlotThemes v0.1.4\n",
      "\u001b[39m\u001b[1m\u001b[36mINFO: \u001b[39m\u001b[22m\u001b[36mInstalling PlotUtils v0.4.4\n",
      "\u001b[39m\u001b[1m\u001b[36mINFO: \u001b[39m\u001b[22m\u001b[36mInstalling Plots v0.13.1\n",
      "\u001b[39m\u001b[1m\u001b[36mINFO: \u001b[39m\u001b[22m\u001b[36mInstalling RecipesBase v0.2.3\n",
      "\u001b[39m\u001b[1m\u001b[36mINFO: \u001b[39m\u001b[22m\u001b[36mInstalling Reexport v0.0.3\n",
      "\u001b[39m\u001b[1m\u001b[36mINFO: \u001b[39m\u001b[22m\u001b[36mInstalling Requires v0.4.3\n",
      "\u001b[39m\u001b[1m\u001b[36mINFO: \u001b[39m\u001b[22m\u001b[36mInstalling Showoff v0.1.1\n",
      "\u001b[39m\u001b[1m\u001b[36mINFO: \u001b[39m\u001b[22m\u001b[36mInstalling SpecialFunctions v0.3.4\n",
      "\u001b[39m\u001b[1m\u001b[36mINFO: \u001b[39m\u001b[22m\u001b[36mInstalling StaticArrays v0.6.4\n",
      "\u001b[39m\u001b[1m\u001b[36mINFO: \u001b[39m\u001b[22m\u001b[36mInstalling StatsBase v0.19.0\n",
      "\u001b[39m\u001b[1m\u001b[36mINFO: \u001b[39m\u001b[22m\u001b[36mBuilding SpecialFunctions\n",
      "\u001b[39m\u001b[1m\u001b[36mINFO: \u001b[39m\u001b[22m\u001b[36mBuilding Plots\n",
      "\u001b[39m\u001b[1m\u001b[36mINFO: \u001b[39m\u001b[22m\u001b[36mCannot find deps/plotly-latest.min.js... downloading latest version.\n",
      "\u001b[39m  % Total    % Received % Xferd  Average Speed   Time    Time     Time  Current\n",
      "                                 Dload  Upload   Total   Spent    Left  Speed\n",
      "100 2287k  100 2287k    0     0   405k      0  0:00:05  0:00:05 --:--:--  988k\n",
      "\u001b[1m\u001b[36mINFO: \u001b[39m\u001b[22m\u001b[36mPackage database updated\n",
      "\u001b[39m\u001b[1m\u001b[36mINFO: \u001b[39m\u001b[22m\u001b[36mMETADATA is out-of-date — you may not have the latest version of Plots\n",
      "\u001b[39m\u001b[1m\u001b[36mINFO: \u001b[39m\u001b[22m\u001b[36mUse `Pkg.update()` to get the latest versions of your packages\n",
      "\u001b[39m"
     ]
    },
    {
     "ename": "LoadError",
     "evalue": "\u001b[91mMethodError: no method matching !(::Void)\u001b[0m\nClosest candidates are:\n  !(\u001b[91m::Base.##771#772\u001b[39m) at deprecated.jl:852\n  !(\u001b[91m::Bool\u001b[39m) at bool.jl:36\n  !(\u001b[91m::Function\u001b[39m) at operators.jl:904\n  ...\u001b[39m",
     "output_type": "error",
     "traceback": [
      "\u001b[91mMethodError: no method matching !(::Void)\u001b[0m\nClosest candidates are:\n  !(\u001b[91m::Base.##771#772\u001b[39m) at deprecated.jl:852\n  !(\u001b[91m::Bool\u001b[39m) at bool.jl:36\n  !(\u001b[91m::Function\u001b[39m) at operators.jl:904\n  ...\u001b[39m",
      "",
      "Stacktrace:",
      " [1] \u001b[1minclude_string\u001b[22m\u001b[22m\u001b[1m(\u001b[22m\u001b[22m::String, ::String\u001b[1m)\u001b[22m\u001b[22m at \u001b[1m./loading.jl:522\u001b[22m\u001b[22m"
     ]
    }
   ],
   "source": [
    "! Pkg.add(\"Plots\")"
   ]
  },
  {
   "cell_type": "code",
   "execution_count": 53,
   "metadata": {},
   "outputs": [
    {
     "data": {
      "text/html": [
       "<script src=\"/home/deeplearn/.julia/v0.6/Plots/src/backends/../../deps/plotly-latest.min.js\"></script>    <div id=\"61bbb99e-6d94-4699-a0b3-a27bbddff290\" style=\"width:600px;height:400px;\"></div>\n",
       "    <script>\n",
       "    PLOT = document.getElementById('61bbb99e-6d94-4699-a0b3-a27bbddff290');\n",
       "    Plotly.plot(PLOT, [{\"showlegend\":true,\"mode\":\"lines\",\"xaxis\":\"x\",\"colorbar\":{\"title\":\"\"},\"line\":{\"color\":\"rgba(0, 154, 250, 1.000)\",\"shape\":\"linear\",\"dash\":\"solid\",\"width\":3},\"y\":[0.0,0.11086684970227173,-0.7794105470548506,-1.2116748810052953,1.1351023478921078,-1.3967211625564433,0.6763875219289495,0.09244179529166012,0.8865861760169107,2.0121225443106665,-0.5285582951869378,0.6485462290137084,0.2882820745299468,-0.9230584811689417,-2.021219361373341,0.520780475963724,0.30691992413457414,-0.08458739516307075,1.5298024475790084,2.50078021761651,-1.5570062068433703,0.3064373994907026,0.21233398553477809,-0.46584152839954207,2.0621032285035525,-1.4378517794407937,-0.20082372825829767,-1.638034716618863,-0.02516550495560353,0.42492195857803483,-0.6332671734153958,0.9027642351479435,0.2892318972696695,-0.4609950214581734,0.36618591839702225,-0.2336226214132168,-1.9502757942559452,0.8912159072247505,-0.37990314002925324,-1.302855228834259,0.02456681695159666,0.5234040191172737,1.077536759953929,-0.8264603106522689,1.1660621965069553,-0.8550065655978668,0.5528498817766099,0.7621974341621509,-1.1393410534324575,0.06741024601411462,0.00448345818821196,-1.0380637763649563,-1.3411630526326817,1.2444596704198636,-1.0818553007242293,0.11766183491354217,-0.26036974526427026,1.6515882199259373,-0.5049457228920154,1.4373736446130527,-0.1799984263422975,-0.7116876266904835,-0.6358345986064108,-1.6470682741523879,0.08683290361075552,0.04545408608866771,-0.39173544643389985,-1.8603843054415772,0.9498391684023849,0.26496885785643026,-1.1929677194762742,0.4007686634311245,0.3043657555992902,-0.759506672226607,-0.5120125565850154,1.5016985707922492,-0.9072464222643304,-1.008789611168683,-2.376452212919725,-1.7992031386937508,1.2543848999146596,0.6020837944464742,1.5131569447412547,-0.40541895220897245,-0.45611527802550555,1.810027191642826,1.1450746128324587,-2.174536103592465,0.011540996241266128,1.314668555047614,-0.4463762290260444,-2.103941484127622,1.1388802386216637,0.28493224309112897,0.9117949976012907,0.009789694982649581,-1.0310866270200418,0.014486893047323153,-0.5302484344910372,-0.3292583538334515,-1.0216129210555376],\"type\":\"scatter\",\"name\":\"alpha = 0.0\",\"yaxis\":\"y\",\"x\":[1,2,3,4,5,6,7,8,9,10,11,12,13,14,15,16,17,18,19,20,21,22,23,24,25,26,27,28,29,30,31,32,33,34,35,36,37,38,39,40,41,42,43,44,45,46,47,48,49,50,51,52,53,54,55,56,57,58,59,60,61,62,63,64,65,66,67,68,69,70,71,72,73,74,75,76,77,78,79,80,81,82,83,84,85,86,87,88,89,90,91,92,93,94,95,96,97,98,99,100,101]},{\"showlegend\":true,\"mode\":\"lines\",\"xaxis\":\"x\",\"colorbar\":{\"title\":\"\"},\"line\":{\"color\":\"rgba(227, 111, 71, 1.000)\",\"shape\":\"linear\",\"dash\":\"solid\",\"width\":3},\"y\":[0.0,0.6327988064282836,1.3151890763787737,0.8334460860168393,1.3499426753009964,1.0589076866877924,0.9092074898549793,1.5115791031463166,-0.08202799841158048,0.03588076364729571,0.14279630482357095,0.832772375395886,2.6149039493224584,1.983914290182263,0.49247126943977093,-0.6823889573410458,0.5721594950928308,0.1708829352497214,1.0897858375485316,-1.6694105553582022,0.5663544450117859,1.8538058295311237,0.8207958695833525,0.7865964493563158,0.3082432948788105,-1.085884843345926,-1.643430900693292,-0.5798367334117799,-0.25654295452055514,-1.188614510887813,0.5959975760211739,0.9914254595472898,1.3272603930199747,0.26773636691417,0.8092913094660743,-0.44497817328725675,-0.7083066680154715,-0.7277436123301374,1.8071619057022008,-0.14739994797424372,-0.7783081347892851,0.17179209191208844,0.2769343810280443,0.778541855992352,-0.8781652224948878,-1.0071023200500682,0.2350593474111251,0.8943639139079994,0.8152960054925402,1.3329091828827049,2.253840921839684,0.8543016258416625,-0.5475228645917909,0.6993733141815697,1.9471795138259083,1.4654612163559553,0.6919666183868668,-0.25055498052657704,-1.0674369213589467,0.6646425642445235,0.6179381755004146,0.3515862484819495,0.3075499741700365,0.687062632421524,3.6656305231425104,2.536212130718113,0.5142601358828761,-0.33460256569624575,1.3350919082682813,1.1897934531869052,1.137676484499166,0.15411487048798667,-0.49995456364165847,0.7975655986008658,0.009274741896358296,0.9114225828096465,1.697807007477524,2.1927349917598087,1.2297767234545938,2.5381587916466044,1.9185668252802008,0.764081277790523,0.35685394065448955,-2.367818516439254,1.084133290286943,-0.18570109077569152,1.8613552372766269,0.6272911548807931,-0.3259924446765381,-0.07642688682226179,-2.6175425643511683,-1.239266227672061,1.1961949625428527,0.670599196970721,-0.5157558092561079,-1.8910544699237621,-1.234209699483553,0.34177717990032286,-0.4159837719341394,-0.038864590268420346,-1.3114518259101269],\"type\":\"scatter\",\"name\":\"alpha = 0.5\",\"yaxis\":\"y\",\"x\":[1,2,3,4,5,6,7,8,9,10,11,12,13,14,15,16,17,18,19,20,21,22,23,24,25,26,27,28,29,30,31,32,33,34,35,36,37,38,39,40,41,42,43,44,45,46,47,48,49,50,51,52,53,54,55,56,57,58,59,60,61,62,63,64,65,66,67,68,69,70,71,72,73,74,75,76,77,78,79,80,81,82,83,84,85,86,87,88,89,90,91,92,93,94,95,96,97,98,99,100,101]},{\"showlegend\":true,\"mode\":\"lines\",\"xaxis\":\"x\",\"colorbar\":{\"title\":\"\"},\"line\":{\"color\":\"rgba(62, 164, 78, 1.000)\",\"shape\":\"linear\",\"dash\":\"solid\",\"width\":3},\"y\":[0.0,-0.8524594858417628,-0.5724574113977636,-0.04203147547169095,-0.04161218988016635,0.3191651198741519,-0.8743026795695857,0.33825082825000163,-0.4917460754186904,-0.7090861703095469,0.08274166388753423,-1.4176413954788507,-1.8939498782205186,-2.5393516081383485,-2.119372091492991,-2.3199655011698663,-2.658627870253859,-3.3420881146886865,-4.308639617657781,-5.413532726630924,-5.839445852549728,-6.956391886914284,-6.514885583308175,-7.546378340645324,-7.058234268867022,-6.03660496535722,-7.047940990428733,-8.426948804078084,-8.691237873372444,-7.736744750936574,-8.61745482386167,-8.809785161121095,-8.010109830948114,-8.262995876084585,-7.450871960074653,-5.201870096095972,-5.8640423431167426,-3.835226803635545,-3.0490171293863053,-5.2100800890284935,-5.640145360086835,-6.016176684749081,-7.523762258792237,-8.878262450254455,-7.6514726568657405,-7.254512810423052,-7.416564266495016,-6.801722769246395,-6.972150999701555,-7.1307224311470945,-7.727429079609561,-9.593863022283818,-8.54495031742461,-8.048043605249585,-7.184944337642903,-7.097715027044189,-7.225628315141639,-5.942120848736493,-6.326327416753003,-5.58508104912129,-5.680903022986668,-7.433527104615166,-8.567776300192143,-9.057873025370503,-7.206223090700569,-8.052553103706867,-7.480622339181373,-7.664527236992223,-6.864799392351131,-6.996350670973012,-6.351651538789737,-6.396102167468733,-6.059237698173854,-4.772257967185174,-4.264154183023157,-3.063992096542863,-4.288512305290535,-4.339859340194328,-3.5395899726014934,-4.596229765090932,-4.972935792197379,-3.676235104927066,-3.0091744684395136,-3.087818038203117,-0.6685321213602635,0.1587484098465649,1.3406280964317734,1.454005698387804,-1.307821210298263,-1.5369920113793922,-0.2807483394462029,0.021837998860380847,0.04983492127376041,-0.13914985444622138,-0.21503941880740796,0.15956084524109004,0.21980568702340952,-0.3069835080249723,-0.08042920861991804,-0.6673453246156207,1.0998642367916547],\"type\":\"scatter\",\"name\":\"alpha = 0.98\",\"yaxis\":\"y\",\"x\":[1,2,3,4,5,6,7,8,9,10,11,12,13,14,15,16,17,18,19,20,21,22,23,24,25,26,27,28,29,30,31,32,33,34,35,36,37,38,39,40,41,42,43,44,45,46,47,48,49,50,51,52,53,54,55,56,57,58,59,60,61,62,63,64,65,66,67,68,69,70,71,72,73,74,75,76,77,78,79,80,81,82,83,84,85,86,87,88,89,90,91,92,93,94,95,96,97,98,99,100,101]}], {\"showlegend\":true,\"xaxis\":{\"gridwidth\":0.5,\"tickvals\":[20.0,40.0,60.0,80.0,100.0],\"visible\":true,\"ticks\":\"inside\",\"tickmode\":\"array\",\"domain\":[0.0658209390492855,0.9934383202099738],\"linecolor\":\"rgba(0, 0, 0, 1.000)\",\"showgrid\":true,\"title\":\"\",\"mirror\":false,\"tickangle\":0,\"showline\":true,\"gridcolor\":\"rgba(0, 0, 0, 0.100)\",\"titlefont\":{\"color\":\"rgba(0, 0, 0, 1.000)\",\"family\":\"sans-serif\",\"size\":15},\"tickcolor\":\"rgb(0, 0, 0)\",\"ticktext\":[\"20\",\"40\",\"60\",\"80\",\"100\"],\"zeroline\":false,\"type\":\"-\",\"tickfont\":{\"color\":\"rgba(0, 0, 0, 1.000)\",\"family\":\"sans-serif\",\"size\":11},\"zerolinecolor\":\"rgba(0, 0, 0, 1.000)\",\"anchor\":\"y\"},\"paper_bgcolor\":\"rgba(255, 255, 255, 1.000)\",\"annotations\":[],\"height\":400,\"margin\":{\"l\":0,\"b\":20,\"r\":0,\"t\":20},\"plot_bgcolor\":\"rgba(255, 255, 255, 1.000)\",\"yaxis\":{\"gridwidth\":0.5,\"tickvals\":[-7.5,-5.0,-2.5,0.0,2.5],\"visible\":true,\"ticks\":\"inside\",\"tickmode\":\"array\",\"domain\":[0.03762029746281716,0.9901574803149606],\"linecolor\":\"rgba(0, 0, 0, 1.000)\",\"showgrid\":true,\"title\":\"\",\"mirror\":false,\"tickangle\":0,\"showline\":true,\"gridcolor\":\"rgba(0, 0, 0, 0.100)\",\"titlefont\":{\"color\":\"rgba(0, 0, 0, 1.000)\",\"family\":\"sans-serif\",\"size\":15},\"tickcolor\":\"rgb(0, 0, 0)\",\"ticktext\":[\"-7.5\",\"-5.0\",\"-2.5\",\"0.0\",\"2.5\"],\"zeroline\":false,\"type\":\"-\",\"tickfont\":{\"color\":\"rgba(0, 0, 0, 1.000)\",\"family\":\"sans-serif\",\"size\":11},\"zerolinecolor\":\"rgba(0, 0, 0, 1.000)\",\"anchor\":\"x\"},\"legend\":{\"bordercolor\":\"rgba(0, 0, 0, 1.000)\",\"bgcolor\":\"rgba(255, 255, 255, 1.000)\",\"font\":{\"color\":\"rgba(0, 0, 0, 1.000)\",\"family\":\"sans-serif\",\"size\":11},\"y\":1.0,\"x\":1.0},\"width\":600});\n",
       "    </script>\n"
      ]
     },
     "execution_count": 53,
     "metadata": {},
     "output_type": "execute_result"
    }
   ],
   "source": [
    "using Plots\n",
    "\n",
    "alphas = [0.0, 0.5, 0.98]\n",
    "T = 100\n",
    "\n",
    "series = []\n",
    "labels = []\n",
    "\n",
    "for alpha in alphas\n",
    "    x = zeros(T + 1)\n",
    "    x[1] = 0.0\n",
    "    for t in 1:T\n",
    "        x[t+1] = alpha * x[t] + randn()\n",
    "    end\n",
    "    push!(series, x)\n",
    "    push!(labels, \"alpha = $alpha\")\n",
    "end\n",
    "\n",
    "plot(series, label=reshape(labels,1,length(labels)),lw=3)"
   ]
  },
  {
   "cell_type": "markdown",
   "metadata": {
    "collapsed": true
   },
   "source": [
    "### Ok, we've seen some cool examples\n",
    "\n",
    "**Let's see the status of the packages**\n",
    "\n",
    "We're getting distracted but I just wanted to know what we have in place and what we need before we get-to-know-Julia a bit better."
   ]
  },
  {
   "cell_type": "code",
   "execution_count": 5,
   "metadata": {},
   "outputs": [
    {
     "name": "stdout",
     "output_type": "stream",
     "text": [
      "2 required packages:\n",
      " - IJulia                        1.6.2\n",
      " - Plots                         0.13.1\n",
      "24 additional packages:\n",
      " - BinDeps                       0.6.0\n",
      " - ColorTypes                    0.6.5\n",
      " - Colors                        0.8.2\n",
      " - Compat                        0.34.0\n",
      " - Conda                         0.7.0\n",
      " - Contour                       0.4.0\n",
      " - DataStructures                0.7.2\n",
      " - FixedPointNumbers             0.4.3\n",
      " - JSON                          0.15.1\n",
      " - MbedTLS                       0.5.1\n",
      " - Measures                      0.1.0\n",
      " - NaNMath                       0.2.6\n",
      " - PlotThemes                    0.1.4\n",
      " - PlotUtils                     0.4.4\n",
      " - RecipesBase                   0.2.3\n",
      " - Reexport                      0.0.3\n",
      " - Requires                      0.4.3\n",
      " - SHA                           0.5.1\n",
      " - Showoff                       0.1.1\n",
      " - SpecialFunctions              0.3.4\n",
      " - StaticArrays                  0.6.4\n",
      " - StatsBase                     0.19.0\n",
      " - URIParser                     0.2.0\n",
      " - ZMQ                           0.5.1\n"
     ]
    },
    {
     "ename": "LoadError",
     "evalue": "\u001b[91mMethodError: no method matching !(::Void)\u001b[0m\nClosest candidates are:\n  !(\u001b[91m::Base.##771#772\u001b[39m) at deprecated.jl:852\n  !(\u001b[91m::Bool\u001b[39m) at bool.jl:36\n  !(\u001b[91m::Function\u001b[39m) at operators.jl:904\n  ...\u001b[39m",
     "output_type": "error",
     "traceback": [
      "\u001b[91mMethodError: no method matching !(::Void)\u001b[0m\nClosest candidates are:\n  !(\u001b[91m::Base.##771#772\u001b[39m) at deprecated.jl:852\n  !(\u001b[91m::Bool\u001b[39m) at bool.jl:36\n  !(\u001b[91m::Function\u001b[39m) at operators.jl:904\n  ...\u001b[39m",
      "",
      "Stacktrace:",
      " [1] \u001b[1minclude_string\u001b[22m\u001b[22m\u001b[1m(\u001b[22m\u001b[22m::String, ::String\u001b[1m)\u001b[22m\u001b[22m at \u001b[1m./loading.jl:522\u001b[22m\u001b[22m"
     ]
    }
   ],
   "source": [
    "! Pkg.status()"
   ]
  },
  {
   "cell_type": "code",
   "execution_count": 6,
   "metadata": {},
   "outputs": [
    {
     "data": {
      "text/plain": [
       "Dict{String,VersionNumber} with 26 entries:\n",
       "  \"NaNMath\"           => v\"0.2.6\"\n",
       "  \"Showoff\"           => v\"0.1.1\"\n",
       "  \"FixedPointNumbers\" => v\"0.4.3\"\n",
       "  \"Conda\"             => v\"0.7.0\"\n",
       "  \"SHA\"               => v\"0.5.1\"\n",
       "  \"PlotUtils\"         => v\"0.4.4\"\n",
       "  \"ZMQ\"               => v\"0.5.1\"\n",
       "  \"JSON\"              => v\"0.15.1\"\n",
       "  \"StatsBase\"         => v\"0.19.0\"\n",
       "  \"DataStructures\"    => v\"0.7.2\"\n",
       "  \"ColorTypes\"        => v\"0.6.5\"\n",
       "  \"Compat\"            => v\"0.34.0\"\n",
       "  \"IJulia\"            => v\"1.6.2\"\n",
       "  \"Plots\"             => v\"0.13.1\"\n",
       "  \"Colors\"            => v\"0.8.2\"\n",
       "  \"MbedTLS\"           => v\"0.5.1\"\n",
       "  \"Measures\"          => v\"0.1.0\"\n",
       "  \"StaticArrays\"      => v\"0.6.4\"\n",
       "  \"RecipesBase\"       => v\"0.2.3\"\n",
       "  \"BinDeps\"           => v\"0.6.0\"\n",
       "  \"SpecialFunctions\"  => v\"0.3.4\"\n",
       "  \"PlotThemes\"        => v\"0.1.4\"\n",
       "  \"Contour\"           => v\"0.4.0\"\n",
       "  \"Requires\"          => v\"0.4.3\"\n",
       "  \"Reexport\"          => v\"0.0.3\"\n",
       "  ⋮                   => ⋮"
      ]
     },
     "execution_count": 6,
     "metadata": {},
     "output_type": "execute_result"
    }
   ],
   "source": [
    "Pkg.installed()"
   ]
  },
  {
   "cell_type": "code",
   "execution_count": 7,
   "metadata": {},
   "outputs": [
    {
     "name": "stderr",
     "output_type": "stream",
     "text": [
      "\u001b[1m\u001b[36mINFO: \u001b[39m\u001b[22m\u001b[36mUpdating METADATA...\n",
      "\u001b[39m\u001b[1m\u001b[36mINFO: \u001b[39m\u001b[22m\u001b[36mComputing changes...\n",
      "\u001b[39m\u001b[1m\u001b[36mINFO: \u001b[39m\u001b[22m\u001b[36mNo packages to install, update or remove\n",
      "\u001b[39m"
     ]
    }
   ],
   "source": [
    "Pkg.update()"
   ]
  },
  {
   "cell_type": "markdown",
   "metadata": {},
   "source": [
    "## Cool ,so lets play around in our next Julia notebook with a few things like\n",
    "\n",
    "- Control Flow (compound expression, conditional evaluation, Short-circuit evaluation etc)\n",
    "- Math Stuff such as : Numbers, Strings, Arrays (Multi-dimensional as well) and ofcourse our lovely Linear Algebra"
   ]
  }
 ],
 "metadata": {
  "kernelspec": {
   "display_name": "Julia 0.6.1",
   "language": "julia",
   "name": "julia-0.6"
  },
  "language_info": {
   "file_extension": ".jl",
   "mimetype": "application/julia",
   "name": "julia",
   "version": "0.6.1"
  }
 },
 "nbformat": 4,
 "nbformat_minor": 2
}
