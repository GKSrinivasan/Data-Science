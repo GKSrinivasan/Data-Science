{
 "cells": [
  {
   "cell_type": "markdown",
   "metadata": {},
   "source": [
    "# DiscreteDP Example: Asset Replacement"
   ]
  },
  {
   "cell_type": "markdown",
   "metadata": {},
   "source": [
    "** Kosumi Mao **\n",
    "\n",
    "*Department of Economics, University of Tokyo*"
   ]
  },
  {
   "cell_type": "markdown",
   "metadata": {},
   "source": [
    "From Miranda and Fackler, Applied Computational Economics and Finance, 2002, Section 7.6.2"
   ]
  },
  {
   "cell_type": "markdown",
   "metadata": {},
   "source": [
    "`Julia` translation of the [Python version](http://nbviewer.jupyter.org/github/QuantEcon/QuantEcon.notebooks/blob/master/ddp_ex_MF_7_6_2_py.ipynb)"
   ]
  },
  {
   "cell_type": "code",
   "execution_count": 1,
   "metadata": {
    "collapsed": true,
    "scrolled": true
   },
   "outputs": [],
   "source": [
    "using QuantEcon"
   ]
  },
  {
   "cell_type": "code",
   "execution_count": 2,
   "metadata": {},
   "outputs": [],
   "source": [
    "maxage = 5    # Maximum asset age\n",
    "repcost = 75  # Replacement cost\n",
    "beta = 0.9    # Discount factor\n",
    "m = 2         # Number of actions; 1: keep, 2: replace;"
   ]
  },
  {
   "cell_type": "code",
   "execution_count": 3,
   "metadata": {},
   "outputs": [],
   "source": [
    "S = [i for i in 1:maxage]\n",
    "n = length(S);"
   ]
  },
  {
   "cell_type": "code",
   "execution_count": 4,
   "metadata": {
    "scrolled": true
   },
   "outputs": [],
   "source": [
    "# Reward array\n",
    "R = Array{Float64}(n,m)\n",
    "for i in 1:n\n",
    "R[i, 1] = 50 - 2.5 * S[i] - 2.5 * S[i]^2\n",
    "R[i, 2] = 50 - repcost\n",
    "end\n",
    "\n",
    "# Infeasible action\n",
    "R[n,1] = -Inf;"
   ]
  },
  {
   "cell_type": "code",
   "execution_count": 5,
   "metadata": {},
   "outputs": [
    {
     "data": {
      "text/plain": [
       "5×2 Array{Float64,2}:\n",
       "   45.0  -25.0\n",
       "   35.0  -25.0\n",
       "   20.0  -25.0\n",
       "    0.0  -25.0\n",
       " -Inf    -25.0"
      ]
     },
     "execution_count": 5,
     "metadata": {},
     "output_type": "execute_result"
    }
   ],
   "source": [
    "R"
   ]
  },
  {
   "cell_type": "code",
   "execution_count": 6,
   "metadata": {
    "collapsed": true,
    "scrolled": true
   },
   "outputs": [],
   "source": [
    "# (Degenerate) transition probability array\n",
    "Q = zeros(n,m,n)\n",
    "for i in 1:n\n",
    "    Q[i, 1, min(i+1, n)] = 1\n",
    "    Q[i, 2, 1] = 1\n",
    "end"
   ]
  },
  {
   "cell_type": "code",
   "execution_count": 7,
   "metadata": {
    "scrolled": false
   },
   "outputs": [
    {
     "data": {
      "text/plain": [
       "5×2×5 Array{Float64,3}:\n",
       "[:, :, 1] =\n",
       " 0.0  1.0\n",
       " 0.0  1.0\n",
       " 0.0  1.0\n",
       " 0.0  1.0\n",
       " 0.0  1.0\n",
       "\n",
       "[:, :, 2] =\n",
       " 1.0  0.0\n",
       " 0.0  0.0\n",
       " 0.0  0.0\n",
       " 0.0  0.0\n",
       " 0.0  0.0\n",
       "\n",
       "[:, :, 3] =\n",
       " 0.0  0.0\n",
       " 1.0  0.0\n",
       " 0.0  0.0\n",
       " 0.0  0.0\n",
       " 0.0  0.0\n",
       "\n",
       "[:, :, 4] =\n",
       " 0.0  0.0\n",
       " 0.0  0.0\n",
       " 1.0  0.0\n",
       " 0.0  0.0\n",
       " 0.0  0.0\n",
       "\n",
       "[:, :, 5] =\n",
       " 0.0  0.0\n",
       " 0.0  0.0\n",
       " 0.0  0.0\n",
       " 1.0  0.0\n",
       " 1.0  0.0"
      ]
     },
     "execution_count": 7,
     "metadata": {},
     "output_type": "execute_result"
    }
   ],
   "source": [
    "Q"
   ]
  },
  {
   "cell_type": "code",
   "execution_count": 8,
   "metadata": {
    "scrolled": false
   },
   "outputs": [],
   "source": [
    "# Create a DiscreteDP\n",
    "ddp = DiscreteDP(R, Q, beta);"
   ]
  },
  {
   "cell_type": "code",
   "execution_count": 9,
   "metadata": {},
   "outputs": [],
   "source": [
    "# Solve the dynamic optimization problem (by policy iteration)\n",
    "res = solve(ddp, PFI);"
   ]
  },
  {
   "cell_type": "code",
   "execution_count": 10,
   "metadata": {},
   "outputs": [
    {
     "data": {
      "text/html": [
       "1"
      ],
      "text/plain": [
       "1"
      ]
     },
     "execution_count": 10,
     "metadata": {},
     "output_type": "execute_result"
    }
   ],
   "source": [
    "# Number of iterations\n",
    "res.num_iter"
   ]
  },
  {
   "cell_type": "code",
   "execution_count": 11,
   "metadata": {},
   "outputs": [
    {
     "data": {
      "text/plain": [
       "5-element Array{Float64,1}:\n",
       " 216.56 \n",
       " 190.622\n",
       " 172.914\n",
       " 169.904\n",
       " 169.904"
      ]
     },
     "execution_count": 11,
     "metadata": {},
     "output_type": "execute_result"
    }
   ],
   "source": [
    "# Optimal value function\n",
    "res.v"
   ]
  },
  {
   "cell_type": "code",
   "execution_count": 12,
   "metadata": {},
   "outputs": [
    {
     "data": {
      "text/plain": [
       "5-element Array{Int64,1}:\n",
       " 1\n",
       " 1\n",
       " 1\n",
       " 2\n",
       " 2"
      ]
     },
     "execution_count": 12,
     "metadata": {},
     "output_type": "execute_result"
    }
   ],
   "source": [
    "# Optimal policy\n",
    "res.sigma"
   ]
  },
  {
   "cell_type": "code",
   "execution_count": 13,
   "metadata": {
    "scrolled": false
   },
   "outputs": [
    {
     "data": {
      "text/plain": [
       "5×5 Array{Float64,2}:\n",
       " 0.0  1.0  0.0  0.0  0.0\n",
       " 0.0  0.0  1.0  0.0  0.0\n",
       " 0.0  0.0  0.0  1.0  0.0\n",
       " 1.0  0.0  0.0  0.0  0.0\n",
       " 1.0  0.0  0.0  0.0  0.0"
      ]
     },
     "execution_count": 13,
     "metadata": {},
     "output_type": "execute_result"
    }
   ],
   "source": [
    "# Transition probability matrix\n",
    "res.mc.p"
   ]
  },
  {
   "cell_type": "code",
   "execution_count": 14,
   "metadata": {
    "scrolled": true
   },
   "outputs": [],
   "source": [
    "# Simulate the controlled Markov chain\n",
    "initial_state_value = 1\n",
    "nyrs = 12\n",
    "spath = simulate(res.mc, nyrs+1, init=initial_state_value);"
   ]
  },
  {
   "cell_type": "code",
   "execution_count": 15,
   "metadata": {
    "collapsed": true
   },
   "outputs": [],
   "source": [
    "using PyPlot"
   ]
  },
  {
   "cell_type": "code",
   "execution_count": 16,
   "metadata": {},
   "outputs": [
    {
     "data": {
      "image/png": "[encoded data removed]",
      "text/plain": [
       "PyPlot.Figure(PyObject <matplotlib.figure.Figure object at 0x000000004398DE80>)"
      ]
     },
     "metadata": {},
     "output_type": "display_data"
    },
    {
     "data": {
      "text/plain": [
       "PyObject <matplotlib.text.Text object at 0x0000000043AB9780>"
      ]
     },
     "execution_count": 16,
     "metadata": {},
     "output_type": "execute_result"
    }
   ],
   "source": [
    "import PyPlot.plt\n",
    "fig, axes = plt[:subplots](1, 2, figsize=(12, 4))\n",
    "axes[1][:plot]( [i for i in 1:n], res.v)\n",
    "axes[1][:set_xlim](1, 5)\n",
    "axes[1][:set_ylim](160, 220)\n",
    "axes[1][:set_xticks](linspace(1, 5, 5))\n",
    "axes[1][:set_xlabel](\"Age of Machine\")\n",
    "axes[1][:set_ylabel](\"Value\")\n",
    "axes[1][:set_title](\"Optimal Value Function\")\n",
    "\n",
    "axes[2][:plot](spath)\n",
    "axes[2][:set_xlim](0, nyrs)\n",
    "axes[2][:set_ylim](1, 4)\n",
    "axes[2][:set_yticks](linspace(1, 4, 4))\n",
    "axes[2][:set_xlabel](\"Year\")\n",
    "axes[2][:set_ylabel](\"Age of Machine\")\n",
    "axes[2][:set_title](\"Optimal State Path\")"
   ]
  },
  {
   "cell_type": "code",
   "execution_count": null,
   "metadata": {
    "collapsed": true
   },
   "outputs": [],
   "source": []
  }
 ],
 "metadata": {
  "kernelspec": {
   "display_name": "Julia 0.6.0",
   "language": "julia",
   "name": "julia-0.6"
  },
  "language_info": {
   "file_extension": ".jl",
   "mimetype": "application/julia",
   "name": "julia",
   "version": "0.6.0"
  }
 },
 "nbformat": 4,
 "nbformat_minor": 2
}
