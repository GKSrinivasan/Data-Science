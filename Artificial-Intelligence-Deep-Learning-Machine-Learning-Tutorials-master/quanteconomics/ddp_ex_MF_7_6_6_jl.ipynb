{
 "cells": [
  {
   "cell_type": "markdown",
   "metadata": {},
   "source": [
    "# DiscreteDP Example: Bioeconomic Model"
   ]
  },
  {
   "cell_type": "markdown",
   "metadata": {},
   "source": [
    "** Eiki Takigawa **\n",
    "\n",
    "*Department of Economics, University of Tokyo*"
   ]
  },
  {
   "cell_type": "markdown",
   "metadata": {},
   "source": [
    "From Miranda and Fackler, Applied Computational Economics and Finance, 2002, Section 7.6.6"
   ]
  },
  {
   "cell_type": "markdown",
   "metadata": {},
   "source": [
    "`Julia` translation of the [python version](http://nbviewer.jupyter.org/github/QuantEcon/QuantEcon.notebooks/blob/master/ddp_ex_MF_7_6_6_py.ipynb)"
   ]
  },
  {
   "cell_type": "code",
   "execution_count": 1,
   "metadata": {},
   "outputs": [
    {
     "data": {
      "text/plain": [
       "Plots.PyPlotBackend()"
      ]
     },
     "execution_count": 1,
     "metadata": {},
     "output_type": "execute_result"
    }
   ],
   "source": [
    "using QuantEcon\n",
    "using Plots\n",
    "pyplot()"
   ]
  },
  {
   "cell_type": "code",
   "execution_count": 2,
   "metadata": {
    "collapsed": true
   },
   "outputs": [],
   "source": [
    "emax = 8             # Energy carrying capacity\n",
    "n = emax + 1         # Number of states, 0, ..., emax\n",
    "m = 3                # Number of areas (actions), 0, ..., m-1\n",
    "e = [2, 4, 5]        # Energy offerings\n",
    "p = [1.0, 0.7, 0.8]  # Survival probabilities\n",
    "q = [0.5, 0.8, 0.7]  # Success probabilities\n",
    "\n",
    "T = 10               # Time horizon\n",
    "\n",
    "# Terminal values\n",
    "v_term = ones(n)\n",
    "v_term[1]= 0;"
   ]
  },
  {
   "cell_type": "markdown",
   "metadata": {},
   "source": [
    "We follow the state-action pairs formulation approach."
   ]
  },
  {
   "cell_type": "code",
   "execution_count": 3,
   "metadata": {
    "collapsed": true
   },
   "outputs": [],
   "source": [
    "L = n * m  # Number of feasible state-action pairs\n",
    "\n",
    "s_indices = Vector{Int}(L)\n",
    "for i in 1:n\n",
    "    s_indices[(i-1) * m + 1 : i * m] = i\n",
    "end\n",
    "\n",
    "a_indices = Vector{Int}(L)\n",
    "for i in 1:n\n",
    "    a_indices[(i-1) * m + 1 : i * m] = 1:m\n",
    "end"
   ]
  },
  {
   "cell_type": "code",
   "execution_count": 4,
   "metadata": {
    "collapsed": true
   },
   "outputs": [],
   "source": [
    "# Reward vector\n",
    "R = zeros(L);"
   ]
  },
  {
   "cell_type": "code",
   "execution_count": 5,
   "metadata": {
    "collapsed": true
   },
   "outputs": [],
   "source": [
    "# Transition probability array\n",
    "Q = zeros(L, n)\n",
    "for (i, s) in enumerate(s_indices)\n",
    "    k = a_indices[i]\n",
    "    if s == 1\n",
    "        Q[i, 1] = 1\n",
    "    elseif s == 2\n",
    "        Q[i, minimum([emax+1, s-1+e[k]])] = p[k] * q[k]\n",
    "        Q[i, 1] = 1 - p[k] * q[k]\n",
    "    else\n",
    "        Q[i, minimum([emax+1, s-1+e[k]])] = p[k] * q[k]\n",
    "        Q[i, s-1] = p[k] * (1 - q[k])\n",
    "        Q[i, 1] = 1 - p[k]\n",
    "    end\n",
    "end"
   ]
  },
  {
   "cell_type": "markdown",
   "metadata": {},
   "source": [
    "The current version of `DiscreteDP` does not accept $\\beta = 1$.  \n",
    "So I use a value very close to 1."
   ]
  },
  {
   "cell_type": "code",
   "execution_count": 6,
   "metadata": {
    "collapsed": true
   },
   "outputs": [],
   "source": [
    "# Discount factor\n",
    "beta = 0.99999999;"
   ]
  },
  {
   "cell_type": "code",
   "execution_count": 7,
   "metadata": {
    "collapsed": true
   },
   "outputs": [],
   "source": [
    "# Create a DiscreteDP\n",
    "ddp = DiscreteDP(R, Q, beta, s_indices, a_indices);"
   ]
  },
  {
   "cell_type": "markdown",
   "metadata": {},
   "source": [
    "`backward_induction` used in the python version does not exist in `QuantEcon.jl`.  \n",
    "So I simply repeat `bellman_operator`."
   ]
  },
  {
   "cell_type": "code",
   "execution_count": 8,
   "metadata": {
    "collapsed": true
   },
   "outputs": [],
   "source": [
    "vs = Matrix(T+1, n)    \n",
    "vs[T+1, :] = v_term\n",
    "for t in T+1:-1:2\n",
    "    vs[t-1, :] = bellman_operator(ddp, vs[t, :])\n",
    "end"
   ]
  },
  {
   "cell_type": "code",
   "execution_count": 9,
   "metadata": {},
   "outputs": [
    {
     "data": {
      "text/html": [
       "<img src=\"data:image/png;base64,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\" />"
      ]
     },
     "execution_count": 9,
     "metadata": {},
     "output_type": "execute_result"
    }
   ],
   "source": [
    "p1 = bar(0:8, vs[1, :], xlabel=\"Stock of Energy\", xticks=0:1:8,\n",
    "         ylabel=\"Probability\", yticks=0:0.2:1, ylims=(0,1), label=\"\", \n",
    "         title=\"Survivial Probability, Period 0\", )\n",
    "p2 = bar(0:8, vs[6, :], xlabel=\"Stock of Energy\", xticks=0:1:8,\n",
    "         ylabel=\"Probability\", yticks=0:0.2:1, ylims=(0,1), label=\"\",\n",
    "         title=\"Survivial Probability, Period 5\", )\n",
    "plot(p1, p2, layout=(1,2), size=(700,230))"
   ]
  },
  {
   "cell_type": "code",
   "execution_count": null,
   "metadata": {
    "collapsed": true
   },
   "outputs": [],
   "source": []
  }
 ],
 "metadata": {
  "kernelspec": {
   "display_name": "Julia 0.6.0",
   "language": "julia",
   "name": "julia-0.6"
  },
  "language_info": {
   "file_extension": ".jl",
   "mimetype": "application/julia",
   "name": "julia",
   "version": "0.6.0"
  }
 },
 "nbformat": 4,
 "nbformat_minor": 2
}
