{
 "cells": [
  {
   "cell_type": "markdown",
   "metadata": {},
   "source": [
    "# Aiyagari (1994) in Continuous Time\n",
    "\n",
    "#### By [SeHyoun Ahn](http://www.princeton.edu/~sehyouna/) and [Benjamin Moll](http://www.princeton.edu/~moll/)"
   ]
  },
  {
   "cell_type": "markdown",
   "metadata": {},
   "source": [
    "The material in this notebook is based on [Achdou et al. (2015) \"Heterogeneous Agent Models in Continuous Time\"](http://www.princeton.edu/~moll/HACT.pdf) and follows closely the material in the paper's [online Appendix](http://www.princeton.edu/~moll/HACTproject/HACT_Numerical_Appendix.pdf). Additional codes (mainly in MATLAB) can be found [here](http://www.princeton.edu/~moll/HACTproject.htm). The code and its performance should be compared to [QuantEcon's discrete-time version of the Aiyagari model](http://quant-econ.net/py/aiyagari.html). The structure of the code in the present notebook is purposely kept as close as possible to that of the discrete-time code. The continuous-time code is considerably faster."
   ]
  },
  {
   "cell_type": "markdown",
   "metadata": {},
   "source": [
    "We begin by importing some packages"
   ]
  },
  {
   "cell_type": "code",
   "execution_count": 39,
   "metadata": {
    "collapsed": true
   },
   "outputs": [],
   "source": [
    "%matplotlib inline\n",
    "import numpy as np\n",
    "import matplotlib.pyplot as plt\n",
    "from scipy import sparse\n",
    "from scipy.sparse.linalg import spsolve"
   ]
  },
  {
   "cell_type": "markdown",
   "metadata": {},
   "source": [
    "## Aiyagari Economy\n",
    "The economy can be represented by the following system of equations which we aim to solve numerically:\n",
    "$$\n",
    "\\begin{align*}\n",
    "\\rho v_1(a) &=  \\max_c \\ u(c) + v_1'(a)(wz_1 + ra - c) + \\lambda_1(v_2(a) - v_1(a))\\\\\n",
    "\\rho v_2(a) &=  \\max_c \\ u(c) + v_2'(a)(wz_2 + ra - c) + \\lambda_2(v_1(a) - v_2(a))\\\\\n",
    "0 &= - \\frac{d}{da}[s_1(a)g_1(a)] - \\lambda_1 g_1(a) + \\lambda_2 g_2(a)\\\\\n",
    "0 &= - \\frac{d}{da}[s_2(a)g_2(a)] - \\lambda_2 g_2(a) + \\lambda_1 g_1(a)\\\\\n",
    "1 &= \\int_{\\underline{a}}^\\infty g_1(a)da + \\int_{\\underline{a}}^\\infty g_2(a)da\\\\\n",
    "K &= \\int_{\\underline{a}}^\\infty a g_1(a)da + \\int_{\\underline{a}}^\\infty a g_2(a)da\\\\\n",
    "r &= \\alpha K^{\\alpha-1} - \\delta, \\quad w=(1-\\alpha)K^\\alpha\n",
    "\\end{align*}\n",
    "$$\n",
    "\n",
    "where $z_1$ &lt; $z_2$ and $s_j(a)=wz_j + ra -c_j(a)$ and $c_j(a) = (u')^{-1}(v_j(a))$ are optimal savings and consumption. Finally, there is a state constraint $a\\geq \\underline{a}$. The first order condition $u'(c_j(\\underline{a}))=v'_j(\\underline{a})$ still holds at the borrowing constraint. However, in order to respect the constraint we need $s_j(\\underline{a}) = z_j + ra - c_j(\\underline{a}) \\geq 0$. Combining this with the FOC, the state constraint motivates a boundary condition\n",
    "$$\n",
    "\\begin{align} v_j'(\\underline{a}) \\geq u'(z_j + r \\underline{a}), \\quad j=1,2 \\end{align}\n",
    "$$"
   ]
  },
  {
   "cell_type": "markdown",
   "metadata": {},
   "source": [
    "We use a finite difference method, an in particular an \"implicit upwind scheme.\" The details are explained in the paper's [online Appendix](http://www.princeton.edu/~moll/HACTproject/HACT_Numerical_Appendix.pdf). We here provide a brief summary. We approximate the functions $(v_1,v_2,g_1,g_2)$ at $I$ discrete points in the space dimension, $a_i,i=1,...,I$. We use equispaced grids, denote by $\\Delta a$ the distance between grid points, and use the short-hand notation $v_{i,j} \\equiv v_j(a_i)$ and so on. The derivative $v_{i,j}'=v_j'(a_i)$ is approximated with either a forward or a backward difference approximation\n",
    "$$\n",
    "\\begin{align*}\n",
    "v_j'(a_i) \\approx \\frac{v_{i+1,j} - v_{i,j}}{\\Delta a} \\equiv v_{i,j,F}' \\\\\n",
    "v_j'(a_i) \\approx \\frac{v_{i-1,j} - v_{i,j}}{\\Delta a} \\equiv v_{i,j,B}'\n",
    "\\end{align*}\n",
    "$$\n",
    "An upwind scheme means that we approximate the derivative $v_j'(a_i)$ with a forward difference approximation whenever the drift of the state variable is positive and the backward difference approximation whenever it is negative. An implicit scheme is a particular way of iterating on the value function.\n",
    "\n",
    "In a nutshell, the discretized HJB equation can be written as \n",
    "$$\\rho v = u + \\mathbf{A} v$$\n",
    "where $\\mathbf{A}$ is $N \\times N$ transition matrix with $N = 2 \\times I$ and where $I$ is the number of wealth grid points. The matrix $\\mathbf{A}$ depends on $v$, i.e. this is a nonlinear problem and we therefore need to iterate (this is where the implicit scheme comes in). The matrix $\\mathbf{A}$ has the interpretation of a Poisson transition matrix (or \"intensity matrix\") on the discretized state space $(a_i,z_j)$.\n",
    "\n",
    "Similarly, one can show that the discretized Kolmogorov Forward equation is\n",
    "$$0 = \\mathbf{A}^T g$$\n",
    "which is an eigenvalue problem. That is, the discretized stationary distribution $g$ is the eigenvector corresponding to a zero eigenvalue of the transpose of the Poisson transition matrix $\\mathbf{A}$. The transpose comes from the fact that the differential operator in the KF equation is the \"adjoint\" of the operator in the HJB equation. And an \"adjoint\" is the infinite-dimensional analogue of matrix transpose.\n",
    "\n",
    "The matrix $\\mathbf{A}$ is found from the discretized HJB equation. Skipping a number of steps it can be written as\n",
    "$$\n",
    "\\begin{align*}\n",
    "&\\frac{v^{n+1}_{i,j} - v^{n}_{i,j}}{\\Delta} + \\rho v_{i,j}^{n+1} = u(c_{i,j}^n) + v_{i-1,j}^{n+1}x_{i,j}   +  v^{n+1}_{i,j} y_{i,j} + v_{i+1,j}^{n+1} z_{i,j} + v_{i,-j}^{n+1}\\lambda_j \\quad \\mbox{where}\\\\\n",
    "&x_{i,j} = -\\frac{(s^n_{i,j,B})^-}{\\Delta a},\\\\\n",
    "&y_{i,j} = - \\frac{(s^n_{i,j,F})^+}{\\Delta a}  +  \\frac{ (s^n_{i,j,B})^-}{\\Delta a} - \\lambda_j,\\\\\n",
    "&z_{i,j} = \\frac{(s^n_{i,j,F})^+}{\\Delta a}\n",
    "\\end{align*}\n",
    "$$\n",
    "where $s^n_{i,j,F}$ and $s^n_{i,j,B}$ are the discretized optimal household savings at grid points $(a_i,z_j)$ using forward and backward approximations, and where for any number $x$, the notation $x^+$ means \"the positive part of $x$\", i.e. $x^+ = \\max\\{x,0\\}$ and analogously $x^{-} = \\min\\{x,0\\}$. This part is what makes it an upwind scheme.\n",
    "\n",
    "\n",
    "This is a system of $2 \\times I$ linear equations which can be written in matrix notation as:\n",
    "\\begin{equation}\\frac{1}{\\Delta}(v^{n+1} - v^n) + \\rho v^{n+1} = u^n + \\mathbf{A}^n v^{n+1} \\end{equation}\n",
    "where\n",
    "$$\\mathbf{A}^n = \\left[\\begin{matrix}y_{1,1} & z_{1,1} & 0 & \\cdots & 0 & \\lambda_1 & 0 & 0 & \\cdots & 0 \\\\ x_{2,1} & y_{2,1} & z_{2,1} & 0 & \\cdots & 0 & \\lambda_1 & 0 & 0 & \\cdots \\\\ 0 & x_{3,1} & y_{3,1} & z_{3,1} & 0 & \\cdots & 0 & \\lambda_1 & 0 & 0 \\\\ \\vdots & \\ddots & \\ddots & \\ddots & \\ddots & \\ddots & \\ddots & \\ddots & \\ddots & \\vdots \\\\ 0 & \\ddots & \\ddots & x_{I,1} & y_{I,1} & 0 & 0 & 0 & 0 & \\lambda_1\\\\  \\lambda_2 & 0 & 0 & 0 & 0 & y_{1,2} & z_{1,2} & 0 & 0 & 0 \\\\ 0 & \\lambda_2 & 0 & 0 & 0 & x_{2,2} & y_{2,2} & z_{2,2} & 0 & 0  \\\\ 0 & 0 & \\lambda_2 & 0 & 0 & 0 & x_{3,2}  & y_{3,2} & z_{3,2} & 0 \\\\ 0 & 0 & \\ddots & \\ddots & \\ddots & \\ddots & \\ddots  & \\ddots & \\ddots & \\ddots \\\\ 0 & \\cdots & \\cdots & 0 & \\lambda_2 & 0 & \\cdots  & 0 & x_{I,2} & y_{I,2}  \\end{matrix}\\right], \\quad u^n = \\left[\\begin{matrix} u(c_{1,1}^n)\\\\ \\vdots \\\\ \\vdots \\\\ u(c_{I,1}^n)\\\\  u(c_{1,2}^n) \\\\ \\vdots \\\\ \\vdots \\\\ u(c_{I,2}^n)\\end{matrix}\\right]$$\n",
    "This system can in turn be written as\n",
    "$$\n",
    "\\begin{align*}\\mathbf{B}^n v^{n+1} = b^n, \\quad \\quad \\mathbf{B}^n = \\left(\\frac{1}{\\Delta} + \\rho\\right)\\mathbf{I} - \\mathbf{A}^n, \\quad  b^n = u^n + \\frac{1}{\\Delta}v^n \\end{align*}\n",
    "$$\n",
    "This system of linear equations can be solved very efficiently using sparse matrix routines. In Python this is implemented with the function \"spsolve().\"\n",
    "\n",
    "#### Summary of Algorithm\n",
    "First consider the algorithm for solving the HJB equations. Guess $v^0_{i,j},i=1,...,I,j=1,2$ and for $n=0,1,2,...$ follow\n",
    "1. Compute $(v^n_{i,j})'$ using the current guess of the value function and the upwind scheme (forward difference when drift is positive, backward difference when drift is negative)\n",
    "2. Compute $c^n$ from $c_{i,j}^n = (u')^{-1}[(v_{i,j}^n)']$\n",
    "3. Find $v^{n+1}$ by solving the system of linear equations involving the matrix $\\mathbf{A}$ described above (implicit scheme)\n",
    "4. If $v^{n+1}$ is close enough to $v^n$: stop. Otherwise, go to step 1.\n",
    "\n",
    "After solving the HJB equations, solving the Kolmogorov Forward equation: simply solve the eigenvalue problem $0=\\mathbf{A}^T g$ described above. That is, once the HJB equation is solved, we basically get the Kolmogorov Forward equation \"for free.\"\n",
    "\n",
    "#### Overview of Code\n",
    "Given this overview of the algorithm, we now briefly describe the code. As in the discrete-time version, we define a \"household\" class. Household objects contain all the data relevant to solving a household's decision problem. The household class  contain:\n",
    "* economic parameters (e.g., w, r)\n",
    "* utility paramters (e.g., discount factor $\\rho$)\n",
    "* asset and skill level represented on a grid\n",
    "\n",
    "The household's decision problem is solved by invoking the function solve_bellman() which solves the HJB equation given the relevant parameters saving the value-function as v.\n",
    "\n",
    "We also include the stationary wealth distribution of households in the household object. This is a natural thing to do since this stationary distribution is computed using the household's decision rule. Hence, after computing the decision problem of households, the stationary distribution can be found by invoking compute_stationary_distribution()\n",
    "\n",
    "The definition of the household class is given below."
   ]
  },
  {
   "cell_type": "code",
   "execution_count": 40,
   "metadata": {
    "collapsed": false
   },
   "outputs": [],
   "source": [
    "class Household(object):\n",
    "    def __init__(self,\n",
    "                 dep=0.05,   ###ADDED DEPRECIATION\n",
    "                 r=0.03,         # interest rate\n",
    "                 w=1,            # wages\n",
    "                 rho=0.04,       # discount factor\n",
    "                 a_min=1e-10,    # minimum asset amount\n",
    "                 pi=[[-0.33, 0.33], [0.33, -0.33]],  # poisson Jumps\n",
    "                 z_vals=[1.0, 2.0],                # exogenous income states\n",
    "                 a_max=40,\n",
    "                 a_size=1000,    # number of asset grid points\n",
    "                 delta=1000.0):\n",
    "        # Initialize values, and set up grids over a and z\n",
    "        self.r, self.w, self.rho, self.dep = r, w, rho, dep\n",
    "        self.a_min, self.a_max, self.a_size = a_min, a_max, a_size\n",
    "        self.da = (self.a_max-self.a_min)/(self.a_size-1)\n",
    "        self.k = 10\n",
    "        self.pi = np.asarray(pi)\n",
    "        self.z_vals = np.asarray(z_vals)\n",
    "        self.z_size = len(z_vals)\n",
    "        self.a_vals = np.linspace(self.a_min, self.a_max, self.a_size)\n",
    "        self.n = self.a_size * self.z_size\n",
    "        self.delta = delta\n",
    "        ###### ADDED TO MATCH LABOR SUPPLY IN .m\n",
    "        self.z_ave = (self.z_vals[0]*self.pi[0, 1] +\n",
    "                      self.z_vals[1]*self.pi[1, 0]) / \\\n",
    "            (self.pi[0, 1] + self.pi[1, 0])\n",
    "        \n",
    "        # Initial Guess of Value Function\n",
    "        self.v = np.log(np.tile(self.a_vals,(self.z_size,1))*self.r\n",
    "                        +self.w*np.tile(self.z_vals,(self.a_size,1)).transpose())/self.rho\n",
    "        \n",
    "        # Build skill_transition, the matrix summarizing transitions due to the Poisson income shocks\n",
    "        # This is analogous to the Q matrix in the discrete time version of the QuantEcon Aiyagari model\n",
    "        self.z_transition = sparse.kron(self.pi,sparse.eye(self.a_size), format=\"csr\")\n",
    "        \n",
    "        # Preallocation\n",
    "        self.v_old = np.zeros((self.z_size,self.a_size))\n",
    "        self.g = np.zeros((self.z_size,self.a_size))\n",
    "        self.dv = np.zeros((self.z_size,self.a_size-1))\n",
    "        self.cf = np.zeros((self.z_size,self.a_size-1))\n",
    "        self.c0 = np.zeros((self.z_size,self.a_size))\n",
    "        self.ssf = np.zeros((self.z_size,self.a_size))\n",
    "        self.ssb = np.zeros((self.z_size,self.a_size))\n",
    "        self.is_forward = np.zeros((self.z_size,self.a_size),'bool')\n",
    "        self.is_backward = np.zeros((self.z_size,self.a_size),'bool')\n",
    "        self.diag_helper = np.zeros((self.z_size,self.a_size))        \n",
    "        self.A = self.z_transition.copy()\n",
    "        self.B = self.z_transition.copy()\n",
    "        self.AT = self.z_transition.copy()\n",
    "\n",
    "    def set_prices(self, r, w):\n",
    "        \"\"\"\n",
    "        Resets prices\n",
    "        Calling the method will resolves the Bellman Equation.\n",
    "        \n",
    "        Parameters:\n",
    "        -----------------\n",
    "        r : Interest rate\n",
    "        w : wage\n",
    "        \"\"\"\n",
    "        self.r, self.w = r, w\n",
    "        self.solve_bellman()\n",
    "\n",
    "    def reinitialize_v(self):\n",
    "        \"\"\"\n",
    "        Reinitializes the value function if the value function\n",
    "        became NaN\n",
    "        \"\"\"\n",
    "        self.v = np.log(np.tile(self.a_vals,(self.z_size,1))*self.r\n",
    "                        +self.w*np.tile(self.z_vals,(self.a_size,1)).transpose())/self.rho\n",
    "\n",
    "    def solve_bellman(self,maxiter=100,crit=1e-6):\n",
    "        \"\"\"\n",
    "        This function solves the decision problem with the given parameters\n",
    "        \n",
    "        Parameters:\n",
    "        -----------------\n",
    "        maxiter : maximum number of iteration before haulting value function iteration\n",
    "        \n",
    "        crit : convergence metric, stops if value function does not change more than crit\n",
    "        \"\"\"\n",
    "        dist=100.0\n",
    "        for i in range(maxiter):\n",
    "            # compute saving and consumption implied by current guess for value function, using upwind method\n",
    "            self.dv = (self.v[:,1:]-self.v[:,:-1])/self.da\n",
    "            self.cf = 1.0/self.dv\n",
    "            self.c0 = np.tile(self.a_vals,(self.z_size,1))*self.r \\\n",
    "                            +self.w*np.tile(self.z_vals,(self.a_size,1)).transpose()\n",
    "\n",
    "            # computes savings with forward forward difference and backward difference\n",
    "            self.ssf[:,:-1] = self.c0[:,:-1]-self.cf\n",
    "            self.ssb[:,1:] = self.c0[:,1:]-self.cf\n",
    "            # Note that the boundary conditions are handled implicitly as ssf will be zero at a_max and ssb at a_min \n",
    "            self.is_forward = self.ssf>0\n",
    "            self.is_backward = self.ssb<0\n",
    "            # Update consumption based on forward or backward difference based on direction of drift\n",
    "            self.c0[:,:-1] += (self.cf-self.c0[:,:-1])*self.is_forward[:,:-1]\n",
    "            self.c0[:,1:] += (self.cf-self.c0[:,1:])*self.is_backward[:,1:]\n",
    "            ######\n",
    "            # UNCOMMENT FOR DEBUGGING\n",
    "            #plt.plot(self.a_vals, self.c0.transpose())\n",
    "            #plt.show()\n",
    "            self.c0 = np.log(self.c0)\n",
    "            \n",
    "            # Build the matrix A that summarizes the evolution of the process for (a,z)\n",
    "            # This is a Poisson transition matrix (aka intensity matrix) with rows adding up to zero\n",
    "            self.A = self.z_transition.copy()\n",
    "            self.diag_helper = (-self.ssf*self.is_forward/self.da \\\n",
    "                               + self.ssb*self.is_backward/self.da).reshape(self.n)\n",
    "            self.A += sparse.spdiags(self.diag_helper,0,self.n,self.n)\n",
    "            self.diag_helper = (-self.ssb*self.is_backward/self.da).reshape(self.n)\n",
    "            self.A += sparse.spdiags(self.diag_helper[1:],-1,self.n,self.n)\n",
    "            self.diag_helper = (self.ssf*self.is_forward/self.da).reshape(self.n)\n",
    "            self.A += sparse.spdiags(np.hstack((0,self.diag_helper)),1,self.n,self.n)\n",
    "            # Solve the system of linear equations corresponding to implicit finite difference scheme\n",
    "            self.B = sparse.eye(self.n)*(1/self.delta + self.rho) - self.A\n",
    "            self.b = self.c0.reshape(self.n,1) + self.v.reshape(self.n,1)/self.delta\n",
    "            self.v_old = self.v.copy()\n",
    "            self.v = spsolve(self.B,self.b).reshape(self.z_size,self.a_size)\n",
    "\n",
    "            # Compute convergence metric and stop if it satisfies the convergence criterion\n",
    "            dist = np.amax(np.absolute(self.v_old-self.v).reshape(self.n))\n",
    "            if dist < crit:\n",
    "                break\n",
    "\n",
    "    def compute_stationary_distribution(self):\n",
    "        \"\"\"\n",
    "        Solves for the stationary distribution given household decision rules\n",
    "        \n",
    "        Output:\n",
    "        Capital level from the stationary distribution\n",
    "        \"\"\"        \n",
    "        self.AT = self.A.transpose().tocsr()\n",
    "\n",
    "        # The discretized Kolmogorov Forward equation AT*g=0 is an eigenvalue problem\n",
    "        # AT is singular because one of the equation is the distribution adding\n",
    "        # up to 1. Here we solve the eigenvalue problem by setting g(1,1)=0.1\n",
    "        # and the equation is solved relative to that value.\n",
    "        # Alternatively, one could use a routine for solving eigenvalue problems.\n",
    "        b = np.zeros((self.n,1))\n",
    "        b[0] = 0.1\n",
    "        self.AT.data[1:self.AT.indptr[1]] = 0\n",
    "        self.AT.data[0] = 1.0\n",
    "        self.AT.indices[0] = 0\n",
    "        self.AT.eliminate_zeros()\n",
    "        self.g = spsolve(self.AT,b).reshape(self.z_size,self.a_size)\n",
    "        \n",
    "        # Since g was solved taking one of g(1,1) as given, g needs to be\n",
    "        # renormalized to add up to 1\n",
    "        self.g = self.g/np.sum(self.g)\n",
    "        return np.sum(self.g*(np.tile(self.a_vals,(self.z_size,1))))"
   ]
  },
  {
   "cell_type": "markdown",
   "metadata": {
    "collapsed": true
   },
   "source": [
    "For example, if interest rate is 0.05 and wage is 1, we can initialize a household, solve it decision problem, and find the stationary distribution by running"
   ]
  },
  {
   "cell_type": "code",
   "execution_count": 41,
   "metadata": {
    "collapsed": false
   },
   "outputs": [
    {
     "data": {
      "text/plain": [
       "0.69274641340853271"
      ]
     },
     "execution_count": 41,
     "metadata": {},
     "output_type": "execute_result"
    }
   ],
   "source": [
    "lam = 0.11\n",
    "PI = [[-lam, lam], [lam, -lam]]\n",
    "am=Household(rho=0.05, r=0.02,w=1, pi=PI)\n",
    "am.solve_bellman()\n",
    "am.compute_stationary_distribution()"
   ]
  },
  {
   "cell_type": "markdown",
   "metadata": {},
   "source": [
    "Once, a household object is created, the object can be reused to solve a different problem by changing parameters. For example, if the interest rate were to change to 0.03 and wage to 0.9, the new problem can be solved by setting parameters directly by"
   ]
  },
  {
   "cell_type": "code",
   "execution_count": 42,
   "metadata": {
    "collapsed": false
   },
   "outputs": [],
   "source": [
    "am.r=0.02\n",
    "am.w=0.9"
   ]
  },
  {
   "cell_type": "markdown",
   "metadata": {},
   "source": [
    "and running"
   ]
  },
  {
   "cell_type": "code",
   "execution_count": 43,
   "metadata": {
    "collapsed": false
   },
   "outputs": [
    {
     "data": {
      "text/plain": [
       "0.62323720534758664"
      ]
     },
     "execution_count": 43,
     "metadata": {},
     "output_type": "execute_result"
    }
   ],
   "source": [
    "am.solve_bellman()\n",
    "am.compute_stationary_distribution()"
   ]
  },
  {
   "cell_type": "markdown",
   "metadata": {},
   "source": [
    "Alternately, a helper function can be created to automate this process. For example, set_prices(r,w) function resets parameters, and solves the decision problem again. For example, you can run the following to the same effect."
   ]
  },
  {
   "cell_type": "code",
   "execution_count": 44,
   "metadata": {
    "collapsed": false
   },
   "outputs": [
    {
     "data": {
      "text/plain": [
       "1.129833308836365"
      ]
     },
     "execution_count": 44,
     "metadata": {},
     "output_type": "execute_result"
    }
   ],
   "source": [
    "am.set_prices(r=0.03,w=0.9)\n",
    "am.compute_stationary_distribution()"
   ]
  },
  {
   "cell_type": "markdown",
   "metadata": {},
   "source": [
    "Given the household class, solving for the steady state becomes really simple. To find the equilibrium, we solve for the capital level that is consistent with household's decisions."
   ]
  },
  {
   "cell_type": "markdown",
   "metadata": {},
   "source": [
    "Before solving for the actual steady state, we can visualize the capital demand and capital supply."
   ]
  },
  {
   "cell_type": "code",
   "execution_count": 45,
   "metadata": {
    "collapsed": true
   },
   "outputs": [],
   "source": [
    "A = 0.1\n",
    "##### NOT NECESSARY\n",
    "#N = 0.05\n",
    "alpha = 0.33\n",
    "\n",
    "def r_to_w(am, r):\n",
    "    return A*(1 - alpha) * \\\n",
    "        (alpha*A / (am.dep + r))**(alpha / (1 - alpha))\n",
    "\n",
    "def rd(am, K):\n",
    "    return A*alpha*(am.z_ave / K)**(1 - alpha) - am.dep\n",
    "\n",
    "def prices_to_capital_stock(am, r):\n",
    "    \"\"\"\n",
    "    Map prices to the induced level of capital stock.\n",
    "    \n",
    "    Parameters:\n",
    "    ----------\n",
    "    am : Household\n",
    "        An instance of the Household class\n",
    "    r : float\n",
    "        The interest rate\n",
    "    \"\"\"\n",
    "    w = r_to_w(am, r)\n",
    "\n",
    "    # Set new prices and solve the Bellman equation\n",
    "    am.set_prices(r, w)\n",
    "\n",
    "    # Compute the stationary distribution and capital\n",
    "    return am.compute_stationary_distribution()"
   ]
  },
  {
   "cell_type": "markdown",
   "metadata": {},
   "source": [
    "We make a grid of interest rate points, and plot the resulting capital."
   ]
  },
  {
   "cell_type": "code",
   "execution_count": 46,
   "metadata": {
    "collapsed": false
   },
   "outputs": [
    {
     "data": {
      "image/png": "[encoded data removed]",
      "text/plain": [
       "<matplotlib.figure.Figure at 0x7fe87ff72e48>"
      ]
     },
     "metadata": {},
     "output_type": "display_data"
    }
   ],
   "source": [
    "num_points = 20\n",
    "r_vals = np.linspace(0.02, 0.048, num_points)\n",
    "\n",
    "# Compute supply of capital\n",
    "k_vals = np.empty(num_points)\n",
    "for i, r in enumerate(r_vals):\n",
    "    k_vals[i] = prices_to_capital_stock(am,r)\n",
    "\n",
    "# Plot supply and demand of capital\n",
    "fig, ax = plt.subplots(figsize=(11, 8))\n",
    "ax.plot(k_vals, r_vals, lw=2, alpha=0.6, label='supply of capital')\n",
    "ax.plot(k_vals, rd(am, k_vals), lw=2, alpha=0.6, label='demand for capital')\n",
    "ax.grid()\n",
    "ax.set_xlabel('capital')\n",
    "ax.set_ylabel('interest rate')\n",
    "ax.legend(loc='upper right')\n",
    "plt.show()"
   ]
  },
  {
   "cell_type": "markdown",
   "metadata": {},
   "source": [
    "Finally, the equilibrium interest rate can be found by using the bisection method, and we can see the equilibrium distribution of assets."
   ]
  },
  {
   "cell_type": "code",
   "execution_count": 47,
   "metadata": {
    "collapsed": false,
    "scrolled": true
   },
   "outputs": [
    {
     "data": {
      "image/png": "[encoded data removed]",
      "text/plain": [
       "<matplotlib.figure.Figure at 0x7fe87ff8bcc0>"
      ]
     },
     "metadata": {},
     "output_type": "display_data"
    }
   ],
   "source": [
    "# Set parameters for bisection method\n",
    "crit = 1e-6\n",
    "r_min = 0.02\n",
    "r_max = 0.05\n",
    "r = 0.03\n",
    "\n",
    "# Bisection loop\n",
    "for i in range(100):\n",
    "    am.set_prices(r,r_to_w(am, r))\n",
    "    r_new = rd(am, am.compute_stationary_distribution())\n",
    "    if np.absolute(r_new-r)<crit:\n",
    "        break\n",
    "    elif r_new > r:\n",
    "        r_min = r\n",
    "        r = (r_max+r_min)/2.\n",
    "    else:\n",
    "        r_max = r\n",
    "        r = (r_max+r_min)/2.\n",
    "\n",
    "# Plot stationary distribution at the equilibrium\n",
    "fig, ax = plt.subplots(figsize=(11, 8))\n",
    "n=50                      # Determine the max asset level to show in the plot\n",
    "ax.plot(am.a_vals[0:n], am.g[0,0:n], lw=2, alpha=0.6, label='low income')\n",
    "ax.plot(am.a_vals[0:n], am.g[1,0:n], lw=2, alpha=0.6, label='high income')\n",
    "ax.grid()\n",
    "ax.set_xlabel('asset position')\n",
    "ax.set_ylabel('distribution')\n",
    "ax.legend(loc='upper right')\n",
    "plt.show()"
   ]
  },
  {
   "cell_type": "code",
   "execution_count": 48,
   "metadata": {
    "collapsed": false
   },
   "outputs": [
    {
     "data": {
      "text/plain": [
       "0.04605979919433595"
      ]
     },
     "execution_count": 48,
     "metadata": {},
     "output_type": "execute_result"
    }
   ],
   "source": [
    "am.r"
   ]
  }
 ],
 "metadata": {
  "kernelspec": {
   "display_name": "Python 3",
   "language": "python",
   "name": "python3"
  },
  "language_info": {
   "codemirror_mode": {
    "name": "ipython",
    "version": 3
   },
   "file_extension": ".py",
   "mimetype": "text/x-python",
   "name": "python",
   "nbconvert_exporter": "python",
   "pygments_lexer": "ipython3",
   "version": "3.5.2"
  }
 },
 "nbformat": 4,
 "nbformat_minor": 0
}
