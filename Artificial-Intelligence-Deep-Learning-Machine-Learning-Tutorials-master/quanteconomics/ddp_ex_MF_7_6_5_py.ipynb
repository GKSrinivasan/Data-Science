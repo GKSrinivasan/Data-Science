{
 "cells": [
  {
   "cell_type": "markdown",
   "metadata": {},
   "source": [
    "# DiscreteDP Example: Water Management"
   ]
  },
  {
   "cell_type": "markdown",
   "metadata": {},
   "source": [
    "**Daisuke Oyama**\n",
    "\n",
    "*Faculty of Economics, University of Tokyo*"
   ]
  },
  {
   "cell_type": "markdown",
   "metadata": {},
   "source": [
    "From Miranda and Fackler, <i>Applied Computational Economics and Finance</i>, 2002,\n",
    "Section 7.6.5"
   ]
  },
  {
   "cell_type": "code",
   "execution_count": 1,
   "metadata": {
    "collapsed": true
   },
   "outputs": [],
   "source": [
    "%matplotlib inline"
   ]
  },
  {
   "cell_type": "code",
   "execution_count": 2,
   "metadata": {
    "collapsed": true
   },
   "outputs": [],
   "source": [
    "import itertools\n",
    "import numpy as np\n",
    "from scipy import sparse\n",
    "import matplotlib.pyplot as plt\n",
    "from quantecon.markov import DiscreteDP"
   ]
  },
  {
   "cell_type": "code",
   "execution_count": 3,
   "metadata": {
    "collapsed": true
   },
   "outputs": [],
   "source": [
    "maxcap = 30\n",
    "n = maxcap + 1  # Number of states\n",
    "m = n           # Number of actions\n",
    "\n",
    "a1, b1 = 14, 0.8\n",
    "a2, b2 = 10, 0.4\n",
    "F = lambda x: a1 * x**b1  # Benefit from irrigation\n",
    "U = lambda c: a2 * c**b2  # Benefit from recreational consumption c = s - x\n",
    "\n",
    "probs = [0.1, 0.2, 0.4, 0.2, 0.1]\n",
    "supp_size = len(probs)\n",
    "\n",
    "beta = 0.9"
   ]
  },
  {
   "cell_type": "markdown",
   "metadata": {},
   "source": [
    "## Product formulation"
   ]
  },
  {
   "cell_type": "code",
   "execution_count": 4,
   "metadata": {
    "collapsed": true
   },
   "outputs": [],
   "source": [
    "# Reward array\n",
    "R = np.empty((n, m))\n",
    "for s, x in itertools.product(range(n), range(m)):\n",
    "    R[s, x] = F(x) + U(s-x) if x <= s else -np.inf"
   ]
  },
  {
   "cell_type": "code",
   "execution_count": 5,
   "metadata": {
    "collapsed": true
   },
   "outputs": [],
   "source": [
    "# Transition probability array\n",
    "Q = np.zeros((n, m, n))\n",
    "for s, x in itertools.product(range(n), range(m)):\n",
    "    if x <= s:\n",
    "        for j in range(supp_size):\n",
    "            Q[s, x, np.minimum(s-x+j, n-1)] += probs[j]"
   ]
  },
  {
   "cell_type": "code",
   "execution_count": 6,
   "metadata": {
    "collapsed": true
   },
   "outputs": [],
   "source": [
    "# Create a DiscreteDP\n",
    "ddp = DiscreteDP(R, Q, beta)"
   ]
  },
  {
   "cell_type": "code",
   "execution_count": 7,
   "metadata": {
    "collapsed": true
   },
   "outputs": [],
   "source": [
    "# Solve the dynamic optimization problem (by policy iteration)\n",
    "res = ddp.solve()"
   ]
  },
  {
   "cell_type": "code",
   "execution_count": 8,
   "metadata": {},
   "outputs": [
    {
     "data": {
      "text/plain": [
       "4"
      ]
     },
     "execution_count": 8,
     "metadata": {},
     "output_type": "execute_result"
    }
   ],
   "source": [
    "# Number of iterations\n",
    "res.num_iter"
   ]
  },
  {
   "cell_type": "code",
   "execution_count": 9,
   "metadata": {},
   "outputs": [
    {
     "data": {
      "text/plain": [
       "array([0, 0, 0, 1, 1, 1, 1, 1, 1, 1, 2, 2, 2, 2, 2, 2, 3, 3, 3, 3, 3, 4, 4,\n",
       "       4, 4, 4, 5, 5, 5, 5, 5])"
      ]
     },
     "execution_count": 9,
     "metadata": {},
     "output_type": "execute_result"
    }
   ],
   "source": [
    "# Optimal policy\n",
    "res.sigma"
   ]
  },
  {
   "cell_type": "code",
   "execution_count": 10,
   "metadata": {},
   "outputs": [
    {
     "data": {
      "text/plain": [
       "array([ 338.41645251,  361.98791375,  377.4257383 ,  391.4257383 ,\n",
       "        405.2360958 ,  417.9622843 ,  429.86115765,  441.17106277,\n",
       "        452.06672421,  462.66012607,  473.03554185,  483.40234488,\n",
       "        493.51237732,  503.35334776,  512.93797732,  522.31628408,\n",
       "        531.65601391,  540.88902181,  549.98545145,  558.93954761,\n",
       "        567.74582688,  576.47074514,  585.14046164,  593.69786291,\n",
       "        602.15675175,  610.510884  ,  618.80539659,  627.0562497 ,\n",
       "        635.2098027 ,  643.28164235,  651.27787278])"
      ]
     },
     "execution_count": 10,
     "metadata": {},
     "output_type": "execute_result"
    }
   ],
   "source": [
    "# Optimal value function\n",
    "res.v"
   ]
  },
  {
   "cell_type": "code",
   "execution_count": 11,
   "metadata": {},
   "outputs": [],
   "source": [
    "# Simulate the controlled Markov chain for num_rep times\n",
    "# and compute the average\n",
    "init = 0\n",
    "nyrs = 50\n",
    "ts_length = nyrs + 1\n",
    "num_rep = 10**4\n",
    "ave_path = np.zeros(ts_length)\n",
    "for i in range(num_rep):\n",
    "    path = res.mc.simulate(ts_length, init=init)\n",
    "    ave_path = (i/(i+1)) * ave_path + (1/(i+1)) * path"
   ]
  },
  {
   "cell_type": "code",
   "execution_count": 12,
   "metadata": {},
   "outputs": [
    {
     "data": {
      "text/plain": [
       "array([  0.    ,   2.0011,   3.69  ,   4.873 ,   5.9352,   6.9338,\n",
       "         7.815 ,   8.5886,   9.2374,   9.7102,  10.119 ,  10.4787,\n",
       "        10.7603,  10.9802,  11.1675,  11.3492,  11.5069,  11.6288,\n",
       "        11.7293,  11.814 ,  11.8893,  11.9602,  12.0263,  12.0765,\n",
       "        12.1334,  12.1872,  12.2247,  12.2737,  12.3002,  12.3108,\n",
       "        12.331 ,  12.3481,  12.3692,  12.3836,  12.3946,  12.4119,\n",
       "        12.4095,  12.4043,  12.4295,  12.4419,  12.4541,  12.4582,\n",
       "        12.4641,  12.4722,  12.4687,  12.4572,  12.4401,  12.4338,\n",
       "        12.4385,  12.4362,  12.4379])"
      ]
     },
     "execution_count": 12,
     "metadata": {},
     "output_type": "execute_result"
    }
   ],
   "source": [
    "ave_path"
   ]
  },
  {
   "cell_type": "code",
   "execution_count": 13,
   "metadata": {
    "collapsed": true
   },
   "outputs": [],
   "source": [
    "# Stationary distribution of the Markov chain\n",
    "stationary_dist = res.mc.stationary_distributions[0]"
   ]
  },
  {
   "cell_type": "code",
   "execution_count": 14,
   "metadata": {},
   "outputs": [
    {
     "data": {
      "text/plain": [
       "array([  0.00000000e+00,   0.00000000e+00,   1.15115026e-07,\n",
       "         1.03603524e-06,   8.05805183e-06,   5.98598136e-05,\n",
       "         4.44344001e-04,   3.29804550e-03,   2.44792103e-02,\n",
       "         6.08112470e-02,   1.20881706e-01,   1.39769288e-01,\n",
       "         1.50250205e-01,   1.50250201e-01,   1.39769301e-01,\n",
       "         1.20881695e-01,   6.08112091e-02,   2.44793930e-02,\n",
       "         3.29774206e-03,   4.43926815e-04,   5.70763048e-05,\n",
       "         6.34181165e-06,   0.00000000e+00,   0.00000000e+00,\n",
       "         0.00000000e+00,   0.00000000e+00,   0.00000000e+00,\n",
       "         0.00000000e+00,   0.00000000e+00,   0.00000000e+00,\n",
       "         0.00000000e+00])"
      ]
     },
     "execution_count": 14,
     "metadata": {},
     "output_type": "execute_result"
    }
   ],
   "source": [
    "stationary_dist"
   ]
  },
  {
   "cell_type": "code",
   "execution_count": 15,
   "metadata": {},
   "outputs": [
    {
     "data": {
      "image/png": "[encoded data removed]",
      "text/plain": [
       "<matplotlib.figure.Figure at 0x11a6b84e0>"
      ]
     },
     "metadata": {},
     "output_type": "display_data"
    }
   ],
   "source": [
    "# Plot sigma, v, ave_path, stationary_dist\n",
    "hspace = 0.3\n",
    "fig, axes = plt.subplots(2, 2, figsize=(12, 8+hspace))\n",
    "fig.subplots_adjust(hspace=hspace)\n",
    "\n",
    "axes[0, 0].plot(res.sigma, '*')\n",
    "axes[0, 0].set_xlim(-1, 31)\n",
    "axes[0, 0].set_ylim(-0.5, 5.5)\n",
    "axes[0, 0].set_xlabel('Water Level')\n",
    "axes[0, 0].set_ylabel('Irrigation')\n",
    "axes[0, 0].set_title('Optimal Irrigation Policy')\n",
    "\n",
    "axes[0, 1].plot(res.v)\n",
    "axes[0, 1].set_xlim(0, 30)\n",
    "y_lb, y_ub = 300, 700\n",
    "axes[0, 1].set_ylim(y_lb, y_ub)\n",
    "axes[0, 1].set_yticks(np.linspace(y_lb, y_ub, 5, endpoint=True))\n",
    "axes[0, 1].set_xlabel('Water Level')\n",
    "axes[0, 1].set_ylabel('Value')\n",
    "axes[0, 1].set_title('Optimal Value Function')\n",
    "\n",
    "axes[1, 0].plot(ave_path)\n",
    "axes[1, 0].set_xlim(0, nyrs)\n",
    "y_lb, y_ub = 0, 15\n",
    "axes[1, 0].set_ylim(y_lb, y_ub)\n",
    "axes[1, 0].set_yticks(np.linspace(y_lb, y_ub, 4, endpoint=True))\n",
    "axes[1, 0].set_xlabel('Year')\n",
    "axes[1, 0].set_ylabel('Water Level')\n",
    "axes[1, 0].set_title('Average Optimal State Path')\n",
    "\n",
    "axes[1, 1].bar(range(n), stationary_dist, align='center')\n",
    "axes[1, 1].set_xlim(-1, n)\n",
    "y_lb, y_ub = 0, 0.15\n",
    "axes[1, 1].set_ylim(y_lb, y_ub+0.01)\n",
    "axes[1, 1].set_yticks(np.linspace(y_lb, y_ub, 4, endpoint=True))\n",
    "axes[1, 1].set_xlabel('Water Level')\n",
    "axes[1, 1].set_ylabel('Probability')\n",
    "axes[1, 1].set_title('Stationary Distribution')\n",
    "\n",
    "plt.show()"
   ]
  },
  {
   "cell_type": "markdown",
   "metadata": {},
   "source": [
    "## State-action pairs formulation"
   ]
  },
  {
   "cell_type": "code",
   "execution_count": 16,
   "metadata": {
    "collapsed": true
   },
   "outputs": [],
   "source": [
    "# Arrays of state and action indices\n",
    "S = np.arange(n)\n",
    "X = np.arange(m)\n",
    "S_left = S.reshape(n, 1) - X.reshape(1, n)\n",
    "s_indices, a_indices = np.where(S_left >= 0)"
   ]
  },
  {
   "cell_type": "code",
   "execution_count": 17,
   "metadata": {
    "collapsed": true
   },
   "outputs": [],
   "source": [
    "# Reward vector\n",
    "S_left = S_left[s_indices, a_indices]\n",
    "R = F(X[a_indices]) + U(S_left)"
   ]
  },
  {
   "cell_type": "code",
   "execution_count": 18,
   "metadata": {},
   "outputs": [],
   "source": [
    "# Transition probability array\n",
    "L = len(S_left)\n",
    "Q = sparse.lil_matrix((L, n))\n",
    "for i, s_left in enumerate(S_left):\n",
    "    for j in range(supp_size):\n",
    "        Q[i, np.minimum(s_left+j, n-1)] += probs[j]"
   ]
  },
  {
   "cell_type": "code",
   "execution_count": 19,
   "metadata": {
    "collapsed": true
   },
   "outputs": [],
   "source": [
    "# Create a DiscreteDP\n",
    "ddp = DiscreteDP(R, Q, beta, s_indices, a_indices)"
   ]
  },
  {
   "cell_type": "code",
   "execution_count": 20,
   "metadata": {
    "collapsed": true
   },
   "outputs": [],
   "source": [
    "# Solve the dynamic optimization problem (by policy iteration)\n",
    "res = ddp.solve()"
   ]
  },
  {
   "cell_type": "code",
   "execution_count": 21,
   "metadata": {},
   "outputs": [
    {
     "data": {
      "text/plain": [
       "4"
      ]
     },
     "execution_count": 21,
     "metadata": {},
     "output_type": "execute_result"
    }
   ],
   "source": [
    "# Number of iterations\n",
    "res.num_iter"
   ]
  },
  {
   "cell_type": "code",
   "execution_count": 22,
   "metadata": {
    "collapsed": true
   },
   "outputs": [],
   "source": [
    "# Simulate the controlled Markov chain for num_rep times\n",
    "# and compute the average\n",
    "init = 0\n",
    "nyrs = 50\n",
    "ts_length = nyrs + 1\n",
    "num_rep = 10**4\n",
    "ave_path = np.zeros(ts_length)\n",
    "for i in range(num_rep):\n",
    "    path = res.mc.simulate(ts_length, init=init)\n",
    "    ave_path = (i/(i+1)) * ave_path + (1/(i+1)) * path"
   ]
  },
  {
   "cell_type": "code",
   "execution_count": 23,
   "metadata": {},
   "outputs": [],
   "source": [
    "# Stationary distribution of the Markov chain\n",
    "stationary_dist = res.mc.stationary_distributions[0]"
   ]
  },
  {
   "cell_type": "code",
   "execution_count": 24,
   "metadata": {},
   "outputs": [
    {
     "data": {
      "image/png": "[encoded data removed]",
      "text/plain": [
       "<matplotlib.figure.Figure at 0x11a7a3550>"
      ]
     },
     "metadata": {},
     "output_type": "display_data"
    }
   ],
   "source": [
    "# Plot sigma, v, ave_path, stationary_dist\n",
    "hspace = 0.3\n",
    "fig, axes = plt.subplots(2, 2, figsize=(12, 8+hspace))\n",
    "fig.subplots_adjust(hspace=hspace)\n",
    "\n",
    "axes[0, 0].plot(res.sigma, '*')\n",
    "axes[0, 0].set_xlim(-1, 31)\n",
    "axes[0, 0].set_ylim(-0.5, 5.5)\n",
    "axes[0, 0].set_xlabel('Water Level')\n",
    "axes[0, 0].set_ylabel('Irrigation')\n",
    "axes[0, 0].set_title('Optimal Irrigation Policy')\n",
    "\n",
    "axes[0, 1].plot(res.v)\n",
    "axes[0, 1].set_xlim(0, 30)\n",
    "y_lb, y_ub = 300, 700\n",
    "axes[0, 1].set_ylim(y_lb, y_ub)\n",
    "axes[0, 1].set_yticks(np.linspace(y_lb, y_ub, 5, endpoint=True))\n",
    "axes[0, 1].set_xlabel('Water Level')\n",
    "axes[0, 1].set_ylabel('Value')\n",
    "axes[0, 1].set_title('Optimal Value Function')\n",
    "\n",
    "axes[1, 0].plot(ave_path)\n",
    "axes[1, 0].set_xlim(0, nyrs)\n",
    "y_lb, y_ub = 0, 15\n",
    "axes[1, 0].set_ylim(y_lb, y_ub)\n",
    "axes[1, 0].set_yticks(np.linspace(y_lb, y_ub, 4, endpoint=True))\n",
    "axes[1, 0].set_xlabel('Year')\n",
    "axes[1, 0].set_ylabel('Water Level')\n",
    "axes[1, 0].set_title('Average Optimal State Path')\n",
    "\n",
    "axes[1, 1].bar(range(n), stationary_dist, align='center')\n",
    "axes[1, 1].set_xlim(-1, n)\n",
    "y_lb, y_ub = 0, 0.15\n",
    "axes[1, 1].set_ylim(y_lb, y_ub+0.01)\n",
    "axes[1, 1].set_yticks(np.linspace(y_lb, y_ub, 4, endpoint=True))\n",
    "axes[1, 1].set_xlabel('Water Level')\n",
    "axes[1, 1].set_ylabel('Probability')\n",
    "axes[1, 1].set_title('Stationary Distribution')\n",
    "\n",
    "plt.show()"
   ]
  },
  {
   "cell_type": "code",
   "execution_count": null,
   "metadata": {
    "collapsed": true
   },
   "outputs": [],
   "source": []
  }
 ],
 "metadata": {
  "kernelspec": {
   "display_name": "Python 3",
   "language": "python",
   "name": "python3"
  },
  "language_info": {
   "codemirror_mode": {
    "name": "ipython",
    "version": 3
   },
   "file_extension": ".py",
   "mimetype": "text/x-python",
   "name": "python",
   "nbconvert_exporter": "python",
   "pygments_lexer": "ipython3",
   "version": "3.6.1"
  }
 },
 "nbformat": 4,
 "nbformat_minor": 1
}
