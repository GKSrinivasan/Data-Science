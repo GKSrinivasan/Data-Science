{
 "cells": [
  {
   "cell_type": "markdown",
   "metadata": {},
   "source": [
    "# DiscreteDP Example: Mine Management"
   ]
  },
  {
   "cell_type": "markdown",
   "metadata": {},
   "source": [
    "**Daisuke Oyama**\n",
    "\n",
    "*Faculty of Economics, University of Tokyo*"
   ]
  },
  {
   "cell_type": "markdown",
   "metadata": {},
   "source": [
    "From Miranda and Fackler, <i>Applied Computational Economics and Finance</i>, 2002,\n",
    "Section 7.6.1"
   ]
  },
  {
   "cell_type": "code",
   "execution_count": 1,
   "metadata": {
    "collapsed": true
   },
   "outputs": [],
   "source": [
    "%matplotlib inline"
   ]
  },
  {
   "cell_type": "code",
   "execution_count": 2,
   "metadata": {
    "collapsed": true
   },
   "outputs": [],
   "source": [
    "import itertools\n",
    "import numpy as np\n",
    "from scipy import sparse\n",
    "import matplotlib.pyplot as plt\n",
    "from quantecon.markov import DiscreteDP"
   ]
  },
  {
   "cell_type": "markdown",
   "metadata": {},
   "source": [
    "The model is formulated with finite horizon in Section 7.2.1,\n",
    "but solved with infinite horizon in Section 7.6.1.\n",
    "Here we follow the latter."
   ]
  },
  {
   "cell_type": "code",
   "execution_count": 3,
   "metadata": {
    "collapsed": true
   },
   "outputs": [],
   "source": [
    "price = 1     # Market price of ore\n",
    "sbar = 100    # Upper bound of ore stock\n",
    "beta = 0.9    # Discount rate\n",
    "n = sbar + 1  # Number of states\n",
    "m = sbar + 1  # Number of actions\n",
    "\n",
    "# Cost function\n",
    "c = lambda s, x: x**2 / (1+s)"
   ]
  },
  {
   "cell_type": "markdown",
   "metadata": {},
   "source": [
    "## Product formulation"
   ]
  },
  {
   "cell_type": "markdown",
   "metadata": {},
   "source": [
    "This approch sets up the reward array `R` and the transition probability array `Q`\n",
    "as a 2-dimensional array of shape `(n, m)`\n",
    "and a 3-simensional array of shape `(n, m, n)`, respectively,\n",
    "where the reward is set to $-\\infty$ for infeasible state-action pairs\n",
    "(and the transition probability distribution is arbitrary for those pairs)."
   ]
  },
  {
   "cell_type": "markdown",
   "metadata": {},
   "source": [
    "Reward array:"
   ]
  },
  {
   "cell_type": "code",
   "execution_count": 4,
   "metadata": {
    "collapsed": true,
    "scrolled": true
   },
   "outputs": [],
   "source": [
    "R = np.empty((n, m))\n",
    "for s, x in itertools.product(range(n), range(m)):\n",
    "    R[s, x] = price * x - c(s, x) if x <= s else -np.inf"
   ]
  },
  {
   "cell_type": "markdown",
   "metadata": {},
   "source": [
    "(Degenerate) transition probability array:"
   ]
  },
  {
   "cell_type": "code",
   "execution_count": 5,
   "metadata": {
    "collapsed": true
   },
   "outputs": [],
   "source": [
    "Q = np.zeros((n, m, n))\n",
    "for s, x in itertools.product(range(n), range(m)):\n",
    "    if x <= s:\n",
    "        Q[s, x, s-x] = 1\n",
    "    else:\n",
    "        Q[s, x, 0] = 1  # Arbitrary"
   ]
  },
  {
   "cell_type": "markdown",
   "metadata": {},
   "source": [
    "Set up the dynamic program as a `DiscreteDP` instance:"
   ]
  },
  {
   "cell_type": "code",
   "execution_count": 6,
   "metadata": {
    "collapsed": true
   },
   "outputs": [],
   "source": [
    "ddp = DiscreteDP(R, Q, beta)"
   ]
  },
  {
   "cell_type": "markdown",
   "metadata": {},
   "source": [
    "Solve the optimization problem with the `solve` method,\n",
    "which by defalut uses the policy iteration algorithm:"
   ]
  },
  {
   "cell_type": "code",
   "execution_count": 7,
   "metadata": {
    "collapsed": true
   },
   "outputs": [],
   "source": [
    "res = ddp.solve()"
   ]
  },
  {
   "cell_type": "markdown",
   "metadata": {},
   "source": [
    "The number of iterations:"
   ]
  },
  {
   "cell_type": "code",
   "execution_count": 8,
   "metadata": {},
   "outputs": [
    {
     "data": {
      "text/plain": [
       "9"
      ]
     },
     "execution_count": 8,
     "metadata": {},
     "output_type": "execute_result"
    }
   ],
   "source": [
    "res.num_iter"
   ]
  },
  {
   "cell_type": "markdown",
   "metadata": {},
   "source": [
    "The controlled Markov chain is stored in `res.mc`.\n",
    "To simulate:"
   ]
  },
  {
   "cell_type": "code",
   "execution_count": 9,
   "metadata": {
    "collapsed": true
   },
   "outputs": [],
   "source": [
    "nyrs = 15\n",
    "spath = res.mc.simulate(nyrs+1, init=sbar)"
   ]
  },
  {
   "cell_type": "code",
   "execution_count": 10,
   "metadata": {},
   "outputs": [
    {
     "data": {
      "text/plain": [
       "array([100,  76,  58,  44,  33,  25,  19,  14,  11,   8,   6,   4,   3,\n",
       "         2,   1,   0])"
      ]
     },
     "execution_count": 10,
     "metadata": {},
     "output_type": "execute_result"
    }
   ],
   "source": [
    "spath"
   ]
  },
  {
   "cell_type": "markdown",
   "metadata": {},
   "source": [
    "Draw the graphs:"
   ]
  },
  {
   "cell_type": "code",
   "execution_count": 11,
   "metadata": {},
   "outputs": [
    {
     "data": {
      "image/png": "[encoded data removed]",
      "text/plain": [
       "<matplotlib.figure.Figure at 0x115733dd8>"
      ]
     },
     "metadata": {},
     "output_type": "display_data"
    }
   ],
   "source": [
    "wspace = 0.5\n",
    "hspace = 0.3\n",
    "fig = plt.figure(figsize=(12, 8+hspace))\n",
    "fig.subplots_adjust(wspace=wspace, hspace=hspace)\n",
    "ax0 = plt.subplot2grid((2, 4), (0, 0), colspan=2)\n",
    "ax1 = plt.subplot2grid((2, 4), (0, 2), colspan=2)\n",
    "ax2 = plt.subplot2grid((2, 4), (1, 1), colspan=2)\n",
    "\n",
    "ax0.plot(res.v)\n",
    "ax0.set_xlim(0, sbar)\n",
    "ax0.set_ylim(0, 60)\n",
    "ax0.set_xlabel('Stock')\n",
    "ax0.set_ylabel('Value')\n",
    "ax0.set_title('Optimal Value Function')\n",
    "\n",
    "ax1.plot(res.sigma)\n",
    "ax1.set_xlim(0, sbar)\n",
    "ax1.set_ylim(0, 25)\n",
    "ax1.set_xlabel('Stock')\n",
    "ax1.set_ylabel('Extraction')\n",
    "ax1.set_title('Optimal Extraction Policy')\n",
    "\n",
    "ax2.plot(spath)\n",
    "ax2.set_xlim(0, nyrs)\n",
    "ax2.set_ylim(0, sbar)\n",
    "ax2.set_xticks(np.linspace(0, 15, 4, endpoint=True))\n",
    "ax2.set_xlabel('Year')\n",
    "ax2.set_ylabel('Stock')\n",
    "ax2.set_title('Optimal State Path')\n",
    "\n",
    "plt.show()"
   ]
  },
  {
   "cell_type": "markdown",
   "metadata": {},
   "source": [
    "## State-action pairs formulation"
   ]
  },
  {
   "cell_type": "markdown",
   "metadata": {},
   "source": [
    "This approach assigns the rewards and transition probabilities\n",
    "only to feaslbe state-action pairs,\n",
    "setting up `R` and `Q` as a 1-dimensional array of length `L`\n",
    "and a 2-dimensional array of shape `(L, n)`, respectively.\n",
    "In particular, this allows us to formulate `Q` in\n",
    "[scipy sparse matrix format](http://docs.scipy.org/doc/scipy/reference/sparse.html)."
   ]
  },
  {
   "cell_type": "markdown",
   "metadata": {},
   "source": [
    "We need the arrays of feasible state and action indices:"
   ]
  },
  {
   "cell_type": "code",
   "execution_count": 12,
   "metadata": {
    "collapsed": true
   },
   "outputs": [],
   "source": [
    "S = np.arange(n)\n",
    "X = np.arange(m)\n",
    "\n",
    "# Values of remaining stock in the next period\n",
    "S_next = S.reshape(n, 1) - X.reshape(1, m)\n",
    "\n",
    "# Arrays of feasible state and action indices\n",
    "s_indices, a_indices = np.where(S_next >= 0)\n",
    "\n",
    "# Number of feasible state-action pairs\n",
    "L = len(s_indices)"
   ]
  },
  {
   "cell_type": "code",
   "execution_count": 13,
   "metadata": {},
   "outputs": [
    {
     "data": {
      "text/plain": [
       "5151"
      ]
     },
     "execution_count": 13,
     "metadata": {},
     "output_type": "execute_result"
    }
   ],
   "source": [
    "L"
   ]
  },
  {
   "cell_type": "code",
   "execution_count": 14,
   "metadata": {},
   "outputs": [
    {
     "data": {
      "text/plain": [
       "array([  0,   1,   1, ..., 100, 100, 100])"
      ]
     },
     "execution_count": 14,
     "metadata": {},
     "output_type": "execute_result"
    }
   ],
   "source": [
    "s_indices"
   ]
  },
  {
   "cell_type": "code",
   "execution_count": 15,
   "metadata": {
    "scrolled": false
   },
   "outputs": [
    {
     "data": {
      "text/plain": [
       "array([  0,   0,   1, ...,  98,  99, 100])"
      ]
     },
     "execution_count": 15,
     "metadata": {},
     "output_type": "execute_result"
    }
   ],
   "source": [
    "a_indices"
   ]
  },
  {
   "cell_type": "markdown",
   "metadata": {},
   "source": [
    "Reward vector:"
   ]
  },
  {
   "cell_type": "code",
   "execution_count": 16,
   "metadata": {
    "collapsed": true
   },
   "outputs": [],
   "source": [
    "R = np.empty(L)\n",
    "for i, (s, x) in enumerate(zip(s_indices, a_indices)):\n",
    "    R[i] = price * x - c(s, x)"
   ]
  },
  {
   "cell_type": "markdown",
   "metadata": {},
   "source": [
    "(Degenerate) transition probability array,\n",
    "where we use the [scipy.sparse.lil_matrix](http://docs.scipy.org/doc/scipy/reference/generated/scipy.sparse.lil_matrix.html) format,\n",
    "while any format will do\n",
    "(internally it will be converted to the [scipy.sparse.csr_matrix](https://docs.scipy.org/doc/scipy/reference/generated/scipy.sparse.csr_matrix.html) format):"
   ]
  },
  {
   "cell_type": "code",
   "execution_count": 17,
   "metadata": {
    "collapsed": true
   },
   "outputs": [],
   "source": [
    "Q = sparse.lil_matrix((L, n))\n",
    "it = np.nditer((s_indices, a_indices), flags=['c_index'])\n",
    "for s, x in it:\n",
    "    i = it.index\n",
    "    Q[i, s-x] = 1"
   ]
  },
  {
   "cell_type": "markdown",
   "metadata": {},
   "source": [
    "Alternatively, one can construct `Q` directly as a scipy.sparse.csr_matrix as follows: "
   ]
  },
  {
   "cell_type": "code",
   "execution_count": 18,
   "metadata": {
    "collapsed": true
   },
   "outputs": [],
   "source": [
    "# data = np.ones(L)\n",
    "# indices = s_indices - a_indices\n",
    "# indptr = np.arange(L+1)\n",
    "# Q = sparse.csr_matrix((data, indices, indptr), shape=(L, n))"
   ]
  },
  {
   "cell_type": "markdown",
   "metadata": {},
   "source": [
    "Set up the dynamic program as a `DiscreteDP` instance:"
   ]
  },
  {
   "cell_type": "code",
   "execution_count": 19,
   "metadata": {
    "collapsed": true
   },
   "outputs": [],
   "source": [
    "ddp_sp = DiscreteDP(R, Q, beta, s_indices, a_indices)"
   ]
  },
  {
   "cell_type": "markdown",
   "metadata": {},
   "source": [
    "Solve the optimization problem with the `solve` method,\n",
    "which by defalut uses the policy iteration algorithm:"
   ]
  },
  {
   "cell_type": "code",
   "execution_count": 20,
   "metadata": {
    "collapsed": true,
    "scrolled": false
   },
   "outputs": [],
   "source": [
    "res_sp = ddp_sp.solve()"
   ]
  },
  {
   "cell_type": "markdown",
   "metadata": {},
   "source": [
    "Number of iterations:"
   ]
  },
  {
   "cell_type": "code",
   "execution_count": 21,
   "metadata": {},
   "outputs": [
    {
     "data": {
      "text/plain": [
       "9"
      ]
     },
     "execution_count": 21,
     "metadata": {},
     "output_type": "execute_result"
    }
   ],
   "source": [
    "res_sp.num_iter"
   ]
  },
  {
   "cell_type": "markdown",
   "metadata": {},
   "source": [
    "Simulate the controlled Markov chain:"
   ]
  },
  {
   "cell_type": "code",
   "execution_count": 22,
   "metadata": {
    "collapsed": true
   },
   "outputs": [],
   "source": [
    "nyrs = 15\n",
    "spath_sp = res_sp.mc.simulate(nyrs+1, init=sbar)"
   ]
  },
  {
   "cell_type": "markdown",
   "metadata": {},
   "source": [
    "Draw the graphs:"
   ]
  },
  {
   "cell_type": "code",
   "execution_count": 23,
   "metadata": {},
   "outputs": [
    {
     "data": {
      "image/png": "[encoded data removed]",
      "text/plain": [
       "<matplotlib.figure.Figure at 0x11ae9b9e8>"
      ]
     },
     "metadata": {},
     "output_type": "display_data"
    }
   ],
   "source": [
    "wspace = 0.5\n",
    "hspace = 0.3\n",
    "fig = plt.figure(figsize=(12, 8+hspace))\n",
    "fig.subplots_adjust(wspace=wspace, hspace=hspace)\n",
    "ax0 = plt.subplot2grid((2, 4), (0, 0), colspan=2)\n",
    "ax1 = plt.subplot2grid((2, 4), (0, 2), colspan=2)\n",
    "ax2 = plt.subplot2grid((2, 4), (1, 1), colspan=2)\n",
    "\n",
    "ax0.plot(res_sp.v)\n",
    "ax0.set_xlim(0, sbar)\n",
    "ax0.set_ylim(0, 60)\n",
    "ax0.set_xlabel('Stock')\n",
    "ax0.set_ylabel('Value')\n",
    "ax0.set_title('Optimal Value Function')\n",
    "\n",
    "ax1.plot(res_sp.sigma)\n",
    "ax1.set_xlim(0, sbar)\n",
    "ax1.set_ylim(0, 25)\n",
    "ax1.set_xlabel('Stock')\n",
    "ax1.set_ylabel('Extraction')\n",
    "ax1.set_title('Optimal Extraction Policy')\n",
    "\n",
    "ax2.plot(spath_sp)\n",
    "ax2.set_xlim(0, nyrs)\n",
    "ax2.set_ylim(0, sbar)\n",
    "ax2.set_xticks(np.linspace(0, 15, 4, endpoint=True))\n",
    "ax2.set_xlabel('Year')\n",
    "ax2.set_ylabel('Stock')\n",
    "ax2.set_title('Optimal State Path')\n",
    "\n",
    "plt.show()"
   ]
  },
  {
   "cell_type": "code",
   "execution_count": null,
   "metadata": {
    "collapsed": true
   },
   "outputs": [],
   "source": []
  }
 ],
 "metadata": {
  "kernelspec": {
   "display_name": "Python 3",
   "language": "python",
   "name": "python3"
  },
  "language_info": {
   "codemirror_mode": {
    "name": "ipython",
    "version": 3
   },
   "file_extension": ".py",
   "mimetype": "text/x-python",
   "name": "python",
   "nbconvert_exporter": "python",
   "pygments_lexer": "ipython3",
   "version": "3.6.1"
  }
 },
 "nbformat": 4,
 "nbformat_minor": 2
}
