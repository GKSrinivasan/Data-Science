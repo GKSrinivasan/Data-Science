{
 "cells": [
  {
   "cell_type": "markdown",
   "metadata": {},
   "source": [
    "# Tables and ANNs\n",
    "\n",
    "Note: \n",
    "\n",
    "$$\\Large\\begin{array}{c|l|l} \\textbf{Paramter} & \\textbf{Variable} & \\textbf{Type} \n",
    "\\\\\\hline\\text{Inputs} & \\text{$x_i (i^{th}$ input)} & \\text{Real or binary}\n",
    "\\\\\\hline\\text{Synaptic weights} & \\text{$w_i$ associated with $x_i$} & \\text{Real, initialized with random values}\n",
    "\\\\\\hline\\text{Threshold bias} & \\text{$\\theta$} & \\text{Real, initialized with random values}\n",
    "\\\\\\hline\\text{Output} & \\text{$y$} & \\text{Binary}\n",
    "\\\\\\hline\\text{Activation function} & \\text{$g(.)$} & \\text{Step or bipolar step function}\n",
    "\\\\\\hline\\text{Training} & \\text{--} & \\text{Supervised}\n",
    "\\\\\\hline\\text{Learning rule} & \\text{--} & \\text{Whatever rule you're using}\n",
    "\\\\\\end{array}$$\n",
    "\n"
   ]
  },
  {
   "cell_type": "markdown",
   "metadata": {
    "collapsed": true
   },
   "source": [
    "## Biological neuron\n",
    "\n",
    "<img src=\"images/neuron.png\">\n",
    "\n",
    "\n",
    "\n",
    "\n",
    "\n",
    "\n",
    "\n",
    "## Synaptic connections between neurons\n",
    "\n",
    "<img src=\"images/synaptics.png\">\n",
    "\n",
    "\n",
    "$$\\Large\\begin{array}{c|l|l} \\textbf{Property} & \\textbf{Physical dimension} \n",
    "\\\\\\hline\\text{Brain mass} & \\text{$1.5 kg$}\n",
    "\\\\\\hline\\text{Energy consumed by brain} & \\text{$20 percent$}\n",
    "\\\\\\hline\\text{Neuron length} & \\text{$ 100 \\mu m$}\n",
    "\\\\\\hline\\text{Resting potential} & \\text{$- 70 mV$}\n",
    "\\\\\\hline\\text{Threshold potential} & \\text{$-55 mV$}\n",
    "\\\\\\hline\\text{Action potential (peak)} & \\text{$35 mV$}\n",
    "\\\\\\end{array}$$"
   ]
  },
  {
   "cell_type": "markdown",
   "metadata": {},
   "source": [
    "## ANN proposal by McCulloch and Pitts\n",
    "\n",
    "$$\\Large{u = \\sum_{i=1}^n w_i.x_i - \\theta} $$\n",
    "\n",
    "where,\n",
    "\n",
    "$$y = g(u)$$\n",
    "\n",
    "where we do the following:\n",
    "\n",
    "- we present a set of values to the neuron, which represent the input weight $w$\n",
    "- multiply each input $x$ to its synaptic weight\n",
    "- get the activation potential produced by the weighted sum of the input signal \n",
    "- and, then subtract the activation threshold $\\theta$\n",
    "- Finally, compile the output by employing the neural activation function in the activation potential with $g(u)$\n",
    "(here the activation functions are categorized in 2 groups, namely *partially -* and *fully differentiable functions* when we consider their full definition domains. "
   ]
  },
  {
   "cell_type": "markdown",
   "metadata": {},
   "source": [
    "$$\\Large{g(u) = \\frac{1 - e^{-\\beta . u}}{1 + e^{-\\beta . u}}}$$"
   ]
  },
  {
   "cell_type": "markdown",
   "metadata": {},
   "source": [
    "\n",
    "\n",
    "Given the density associated with output $y \\epsilon (0, 1)$\n",
    "\n",
    "Knowing that our $p_y(y)$ is the following:\n",
    "\n",
    "Do also note that,\n",
    "\n",
    "\\frac{1}{y(1 - y)\\sqrt2\\pi\\sigma^2}exp\\bigg\\-{\\frac{(ln\\frac{y}{1 - y} - \\mu)^2}{2\\sigma^2}\\bigg\\} $$\n",
    "\n",
    "we start to explore\n",
    "\n",
    "$$\\Large H(y) \\doteq-\\int\\limits_0^1 p_y(y) ln p_y(y)dy = \\Large\\int\\limits_{-\\infty}^{\\infty}\\frac{e^-\\frac{(x-\\mu)^2}{2\\sigma^2}}{\\sqrt{2\\pi\\sigma^2}} = \\Bigg\\{ \\frac{(z - \\mu)^2}{2\\mu^2} + ln \\bigg[g(z)(1 - (g(z)) \\sqrt{2\\pi\\sigma^2}\\bigg]\\Bigg\\}dz $$\n",
    "\n",
    "$$ = \\Large\\int\\limits_{-\\infty}^{\\infty}\\frac{e^-\\frac{(x-\\mu)^2}{2\\sigma^2}}{\\sqrt{2\\pi\\sigma^2}}\\Bigg\\{\\frac{(z - \\mu)^2}{2\\sigma^2} + ln\\sqrt{2\\pi\\sigma^2} + lng'(z)\\Bigg\\}dz = H(z) + E_z\\Bigg\\{lng'(z)\\Bigg\\}$$\n",
    "\n",
    "here $H(z), E_z\\bigg\\{.\\bigg\\}, g'(z)$ are the entropy, output and derivative of $g(.)$ compute on varialbes $z$.\n",
    "\n"
   ]
  },
  {
   "cell_type": "code",
   "execution_count": null,
   "metadata": {
    "collapsed": true
   },
   "outputs": [],
   "source": []
  }
 ],
 "metadata": {
  "kernelspec": {
   "display_name": "Python 3",
   "language": "python",
   "name": "python3"
  },
  "language_info": {
   "codemirror_mode": {
    "name": "ipython",
    "version": 3
   },
   "file_extension": ".py",
   "mimetype": "text/x-python",
   "name": "python",
   "nbconvert_exporter": "python",
   "pygments_lexer": "ipython3",
   "version": "3.6.1"
  }
 },
 "nbformat": 4,
 "nbformat_minor": 2
}
