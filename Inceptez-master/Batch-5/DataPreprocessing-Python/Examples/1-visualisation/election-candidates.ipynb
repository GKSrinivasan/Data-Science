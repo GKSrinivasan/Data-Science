{
 "cells": [
  {
   "cell_type": "markdown",
   "metadata": {},
   "source": [
    "# Age and Education Level of 2017 Czech Parliament Election Candidates\n",
    "\n",
    "Choose at least three parties that are going to participate in the election.\n",
    "Scrap the web pages https://volby.cz to get list of all candidates for the chosen parties\n",
    "(good place to start: https://volby.cz/pls/ps2017/ps11?xjazyk=CZ&xv=1&xt=1)."
   ]
  },
  {
   "cell_type": "code",
   "execution_count": 1,
   "metadata": {},
   "outputs": [],
   "source": [
    "import re\n",
    "from collections import Counter\n",
    "import requests\n",
    "import pandas as pd\n",
    "import matplotlib.pyplot as plt"
   ]
  },
  {
   "cell_type": "code",
   "execution_count": 2,
   "metadata": {},
   "outputs": [],
   "source": [
    "%matplotlib inline"
   ]
  },
  {
   "cell_type": "code",
   "execution_count": 3,
   "metadata": {},
   "outputs": [],
   "source": [
    "def read_party_df(url):\n",
    "    r = requests.get(url)\n",
    "    print(r.url, r.ok)\n",
    "    dfs = pd.read_html(r.text, flavor='bs4', skiprows=2)\n",
    "    column_names = {1: 'Kraj', 2: 'Number', 3: 'Name', 4: 'Age',\n",
    "                    5: 'Party', 6: 'Political affiliation'}\n",
    "    # first two rows are columns names\n",
    "    # drop uninmportant columns\n",
    "    # correct columns names\n",
    "    return dfs[0].drop([0, 1])\\\n",
    "                 .drop([0, 7, 8], axis=1)\\\n",
    "                 .rename(index=lambda x: x - 2, columns=column_names)"
   ]
  },
  {
   "cell_type": "code",
   "execution_count": 4,
   "metadata": {},
   "outputs": [
    {
     "name": "stdout",
     "output_type": "stream",
     "text": [
      "https://volby.cz/pls/ps2017/ps111?xjazyk=CZ&xkraj=0&xstrana=1&xv=1&xt=1 True\n",
      "https://volby.cz/pls/ps2017/ps111?xjazyk=CZ&xkraj=0&xstrana=4&xv=1&xt=1 True\n",
      "https://volby.cz/pls/ps2017/ps111?xjazyk=CZ&xkraj=0&xstrana=8&xv=1&xt=1 True\n",
      "https://volby.cz/pls/ps2017/ps111?xjazyk=CZ&xkraj=0&xstrana=15&xv=1&xt=1 True\n",
      "https://volby.cz/pls/ps2017/ps111?xjazyk=CZ&xkraj=0&xstrana=20&xv=1&xt=1 True\n",
      "https://volby.cz/pls/ps2017/ps111?xjazyk=CZ&xkraj=0&xstrana=21&xv=1&xt=1 True\n",
      "https://volby.cz/pls/ps2017/ps111?xjazyk=CZ&xkraj=0&xstrana=24&xv=1&xt=1 True\n",
      "https://volby.cz/pls/ps2017/ps111?xjazyk=CZ&xkraj=0&xstrana=28&xv=1&xt=1 True\n",
      "https://volby.cz/pls/ps2017/ps111?xjazyk=CZ&xkraj=0&xstrana=29&xv=1&xt=1 True\n",
      "<class 'pandas.core.frame.DataFrame'>\n",
      "MultiIndex: 3062 entries, (ANO, 0) to (ČSSD, 340)\n",
      "Data columns (total 8 columns):\n",
      "Age                      3062 non-null int64\n",
      "Kraj                     3062 non-null object\n",
      "Name                     3062 non-null object\n",
      "Number                   3062 non-null int64\n",
      "Party                    3062 non-null object\n",
      "Political affiliation    3062 non-null object\n",
      "9                        2721 non-null object\n",
      "10                       2721 non-null object\n",
      "dtypes: int64(2), object(6)\n",
      "memory usage: 203.1+ KB\n"
     ]
    }
   ],
   "source": [
    "url = 'https://volby.cz/pls/ps2017/ps111?xjazyk=CZ&xkraj=0&xstrana={}&xv=1&xt=1'\n",
    "urls = {\n",
    "    'ODS': url.format(1),\n",
    "    'ČSSD': url.format(4),\n",
    "    'KSČM': url.format(8),\n",
    "    'Piráti': url.format(15),\n",
    "    'TOP09': url.format(20),\n",
    "    'ANO': url.format(21),\n",
    "    'KDU-ČSL': url.format(24),\n",
    "    'DSSS': url.format(28),\n",
    "    'SPD': url.format(29),\n",
    "}\n",
    "\n",
    "df = pd.concat({party: read_party_df(url) for party, url in urls.items()})\n",
    "df.info()"
   ]
  },
  {
   "cell_type": "code",
   "execution_count": 5,
   "metadata": {},
   "outputs": [
    {
     "data": {
      "text/html": [
       "<div>\n",
       "<style scoped>\n",
       "    .dataframe tbody tr th:only-of-type {\n",
       "        vertical-align: middle;\n",
       "    }\n",
       "\n",
       "    .dataframe tbody tr th {\n",
       "        vertical-align: top;\n",
       "    }\n",
       "\n",
       "    .dataframe thead th {\n",
       "        text-align: right;\n",
       "    }\n",
       "</style>\n",
       "<table border=\"1\" class=\"dataframe\">\n",
       "  <thead>\n",
       "    <tr style=\"text-align: right;\">\n",
       "      <th></th>\n",
       "      <th></th>\n",
       "      <th>Age</th>\n",
       "      <th>Kraj</th>\n",
       "      <th>Name</th>\n",
       "      <th>Number</th>\n",
       "      <th>Party</th>\n",
       "      <th>Political affiliation</th>\n",
       "      <th>9</th>\n",
       "      <th>10</th>\n",
       "    </tr>\n",
       "  </thead>\n",
       "  <tbody>\n",
       "    <tr>\n",
       "      <th rowspan=\"5\" valign=\"top\">ANO</th>\n",
       "      <th>0</th>\n",
       "      <td>61</td>\n",
       "      <td>Pardubický</td>\n",
       "      <td>Akerman Miloš</td>\n",
       "      <td>14</td>\n",
       "      <td>ANO</td>\n",
       "      <td>ANO</td>\n",
       "      <td>-</td>\n",
       "      <td>10</td>\n",
       "    </tr>\n",
       "    <tr>\n",
       "      <th>1</th>\n",
       "      <td>48</td>\n",
       "      <td>Ústecký</td>\n",
       "      <td>Andrš Radek Ing.</td>\n",
       "      <td>22</td>\n",
       "      <td>ANO</td>\n",
       "      <td>ANO</td>\n",
       "      <td>-</td>\n",
       "      <td>15</td>\n",
       "    </tr>\n",
       "    <tr>\n",
       "      <th>2</th>\n",
       "      <td>52</td>\n",
       "      <td>Karlovarský</td>\n",
       "      <td>Arnoldová Lenka Mgr. et Mgr.</td>\n",
       "      <td>10</td>\n",
       "      <td>ANO</td>\n",
       "      <td>ANO</td>\n",
       "      <td>-</td>\n",
       "      <td>7</td>\n",
       "    </tr>\n",
       "    <tr>\n",
       "      <th>3</th>\n",
       "      <td>53</td>\n",
       "      <td>Jihomoravský</td>\n",
       "      <td>Artimová Zuzana Olga Ing.</td>\n",
       "      <td>24</td>\n",
       "      <td>ANO</td>\n",
       "      <td>ANO</td>\n",
       "      <td>-</td>\n",
       "      <td>17</td>\n",
       "    </tr>\n",
       "    <tr>\n",
       "      <th>4</th>\n",
       "      <td>43</td>\n",
       "      <td>Moravskoslezský</td>\n",
       "      <td>Babinec Radim Mgr.</td>\n",
       "      <td>27</td>\n",
       "      <td>ANO</td>\n",
       "      <td>ANO</td>\n",
       "      <td>-</td>\n",
       "      <td>17</td>\n",
       "    </tr>\n",
       "  </tbody>\n",
       "</table>\n",
       "</div>"
      ],
      "text/plain": [
       "       Age             Kraj                          Name  Number Party  \\\n",
       "ANO 0   61       Pardubický                 Akerman Miloš      14   ANO   \n",
       "    1   48          Ústecký              Andrš Radek Ing.      22   ANO   \n",
       "    2   52      Karlovarský  Arnoldová Lenka Mgr. et Mgr.      10   ANO   \n",
       "    3   53     Jihomoravský     Artimová Zuzana Olga Ing.      24   ANO   \n",
       "    4   43  Moravskoslezský            Babinec Radim Mgr.      27   ANO   \n",
       "\n",
       "      Political affiliation  9  10  \n",
       "ANO 0                   ANO  -  10  \n",
       "    1                   ANO  -  15  \n",
       "    2                   ANO  -   7  \n",
       "    3                   ANO  -  17  \n",
       "    4                   ANO  -  17  "
      ]
     },
     "execution_count": 5,
     "metadata": {},
     "output_type": "execute_result"
    }
   ],
   "source": [
    "df.head()"
   ]
  },
  {
   "cell_type": "markdown",
   "metadata": {},
   "source": [
    "## 1. Use Data Visualisation to Depict the Age Distribution of Candidates\n",
    "    \n",
    "- How many candidates are young, old and middle aged?\n",
    "- Which party has older candidates compared to the others?"
   ]
  },
  {
   "cell_type": "code",
   "execution_count": 6,
   "metadata": {},
   "outputs": [
    {
     "data": {
      "text/plain": [
       "count    3062.000000\n",
       "mean       46.711953\n",
       "std        11.993218\n",
       "min        21.000000\n",
       "25%        38.000000\n",
       "50%        47.000000\n",
       "75%        55.000000\n",
       "max        80.000000\n",
       "Name: Age, dtype: float64"
      ]
     },
     "execution_count": 6,
     "metadata": {},
     "output_type": "execute_result"
    }
   ],
   "source": [
    "df['Age'].describe()"
   ]
  },
  {
   "cell_type": "markdown",
   "metadata": {},
   "source": [
    "The histogram below shows how many candidates are young, old and middle aged.\n",
    "Most of all candidates are between circa 45 to 50 years old."
   ]
  },
  {
   "cell_type": "code",
   "execution_count": 7,
   "metadata": {},
   "outputs": [
    {
     "data": {
      "text/plain": [
       "Text(0,0.5,'Frequency')"
      ]
     },
     "execution_count": 7,
     "metadata": {},
     "output_type": "execute_result"
    },
    {
     "data": {
      "image/png": "[encoded data removed]",
      "text/plain": [
       "<matplotlib.figure.Figure at 0x1115b2208>"
      ]
     },
     "metadata": {},
     "output_type": "display_data"
    }
   ],
   "source": [
    "ax = df.hist(column='Age')[0][0]\n",
    "ax.set_title('All Candidates')\n",
    "ax.set_xlabel('Age')\n",
    "ax.set_ylabel('Frequency')"
   ]
  },
  {
   "cell_type": "code",
   "execution_count": 8,
   "metadata": {},
   "outputs": [
    {
     "data": {
      "text/html": [
       "<div>\n",
       "<style scoped>\n",
       "    .dataframe tbody tr th:only-of-type {\n",
       "        vertical-align: middle;\n",
       "    }\n",
       "\n",
       "    .dataframe tbody tr th {\n",
       "        vertical-align: top;\n",
       "    }\n",
       "\n",
       "    .dataframe thead th {\n",
       "        text-align: right;\n",
       "    }\n",
       "</style>\n",
       "<table border=\"1\" class=\"dataframe\">\n",
       "  <thead>\n",
       "    <tr style=\"text-align: right;\">\n",
       "      <th></th>\n",
       "      <th>count</th>\n",
       "      <th>mean</th>\n",
       "      <th>std</th>\n",
       "      <th>min</th>\n",
       "      <th>25%</th>\n",
       "      <th>50%</th>\n",
       "      <th>75%</th>\n",
       "      <th>max</th>\n",
       "    </tr>\n",
       "  </thead>\n",
       "  <tbody>\n",
       "    <tr>\n",
       "      <th>ANO</th>\n",
       "      <td>341.0</td>\n",
       "      <td>48.580645</td>\n",
       "      <td>10.252264</td>\n",
       "      <td>22.0</td>\n",
       "      <td>42.0</td>\n",
       "      <td>48.0</td>\n",
       "      <td>56.0</td>\n",
       "      <td>72.0</td>\n",
       "    </tr>\n",
       "    <tr>\n",
       "      <th>DSSS</th>\n",
       "      <td>341.0</td>\n",
       "      <td>44.422287</td>\n",
       "      <td>12.944587</td>\n",
       "      <td>21.0</td>\n",
       "      <td>34.0</td>\n",
       "      <td>44.0</td>\n",
       "      <td>53.0</td>\n",
       "      <td>74.0</td>\n",
       "    </tr>\n",
       "    <tr>\n",
       "      <th>KDU-ČSL</th>\n",
       "      <td>339.0</td>\n",
       "      <td>48.448378</td>\n",
       "      <td>11.325189</td>\n",
       "      <td>21.0</td>\n",
       "      <td>40.0</td>\n",
       "      <td>49.0</td>\n",
       "      <td>57.0</td>\n",
       "      <td>80.0</td>\n",
       "    </tr>\n",
       "    <tr>\n",
       "      <th>KSČM</th>\n",
       "      <td>341.0</td>\n",
       "      <td>49.841642</td>\n",
       "      <td>12.639044</td>\n",
       "      <td>21.0</td>\n",
       "      <td>41.0</td>\n",
       "      <td>51.0</td>\n",
       "      <td>61.0</td>\n",
       "      <td>74.0</td>\n",
       "    </tr>\n",
       "    <tr>\n",
       "      <th>ODS</th>\n",
       "      <td>341.0</td>\n",
       "      <td>48.563050</td>\n",
       "      <td>10.492279</td>\n",
       "      <td>22.0</td>\n",
       "      <td>42.0</td>\n",
       "      <td>49.0</td>\n",
       "      <td>55.0</td>\n",
       "      <td>74.0</td>\n",
       "    </tr>\n",
       "    <tr>\n",
       "      <th>Piráti</th>\n",
       "      <td>336.0</td>\n",
       "      <td>37.157738</td>\n",
       "      <td>10.743778</td>\n",
       "      <td>21.0</td>\n",
       "      <td>30.0</td>\n",
       "      <td>34.0</td>\n",
       "      <td>43.0</td>\n",
       "      <td>71.0</td>\n",
       "    </tr>\n",
       "    <tr>\n",
       "      <th>SPD</th>\n",
       "      <td>341.0</td>\n",
       "      <td>47.900293</td>\n",
       "      <td>12.152537</td>\n",
       "      <td>21.0</td>\n",
       "      <td>39.0</td>\n",
       "      <td>48.0</td>\n",
       "      <td>57.0</td>\n",
       "      <td>74.0</td>\n",
       "    </tr>\n",
       "    <tr>\n",
       "      <th>TOP09</th>\n",
       "      <td>341.0</td>\n",
       "      <td>47.085044</td>\n",
       "      <td>11.364099</td>\n",
       "      <td>21.0</td>\n",
       "      <td>40.0</td>\n",
       "      <td>47.0</td>\n",
       "      <td>55.0</td>\n",
       "      <td>79.0</td>\n",
       "    </tr>\n",
       "    <tr>\n",
       "      <th>ČSSD</th>\n",
       "      <td>341.0</td>\n",
       "      <td>48.278592</td>\n",
       "      <td>10.730185</td>\n",
       "      <td>24.0</td>\n",
       "      <td>41.0</td>\n",
       "      <td>49.0</td>\n",
       "      <td>57.0</td>\n",
       "      <td>74.0</td>\n",
       "    </tr>\n",
       "  </tbody>\n",
       "</table>\n",
       "</div>"
      ],
      "text/plain": [
       "         count       mean        std   min   25%   50%   75%   max\n",
       "ANO      341.0  48.580645  10.252264  22.0  42.0  48.0  56.0  72.0\n",
       "DSSS     341.0  44.422287  12.944587  21.0  34.0  44.0  53.0  74.0\n",
       "KDU-ČSL  339.0  48.448378  11.325189  21.0  40.0  49.0  57.0  80.0\n",
       "KSČM     341.0  49.841642  12.639044  21.0  41.0  51.0  61.0  74.0\n",
       "ODS      341.0  48.563050  10.492279  22.0  42.0  49.0  55.0  74.0\n",
       "Piráti   336.0  37.157738  10.743778  21.0  30.0  34.0  43.0  71.0\n",
       "SPD      341.0  47.900293  12.152537  21.0  39.0  48.0  57.0  74.0\n",
       "TOP09    341.0  47.085044  11.364099  21.0  40.0  47.0  55.0  79.0\n",
       "ČSSD     341.0  48.278592  10.730185  24.0  41.0  49.0  57.0  74.0"
      ]
     },
     "execution_count": 8,
     "metadata": {},
     "output_type": "execute_result"
    }
   ],
   "source": [
    "df['Age'].groupby(level=0).describe()"
   ]
  },
  {
   "cell_type": "markdown",
   "metadata": {},
   "source": [
    "The biggest number of young candidates are in the party Piráti and the oldest party is KSČM. Insteresting is histogram of ODS party which show the majority of middle aged candidates."
   ]
  },
  {
   "cell_type": "code",
   "execution_count": 9,
   "metadata": {},
   "outputs": [
    {
     "data": {
      "image/png": "[encoded data removed]",
      "text/plain": [
       "<matplotlib.figure.Figure at 0x1115a1ac8>"
      ]
     },
     "metadata": {},
     "output_type": "display_data"
    }
   ],
   "source": [
    "axes = df.hist(column='Age', by='Party', sharex=True, figsize=(8, 8))\n",
    "for ax in axes.ravel():\n",
    "    ax.set_xlabel('Age')\n",
    "    ax.set_ylabel('Frequency')"
   ]
  },
  {
   "cell_type": "code",
   "execution_count": 10,
   "metadata": {
    "scrolled": true
   },
   "outputs": [
    {
     "data": {
      "text/plain": [
       "Text(0,0.5,'Age')"
      ]
     },
     "execution_count": 10,
     "metadata": {},
     "output_type": "execute_result"
    },
    {
     "data": {
      "image/png": "[encoded data removed]",
      "text/plain": [
       "<matplotlib.figure.Figure at 0x110f470b8>"
      ]
     },
     "metadata": {},
     "output_type": "display_data"
    }
   ],
   "source": [
    "ax = df.boxplot(column='Age', by='Party')\n",
    "ax.set_title('')\n",
    "ax.set_ylabel('Age')"
   ]
  },
  {
   "cell_type": "markdown",
   "metadata": {},
   "source": [
    "## 2. Use the Titles of Candidates to Get the Idea on Education Levels\n",
    "\n",
    "\n",
    "Try to distinguish at least three education levels corresponding to:\n",
    "\n",
    "- no title,\n",
    "- Bc.,\n",
    "- Ing., Mgr. and analogous and higher.\n",
    "    \n",
    "E.g. *Barteček Ivo prof. PhDr. CSc.* has three titles 'prof.', 'PhDr.' and 'CSc.'.\n",
    "\n",
    "Your visualisation should answer at least these questions:\n",
    "\n",
    "- How frequent are the education levels of candidates for each of the choosen parties?\n",
    "- How *'educated'* is each party compared to the others?\n",
    "- How frequent is each education level within all candidates?"
   ]
  },
  {
   "cell_type": "code",
   "execution_count": 11,
   "metadata": {
    "scrolled": true
   },
   "outputs": [
    {
     "data": {
      "text/plain": [
       "ANO  0                      [Akerman, Miloš]\n",
       "     1                  [Andrš, Radek, Ing.]\n",
       "     2    [Arnoldová, Lenka, Mgr., et, Mgr.]\n",
       "     3        [Artimová, Zuzana, Olga, Ing.]\n",
       "     4                [Babinec, Radim, Mgr.]\n",
       "Name: Name, dtype: object"
      ]
     },
     "execution_count": 11,
     "metadata": {},
     "output_type": "execute_result"
    }
   ],
   "source": [
    "splited_names = df['Name'].apply(lambda x: re.split(' |, +', x))\n",
    "splited_names.head()"
   ]
  },
  {
   "cell_type": "code",
   "execution_count": 12,
   "metadata": {},
   "outputs": [
    {
     "name": "stdout",
     "output_type": "stream",
     "text": [
      "bachelors: BBA, B.A., BSc., Bc., BA, BD, LL.B.\n",
      "masters: MUDr., prof., Ph.D., doc., MFA, ThLic., JUDr., arch., MBA, ThMgr., CSc., EBIR, RSDr., LL.M., Th.D., Mgr., DBA, Ing., MVDr., FICS, PhDr., Dr., PaedDr., PharmDr., MPA, ING, MSc., MBE, MgA., S.E., EUR, RNDr., M.A.\n"
     ]
    }
   ],
   "source": [
    "# split each name to list by whitespace\n",
    "# flatten the list\n",
    "# convert the list to set\n",
    "counter = Counter([item for sublist in splited_names.tolist() for item in sublist])\n",
    "\n",
    "# assume that title ends with '.' (e.g. Bc., Ing.) or\n",
    "# is uppercase (e.g. MBA, BA)\n",
    "degrees = {x for x in counter if x.endswith('.') or x.isupper()}\n",
    "# let's make some assuptions\n",
    "# do not care about 'ml.'\n",
    "# if somebody is 'dr. h. c.' he or she either buy it or is master anyway\n",
    "# 'DiS.' is considered as no degree, sorry\n",
    "degrees -= {'ml.', 'Dr.h.c.', 'dr.', 'h.', 'c.', 'DiS.', 'Dis.', 'dipl.', 'um.'}\n",
    "# bachelor's degrees in this case start with 'B' or it's 'LL.B.'\n",
    "bachelors = {degree for degree in degrees if degree.startswith('B')} | {'LL.B.'}\n",
    "masters = degrees - bachelors\n",
    "print('bachelors:', ', '.join(bachelors))\n",
    "print('masters:', ', '.join(masters))"
   ]
  },
  {
   "cell_type": "code",
   "execution_count": 13,
   "metadata": {
    "scrolled": true
   },
   "outputs": [
    {
     "data": {
      "text/html": [
       "<div>\n",
       "<style scoped>\n",
       "    .dataframe tbody tr th:only-of-type {\n",
       "        vertical-align: middle;\n",
       "    }\n",
       "\n",
       "    .dataframe tbody tr th {\n",
       "        vertical-align: top;\n",
       "    }\n",
       "\n",
       "    .dataframe thead th {\n",
       "        text-align: right;\n",
       "    }\n",
       "</style>\n",
       "<table border=\"1\" class=\"dataframe\">\n",
       "  <thead>\n",
       "    <tr style=\"text-align: right;\">\n",
       "      <th></th>\n",
       "      <th></th>\n",
       "      <th>Age</th>\n",
       "      <th>Kraj</th>\n",
       "      <th>Name</th>\n",
       "      <th>Number</th>\n",
       "      <th>Party</th>\n",
       "      <th>Political affiliation</th>\n",
       "      <th>9</th>\n",
       "      <th>10</th>\n",
       "      <th>Education</th>\n",
       "    </tr>\n",
       "  </thead>\n",
       "  <tbody>\n",
       "    <tr>\n",
       "      <th rowspan=\"5\" valign=\"top\">ČSSD</th>\n",
       "      <th>336</th>\n",
       "      <td>50</td>\n",
       "      <td>Královéhradecký</td>\n",
       "      <td>Zimová Michaela Ing.</td>\n",
       "      <td>15</td>\n",
       "      <td>ČSSD</td>\n",
       "      <td>ČSSD</td>\n",
       "      <td>-</td>\n",
       "      <td>14</td>\n",
       "      <td>Master</td>\n",
       "    </tr>\n",
       "    <tr>\n",
       "      <th>337</th>\n",
       "      <td>37</td>\n",
       "      <td>Ústecký</td>\n",
       "      <td>Znojemský Lukáš Ing.</td>\n",
       "      <td>14</td>\n",
       "      <td>ČSSD</td>\n",
       "      <td>ČSSD</td>\n",
       "      <td>-</td>\n",
       "      <td>13</td>\n",
       "      <td>Master</td>\n",
       "    </tr>\n",
       "    <tr>\n",
       "      <th>338</th>\n",
       "      <td>55</td>\n",
       "      <td>Plzeňský</td>\n",
       "      <td>Zrůbek Karel Mgr.</td>\n",
       "      <td>8</td>\n",
       "      <td>ČSSD</td>\n",
       "      <td>ČSSD</td>\n",
       "      <td>-</td>\n",
       "      <td>7</td>\n",
       "      <td>Master</td>\n",
       "    </tr>\n",
       "    <tr>\n",
       "      <th>339</th>\n",
       "      <td>34</td>\n",
       "      <td>Vysočina</td>\n",
       "      <td>Žák Milan Bc. DiS.</td>\n",
       "      <td>18</td>\n",
       "      <td>ČSSD</td>\n",
       "      <td>ČSSD</td>\n",
       "      <td>-</td>\n",
       "      <td>17</td>\n",
       "      <td>Bachelor</td>\n",
       "    </tr>\n",
       "    <tr>\n",
       "      <th>340</th>\n",
       "      <td>52</td>\n",
       "      <td>Liberecký</td>\n",
       "      <td>Žatecká Romana Mgr.</td>\n",
       "      <td>5</td>\n",
       "      <td>ČSSD</td>\n",
       "      <td>ČSSD</td>\n",
       "      <td>-</td>\n",
       "      <td>-</td>\n",
       "      <td>Master</td>\n",
       "    </tr>\n",
       "  </tbody>\n",
       "</table>\n",
       "</div>"
      ],
      "text/plain": [
       "          Age             Kraj                  Name  Number Party  \\\n",
       "ČSSD 336   50  Královéhradecký  Zimová Michaela Ing.      15  ČSSD   \n",
       "     337   37          Ústecký  Znojemský Lukáš Ing.      14  ČSSD   \n",
       "     338   55         Plzeňský     Zrůbek Karel Mgr.       8  ČSSD   \n",
       "     339   34         Vysočina    Žák Milan Bc. DiS.      18  ČSSD   \n",
       "     340   52        Liberecký   Žatecká Romana Mgr.       5  ČSSD   \n",
       "\n",
       "         Political affiliation  9  10 Education  \n",
       "ČSSD 336                  ČSSD  -  14    Master  \n",
       "     337                  ČSSD  -  13    Master  \n",
       "     338                  ČSSD  -   7    Master  \n",
       "     339                  ČSSD  -  17  Bachelor  \n",
       "     340                  ČSSD  -   -    Master  "
      ]
     },
     "execution_count": 13,
     "metadata": {},
     "output_type": "execute_result"
    }
   ],
   "source": [
    "def classify_titles(xs):\n",
    "    # TODO try sets intersection\n",
    "    xs = set(xs)\n",
    "    if not masters.isdisjoint(xs):\n",
    "        return 'Master'\n",
    "    if not bachelors.isdisjoint(xs):\n",
    "        return 'Bachelor'\n",
    "    return 'No title'\n",
    "\n",
    "df['Education'] = splited_names.apply(classify_titles)\n",
    "df.tail()"
   ]
  },
  {
   "cell_type": "code",
   "execution_count": 14,
   "metadata": {},
   "outputs": [],
   "source": [
    "edu_counts = df['Education'].groupby(level=0)\\\n",
    "                            .value_counts()\\\n",
    "                            .unstack(level=1)\n",
    "edu_percent = edu_counts.div(edu_counts.sum(axis=1), axis=0)\\\n",
    "                        .multiply(100)[['No title', 'Bachelor', 'Master']]"
   ]
  },
  {
   "cell_type": "markdown",
   "metadata": {},
   "source": [
    "This visualization show education distribution across choosen parties. The most 'uneducated' parties are DSSS and SPD. There is not a lot of bachelors across all parties. Master degree or higher is the most common between candidates."
   ]
  },
  {
   "cell_type": "code",
   "execution_count": 15,
   "metadata": {},
   "outputs": [
    {
     "data": {
      "text/plain": [
       "Text(0,0.5,'Percentage in Party')"
      ]
     },
     "execution_count": 15,
     "metadata": {},
     "output_type": "execute_result"
    },
    {
     "data": {
      "image/png": "[encoded data removed]",
      "text/plain": [
       "<matplotlib.figure.Figure at 0x110367828>"
      ]
     },
     "metadata": {},
     "output_type": "display_data"
    }
   ],
   "source": [
    "fig, (ax1, ax2) = plt.subplots(nrows=1, ncols=2, figsize=(15, 5))\n",
    "edu_percent.plot.bar(ax=ax1, grid=True)\n",
    "edu_percent.T.plot.bar(ax=ax2, grid=True)\n",
    "ax1.set_xlabel('Party')\n",
    "ax1.set_ylabel('Percentage in Party')"
   ]
  },
  {
   "cell_type": "markdown",
   "metadata": {},
   "source": [
    "The bar chart below shows education level within all candidates."
   ]
  },
  {
   "cell_type": "code",
   "execution_count": 16,
   "metadata": {},
   "outputs": [
    {
     "data": {
      "text/plain": [
       "Text(0,0.5,'Count')"
      ]
     },
     "execution_count": 16,
     "metadata": {},
     "output_type": "execute_result"
    },
    {
     "data": {
      "image/png": "[encoded data removed]",
      "text/plain": [
       "<matplotlib.figure.Figure at 0x10ba54e10>"
      ]
     },
     "metadata": {},
     "output_type": "display_data"
    }
   ],
   "source": [
    "axes = df['Education'].value_counts()[['No title', 'Bachelor', 'Master']].plot(kind='bar', grid=True)\n",
    "axes.set_title('Education Level of All Candidates')\n",
    "axes.set_ylabel('Count')"
   ]
  },
  {
   "cell_type": "code",
   "execution_count": 17,
   "metadata": {},
   "outputs": [
    {
     "data": {
      "text/html": [
       "<div>\n",
       "<style scoped>\n",
       "    .dataframe tbody tr th:only-of-type {\n",
       "        vertical-align: middle;\n",
       "    }\n",
       "\n",
       "    .dataframe tbody tr th {\n",
       "        vertical-align: top;\n",
       "    }\n",
       "\n",
       "    .dataframe thead th {\n",
       "        text-align: right;\n",
       "    }\n",
       "</style>\n",
       "<table border=\"1\" class=\"dataframe\">\n",
       "  <thead>\n",
       "    <tr style=\"text-align: right;\">\n",
       "      <th></th>\n",
       "      <th></th>\n",
       "      <th>Age</th>\n",
       "      <th>Kraj</th>\n",
       "      <th>Name</th>\n",
       "      <th>Number</th>\n",
       "      <th>Party</th>\n",
       "      <th>Political affiliation</th>\n",
       "      <th>9</th>\n",
       "      <th>10</th>\n",
       "      <th>Education</th>\n",
       "    </tr>\n",
       "  </thead>\n",
       "  <tbody>\n",
       "    <tr>\n",
       "      <th rowspan=\"2\" valign=\"top\">DSSS</th>\n",
       "      <th>214</th>\n",
       "      <td>35</td>\n",
       "      <td>Středočeský</td>\n",
       "      <td>Poláček Jan dr. h. c.</td>\n",
       "      <td>6</td>\n",
       "      <td>DSSS</td>\n",
       "      <td>DSSS</td>\n",
       "      <td>NaN</td>\n",
       "      <td>NaN</td>\n",
       "      <td>No title</td>\n",
       "    </tr>\n",
       "    <tr>\n",
       "      <th>215</th>\n",
       "      <td>56</td>\n",
       "      <td>Středočeský</td>\n",
       "      <td>Poláčková Alena dr. h. c.</td>\n",
       "      <td>1</td>\n",
       "      <td>DSSS</td>\n",
       "      <td>DSSS</td>\n",
       "      <td>NaN</td>\n",
       "      <td>NaN</td>\n",
       "      <td>No title</td>\n",
       "    </tr>\n",
       "  </tbody>\n",
       "</table>\n",
       "</div>"
      ],
      "text/plain": [
       "          Age         Kraj                       Name  Number Party  \\\n",
       "DSSS 214   35  Středočeský      Poláček Jan dr. h. c.       6  DSSS   \n",
       "     215   56  Středočeský  Poláčková Alena dr. h. c.       1  DSSS   \n",
       "\n",
       "         Political affiliation    9   10 Education  \n",
       "DSSS 214                  DSSS  NaN  NaN  No title  \n",
       "     215                  DSSS  NaN  NaN  No title  "
      ]
     },
     "execution_count": 17,
     "metadata": {},
     "output_type": "execute_result"
    }
   ],
   "source": [
    "# this is interesting\n",
    "df[df['Name'].str.find('dr. h. c.') > -1]"
   ]
  },
  {
   "cell_type": "code",
   "execution_count": 18,
   "metadata": {
    "scrolled": false
   },
   "outputs": [
    {
     "data": {
      "text/html": [
       "<div>\n",
       "<style scoped>\n",
       "    .dataframe tbody tr th:only-of-type {\n",
       "        vertical-align: middle;\n",
       "    }\n",
       "\n",
       "    .dataframe tbody tr th {\n",
       "        vertical-align: top;\n",
       "    }\n",
       "\n",
       "    .dataframe thead th {\n",
       "        text-align: right;\n",
       "    }\n",
       "</style>\n",
       "<table border=\"1\" class=\"dataframe\">\n",
       "  <thead>\n",
       "    <tr style=\"text-align: right;\">\n",
       "      <th></th>\n",
       "      <th></th>\n",
       "      <th>Age</th>\n",
       "      <th>Kraj</th>\n",
       "      <th>Name</th>\n",
       "      <th>Number</th>\n",
       "      <th>Party</th>\n",
       "      <th>Political affiliation</th>\n",
       "      <th>9</th>\n",
       "      <th>10</th>\n",
       "      <th>Education</th>\n",
       "    </tr>\n",
       "  </thead>\n",
       "  <tbody>\n",
       "    <tr>\n",
       "      <th rowspan=\"6\" valign=\"top\">ANO</th>\n",
       "      <th>104</th>\n",
       "      <td>61</td>\n",
       "      <td>Liberecký</td>\n",
       "      <td>Jáč Ivan prof. Ing. CSc.</td>\n",
       "      <td>2</td>\n",
       "      <td>ANO</td>\n",
       "      <td>BEZPP</td>\n",
       "      <td>*</td>\n",
       "      <td>3</td>\n",
       "      <td>Master</td>\n",
       "    </tr>\n",
       "    <tr>\n",
       "      <th>235</th>\n",
       "      <td>68</td>\n",
       "      <td>Jihomoravský</td>\n",
       "      <td>Rais Karel prof. Ing. CSc., MBA, Dr.h.c.</td>\n",
       "      <td>2</td>\n",
       "      <td>ANO</td>\n",
       "      <td>ANO</td>\n",
       "      <td>*</td>\n",
       "      <td>2</td>\n",
       "      <td>Master</td>\n",
       "    </tr>\n",
       "    <tr>\n",
       "      <th>285</th>\n",
       "      <td>65</td>\n",
       "      <td>Středočeský</td>\n",
       "      <td>Špičák Julius prof. MUDr. CSc.</td>\n",
       "      <td>6</td>\n",
       "      <td>ANO</td>\n",
       "      <td>ANO</td>\n",
       "      <td>*</td>\n",
       "      <td>6</td>\n",
       "      <td>Master</td>\n",
       "    </tr>\n",
       "    <tr>\n",
       "      <th>306</th>\n",
       "      <td>66</td>\n",
       "      <td>Hl. m. Praha</td>\n",
       "      <td>Válková Helena prof. JUDr. CSc.</td>\n",
       "      <td>7</td>\n",
       "      <td>ANO</td>\n",
       "      <td>ANO</td>\n",
       "      <td>*</td>\n",
       "      <td>3</td>\n",
       "      <td>Master</td>\n",
       "    </tr>\n",
       "    <tr>\n",
       "      <th>322</th>\n",
       "      <td>58</td>\n",
       "      <td>Moravskoslezský</td>\n",
       "      <td>Vondrák Ivo prof. Ing. CSc.</td>\n",
       "      <td>1</td>\n",
       "      <td>ANO</td>\n",
       "      <td>ANO</td>\n",
       "      <td>*</td>\n",
       "      <td>1</td>\n",
       "      <td>Master</td>\n",
       "    </tr>\n",
       "    <tr>\n",
       "      <th>326</th>\n",
       "      <td>64</td>\n",
       "      <td>Jihomoravský</td>\n",
       "      <td>Vyzula Rostislav prof. MUDr. CSc.</td>\n",
       "      <td>4</td>\n",
       "      <td>ANO</td>\n",
       "      <td>ANO</td>\n",
       "      <td>*</td>\n",
       "      <td>4</td>\n",
       "      <td>Master</td>\n",
       "    </tr>\n",
       "    <tr>\n",
       "      <th>KDU-ČSL</th>\n",
       "      <th>33</th>\n",
       "      <td>64</td>\n",
       "      <td>Královéhradecký</td>\n",
       "      <td>Čáp Jan prof. MUDr. CSc.</td>\n",
       "      <td>13</td>\n",
       "      <td>KDU-ČSL</td>\n",
       "      <td>KDU-ČSL</td>\n",
       "      <td>-</td>\n",
       "      <td>12</td>\n",
       "      <td>Master</td>\n",
       "    </tr>\n",
       "    <tr>\n",
       "      <th>KSČM</th>\n",
       "      <th>97</th>\n",
       "      <td>63</td>\n",
       "      <td>Hl. m. Praha</td>\n",
       "      <td>Hudeček Jiří prof. RNDr. CSc.</td>\n",
       "      <td>25</td>\n",
       "      <td>KSČM</td>\n",
       "      <td>SDS</td>\n",
       "      <td>-</td>\n",
       "      <td>24</td>\n",
       "      <td>Master</td>\n",
       "    </tr>\n",
       "    <tr>\n",
       "      <th rowspan=\"4\" valign=\"top\">ODS</th>\n",
       "      <th>7</th>\n",
       "      <td>64</td>\n",
       "      <td>Olomoucký</td>\n",
       "      <td>Barteček Ivo prof. PhDr. CSc.</td>\n",
       "      <td>5</td>\n",
       "      <td>ODS</td>\n",
       "      <td>Soukromníci</td>\n",
       "      <td>-</td>\n",
       "      <td>4</td>\n",
       "      <td>Master</td>\n",
       "    </tr>\n",
       "    <tr>\n",
       "      <th>61</th>\n",
       "      <td>53</td>\n",
       "      <td>Jihomoravský</td>\n",
       "      <td>Fiala Petr prof. PhDr. Ph.D., LL.M.</td>\n",
       "      <td>1</td>\n",
       "      <td>ODS</td>\n",
       "      <td>ODS</td>\n",
       "      <td>*</td>\n",
       "      <td>1</td>\n",
       "      <td>Master</td>\n",
       "    </tr>\n",
       "    <tr>\n",
       "      <th>133</th>\n",
       "      <td>53</td>\n",
       "      <td>Pardubický</td>\n",
       "      <td>Karamazov Simeon prof. Ing. Dr.</td>\n",
       "      <td>1</td>\n",
       "      <td>ODS</td>\n",
       "      <td>ODS</td>\n",
       "      <td>-</td>\n",
       "      <td>2</td>\n",
       "      <td>Master</td>\n",
       "    </tr>\n",
       "    <tr>\n",
       "      <th>187</th>\n",
       "      <td>64</td>\n",
       "      <td>Jihočeský</td>\n",
       "      <td>Masojídek Jiří prof. RNDr. CSc.</td>\n",
       "      <td>15</td>\n",
       "      <td>ODS</td>\n",
       "      <td>ODS</td>\n",
       "      <td>-</td>\n",
       "      <td>13</td>\n",
       "      <td>Master</td>\n",
       "    </tr>\n",
       "    <tr>\n",
       "      <th>Piráti</th>\n",
       "      <th>170</th>\n",
       "      <td>61</td>\n",
       "      <td>Pardubický</td>\n",
       "      <td>Lipavský Pavel prof. CSc.</td>\n",
       "      <td>18</td>\n",
       "      <td>Piráti</td>\n",
       "      <td>BEZPP</td>\n",
       "      <td>-</td>\n",
       "      <td>17</td>\n",
       "      <td>Master</td>\n",
       "    </tr>\n",
       "    <tr>\n",
       "      <th rowspan=\"7\" valign=\"top\">TOP09</th>\n",
       "      <th>23</th>\n",
       "      <td>63</td>\n",
       "      <td>Pardubický</td>\n",
       "      <td>Cempírek Václav prof. Ing. Ph.D.</td>\n",
       "      <td>8</td>\n",
       "      <td>TOP 09</td>\n",
       "      <td>TOP 09</td>\n",
       "      <td>-</td>\n",
       "      <td>-</td>\n",
       "      <td>Master</td>\n",
       "    </tr>\n",
       "    <tr>\n",
       "      <th>72</th>\n",
       "      <td>51</td>\n",
       "      <td>Olomoucký</td>\n",
       "      <td>Horák Pavel prof. MUDr. CSc.</td>\n",
       "      <td>6</td>\n",
       "      <td>TOP 09</td>\n",
       "      <td>BEZPP</td>\n",
       "      <td>-</td>\n",
       "      <td>-</td>\n",
       "      <td>Master</td>\n",
       "    </tr>\n",
       "    <tr>\n",
       "      <th>78</th>\n",
       "      <td>53</td>\n",
       "      <td>Hl. m. Praha</td>\n",
       "      <td>Hruška Jakub prof. RNDr. CSc.</td>\n",
       "      <td>7</td>\n",
       "      <td>TOP 09</td>\n",
       "      <td>TOP 09</td>\n",
       "      <td>-</td>\n",
       "      <td>5</td>\n",
       "      <td>Master</td>\n",
       "    </tr>\n",
       "    <tr>\n",
       "      <th>120</th>\n",
       "      <td>68</td>\n",
       "      <td>Jihomoravský</td>\n",
       "      <td>Kostřica Rom prof. MUDr. CSc.</td>\n",
       "      <td>3</td>\n",
       "      <td>TOP 09</td>\n",
       "      <td>TOP 09</td>\n",
       "      <td>-</td>\n",
       "      <td>1</td>\n",
       "      <td>Master</td>\n",
       "    </tr>\n",
       "    <tr>\n",
       "      <th>294</th>\n",
       "      <td>62</td>\n",
       "      <td>Středočeský</td>\n",
       "      <td>Trč Tomáš prof. MUDr. CSc., MBA</td>\n",
       "      <td>7</td>\n",
       "      <td>TOP 09</td>\n",
       "      <td>BEZPP</td>\n",
       "      <td>-</td>\n",
       "      <td>5</td>\n",
       "      <td>Master</td>\n",
       "    </tr>\n",
       "    <tr>\n",
       "      <th>301</th>\n",
       "      <td>51</td>\n",
       "      <td>Jihočeský</td>\n",
       "      <td>Vácha František prof. RNDr. Ph.D.</td>\n",
       "      <td>2</td>\n",
       "      <td>TOP 09</td>\n",
       "      <td>BEZPP</td>\n",
       "      <td>*</td>\n",
       "      <td>1</td>\n",
       "      <td>Master</td>\n",
       "    </tr>\n",
       "    <tr>\n",
       "      <th>302</th>\n",
       "      <td>57</td>\n",
       "      <td>Jihomoravský</td>\n",
       "      <td>Válek Vlastimil prof. MUDr. CSc., MBA, EBIR</td>\n",
       "      <td>1</td>\n",
       "      <td>TOP 09</td>\n",
       "      <td>TOP 09</td>\n",
       "      <td>*</td>\n",
       "      <td>1</td>\n",
       "      <td>Master</td>\n",
       "    </tr>\n",
       "  </tbody>\n",
       "</table>\n",
       "</div>"
      ],
      "text/plain": [
       "             Age             Kraj  \\\n",
       "ANO     104   61        Liberecký   \n",
       "        235   68     Jihomoravský   \n",
       "        285   65      Středočeský   \n",
       "        306   66     Hl. m. Praha   \n",
       "        322   58  Moravskoslezský   \n",
       "        326   64     Jihomoravský   \n",
       "KDU-ČSL 33    64  Královéhradecký   \n",
       "KSČM    97    63     Hl. m. Praha   \n",
       "ODS     7     64        Olomoucký   \n",
       "        61    53     Jihomoravský   \n",
       "        133   53       Pardubický   \n",
       "        187   64        Jihočeský   \n",
       "Piráti  170   61       Pardubický   \n",
       "TOP09   23    63       Pardubický   \n",
       "        72    51        Olomoucký   \n",
       "        78    53     Hl. m. Praha   \n",
       "        120   68     Jihomoravský   \n",
       "        294   62      Středočeský   \n",
       "        301   51        Jihočeský   \n",
       "        302   57     Jihomoravský   \n",
       "\n",
       "                                                    Name  Number    Party  \\\n",
       "ANO     104                     Jáč Ivan prof. Ing. CSc.       2      ANO   \n",
       "        235     Rais Karel prof. Ing. CSc., MBA, Dr.h.c.       2      ANO   \n",
       "        285               Špičák Julius prof. MUDr. CSc.       6      ANO   \n",
       "        306              Válková Helena prof. JUDr. CSc.       7      ANO   \n",
       "        322                  Vondrák Ivo prof. Ing. CSc.       1      ANO   \n",
       "        326            Vyzula Rostislav prof. MUDr. CSc.       4      ANO   \n",
       "KDU-ČSL 33                      Čáp Jan prof. MUDr. CSc.      13  KDU-ČSL   \n",
       "KSČM    97                 Hudeček Jiří prof. RNDr. CSc.      25     KSČM   \n",
       "ODS     7                  Barteček Ivo prof. PhDr. CSc.       5      ODS   \n",
       "        61           Fiala Petr prof. PhDr. Ph.D., LL.M.       1      ODS   \n",
       "        133              Karamazov Simeon prof. Ing. Dr.       1      ODS   \n",
       "        187              Masojídek Jiří prof. RNDr. CSc.      15      ODS   \n",
       "Piráti  170                    Lipavský Pavel prof. CSc.      18   Piráti   \n",
       "TOP09   23              Cempírek Václav prof. Ing. Ph.D.       8   TOP 09   \n",
       "        72                  Horák Pavel prof. MUDr. CSc.       6   TOP 09   \n",
       "        78                 Hruška Jakub prof. RNDr. CSc.       7   TOP 09   \n",
       "        120                Kostřica Rom prof. MUDr. CSc.       3   TOP 09   \n",
       "        294              Trč Tomáš prof. MUDr. CSc., MBA       7   TOP 09   \n",
       "        301            Vácha František prof. RNDr. Ph.D.       2   TOP 09   \n",
       "        302  Válek Vlastimil prof. MUDr. CSc., MBA, EBIR       1   TOP 09   \n",
       "\n",
       "            Political affiliation  9  10 Education  \n",
       "ANO     104                 BEZPP  *   3    Master  \n",
       "        235                   ANO  *   2    Master  \n",
       "        285                   ANO  *   6    Master  \n",
       "        306                   ANO  *   3    Master  \n",
       "        322                   ANO  *   1    Master  \n",
       "        326                   ANO  *   4    Master  \n",
       "KDU-ČSL 33                KDU-ČSL  -  12    Master  \n",
       "KSČM    97                    SDS  -  24    Master  \n",
       "ODS     7             Soukromníci  -   4    Master  \n",
       "        61                    ODS  *   1    Master  \n",
       "        133                   ODS  -   2    Master  \n",
       "        187                   ODS  -  13    Master  \n",
       "Piráti  170                 BEZPP  -  17    Master  \n",
       "TOP09   23                 TOP 09  -   -    Master  \n",
       "        72                  BEZPP  -   -    Master  \n",
       "        78                 TOP 09  -   5    Master  \n",
       "        120                TOP 09  -   1    Master  \n",
       "        294                 BEZPP  -   5    Master  \n",
       "        301                 BEZPP  *   1    Master  \n",
       "        302                TOP 09  *   1    Master  "
      ]
     },
     "execution_count": 18,
     "metadata": {},
     "output_type": "execute_result"
    }
   ],
   "source": [
    "df[df['Name'].str.find('prof.') > -1]"
   ]
  },
  {
   "cell_type": "code",
   "execution_count": 19,
   "metadata": {},
   "outputs": [
    {
     "data": {
      "image/png": "[encoded data removed]",
      "text/plain": [
       "<matplotlib.figure.Figure at 0x1114eb278>"
      ]
     },
     "metadata": {},
     "output_type": "display_data"
    }
   ],
   "source": [
    "axes = df.hist(column='Age', by='Education', sharex=True)\n",
    "for ax in axes.ravel():\n",
    "    ax.set_ylabel('Frequency')\n",
    "    ax.set_xlabel('Age')"
   ]
  },
  {
   "cell_type": "code",
   "execution_count": null,
   "metadata": {},
   "outputs": [],
   "source": []
  }
 ],
 "metadata": {
  "kernelspec": {
   "display_name": "Python 3",
   "language": "python",
   "name": "python3"
  },
  "language_info": {
   "codemirror_mode": {
    "name": "ipython",
    "version": 3
   },
   "file_extension": ".py",
   "mimetype": "text/x-python",
   "name": "python",
   "nbconvert_exporter": "python",
   "pygments_lexer": "ipython3",
   "version": "3.6.4"
  }
 },
 "nbformat": 4,
 "nbformat_minor": 2
}
