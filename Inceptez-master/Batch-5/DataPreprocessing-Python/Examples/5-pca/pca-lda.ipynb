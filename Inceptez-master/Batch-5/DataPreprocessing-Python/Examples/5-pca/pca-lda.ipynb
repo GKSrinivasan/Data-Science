{
 "cells": [
  {
   "cell_type": "markdown",
   "metadata": {},
   "source": [
    "# pca and lda\n",
    "\n",
    "1. for the attached clean data try to use linear regression applied on features given by PCA\n",
    "1. select as less as possible features so that the results are comparably good to RMSLE around 0.12\n",
    "1. experiment with the feature selection\n",
    "    - has removing indicator or discrete features a positive influence?\n",
    "    - is the first principal components always the best choice?"
   ]
  },
  {
   "cell_type": "code",
   "execution_count": 1,
   "metadata": {},
   "outputs": [],
   "source": [
    "import pandas\n",
    "import numpy\n",
    "import seaborn\n",
    "from matplotlib import pyplot\n",
    "from sklearn.model_selection import train_test_split\n",
    "from sklearn.linear_model import LinearRegression\n",
    "from sklearn.metrics import mean_squared_error\n",
    "from sklearn.decomposition import PCA\n",
    "from sklearn.preprocessing import StandardScaler\n",
    "from sklearn.feature_selection import VarianceThreshold, SelectKBest, f_regression, mutual_info_regression, RFE"
   ]
  },
  {
   "cell_type": "code",
   "execution_count": 2,
   "metadata": {},
   "outputs": [],
   "source": [
    "%matplotlib inline"
   ]
  },
  {
   "cell_type": "code",
   "execution_count": 3,
   "metadata": {},
   "outputs": [],
   "source": [
    "data_file = 'data/data.csv'"
   ]
  },
  {
   "cell_type": "markdown",
   "metadata": {},
   "source": [
    "Let's see what the data look like."
   ]
  },
  {
   "cell_type": "code",
   "execution_count": 4,
   "metadata": {},
   "outputs": [
    {
     "name": "stdout",
     "output_type": "stream",
     "text": [
      ",Id,MSSubClass,LotFrontage,LotArea,OverallQual,OverallCond,YearBuilt,YearRemodAdd,MasVnrArea,BsmtFinSF1,BsmtFinSF2,BsmtUnfSF,TotalBsmtSF,1stFlrSF,2ndFlrSF,LowQualFinSF,GrLivArea,BsmtFullBath,BsmtHalfBath,FullBath,HalfBath,BedroomAbvGr,KitchenAbvGr,TotRmsAbvGrd,Fireplaces,GarageYrBlt,GarageCars,GarageArea,WoodDeckSF,OpenPorchSF,EnclosedPorch,3SsnPorch,ScreenPorch,PoolArea,MoSold,YrSold,SalePrice,SqrtLotArea,LogLotArea,HasMasVnrArea,SqrtMasVnrArea,LogMasVnrArea,HasBsmtFinSF1,SqrtBsmtFinSF1,LogBsmtFinSF1,HasBsmtFinSF2,SqrtBsmtFinSF2,LogBsmtFinSF2,HasBsmtUnfSF,SqrtBsmtUnfSF,LogBsmtUnfSF,HasTotalBsmtSF,SqrtTotalBsmtSF,LogTotalBsmtSF,Sqrt1stFlrSF,Log1stFlrSF,Has2ndFlrSF,Sqrt2ndFlrSF,Log2ndFlrSF,HasLowQualFinSF,SqrtLowQualFinSF,LogLowQualFinSF,SqrtGrLivArea,LogGrLivArea,HasGarageArea,SqrtGarageArea,LogGarageArea,HasWoodDeckSF,SqrtWoodDeckSF,LogWoodDeckSF,HasOpenPorchSF,SqrtOpenPorchSF,LogOpenPorchSF,HasPoolArea,SqrtPoolArea,LogPoolArea,MSZoning_C (all),MSZoning_FV,MSZoning_RH,MSZoning_RL,MSZoning_RM,Street_Grvl,Street_Pave,LotShape_IR1,LotShape_IR2,LotShape_IR3,LotShape_Reg,LandContour_Bnk,LandContour_HLS,LandContour_Low,LandContour_Lvl,Utilities_AllPub,Utilities_NoSeWa,LotConfig_Corner,LotConfig_CulDSac,LotConfig_FR2,LotConfig_FR3,LotConfig_Inside,LandSlope_Gtl,LandSlope_Mod,LandSlope_Sev,Neighborhood_Blmngtn,Neighborhood_Blueste,Neighborhood_BrDale,Neighborhood_BrkSide,Neighborhood_ClearCr,Neighborhood_CollgCr,Neighborhood_Crawfor,Neighborhood_Edwards,Neighborhood_Gilbert,Neighborhood_IDOTRR,Neighborhood_MeadowV,Neighborhood_Mitchel,Neighborhood_NAmes,Neighborhood_NPkVill,Neighborhood_NWAmes,Neighborhood_NoRidge,Neighborhood_NridgHt,Neighborhood_OldTown,Neighborhood_SWISU,Neighborhood_Sawyer,Neighborhood_SawyerW,Neighborhood_Somerst,Neighborhood_StoneBr,Neighborhood_Timber,Neighborhood_Veenker,Condition1_Artery,Condition1_Feedr,Condition1_Norm,Condition1_PosA,Condition1_PosN,Condition1_RRAe,Condition1_RRAn,Condition1_RRNe,Condition1_RRNn,Condition2_Artery,Condition2_Feedr,Condition2_Norm,Condition2_PosA,Condition2_PosN,Condition2_RRAe,Condition2_RRAn,Condition2_RRNn,BldgType_1Fam,BldgType_2fmCon,BldgType_Duplex,BldgType_Twnhs,BldgType_TwnhsE,HouseStyle_1.5Fin,HouseStyle_1.5Unf,HouseStyle_1Story,HouseStyle_2.5Fin,HouseStyle_2.5Unf,HouseStyle_2Story,HouseStyle_SFoyer,HouseStyle_SLvl,RoofStyle_Flat,RoofStyle_Gable,RoofStyle_Gambrel,RoofStyle_Hip,RoofStyle_Mansard,RoofStyle_Shed,RoofMatl_ClyTile,RoofMatl_CompShg,RoofMatl_Membran,RoofMatl_Metal,RoofMatl_Roll,RoofMatl_Tar&Grv,RoofMatl_WdShake,RoofMatl_WdShngl,Exterior1st_AsbShng,Exterior1st_AsphShn,Exterior1st_BrkComm,Exterior1st_BrkFace,Exterior1st_CBlock,Exterior1st_CemntBd,Exterior1st_HdBoard,Exterior1st_ImStucc,Exterior1st_MetalSd,Exterior1st_Plywood,Exterior1st_Stone,Exterior1st_Stucco,Exterior1st_VinylSd,Exterior1st_Wd Sdng,Exterior1st_WdShing,Exterior2nd_AsbShng,Exterior2nd_AsphShn,Exterior2nd_Brk Cmn,Exterior2nd_BrkFace,Exterior2nd_CBlock,Exterior2nd_CmentBd,Exterior2nd_HdBoard,Exterior2nd_ImStucc,Exterior2nd_MetalSd,Exterior2nd_Other,Exterior2nd_Plywood,Exterior2nd_Stone,Exterior2nd_Stucco,Exterior2nd_VinylSd,Exterior2nd_Wd Sdng,Exterior2nd_Wd Shng,MasVnrType_0,MasVnrType_BrkCmn,MasVnrType_BrkFace,MasVnrType_None,MasVnrType_Stone,ExterQual_Ex,ExterQual_Fa,ExterQual_Gd,ExterQual_TA,ExterCond_Ex,ExterCond_Fa,ExterCond_Gd,ExterCond_Po,ExterCond_TA,Foundation_BrkTil,Foundation_CBlock,Foundation_PConc,Foundation_Slab,Foundation_Stone,Foundation_Wood,BsmtQual_0,BsmtQual_Ex,BsmtQual_Fa,BsmtQual_Gd,BsmtQual_TA,BsmtCond_0,BsmtCond_Fa,BsmtCond_Gd,BsmtCond_Po,BsmtCond_TA,BsmtExposure_0,BsmtExposure_Av,BsmtExposure_Gd,BsmtExposure_Mn,BsmtExposure_No,BsmtFinType1_0,BsmtFinType1_ALQ,BsmtFinType1_BLQ,BsmtFinType1_GLQ,BsmtFinType1_LwQ,BsmtFinType1_Rec,BsmtFinType1_Unf,BsmtFinType2_0,BsmtFinType2_ALQ,BsmtFinType2_BLQ,BsmtFinType2_GLQ,BsmtFinType2_LwQ,BsmtFinType2_Rec,BsmtFinType2_Unf,Heating_Floor,Heating_GasA,Heating_GasW,Heating_Grav,Heating_OthW,Heating_Wall,HeatingQC_Ex,HeatingQC_Fa,HeatingQC_Gd,HeatingQC_Po,HeatingQC_TA,CentralAir_N,CentralAir_Y,Electrical_0,Electrical_FuseA,Electrical_FuseF,Electrical_FuseP,Electrical_Mix,Electrical_SBrkr,KitchenQual_Ex,KitchenQual_Fa,KitchenQual_Gd,KitchenQual_TA,Functional_Maj1,Functional_Maj2,Functional_Min1,Functional_Min2,Functional_Mod,Functional_Sev,Functional_Typ,FireplaceQu_0,FireplaceQu_Ex,FireplaceQu_Fa,FireplaceQu_Gd,FireplaceQu_Po,FireplaceQu_TA,GarageType_0,GarageType_2Types,GarageType_Attchd,GarageType_Basment,GarageType_BuiltIn,GarageType_CarPort,GarageType_Detchd,GarageFinish_0,GarageFinish_Fin,GarageFinish_RFn,GarageFinish_Unf,GarageQual_0,GarageQual_Ex,GarageQual_Fa,GarageQual_Gd,GarageQual_Po,GarageQual_TA,GarageCond_0,GarageCond_Ex,GarageCond_Fa,GarageCond_Gd,GarageCond_Po,GarageCond_TA,PavedDrive_N,PavedDrive_P,PavedDrive_Y,SaleType_COD,SaleType_CWD,SaleType_Con,SaleType_ConLD,SaleType_ConLI,SaleType_ConLw,SaleType_New,SaleType_Oth,SaleType_WD,SaleCondition_Abnorml,SaleCondition_AdjLand,SaleCondition_Alloca,SaleCondition_Family,SaleCondition_Normal,SaleCondition_Partial\r\n",
      "0,1,60,65.0,8450,7,5,2003,2003,196.0,706,0,150,856,856,854,0,1710,1,0,2,1,3,1,8,0,2003.0,2,548,0,61,0,0,0,0,2,2008,12.247699116372562,91.9238815542512,9.042040056544485,1,14.0,5.2832037287379885,1,26.570660511172854,6.561030665896572,0,0.0,0.0,1,12.247448713915892,5.017279836814924,1,29.257477676655586,6.753437918597782,29.257477676655586,6.753437918597782,1,29.223278392404914,6.751101468936759,0,0.0,0.0,41.352146256270665,7.444833273892192,1,23.40939982143925,6.3080984415095305,0,0.0,0.0,1,7.810249675906652,4.127134385045092,0,0.0,0.0,0,0,0,1,0,0,1,0,0,0,1,0,0,0,1,1,0,0,0,0,0,1,1,0,0,0,0,0,0,0,1,0,0,0,0,0,0,0,0,0,0,0,0,0,0,0,0,0,0,0,0,0,1,0,0,0,0,0,0,0,0,1,0,0,0,0,0,1,0,0,0,0,0,0,0,0,0,1,0,0,0,1,0,0,0,0,0,1,0,0,0,0,0,0,0,0,0,0,0,0,0,0,0,0,0,0,1,0,0,0,0,0,0,0,0,0,0,0,0,0,0,0,1,0,0,0,0,1,0,0,0,0,1,0,0,0,0,0,1,0,0,1,0,0,0,0,0,0,1,0,0,0,0,0,1,0,0,0,0,1,0,0,0,1,0,0,0,0,0,0,0,0,0,1,0,1,0,0,0,0,1,0,0,0,0,0,1,0,0,0,0,0,1,0,0,1,0,0,0,0,0,0,0,1,1,0,0,0,0,0,0,0,1,0,0,0,0,0,0,1,0,0,0,0,0,0,1,0,0,0,0,0,1,0,0,1,0,0,0,0,0,0,0,0,1,0,0,0,0,1,0\r\n",
      "1,2,20,80.0,9600,6,8,1976,1976,0.0,978,0,284,1262,1262,0,0,1262,0,1,2,0,3,1,6,1,1976.0,2,460,298,0,0,0,0,0,5,2007,12.109016442313738,97.97958971132714,9.169622538697624,0,0.0,0.0,1,31.272991542223767,6.886531642530509,0,0.0,0.0,1,16.852299546352718,5.6524891802686525,1,35.52463933666322,7.141245122350491,35.52463933666322,7.141245122350491,0,0.0,0.0,0,0.0,0.0,35.52463933666322,7.141245122350491,1,21.447610589527216,6.133398042996649,1,17.262676501632072,5.700443573390688,0,0.0,0.0,0,0.0,0.0,0,0,0,1,0,0,1,0,0,0,1,0,0,0,1,1,0,0,0,1,0,0,1,0,0,0,0,0,0,0,0,0,0,0,0,0,0,0,0,0,0,0,0,0,0,0,0,0,0,1,0,1,0,0,0,0,0,0,0,0,0,1,0,0,0,0,0,1,0,0,0,0,0,0,1,0,0,0,0,0,0,1,0,0,0,0,0,1,0,0,0,0,0,0,0,0,0,0,0,0,0,0,1,0,0,0,0,0,0,0,0,0,0,0,0,0,0,1,0,0,0,0,0,0,0,0,0,0,1,0,0,0,0,1,0,0,0,0,1,0,1,0,0,0,0,0,0,0,1,0,0,0,0,0,1,0,0,1,0,0,0,1,0,0,0,0,0,0,0,0,0,0,0,1,0,1,0,0,0,0,1,0,0,0,0,0,1,0,0,0,0,0,1,0,0,0,1,0,0,0,0,0,0,1,0,0,0,0,0,1,0,0,1,0,0,0,0,0,0,1,0,0,0,0,0,0,1,0,0,0,0,0,1,0,0,1,0,0,0,0,0,0,0,0,1,0,0,0,0,1,0\r\n",
      "2,3,60,68.0,11250,7,5,2001,2002,162.0,486,0,434,920,920,866,0,1786,1,0,2,1,3,1,6,1,2001.0,2,608,0,42,0,0,0,0,9,2008,12.317171167298682,106.06601717798212,9.328212292571072,1,12.727922061357855,5.093750200806762,1,22.0454076850486,6.18826412308259,0,0.0,0.0,1,20.83266665599966,6.075346031088682,1,30.331501776206203,6.825460036255307,30.331501776206203,6.825460036255307,1,29.427877939124322,6.765038976780541,0,0.0,0.0,42.26109321823088,7.488293515159427,1,24.65765601187591,6.411818267709898,0,0.0,0.0,1,6.48074069840786,3.7612001156935615,0,0.0,0.0,0,0,0,1,0,0,1,1,0,0,0,0,0,0,1,1,0,0,0,0,0,1,1,0,0,0,0,0,0,0,1,0,0,0,0,0,0,0,0,0,0,0,0,0,0,0,0,0,0,0,0,0,1,0,0,0,0,0,0,0,0,1,0,0,0,0,0,1,0,0,0,0,0,0,0,0,0,1,0,0,0,1,0,0,0,0,0,1,0,0,0,0,0,0,0,0,0,0,0,0,0,0,0,0,0,0,1,0,0,0,0,0,0,0,0,0,0,0,0,0,0,0,1,0,0,0,0,1,0,0,0,0,1,0,0,0,0,0,1,0,0,1,0,0,0,0,0,0,1,0,0,0,0,0,1,0,0,0,1,0,0,0,0,1,0,0,0,0,0,0,0,0,0,1,0,1,0,0,0,0,1,0,0,0,0,0,1,0,0,0,0,0,1,0,0,1,0,0,0,0,0,0,0,1,0,0,0,0,0,1,0,0,1,0,0,0,0,0,0,1,0,0,0,0,0,0,1,0,0,0,0,0,1,0,0,1,0,0,0,0,0,0,0,0,1,0,0,0,0,1,0\r\n",
      "3,4,70,60.0,9550,7,5,1915,1970,0.0,216,0,540,756,961,756,0,1717,1,0,1,0,3,1,7,1,1998.0,3,642,0,35,272,0,0,0,2,2006,11.849404844423075,97.72410142846032,9.164401140034736,0,0.0,0.0,1,14.696938456699069,5.37989735354046,0,0.0,0.0,1,23.2379000772445,6.293419278846482,1,27.49545416973504,6.6293632534374485,31.0,6.8690144506657065,1,27.49545416973504,6.6293632534374485,0,0.0,0.0,41.43669871020132,7.4489161025442,1,25.33771891863985,6.46614472423762,0,0.0,0.0,1,5.916079783099617,3.58351893845611,0,0.0,0.0,0,0,0,1,0,0,1,1,0,0,0,0,0,0,1,1,0,1,0,0,0,0,1,0,0,0,0,0,0,0,0,1,0,0,0,0,0,0,0,0,0,0,0,0,0,0,0,0,0,0,0,0,1,0,0,0,0,0,0,0,0,1,0,0,0,0,0,1,0,0,0,0,0,0,0,0,0,1,0,0,0,1,0,0,0,0,0,1,0,0,0,0,0,0,0,0,0,0,0,0,0,0,0,0,0,0,0,1,0,0,0,0,0,0,0,0,0,0,0,0,0,0,0,0,1,0,0,0,1,0,0,0,0,1,0,0,0,0,1,1,0,0,0,0,0,0,0,0,0,1,0,0,1,0,0,0,0,0,0,1,0,1,0,0,0,0,0,0,0,0,0,0,0,1,0,1,0,0,0,0,0,0,1,0,0,0,1,0,0,0,0,0,1,0,0,1,0,0,0,0,0,0,0,1,0,0,0,1,0,0,0,0,0,0,0,0,1,0,0,0,1,0,0,0,0,0,1,0,0,0,0,0,1,0,0,1,0,0,0,0,0,0,0,0,1,1,0,0,0,0,0\r\n",
      "4,5,60,84.0,14260,8,5,2000,2000,350.0,655,0,490,1145,1145,1053,0,2198,1,0,2,1,4,1,9,1,2000.0,3,836,192,84,0,0,0,0,12,2008,12.429220196836386,119.41524190822544,9.565283817736765,1,18.708286933869708,5.8607862234658645,1,25.592967784139447,6.4861607889440895,0,0.0,0.0,1,22.135943621178647,6.19644412779452,1,33.83784863137726,7.044032897274685,33.83784863137726,7.044032897274685,1,32.449961479175904,6.960347729101308,0,0.0,0.0,46.88283267892417,7.695757990554763,1,28.91366458960192,6.7298240704894745,1,13.85640646055102,5.262690188904887,1,9.16515138991168,4.442651256490317,0,0.0,0.0,0,0,0,1,0,0,1,1,0,0,0,0,0,0,1,1,0,0,0,1,0,0,1,0,0,0,0,0,0,0,0,0,0,0,0,0,0,0,0,0,1,0,0,0,0,0,0,0,0,0,0,0,1,0,0,0,0,0,0,0,0,1,0,0,0,0,0,1,0,0,0,0,0,0,0,0,0,1,0,0,0,1,0,0,0,0,0,1,0,0,0,0,0,0,0,0,0,0,0,0,0,0,0,0,0,0,1,0,0,0,0,0,0,0,0,0,0,0,0,0,0,0,1,0,0,0,0,1,0,0,0,0,1,0,0,0,0,0,1,0,0,1,0,0,0,0,0,0,1,0,0,0,0,0,1,0,1,0,0,0,0,0,0,1,0,0,0,0,0,0,0,0,0,1,0,1,0,0,0,0,1,0,0,0,0,0,1,0,0,0,0,0,1,0,0,1,0,0,0,0,0,0,0,1,0,0,0,0,0,1,0,0,1,0,0,0,0,0,0,1,0,0,0,0,0,0,1,0,0,0,0,0,1,0,0,1,0,0,0,0,0,0,0,0,1,0,0,0,0,1,0\r\n",
      "5,6,50,85.0,14115,5,5,1993,1995,0.0,732,0,64,796,796,566,0,1362,1,0,1,1,1,1,5,0,1993.0,2,480,40,30,0,320,0,0,10,2009,11.870606902224589,118.80656547514536,9.55506418479516,0,0.0,0.0,1,27.05549851693737,6.597145701886651,0,0.0,0.0,1,8.0,4.174387269895637,1,28.21347195933177,6.680854678790215,28.21347195933177,6.680854678790215,1,23.79075450674064,6.3403593037277535,0,0.0,0.0,36.90528417449187,7.217443431696532,1,21.90890230020664,6.175867270105761,1,6.324555320336759,3.713572066704309,1,5.47722557505166,3.4339872044851463,0,0.0,0.0,0,0,0,1,0,0,1,1,0,0,0,0,0,0,1,1,0,0,0,0,0,1,1,0,0,0,0,0,0,0,0,0,0,0,0,0,1,0,0,0,0,0,0,0,0,0,0,0,0,0,0,0,1,0,0,0,0,0,0,0,0,1,0,0,0,0,0,1,0,0,0,0,1,0,0,0,0,0,0,0,0,1,0,0,0,0,0,1,0,0,0,0,0,0,0,0,0,0,0,0,0,0,0,0,0,0,1,0,0,0,0,0,0,0,0,0,0,0,0,0,0,0,1,0,0,0,0,0,1,0,0,0,0,1,0,0,0,0,1,0,0,0,0,0,1,0,0,0,1,0,0,0,0,0,1,0,0,0,0,1,0,0,0,1,0,0,0,0,0,0,0,0,0,1,0,1,0,0,0,0,1,0,0,0,0,0,1,0,0,0,0,0,1,0,0,0,1,0,0,0,0,0,0,1,1,0,0,0,0,0,0,0,1,0,0,0,0,0,0,0,1,0,0,0,0,0,1,0,0,0,0,0,1,0,0,1,0,0,0,0,0,0,0,0,1,0,0,0,0,1,0\r\n",
      "6,7,20,75.0,10084,8,5,2004,2005,186.0,1369,0,317,1686,1694,0,0,1694,1,0,2,0,3,1,7,1,2004.0,2,636,255,57,0,0,0,0,8,2007,12.63460628389302,100.41912168506552,9.218804450388312,1,13.638181696985855,5.231108616854587,1,37.0,7.22256601882217,0,0.0,0.0,1,17.804493814764854,5.762051382780178,1,41.060930335295616,7.430707082545968,41.158231254513346,7.435438019814549,0,0.0,0.0,0,0.0,0.0,41.158231254513346,7.435438019814549,1,25.219040425836983,6.456769655572161,1,15.968719422671313,5.545177444479562,1,7.549834435270751,4.060443010546419,0,0.0,0.0,0,0,0,1,0,0,1,0,0,0,1,0,0,0,1,1,0,0,0,0,0,1,1,0,0,0,0,0,0,0,0,0,0,0,0,0,0,0,0,0,0,0,0,0,0,0,1,0,0,0,0,0,1,0,0,0,0,0,0,0,0,1,0,0,0,0,0,1,0,0,0,0,0,0,1,0,0,0,0,0,0,1,0,0,0,0,0,1,0,0,0,0,0,0,0,0,0,0,0,0,0,0,0,0,0,0,1,0,0,0,0,0,0,0,0,0,0,0,0,0,0,0,1,0,0,0,0,0,0,1,0,0,1,0,0,0,0,0,1,0,0,1,0,0,0,0,1,0,0,0,0,0,0,0,1,0,1,0,0,0,0,0,0,1,0,0,0,0,0,0,0,0,0,1,0,1,0,0,0,0,1,0,0,0,0,0,1,0,0,0,0,0,1,0,0,1,0,0,0,0,0,0,0,1,0,0,0,1,0,0,0,0,1,0,0,0,0,0,0,1,0,0,0,0,0,0,1,0,0,0,0,0,1,0,0,1,0,0,0,0,0,0,0,0,1,0,0,0,0,1,0\r\n",
      "7,8,60,0.0,10382,7,6,1973,1973,240.0,859,32,216,1107,1107,983,0,2090,1,0,2,1,3,1,7,2,1973.0,2,484,235,204,228,0,0,0,11,2009,12.206077645517675,101.89209979188769,9.247925132303454,1,15.49193338482967,5.484796933490657,1,29.308701779505693,6.756932389247552,1,5.656854249492381,3.49650756146648,1,14.696938456699069,5.37989735354046,1,33.27160951922825,7.010311867307229,33.27160951922825,7.010311867307229,1,31.352830813181768,6.891625897052253,0,0.0,0.0,45.71651780264984,7.645397699428632,1,22.0,6.184148890937482,1,15.329709716755893,5.4638318050256105,1,14.2828568570857,5.3230099791384085,0,0.0,0.0,0,0,0,1,0,0,1,1,0,0,0,0,0,0,1,1,0,1,0,0,0,0,1,0,0,0,0,0,0,0,0,0,0,0,0,0,0,0,0,1,0,0,0,0,0,0,0,0,0,0,0,0,0,0,1,0,0,0,0,0,0,1,0,0,0,0,0,1,0,0,0,0,0,0,0,0,0,1,0,0,0,1,0,0,0,0,0,1,0,0,0,0,0,0,0,0,0,0,0,0,1,0,0,0,0,0,0,0,0,0,0,0,0,0,0,1,0,0,0,0,0,0,0,0,0,0,0,0,0,1,0,0,0,1,0,0,0,0,1,0,1,0,0,0,0,0,0,0,1,0,0,0,0,0,1,0,0,0,1,0,0,1,0,0,0,0,0,0,0,1,0,0,0,0,0,1,0,0,0,0,1,0,0,0,0,0,1,0,0,0,0,0,1,0,0,0,1,0,0,0,0,0,0,1,0,0,0,0,0,1,0,0,1,0,0,0,0,0,0,1,0,0,0,0,0,0,1,0,0,0,0,0,1,0,0,1,0,0,0,0,0,0,0,0,1,0,0,0,0,1,0\r\n",
      "8,9,50,51.0,6120,7,5,1931,1950,0.0,0,0,952,952,1022,752,0,1774,0,0,2,0,2,2,8,2,1931.0,2,468,90,0,205,0,0,0,4,2008,11.774527900858464,78.23042886243178,8.71948076085107,0,0.0,0.0,0,0.0,0.0,0,0.0,0.0,1,30.85449724108302,6.859614903654202,1,30.85449724108302,6.859614903654202,31.968734726291558,6.930494765951626,1,27.422618401604176,6.6240652277998935,0,0.0,0.0,42.118879377305376,7.4815557019095165,1,21.633307652783934,6.150602768446277,1,9.486832980505136,4.51085950651685,0,0.0,0.0,0,0.0,0.0,0,0,0,0,1,0,1,0,0,0,1,0,0,0,1,1,0,0,0,0,0,1,1,0,0,0,0,0,0,0,0,0,0,0,0,0,0,0,0,0,0,0,1,0,0,0,0,0,0,0,1,0,0,0,0,0,0,0,0,0,0,1,0,0,0,0,0,1,0,0,0,0,1,0,0,0,0,0,0,0,0,1,0,0,0,0,0,1,0,0,0,0,0,0,0,0,0,1,0,0,0,0,0,0,0,0,0,0,0,0,0,0,0,0,0,0,0,0,0,0,0,0,0,0,1,0,0,0,1,0,0,0,0,1,0,0,0,0,1,1,0,0,0,0,0,0,0,0,0,1,0,0,0,0,1,0,0,0,0,1,0,0,0,0,0,0,1,0,0,0,0,0,0,1,0,1,0,0,0,0,0,0,1,0,0,0,1,0,0,1,0,0,0,0,0,0,1,0,0,1,0,0,0,0,0,0,0,0,0,1,0,0,0,0,0,0,1,0,0,0,1,0,0,1,0,0,0,0,0,0,0,0,1,0,0,1,0,0,0,0,0,0,0,0,1,1,0,0,0,0,0\r\n"
     ]
    }
   ],
   "source": [
    "!head $data_file"
   ]
  },
  {
   "cell_type": "markdown",
   "metadata": {},
   "source": [
    "Drop 'Unnamed: 0' columns and set 'Id' as index."
   ]
  },
  {
   "cell_type": "code",
   "execution_count": 5,
   "metadata": {},
   "outputs": [
    {
     "name": "stdout",
     "output_type": "stream",
     "text": [
      "<class 'pandas.core.frame.DataFrame'>\n",
      "Int64Index: 1460 entries, 1 to 1460\n",
      "Columns: 326 entries, MSSubClass to SaleCondition_Partial\n",
      "dtypes: float64(32), int64(294)\n",
      "memory usage: 3.6 MB\n"
     ]
    },
    {
     "data": {
      "text/html": [
       "<div>\n",
       "<style>\n",
       "    .dataframe thead tr:only-child th {\n",
       "        text-align: right;\n",
       "    }\n",
       "\n",
       "    .dataframe thead th {\n",
       "        text-align: left;\n",
       "    }\n",
       "\n",
       "    .dataframe tbody tr th {\n",
       "        vertical-align: top;\n",
       "    }\n",
       "</style>\n",
       "<table border=\"1\" class=\"dataframe\">\n",
       "  <thead>\n",
       "    <tr style=\"text-align: right;\">\n",
       "      <th></th>\n",
       "      <th>MSSubClass</th>\n",
       "      <th>LotFrontage</th>\n",
       "      <th>LotArea</th>\n",
       "      <th>OverallQual</th>\n",
       "      <th>OverallCond</th>\n",
       "      <th>YearBuilt</th>\n",
       "      <th>YearRemodAdd</th>\n",
       "      <th>MasVnrArea</th>\n",
       "      <th>BsmtFinSF1</th>\n",
       "      <th>BsmtFinSF2</th>\n",
       "      <th>...</th>\n",
       "      <th>SaleType_ConLw</th>\n",
       "      <th>SaleType_New</th>\n",
       "      <th>SaleType_Oth</th>\n",
       "      <th>SaleType_WD</th>\n",
       "      <th>SaleCondition_Abnorml</th>\n",
       "      <th>SaleCondition_AdjLand</th>\n",
       "      <th>SaleCondition_Alloca</th>\n",
       "      <th>SaleCondition_Family</th>\n",
       "      <th>SaleCondition_Normal</th>\n",
       "      <th>SaleCondition_Partial</th>\n",
       "    </tr>\n",
       "    <tr>\n",
       "      <th>Id</th>\n",
       "      <th></th>\n",
       "      <th></th>\n",
       "      <th></th>\n",
       "      <th></th>\n",
       "      <th></th>\n",
       "      <th></th>\n",
       "      <th></th>\n",
       "      <th></th>\n",
       "      <th></th>\n",
       "      <th></th>\n",
       "      <th></th>\n",
       "      <th></th>\n",
       "      <th></th>\n",
       "      <th></th>\n",
       "      <th></th>\n",
       "      <th></th>\n",
       "      <th></th>\n",
       "      <th></th>\n",
       "      <th></th>\n",
       "      <th></th>\n",
       "      <th></th>\n",
       "    </tr>\n",
       "  </thead>\n",
       "  <tbody>\n",
       "    <tr>\n",
       "      <th>1</th>\n",
       "      <td>60</td>\n",
       "      <td>65.0</td>\n",
       "      <td>8450</td>\n",
       "      <td>7</td>\n",
       "      <td>5</td>\n",
       "      <td>2003</td>\n",
       "      <td>2003</td>\n",
       "      <td>196.0</td>\n",
       "      <td>706</td>\n",
       "      <td>0</td>\n",
       "      <td>...</td>\n",
       "      <td>0</td>\n",
       "      <td>0</td>\n",
       "      <td>0</td>\n",
       "      <td>1</td>\n",
       "      <td>0</td>\n",
       "      <td>0</td>\n",
       "      <td>0</td>\n",
       "      <td>0</td>\n",
       "      <td>1</td>\n",
       "      <td>0</td>\n",
       "    </tr>\n",
       "    <tr>\n",
       "      <th>2</th>\n",
       "      <td>20</td>\n",
       "      <td>80.0</td>\n",
       "      <td>9600</td>\n",
       "      <td>6</td>\n",
       "      <td>8</td>\n",
       "      <td>1976</td>\n",
       "      <td>1976</td>\n",
       "      <td>0.0</td>\n",
       "      <td>978</td>\n",
       "      <td>0</td>\n",
       "      <td>...</td>\n",
       "      <td>0</td>\n",
       "      <td>0</td>\n",
       "      <td>0</td>\n",
       "      <td>1</td>\n",
       "      <td>0</td>\n",
       "      <td>0</td>\n",
       "      <td>0</td>\n",
       "      <td>0</td>\n",
       "      <td>1</td>\n",
       "      <td>0</td>\n",
       "    </tr>\n",
       "    <tr>\n",
       "      <th>3</th>\n",
       "      <td>60</td>\n",
       "      <td>68.0</td>\n",
       "      <td>11250</td>\n",
       "      <td>7</td>\n",
       "      <td>5</td>\n",
       "      <td>2001</td>\n",
       "      <td>2002</td>\n",
       "      <td>162.0</td>\n",
       "      <td>486</td>\n",
       "      <td>0</td>\n",
       "      <td>...</td>\n",
       "      <td>0</td>\n",
       "      <td>0</td>\n",
       "      <td>0</td>\n",
       "      <td>1</td>\n",
       "      <td>0</td>\n",
       "      <td>0</td>\n",
       "      <td>0</td>\n",
       "      <td>0</td>\n",
       "      <td>1</td>\n",
       "      <td>0</td>\n",
       "    </tr>\n",
       "    <tr>\n",
       "      <th>4</th>\n",
       "      <td>70</td>\n",
       "      <td>60.0</td>\n",
       "      <td>9550</td>\n",
       "      <td>7</td>\n",
       "      <td>5</td>\n",
       "      <td>1915</td>\n",
       "      <td>1970</td>\n",
       "      <td>0.0</td>\n",
       "      <td>216</td>\n",
       "      <td>0</td>\n",
       "      <td>...</td>\n",
       "      <td>0</td>\n",
       "      <td>0</td>\n",
       "      <td>0</td>\n",
       "      <td>1</td>\n",
       "      <td>1</td>\n",
       "      <td>0</td>\n",
       "      <td>0</td>\n",
       "      <td>0</td>\n",
       "      <td>0</td>\n",
       "      <td>0</td>\n",
       "    </tr>\n",
       "    <tr>\n",
       "      <th>5</th>\n",
       "      <td>60</td>\n",
       "      <td>84.0</td>\n",
       "      <td>14260</td>\n",
       "      <td>8</td>\n",
       "      <td>5</td>\n",
       "      <td>2000</td>\n",
       "      <td>2000</td>\n",
       "      <td>350.0</td>\n",
       "      <td>655</td>\n",
       "      <td>0</td>\n",
       "      <td>...</td>\n",
       "      <td>0</td>\n",
       "      <td>0</td>\n",
       "      <td>0</td>\n",
       "      <td>1</td>\n",
       "      <td>0</td>\n",
       "      <td>0</td>\n",
       "      <td>0</td>\n",
       "      <td>0</td>\n",
       "      <td>1</td>\n",
       "      <td>0</td>\n",
       "    </tr>\n",
       "  </tbody>\n",
       "</table>\n",
       "<p>5 rows × 326 columns</p>\n",
       "</div>"
      ],
      "text/plain": [
       "    MSSubClass  LotFrontage  LotArea  OverallQual  OverallCond  YearBuilt  \\\n",
       "Id                                                                          \n",
       "1           60         65.0     8450            7            5       2003   \n",
       "2           20         80.0     9600            6            8       1976   \n",
       "3           60         68.0    11250            7            5       2001   \n",
       "4           70         60.0     9550            7            5       1915   \n",
       "5           60         84.0    14260            8            5       2000   \n",
       "\n",
       "    YearRemodAdd  MasVnrArea  BsmtFinSF1  BsmtFinSF2          ...            \\\n",
       "Id                                                            ...             \n",
       "1           2003       196.0         706           0          ...             \n",
       "2           1976         0.0         978           0          ...             \n",
       "3           2002       162.0         486           0          ...             \n",
       "4           1970         0.0         216           0          ...             \n",
       "5           2000       350.0         655           0          ...             \n",
       "\n",
       "    SaleType_ConLw  SaleType_New  SaleType_Oth  SaleType_WD  \\\n",
       "Id                                                            \n",
       "1                0             0             0            1   \n",
       "2                0             0             0            1   \n",
       "3                0             0             0            1   \n",
       "4                0             0             0            1   \n",
       "5                0             0             0            1   \n",
       "\n",
       "    SaleCondition_Abnorml  SaleCondition_AdjLand  SaleCondition_Alloca  \\\n",
       "Id                                                                       \n",
       "1                       0                      0                     0   \n",
       "2                       0                      0                     0   \n",
       "3                       0                      0                     0   \n",
       "4                       1                      0                     0   \n",
       "5                       0                      0                     0   \n",
       "\n",
       "    SaleCondition_Family  SaleCondition_Normal  SaleCondition_Partial  \n",
       "Id                                                                     \n",
       "1                      0                     1                      0  \n",
       "2                      0                     1                      0  \n",
       "3                      0                     1                      0  \n",
       "4                      0                     0                      0  \n",
       "5                      0                     1                      0  \n",
       "\n",
       "[5 rows x 326 columns]"
      ]
     },
     "execution_count": 5,
     "metadata": {},
     "output_type": "execute_result"
    }
   ],
   "source": [
    "data = pandas.read_csv(data_file, index_col='Id')\n",
    "data = data.drop(['Unnamed: 0'], axis=1)\n",
    "data.info()\n",
    "data.head()"
   ]
  },
  {
   "cell_type": "markdown",
   "metadata": {},
   "source": [
    "See if the data are really clean."
   ]
  },
  {
   "cell_type": "code",
   "execution_count": 6,
   "metadata": {
    "scrolled": false
   },
   "outputs": [
    {
     "data": {
      "text/plain": [
       "0"
      ]
     },
     "execution_count": 6,
     "metadata": {},
     "output_type": "execute_result"
    }
   ],
   "source": [
    "data.isnull().sum().sum()"
   ]
  },
  {
   "cell_type": "code",
   "execution_count": 7,
   "metadata": {},
   "outputs": [],
   "source": [
    "df_tr, df_te = train_test_split(data, test_size=0.25, random_state=17)\n",
    "X = df_tr.drop(['SalePrice'], axis=1)\n",
    "X_te = df_te.drop(['SalePrice'], axis=1)\n",
    "y = df_tr['SalePrice']\n",
    "y_te = df_te['SalePrice']"
   ]
  },
  {
   "cell_type": "markdown",
   "metadata": {},
   "source": [
    "The SalePrice is already corrected to normal distribution."
   ]
  },
  {
   "cell_type": "code",
   "execution_count": 8,
   "metadata": {
    "scrolled": false
   },
   "outputs": [
    {
     "data": {
      "text/plain": [
       "<matplotlib.axes._subplots.AxesSubplot at 0x7f2594f98940>"
      ]
     },
     "execution_count": 8,
     "metadata": {},
     "output_type": "execute_result"
    },
    {
     "data": {
      "image/png": "[encoded data removed]",
      "text/plain": [
       "<matplotlib.figure.Figure at 0x7f25cc5b3da0>"
      ]
     },
     "metadata": {},
     "output_type": "display_data"
    }
   ],
   "source": [
    "seaborn.distplot(data['SalePrice'])"
   ]
  },
  {
   "cell_type": "markdown",
   "metadata": {},
   "source": [
    "## baseline\n",
    "\n",
    "Try to reproduce result from third tutorial. It is important to make same test and train split with random state of value 17."
   ]
  },
  {
   "cell_type": "code",
   "execution_count": 9,
   "metadata": {},
   "outputs": [
    {
     "data": {
      "text/plain": [
       "((1095, 37), (365, 37))"
      ]
     },
     "execution_count": 9,
     "metadata": {},
     "output_type": "execute_result"
    }
   ],
   "source": [
    "columns = ['1stFlrSF', '2ndFlrSF', 'LowQualFinSF', 'GrLivArea', 'HasBsmtFinSF2',\n",
    "       'HasTotalBsmtSF', 'HasGarageArea', 'BldgType_1Fam', 'BldgType_2fmCon',\n",
    "       'BldgType_Duplex', 'BldgType_Twnhs', 'BldgType_TwnhsE', 'BsmtQual_0',\n",
    "       'BsmtQual_Ex', 'BsmtQual_Fa', 'BsmtQual_Gd', 'BsmtQual_TA',\n",
    "       'BsmtCond_0', 'BsmtExposure_0', 'BsmtExposure_Gd', 'BsmtFinType1_0',\n",
    "       'BsmtFinType1_ALQ', 'BsmtFinType1_GLQ', 'BsmtFinType2_Unf',\n",
    "       'CentralAir_N', 'CentralAir_Y', 'KitchenQual_Ex', 'KitchenQual_Fa',\n",
    "       'KitchenQual_Gd', 'KitchenQual_TA', 'GarageType_0', 'GarageFinish_0',\n",
    "       'GarageFinish_Fin', 'GarageFinish_RFn', 'GarageFinish_Unf',\n",
    "       'GarageQual_0', 'GarageCond_0']\n",
    "X = df_tr[columns]\n",
    "X_te = df_te[columns]\n",
    "X.shape, X_te.shape"
   ]
  },
  {
   "cell_type": "code",
   "execution_count": 10,
   "metadata": {},
   "outputs": [
    {
     "name": "stderr",
     "output_type": "stream",
     "text": [
      "/home/podondra/mi-pdd/venv/lib/python3.6/site-packages/pandas/core/indexing.py:517: SettingWithCopyWarning: \n",
      "A value is trying to be set on a copy of a slice from a DataFrame.\n",
      "Try using .loc[row_indexer,col_indexer] = value instead\n",
      "\n",
      "See the caveats in the documentation: http://pandas.pydata.org/pandas-docs/stable/indexing.html#indexing-view-versus-copy\n",
      "  self.obj[item] = s\n"
     ]
    }
   ],
   "source": [
    "scaler = StandardScaler()\n",
    "float_columns = ['1stFlrSF', '2ndFlrSF', 'LowQualFinSF', 'GrLivArea']\n",
    "scaler.fit(X[float_columns])\n",
    "\n",
    "X.loc[:, float_columns] = scaler.transform(X[float_columns])\n",
    "X_te.loc[:, float_columns] = scaler.transform(X_te[float_columns])"
   ]
  },
  {
   "cell_type": "code",
   "execution_count": 11,
   "metadata": {},
   "outputs": [
    {
     "data": {
      "text/plain": [
       "0.16323001845823623"
      ]
     },
     "execution_count": 11,
     "metadata": {},
     "output_type": "execute_result"
    }
   ],
   "source": [
    "clf = LinearRegression()\n",
    "clf.fit(X, y)\n",
    "numpy.sqrt(mean_squared_error(clf.predict(X_te), y_te))"
   ]
  },
  {
   "cell_type": "markdown",
   "metadata": {},
   "source": [
    "## pca"
   ]
  },
  {
   "cell_type": "markdown",
   "metadata": {},
   "source": [
    "Use PCA to transform features. Hereafter the feature obtained from PCA will be used."
   ]
  },
  {
   "cell_type": "code",
   "execution_count": 12,
   "metadata": {},
   "outputs": [],
   "source": [
    "X = df_tr.drop(['SalePrice'], axis=1)\n",
    "X_te = df_te.drop(['SalePrice'], axis=1)\n",
    "pca = PCA()\n",
    "X = pca.fit_transform(X)\n",
    "X_te = pca.transform(X_te)"
   ]
  },
  {
   "cell_type": "markdown",
   "metadata": {},
   "source": [
    "Cumulative sum shows that a few features can explain all variance. The first component explains more than 98% of all variance."
   ]
  },
  {
   "cell_type": "code",
   "execution_count": 13,
   "metadata": {
    "scrolled": false
   },
   "outputs": [
    {
     "data": {
      "text/plain": [
       "array([ 0.9875011 ,  0.99198839,  0.99491899,  0.99721524,  0.99864754,\n",
       "        0.99907533,  0.9993366 ,  0.99955073,  0.99971236,  0.99982809,\n",
       "        0.9998652 ,  0.9998944 ,  0.9999217 ,  0.99994501,  0.99996162,\n",
       "        0.99997517,  0.9999835 ,  0.99999162,  0.99999683,  0.99999851,\n",
       "        0.99999924,  0.99999943,  0.99999951,  0.99999959,  0.99999965,\n",
       "        0.99999971,  0.99999976,  0.9999998 ,  0.99999983,  0.99999986,\n",
       "        0.99999988,  0.99999988,  0.99999989,  0.9999999 ,  0.9999999 ,\n",
       "        0.99999991,  0.99999991,  0.99999992,  0.99999992,  0.99999992,\n",
       "        0.99999992,  0.99999993,  0.99999993,  0.99999993,  0.99999993,\n",
       "        0.99999993,  0.99999994,  0.99999994,  0.99999994,  0.99999994,\n",
       "        0.99999994,  0.99999995,  0.99999995,  0.99999995,  0.99999995,\n",
       "        0.99999995,  0.99999995,  0.99999995,  0.99999996,  0.99999996,\n",
       "        0.99999996,  0.99999996,  0.99999996,  0.99999996,  0.99999996,\n",
       "        0.99999996,  0.99999997,  0.99999997,  0.99999997,  0.99999997,\n",
       "        0.99999997,  0.99999997,  0.99999997,  0.99999997,  0.99999997,\n",
       "        0.99999997,  0.99999997,  0.99999997,  0.99999998,  0.99999998,\n",
       "        0.99999998,  0.99999998,  0.99999998,  0.99999998,  0.99999998,\n",
       "        0.99999998,  0.99999998,  0.99999998,  0.99999998,  0.99999998,\n",
       "        0.99999998,  0.99999998,  0.99999998,  0.99999998,  0.99999998,\n",
       "        0.99999998,  0.99999998,  0.99999999,  0.99999999,  0.99999999,\n",
       "        0.99999999,  0.99999999,  0.99999999,  0.99999999,  0.99999999,\n",
       "        0.99999999,  0.99999999,  0.99999999,  0.99999999,  0.99999999,\n",
       "        0.99999999,  0.99999999,  0.99999999,  0.99999999,  0.99999999,\n",
       "        0.99999999,  0.99999999,  0.99999999,  0.99999999,  0.99999999,\n",
       "        0.99999999,  0.99999999,  0.99999999,  0.99999999,  0.99999999,\n",
       "        0.99999999,  0.99999999,  0.99999999,  0.99999999,  0.99999999,\n",
       "        0.99999999,  0.99999999,  0.99999999,  0.99999999,  0.99999999,\n",
       "        0.99999999,  0.99999999,  0.99999999,  0.99999999,  1.        ,\n",
       "        1.        ,  1.        ,  1.        ,  1.        ,  1.        ,\n",
       "        1.        ,  1.        ,  1.        ,  1.        ,  1.        ,\n",
       "        1.        ,  1.        ,  1.        ,  1.        ,  1.        ,\n",
       "        1.        ,  1.        ,  1.        ,  1.        ,  1.        ,\n",
       "        1.        ,  1.        ,  1.        ,  1.        ,  1.        ,\n",
       "        1.        ,  1.        ,  1.        ,  1.        ,  1.        ,\n",
       "        1.        ,  1.        ,  1.        ,  1.        ,  1.        ,\n",
       "        1.        ,  1.        ,  1.        ,  1.        ,  1.        ,\n",
       "        1.        ,  1.        ,  1.        ,  1.        ,  1.        ,\n",
       "        1.        ,  1.        ,  1.        ,  1.        ,  1.        ,\n",
       "        1.        ,  1.        ,  1.        ,  1.        ,  1.        ,\n",
       "        1.        ,  1.        ,  1.        ,  1.        ,  1.        ,\n",
       "        1.        ,  1.        ,  1.        ,  1.        ,  1.        ,\n",
       "        1.        ,  1.        ,  1.        ,  1.        ,  1.        ,\n",
       "        1.        ,  1.        ,  1.        ,  1.        ,  1.        ,\n",
       "        1.        ,  1.        ,  1.        ,  1.        ,  1.        ,\n",
       "        1.        ,  1.        ,  1.        ,  1.        ,  1.        ,\n",
       "        1.        ,  1.        ,  1.        ,  1.        ,  1.        ,\n",
       "        1.        ,  1.        ,  1.        ,  1.        ,  1.        ,\n",
       "        1.        ,  1.        ,  1.        ,  1.        ,  1.        ,\n",
       "        1.        ,  1.        ,  1.        ,  1.        ,  1.        ,\n",
       "        1.        ,  1.        ,  1.        ,  1.        ,  1.        ,\n",
       "        1.        ,  1.        ,  1.        ,  1.        ,  1.        ,\n",
       "        1.        ,  1.        ,  1.        ,  1.        ,  1.        ,\n",
       "        1.        ,  1.        ,  1.        ,  1.        ,  1.        ,\n",
       "        1.        ,  1.        ,  1.        ,  1.        ,  1.        ,\n",
       "        1.        ,  1.        ,  1.        ,  1.        ,  1.        ,\n",
       "        1.        ,  1.        ,  1.        ,  1.        ,  1.        ,\n",
       "        1.        ,  1.        ,  1.        ,  1.        ,  1.        ,\n",
       "        1.        ,  1.        ,  1.        ,  1.        ,  1.        ,\n",
       "        1.        ,  1.        ,  1.        ,  1.        ,  1.        ,\n",
       "        1.        ,  1.        ,  1.        ,  1.        ,  1.        ,\n",
       "        1.        ,  1.        ,  1.        ,  1.        ,  1.        ,\n",
       "        1.        ,  1.        ,  1.        ,  1.        ,  1.        ,\n",
       "        1.        ,  1.        ,  1.        ,  1.        ,  1.        ,\n",
       "        1.        ,  1.        ,  1.        ,  1.        ,  1.        ,\n",
       "        1.        ,  1.        ,  1.        ,  1.        ,  1.        ])"
      ]
     },
     "execution_count": 13,
     "metadata": {},
     "output_type": "execute_result"
    }
   ],
   "source": [
    "numpy.cumsum(pca.explained_variance_ratio_)"
   ]
  },
  {
   "cell_type": "code",
   "execution_count": 14,
   "metadata": {},
   "outputs": [
    {
     "data": {
      "image/png": "[encoded data removed]",
      "text/plain": [
       "<matplotlib.figure.Figure at 0x7f2594df4ba8>"
      ]
     },
     "metadata": {},
     "output_type": "display_data"
    }
   ],
   "source": [
    "pyplot.scatter(X[:, 1], y, marker='.', alpha=0.5)\n",
    "pyplot.xlabel('pc1')\n",
    "pyplot.ylabel('sale price')\n",
    "pyplot.grid()"
   ]
  },
  {
   "cell_type": "code",
   "execution_count": 15,
   "metadata": {
    "scrolled": true
   },
   "outputs": [
    {
     "data": {
      "image/png": "[encoded data removed]",
      "text/plain": [
       "<matplotlib.figure.Figure at 0x7f2594d8e6a0>"
      ]
     },
     "metadata": {},
     "output_type": "display_data"
    }
   ],
   "source": [
    "fig, (ax1, ax2) = pyplot.subplots(nrows=2, sharex=True)\n",
    "ax1.plot(numpy.cumsum(pca.explained_variance_ratio_))\n",
    "ax2.bar(numpy.arange(pca.n_components_), pca.explained_variance_ratio_)\n",
    "ax2.set_xlabel('component index')\n",
    "for ax in ax1, ax2:\n",
    "    ax.set_ylabel('explained variance')"
   ]
  },
  {
   "cell_type": "markdown",
   "metadata": {},
   "source": [
    "Use linear regression for increasing number of principal components included in features given to it."
   ]
  },
  {
   "cell_type": "code",
   "execution_count": 16,
   "metadata": {
    "scrolled": true
   },
   "outputs": [],
   "source": [
    "rmsles = numpy.zeros(pca.n_components_)\n",
    "for components in range(1, pca.n_components_ + 1):\n",
    "    # evaluate linear regression\n",
    "    clf = LinearRegression()\n",
    "    clf.fit(X[:, :components], y)\n",
    "    rmsles[components - 1] = numpy.sqrt(mean_squared_error(clf.predict(X_te[:, :components]), y_te))"
   ]
  },
  {
   "cell_type": "markdown",
   "metadata": {},
   "source": [
    "Only for first 270 the result is reasonable."
   ]
  },
  {
   "cell_type": "code",
   "execution_count": 17,
   "metadata": {},
   "outputs": [
    {
     "data": {
      "text/plain": [
       "array([ 0.3802472 ,  0.21781312,  0.21731592,  0.21287837,  0.21223035,\n",
       "        0.21046961,  0.21043923,  0.20799312,  0.20281856,  0.20172175,\n",
       "        0.19868312,  0.19878116,  0.19867657,  0.19888151,  0.197469  ,\n",
       "        0.19771176,  0.19759091,  0.19748966,  0.16622964,  0.16721276,\n",
       "        0.16569035,  0.16257284,  0.16258953,  0.1625915 ,  0.16254302,\n",
       "        0.16358763,  0.16388133,  0.16111735,  0.16099353,  0.16281597,\n",
       "        0.16317173,  0.15357369,  0.15199754,  0.13017691,  0.13006103,\n",
       "        0.12984849,  0.12975767,  0.12959937,  0.12720304,  0.12716912,\n",
       "        0.12714826,  0.12724775,  0.12725059,  0.12725202,  0.12717588,\n",
       "        0.1278786 ,  0.12818847,  0.12812974,  0.12817903,  0.12809641,\n",
       "        0.1280278 ,  0.12759067,  0.12790158,  0.12797014,  0.12797198,\n",
       "        0.12812721,  0.1278682 ,  0.12830043,  0.12789238,  0.1273078 ,\n",
       "        0.12742324,  0.12700404,  0.12700859,  0.12772699,  0.12741645,\n",
       "        0.12712191,  0.12691366,  0.12690494,  0.126702  ,  0.12696435,\n",
       "        0.12782935,  0.1277404 ,  0.12719597,  0.12702957,  0.12788521,\n",
       "        0.12759236,  0.1270321 ,  0.12498094,  0.12483388,  0.12490493,\n",
       "        0.1250634 ,  0.12533392,  0.12525057,  0.12492397,  0.12500973,\n",
       "        0.12521733,  0.12489144,  0.12442981,  0.12434968,  0.12443549,\n",
       "        0.12439509,  0.124404  ,  0.12469506,  0.12506869,  0.12506283,\n",
       "        0.12512721,  0.12482359,  0.12512736,  0.12546088,  0.12640532,\n",
       "        0.12634084,  0.12659336,  0.12727258,  0.12731699,  0.12735358,\n",
       "        0.1273718 ,  0.12731044,  0.12732698,  0.12732663,  0.12717549,\n",
       "        0.1271069 ,  0.12672619,  0.12670934,  0.12671324,  0.12685006,\n",
       "        0.12633882,  0.12529531,  0.12528257,  0.12396071,  0.12358638,\n",
       "        0.12350221,  0.12310337,  0.12293869,  0.12296075,  0.12325465,\n",
       "        0.12313754,  0.12312658,  0.12315839,  0.12305785,  0.12304991,\n",
       "        0.12311647,  0.12295012,  0.12257057,  0.12261118,  0.12269874,\n",
       "        0.1226932 ,  0.12232584,  0.12171344,  0.12175111,  0.1223119 ,\n",
       "        0.12164917,  0.12179662,  0.12177395,  0.12142585,  0.12137339,\n",
       "        0.12141853,  0.11989825,  0.11989621,  0.11971445,  0.11971765,\n",
       "        0.11975231,  0.12005875,  0.12121834,  0.12118711,  0.12096651,\n",
       "        0.12074216,  0.11967674,  0.11975992,  0.11971312,  0.11998144,\n",
       "        0.11993789,  0.1203838 ,  0.12054554,  0.12061508,  0.12058496,\n",
       "        0.12030512,  0.12092641,  0.12078468,  0.12111719,  0.12103996,\n",
       "        0.12104033,  0.12103795,  0.12108431,  0.1210892 ,  0.12145691,\n",
       "        0.12150224,  0.12166624,  0.12203575,  0.12221073,  0.12226045,\n",
       "        0.12222293,  0.12136238,  0.12122705,  0.12123386,  0.12112857,\n",
       "        0.12092293,  0.12061601,  0.12062173,  0.11986131,  0.11970475,\n",
       "        0.11935202,  0.11898563,  0.11917795,  0.11889631,  0.11833066,\n",
       "        0.1183445 ,  0.11797271,  0.11812299,  0.11800008,  0.11798777,\n",
       "        0.11868055,  0.11873686,  0.11873134,  0.11878836,  0.11875653,\n",
       "        0.11873723,  0.11866187,  0.11872573,  0.11778506,  0.11764933,\n",
       "        0.11764448,  0.11776299,  0.11789669,  0.11795379,  0.11731781,\n",
       "        0.11727733,  0.1174136 ,  0.11747278,  0.11852107,  0.11856949,\n",
       "        0.11840031,  0.12037457,  0.12037778,  0.12178571,  0.1215758 ,\n",
       "        0.12222282,  0.1210593 ,  0.1210644 ,  0.12088038,  0.12097659,\n",
       "        0.12060635,  0.12157122,  0.1211924 ,  0.12159105,  0.12160208,\n",
       "        0.12146907,  0.12154207,  0.12151466,  0.12153086,  0.12192993,\n",
       "        0.12195154,  0.12196518,  0.12283039,  0.12291186,  0.12299359,\n",
       "        0.12341251,  0.12340052,  0.12310338,  0.12318885,  0.12321043,\n",
       "        0.12375916,  0.12423836,  0.12424898,  0.12429611,  0.1253302 ,\n",
       "        0.12857657,  0.12836237,  0.1281737 ,  0.1295003 ,  0.13063793,\n",
       "        0.12910126,  0.12924744,  0.12880262,  0.12869461,  0.1319881 ,\n",
       "        0.13239076,  0.13149854,  0.1314945 ,  0.13129777,  0.13072243])"
      ]
     },
     "execution_count": 17,
     "metadata": {},
     "output_type": "execute_result"
    }
   ],
   "source": [
    "reasonable = 270\n",
    "rmsles[:reasonable]"
   ]
  },
  {
   "cell_type": "code",
   "execution_count": 18,
   "metadata": {},
   "outputs": [
    {
     "data": {
      "text/plain": [
       "array([   37861.39282989,   891933.06047349,  5896035.85304205,\n",
       "        7642155.56323879,  4728534.34639997,  3770159.5945227 ,\n",
       "        4260633.88264444,  4217537.00331617,  4013541.33677028,\n",
       "        4644727.67060017,  7077263.15048093,  6113119.7760115 ,\n",
       "        7488005.56810639,  7488005.56810424,  4154792.14225471,\n",
       "        2836119.01862223,  2725500.15489129,  1915626.67697034,\n",
       "        2069084.30570338,  1622452.56737225,  1622452.56738434,\n",
       "        1256662.18803097,  1660971.73614806,  2038973.15735037,\n",
       "        2209799.84954272,  5014341.90262042,   981834.31040509,\n",
       "        1480092.01600105,   364119.50892454,  1741003.93371873,\n",
       "        2365838.62761732,  1661363.86967515,  1661363.86971933,\n",
       "        1694250.54715852,  1192906.92626881,   210039.55051788,\n",
       "         429391.92469534,   683754.60855891,  1405252.66774811,\n",
       "        1583303.52358204,  2695994.16956852,  2909838.30246954,\n",
       "        3225522.13999646,  1230019.54256152,  1113792.18218354,\n",
       "         954234.58967701,   647032.46862332,   297213.36210068,\n",
       "        1046862.8063928 ,  1138309.16227289,  3227842.12276271,\n",
       "        2826731.8694648 ,  2692281.46686457,  2939625.70670687,\n",
       "        3929831.41873384])"
      ]
     },
     "execution_count": 18,
     "metadata": {},
     "output_type": "execute_result"
    }
   ],
   "source": [
    "rmsles[270:]"
   ]
  },
  {
   "cell_type": "markdown",
   "metadata": {},
   "source": [
    "The best result is for first 216 principal components."
   ]
  },
  {
   "cell_type": "code",
   "execution_count": 19,
   "metadata": {},
   "outputs": [
    {
     "data": {
      "text/plain": [
       "(216, 0.11727733440522341)"
      ]
     },
     "execution_count": 19,
     "metadata": {},
     "output_type": "execute_result"
    }
   ],
   "source": [
    "numpy.argmin(rmsles) + 1, numpy.min(rmsles)"
   ]
  },
  {
   "cell_type": "code",
   "execution_count": 20,
   "metadata": {
    "scrolled": true
   },
   "outputs": [
    {
     "data": {
      "text/plain": [
       "<matplotlib.text.Text at 0x7f259226eef0>"
      ]
     },
     "execution_count": 20,
     "metadata": {},
     "output_type": "execute_result"
    },
    {
     "data": {
      "image/png": "[encoded data removed]",
      "text/plain": [
       "<matplotlib.figure.Figure at 0x7f2592273518>"
      ]
     },
     "metadata": {},
     "output_type": "display_data"
    }
   ],
   "source": [
    "pyplot.scatter(range(1, pca.n_components_ + 1)[:reasonable], rmsles[:reasonable], marker='.')\n",
    "pyplot.grid()\n",
    "pyplot.ylabel('RMSLE')\n",
    "pyplot.xlabel('number of PCs')"
   ]
  },
  {
   "cell_type": "markdown",
   "metadata": {},
   "source": [
    "## remove discrete features"
   ]
  },
  {
   "cell_type": "code",
   "execution_count": 21,
   "metadata": {},
   "outputs": [
    {
     "name": "stdout",
     "output_type": "stream",
     "text": [
      "<class 'pandas.core.frame.DataFrame'>\n",
      "Int64Index: 1460 entries, 1 to 1460\n",
      "Columns: 326 entries, MSSubClass to SaleCondition_Partial\n",
      "dtypes: float64(32), int64(294)\n",
      "memory usage: 3.6 MB\n"
     ]
    }
   ],
   "source": [
    "data.info()"
   ]
  },
  {
   "cell_type": "code",
   "execution_count": 22,
   "metadata": {},
   "outputs": [],
   "source": [
    "data_float = data.select_dtypes(include=['float64'])\n",
    "df_tr, df_te = train_test_split(data_float, test_size=0.25, random_state=17)\n",
    "\n",
    "X = df_tr.drop(['SalePrice'], axis=1)\n",
    "X_te = df_te.drop(['SalePrice'], axis=1)\n",
    "\n",
    "pca = PCA()\n",
    "X = pca.fit_transform(X)\n",
    "X_te = pca.transform(X_te)"
   ]
  },
  {
   "cell_type": "code",
   "execution_count": 23,
   "metadata": {},
   "outputs": [
    {
     "data": {
      "text/plain": [
       "32"
      ]
     },
     "execution_count": 23,
     "metadata": {},
     "output_type": "execute_result"
    }
   ],
   "source": [
    "len(df_tr.columns)"
   ]
  },
  {
   "cell_type": "code",
   "execution_count": 24,
   "metadata": {},
   "outputs": [
    {
     "data": {
      "image/png": "[encoded data removed]",
      "text/plain": [
       "<matplotlib.figure.Figure at 0x7f2592502ac8>"
      ]
     },
     "metadata": {},
     "output_type": "display_data"
    }
   ],
   "source": [
    "fig, (ax1, ax2) = pyplot.subplots(nrows=2, sharex=True)\n",
    "ax1.plot(numpy.cumsum(pca.explained_variance_ratio_))\n",
    "ax2.bar(numpy.arange(pca.n_components_), pca.explained_variance_ratio_)\n",
    "ax2.set_xlabel('component index')\n",
    "for ax in ax1, ax2:\n",
    "    ax.set_ylabel('explained variance')"
   ]
  },
  {
   "cell_type": "code",
   "execution_count": 25,
   "metadata": {},
   "outputs": [
    {
     "data": {
      "text/plain": [
       "array([ 0.38244406,  0.34724447,  0.33662012,  0.31915734,  0.31658574,\n",
       "        0.30999752,  0.21257418,  0.21041995,  0.21094305,  0.19678426,\n",
       "        0.1942802 ,  0.19354666,  0.1907478 ,  0.19114909,  0.19136873,\n",
       "        0.19099085,  0.1914087 ,  0.18734285,  0.18810919,  0.18548345,\n",
       "        0.18547313,  0.1845619 ,  0.18657063,  0.18661693,  0.18633987,\n",
       "        0.18613803,  0.18593606,  0.18348403,  0.17881212,  0.1769557 ,\n",
       "        0.17758495])"
      ]
     },
     "execution_count": 25,
     "metadata": {},
     "output_type": "execute_result"
    }
   ],
   "source": [
    "rmsles = numpy.zeros(pca.n_components_)\n",
    "for components in range(1, pca.n_components_ + 1):\n",
    "    # evaluate linear regression\n",
    "    clf = LinearRegression()\n",
    "    clf.fit(X[:, :components], y)\n",
    "    rmsles[components - 1] = numpy.sqrt(mean_squared_error(clf.predict(X_te[:, :components]), y_te))\n",
    "rmsles"
   ]
  },
  {
   "cell_type": "code",
   "execution_count": 26,
   "metadata": {},
   "outputs": [
    {
     "data": {
      "text/plain": [
       "(0.17695569504316064, 30)"
      ]
     },
     "execution_count": 26,
     "metadata": {},
     "output_type": "execute_result"
    }
   ],
   "source": [
    "rmsles.min(), rmsles.argmin() + 1"
   ]
  },
  {
   "cell_type": "code",
   "execution_count": 27,
   "metadata": {},
   "outputs": [
    {
     "data": {
      "text/plain": [
       "<matplotlib.text.Text at 0x7f259250c630>"
      ]
     },
     "execution_count": 27,
     "metadata": {},
     "output_type": "execute_result"
    },
    {
     "data": {
      "image/png": "[encoded data removed]",
      "text/plain": [
       "<matplotlib.figure.Figure at 0x7f2592155908>"
      ]
     },
     "metadata": {},
     "output_type": "display_data"
    }
   ],
   "source": [
    "pyplot.scatter(range(1, pca.n_components_ + 1), rmsles, marker='.')\n",
    "pyplot.grid()\n",
    "pyplot.ylabel('RMSLE')\n",
    "pyplot.xlabel('number of PCs')"
   ]
  },
  {
   "cell_type": "markdown",
   "metadata": {},
   "source": [
    "The result without discrete features after PCA application is worse than on raw data."
   ]
  },
  {
   "cell_type": "markdown",
   "metadata": {},
   "source": [
    "## removing indicators"
   ]
  },
  {
   "cell_type": "code",
   "execution_count": 28,
   "metadata": {
    "scrolled": true
   },
   "outputs": [
    {
     "data": {
      "image/png": "[encoded data removed]",
      "text/plain": [
       "<matplotlib.figure.Figure at 0x7f25920d5ac8>"
      ]
     },
     "metadata": {},
     "output_type": "display_data"
    }
   ],
   "source": [
    "data_rich = data.drop(data.columns[data.nunique() <= 2], axis=1)\n",
    "df_tr, df_te = train_test_split(data_rich, test_size=0.25, random_state=17)\n",
    "\n",
    "X = df_tr.drop(['SalePrice'], axis=1)\n",
    "X_te = df_te.drop(['SalePrice'], axis=1)\n",
    "\n",
    "pca = PCA()\n",
    "X = pca.fit_transform(X)\n",
    "X_te = pca.transform(X_te)\n",
    "\n",
    "fig, (ax1, ax2) = pyplot.subplots(nrows=2, sharex=True)\n",
    "ax1.plot(numpy.cumsum(pca.explained_variance_ratio_))\n",
    "ax2.bar(numpy.arange(pca.n_components_), pca.explained_variance_ratio_)\n",
    "ax2.set_xlabel('component index')\n",
    "for ax in ax1, ax2:\n",
    "    ax.set_ylabel('explained variance')"
   ]
  },
  {
   "cell_type": "code",
   "execution_count": 29,
   "metadata": {},
   "outputs": [
    {
     "data": {
      "text/plain": [
       "64"
      ]
     },
     "execution_count": 29,
     "metadata": {},
     "output_type": "execute_result"
    }
   ],
   "source": [
    "len(df_tr.columns)"
   ]
  },
  {
   "cell_type": "code",
   "execution_count": 30,
   "metadata": {
    "scrolled": true
   },
   "outputs": [
    {
     "data": {
      "text/plain": [
       "array([ 0.3802472 ,  0.21781354,  0.21731635,  0.2128788 ,  0.21223075,\n",
       "        0.21047018,  0.21043981,  0.20799389,  0.20281986,  0.20172318,\n",
       "        0.19868637,  0.1987847 ,  0.19868036,  0.19888534,  0.19747321,\n",
       "        0.1977164 ,  0.197596  ,  0.19749654,  0.16625872,  0.16724059,\n",
       "        0.16572128,  0.16257578,  0.16258377,  0.16263944,  0.16258724,\n",
       "        0.16365063,  0.16396399,  0.16138171,  0.16127186,  0.16310387,\n",
       "        0.16371003,  0.15970164,  0.14779837,  0.13204239,  0.13205111,\n",
       "        0.13057754,  0.13073882,  0.13088791,  0.13080792,  0.13055598,\n",
       "        0.1301264 ,  0.12992815,  0.13012523,  0.12977867,  0.12995299,\n",
       "        0.12995112,  0.12995042,  0.13019345,  0.13060619,  0.12948126,\n",
       "        0.1293274 ,  0.12763306,  0.12761926,  0.12750719,  0.12775252,\n",
       "        0.12780133,  0.12752995,  0.12738328,  0.12725287,  0.12731588,\n",
       "        0.12702606,  0.12702606,  0.12702606])"
      ]
     },
     "execution_count": 30,
     "metadata": {},
     "output_type": "execute_result"
    }
   ],
   "source": [
    "rmsles = numpy.zeros(pca.n_components_)\n",
    "for components in range(1, pca.n_components_ + 1):\n",
    "    # evaluate linear Regression\n",
    "    clf = LinearRegression()\n",
    "    clf.fit(X[:, :components], y)\n",
    "    rmsles[components - 1] = numpy.sqrt(mean_squared_error(clf.predict(X_te[:, :components]), y_te))\n",
    "rmsles"
   ]
  },
  {
   "cell_type": "code",
   "execution_count": 31,
   "metadata": {},
   "outputs": [
    {
     "data": {
      "text/plain": [
       "(0.12702605501699113, 61)"
      ]
     },
     "execution_count": 31,
     "metadata": {},
     "output_type": "execute_result"
    }
   ],
   "source": [
    "rmsles.min(), rmsles.argmin() + 1"
   ]
  },
  {
   "cell_type": "code",
   "execution_count": 32,
   "metadata": {
    "scrolled": true
   },
   "outputs": [
    {
     "data": {
      "text/plain": [
       "<matplotlib.text.Text at 0x7f2591ef4f98>"
      ]
     },
     "execution_count": 32,
     "metadata": {},
     "output_type": "execute_result"
    },
    {
     "data": {
      "image/png": "[encoded data removed]",
      "text/plain": [
       "<matplotlib.figure.Figure at 0x7f2591df75f8>"
      ]
     },
     "metadata": {},
     "output_type": "display_data"
    }
   ],
   "source": [
    "pyplot.scatter(range(1, pca.n_components_ + 1), rmsles, marker='.')\n",
    "pyplot.grid()\n",
    "pyplot.ylabel('RMSLE')\n",
    "pyplot.xlabel('number of PCs')"
   ]
  },
  {
   "cell_type": "markdown",
   "metadata": {},
   "source": [
    "Result without indicators is also almost as good as with all PCA features but it uses much only 61 features."
   ]
  },
  {
   "cell_type": "markdown",
   "metadata": {},
   "source": [
    "## feature selection\n",
    "\n",
    "select as less as possible features"
   ]
  },
  {
   "cell_type": "code",
   "execution_count": 33,
   "metadata": {},
   "outputs": [],
   "source": [
    "df_tr, df_te = train_test_split(data, test_size=0.25, random_state=17)\n",
    "X = df_tr.drop(['SalePrice'], axis=1)\n",
    "X_te = df_te.drop(['SalePrice'], axis=1)\n",
    "pca = PCA()\n",
    "X = pca.fit_transform(X)\n",
    "X_te = pca.transform(X_te)"
   ]
  },
  {
   "cell_type": "markdown",
   "metadata": {},
   "source": [
    "### univariate feature selection"
   ]
  },
  {
   "cell_type": "markdown",
   "metadata": {},
   "source": [
    "#### f-test"
   ]
  },
  {
   "cell_type": "code",
   "execution_count": 34,
   "metadata": {},
   "outputs": [
    {
     "data": {
      "text/plain": [
       "(46, 0.12423298116253431)"
      ]
     },
     "execution_count": 34,
     "metadata": {},
     "output_type": "execute_result"
    }
   ],
   "source": [
    "rmsles = numpy.zeros(pca.n_components_)\n",
    "for k in range(1, pca.n_components_ + 1):\n",
    "    kbest = SelectKBest(f_regression, k=k)\n",
    "    X_new = kbest.fit_transform(X, y)\n",
    "    X_te_new = kbest.transform(X_te)\n",
    "    clf = LinearRegression()\n",
    "    clf.fit(X_new, y)\n",
    "    rmsles[k - 1] = numpy.sqrt(mean_squared_error(clf.predict(X_te_new), y_te))\n",
    "rmsles.argmin() + 1, rmsles.min()"
   ]
  },
  {
   "cell_type": "code",
   "execution_count": 35,
   "metadata": {},
   "outputs": [
    {
     "data": {
      "text/plain": [
       "(0, 0.5)"
      ]
     },
     "execution_count": 35,
     "metadata": {},
     "output_type": "execute_result"
    },
    {
     "data": {
      "image/png": "[encoded data removed]",
      "text/plain": [
       "<matplotlib.figure.Figure at 0x7f2591e3fb70>"
      ]
     },
     "metadata": {},
     "output_type": "display_data"
    }
   ],
   "source": [
    "pyplot.scatter(range(1, pca.n_components_ + 1), rmsles, marker='.')\n",
    "pyplot.grid()\n",
    "pyplot.ylabel('RMSLE')\n",
    "pyplot.xlabel('features selected')\n",
    "pyplot.ylim(bottom=0, top=0.5)"
   ]
  },
  {
   "cell_type": "code",
   "execution_count": 36,
   "metadata": {},
   "outputs": [
    {
     "data": {
      "text/plain": [
       "0.12423298116253431"
      ]
     },
     "execution_count": 36,
     "metadata": {},
     "output_type": "execute_result"
    }
   ],
   "source": [
    "kbest = SelectKBest(f_regression, k=46)\n",
    "X_new = kbest.fit_transform(X, y)\n",
    "X_te_new = kbest.transform(X_te)\n",
    "clf = LinearRegression()\n",
    "clf.fit(X_new, y)\n",
    "numpy.sqrt(mean_squared_error(clf.predict(X_te_new), y_te))"
   ]
  },
  {
   "cell_type": "markdown",
   "metadata": {},
   "source": [
    "Principal components selected."
   ]
  },
  {
   "cell_type": "code",
   "execution_count": 37,
   "metadata": {},
   "outputs": [
    {
     "data": {
      "text/plain": [
       "1      1.121466e-200\n",
       "18      3.537404e-24\n",
       "0       1.367344e-16\n",
       "33      3.118779e-16\n",
       "8       1.588937e-05\n",
       "21      1.859706e-04\n",
       "7       1.997632e-04\n",
       "31      3.459629e-04\n",
       "10      5.597575e-04\n",
       "4       1.353227e-03\n",
       "29      1.438502e-02\n",
       "27      2.104405e-02\n",
       "77      3.088920e-02\n",
       "2       3.268683e-02\n",
       "20      3.798024e-02\n",
       "9       3.871748e-02\n",
       "19      3.972590e-02\n",
       "32      4.062324e-02\n",
       "38      4.774559e-02\n",
       "11      7.597593e-02\n",
       "14      9.074228e-02\n",
       "16      9.139731e-02\n",
       "25      9.371271e-02\n",
       "260     1.142463e-01\n",
       "3       1.283447e-01\n",
       "78      1.886342e-01\n",
       "56      2.044750e-01\n",
       "221     2.130959e-01\n",
       "116     2.244030e-01\n",
       "181     2.543902e-01\n",
       "72      2.604215e-01\n",
       "102     2.886112e-01\n",
       "266     3.054223e-01\n",
       "107     3.108734e-01\n",
       "93      3.120679e-01\n",
       "57      3.251932e-01\n",
       "59      3.288977e-01\n",
       "200     3.313249e-01\n",
       "83      3.395976e-01\n",
       "99      3.598419e-01\n",
       "118     3.611264e-01\n",
       "37      3.618074e-01\n",
       "174     3.695772e-01\n",
       "76      3.755943e-01\n",
       "44      3.844368e-01\n",
       "164     3.848721e-01\n",
       "dtype: float64"
      ]
     },
     "execution_count": 37,
     "metadata": {},
     "output_type": "execute_result"
    }
   ],
   "source": [
    "pandas.Series(kbest.pvalues_).nsmallest(46)"
   ]
  },
  {
   "cell_type": "markdown",
   "metadata": {},
   "source": [
    "### recursive feature elimination"
   ]
  },
  {
   "cell_type": "code",
   "execution_count": 38,
   "metadata": {},
   "outputs": [],
   "source": [
    "# remove indicators\n",
    "data_ = data.drop(data.columns[data.nunique() <= 2], axis=1)\n",
    "df_tr, df_te = train_test_split(data_, test_size=0.25, random_state=17)\n",
    "X = df_tr.drop(['SalePrice'], axis=1)\n",
    "y = df_tr['SalePrice']\n",
    "X_te = df_te.drop(['SalePrice'], axis=1)\n",
    "y_te = df_te['SalePrice']\n",
    "pca = PCA()\n",
    "X = pca.fit_transform(X)\n",
    "X_te = pca.transform(X_te)"
   ]
  },
  {
   "cell_type": "code",
   "execution_count": 39,
   "metadata": {},
   "outputs": [
    {
     "data": {
      "text/plain": [
       "((1460, 64), (1460, 326))"
      ]
     },
     "execution_count": 39,
     "metadata": {},
     "output_type": "execute_result"
    }
   ],
   "source": [
    "data_.shape, data.shape"
   ]
  },
  {
   "cell_type": "code",
   "execution_count": 40,
   "metadata": {},
   "outputs": [],
   "source": [
    "scaler = StandardScaler()\n",
    "X_scaled = scaler.fit_transform(X)\n",
    "X_te_scaled = scaler.transform(X_te)"
   ]
  },
  {
   "cell_type": "code",
   "execution_count": 41,
   "metadata": {},
   "outputs": [
    {
     "data": {
      "text/plain": [
       "array([ 1.,  1.,  1.,  1.,  1.,  1.,  1.,  1.,  1.,  1.,  1.,  1.,  1.,\n",
       "        1.,  1.,  1.,  1.,  1.,  1.,  1.,  1.,  1.,  1.,  1.,  1.,  1.,\n",
       "        1.,  1.,  1.,  1.,  1.,  1.,  1.,  1.,  1.,  1.,  1.,  1.,  1.,\n",
       "        1.,  1.,  1.,  1.,  1.,  1.,  1.,  1.,  1.,  1.,  1.,  1.,  1.,\n",
       "        1.,  1.,  1.,  1.,  1.,  1.,  1.,  1.,  1.,  1.,  1.])"
      ]
     },
     "execution_count": 41,
     "metadata": {},
     "output_type": "execute_result"
    }
   ],
   "source": [
    "X_scaled.std(axis=0)"
   ]
  },
  {
   "cell_type": "code",
   "execution_count": 42,
   "metadata": {},
   "outputs": [
    {
     "data": {
      "text/plain": [
       "array([  3.24448738e-18,   1.29779495e-17,  -2.92003864e-17,\n",
       "        -3.24448738e-18,   9.73346213e-18,  -1.21668277e-17,\n",
       "        -8.92234029e-18,   1.94669243e-17,  -1.94669243e-17,\n",
       "         8.11121844e-18,   6.48897476e-18,  -3.24448738e-18,\n",
       "         0.00000000e+00,  -1.78446806e-17,   1.29779495e-17,\n",
       "        -6.48897476e-18,  -1.13557058e-17,  -3.24448738e-18,\n",
       "        -9.73346213e-18,   3.24448738e-18,   3.24448738e-18,\n",
       "        -8.11121844e-19,   3.08226301e-17,   8.11121844e-18,\n",
       "         1.29779495e-17,  -2.02780461e-18,  -1.29779495e-17,\n",
       "        -1.29779495e-17,   8.11121844e-18,   6.48897476e-18,\n",
       "        -2.75781427e-17,   1.62224369e-18,   3.24448738e-18,\n",
       "         9.73346213e-18,   1.29779495e-17,  -1.29779495e-17,\n",
       "        -8.11121844e-18,   9.73346213e-18,   0.00000000e+00,\n",
       "        -1.62224369e-17,   1.62224369e-17,   2.55503381e-17,\n",
       "        -1.21668277e-17,   3.24448738e-18,   1.29779495e-17,\n",
       "         1.13557058e-17,   2.19002898e-17,   4.05560922e-18,\n",
       "        -8.11121844e-18,  -1.62224369e-18,   1.01390231e-17,\n",
       "         0.00000000e+00,   1.94669243e-17,   6.48897476e-18,\n",
       "         8.11121844e-18,  -2.43336553e-18,   3.24448738e-18,\n",
       "        -9.73346213e-18,   6.48897476e-18,  -6.48897476e-18,\n",
       "         1.62224369e-18,   7.30009660e-18,   1.62224369e-17])"
      ]
     },
     "execution_count": 42,
     "metadata": {},
     "output_type": "execute_result"
    }
   ],
   "source": [
    "X_scaled.mean(axis=0)"
   ]
  },
  {
   "cell_type": "code",
   "execution_count": 43,
   "metadata": {},
   "outputs": [
    {
     "data": {
      "text/plain": [
       "LinearRegression(copy_X=True, fit_intercept=True, n_jobs=1, normalize=False)"
      ]
     },
     "execution_count": 43,
     "metadata": {},
     "output_type": "execute_result"
    }
   ],
   "source": [
    "clf = LinearRegression()\n",
    "clf.fit(X_scaled, y)"
   ]
  },
  {
   "cell_type": "code",
   "execution_count": 44,
   "metadata": {},
   "outputs": [
    {
     "data": {
      "text/plain": [
       "<matplotlib.collections.PathCollection at 0x7f2591c3bfd0>"
      ]
     },
     "execution_count": 44,
     "metadata": {},
     "output_type": "execute_result"
    },
    {
     "data": {
      "image/png": "[encoded data removed]",
      "text/plain": [
       "<matplotlib.figure.Figure at 0x7f2591cdae80>"
      ]
     },
     "metadata": {},
     "output_type": "display_data"
    }
   ],
   "source": [
    "pyplot.scatter(range(1, len(clf.coef_) + 1), clf.coef_)"
   ]
  },
  {
   "cell_type": "code",
   "execution_count": 45,
   "metadata": {},
   "outputs": [
    {
     "data": {
      "text/plain": [
       "0.12712236837495627"
      ]
     },
     "execution_count": 45,
     "metadata": {},
     "output_type": "execute_result"
    }
   ],
   "source": [
    "numpy.sqrt(mean_squared_error(clf.predict(X_te_scaled), y_te))"
   ]
  },
  {
   "cell_type": "code",
   "execution_count": 46,
   "metadata": {},
   "outputs": [
    {
     "name": "stdout",
     "output_type": "stream",
     "text": [
      "1 0.39652084453\n",
      "2 0.395417973306\n",
      "3 0.395421284336\n",
      "4 0.395452652642\n",
      "5 0.395235422675\n",
      "6 0.393783921919\n",
      "7 0.393803962641\n",
      "8 0.393832733814\n",
      "9 0.387907547886\n",
      "10 0.38668697343\n",
      "11 0.386028648664\n",
      "12 0.378518794824\n",
      "13 0.378764654278\n",
      "14 0.378551932261\n",
      "15 0.379154600204\n",
      "16 0.377852334409\n",
      "17 0.377733829477\n",
      "18 0.377810403019\n",
      "19 0.377864393708\n",
      "20 0.377917951178\n",
      "21 0.37700044871\n",
      "22 0.377845762364\n",
      "23 0.377812390305\n",
      "24 0.377660604164\n",
      "25 0.375520436784\n",
      "26 0.375726609439\n",
      "27 0.367593806453\n",
      "28 0.367785926436\n",
      "29 0.367503664443\n",
      "30 0.347564123401\n",
      "31 0.34750470952\n",
      "32 0.347765113394\n",
      "33 0.347847717198\n",
      "34 0.345444281269\n",
      "35 0.345460289256\n",
      "36 0.345464766727\n",
      "37 0.348633445991\n",
      "38 0.34822093283\n",
      "39 0.348133951571\n",
      "40 0.34781713928\n",
      "41 0.347137068585\n",
      "42 0.344555074302\n",
      "43 0.341641279977\n",
      "44 0.173014695823\n",
      "45 0.165199285478\n",
      "46 0.164245098476\n",
      "47 0.164196030002\n",
      "48 0.158215301047\n",
      "49 0.153533008396\n",
      "50 0.153530956881\n",
      "51 0.152547779453\n",
      "52 0.15259367808\n",
      "53 0.15234202209\n",
      "54 0.15247422188\n",
      "55 0.149499170403\n",
      "56 0.149498392307\n",
      "57 0.146016521632\n",
      "58 0.146154868018\n",
      "59 0.145246854776\n",
      "60 0.143156984193\n",
      "61 0.127026055017\n",
      "62 0.127026055017\n",
      "63 0.127026055017\n"
     ]
    }
   ],
   "source": [
    "rmsles = list()\n",
    "for k in range(1, X.shape[1] + 1):\n",
    "    clf = LinearRegression()\n",
    "    rfe = RFE(estimator=clf, n_features_to_select=k, step=1)\n",
    "    rfe.fit(X, y)\n",
    "    clf.fit(rfe.transform(X), y)\n",
    "    rmsles.append(numpy.sqrt(mean_squared_error(clf.predict(rfe.transform(X_te)), y_te)))    \n",
    "    print(k, rmsles[-1])"
   ]
  },
  {
   "cell_type": "code",
   "execution_count": 47,
   "metadata": {},
   "outputs": [
    {
     "data": {
      "text/plain": [
       "(0.12702605501699107, 61)"
      ]
     },
     "execution_count": 47,
     "metadata": {},
     "output_type": "execute_result"
    }
   ],
   "source": [
    "rmsles = numpy.array(rmsles)\n",
    "rmsles.min(), rmsles.argmin() + 1"
   ]
  },
  {
   "cell_type": "code",
   "execution_count": 48,
   "metadata": {},
   "outputs": [
    {
     "data": {
      "image/png": "[encoded data removed]",
      "text/plain": [
       "<matplotlib.figure.Figure at 0x7f2591c6aeb8>"
      ]
     },
     "metadata": {},
     "output_type": "display_data"
    }
   ],
   "source": [
    "pyplot.scatter(range(1, X.shape[1] + 1), rmsles, marker='.')\n",
    "pyplot.grid()"
   ]
  },
  {
   "cell_type": "markdown",
   "metadata": {},
   "source": [
    "With recursive approach score is not as good as with f-test approach."
   ]
  },
  {
   "cell_type": "markdown",
   "metadata": {},
   "source": [
    "## Conclusion\n",
    "\n",
    "### for the attached clean data try to use linear regression applied on features given by PCA\n",
    "\n",
    "For first 216 PCs RMSLE is 0.11727733440522341.\n",
    "\n",
    "### select as less as possible features so that the results are comparably good to RMSLE around 0.12\n",
    "\n",
    "With univariate feature selection (f-test) it can select 46 PCs with RMSLE 0.12423298116253431.\n",
    "\n",
    "### has removing indicator or discrete features a positive influence\n",
    "\n",
    "Removing indicator or discrete features does not have positive influence in case of this selection.\n",
    "The RMSLE 0.11727733440522341 was also obtained with discrete features and indicators included.\n",
    "\n",
    "### is the first principal components always the best choice?\n",
    "\n",
    "In the results with RMSLE 0.11727733440522341 and 0.12423298116253431 the first PC is included\n",
    "so I consider it important."
   ]
  }
 ],
 "metadata": {
  "kernelspec": {
   "display_name": "Python 3",
   "language": "python",
   "name": "python3"
  },
  "language_info": {
   "codemirror_mode": {
    "name": "ipython",
    "version": 3
   },
   "file_extension": ".py",
   "mimetype": "text/x-python",
   "name": "python",
   "nbconvert_exporter": "python",
   "pygments_lexer": "ipython3",
   "version": "3.6.4"
  }
 },
 "nbformat": 4,
 "nbformat_minor": 2
}
