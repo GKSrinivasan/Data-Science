{
 "cells": [
  {
   "cell_type": "markdown",
   "metadata": {},
   "source": [
    "# Feature Selection and Transformations\n",
    "\n",
    "1. load `data/data.csv`\n",
    "2. analyze the distribution of `price` and try to transform it into normal distibution\n",
    "3. perform proper feature transformations\n",
    "4. remove all irelevant features\n",
    "5. select a proper subset of features\n",
    "6. try to construct linear regression model to predict prices and evaluate its root mean squared logarithmic error"
   ]
  },
  {
   "cell_type": "code",
   "execution_count": 1,
   "metadata": {},
   "outputs": [],
   "source": [
    "import pandas\n",
    "import numpy\n",
    "import seaborn\n",
    "from scipy import stats\n",
    "from matplotlib import pyplot\n",
    "from sklearn import model_selection, preprocessing, linear_model, metrics"
   ]
  },
  {
   "cell_type": "code",
   "execution_count": 2,
   "metadata": {},
   "outputs": [],
   "source": [
    "%matplotlib inline"
   ]
  },
  {
   "cell_type": "code",
   "execution_count": 3,
   "metadata": {},
   "outputs": [
    {
     "name": "stdout",
     "output_type": "stream",
     "text": [
      ",id,date,price,bedrooms,bathrooms,sqft_living,sqft_lot,floors,waterfront,view,condition,grade,sqft_above,sqft_basement,yr_built,yr_renovated,zipcode,lat,long,sqft_living15,sqft_lot15,sqft_all,rcprice,has_wine_bar,garage_type,has_sqft_living,sqft_living2,has_sqft_lot,sqft_lot2,has_sqft_above,sqft_above2,has_sqft_basement,sqft_basement2,has_sqft_living15,sqft_living152,has_sqft_lot15,sqft_lot152,has_sqft_all,sqft_all2\r",
      "\r\n",
      "0,7129300520,20141013T000000,221900.0,3,1.0,1180,5650,1.0,0,0,3,7,1180,0,1955,0,98178,47.5112,-122.257,1340,5650,15000,2977.4835338790726,1,2,1,34.351128074635334,1,75.16648189186454,1,34.351128074635334,0,0.0,1,36.60601043544625,1,75.16648189186454,1,122.47448713915891\r",
      "\r\n",
      "1,6414100192,20141209T000000,538000.0,3,2.25,2570,7242,2.0,0,0,3,7,2170,400,1951,1991,98125,47.721000000000004,-122.319,1690,7639,21711,3018.681032994737,1,6,1,50.695167422546305,1,85.09994124557313,1,46.58325879540846,1,20.0,1,41.10960958218893,1,87.40137298692738,1,147.34653032901724\r",
      "\r\n",
      "2,5631500400,20150225T000000,180000.0,2,1.0,770,10000,1.0,0,0,3,6,770,0,1933,0,98028,47.7379,-122.23299999999999,2720,8062,22322,3012.6116542564005,0,1,1,27.748873851023216,1,100.0,1,27.748873851023216,0,0.0,1,52.15361924162119,1,89.78864070694021,1,149.40548852033515\r",
      "\r\n",
      "3,2487200875,20141209T000000,604000.0,4,3.0,1960,5000,1.0,0,0,5,7,1050,910,1965,0,98136,47.5208,-122.39299999999999,1360,5000,15280,3015.9011351967965,1,6,1,44.27188724235731,1,70.71067811865476,1,32.4037034920393,1,30.166206257996713,1,36.87817782917155,1,70.71067811865476,1,123.61229712289955\r",
      "\r\n",
      "4,1954400510,20150218T000000,510000.0,3,2.0,1680,8080,1.0,0,0,3,8,1680,0,1987,0,98074,47.6168,-122.045,1800,7503,20743,3002.595489699146,0,1,1,40.98780306383839,1,89.88882021697692,1,40.98780306383839,0,0.0,1,42.42640687119285,1,86.61985915481507,1,144.0243035046516\r",
      "\r\n",
      "5,7237550310,20140512T000000,1225000.0,4,4.5,5420,101930,1.0,0,0,3,11,3890,1530,2001,0,98053,47.6561,-122.005,4760,101930,219460,2973.474521334887,1,4,1,73.62064927722385,1,319.2647803939545,1,62.369864518050704,1,39.11521443121589,1,68.99275324264136,1,319.2647803939545,1,468.46558037917794\r",
      "\r\n",
      "6,1321400060,20140627T000000,257500.0,3,2.25,1715,6819,2.0,0,0,3,7,1715,0,1995,0,98003,47.3097,-122.32700000000001,2238,6819,19306,2970.7227287755422,0,3,1,41.41255848169731,1,82.57723657279892,1,41.41255848169731,0,0.0,1,47.30750469005948,1,82.57723657279892,1,138.94603268895446\r",
      "\r\n",
      "7,2008000270,20150115T000000,291850.0,3,1.5,1060,9711,1.0,0,0,3,7,1060,0,1963,0,98198,47.4095,-122.315,1650,9711,23192,2990.6223320453064,1,1,1,32.55764119219941,1,98.54440623394105,1,32.55764119219941,0,0.0,1,40.620192023179804,1,98.54440623394105,1,152.28919856641178\r",
      "\r\n",
      "8,2414600126,20150415T000000,229500.0,3,1.0,1780,7470,1.0,0,0,3,7,1050,730,1960,0,98146,47.5123,-122.337,1780,8113,20923,2987.3219828477318,0,3,1,42.190046219457976,1,86.4291617453276,1,32.4037034920393,1,27.018512172212592,1,42.190046219457976,1,90.07219326740079,1,144.64784823840276\r",
      "\r\n"
     ]
    }
   ],
   "source": [
    "!head data/data.csv"
   ]
  },
  {
   "cell_type": "code",
   "execution_count": 4,
   "metadata": {},
   "outputs": [
    {
     "name": "stdout",
     "output_type": "stream",
     "text": [
      "<class 'pandas.core.frame.DataFrame'>\n",
      "RangeIndex: 21613 entries, 0 to 21612\n",
      "Data columns (total 40 columns):\n",
      "Unnamed: 0           21613 non-null int64\n",
      "id                   21613 non-null int64\n",
      "date                 21613 non-null object\n",
      "price                21613 non-null float64\n",
      "bedrooms             21613 non-null int64\n",
      "bathrooms            21613 non-null float64\n",
      "sqft_living          21613 non-null int64\n",
      "sqft_lot             21613 non-null int64\n",
      "floors               21613 non-null float64\n",
      "waterfront           21613 non-null int64\n",
      "view                 21613 non-null int64\n",
      "condition            21613 non-null int64\n",
      "grade                21613 non-null int64\n",
      "sqft_above           21613 non-null int64\n",
      "sqft_basement        21613 non-null int64\n",
      "yr_built             21613 non-null int64\n",
      "yr_renovated         21613 non-null int64\n",
      "zipcode              21613 non-null int64\n",
      "lat                  21613 non-null float64\n",
      "long                 21613 non-null float64\n",
      "sqft_living15        21613 non-null int64\n",
      "sqft_lot15           21613 non-null int64\n",
      "sqft_all             21613 non-null int64\n",
      "rcprice              21613 non-null float64\n",
      "has_wine_bar         21613 non-null int64\n",
      "garage_type          21613 non-null int64\n",
      "has_sqft_living      21613 non-null int64\n",
      "sqft_living2         21613 non-null float64\n",
      "has_sqft_lot         21613 non-null int64\n",
      "sqft_lot2            21613 non-null float64\n",
      "has_sqft_above       21613 non-null int64\n",
      "sqft_above2          21613 non-null float64\n",
      "has_sqft_basement    21613 non-null int64\n",
      "sqft_basement2       21613 non-null float64\n",
      "has_sqft_living15    21613 non-null int64\n",
      "sqft_living152       21613 non-null float64\n",
      "has_sqft_lot15       21613 non-null int64\n",
      "sqft_lot152          21613 non-null float64\n",
      "has_sqft_all         21613 non-null int64\n",
      "sqft_all2            21613 non-null float64\n",
      "dtypes: float64(13), int64(26), object(1)\n",
      "memory usage: 6.6+ MB\n"
     ]
    },
    {
     "data": {
      "text/html": [
       "<div>\n",
       "<style scoped>\n",
       "    .dataframe tbody tr th:only-of-type {\n",
       "        vertical-align: middle;\n",
       "    }\n",
       "\n",
       "    .dataframe tbody tr th {\n",
       "        vertical-align: top;\n",
       "    }\n",
       "\n",
       "    .dataframe thead th {\n",
       "        text-align: right;\n",
       "    }\n",
       "</style>\n",
       "<table border=\"1\" class=\"dataframe\">\n",
       "  <thead>\n",
       "    <tr style=\"text-align: right;\">\n",
       "      <th></th>\n",
       "      <th>Unnamed: 0</th>\n",
       "      <th>id</th>\n",
       "      <th>date</th>\n",
       "      <th>price</th>\n",
       "      <th>bedrooms</th>\n",
       "      <th>bathrooms</th>\n",
       "      <th>sqft_living</th>\n",
       "      <th>sqft_lot</th>\n",
       "      <th>floors</th>\n",
       "      <th>waterfront</th>\n",
       "      <th>...</th>\n",
       "      <th>has_sqft_above</th>\n",
       "      <th>sqft_above2</th>\n",
       "      <th>has_sqft_basement</th>\n",
       "      <th>sqft_basement2</th>\n",
       "      <th>has_sqft_living15</th>\n",
       "      <th>sqft_living152</th>\n",
       "      <th>has_sqft_lot15</th>\n",
       "      <th>sqft_lot152</th>\n",
       "      <th>has_sqft_all</th>\n",
       "      <th>sqft_all2</th>\n",
       "    </tr>\n",
       "  </thead>\n",
       "  <tbody>\n",
       "    <tr>\n",
       "      <th>0</th>\n",
       "      <td>0</td>\n",
       "      <td>7129300520</td>\n",
       "      <td>20141013T000000</td>\n",
       "      <td>221900.0</td>\n",
       "      <td>3</td>\n",
       "      <td>1.00</td>\n",
       "      <td>1180</td>\n",
       "      <td>5650</td>\n",
       "      <td>1.0</td>\n",
       "      <td>0</td>\n",
       "      <td>...</td>\n",
       "      <td>1</td>\n",
       "      <td>34.351128</td>\n",
       "      <td>0</td>\n",
       "      <td>0.000000</td>\n",
       "      <td>1</td>\n",
       "      <td>36.606010</td>\n",
       "      <td>1</td>\n",
       "      <td>75.166482</td>\n",
       "      <td>1</td>\n",
       "      <td>122.474487</td>\n",
       "    </tr>\n",
       "    <tr>\n",
       "      <th>1</th>\n",
       "      <td>1</td>\n",
       "      <td>6414100192</td>\n",
       "      <td>20141209T000000</td>\n",
       "      <td>538000.0</td>\n",
       "      <td>3</td>\n",
       "      <td>2.25</td>\n",
       "      <td>2570</td>\n",
       "      <td>7242</td>\n",
       "      <td>2.0</td>\n",
       "      <td>0</td>\n",
       "      <td>...</td>\n",
       "      <td>1</td>\n",
       "      <td>46.583259</td>\n",
       "      <td>1</td>\n",
       "      <td>20.000000</td>\n",
       "      <td>1</td>\n",
       "      <td>41.109610</td>\n",
       "      <td>1</td>\n",
       "      <td>87.401373</td>\n",
       "      <td>1</td>\n",
       "      <td>147.346530</td>\n",
       "    </tr>\n",
       "    <tr>\n",
       "      <th>2</th>\n",
       "      <td>2</td>\n",
       "      <td>5631500400</td>\n",
       "      <td>20150225T000000</td>\n",
       "      <td>180000.0</td>\n",
       "      <td>2</td>\n",
       "      <td>1.00</td>\n",
       "      <td>770</td>\n",
       "      <td>10000</td>\n",
       "      <td>1.0</td>\n",
       "      <td>0</td>\n",
       "      <td>...</td>\n",
       "      <td>1</td>\n",
       "      <td>27.748874</td>\n",
       "      <td>0</td>\n",
       "      <td>0.000000</td>\n",
       "      <td>1</td>\n",
       "      <td>52.153619</td>\n",
       "      <td>1</td>\n",
       "      <td>89.788641</td>\n",
       "      <td>1</td>\n",
       "      <td>149.405489</td>\n",
       "    </tr>\n",
       "    <tr>\n",
       "      <th>3</th>\n",
       "      <td>3</td>\n",
       "      <td>2487200875</td>\n",
       "      <td>20141209T000000</td>\n",
       "      <td>604000.0</td>\n",
       "      <td>4</td>\n",
       "      <td>3.00</td>\n",
       "      <td>1960</td>\n",
       "      <td>5000</td>\n",
       "      <td>1.0</td>\n",
       "      <td>0</td>\n",
       "      <td>...</td>\n",
       "      <td>1</td>\n",
       "      <td>32.403703</td>\n",
       "      <td>1</td>\n",
       "      <td>30.166206</td>\n",
       "      <td>1</td>\n",
       "      <td>36.878178</td>\n",
       "      <td>1</td>\n",
       "      <td>70.710678</td>\n",
       "      <td>1</td>\n",
       "      <td>123.612297</td>\n",
       "    </tr>\n",
       "    <tr>\n",
       "      <th>4</th>\n",
       "      <td>4</td>\n",
       "      <td>1954400510</td>\n",
       "      <td>20150218T000000</td>\n",
       "      <td>510000.0</td>\n",
       "      <td>3</td>\n",
       "      <td>2.00</td>\n",
       "      <td>1680</td>\n",
       "      <td>8080</td>\n",
       "      <td>1.0</td>\n",
       "      <td>0</td>\n",
       "      <td>...</td>\n",
       "      <td>1</td>\n",
       "      <td>40.987803</td>\n",
       "      <td>0</td>\n",
       "      <td>0.000000</td>\n",
       "      <td>1</td>\n",
       "      <td>42.426407</td>\n",
       "      <td>1</td>\n",
       "      <td>86.619859</td>\n",
       "      <td>1</td>\n",
       "      <td>144.024304</td>\n",
       "    </tr>\n",
       "  </tbody>\n",
       "</table>\n",
       "<p>5 rows × 40 columns</p>\n",
       "</div>"
      ],
      "text/plain": [
       "   Unnamed: 0          id             date     price  bedrooms  bathrooms  \\\n",
       "0           0  7129300520  20141013T000000  221900.0         3       1.00   \n",
       "1           1  6414100192  20141209T000000  538000.0         3       2.25   \n",
       "2           2  5631500400  20150225T000000  180000.0         2       1.00   \n",
       "3           3  2487200875  20141209T000000  604000.0         4       3.00   \n",
       "4           4  1954400510  20150218T000000  510000.0         3       2.00   \n",
       "\n",
       "   sqft_living  sqft_lot  floors  waterfront     ...      has_sqft_above  \\\n",
       "0         1180      5650     1.0           0     ...                   1   \n",
       "1         2570      7242     2.0           0     ...                   1   \n",
       "2          770     10000     1.0           0     ...                   1   \n",
       "3         1960      5000     1.0           0     ...                   1   \n",
       "4         1680      8080     1.0           0     ...                   1   \n",
       "\n",
       "   sqft_above2  has_sqft_basement  sqft_basement2  has_sqft_living15  \\\n",
       "0    34.351128                  0        0.000000                  1   \n",
       "1    46.583259                  1       20.000000                  1   \n",
       "2    27.748874                  0        0.000000                  1   \n",
       "3    32.403703                  1       30.166206                  1   \n",
       "4    40.987803                  0        0.000000                  1   \n",
       "\n",
       "   sqft_living152  has_sqft_lot15  sqft_lot152  has_sqft_all   sqft_all2  \n",
       "0       36.606010               1    75.166482             1  122.474487  \n",
       "1       41.109610               1    87.401373             1  147.346530  \n",
       "2       52.153619               1    89.788641             1  149.405489  \n",
       "3       36.878178               1    70.710678             1  123.612297  \n",
       "4       42.426407               1    86.619859             1  144.024304  \n",
       "\n",
       "[5 rows x 40 columns]"
      ]
     },
     "execution_count": 4,
     "metadata": {},
     "output_type": "execute_result"
    }
   ],
   "source": [
    "# load data\n",
    "df = pandas.read_csv('data/data.csv')\n",
    "df.info()\n",
    "df.head()"
   ]
  },
  {
   "cell_type": "markdown",
   "metadata": {},
   "source": [
    "## `price` Feature"
   ]
  },
  {
   "cell_type": "code",
   "execution_count": 5,
   "metadata": {
    "scrolled": true
   },
   "outputs": [
    {
     "data": {
      "text/plain": [
       "count    2.161300e+04\n",
       "mean     5.400881e+05\n",
       "std      3.671272e+05\n",
       "min      7.500000e+04\n",
       "25%      3.219500e+05\n",
       "50%      4.500000e+05\n",
       "75%      6.450000e+05\n",
       "max      7.700000e+06\n",
       "Name: price, dtype: float64"
      ]
     },
     "execution_count": 5,
     "metadata": {},
     "output_type": "execute_result"
    }
   ],
   "source": [
    "price = df['price']\n",
    "price.describe()"
   ]
  },
  {
   "cell_type": "code",
   "execution_count": 6,
   "metadata": {
    "scrolled": false
   },
   "outputs": [
    {
     "name": "stdout",
     "output_type": "stream",
     "text": [
      "kurtosis: 34.58554043194243\n",
      "skew: 4.024069144684712\n"
     ]
    },
    {
     "data": {
      "image/png": "[encoded data removed]",
      "text/plain": [
       "<matplotlib.figure.Figure at 0x110db5908>"
      ]
     },
     "metadata": {},
     "output_type": "display_data"
    }
   ],
   "source": [
    "pyplot.title('original distribution')\n",
    "seaborn.distplot(price, fit=stats.norm)\n",
    "pyplot.xticks(rotation=90)\n",
    "print('kurtosis:', price.kurtosis())\n",
    "print('skew:', price.skew())"
   ]
  },
  {
   "cell_type": "markdown",
   "metadata": {},
   "source": [
    "Fro the histogram above it can be infered that `price` has [log-normal distribution](https://en.wikipedia.org/wiki/Log-normal_distribution)."
   ]
  },
  {
   "cell_type": "code",
   "execution_count": 7,
   "metadata": {
    "scrolled": true
   },
   "outputs": [
    {
     "name": "stdout",
     "output_type": "stream",
     "text": [
      "kurtosis: 0.6918572207941471\n",
      "skew: 0.4280765149574905\n"
     ]
    },
    {
     "data": {
      "image/png": "[encoded data removed]",
      "text/plain": [
       "<matplotlib.figure.Figure at 0x111aeb438>"
      ]
     },
     "metadata": {},
     "output_type": "display_data"
    }
   ],
   "source": [
    "log_price = numpy.log1p(price)\n",
    "seaborn.distplot(log_price, fit=stats.norm)\n",
    "pyplot.title('new distribution')\n",
    "print('kurtosis:', log_price.kurtosis())\n",
    "print('skew:', log_price.skew())"
   ]
  },
  {
   "cell_type": "code",
   "execution_count": 8,
   "metadata": {},
   "outputs": [],
   "source": [
    "df['price'] = log_price"
   ]
  },
  {
   "cell_type": "markdown",
   "metadata": {},
   "source": [
    "## Irelevant Features Drop and Subset Selection\n",
    "\n",
    "Constant features are irelevant."
   ]
  },
  {
   "cell_type": "code",
   "execution_count": 9,
   "metadata": {
    "scrolled": true
   },
   "outputs": [
    {
     "name": "stdout",
     "output_type": "stream",
     "text": [
      "constant features: has_sqft_living, has_sqft_lot, has_sqft_above, has_sqft_living15, has_sqft_lot15, has_sqft_all\n"
     ]
    }
   ],
   "source": [
    "# constant features\n",
    "constant = df.columns[~(df != df.iloc[0]).any()].tolist()\n",
    "print('constant features:', ', '.join(constant))"
   ]
  },
  {
   "cell_type": "markdown",
   "metadata": {},
   "source": [
    "There is a stange set of features ending with '2', '15', '152'. As shown bellow their are highly correlated. There I think they are probably infered one from each other and I would drop them."
   ]
  },
  {
   "cell_type": "code",
   "execution_count": 10,
   "metadata": {},
   "outputs": [
    {
     "data": {
      "text/plain": [
       "['sqft_living15',\n",
       " 'sqft_lot15',\n",
       " 'sqft_living2',\n",
       " 'sqft_lot2',\n",
       " 'sqft_above2',\n",
       " 'sqft_basement2',\n",
       " 'has_sqft_living15',\n",
       " 'sqft_living152',\n",
       " 'has_sqft_lot15',\n",
       " 'sqft_lot152',\n",
       " 'sqft_all2']"
      ]
     },
     "execution_count": 10,
     "metadata": {},
     "output_type": "execute_result"
    }
   ],
   "source": [
    "to_drop = df.filter(regex='(2|15|152)$', axis=1).columns.tolist()\n",
    "to_drop"
   ]
  },
  {
   "cell_type": "code",
   "execution_count": 11,
   "metadata": {
    "scrolled": true
   },
   "outputs": [
    {
     "data": {
      "text/html": [
       "<div>\n",
       "<style scoped>\n",
       "    .dataframe tbody tr th:only-of-type {\n",
       "        vertical-align: middle;\n",
       "    }\n",
       "\n",
       "    .dataframe tbody tr th {\n",
       "        vertical-align: top;\n",
       "    }\n",
       "\n",
       "    .dataframe thead th {\n",
       "        text-align: right;\n",
       "    }\n",
       "</style>\n",
       "<table border=\"1\" class=\"dataframe\">\n",
       "  <thead>\n",
       "    <tr style=\"text-align: right;\">\n",
       "      <th></th>\n",
       "      <th>sqft_living</th>\n",
       "      <th>sqft_living15</th>\n",
       "      <th>sqft_living2</th>\n",
       "      <th>sqft_living152</th>\n",
       "    </tr>\n",
       "  </thead>\n",
       "  <tbody>\n",
       "    <tr>\n",
       "      <th>sqft_living</th>\n",
       "      <td>1.000000</td>\n",
       "      <td>0.756420</td>\n",
       "      <td>0.987746</td>\n",
       "      <td>0.748607</td>\n",
       "    </tr>\n",
       "    <tr>\n",
       "      <th>sqft_living15</th>\n",
       "      <td>0.756420</td>\n",
       "      <td>1.000000</td>\n",
       "      <td>0.756974</td>\n",
       "      <td>0.994109</td>\n",
       "    </tr>\n",
       "    <tr>\n",
       "      <th>sqft_living2</th>\n",
       "      <td>0.987746</td>\n",
       "      <td>0.756974</td>\n",
       "      <td>1.000000</td>\n",
       "      <td>0.757893</td>\n",
       "    </tr>\n",
       "    <tr>\n",
       "      <th>sqft_living152</th>\n",
       "      <td>0.748607</td>\n",
       "      <td>0.994109</td>\n",
       "      <td>0.757893</td>\n",
       "      <td>1.000000</td>\n",
       "    </tr>\n",
       "  </tbody>\n",
       "</table>\n",
       "</div>"
      ],
      "text/plain": [
       "                sqft_living  sqft_living15  sqft_living2  sqft_living152\n",
       "sqft_living        1.000000       0.756420      0.987746        0.748607\n",
       "sqft_living15      0.756420       1.000000      0.756974        0.994109\n",
       "sqft_living2       0.987746       0.756974      1.000000        0.757893\n",
       "sqft_living152     0.748607       0.994109      0.757893        1.000000"
      ]
     },
     "execution_count": 11,
     "metadata": {},
     "output_type": "execute_result"
    }
   ],
   "source": [
    "# these are probably somehow related\n",
    "df[df.filter(regex='^sqft_living', axis=1).columns.tolist()].corr(method='pearson')"
   ]
  },
  {
   "cell_type": "code",
   "execution_count": 12,
   "metadata": {},
   "outputs": [
    {
     "data": {
      "text/html": [
       "<div>\n",
       "<style scoped>\n",
       "    .dataframe tbody tr th:only-of-type {\n",
       "        vertical-align: middle;\n",
       "    }\n",
       "\n",
       "    .dataframe tbody tr th {\n",
       "        vertical-align: top;\n",
       "    }\n",
       "\n",
       "    .dataframe thead th {\n",
       "        text-align: right;\n",
       "    }\n",
       "</style>\n",
       "<table border=\"1\" class=\"dataframe\">\n",
       "  <thead>\n",
       "    <tr style=\"text-align: right;\">\n",
       "      <th></th>\n",
       "      <th>sqft_lot</th>\n",
       "      <th>sqft_lot15</th>\n",
       "      <th>sqft_lot2</th>\n",
       "      <th>sqft_lot152</th>\n",
       "    </tr>\n",
       "  </thead>\n",
       "  <tbody>\n",
       "    <tr>\n",
       "      <th>sqft_lot</th>\n",
       "      <td>1.000000</td>\n",
       "      <td>0.718557</td>\n",
       "      <td>0.899933</td>\n",
       "      <td>0.696331</td>\n",
       "    </tr>\n",
       "    <tr>\n",
       "      <th>sqft_lot15</th>\n",
       "      <td>0.718557</td>\n",
       "      <td>1.000000</td>\n",
       "      <td>0.770809</td>\n",
       "      <td>0.925140</td>\n",
       "    </tr>\n",
       "    <tr>\n",
       "      <th>sqft_lot2</th>\n",
       "      <td>0.899933</td>\n",
       "      <td>0.770809</td>\n",
       "      <td>1.000000</td>\n",
       "      <td>0.859910</td>\n",
       "    </tr>\n",
       "    <tr>\n",
       "      <th>sqft_lot152</th>\n",
       "      <td>0.696331</td>\n",
       "      <td>0.925140</td>\n",
       "      <td>0.859910</td>\n",
       "      <td>1.000000</td>\n",
       "    </tr>\n",
       "  </tbody>\n",
       "</table>\n",
       "</div>"
      ],
      "text/plain": [
       "             sqft_lot  sqft_lot15  sqft_lot2  sqft_lot152\n",
       "sqft_lot     1.000000    0.718557   0.899933     0.696331\n",
       "sqft_lot15   0.718557    1.000000   0.770809     0.925140\n",
       "sqft_lot2    0.899933    0.770809   1.000000     0.859910\n",
       "sqft_lot152  0.696331    0.925140   0.859910     1.000000"
      ]
     },
     "execution_count": 12,
     "metadata": {},
     "output_type": "execute_result"
    }
   ],
   "source": [
    "df[df.filter(regex='^sqft_lot', axis=1).columns.tolist()].corr(method='pearson')"
   ]
  },
  {
   "cell_type": "code",
   "execution_count": 13,
   "metadata": {},
   "outputs": [
    {
     "data": {
      "text/html": [
       "<div>\n",
       "<style scoped>\n",
       "    .dataframe tbody tr th:only-of-type {\n",
       "        vertical-align: middle;\n",
       "    }\n",
       "\n",
       "    .dataframe tbody tr th {\n",
       "        vertical-align: top;\n",
       "    }\n",
       "\n",
       "    .dataframe thead th {\n",
       "        text-align: right;\n",
       "    }\n",
       "</style>\n",
       "<table border=\"1\" class=\"dataframe\">\n",
       "  <thead>\n",
       "    <tr style=\"text-align: right;\">\n",
       "      <th></th>\n",
       "      <th>sqft_above</th>\n",
       "      <th>sqft_above2</th>\n",
       "    </tr>\n",
       "  </thead>\n",
       "  <tbody>\n",
       "    <tr>\n",
       "      <th>sqft_above</th>\n",
       "      <td>1.000000</td>\n",
       "      <td>0.990104</td>\n",
       "    </tr>\n",
       "    <tr>\n",
       "      <th>sqft_above2</th>\n",
       "      <td>0.990104</td>\n",
       "      <td>1.000000</td>\n",
       "    </tr>\n",
       "  </tbody>\n",
       "</table>\n",
       "</div>"
      ],
      "text/plain": [
       "             sqft_above  sqft_above2\n",
       "sqft_above     1.000000     0.990104\n",
       "sqft_above2    0.990104     1.000000"
      ]
     },
     "execution_count": 13,
     "metadata": {},
     "output_type": "execute_result"
    }
   ],
   "source": [
    "df[df.filter(regex='^sqft_above', axis=1).columns.tolist()].corr(method='pearson')"
   ]
  },
  {
   "cell_type": "code",
   "execution_count": 14,
   "metadata": {},
   "outputs": [
    {
     "data": {
      "text/html": [
       "<div>\n",
       "<style scoped>\n",
       "    .dataframe tbody tr th:only-of-type {\n",
       "        vertical-align: middle;\n",
       "    }\n",
       "\n",
       "    .dataframe tbody tr th {\n",
       "        vertical-align: top;\n",
       "    }\n",
       "\n",
       "    .dataframe thead th {\n",
       "        text-align: right;\n",
       "    }\n",
       "</style>\n",
       "<table border=\"1\" class=\"dataframe\">\n",
       "  <thead>\n",
       "    <tr style=\"text-align: right;\">\n",
       "      <th></th>\n",
       "      <th>sqft_basement</th>\n",
       "      <th>sqft_basement2</th>\n",
       "    </tr>\n",
       "  </thead>\n",
       "  <tbody>\n",
       "    <tr>\n",
       "      <th>sqft_basement</th>\n",
       "      <td>1.000000</td>\n",
       "      <td>0.962298</td>\n",
       "    </tr>\n",
       "    <tr>\n",
       "      <th>sqft_basement2</th>\n",
       "      <td>0.962298</td>\n",
       "      <td>1.000000</td>\n",
       "    </tr>\n",
       "  </tbody>\n",
       "</table>\n",
       "</div>"
      ],
      "text/plain": [
       "                sqft_basement  sqft_basement2\n",
       "sqft_basement        1.000000        0.962298\n",
       "sqft_basement2       0.962298        1.000000"
      ]
     },
     "execution_count": 14,
     "metadata": {},
     "output_type": "execute_result"
    }
   ],
   "source": [
    "df[df.filter(regex='^sqft_basement', axis=1).columns.tolist()].corr(method='pearson')"
   ]
  },
  {
   "cell_type": "code",
   "execution_count": 15,
   "metadata": {},
   "outputs": [
    {
     "data": {
      "text/html": [
       "<div>\n",
       "<style scoped>\n",
       "    .dataframe tbody tr th:only-of-type {\n",
       "        vertical-align: middle;\n",
       "    }\n",
       "\n",
       "    .dataframe tbody tr th {\n",
       "        vertical-align: top;\n",
       "    }\n",
       "\n",
       "    .dataframe thead th {\n",
       "        text-align: right;\n",
       "    }\n",
       "</style>\n",
       "<table border=\"1\" class=\"dataframe\">\n",
       "  <thead>\n",
       "    <tr style=\"text-align: right;\">\n",
       "      <th></th>\n",
       "      <th>sqft_all</th>\n",
       "      <th>sqft_all2</th>\n",
       "    </tr>\n",
       "  </thead>\n",
       "  <tbody>\n",
       "    <tr>\n",
       "      <th>sqft_all</th>\n",
       "      <td>1.000000</td>\n",
       "      <td>0.930968</td>\n",
       "    </tr>\n",
       "    <tr>\n",
       "      <th>sqft_all2</th>\n",
       "      <td>0.930968</td>\n",
       "      <td>1.000000</td>\n",
       "    </tr>\n",
       "  </tbody>\n",
       "</table>\n",
       "</div>"
      ],
      "text/plain": [
       "           sqft_all  sqft_all2\n",
       "sqft_all   1.000000   0.930968\n",
       "sqft_all2  0.930968   1.000000"
      ]
     },
     "execution_count": 15,
     "metadata": {},
     "output_type": "execute_result"
    }
   ],
   "source": [
    "df[df.filter(regex='^sqft_all', axis=1).columns.tolist()].corr(method='pearson')"
   ]
  },
  {
   "cell_type": "code",
   "execution_count": 16,
   "metadata": {},
   "outputs": [
    {
     "data": {
      "text/plain": [
       "(True, True)"
      ]
     },
     "execution_count": 16,
     "metadata": {},
     "output_type": "execute_result"
    }
   ],
   "source": [
    "(df['has_sqft_living15'] == df['has_sqft_living']).all(), (df['has_sqft_lot15'] == df['has_sqft_lot']).all()"
   ]
  },
  {
   "cell_type": "markdown",
   "metadata": {},
   "source": [
    "`yr_renovated` is mostly 0 and therefore it is not usefull"
   ]
  },
  {
   "cell_type": "code",
   "execution_count": 17,
   "metadata": {
    "scrolled": false
   },
   "outputs": [
    {
     "data": {
      "text/plain": [
       "waterfront           21450\n",
       "yr_renovated         20699\n",
       "view                 19489\n",
       "sqft_basement        13126\n",
       "has_sqft_basement    13126\n",
       "dtype: int64"
      ]
     },
     "execution_count": 17,
     "metadata": {},
     "output_type": "execute_result"
    }
   ],
   "source": [
    "(df == 0).sum().nlargest()"
   ]
  },
  {
   "cell_type": "markdown",
   "metadata": {},
   "source": [
    "Drop uncorrelated features so that only there is small subset of relevant features."
   ]
  },
  {
   "cell_type": "code",
   "execution_count": 18,
   "metadata": {},
   "outputs": [
    {
     "name": "stdout",
     "output_type": "stream",
     "text": [
      "almost not correlated features: Unnamed: 0, id, sqft_lot, condition, yr_built, zipcode, long, sqft_lot15, rcprice, has_wine_bar, garage_type\n"
     ]
    }
   ],
   "source": [
    "pearson = df.corr(method='pearson')\n",
    "not_correlated = pearson[pearson['price'].abs() < 0.1].index.tolist()\n",
    "print('almost not correlated features:', ', '.join(not_correlated))"
   ]
  },
  {
   "cell_type": "code",
   "execution_count": 19,
   "metadata": {
    "scrolled": false
   },
   "outputs": [
    {
     "data": {
      "text/plain": [
       "12"
      ]
     },
     "execution_count": 19,
     "metadata": {},
     "output_type": "execute_result"
    }
   ],
   "source": [
    "# drop features\n",
    "df.drop(['id', 'Unnamed: 0', 'date', 'yr_renovated', 'has_sqft_basement'] + constant + to_drop + not_correlated,\n",
    "        axis=1, inplace=True, errors='ignore')\n",
    "df.columns.size"
   ]
  },
  {
   "cell_type": "code",
   "execution_count": 20,
   "metadata": {
    "scrolled": false
   },
   "outputs": [
    {
     "data": {
      "text/plain": [
       "<matplotlib.axes._subplots.AxesSubplot at 0x114aaa470>"
      ]
     },
     "execution_count": 20,
     "metadata": {},
     "output_type": "execute_result"
    },
    {
     "data": {
      "image/png": "[encoded data removed]",
      "text/plain": [
       "<matplotlib.figure.Figure at 0x1183b3b38>"
      ]
     },
     "metadata": {},
     "output_type": "display_data"
    }
   ],
   "source": [
    "pearson = df.corr(method='pearson')\n",
    "seaborn.heatmap(pearson.abs(), square=True)"
   ]
  },
  {
   "cell_type": "code",
   "execution_count": 21,
   "metadata": {},
   "outputs": [
    {
     "data": {
      "image/png": "[encoded data removed]",
      "text/plain": [
       "<matplotlib.figure.Figure at 0x110e24f60>"
      ]
     },
     "metadata": {},
     "output_type": "display_data"
    }
   ],
   "source": [
    "# grade will be good fearute\n",
    "_ = seaborn.boxplot(x='grade', y='price', data=df)"
   ]
  },
  {
   "cell_type": "code",
   "execution_count": 22,
   "metadata": {},
   "outputs": [
    {
     "data": {
      "image/png": "[encoded data removed]",
      "text/plain": [
       "<matplotlib.figure.Figure at 0x1183d3c88>"
      ]
     },
     "metadata": {},
     "output_type": "display_data"
    }
   ],
   "source": [
    "# view somewhat correlated to price\n",
    "_ = seaborn.boxplot(x='view', y='price', data=df)"
   ]
  },
  {
   "cell_type": "code",
   "execution_count": 23,
   "metadata": {},
   "outputs": [
    {
     "data": {
      "image/png": "[encoded data removed]",
      "text/plain": [
       "<matplotlib.figure.Figure at 0x111ad4400>"
      ]
     },
     "metadata": {},
     "output_type": "display_data"
    }
   ],
   "source": [
    "# visible correlation\n",
    "_ = seaborn.regplot(x='sqft_living', y='price', data=df)"
   ]
  },
  {
   "cell_type": "markdown",
   "metadata": {},
   "source": [
    "## Train and Test Split"
   ]
  },
  {
   "cell_type": "code",
   "execution_count": 24,
   "metadata": {},
   "outputs": [
    {
     "name": "stdout",
     "output_type": "stream",
     "text": [
      "train: 16209\n",
      "test: 5404\n"
     ]
    }
   ],
   "source": [
    "train, test = model_selection.train_test_split(df, test_size=0.25)\n",
    "print('train:', len(train))\n",
    "print('test:', len(test))"
   ]
  },
  {
   "cell_type": "code",
   "execution_count": 25,
   "metadata": {
    "scrolled": true
   },
   "outputs": [
    {
     "data": {
      "text/plain": [
       "['bedrooms',\n",
       " 'bathrooms',\n",
       " 'sqft_living',\n",
       " 'floors',\n",
       " 'waterfront',\n",
       " 'view',\n",
       " 'grade',\n",
       " 'sqft_above',\n",
       " 'sqft_basement',\n",
       " 'lat',\n",
       " 'sqft_all']"
      ]
     },
     "execution_count": 25,
     "metadata": {},
     "output_type": "execute_result"
    }
   ],
   "source": [
    "columns = df.columns.drop('price').tolist()\n",
    "y_tr = train['price'].as_matrix()\n",
    "X_tr = train[columns].as_matrix()\n",
    "y_te = test['price'].as_matrix()\n",
    "X_te = test[columns].as_matrix()\n",
    "columns"
   ]
  },
  {
   "cell_type": "markdown",
   "metadata": {},
   "source": [
    "## Feature Transformations\n",
    "\n",
    "Tranformation of all features to zero mean and unit variance."
   ]
  },
  {
   "cell_type": "code",
   "execution_count": 26,
   "metadata": {},
   "outputs": [
    {
     "data": {
      "text/plain": [
       "(array([ 2.12167737e-16, -1.50796904e-16,  2.45483331e-16, -2.63017855e-18,\n",
       "         2.23565177e-17, -2.98086903e-17,  2.54250593e-16,  2.98086903e-17,\n",
       "         7.89053566e-18, -2.41888754e-14, -5.26035710e-17]),\n",
       " array([1., 1., 1., 1., 1., 1., 1., 1., 1., 1., 1.]))"
      ]
     },
     "execution_count": 26,
     "metadata": {},
     "output_type": "execute_result"
    }
   ],
   "source": [
    "scaler = preprocessing.StandardScaler()\n",
    "X_tr_scaled = scaler.fit_transform(X_tr)\n",
    "X_te_scaled = scaler.transform(X_te)\n",
    "X_tr_scaled.mean(axis=0), X_tr_scaled.std(axis=0)"
   ]
  },
  {
   "cell_type": "code",
   "execution_count": 27,
   "metadata": {},
   "outputs": [
    {
     "data": {
      "image/png": "[encoded data removed]",
      "text/plain": [
       "<matplotlib.figure.Figure at 0x117fe0be0>"
      ]
     },
     "metadata": {},
     "output_type": "display_data"
    }
   ],
   "source": [
    "_ = seaborn.boxplot(data=X_tr_scaled)"
   ]
  },
  {
   "cell_type": "markdown",
   "metadata": {},
   "source": [
    "## Linear Regression\n",
    "\n",
    "Train and evaluate linear regression with scaling and without scaling. In conclusion there is almost no difference."
   ]
  },
  {
   "cell_type": "code",
   "execution_count": 28,
   "metadata": {},
   "outputs": [
    {
     "name": "stdout",
     "output_type": "stream",
     "text": [
      "root mean squared logarithmic error: 0.2730873075219037\n"
     ]
    },
    {
     "data": {
      "image/png": "[encoded data removed]",
      "text/plain": [
       "<matplotlib.figure.Figure at 0x1180205f8>"
      ]
     },
     "metadata": {},
     "output_type": "display_data"
    }
   ],
   "source": [
    "# scaled features\n",
    "clf = linear_model.LinearRegression()\n",
    "clf.fit(X_tr_scaled, y_tr)\n",
    "y_pred = clf.predict(X_te_scaled)\n",
    "\n",
    "seaborn.jointplot(y_te, y_pred)\n",
    "\n",
    "rmsle = numpy.sqrt(metrics.mean_squared_error(y_pred, y_te))\n",
    "print('root mean squared logarithmic error:', rmsle)"
   ]
  },
  {
   "cell_type": "code",
   "execution_count": 29,
   "metadata": {},
   "outputs": [
    {
     "name": "stdout",
     "output_type": "stream",
     "text": [
      "root mean squared logarithmic error: 0.2730873075219033\n"
     ]
    },
    {
     "data": {
      "image/png": "[encoded data removed]",
      "text/plain": [
       "<matplotlib.figure.Figure at 0x11eadc128>"
      ]
     },
     "metadata": {},
     "output_type": "display_data"
    }
   ],
   "source": [
    "# raw features\n",
    "clf = linear_model.LinearRegression()\n",
    "clf.fit(X_tr, y_tr)\n",
    "y_pred = clf.predict(X_te)\n",
    "\n",
    "seaborn.jointplot(y_te, y_pred)\n",
    "\n",
    "rmsle = numpy.sqrt(metrics.mean_squared_error(y_pred, y_te))\n",
    "print('root mean squared logarithmic error:', rmsle)"
   ]
  },
  {
   "cell_type": "code",
   "execution_count": null,
   "metadata": {},
   "outputs": [],
   "source": []
  }
 ],
 "metadata": {
  "kernelspec": {
   "display_name": "Python 3",
   "language": "python",
   "name": "python3"
  },
  "language_info": {
   "codemirror_mode": {
    "name": "ipython",
    "version": 3
   },
   "file_extension": ".py",
   "mimetype": "text/x-python",
   "name": "python",
   "nbconvert_exporter": "python",
   "pygments_lexer": "ipython3",
   "version": "3.6.4"
  }
 },
 "nbformat": 4,
 "nbformat_minor": 2
}
