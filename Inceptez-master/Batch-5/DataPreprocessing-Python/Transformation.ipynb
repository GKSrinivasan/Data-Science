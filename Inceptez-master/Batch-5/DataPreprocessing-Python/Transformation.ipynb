{
 "cells": [
  {
   "cell_type": "code",
   "execution_count": 3,
   "metadata": {},
   "outputs": [],
   "source": [
    "#Gaussian with 0 mean and unit variance\n",
    "from sklearn.preprocessing import StandardScaler\n",
    "sc_X = StandardScaler()\n",
    "X_train = sc_X.fit_transform(X_train)\n"
   ]
  },
  {
   "cell_type": "code",
   "execution_count": 5,
   "metadata": {},
   "outputs": [],
   "source": [
    "#Transforms features by scaling each feature to a given range. Default is 0 to 1\n",
    "from sklearn.preprocessing import MinMaxScaler\n",
    "min_X = MinMaxScaler()\n",
    "X_train = min_X.fit_transform(X_train)\n"
   ]
  },
  {
   "cell_type": "code",
   "execution_count": 7,
   "metadata": {},
   "outputs": [],
   "source": [
    "#Scale features using statistics that are robust to outliers.\n",
    "\n",
    "#This Scaler removes the median and scales the data according to\n",
    "#the quantile range (defaults to IQR: Interquartile Range).\n",
    "#The IQR is the range between the 1st quartile (25th quantile)\n",
    "#and the 3rd quartile (75th quantile).\n",
    "from sklearn.preprocessing import RobustScaler\n",
    "rob_X = RobustScaler()\n",
    "X_train = rob_X.fit_transform(X_train)\n"
   ]
  }
 ],
 "metadata": {
  "kernelspec": {
   "display_name": "Python 3",
   "language": "python",
   "name": "python3"
  },
  "language_info": {
   "codemirror_mode": {
    "name": "ipython",
    "version": 3
   },
   "file_extension": ".py",
   "mimetype": "text/x-python",
   "name": "python",
   "nbconvert_exporter": "python",
   "pygments_lexer": "ipython3",
   "version": "3.6.4"
  }
 },
 "nbformat": 4,
 "nbformat_minor": 2
}
