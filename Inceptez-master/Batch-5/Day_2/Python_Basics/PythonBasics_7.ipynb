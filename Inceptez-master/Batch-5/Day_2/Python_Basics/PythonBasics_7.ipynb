{
 "cells": [
  {
   "cell_type": "code",
   "execution_count": 6,
   "metadata": {},
   "outputs": [
    {
     "name": "stdout",
     "output_type": "stream",
     "text": [
      "C:\\Users\\mohamed.noordeen\n"
     ]
    },
    {
     "name": "stderr",
     "output_type": "stream",
     "text": [
      "C:\\Users\\mohamed.noordeen\\AppData\\Local\\Continuum\\Anaconda3\\lib\\site-packages\\ipykernel_launcher.py:5: DeprecationWarning: The Windows bytes API has been deprecated, use Unicode filenames instead\n",
      "  \"\"\"\n"
     ]
    },
    {
     "data": {
      "text/plain": [
       "b'C:\\\\Users\\\\mohamed.noordeen'"
      ]
     },
     "execution_count": 6,
     "metadata": {},
     "output_type": "execute_result"
    }
   ],
   "source": [
    "#Python Directory and files Management\n",
    "#Get the directory\n",
    "import os\n",
    "print(os.getcwd()) # String\n",
    "os.getcwdb() # Bytes object"
   ]
  },
  {
   "cell_type": "code",
   "execution_count": 13,
   "metadata": {},
   "outputs": [
    {
     "name": "stdout",
     "output_type": "stream",
     "text": [
      "C:\\Users\\mohamed.noordeen\n"
     ]
    }
   ],
   "source": [
    "#Change the directory\n",
    "os.chdir('C:\\\\Users\\\\mohamed.noordeen')\n",
    "print(os.getcwd()) # String\n"
   ]
  },
  {
   "cell_type": "code",
   "execution_count": 14,
   "metadata": {},
   "outputs": [
    {
     "name": "stdout",
     "output_type": "stream",
     "text": [
      "['.anaconda', '.android', '.astropy', '.bash_history', '.conda', '.condarc', '.congig.swp', '.dbus-keyrings', '.eclipse', '.git', '.IdeaIC2016.2', '.ipynb_checkpoints', '.ipython', '.jmsn', '.jupyter', '.m2', '.m2.zip', '.matplotlib', '.ninja_ide', '.oracle_jre_usage', '.p2', '.plotly', '.PyCharm2016.2', '.PyCharmCE2016.3', '.PyCharmCE2017.1', '.spyder', '.spyder-py3', '.squirrel-sql', '.ssh', '.vagrant.d', '.viminfo', '.VirtualBox', '20170819_Batch_32_CSE7212c_python_intro_v2_Souvik (1).ipynb', '20170819_Batch_32_CSE7212c_python_intro_v2_Souvik.ipynb', '20171021_CSE7212c_Batch32_python_labday.ipynb', 'Advertising.csv', 'affair.csv', 'AMD APP SDK', 'AnacondaProjects', 'AppData', 'Application Data', 'baseball.csv', 'boston.csv', 'Contacts', 'Cookies', 'Data Science Online class', 'data_imputed.csv', 'Desktop', 'Documents', 'Downloads', 'eclipse', 'ex.ipynb', 'Favorites', 'IdeaProjects', 'IntelGraphicsProfiles', 'java_error_in_pycharm.hprof', 'java_error_in_pycharm_10828.log', 'Kmeans.ipynb', 'LinearRegression_Sales.ipynb', 'Linear_regression_Boston_Housing.ipynb', 'linear_regression_live-master', 'Links', 'Local Settings', 'Logistic Regression Demo Titanic Data set.ipynb', 'LogisticRegression.ipynb', 'logistic_sklearn.ipynb', 'marriage.csv', 'mettl_logs', 'Music', 'My Documents', 'NetHood', 'NTUSER.DAT', 'ntuser.dat.LOG1', 'ntuser.dat.LOG2', 'NTUSER.DAT{29144305-73ef-11e6-b065-bc49a0647585}.TxR.blf', 'NTUSER.DAT{29144306-73ef-11e6-b065-bc49a0647585}.TM.blf', 'NTUSER.DAT{29144306-73ef-11e6-b065-bc49a0647585}.TMContainer00000000000000000001.regtrans-ms', 'NTUSER.DAT{29144306-73ef-11e6-b065-bc49a0647585}.TMContainer00000000000000000002.regtrans-ms', 'NTUSER.DAT{96d776e1-1db9-11e7-a983-34e6d729f9d2}.TxR.0.regtrans-ms', 'NTUSER.DAT{96d776e1-1db9-11e7-a983-34e6d729f9d2}.TxR.1.regtrans-ms', 'NTUSER.DAT{96d776e1-1db9-11e7-a983-34e6d729f9d2}.TxR.2.regtrans-ms', 'NTUSER.DAT{96d776e1-1db9-11e7-a983-34e6d729f9d2}.TxR.blf', 'NTUSER.DAT{bdbc7418-1ba3-11e7-a97f-acfdce2438c1}.TxR.blf', 'NTUSER.DAT{e6642654-3d55-11e7-a991-34e6d729f9d2}.TxR.0.regtrans-ms', 'NTUSER.DAT{e6642654-3d55-11e7-a991-34e6d729f9d2}.TxR.1.regtrans-ms', 'NTUSER.DAT{e6642654-3d55-11e7-a991-34e6d729f9d2}.TxR.2.regtrans-ms', 'NTUSER.DAT{e6642654-3d55-11e7-a991-34e6d729f9d2}.TxR.blf', 'NTUSER.DAT{e6642655-3d55-11e7-a991-34e6d729f9d2}.TM.blf', 'NTUSER.DAT{e6642655-3d55-11e7-a991-34e6d729f9d2}.TMContainer00000000000000000001.regtrans-ms', 'NTUSER.DAT{e6642655-3d55-11e7-a991-34e6d729f9d2}.TMContainer00000000000000000002.regtrans-ms', 'ntuser.ini', 'ntuser.pol', 'OneDrive', 'Pictures', 'pima-indians-diabetes.data.csv', 'plot_kmeans_digits.ipynb', 'plot_ols.ipynb', 'PrintHood', 'PycharmProjects', 'PythonBasics_Day1.ipynb', 'PythonBasics_Day2.ipynb', 'PythonBasics_Day2_.ipynb', 'PythonBasics_Day3.ipynb', 'PythonBasics_Day3_Function.ipynb', 'PythonBasics_Day4.ipynb', 'PythonBasics_Day5.ipynb', 'PythonBasics_Day6.ipynb', 'Recent', 'Roaming', 'Saved Games', 'Searches', 'SendTo', 'Start Menu', 'Templates', 'test.ipynb', 'Tracing', 'Untitled.ipynb', 'untitled.txt', 'untitled0.py', 'Untitled1.ipynb', 'Untitled10.ipynb', 'Untitled11.ipynb', 'Untitled12.ipynb', 'Untitled2.ipynb', 'Untitled3.ipynb', 'Untitled4.ipynb', 'Untitled5.ipynb', 'Untitled6.ipynb', 'Untitled7.ipynb', 'Untitled8.ipynb', 'Untitled9.ipynb', 'Videos', 'VirtualBox VMs', 'wc', 'workspace']\n"
     ]
    }
   ],
   "source": [
    "#list directories and files\n",
    "\n",
    "print(os.listdir())"
   ]
  },
  {
   "cell_type": "code",
   "execution_count": 15,
   "metadata": {},
   "outputs": [
    {
     "name": "stdout",
     "output_type": "stream",
     "text": [
      "['$Recycle.Bin', '$WINDOWS.~BT', 'apache-ant-1.9.9-bin', 'apache-maven-3.3.9', 'bootmgr', 'BOOTNXT', 'cloudera-quickstart-vm-4.7.0-0-vmware', 'cloudera-quickstart-vm-4.7.0-0-vmware.zip', 'Config.Msi', 'Data Structures and Algorithms Specialization', 'Dell', 'Documents and Settings', 'druid114-clean-slate', 'drvrtmp', 'emacs-22.3', 'eric6-16.12', 'HashiCorp', 'hiberfil.sys', 'INSOFE', 'Kutools for Excel', 'Leentaas-stanford', 'MSOCache', 'Noordeen', 'OneDriveTemp', 'pagefile.sys', 'Payslips', 'PerfLogs', 'Program Files', 'Program Files (x86)', 'ProgramData', 'Python Project', 'python-3.5.2.exe', 'Python27', 'RBuildTools', 'Recovery', 'Resume-noordeen', 'Spark_VMWare Player', 'Spark_VMWare Player.rar', 'Springboard', 'Springboard.zip', 'swapfile.sys', 'System Volume Information', 'Talend', 'text', 'tmp', 'Users', 'videos', 'Visualization', 'Windows', 'Workshop']\n"
     ]
    }
   ],
   "source": [
    "print(os.listdir('c:\\\\'))"
   ]
  },
  {
   "cell_type": "code",
   "execution_count": 32,
   "metadata": {},
   "outputs": [
    {
     "name": "stdout",
     "output_type": "stream",
     "text": [
      "C:\\Users\\mohamed.noordeen\n"
     ]
    }
   ],
   "source": [
    "print(os.getcwd())\n",
    "\n",
    "#Create a new directory\n",
    "\n",
    "os.mkdir('ashoktest')\n",
    "\n"
   ]
  },
  {
   "cell_type": "code",
   "execution_count": 33,
   "metadata": {},
   "outputs": [],
   "source": [
    "#Rename a directory\n",
    "os.rename('ashoktest', 'noortest')"
   ]
  },
  {
   "cell_type": "code",
   "execution_count": 34,
   "metadata": {},
   "outputs": [
    {
     "ename": "OSError",
     "evalue": "[WinError 145] The directory is not empty: 'noortest'",
     "output_type": "error",
     "traceback": [
      "\u001b[1;31m---------------------------------------------------------------------------\u001b[0m",
      "\u001b[1;31mOSError\u001b[0m                                   Traceback (most recent call last)",
      "\u001b[1;32m<ipython-input-34-7091be68a605>\u001b[0m in \u001b[0;36m<module>\u001b[1;34m()\u001b[0m\n\u001b[0;32m      6\u001b[0m \u001b[1;31m#os.removedirs('noortest')\u001b[0m\u001b[1;33m\u001b[0m\u001b[1;33m\u001b[0m\u001b[0m\n\u001b[0;32m      7\u001b[0m \u001b[1;33m\u001b[0m\u001b[0m\n\u001b[1;32m----> 8\u001b[1;33m \u001b[0mos\u001b[0m\u001b[1;33m.\u001b[0m\u001b[0mrmdir\u001b[0m\u001b[1;33m(\u001b[0m\u001b[1;34m'noortest'\u001b[0m\u001b[1;33m)\u001b[0m\u001b[1;33m\u001b[0m\u001b[0m\n\u001b[0m",
      "\u001b[1;31mOSError\u001b[0m: [WinError 145] The directory is not empty: 'noortest'"
     ]
    }
   ],
   "source": [
    "#Remove the Directory\n",
    "os.listdir()\n",
    "\n",
    "#os.remove('test.txt')\n",
    "\n",
    "#os.removedirs('noortest')\n",
    "\n",
    "os.rmdir('noortest')"
   ]
  },
  {
   "cell_type": "code",
   "execution_count": 36,
   "metadata": {
    "collapsed": true
   },
   "outputs": [],
   "source": [
    "import shutil\n",
    "shutil.rmtree('noortest/')"
   ]
  },
  {
   "cell_type": "code",
   "execution_count": 37,
   "metadata": {},
   "outputs": [
    {
     "ename": "SyntaxError",
     "evalue": "invalid syntax (<ipython-input-37-8625009197cc>, line 1)",
     "output_type": "error",
     "traceback": [
      "\u001b[1;36m  File \u001b[1;32m\"<ipython-input-37-8625009197cc>\"\u001b[1;36m, line \u001b[1;32m1\u001b[0m\n\u001b[1;33m    if a < 3\u001b[0m\n\u001b[1;37m            ^\u001b[0m\n\u001b[1;31mSyntaxError\u001b[0m\u001b[1;31m:\u001b[0m invalid syntax\n"
     ]
    }
   ],
   "source": [
    "if a < 3"
   ]
  },
  {
   "cell_type": "code",
   "execution_count": 38,
   "metadata": {},
   "outputs": [
    {
     "ename": "ZeroDivisionError",
     "evalue": "division by zero",
     "output_type": "error",
     "traceback": [
      "\u001b[1;31m---------------------------------------------------------------------------\u001b[0m",
      "\u001b[1;31mZeroDivisionError\u001b[0m                         Traceback (most recent call last)",
      "\u001b[1;32m<ipython-input-38-05c9758a9c21>\u001b[0m in \u001b[0;36m<module>\u001b[1;34m()\u001b[0m\n\u001b[1;32m----> 1\u001b[1;33m \u001b[1;36m1\u001b[0m\u001b[1;33m/\u001b[0m\u001b[1;36m0\u001b[0m\u001b[1;33m\u001b[0m\u001b[0m\n\u001b[0m",
      "\u001b[1;31mZeroDivisionError\u001b[0m: division by zero"
     ]
    }
   ],
   "source": [
    "#Error can also occur at runtime and there are called exceptions\n",
    "1/0"
   ]
  },
  {
   "cell_type": "code",
   "execution_count": 48,
   "metadata": {},
   "outputs": [
    {
     "name": "stdout",
     "output_type": "stream",
     "text": [
      "1\n",
      "1\n",
      "\n",
      "\n",
      "Try is done and it is executed finally\n",
      "1\n",
      "3\n",
      "\n",
      "\n",
      "Try is done and it is executed finally\n",
      "1\n",
      "4\n",
      "\n",
      "\n",
      "Try is done and it is executed finally\n",
      "1\n",
      "0\n",
      "\n",
      "\n",
      "OOPs! <class 'ZeroDivisionError'> occured\n",
      "\n",
      "Try is done and it is executed finally\n",
      "1\n",
      "2\n",
      "\n",
      "\n",
      "Try is done and it is executed finally\n",
      "1\n",
      "4\n",
      "\n",
      "\n",
      "Try is done and it is executed finally\n",
      "2\n",
      "1\n",
      "\n",
      "\n",
      "Try is done and it is executed finally\n",
      "2\n",
      "3\n",
      "\n",
      "\n",
      "Try is done and it is executed finally\n",
      "2\n",
      "4\n",
      "\n",
      "\n",
      "Try is done and it is executed finally\n",
      "2\n",
      "0\n",
      "\n",
      "\n",
      "OOPs! <class 'ZeroDivisionError'> occured\n",
      "\n",
      "Try is done and it is executed finally\n",
      "2\n",
      "2\n",
      "\n",
      "\n",
      "Try is done and it is executed finally\n",
      "2\n",
      "4\n",
      "\n",
      "\n",
      "Try is done and it is executed finally\n",
      "3\n",
      "1\n",
      "\n",
      "\n",
      "Try is done and it is executed finally\n",
      "3\n",
      "3\n",
      "\n",
      "\n",
      "Try is done and it is executed finally\n",
      "3\n",
      "4\n",
      "\n",
      "\n",
      "Try is done and it is executed finally\n",
      "3\n",
      "0\n",
      "\n",
      "\n",
      "OOPs! <class 'ZeroDivisionError'> occured\n",
      "\n",
      "Try is done and it is executed finally\n",
      "3\n",
      "2\n",
      "\n",
      "\n",
      "Try is done and it is executed finally\n",
      "3\n",
      "4\n",
      "\n",
      "\n",
      "Try is done and it is executed finally\n",
      "40\n",
      "1\n",
      "\n",
      "\n",
      "Try is done and it is executed finally\n",
      "40\n",
      "3\n",
      "\n",
      "\n",
      "Try is done and it is executed finally\n",
      "40\n",
      "4\n",
      "\n",
      "\n",
      "Try is done and it is executed finally\n",
      "40\n",
      "0\n",
      "\n",
      "\n",
      "OOPs! <class 'ZeroDivisionError'> occured\n",
      "\n",
      "Try is done and it is executed finally\n",
      "40\n",
      "2\n",
      "\n",
      "\n",
      "Try is done and it is executed finally\n",
      "40\n",
      "4\n",
      "\n",
      "\n",
      "Try is done and it is executed finally\n",
      "0\n",
      "1\n",
      "\n",
      "\n",
      "Try is done and it is executed finally\n",
      "0\n",
      "3\n",
      "\n",
      "\n",
      "Try is done and it is executed finally\n",
      "0\n",
      "4\n",
      "\n",
      "\n",
      "Try is done and it is executed finally\n",
      "0\n",
      "0\n",
      "\n",
      "\n",
      "OOPs! <class 'ZeroDivisionError'> occured\n",
      "\n",
      "Try is done and it is executed finally\n",
      "0\n",
      "2\n",
      "\n",
      "\n",
      "Try is done and it is executed finally\n",
      "0\n",
      "4\n",
      "\n",
      "\n",
      "Try is done and it is executed finally\n",
      "23\n",
      "1\n",
      "\n",
      "\n",
      "Try is done and it is executed finally\n",
      "23\n",
      "3\n",
      "\n",
      "\n",
      "Try is done and it is executed finally\n",
      "23\n",
      "4\n",
      "\n",
      "\n",
      "Try is done and it is executed finally\n",
      "23\n",
      "0\n",
      "\n",
      "\n",
      "OOPs! <class 'ZeroDivisionError'> occured\n",
      "\n",
      "Try is done and it is executed finally\n",
      "23\n",
      "2\n",
      "\n",
      "\n",
      "Try is done and it is executed finally\n",
      "23\n",
      "4\n",
      "\n",
      "\n",
      "Try is done and it is executed finally\n"
     ]
    }
   ],
   "source": [
    "import sys\n",
    "a = [1,2,3,40,0,23]\n",
    "b = [1,3,4,0,2,4]\n",
    "\n",
    "for x in a:\n",
    "    for y in b:\n",
    "        try:\n",
    "            print(x)\n",
    "            print(y)\n",
    "            print(\"\\n\")\n",
    "            x/y\n",
    "        except:\n",
    "            print(\"OOPs!\",sys.exc_info()[0],\"occured\" )\n",
    "            print()\n",
    "        finally:\n",
    "            print(\"Try is done and it is executed finally\")\n",
    "            "
   ]
  }
 ],
 "metadata": {
  "kernelspec": {
   "display_name": "Python 3",
   "language": "python",
   "name": "python3"
  },
  "language_info": {
   "codemirror_mode": {
    "name": "ipython",
    "version": 3
   },
   "file_extension": ".py",
   "mimetype": "text/x-python",
   "name": "python",
   "nbconvert_exporter": "python",
   "pygments_lexer": "ipython3",
   "version": "3.6.1"
  }
 },
 "nbformat": 4,
 "nbformat_minor": 2
}
