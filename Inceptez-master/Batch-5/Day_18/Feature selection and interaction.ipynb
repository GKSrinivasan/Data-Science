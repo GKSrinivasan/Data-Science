{
 "cells": [
  {
   "cell_type": "code",
   "execution_count": 1,
   "metadata": {
    "collapsed": true
   },
   "outputs": [],
   "source": [
    "import pandas as pd\n",
    "import numpy as np\n",
    "from sklearn.model_selection import train_test_split\n",
    "import warnings\n",
    "from sklearn.metrics import mean_absolute_error\n",
    "from sklearn.linear_model import Lasso,Ridge\n",
    "from sklearn.preprocessing import PolynomialFeatures\n",
    "warnings.filterwarnings(\"ignore\")\n",
    "np.random.seed(42)"
   ]
  },
  {
   "cell_type": "code",
   "execution_count": 2,
   "metadata": {
    "collapsed": true
   },
   "outputs": [],
   "source": [
    "df = pd.read_csv(\"http://archive.ics.uci.edu/ml/machine-learning-databases/wine-quality/winequality-white.csv\", sep = ';')\n",
    "y = df.pop('quality')\n",
    "\n",
    "for i in df.columns:\n",
    "    df[i] = df[i].fillna(np.mean(df[i]))\n",
    "    \n",
    "train, test, y_train, y_test = train_test_split(df, y, test_size = 0.2)    "
   ]
  },
  {
   "cell_type": "code",
   "execution_count": 3,
   "metadata": {},
   "outputs": [
    {
     "name": "stdout",
     "output_type": "stream",
     "text": [
      "MAE score: 0.59404938801\n"
     ]
    }
   ],
   "source": [
    "def fit_predict(train, test, y_train, y_test, scaler = None):\n",
    "    if scaler is None:\n",
    "        lr = Ridge()\n",
    "        lr.fit(train, y_train)\n",
    "        y_pred = lr.predict(test)\n",
    "        print('MAE score:', mean_absolute_error(y_test, y_pred))\n",
    "    else:\n",
    "        train_scaled = scaler.fit_transform(train)\n",
    "        test_scaled = scaler.transform(test)\n",
    "        lr = Ridge()\n",
    "        lr.fit(train_scaled, y_train)\n",
    "        y_pred = lr.predict(test_scaled)\n",
    "        print('MAE score:', mean_absolute_error(y_test, y_pred))\n",
    "\n",
    "fit_predict(train,test,y_train,y_test)"
   ]
  },
  {
   "cell_type": "code",
   "execution_count": 4,
   "metadata": {},
   "outputs": [
    {
     "name": "stdout",
     "output_type": "stream",
     "text": [
      "non zero features: 6\n"
     ]
    }
   ],
   "source": [
    "def get_feat_imp(train,y_train,alpha=0.01):\n",
    "    lr = Lasso(alpha=alpha)\n",
    "    lr.fit(train,y_train)\n",
    "    return lr.coef_\n",
    "fi = get_feat_imp(train,y_train)\n",
    "print('non zero features:',np.sum(fi != 0))"
   ]
  },
  {
   "cell_type": "code",
   "execution_count": 5,
   "metadata": {
    "collapsed": true
   },
   "outputs": [],
   "source": [
    "bestf = np.argwhere(fi)\n",
    "train_best = train.iloc[:, [x[0] for x in bestf.tolist()]]\n",
    "test_best = test.iloc[:, [x[0] for x in bestf.tolist()]]"
   ]
  },
  {
   "cell_type": "code",
   "execution_count": 6,
   "metadata": {
    "collapsed": true
   },
   "outputs": [],
   "source": [
    "def create_poly(train,test,degree):\n",
    "    poly = PolynomialFeatures(degree=degree)\n",
    "    train_poly = poly.fit_transform(train)\n",
    "    test_poly = poly.fit_transform(test)\n",
    "    return train_poly,test_poly"
   ]
  },
  {
   "cell_type": "code",
   "execution_count": 7,
   "metadata": {},
   "outputs": [
    {
     "name": "stdout",
     "output_type": "stream",
     "text": [
      "No feature selection degree 1\n",
      "MAE score: 0.59404938801\n",
      "----------\n",
      "No feature selection degree 2\n",
      "MAE score: 0.577238983011\n",
      "----------\n",
      "No feature selection degree 3\n",
      "MAE score: 0.596958634563\n",
      "----------\n"
     ]
    }
   ],
   "source": [
    "for degree in [1,2,3]:\n",
    "    train_poly,test_poly = create_poly(train,test,degree)\n",
    "    print('No feature selection degree',degree)\n",
    "    fit_predict(train_poly,test_poly,y_train,y_test)\n",
    "    print(10*'-')"
   ]
  },
  {
   "cell_type": "code",
   "execution_count": 8,
   "metadata": {},
   "outputs": [
    {
     "name": "stdout",
     "output_type": "stream",
     "text": [
      "Feature selection degree 1\n",
      "MAE score: 0.597972321004\n",
      "----------\n",
      "Feature selection degree 2\n",
      "MAE score: 0.591541808012\n",
      "----------\n",
      "Feature selection degree 3\n",
      "MAE score: 0.597630769778\n",
      "----------\n"
     ]
    }
   ],
   "source": [
    "for degree in [1,2,3]:\n",
    "    train_poly,test_poly = create_poly(train_best,test_best,degree)\n",
    "    print('Feature selection degree',degree)\n",
    "    fit_predict(train_poly,test_poly,y_train,y_test)\n",
    "    print(10*'-')"
   ]
  }
 ],
 "metadata": {
  "kernelspec": {
   "display_name": "Python 3",
   "language": "python",
   "name": "python3"
  },
  "language_info": {
   "codemirror_mode": {
    "name": "ipython",
    "version": 3
   },
   "file_extension": ".py",
   "mimetype": "text/x-python",
   "name": "python",
   "nbconvert_exporter": "python",
   "pygments_lexer": "ipython3",
   "version": "3.6.2"
  }
 },
 "nbformat": 4,
 "nbformat_minor": 2
}
