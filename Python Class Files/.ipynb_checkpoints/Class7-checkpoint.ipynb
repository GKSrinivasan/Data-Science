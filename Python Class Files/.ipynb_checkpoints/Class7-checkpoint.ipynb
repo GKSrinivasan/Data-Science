{
 "cells": [
  {
   "cell_type": "code",
   "execution_count": 21,
   "metadata": {},
   "outputs": [
    {
     "name": "stdout",
     "output_type": "stream",
     "text": [
      "{'a': 'apple', 'b': 'ball', 'c': 'cat'}\n",
      "cat\n",
      "cat\n",
      "a apple\n",
      "b ball\n",
      "c cat\n",
      "('a', 'apple')\n",
      "('b', 'ball')\n",
      "('c', 'cat')\n",
      "apple\n",
      "ball\n",
      "cat\n",
      "a\n",
      "b\n",
      "c\n",
      "dict_values(['apple', 'ball', 'cat'])\n",
      "dict_keys(['a', 'b', 'c'])\n"
     ]
    }
   ],
   "source": [
    "my_first_dic={\"a\":\"apple\"}\n",
    "my_first_dic[\"b\"]=\"ball\"\n",
    "my_first_dic.update({\"c\":\"cat\"})\n",
    "print(my_first_dic)\n",
    "print(my_first_dic[\"c\"])\n",
    "print(my_first_dic.get(\"c\"))\n",
    "items=my_first_dic.items()\n",
    "for i,j in items:\n",
    "    print(i,j)\n",
    "for i in items:\n",
    "    print(i)\n",
    "for i in items:\n",
    "    print(i[1])\n",
    "for i in items:\n",
    "    print(i[0])\n",
    "print(my_first_dic.values())\n",
    "print(my_first_dic.keys())"
   ]
  },
  {
   "cell_type": "code",
   "execution_count": 15,
   "metadata": {},
   "outputs": [
    {
     "name": "stdout",
     "output_type": "stream",
     "text": [
      "(1, 2, 3)\n",
      "1 2 3\n"
     ]
    }
   ],
   "source": [
    "a=1,2,3\n",
    "#packing the tuple\n",
    "print(a)\n",
    "#unpacking the tuble\n",
    "b,c,d=a\n",
    "print(b,c,d)"
   ]
  },
  {
   "cell_type": "code",
   "execution_count": 24,
   "metadata": {},
   "outputs": [
    {
     "data": {
      "text/plain": [
       "{<__main__.employee at 0x1cc03c52470>: 'srini',\n",
       " <__main__.employee at 0x1cc03c52400>: 'srini',\n",
       " <__main__.employee at 0x1cc03c52438>: 'ganesh'}"
      ]
     },
     "execution_count": 24,
     "metadata": {},
     "output_type": "execute_result"
    }
   ],
   "source": [
    "class employee:\n",
    "    def __init__(self,name):\n",
    "        self.Name=name\n",
    "emp1=employee(\"srini\")\n",
    "emp2=employee(\"srini\")\n",
    "emp3=employee(\"ganesh\")\n",
    "dic={emp1:\"srini\"}\n",
    "dic[emp2]=\"srini\"\n",
    "dic[emp3]=\"ganesh\"\n",
    "dic"
   ]
  },
  {
   "cell_type": "code",
   "execution_count": 25,
   "metadata": {},
   "outputs": [
    {
     "data": {
      "text/plain": [
       "{<__main__.employee at 0x1cc03c52c50>: 'srini',\n",
       " <__main__.employee at 0x1cc03c52be0>: 'ganesh'}"
      ]
     },
     "execution_count": 25,
     "metadata": {},
     "output_type": "execute_result"
    }
   ],
   "source": [
    "class employee:\n",
    "    def __init__(self,name):\n",
    "        self.Name=name\n",
    "    def __hash__(self):\n",
    "        return hash(self.Name)\n",
    "    def __eq__(self,other):\n",
    "        return self.Name==other.Name\n",
    "emp1=employee(\"srini\")\n",
    "emp2=employee(\"srini\")\n",
    "emp3=employee(\"ganesh\")\n",
    "dic={emp1:\"srini\"}\n",
    "dic[emp2]=\"srini\"\n",
    "dic[emp3]=\"ganesh\"\n",
    "dic"
   ]
  },
  {
   "cell_type": "code",
   "execution_count": 40,
   "metadata": {},
   "outputs": [
    {
     "data": {
      "text/plain": [
       "{'A': 'apple', 'B': 'ball'}"
      ]
     },
     "execution_count": 40,
     "metadata": {},
     "output_type": "execute_result"
    }
   ],
   "source": [
    "a={\"a\":\"Apple\",\"b\":\"Ball\"}\n",
    "{i.upper():k.lower() for i,k in a.items()}"
   ]
  },
  {
   "cell_type": "code",
   "execution_count": 46,
   "metadata": {},
   "outputs": [
    {
     "name": "stdout",
     "output_type": "stream",
     "text": [
      "Please enter a number:4.0\n",
      "There is an error\n"
     ]
    }
   ],
   "source": [
    "try:\n",
    "    n=int(input(\"Please enter a number:\"))\n",
    "    print(\"you have successfully entered the value\")\n",
    "except:\n",
    "    print(\"There is an error\")"
   ]
  },
  {
   "cell_type": "code",
   "execution_count": 1,
   "metadata": {},
   "outputs": [
    {
     "name": "stdout",
     "output_type": "stream",
     "text": [
      "Please enter an integer: 4.5\n",
      "Enter a correct value\n",
      "Please enter an integer: 4\n",
      "Great\n"
     ]
    }
   ],
   "source": [
    "while True:\n",
    "    try:\n",
    "        n=input(\"Please enter an integer: \")\n",
    "        n=int(n)\n",
    "        break\n",
    "    except:\n",
    "        print(\"Enter a correct value\")\n",
    "print(\"Great\")"
   ]
  },
  {
   "cell_type": "code",
   "execution_count": 5,
   "metadata": {},
   "outputs": [
    {
     "name": "stdout",
     "output_type": "stream",
     "text": [
      "Enter two numbers, separated by a comma : 2 5\n",
      "Wrong input\n",
      "This will execute always\n"
     ]
    }
   ],
   "source": [
    "try:\n",
    "    num1,num2=eval(input(\"Enter two numbers, separated by a comma : \"))\n",
    "    result = num1/num2\n",
    "    print(\"Result is \",result)\n",
    "except ZeroDivisionError:\n",
    "    print(\"Division by zero is error !!\")\n",
    "except:\n",
    "    print(\"Wrong input\")\n",
    "else:\n",
    "    print(\"No Error\")\n",
    "finally:\n",
    "    print(\"This will execute always\")"
   ]
  },
  {
   "cell_type": "code",
   "execution_count": null,
   "metadata": {},
   "outputs": [],
   "source": []
  },
  {
   "cell_type": "code",
   "execution_count": null,
   "metadata": {},
   "outputs": [],
   "source": []
  }
 ],
 "metadata": {
  "kernelspec": {
   "display_name": "Python 3",
   "language": "python",
   "name": "python3"
  },
  "language_info": {
   "codemirror_mode": {
    "name": "ipython",
    "version": 3
   },
   "file_extension": ".py",
   "mimetype": "text/x-python",
   "name": "python",
   "nbconvert_exporter": "python",
   "pygments_lexer": "ipython3",
   "version": "3.6.5"
  }
 },
 "nbformat": 4,
 "nbformat_minor": 2
}
