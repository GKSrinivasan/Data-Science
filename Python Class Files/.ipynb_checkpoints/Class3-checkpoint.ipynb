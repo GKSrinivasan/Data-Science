{
 "cells": [
  {
   "cell_type": "code",
   "execution_count": 17,
   "metadata": {},
   "outputs": [
    {
     "name": "stdout",
     "output_type": "stream",
     "text": [
      "3\n"
     ]
    }
   ],
   "source": [
    "a=[1,2,3,4,5,6,1,2,7,8,9,10,1,2,2,4]\n",
    "def countthearray(array,search,length):\n",
    "    x=0\n",
    "    for i in array[:length]:\n",
    "        if(i==search):\n",
    "            x=x+1\n",
    "    for j in array[(len(array)-length):]:\n",
    "        if(j==search):\n",
    "            x=x+1\n",
    "    print(x)\n",
    "countthearray(a,2,5)"
   ]
  },
  {
   "cell_type": "code",
   "execution_count": 21,
   "metadata": {},
   "outputs": [
    {
     "name": "stdout",
     "output_type": "stream",
     "text": [
      "4\n"
     ]
    }
   ],
   "source": [
    "a=[1,2,3,4,5,6,1,2,7,8,9,2,1,2,2,4]\n",
    "def countthearray(array,search,length):\n",
    "    first=array[:length].count(search)\n",
    "    end=array[(len(array)-length):].count(search)\n",
    "    print(first+end)\n",
    "countthearray(a,2,5)"
   ]
  },
  {
   "cell_type": "code",
   "execution_count": 22,
   "metadata": {},
   "outputs": [
    {
     "name": "stdout",
     "output_type": "stream",
     "text": [
      "4\n"
     ]
    }
   ],
   "source": [
    "a=[1,2,3,4,5,6,1,2,7,8,9,2,1,2,2,4]\n",
    "def countthearray(array,search,length):\n",
    "    print(array[:length].count(search)+array[(len(array)-length):].count(search))\n",
    "countthearray(a,2,5)"
   ]
  },
  {
   "cell_type": "code",
   "execution_count": 41,
   "metadata": {},
   "outputs": [],
   "source": [
    "x=[1,2,3]\n",
    "del x"
   ]
  },
  {
   "cell_type": "code",
   "execution_count": 5,
   "metadata": {},
   "outputs": [
    {
     "name": "stdout",
     "output_type": "stream",
     "text": [
      "Test\n",
      "srini\n"
     ]
    }
   ],
   "source": [
    "a=\"ABCD\"\n",
    "def change():\n",
    "    a=\"Test\"\n",
    "    print(a)\n",
    "change()\n",
    "print(a)"
   ]
  },
  {
   "cell_type": "code",
   "execution_count": 6,
   "metadata": {},
   "outputs": [
    {
     "name": "stdout",
     "output_type": "stream",
     "text": [
      "[1, 2, 3, 4]\n"
     ]
    }
   ],
   "source": [
    "a=[1,2,3]\n",
    "def changearray():\n",
    "    a.append(4)\n",
    "changearray()\n",
    "print(a)"
   ]
  },
  {
   "cell_type": "code",
   "execution_count": 10,
   "metadata": {},
   "outputs": [
    {
     "name": "stdout",
     "output_type": "stream",
     "text": [
      "[4, 5, 6]\n",
      "[1, 2, 3]\n"
     ]
    }
   ],
   "source": [
    "a=[1,2,3]\n",
    "def changearray():\n",
    "    b=[4,5,6]\n",
    "    a=b\n",
    "    print(a)\n",
    "changearray()\n",
    "print(a)"
   ]
  },
  {
   "cell_type": "code",
   "execution_count": 14,
   "metadata": {},
   "outputs": [
    {
     "name": "stdout",
     "output_type": "stream",
     "text": [
      "2\n"
     ]
    }
   ],
   "source": [
    "x=0\n",
    "def changeGlobal():\n",
    "    global x\n",
    "    x=2\n",
    "changeGlobal()\n",
    "print(x)"
   ]
  },
  {
   "cell_type": "code",
   "execution_count": 15,
   "metadata": {},
   "outputs": [
    {
     "name": "stdout",
     "output_type": "stream",
     "text": [
      "[1, 2, 3, 4, 5, 6]\n",
      "[1, 2, 3, 4, 5, 6]\n"
     ]
    }
   ],
   "source": [
    "a=[1,2,3]\n",
    "def changearray():\n",
    "    global a\n",
    "    b=[4,5,6]\n",
    "    a=a+b\n",
    "    print(a)\n",
    "changearray()\n",
    "print(a)"
   ]
  },
  {
   "cell_type": "code",
   "execution_count": 21,
   "metadata": {},
   "outputs": [
    {
     "name": "stdout",
     "output_type": "stream",
     "text": [
      "{1, 2, 3, 4, 5}\n"
     ]
    }
   ],
   "source": [
    "a=[1,2,3,4,1,2,3,5]\n",
    "print(set(a))"
   ]
  },
  {
   "cell_type": "code",
   "execution_count": 53,
   "metadata": {},
   "outputs": [
    {
     "name": "stdout",
     "output_type": "stream",
     "text": [
      "{1, 2, 3, 4, 5, 6, 7}\n",
      "{5, 6, 7}\n",
      "{1, 2, 3, 4}\n",
      "{1, 2, 3, 4, 5, 6, 7}\n",
      "None\n",
      "{1, 2, 3, 4}\n",
      "{1, 2, 3, 4}\n",
      "{1, 2, 3, 4, 5, 6, 7}\n",
      "False\n",
      "False\n",
      "1\n"
     ]
    }
   ],
   "source": [
    "a={1,2,3,4,5,6,7}\n",
    "b={5,6,7}\n",
    "print(a.union(b))\n",
    "print(a.intersection(b))\n",
    "print(a.difference(b))\n",
    "a.isdisjoint(b)\n",
    "print(a)\n",
    "print(a.difference_update(b))\n",
    "print(a)\n",
    "a.discard(b)\n",
    "print(a)\n",
    "print(a.symmetric_difference(b))\n",
    "print(a.issubset(b))\n",
    "print(a.issuperset(b))\n",
    "print(a.pop())"
   ]
  },
  {
   "cell_type": "code",
   "execution_count": 63,
   "metadata": {},
   "outputs": [
    {
     "name": "stdout",
     "output_type": "stream",
     "text": [
      "(1, 2, 3, 4, 5, 6)\n"
     ]
    }
   ],
   "source": [
    "a=tuple([1,2,3])\n",
    "b=tuple([4,5,6])\n",
    "print((a+b))"
   ]
  },
  {
   "cell_type": "code",
   "execution_count": 69,
   "metadata": {},
   "outputs": [
    {
     "name": "stdout",
     "output_type": "stream",
     "text": [
      "[1, 2, 3, 'hi']\n"
     ]
    }
   ],
   "source": [
    "def modify(a):\n",
    "    if isinstance(a,list):\n",
    "        a.append(\"hi\")\n",
    "        print(a)\n",
    "arr=[1,2,3]\n",
    "tup=(1,2,3)\n",
    "modify(arr)"
   ]
  },
  {
   "cell_type": "code",
   "execution_count": 81,
   "metadata": {},
   "outputs": [
    {
     "name": "stdout",
     "output_type": "stream",
     "text": [
      "<class 'list'>\n"
     ]
    }
   ],
   "source": [
    "def modify(a):\n",
    "    print(type(a))\n",
    "arr=[1,2,3]\n",
    "tup=(1,2,3)\n",
    "modify(arr)"
   ]
  },
  {
   "cell_type": "code",
   "execution_count": null,
   "metadata": {},
   "outputs": [],
   "source": []
  }
 ],
 "metadata": {
  "kernelspec": {
   "display_name": "Python 3",
   "language": "python",
   "name": "python3"
  },
  "language_info": {
   "codemirror_mode": {
    "name": "ipython",
    "version": 3
   },
   "file_extension": ".py",
   "mimetype": "text/x-python",
   "name": "python",
   "nbconvert_exporter": "python",
   "pygments_lexer": "ipython3",
   "version": "3.6.5"
  }
 },
 "nbformat": 4,
 "nbformat_minor": 2
}
