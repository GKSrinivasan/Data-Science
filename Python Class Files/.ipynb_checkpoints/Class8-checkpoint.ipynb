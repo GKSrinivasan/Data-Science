{
 "cells": [
  {
   "cell_type": "code",
   "execution_count": 22,
   "metadata": {},
   "outputs": [
    {
     "name": "stdout",
     "output_type": "stream",
     "text": [
      "Enter a string Number5\n",
      "Enter side 1 : ryrt\n",
      "Enter side 2 : tytr\n",
      "Enter side 3 : rter\n",
      "Enter side 4 : reyt\n",
      "Enter side 5 : ryrty\n",
      "4\n"
     ]
    }
   ],
   "source": [
    "def findLongestString():\n",
    "    numberofstring = int(input(\"Enter a string Number\"))\n",
    "    strings =[(input(\"Enter side \"+str(i+1)+\" : \")) for i in range(numberofstring)]\n",
    "    string=\"\"\n",
    "    length=0\n",
    "    for i in range(numberofstring):\n",
    "        if(length<len(strings[i])):\n",
    "            length = len(strings[i])\n",
    "            string=i\n",
    "    print(string)\n",
    "findLongestString()"
   ]
  },
  {
   "cell_type": "code",
   "execution_count": 21,
   "metadata": {},
   "outputs": [
    {
     "name": "stdout",
     "output_type": "stream",
     "text": [
      "Enter a string Number5\n",
      "Enter side 1 : dmkl\n",
      "Enter side 2 : dfs\n",
      "Enter side 3 : kflv4\n",
      "Enter side 4 : fs\n",
      "Enter side 5 : fk\n",
      "kflv4\n"
     ]
    }
   ],
   "source": [
    "def findLongestString():\n",
    "    numberofstring = int(input(\"Enter a string Number\"))\n",
    "    strings =[(input(\"Enter side \"+str(i+1)+\" : \")) for i in range(numberofstring)]\n",
    "    a = [[len(i),j] for i,j in zip(strings,strings)]\n",
    "    a.sort()\n",
    "    print(a[len(strings)][1])\n",
    "findLongestString()"
   ]
  },
  {
   "cell_type": "code",
   "execution_count": 2,
   "metadata": {},
   "outputs": [
    {
     "name": "stdout",
     "output_type": "stream",
     "text": [
      "Enter a string Number5\n",
      "Enter side 1 : fdh\n",
      "Enter side 2 : dfhld\n",
      "Enter side 3 : kjdfhldjf\n",
      "Enter side 4 : nfg\n",
      "Enter side 5 : fk\n",
      "kjdfhldjf\n"
     ]
    }
   ],
   "source": [
    "def findLongestString():\n",
    "    numberofstring = int(input(\"Enter a string Number\"))\n",
    "    strings =[(input(\"Enter side \"+str(i+1)+\" : \")) for i in range(numberofstring)]\n",
    "    print(max(strings, key=len))\n",
    "findLongestString()"
   ]
  },
  {
   "cell_type": "code",
   "execution_count": 19,
   "metadata": {},
   "outputs": [],
   "source": [
    "f=open(\"Files\\myfirstFile.txt\",mode='w',encoding=\"utf-8\")\n",
    "f.write(\"Hi Srini \\n\")\n",
    "f.write(\"Hi Chithra \\n\")\n",
    "f.close()"
   ]
  },
  {
   "cell_type": "code",
   "execution_count": 20,
   "metadata": {},
   "outputs": [],
   "source": [
    "f=open(\"Files\\myfirstFile.txt\",mode='a',encoding=\"utf-8\")\n",
    "f.write(\"Hi Srini \\n\")\n",
    "f.write(\"Hi Chithra \\n\")\n",
    "f.close()"
   ]
  },
  {
   "cell_type": "code",
   "execution_count": 21,
   "metadata": {},
   "outputs": [
    {
     "name": "stdout",
     "output_type": "stream",
     "text": [
      "Hi Srini \n",
      "\n",
      "Hi Chithra \n",
      "\n",
      "Hi Srini \n",
      "\n",
      "Hi Chithra \n",
      "\n"
     ]
    }
   ],
   "source": [
    "f=open(\"Files\\myfirstFile.txt\",mode='r',encoding=\"utf-8\")\n",
    "for i in f:\n",
    "    print(i)\n",
    "f.close()"
   ]
  },
  {
   "cell_type": "code",
   "execution_count": 40,
   "metadata": {},
   "outputs": [
    {
     "name": "stdout",
     "output_type": "stream",
     "text": [
      "Lorem,Aenean,Aenean,Cum,Donec,Nulla,Donec,In,Nullam,Integer,Cras,Vivamus,Aenean,Aenean,Aliquam,Phasellus,Quisque,Aenean,Etiam,Curabitur,Nam,Etiam,Maecenas,Nam,Maecenas,Donec,Nullam,Etiam,Duis,Sed,Donec,Sed,"
     ]
    }
   ],
   "source": [
    "def findCaptialWordsofthefile(path):\n",
    "    f=open(path,'r');\n",
    "    for i in f:\n",
    "        for x in i.split(\" \"):\n",
    "            if x.istitle():\n",
    "                print(x,end=\",\")\n",
    "    f.close()\n",
    "findCaptialWordsofthefile(\"Files\\TextDocument.txt\")"
   ]
  },
  {
   "cell_type": "code",
   "execution_count": 37,
   "metadata": {},
   "outputs": [
    {
     "name": "stdout",
     "output_type": "stream",
     "text": [
      "{'Aenean': 5, 'Maecenas': 2, 'fd': 0}\n"
     ]
    }
   ],
   "source": [
    "def findWordsofthefile(path,*keyWord):\n",
    "    f=open(path,'r');\n",
    "    array=list()\n",
    "    for i in f:\n",
    "        array.extend(i.split(\" \"))\n",
    "    print({j:array.count(j) if j in array else 0 for j in keyWord})\n",
    "    f.close()\n",
    "findWordsofthefile(\"Files\\TextDocument.txt\",\"Aenean\",\"Maecenas\",\"fd\")"
   ]
  },
  {
   "cell_type": "code",
   "execution_count": 36,
   "metadata": {},
   "outputs": [
    {
     "name": "stdout",
     "output_type": "stream",
     "text": [
      "{'Aenean': 5, 'Maecenas': 2}\n"
     ]
    }
   ],
   "source": [
    "def findWordsofthefile(path,*keyWord):\n",
    "    f=open(path,'r');\n",
    "    array=list()\n",
    "    for i in f:\n",
    "        for x in i.split(\" \"):\n",
    "            array.append(x)\n",
    "    print({j:array.count(j) for j in keyWord if j in array})\n",
    "    f.close()\n",
    "findWordsofthefile(\"Files\\TextDocument.txt\",\"Aenean\",\"Maecenas\",\"fd\")"
   ]
  },
  {
   "cell_type": "code",
   "execution_count": 41,
   "metadata": {},
   "outputs": [
    {
     "name": "stdout",
     "output_type": "stream",
     "text": [
      "{'Aenean': 5, 'Maecenas': 2, 'fd': 0}\n"
     ]
    }
   ],
   "source": [
    "def findWordsofthefile(path,*keyWord):\n",
    "    f=open(path,'r');\n",
    "    array=list()\n",
    "    array.extend(f.read().split(\" \"))\n",
    "    print({j:array.count(j) if j in array else 0 for j in keyWord})\n",
    "    f.close()\n",
    "findWordsofthefile(\"Files\\TextDocument.txt\",\"Aenean\",\"Maecenas\",\"fd\")"
   ]
  },
  {
   "cell_type": "code",
   "execution_count": 46,
   "metadata": {},
   "outputs": [
    {
     "name": "stdout",
     "output_type": "stream",
     "text": [
      "Cum sociis natoque penatibus et magnis dis parturient montes, nascetur ridiculus mus. Donec quam felis, ultricies nec, pellentesque eu, pretium quis, sem. Nulla consequat massa quis enim. Donec pede justo, fringilla vel, aliquet nec, vulputate eget, arcu. \n",
      "\n",
      "In enim justo, rhoncus ut, imperdiet a, venenatis vitae, justo. Nullam dictum felis eu pede mollis pretium. Integer tincidunt. Cras dapibus. Vivamus elementum semper nisi. Aenean vulputate eleifend tellus. Aenean leo ligula, porttitor eu, consequat vitae, eleifend ac, enim. Aliquam lorem ante, dapibus in, viverra quis, feugiat a, tellus. Phasellus viverra nulla ut metus varius laoreet. Quisque rutrum. Aenean imperdiet. Etiam ultricies nisi vel augue. Curabitur ullamcorper ultricies nisi. Nam eget dui. Etiam rhoncus. Maecenas tempus, tellus eget condimentum rhoncus, sem quam semper libero, sit amet adipiscing sem neque sed ipsum. Nam quam nunc, blandit vel, luctus pulvinar, hendrerit id, lorem. Maecenas nec odio et ante tincidunt tempus. Donec vitae sapien ut libero venenatis faucibus. Nullam quis ante. Etiam sit amet orci eget eros faucibus tincidunt. Duis leo. Sed fringilla mauris sit amet nibh. Donec sodales sagittis magna. Sed consequat, leo eget bibendum sodales, augue velit cursus nunc, \n"
     ]
    }
   ],
   "source": [
    "def fileprofe(path):\n",
    "    f=open(path,'r');\n",
    "    for i in f:\n",
    "        array = i.replace(\"\\n\",\"\").split(\" \")\n",
    "        if(array[0].istitle):\n",
    "            if \".\" in array[len(array)-1]:\n",
    "                count = 0\n",
    "                for z in range(1,len(array)):\n",
    "                    if(array[z].isupper()):\n",
    "                        count += 1\n",
    "                if(count > 0):\n",
    "                    print(i)\n",
    "            else:\n",
    "                print(i)\n",
    "        else:\n",
    "            print(i)\n",
    "fileprofe(\"Files\\TextDocument.txt\")"
   ]
  },
  {
   "cell_type": "code",
   "execution_count": 60,
   "metadata": {},
   "outputs": [
    {
     "name": "stdout",
     "output_type": "stream",
     "text": [
      "Cum sociis natoque penatibus et magnis dis parturient montes, nascetur ridiculus mus. Donec quam felis, ultricies nec, pellentesque eu, pretium quis, sem. Nulla consequat massa quis enim. Donec pede justo, fringilla vel, aliquet nec, vulputate eget, arcu. \n",
      "\n",
      "In enim justo, rhoncus ut, imperdiet a, venenatis vitae, justo. Nullam dictum felis eu pede mollis pretium. Integer tincidunt. Cras dapibus. Vivamus elementum semper nisi. Aenean vulputate eleifend tellus. Aenean leo ligula, porttitor eu, consequat vitae, eleifend ac, enim. Aliquam lorem ante, dapibus in, viverra quis, feugiat a, tellus. Phasellus viverra nulla ut metus varius laoreet. Quisque rutrum. Aenean imperdiet. Etiam ultricies nisi vel augue. Curabitur ullamcorper ultricies nisi. Nam eget dui. Etiam rhoncus. Maecenas tempus, tellus eget condimentum rhoncus, sem quam semper libero, sit amet adipiscing sem neque sed ipsum. Nam quam nunc, blandit vel, luctus pulvinar, hendrerit id, lorem. Maecenas nec odio et ante tincidunt tempus. Donec vitae sapien ut libero venenatis faucibus. Nullam quis ante. Etiam sit amet orci eget eros faucibus tincidunt. Duis leo. Sed fringilla mauris sit amet nibh. Donec sodales sagittis magna. Sed consequat, leo eget bibendum sodales, augue velit cursus nunc, \n"
     ]
    }
   ],
   "source": [
    "def fileprofe(path):\n",
    "    f=open(path,'r');\n",
    "    for i in f:\n",
    "        array = i.replace(\"\\n\",\"\").split(\" \")\n",
    "        if(array[0].istitle and \".\" in array[len(array)-1]):\n",
    "            count = 0\n",
    "            for z in range(1,len(array)):\n",
    "                if(array[z].isupper()):\n",
    "                    count += 1\n",
    "            if(count > 0):\n",
    "                print(i)\n",
    "        else:\n",
    "            print(i)\n",
    "fileprofe(\"Files\\TextDocument.txt\")"
   ]
  },
  {
   "cell_type": "code",
   "execution_count": 64,
   "metadata": {},
   "outputs": [
    {
     "name": "stdout",
     "output_type": "stream",
     "text": [
      "Created File\n",
      "Removed\n",
      "No file\n"
     ]
    }
   ],
   "source": [
    "import os\n",
    "def createTestFile(filename):\n",
    "    f=open(filename,'w')\n",
    "    f.write(\"dgsd\")\n",
    "    print(\"Created File\")\n",
    "def removeFile(filename):\n",
    "    if os.path.exists(filename):\n",
    "        os.remove(filename)\n",
    "        print(\"Removed\")\n",
    "    else:\n",
    "        print(\"No file\")\n",
    "fileName=\"test.txt\"\n",
    "createTestFile(fileName)\n",
    "removeFile(fileName)\n",
    "removeFile(\"lshdf.txt\")"
   ]
  },
  {
   "cell_type": "code",
   "execution_count": null,
   "metadata": {},
   "outputs": [],
   "source": []
  },
  {
   "cell_type": "code",
   "execution_count": null,
   "metadata": {},
   "outputs": [],
   "source": []
  }
 ],
 "metadata": {
  "kernelspec": {
   "display_name": "Python 3",
   "language": "python",
   "name": "python3"
  },
  "language_info": {
   "codemirror_mode": {
    "name": "ipython",
    "version": 3
   },
   "file_extension": ".py",
   "mimetype": "text/x-python",
   "name": "python",
   "nbconvert_exporter": "python",
   "pygments_lexer": "ipython3",
   "version": "3.6.5"
  }
 },
 "nbformat": 4,
 "nbformat_minor": 2
}
