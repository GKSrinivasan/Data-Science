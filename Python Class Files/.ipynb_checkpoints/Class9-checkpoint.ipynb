{
 "cells": [
  {
   "cell_type": "code",
   "execution_count": 1,
   "metadata": {},
   "outputs": [
    {
     "name": "stdout",
     "output_type": "stream",
     "text": [
      "Opened database Successfully\n"
     ]
    }
   ],
   "source": [
    "import sqlite3\n",
    "conn=sqlite3.connect('pythonDB.db')\n",
    "print(\"Opened database Successfully\")"
   ]
  },
  {
   "cell_type": "code",
   "execution_count": 2,
   "metadata": {},
   "outputs": [
    {
     "name": "stdout",
     "output_type": "stream",
     "text": [
      "Table Created Successfully\n"
     ]
    }
   ],
   "source": [
    "conn.execute('''CREATE TABLE Company2\n",
    "             (ID INT PRIMARY KEY,\n",
    "             NAME TEXT NOT NULL,\n",
    "             AGE INT NOT NULL,\n",
    "             ADDRESS CHAR(50),\n",
    "             SALARY REAL);''')\n",
    "print(\"Table Created Successfully\")"
   ]
  },
  {
   "cell_type": "code",
   "execution_count": 5,
   "metadata": {},
   "outputs": [
    {
     "name": "stdout",
     "output_type": "stream",
     "text": [
      "Records created successfully\n"
     ]
    }
   ],
   "source": [
    "conn.execute(\"INSERT INTO Company2 VALUES (1,'Srini',25,'Chennai',20000)\");\n",
    "conn.execute(\"INSERT INTO Company2 VALUES (2,'Ganesh',30,'UAS',50000)\");\n",
    "conn.execute(\"INSERT INTO Company2 VALUES (3,'Uma',30,'Chennai',25000)\");\n",
    "conn.execute(\"INSERT INTO Company2 VALUES (4,'Arun',30,'Chennai',30000)\");\n",
    "conn.commit()\n",
    "print(\"Records created successfully\");\n",
    "conn.close()"
   ]
  },
  {
   "cell_type": "code",
   "execution_count": 7,
   "metadata": {},
   "outputs": [],
   "source": [
    "class Company:\n",
    "    def __init__(self,id,name,age,address,salary):\n",
    "        self.ID=id\n",
    "        self.Name=name\n",
    "        self.Age=age\n",
    "        self.Address=address\n",
    "        self.Salary=salary\n",
    "comp1=Company(5,\"Chithra\",21,\"Chennai\",15000)\n",
    "comp2=Company(6,\"Pranav\",2,\"USA\",5000)\n",
    "array=[comp1,comp2]\n",
    "def insertIntoDB(arr):\n",
    "    conn=sqlite3.connect('pythonDB.db')\n",
    "    for  i in arr:\n",
    "        conn.execute(\"INSERT INTO Company2 VALUES (\"+str(i.ID)+\",'\"+i.Name+\"',\"+str(i.Age)+\",'\"+i.Address+\"',\"+str(i.Salary)+\")\");\n",
    "        #conn.execute(\"INSERT INTO Company2 VALUES (?,?,?,?,?)\",(i.ID,i.Name,i.Age,i.Address,i.Salary));\n",
    "    conn.commit()\n",
    "    conn.close()\n",
    "insertIntoDB(array)\n"
   ]
  },
  {
   "cell_type": "code",
   "execution_count": 4,
   "metadata": {},
   "outputs": [
    {
     "name": "stdout",
     "output_type": "stream",
     "text": [
      "(1, 'Srini', 25, 'Chennai', 21000.0)\n",
      "(2, 'Ganesh', 30, 'UAS', 50000.0)\n",
      "(3, 'Uma', 30, 'Chennai', 25000.0)\n",
      "(5, 'Chithra', 21, 'Chennai', 15000.0)\n",
      "(6, 'Pranav', 2, 'USA', 5000.0)\n"
     ]
    }
   ],
   "source": [
    "conn=sqlite3.connect('pythonDB.db')\n",
    "conn.execute(\"UPDATE Company2 SET Salary = 21000 WHERE ID=1\")\n",
    "conn.execute(\"DELETE FROM Company2 WHERE ID=4\")\n",
    "data=conn.execute(\"SELECT * FROM Company2\")\n",
    "for i in data:\n",
    "    print(i)\n",
    "conn.commit()\n",
    "conn.close()"
   ]
  },
  {
   "cell_type": "code",
   "execution_count": null,
   "metadata": {},
   "outputs": [],
   "source": []
  }
 ],
 "metadata": {
  "kernelspec": {
   "display_name": "Python 3",
   "language": "python",
   "name": "python3"
  },
  "language_info": {
   "codemirror_mode": {
    "name": "ipython",
    "version": 3
   },
   "file_extension": ".py",
   "mimetype": "text/x-python",
   "name": "python",
   "nbconvert_exporter": "python",
   "pygments_lexer": "ipython3",
   "version": "3.6.5"
  }
 },
 "nbformat": 4,
 "nbformat_minor": 2
}
