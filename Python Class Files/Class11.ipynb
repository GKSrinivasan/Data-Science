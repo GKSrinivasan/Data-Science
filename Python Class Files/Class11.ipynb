{
 "cells": [
  {
   "cell_type": "code",
   "execution_count": 30,
   "metadata": {},
   "outputs": [
    {
     "name": "stdout",
     "output_type": "stream",
     "text": [
      "Cube 1000\n",
      "Square 25\n",
      "Done\n"
     ]
    }
   ],
   "source": [
    "import threading\n",
    "\n",
    "def cube(num):\n",
    "    print(\"Cube {}\".format(num*num*num))\n",
    "def square(num):\n",
    "    print(\"Square {}\".format(num*num))\n",
    "if __name__==\"__main__\":\n",
    "    t1=threading.Thread(target=cube,args=(10,))\n",
    "    t2=threading.Thread(target=square,args=(5,))\n",
    "    t1.start()\n",
    "    t2.start()\n",
    "    # main function to wait till the thread complete like await\n",
    "    t1.join()\n",
    "    t2.join()\n",
    "    print(\"Done\")"
   ]
  },
  {
   "cell_type": "code",
   "execution_count": null,
   "metadata": {},
   "outputs": [],
   "source": []
  },
  {
   "cell_type": "code",
   "execution_count": null,
   "metadata": {},
   "outputs": [],
   "source": []
  },
  {
   "cell_type": "code",
   "execution_count": null,
   "metadata": {},
   "outputs": [],
   "source": []
  }
 ],
 "metadata": {
  "kernelspec": {
   "display_name": "Python 3",
   "language": "python",
   "name": "python3"
  },
  "language_info": {
   "codemirror_mode": {
    "name": "ipython",
    "version": 3
   },
   "file_extension": ".py",
   "mimetype": "text/x-python",
   "name": "python",
   "nbconvert_exporter": "python",
   "pygments_lexer": "ipython3",
   "version": "3.6.5"
  }
 },
 "nbformat": 4,
 "nbformat_minor": 2
}
