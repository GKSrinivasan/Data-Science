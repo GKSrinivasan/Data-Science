{
 "cells": [
  {
   "cell_type": "code",
   "execution_count": 7,
   "metadata": {},
   "outputs": [
    {
     "data": {
      "text/plain": [
       "'Fail'"
      ]
     },
     "execution_count": 7,
     "metadata": {},
     "output_type": "execute_result"
    }
   ],
   "source": [
    "array=[\"apple\",\"mango\",\"orange\"]\n",
    "def upperCase(array):\n",
    "    return list(map(lambda x:x.upper(),array))\n",
    "    #print([i.upper() for i in array])\n",
    "\n",
    "def validateUpperCase(array,actualfun):\n",
    "    expected=list(map(lambda x:x.upper(),array))\n",
    "    actual = actualfun(array)\n",
    "    if(expected == actual):\n",
    "        return \"Pass\"\n",
    "    else:\n",
    "        return \"Fail\"\n",
    "upperCase(array)\n",
    "validateUpperCase(array,upperCase)"
   ]
  },
  {
   "cell_type": "code",
   "execution_count": 18,
   "metadata": {},
   "outputs": [
    {
     "name": "stdout",
     "output_type": "stream",
     "text": [
      "Pass\n",
      "Fail\n",
      "2996079368264 2996079369864\n"
     ]
    }
   ],
   "source": [
    "array=[\"apple\",\"mango\",\"orange\"]\n",
    "def copyArray(a):\n",
    "    return array.copy()\n",
    "def validateArray(array,func):\n",
    "    expectedResult = [\"apple\",\"mango\",\"orange\"]\n",
    "    actualResult = func(array)\n",
    "    array.append(\"grape\")\n",
    "    if(actualResult == expectedResult):\n",
    "        print(\"Pass\")\n",
    "    else:\n",
    "        print(\"Fail\")\n",
    "    array.append(\"grape\")\n",
    "    actualResult = func(array)\n",
    "    if(actualResult == expectedResult):\n",
    "        print(\"Pass\")\n",
    "    else:\n",
    "        print(\"Fail\")\n",
    "    print(id(array),id(actualResult))\n",
    "validateArray(array,copyArray)"
   ]
  },
  {
   "cell_type": "code",
   "execution_count": 23,
   "metadata": {},
   "outputs": [
    {
     "name": "stdout",
     "output_type": "stream",
     "text": [
      "Welcome to OOPs :  Srini\n",
      "Welcome to OOPs :  Yathika\n"
     ]
    }
   ],
   "source": [
    "class Message:\n",
    "    header = \"Welcome to OOPs : \"\n",
    "    def __init__(self,name):\n",
    "        self.Name = name\n",
    "    def printName(self):\n",
    "        print(Message.header,self.Name)\n",
    "obj1=Message(\"Srini\")\n",
    "obj1.printName()\n",
    "obj1.Name = \"Yathika\"\n",
    "obj1.printName()"
   ]
  },
  {
   "cell_type": "code",
   "execution_count": 29,
   "metadata": {},
   "outputs": [
    {
     "name": "stdout",
     "output_type": "stream",
     "text": [
      "Srini  logged-In at  9.30 AM\n",
      "Srini  logged-out at  8:30 PM\n"
     ]
    }
   ],
   "source": [
    "class Employee:\n",
    "    def __init__(self,name,desigination,intime,outtime,salary):\n",
    "        self.Name=name\n",
    "        self.Desigination = desigination\n",
    "        self.INTime=intime\n",
    "        self.OutTime=outtime\n",
    "    def loggedInEmployee(self):\n",
    "        print(self.Name,\" logged-In at \",self.INTime)\n",
    "    def logout(self):\n",
    "        print(self.Name,\" logged-out at \",self.OutTime)\n",
    "obj1=Employee(\"Srini\",\"Developer\",\"9.30 AM\",\"8:30 PM\",15000)\n",
    "obj1.loggedInEmployee()\n",
    "obj1.logout()"
   ]
  },
  {
   "cell_type": "code",
   "execution_count": 30,
   "metadata": {},
   "outputs": [
    {
     "name": "stdout",
     "output_type": "stream",
     "text": [
      "Srini  logged-In at  9.30 AM\n",
      "Srini  logged-out at  8:30 PM\n"
     ]
    }
   ],
   "source": [
    "class Employee:\n",
    "    def __init__(self,*arg):\n",
    "        self.Name=arg[0]\n",
    "        self.Desigination = arg[1]\n",
    "        self.INTime=arg[2]\n",
    "        self.OutTime=arg[3]\n",
    "    def loggedInEmployee(self):\n",
    "        print(self.Name,\" logged-In at \",self.INTime)\n",
    "    def logout(self):\n",
    "        print(self.Name,\" logged-out at \",self.OutTime)\n",
    "obj1=Employee(\"Srini\",\"Developer\",\"9.30 AM\",\"8:30 PM\",15000)\n",
    "obj1.loggedInEmployee()\n",
    "obj1.logout()"
   ]
  },
  {
   "cell_type": "code",
   "execution_count": 41,
   "metadata": {},
   "outputs": [
    {
     "name": "stdout",
     "output_type": "stream",
     "text": [
      "Srini  logged-In at  9:30 Am\n",
      "Srini  logged-out at  8:30 PM\n",
      "Srini Developer\n",
      "Srini Developer\n",
      "Srini Developer\n",
      "Srini Developer\n",
      "Srini Developer\n"
     ]
    }
   ],
   "source": [
    "class Employee:\n",
    "    def __init__(self,**arg):\n",
    "        self.Name=arg.get('name')\n",
    "        self.Desigination = arg.get('desigination')\n",
    "        self.INTime=arg.get('intime')\n",
    "        self.OutTime=arg.get('outtime')\n",
    "    def loggedInEmployee(self):\n",
    "        print(self.Name,\" logged-In at \",self.INTime)\n",
    "    def logout(self):\n",
    "        print(self.Name,\" logged-out at \",self.OutTime)\n",
    "obj1=Employee(name=\"Srini\",desigination=\"Developer\",intime=\"9:30 Am\",outtime=\"8:30 PM\",salary=15000)\n",
    "obj1.loggedInEmployee()\n",
    "obj1.logout()\n",
    "obj2=Employee(name=\"Srini\",desigination=\"Developer\",intime=\"9:30 Am\",outtime=\"8:30 PM\",salary=15000)\n",
    "obj3=Employee(name=\"Srini\",desigination=\"Developer\",intime=\"9:30 Am\",outtime=\"8:30 PM\",salary=15000)\n",
    "obj4=Employee(name=\"Srini\",desigination=\"Developer\",intime=\"9:30 Am\",outtime=\"8:30 PM\",salary=15000)\n",
    "obj5=Employee(name=\"Srini\",desigination=\"Developer\",intime=\"9:30 Am\",outtime=\"8:30 PM\",salary=15000)\n",
    "\n",
    "emptyArray=list()\n",
    "emptyArray.append(obj1)\n",
    "emptyArray.append(obj2)\n",
    "emptyArray.append(obj3)\n",
    "emptyArray.append(obj4)\n",
    "emptyArray.append(obj5)\n",
    "emptyArray\n",
    "\n",
    "for i in emptyArray:\n",
    "    print(i.Name,i.Desigination)"
   ]
  },
  {
   "cell_type": "code",
   "execution_count": null,
   "metadata": {},
   "outputs": [],
   "source": []
  }
 ],
 "metadata": {
  "kernelspec": {
   "display_name": "Python 3",
   "language": "python",
   "name": "python3"
  },
  "language_info": {
   "codemirror_mode": {
    "name": "ipython",
    "version": 3
   },
   "file_extension": ".py",
   "mimetype": "text/x-python",
   "name": "python",
   "nbconvert_exporter": "python",
   "pygments_lexer": "ipython3",
   "version": "3.6.5"
  }
 },
 "nbformat": 4,
 "nbformat_minor": 2
}
