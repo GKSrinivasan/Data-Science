{
 "cells": [
  {
   "cell_type": "code",
   "execution_count": 7,
   "metadata": {},
   "outputs": [
    {
     "name": "stdout",
     "output_type": "stream",
     "text": [
      "20 10\n",
      "10 20\n"
     ]
    }
   ],
   "source": [
    "#write a function that swaps the values of the global variables (with temp variable)\n",
    "a=10\n",
    "b=20\n",
    "\n",
    "def swap():\n",
    "    global a,b\n",
    "    c=a\n",
    "    a=b\n",
    "    b=c\n",
    "    print(a,b)\n",
    "swap()\n",
    "swap()"
   ]
  },
  {
   "cell_type": "code",
   "execution_count": 8,
   "metadata": {},
   "outputs": [
    {
     "name": "stdout",
     "output_type": "stream",
     "text": [
      "20 10\n",
      "10 20\n"
     ]
    }
   ],
   "source": [
    "#write a function that swaps the values of the global variables (without temp variable)\n",
    "a=10\n",
    "b=20\n",
    "\n",
    "def swap():\n",
    "    global a,b\n",
    "    a,b=b,a\n",
    "    print(a,b)\n",
    "swap()\n",
    "swap()"
   ]
  },
  {
   "cell_type": "code",
   "execution_count": 14,
   "metadata": {},
   "outputs": [
    {
     "name": "stdout",
     "output_type": "stream",
     "text": [
      "1 One\n",
      "2 Two\n",
      "3 Three\n",
      "4 Four\n",
      "5 Five\n",
      "6 Six\n"
     ]
    }
   ],
   "source": [
    "a=[1,2,3,4,5,6]\n",
    "b=[\"One\",\"Two\",\"Three\",\"Four\",\"Five\",\"Six\"]\n",
    "def display(a,b):\n",
    "    for i in range(len(a)):\n",
    "        print(a[i],b[i])\n",
    "def pythonicDisplay(a,b):\n",
    "    for i,j in zip(a,b):\n",
    "        print(i,j)\n",
    "display(a,b)\n",
    "pythonicDisplay(a,b)"
   ]
  },
  {
   "cell_type": "code",
   "execution_count": 18,
   "metadata": {},
   "outputs": [
    {
     "name": "stdout",
     "output_type": "stream",
     "text": [
      "0 Mango\n",
      "1 Pine\n",
      "2 Apple\n",
      "3 Strayberry\n",
      "0 Mango\n",
      "1 Pine\n",
      "2 Apple\n",
      "3 Strayberry\n"
     ]
    }
   ],
   "source": [
    "fruits=[\"Mango\",\"Pine\",\"Apple\",\"Strayberry\"]\n",
    "def printWithIndex():\n",
    "    for i in fruits:\n",
    "        print(fruits.index(i),i)\n",
    "def pythonicPrint():\n",
    "    for i,j in enumerate(fruits):\n",
    "        print(i,j)\n",
    "printWithIndex()\n",
    "pythonicPrint()"
   ]
  },
  {
   "cell_type": "code",
   "execution_count": 25,
   "metadata": {},
   "outputs": [
    {
     "name": "stdout",
     "output_type": "stream",
     "text": [
      "6\n"
     ]
    }
   ],
   "source": [
    "def add(a,b):\n",
    "    return a+b\n",
    "def mul(a,b,x):\n",
    "    c=x(a,b)\n",
    "    return c*b\n",
    "fun=add\n",
    "print(mul(1,2,fun))"
   ]
  },
  {
   "cell_type": "code",
   "execution_count": 24,
   "metadata": {},
   "outputs": [
    {
     "name": "stdout",
     "output_type": "stream",
     "text": [
      "Calculation Doen, result is her: 3\n",
      "Answer is: 3\n",
      "3\n"
     ]
    }
   ],
   "source": [
    "def printMe(a):\n",
    "    print(\"Calculation Doen, result is her:\",a)\n",
    "def printDiff(a):\n",
    "    print(\"Answer is:\",a)\n",
    "def add(a,b,x):\n",
    "    result=a+b\n",
    "    x(result)\n",
    "add(1,2,printMe)\n",
    "add(1,2,printDiff)\n",
    "add(1,2,print)"
   ]
  },
  {
   "cell_type": "code",
   "execution_count": 27,
   "metadata": {},
   "outputs": [
    {
     "data": {
      "text/plain": [
       "3"
      ]
     },
     "execution_count": 27,
     "metadata": {},
     "output_type": "execute_result"
    }
   ],
   "source": [
    "sum=lambda x,y:x+y\n",
    "sum(1,2)"
   ]
  },
  {
   "cell_type": "code",
   "execution_count": 36,
   "metadata": {},
   "outputs": [
    {
     "data": {
      "text/plain": [
       "[2, 4, 6, 8, 10]"
      ]
     },
     "execution_count": 36,
     "metadata": {},
     "output_type": "execute_result"
    }
   ],
   "source": [
    "def mapping(array,operator,num):\n",
    "    for i in array:\n",
    "        if operator==\"+\":\n",
    "            b.append(i+num)\n",
    "        elif operator==\"-\":\n",
    "            b.append(i-num)\n",
    "        elif operator==\"*\":\n",
    "            b.append(i*num)\n",
    "        elif operator==\"/\":\n",
    "            b.append(i/num)\n",
    "a=[1,2,3,4,5]\n",
    "b=list()\n",
    "mapping(a,\"*\",2)\n",
    "b"
   ]
  },
  {
   "cell_type": "code",
   "execution_count": 37,
   "metadata": {},
   "outputs": [
    {
     "data": {
      "text/plain": [
       "[6, 7, 8, 9, 10]"
      ]
     },
     "execution_count": 37,
     "metadata": {},
     "output_type": "execute_result"
    }
   ],
   "source": [
    "array=[1,2,3,4,5]\n",
    "def add5(x):\n",
    "    return x+5\n",
    "list(map(add5,array))"
   ]
  },
  {
   "cell_type": "code",
   "execution_count": 39,
   "metadata": {},
   "outputs": [
    {
     "data": {
      "text/plain": [
       "[6, 7, 8, 9, 10]"
      ]
     },
     "execution_count": 39,
     "metadata": {},
     "output_type": "execute_result"
    }
   ],
   "source": [
    "array=[1,2,3,4,5]\n",
    "list(map(lambda x:x+5,array))"
   ]
  },
  {
   "cell_type": "code",
   "execution_count": 40,
   "metadata": {},
   "outputs": [
    {
     "data": {
      "text/plain": [
       "[2, 4, 6, 8, 10]"
      ]
     },
     "execution_count": 40,
     "metadata": {},
     "output_type": "execute_result"
    }
   ],
   "source": [
    "array=[1,2,3,4,5]\n",
    "[i*2 for i in array]"
   ]
  },
  {
   "cell_type": "code",
   "execution_count": 41,
   "metadata": {},
   "outputs": [
    {
     "data": {
      "text/plain": [
       "[8, 10]"
      ]
     },
     "execution_count": 41,
     "metadata": {},
     "output_type": "execute_result"
    }
   ],
   "source": [
    "array=[1,2,3,4,5]\n",
    "[i*2 for i in array if i>3]"
   ]
  },
  {
   "cell_type": "code",
   "execution_count": 46,
   "metadata": {},
   "outputs": [
    {
     "data": {
      "text/plain": [
       "[8, 10]"
      ]
     },
     "execution_count": 46,
     "metadata": {},
     "output_type": "execute_result"
    }
   ],
   "source": [
    "array=[1,2,3,4,5]\n",
    "[i*2 for i in array if i>3]"
   ]
  },
  {
   "cell_type": "code",
   "execution_count": 49,
   "metadata": {},
   "outputs": [
    {
     "data": {
      "text/plain": [
       "[4, 5]"
      ]
     },
     "execution_count": 49,
     "metadata": {},
     "output_type": "execute_result"
    }
   ],
   "source": [
    "array=[1,2,3,4,5]\n",
    "list(filter(lambda x:x>3,array))"
   ]
  },
  {
   "cell_type": "code",
   "execution_count": 50,
   "metadata": {},
   "outputs": [
    {
     "data": {
      "text/plain": [
       "[1, 2, 3, 8, 10]"
      ]
     },
     "execution_count": 50,
     "metadata": {},
     "output_type": "execute_result"
    }
   ],
   "source": [
    "array=[1,2,3,4,5]\n",
    "[i*2 if i>3 else i for i in array]"
   ]
  },
  {
   "cell_type": "code",
   "execution_count": 57,
   "metadata": {},
   "outputs": [
    {
     "data": {
      "text/plain": [
       "10"
      ]
     },
     "execution_count": 57,
     "metadata": {},
     "output_type": "execute_result"
    }
   ],
   "source": [
    "from functools import reduce\n",
    "a=[1,2,3,4]\n",
    "reduce(lambda x,y:x+y,a)"
   ]
  },
  {
   "cell_type": "code",
   "execution_count": null,
   "metadata": {},
   "outputs": [],
   "source": []
  }
 ],
 "metadata": {
  "kernelspec": {
   "display_name": "Python 3",
   "language": "python",
   "name": "python3"
  },
  "language_info": {
   "codemirror_mode": {
    "name": "ipython",
    "version": 3
   },
   "file_extension": ".py",
   "mimetype": "text/x-python",
   "name": "python",
   "nbconvert_exporter": "python",
   "pygments_lexer": "ipython3",
   "version": "3.6.5"
  }
 },
 "nbformat": 4,
 "nbformat_minor": 2
}
