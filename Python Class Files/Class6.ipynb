{
 "cells": [
  {
   "cell_type": "code",
   "execution_count": 93,
   "metadata": {},
   "outputs": [
    {
     "name": "stdout",
     "output_type": "stream",
     "text": [
      "{srini - 1, srini - 2}\n"
     ]
    }
   ],
   "source": [
    "class Employee:\n",
    "    def __init__(self,name,salary,age):\n",
    "        self.Name = name\n",
    "        self.Salary = salary\n",
    "        self.Age=age\n",
    "    def __hash__(self):\n",
    "        return hash(self.Name+str(self.Salary)+str(self.Age))\n",
    "    def __eq__(self,other):\n",
    "        return self.Name == other.Name and self.Salary == other.Salary and self.Age == other.Age\n",
    "    def __repr__(self):\n",
    "        return self.Name+\" - \"+str(self.Salary)\n",
    "emp1=Employee(\"srini\",1,2)\n",
    "emp2=Employee(\"srini\",1,2)\n",
    "emp3=Employee(\"srini\",2,1)\n",
    "obj1={emp1,emp2,emp3}\n",
    "#{print(i.Name) for i in obj1}\n",
    "print(obj1)"
   ]
  },
  {
   "cell_type": "code",
   "execution_count": 42,
   "metadata": {},
   "outputs": [
    {
     "name": "stdout",
     "output_type": "stream",
     "text": [
      "['MANGO', 'Orange']\n"
     ]
    }
   ],
   "source": [
    "array=[\"MANGO\",\"Orange\",\"grape\",\"lemon\",\"ginger\"]\n",
    "def oddValue(a):\n",
    "    upper,lower=[],[]\n",
    "    [upper.append(i) if i[0].isupper() else lower.append(i) for i in a ]\n",
    "    print(upper if len(upper)<len(lower) else lower if len(upper)>len(lower) else a)\n",
    "oddValue(array)"
   ]
  },
  {
   "cell_type": "code",
   "execution_count": 68,
   "metadata": {},
   "outputs": [
    {
     "name": "stdout",
     "output_type": "stream",
     "text": [
      "true\n"
     ]
    }
   ],
   "source": [
    "a=\"MADAM\"\n",
    "length=len(a)\n",
    "def palindrom(x):\n",
    "    count=0\n",
    "    for i in range(length):\n",
    "        if a[i]==a[length-1-i]:\n",
    "            count+=1\n",
    "    print(\"true\" if count == length else \"false\")\n",
    "palindrom(a)"
   ]
  },
  {
   "cell_type": "code",
   "execution_count": 70,
   "metadata": {},
   "outputs": [
    {
     "name": "stdout",
     "output_type": "stream",
     "text": [
      "['M', 'A']\n"
     ]
    }
   ],
   "source": [
    "a=\"MADAM\"\n",
    "length=len(a)\n",
    "def palindrom(x):\n",
    "    y=[a[i] for i in range(length) if a[i]==a[length-1-i]]\n",
    "    print(\"true\" if length==len(y) else \"false\")\n",
    "palindrom(a)"
   ]
  },
  {
   "cell_type": "code",
   "execution_count": 76,
   "metadata": {},
   "outputs": [
    {
     "name": "stdout",
     "output_type": "stream",
     "text": [
      "true\n"
     ]
    }
   ],
   "source": [
    "a=\"MADAM\"\n",
    "length=len(a)\n",
    "iterateLenght = int(length/2)\n",
    "def palindrom(x):\n",
    "    y=[a[i] for i in range(iterateLenght) if a[i]==a[length-1-i]]\n",
    "    print(\"true\" if iterateLenght==len(y) else \"false\")\n",
    "palindrom(a)"
   ]
  },
  {
   "cell_type": "code",
   "execution_count": 77,
   "metadata": {},
   "outputs": [
    {
     "name": "stdout",
     "output_type": "stream",
     "text": [
      "true\n"
     ]
    }
   ],
   "source": [
    "a=\"MADAM\"\n",
    "def palindrom(x):\n",
    "    print(\"true\" if a==a[::-1] else \"false\")\n",
    "palindrom(a)"
   ]
  },
  {
   "cell_type": "code",
   "execution_count": 117,
   "metadata": {},
   "outputs": [],
   "source": [
    "class Polygon:\n",
    "    def __init__(self,no_of_sides):\n",
    "        self.n=no_of_sides\n",
    "        self.side=[0 for i in range(no_of_sides)]\n",
    "    def inputSides(self):\n",
    "        self.sides=[float(input(\"Enter side \"+str(i+1)+\" : \")) for i in range(self.n)]\n",
    "    def disSides(self):\n",
    "        for i in range(self.n):\n",
    "            print(\"Side\",i+1,\"is\",self.sides[i])\n",
    "    def findArea(self):\n",
    "        print(\"I am trying to find area,buut i forgot the formula\")"
   ]
  },
  {
   "cell_type": "code",
   "execution_count": 118,
   "metadata": {},
   "outputs": [],
   "source": [
    "class Triangle(Polygon):\n",
    "    def __init__(self):\n",
    "        Polygon.__init__(self,3)\n",
    "    def findArea(self):\n",
    "        super().findArea()\n",
    "        a,b,c=self.sides\n",
    "        s=(a+b+c)/2\n",
    "        area=(s*(s-a)*(s-b)*(s-c))**0.5\n",
    "        print('The area of the triangle is %0.2f'%area)"
   ]
  },
  {
   "cell_type": "code",
   "execution_count": 119,
   "metadata": {},
   "outputs": [
    {
     "name": "stdout",
     "output_type": "stream",
     "text": [
      "Enter side 1 : 2\n",
      "Enter side 2 : 3\n",
      "Enter side 3 : 4\n"
     ]
    }
   ],
   "source": [
    "triObj = Triangle()\n",
    "triObj.inputSides()"
   ]
  },
  {
   "cell_type": "code",
   "execution_count": 120,
   "metadata": {},
   "outputs": [
    {
     "name": "stdout",
     "output_type": "stream",
     "text": [
      "Side 1 is 2.0\n",
      "Side 2 is 3.0\n",
      "Side 3 is 4.0\n"
     ]
    }
   ],
   "source": [
    "triObj.disSides()"
   ]
  },
  {
   "cell_type": "code",
   "execution_count": 121,
   "metadata": {},
   "outputs": [
    {
     "name": "stdout",
     "output_type": "stream",
     "text": [
      "I am trying to find area,buut i forgot the formula\n",
      "The area of the triangle is 2.90\n"
     ]
    }
   ],
   "source": [
    "triObj.findArea()"
   ]
  },
  {
   "cell_type": "code",
   "execution_count": 125,
   "metadata": {},
   "outputs": [],
   "source": [
    "class Employee:\n",
    "    def __init__(self,name,salary,age):\n",
    "        self.Name = name\n",
    "        self.Salary = salary\n",
    "        self.Age=age\n",
    "    def workFunction(self):\n",
    "        print(\"I am employee : \", self.Name)"
   ]
  },
  {
   "cell_type": "code",
   "execution_count": 128,
   "metadata": {},
   "outputs": [],
   "source": [
    "class Manager(Employee):\n",
    "    def __init__(self):\n",
    "        Employee.__init__(self,\"Srini\",25000,25)\n",
    "    def workFunction(self):\n",
    "        print(\"I am manager : \", self.Name)"
   ]
  },
  {
   "cell_type": "code",
   "execution_count": 130,
   "metadata": {},
   "outputs": [
    {
     "name": "stdout",
     "output_type": "stream",
     "text": [
      "I am manager :  Srini\n"
     ]
    }
   ],
   "source": [
    "mgr=Manager()\n",
    "mgr.workFunction()"
   ]
  },
  {
   "cell_type": "code",
   "execution_count": null,
   "metadata": {},
   "outputs": [],
   "source": [
    "def findAreaofPolygon(obj):\n",
    "    return x.findArea()\n",
    "findAreaofPolygon()"
   ]
  }
 ],
 "metadata": {
  "kernelspec": {
   "display_name": "Python 3",
   "language": "python",
   "name": "python3"
  },
  "language_info": {
   "codemirror_mode": {
    "name": "ipython",
    "version": 3
   },
   "file_extension": ".py",
   "mimetype": "text/x-python",
   "name": "python",
   "nbconvert_exporter": "python",
   "pygments_lexer": "ipython3",
   "version": "3.6.5"
  }
 },
 "nbformat": 4,
 "nbformat_minor": 2
}
