{
 "cells": [
  {
   "cell_type": "code",
   "execution_count": 122,
   "metadata": {},
   "outputs": [],
   "source": [
    "import re\n",
    "#Inspired by these tutorial, I have modified the codes and comments \n",
    "#to make it easy for our Batch to test and understand\n",
    "\n",
    "#References: \n",
    "#https://developers.google.com/edu/python/regular-expressions\n",
    "#https://www.python-course.eu/re.php\n",
    "#https://www.datacamp.com/community/tutorials/python-regular-expression-tutorial"
   ]
  },
  {
   "cell_type": "code",
   "execution_count": null,
   "metadata": {},
   "outputs": [],
   "source": [
    "#re.search\n",
    "#matched = re.search(pat, str)\n",
    "'''The re.search() method takes a regular expression pattern \n",
    "and a string and searches for that pattern within the string. \n",
    "If the search is successful, search() returns a match object \n",
    "or None otherwise. Therefore, the search is usually immediately \n",
    "followed by an if-statement to test if the search succeeded, \n",
    "as shown in the following example which searches for the pattern 'word:' \n",
    "followed by a 3 letter word (details below):'''"
   ]
  },
  {
   "cell_type": "code",
   "execution_count": 100,
   "metadata": {},
   "outputs": [
    {
     "name": "stdout",
     "output_type": "stream",
     "text": [
      "found word:cat\n"
     ]
    }
   ],
   "source": [
    "#matched = re.search(pat, str)\n",
    "str = 'an example word:cat!!'\n",
    "match = re.search(r'word:\\w\\w\\w', str)\n",
    "#print(match.groupdict())\n",
    "\n",
    "# If-statement after search() tests if it succeeded\n",
    "if match:\n",
    "    print ('found', match.group()) ## 'found word:cat'\n",
    "else:\n",
    "    print ('did not find')\n",
    "    \n",
    "#Note:The 'r' at the start of the pattern string designates a \n",
    "#python \"raw\" string which passes through backslashes without change \n",
    "#which is very handy for regular expressions \n",
    "#(Java needs this feature badly!)."
   ]
  },
  {
   "cell_type": "code",
   "execution_count": 101,
   "metadata": {},
   "outputs": [],
   "source": [
    "def doSearch(pat, word,no=\"TEST Default\"):\n",
    "    match = re.search(pat,word)\n",
    "    if match:\n",
    "        print(no , ':','Found match - ', match.group()) \n",
    "    else:\n",
    "        print(no, ':', 'Did not find')"
   ]
  },
  {
   "cell_type": "code",
   "execution_count": 104,
   "metadata": {},
   "outputs": [],
   "source": [
    "#Joke: what do you call a pig with three eyes? \n",
    "#piiig!"
   ]
  },
  {
   "cell_type": "code",
   "execution_count": 102,
   "metadata": {},
   "outputs": [
    {
     "name": "stdout",
     "output_type": "stream",
     "text": [
      "Test 1 : Found match -  iii\n",
      "Test 2 : Did not find\n",
      "Test 3 : Found match -  iig\n",
      "Test 4 : Found match -  123\n",
      "Test 5 : Found match -  abc\n"
     ]
    }
   ],
   "source": [
    "## Search for pattern 'iii' in string 'piiig'.\n",
    "## All of the pattern must match, but it may appear anywhere.\n",
    "## On success, match.group() is matched text.\n",
    "doSearch(r'iii','piiig',\"Test 1\")\n",
    "doSearch(r'igs', 'piiig',\"Test 2\")\n",
    "\n",
    "## . = any char but \\n\n",
    "doSearch(r'..g', 'piigiig',\"Test 3\")\n",
    "\n",
    "## \\d = digit char\n",
    "doSearch(r'\\d\\d\\d', 'p123g', \"Test 4\")\n",
    "## \\w = word char\n",
    "doSearch(r'\\w\\w\\w', '@@abcd!!', \"Test 5\")"
   ]
  },
  {
   "cell_type": "code",
   "execution_count": 129,
   "metadata": {},
   "outputs": [
    {
     "name": "stdout",
     "output_type": "stream",
     "text": [
      "Test - 1 : Found match -  piii\n",
      "Test - 2 : Found match -  ii\n",
      "Cooookie\n",
      "0987654321\n"
     ]
    }
   ],
   "source": [
    "## i+ = one or more i's, as many as possible.\n",
    "doSearch(r'pi+', 'piiig',\"Test - 1\")\n",
    "\n",
    "## Finds the first/leftmost solution, and within it drives the +\n",
    "## as far as possible (aka 'leftmost and largest').\n",
    "## In this example, note that it does not get to the second set of i's.\n",
    "doSearch(r'i+', 'piigiiii', \"Test - 2\") \n",
    "#=>  found, match.group() == \"ii\"\n",
    "\n",
    "print(re.search(r'Co+kie', 'Cooookie').group())"
   ]
  },
  {
   "cell_type": "code",
   "execution_count": 130,
   "metadata": {},
   "outputs": [
    {
     "name": "stdout",
     "output_type": "stream",
     "text": [
      "0987654321\n"
     ]
    }
   ],
   "source": [
    "#For example, checking the validity of a phone number in an application. \n",
    "#re module handles this very gracefully as well using the following regular expressions:\n",
    "\n",
    "#{x} - Repeat exactly x number of times.\n",
    "#{x,} - Repeat at least x times or more.\n",
    "#{x, y} - Repeat at least x times but no more than y times.\n",
    "print(re.search(r'\\d{9,10}', '0987654321').group())"
   ]
  },
  {
   "cell_type": "code",
   "execution_count": 125,
   "metadata": {},
   "outputs": [
    {
     "name": "stdout",
     "output_type": "stream",
     "text": [
      "TEST Default : Found match -  foobar\n",
      "TEST Default : Did not find\n",
      "TEST Default : Found match -  bar\n"
     ]
    }
   ],
   "source": [
    "## ^ = matches the start of string:\n",
    "doSearch(r'^f\\w+', 'foobar') \n",
    "#=>  found, match.group() == foobar\n",
    "\n",
    "## ^ = matches the start of string: so this fails\n",
    "doSearch(r'^b\\w+', 'foobar') \n",
    "#=>  found, match == none\n",
    "\n",
    "## but without the ^ it succeeds:\n",
    "doSearch(r'b\\w+', 'foobar') \n",
    "#=>  found, match.group() == \"bar\""
   ]
  },
  {
   "cell_type": "code",
   "execution_count": 123,
   "metadata": {},
   "outputs": [
    {
     "name": "stdout",
     "output_type": "stream",
     "text": [
      "TEST Default : Found match -  1 2   3\n",
      "TEST Default : Found match -  12  3\n",
      "TEST Default : Found match -  123\n"
     ]
    }
   ],
   "source": [
    "## \\s* = zero or more whitespace chars\n",
    "## Here look for 3 digits, possibly separated by whitespace.\n",
    "doSearch(r'\\d\\s*\\d\\s*\\d', 'xx1 2   3xx') \n",
    "#=>  found, match.group() == \"1 2   3\"\n",
    "doSearch(r'\\d\\s*\\d\\s*\\d', 'xx12  3xx') \n",
    "#=>  found, match.group() == \"12  3\"\n",
    "doSearch(r'\\d\\s*\\d\\s*\\d', 'xx123xx') \n",
    "#=>  found, match.group() == \"123\""
   ]
  },
  {
   "cell_type": "code",
   "execution_count": 116,
   "metadata": {},
   "outputs": [
    {
     "name": "stdout",
     "output_type": "stream",
     "text": [
      "b@google\n"
     ]
    }
   ],
   "source": [
    "#Email address validation\n",
    "str = 'purple alice-b@google.com monkey dishwasher'\n",
    "match = re.search(r'\\w+@\\w+', str)\n",
    "if match:\n",
    "    print (match.group())  ## 'b@google'"
   ]
  },
  {
   "cell_type": "code",
   "execution_count": 119,
   "metadata": {},
   "outputs": [
    {
     "name": "stdout",
     "output_type": "stream",
     "text": [
      "alice-b@google.com\n"
     ]
    }
   ],
   "source": [
    "#Square Brackets\n",
    "'''Square brackets can be used to indicate a set of chars, \n",
    "so [abc] matches 'a' or 'b' or 'c'. \n",
    "The codes \\w, \\s etc. work inside square brackets too with the one exception that dot (.) \n",
    "just means a literal dot. For the emails problem, \n",
    "the square brackets are an easy way to add '.' and '-' to the set of chars which can appear \n",
    "around the @ with the pattern r'[\\w.-]+@[\\w.-]+' to get the whole email address:'''\n",
    "\n",
    "match = re.search(r'[\\w.-]+@[\\w.-]+', str)\n",
    "if match:\n",
    "    print (match.group())  ## 'alice-b@google.com\n"
   ]
  },
  {
   "cell_type": "code",
   "execution_count": 121,
   "metadata": {},
   "outputs": [
    {
     "name": "stdout",
     "output_type": "stream",
     "text": [
      "alice-b@google.com\n",
      "alice-b\n",
      "google.com\n"
     ]
    }
   ],
   "source": [
    "#The \"group\" feature of a regular expression allows you to pick out parts of the matching text. \n",
    "#Suppose for the emails problem that we want to extract the username and host separately. \n",
    "#To do this, add parenthesis ( ) around the username and host in the pattern, like this: r'([\\w.-]+)@([\\w.-]+)'. \n",
    "str = 'purple alice-b@google.com monkey dishwasher'\n",
    "match = re.search(r'([\\w.-]+)@([\\w.-]+)', str)\n",
    "if match:\n",
    "    print (match.group())   ## 'alice-b@google.com' (the whole match)\n",
    "    print (match.group(1))  ## 'alice-b' (the username, group 1)\n",
    "    print (match.group(2)) ## 'google.com' (the host, group 2)"
   ]
  },
  {
   "cell_type": "code",
   "execution_count": 131,
   "metadata": {},
   "outputs": [
    {
     "ename": "ModuleNotFoundError",
     "evalue": "No module named 'venev'",
     "output_type": "error",
     "traceback": [
      "\u001b[0;31m---------------------------------------------------------------------------\u001b[0m",
      "\u001b[0;31mModuleNotFoundError\u001b[0m                       Traceback (most recent call last)",
      "\u001b[0;32m<ipython-input-131-8a20d60255e0>\u001b[0m in \u001b[0;36m<module>\u001b[0;34m()\u001b[0m\n\u001b[0;32m----> 1\u001b[0;31m \u001b[0;32mimport\u001b[0m \u001b[0mvenev\u001b[0m\u001b[0;34m\u001b[0m\u001b[0m\n\u001b[0m",
      "\u001b[0;31mModuleNotFoundError\u001b[0m: No module named 'venev'"
     ]
    }
   ],
   "source": []
  },
  {
   "cell_type": "code",
   "execution_count": null,
   "metadata": {},
   "outputs": [],
   "source": []
  }
 ],
 "metadata": {
  "kernelspec": {
   "display_name": "Python 3",
   "language": "python",
   "name": "python3"
  },
  "language_info": {
   "codemirror_mode": {
    "name": "ipython",
    "version": 3
   },
   "file_extension": ".py",
   "mimetype": "text/x-python",
   "name": "python",
   "nbconvert_exporter": "python",
   "pygments_lexer": "ipython3",
   "version": "3.6.4"
  }
 },
 "nbformat": 4,
 "nbformat_minor": 2
}
