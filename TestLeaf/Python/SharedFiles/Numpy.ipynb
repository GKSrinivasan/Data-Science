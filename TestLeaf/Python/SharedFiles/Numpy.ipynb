{
 "cells": [
  {
   "cell_type": "code",
   "execution_count": 3,
   "metadata": {},
   "outputs": [],
   "source": [
    "import numpy as np\n",
    "a1 = np.array([1, 2, 3, 4, 5]) "
   ]
  },
  {
   "cell_type": "code",
   "execution_count": 5,
   "metadata": {},
   "outputs": [
    {
     "data": {
      "text/plain": [
       "numpy.ndarray"
      ]
     },
     "execution_count": 5,
     "metadata": {},
     "output_type": "execute_result"
    }
   ],
   "source": [
    "type(a1)"
   ]
  },
  {
   "cell_type": "code",
   "execution_count": 20,
   "metadata": {},
   "outputs": [
    {
     "name": "stdout",
     "output_type": "stream",
     "text": [
      "[ 0  1  2  3  4  5  6  7  8  9 10 11 12 13 14]\n",
      "(15,)\n"
     ]
    }
   ],
   "source": [
    "a = np.arange(15)\n",
    "print(a)\n",
    "print(a.shape)\n"
   ]
  },
  {
   "cell_type": "code",
   "execution_count": 21,
   "metadata": {},
   "outputs": [
    {
     "name": "stdout",
     "output_type": "stream",
     "text": [
      "[[ 0  1  2  3  4]\n",
      " [ 5  6  7  8  9]\n",
      " [10 11 12 13 14]]\n",
      "(3, 5)\n"
     ]
    }
   ],
   "source": [
    "a1 = np.arange(15).reshape(3, 5)\n",
    "print(a1)\n",
    "print(a1.shape)"
   ]
  },
  {
   "cell_type": "code",
   "execution_count": 26,
   "metadata": {},
   "outputs": [
    {
     "name": "stdout",
     "output_type": "stream",
     "text": [
      "[[0 1]\n",
      " [2 3]\n",
      " [4 5]\n",
      " [6 7]\n",
      " [8 9]]\n",
      "[0 1 2 3 4 5 6 7 8 9]\n"
     ]
    }
   ],
   "source": [
    "a2 = np.arange(10).reshape(5,2)\n",
    "print(a2)\n",
    "#flatten \n",
    "print(a2.flatten())"
   ]
  },
  {
   "cell_type": "code",
   "execution_count": 29,
   "metadata": {},
   "outputs": [
    {
     "name": "stdout",
     "output_type": "stream",
     "text": [
      "Horizontal Append: [1 2 3 4 5 6]\n",
      "Vertical Append: [[1 2 3]\n",
      " [4 5 6]]\n"
     ]
    }
   ],
   "source": [
    "## Stack\n",
    "f = np.array([1,2,3])\n",
    "g = np.array([4,5,6])\n",
    "\n",
    "print('Horizontal Append:', np.hstack((f, g)))\n",
    "print('Vertical Append:', np.vstack((f, g)))"
   ]
  },
  {
   "cell_type": "code",
   "execution_count": 71,
   "metadata": {},
   "outputs": [
    {
     "name": "stdout",
     "output_type": "stream",
     "text": [
      "[[ 1  2  3  4]\n",
      " [ 5  6  7  8]\n",
      " [ 9 10 11 12]]\n",
      "First row: [1 2 3 4]\n",
      "Second row: [5 6 7 8]\n"
     ]
    }
   ],
   "source": [
    "## Slice\n",
    "e  = np.array([(1,2,3,4), (5,6,7,8), (9,10,11,12)])\n",
    "print(e)\n",
    "## First column\n",
    "print('First row:', e[0])\n",
    "\n",
    "## Second col\n",
    "print('Second row:', e[1])"
   ]
  },
  {
   "cell_type": "code",
   "execution_count": 72,
   "metadata": {},
   "outputs": [
    {
     "name": "stdout",
     "output_type": "stream",
     "text": [
      "Second column: [ 2  6 10]\n",
      "[5 6]\n",
      "Entire table  [[ 1  2  3  4]\n",
      " [ 5  6  7  8]\n",
      " [ 9 10 11 12]]\n",
      "Accessing Rowise [10 11 12]\n",
      "[[1]\n",
      " [5]]\n"
     ]
    }
   ],
   "source": [
    "#In Python, like many other languages,\n",
    "\n",
    "#The values before the comma stand for the rows\n",
    "#The value on the rights stands for the columns.\n",
    "#If you want to select a column, you need to add : before the column index.\n",
    "#: means you want all the rows from the selected column.\n",
    "\n",
    "print('Second column:', e[:,1])\n",
    "print(e[1, :2])\n",
    "print (\"Entire table \" , e[:,:])\n",
    "# Accessing 2nd row with column 1 till end\n",
    "print (\"Accessing Rowise\", e[2,1:])\n",
    "print(e[0:2,0:1])"
   ]
  },
  {
   "cell_type": "code",
   "execution_count": 53,
   "metadata": {},
   "outputs": [
    {
     "name": "stdout",
     "output_type": "stream",
     "text": [
      "10\n",
      "200\n",
      "76.0\n",
      "50.0\n",
      "69.45502141674135\n"
     ]
    }
   ],
   "source": [
    "normal_array = [10,20,50,100,200]\n",
    "\n",
    "## Statistical function\n",
    "### Min \n",
    "print(np.min(normal_array))\n",
    "\n",
    "### Max \n",
    "print(np.max(normal_array))\n",
    "### Mean \n",
    "print(np.mean(normal_array))\n",
    "### Median\n",
    "print(np.median(normal_array))\n",
    "### Sd\n",
    "print(np.std(normal_array))"
   ]
  },
  {
   "cell_type": "code",
   "execution_count": 58,
   "metadata": {},
   "outputs": [
    {
     "name": "stdout",
     "output_type": "stream",
     "text": [
      "3.48751163482666\n"
     ]
    }
   ],
   "source": [
    "from numpy import *  \n",
    "import time\n",
    "def trad_version():\n",
    "    t1 = time.time()\n",
    "    X = range (10000000)\n",
    "    Y = range (10000000)\n",
    "    Z = []\n",
    "    for i in range(len(X)):\n",
    "        Z.append(X[i] + Y[i]) \n",
    "    return time.time() - t1\n",
    "print(trad_version())"
   ]
  },
  {
   "cell_type": "code",
   "execution_count": 59,
   "metadata": {},
   "outputs": [
    {
     "name": "stdout",
     "output_type": "stream",
     "text": [
      "0.11584782600402832\n"
     ]
    }
   ],
   "source": [
    "def numpy_version(): \n",
    "    t1 = time.time()\n",
    "    X = arange (10000000)\n",
    "    Y = arange (10000000)\n",
    "    Z=X+Y\n",
    "    return time.time() - t1\n",
    "print(numpy_version())"
   ]
  },
  {
   "cell_type": "code",
   "execution_count": 63,
   "metadata": {},
   "outputs": [
    {
     "name": "stdout",
     "output_type": "stream",
     "text": [
      "[[0 1 2]\n",
      " [3 4 5]\n",
      " [6 7 8]]\n"
     ]
    }
   ],
   "source": [
    "numpArray = arange(9).reshape(3,3)\n",
    "print (numpArray)"
   ]
  },
  {
   "cell_type": "code",
   "execution_count": 66,
   "metadata": {},
   "outputs": [
    {
     "name": "stdout",
     "output_type": "stream",
     "text": [
      "[[ 0.   4.5  9. ]\n",
      " [13.5 18.  22.5]\n",
      " [27.  31.5 36. ]]\n"
     ]
    }
   ],
   "source": [
    "farenheit_converted = numpArray *9 /2\n",
    "print(farenheit_converted)"
   ]
  },
  {
   "cell_type": "code",
   "execution_count": null,
   "metadata": {},
   "outputs": [],
   "source": []
  }
 ],
 "metadata": {
  "kernelspec": {
   "display_name": "Python 3",
   "language": "python",
   "name": "python3"
  },
  "language_info": {
   "codemirror_mode": {
    "name": "ipython",
    "version": 3
   },
   "file_extension": ".py",
   "mimetype": "text/x-python",
   "name": "python",
   "nbconvert_exporter": "python",
   "pygments_lexer": "ipython3",
   "version": "3.6.4"
  }
 },
 "nbformat": 4,
 "nbformat_minor": 2
}
