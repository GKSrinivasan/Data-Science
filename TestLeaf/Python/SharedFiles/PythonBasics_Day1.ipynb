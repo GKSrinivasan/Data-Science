{
 "cells": [
  {
   "cell_type": "markdown",
   "metadata": {},
   "source": [
    "Types of python to run\n",
    "\n",
    "1. Immediate mode - cmd- python\n",
    "2. Script mode - python file.py\n",
    "3. IDE - Integrated Developement environment- spyder, pycharm, jupyter notebook"
   ]
  },
  {
   "cell_type": "code",
   "execution_count": 8,
   "metadata": {},
   "outputs": [
    {
     "data": {
      "text/plain": [
       "' Multiple line comment '"
      ]
     },
     "execution_count": 8,
     "metadata": {},
     "output_type": "execute_result"
    }
   ],
   "source": [
    "#single line Comment\n",
    "\n",
    "\"\"\" Multiple line comment \"\"\"\n",
    "#print(\"Hi\")\n"
   ]
  },
  {
   "cell_type": "code",
   "execution_count": 11,
   "metadata": {},
   "outputs": [
    {
     "ename": "SyntaxError",
     "evalue": "invalid syntax (<ipython-input-11-add8f96670bc>, line 19)",
     "output_type": "error",
     "traceback": [
      "\u001b[0;36m  File \u001b[0;32m\"<ipython-input-11-add8f96670bc>\"\u001b[0;36m, line \u001b[0;32m19\u001b[0m\n\u001b[0;31m    a$ = 7\u001b[0m\n\u001b[0m     ^\u001b[0m\n\u001b[0;31mSyntaxError\u001b[0m\u001b[0;31m:\u001b[0m invalid syntax\n"
     ]
    }
   ],
   "source": [
    "#Keywords\n",
    "\n",
    "#break = 2\n",
    "\n",
    "#Identifiers\n",
    "\n",
    "#Identifier is a name given to entities like class, functions, variables\n",
    "a = 4\n",
    "\n",
    "a1 = 34\n",
    "\n",
    "# 1. can be in alphabet with range of a to z\n",
    "# 2. can be in range of A to Z\n",
    "# 3. should not start with digits\n",
    "# 4. should not be keywords\n",
    "# 5. cannot use special symbols !,@,#,$,%\n",
    "#global = 5 \n",
    "\n",
    "#a$ = 7"
   ]
  },
  {
   "cell_type": "code",
   "execution_count": 2,
   "metadata": {},
   "outputs": [
    {
     "name": "stdout",
     "output_type": "stream",
     "text": [
      "23\n",
      "30\n",
      "54 43 42\n",
      "2 4.2 Hello\n",
      "same data same data same data\n"
     ]
    }
   ],
   "source": [
    "#Statements\n",
    "\n",
    "a = 1 #assigngment statement\n",
    "\n",
    "\n",
    "#Multiple Statement\n",
    "a = 1 + 2 +3 + 4 + \\\n",
    "    2 + 4 +\\\n",
    "    3 + 4\n",
    "    \n",
    "print(a)\n",
    "\n",
    "a = (2 + 5 + 3 + 3 +\n",
    "     2 + 5 + 6\n",
    "     + 4)\n",
    "print(a)\n",
    "\n",
    "\n",
    "#Multiple Assigngment statement\n",
    "a = 54; b = 43; c = 42;\n",
    "\n",
    "print(a,b,c)\n",
    "\n",
    "a, b, c = 2,4.2,\"Hello\"\n",
    "\n",
    "print(a,b,c)\n",
    "\n",
    "a =b = c= \"same data\"\n",
    "\n",
    "print(a,b,c)\n",
    "\n"
   ]
  },
  {
   "cell_type": "code",
   "execution_count": 6,
   "metadata": {},
   "outputs": [
    {
     "data": {
      "text/plain": [
       "float"
      ]
     },
     "execution_count": 6,
     "metadata": {},
     "output_type": "execute_result"
    }
   ],
   "source": [
    "a,b,c=2,3.4,\"ds\"\n",
    "\n",
    "c = 4.5\n",
    "type(c)\n"
   ]
  },
  {
   "cell_type": "code",
   "execution_count": 1,
   "metadata": {},
   "outputs": [
    {
     "name": "stdout",
     "output_type": "stream",
     "text": [
      "5\n",
      "6\n"
     ]
    }
   ],
   "source": [
    "# Case sensitive language\n",
    "\n",
    "data = 5\n",
    "Data = 6\n",
    "\n",
    "print(data)\n",
    "print(Data)\n",
    "\n",
    "\n"
   ]
  },
  {
   "cell_type": "code",
   "execution_count": 36,
   "metadata": {},
   "outputs": [
    {
     "name": "stdout",
     "output_type": "stream",
     "text": [
      "1\n",
      "Inside for loop\n",
      "2\n",
      "Inside for loop\n",
      "3\n",
      "Inside for loop\n",
      "4\n",
      "Inside for loop\n",
      "5\n",
      "Inside if loop\n",
      "Hi\n",
      "Hello\n",
      "34\n"
     ]
    }
   ],
   "source": [
    "#Indentation\n",
    "\n",
    "\n",
    "for i in range(1,11):\n",
    "    print(i)````````````````````````````\n",
    "    if(i==5):\n",
    "        print(\"Inside if loop\")\n",
    "        break     \n",
    "    print(\"Inside for loop\")    \n",
    "    \n",
    "if True:\n",
    "    print(\"Hi\")\n",
    "        \n",
    "\n",
    "if True: print(\"Hello\"); a =34; print(a)\n",
    "    \n",
    "        \n",
    "        "
   ]
  },
  {
   "cell_type": "code",
   "execution_count": 16,
   "metadata": {},
   "outputs": [
    {
     "name": "stdout",
     "output_type": "stream",
     "text": [
      "1\n",
      "inside for\n",
      "2\n",
      "inside for\n",
      "3\n",
      "inside for\n",
      "4\n",
      "inside for\n",
      "out of for\n"
     ]
    }
   ],
   "source": [
    "for a in range(1,5):\n",
    "    print(a)\n",
    "    print(\"inside for\")\n",
    "    if(a==4):\n",
    "        break\n",
    "print(\"out of for\")    "
   ]
  },
  {
   "cell_type": "code",
   "execution_count": 1,
   "metadata": {},
   "outputs": [
    {
     "name": "stdout",
     "output_type": "stream",
     "text": [
      "a is of type <class 'int'>\n",
      "a is of type <class 'float'>\n",
      "a is of type <class 'str'>\n",
      "a is of type <class 'complex'>\n"
     ]
    },
    {
     "data": {
      "text/plain": [
       "True"
      ]
     },
     "execution_count": 1,
     "metadata": {},
     "output_type": "execute_result"
    }
   ],
   "source": [
    "a = 5\n",
    "print(\"a is of type\", type(a))\n",
    "\n",
    "a = 4.35\n",
    "print(\"a is of type\", type(a))\n",
    "\n",
    "a = \"Hello\"\n",
    "print(\"a is of type\", type(a))\n",
    "\n",
    "a = 1+2j\n",
    "print(\"a is of type\", type(a))\n",
    "\n",
    "isinstance(\"dcfsd\",str)\n"
   ]
  },
  {
   "cell_type": "code",
   "execution_count": 14,
   "metadata": {},
   "outputs": [
    {
     "name": "stdout",
     "output_type": "stream",
     "text": [
      "1\n",
      "2\n",
      "3\n",
      "4\n",
      "5\n",
      "6\n",
      "7\n",
      "8\n",
      "9\n",
      "10\n",
      "1\n",
      "2\n",
      "3\n",
      "45\n",
      "90\n"
     ]
    }
   ],
   "source": [
    "for a in range(1,11):\n",
    "    print (a)\n",
    "ar = [1,2,3,45,90]\n",
    "for a in ar:\n",
    "    print (a)"
   ]
  },
  {
   "cell_type": "code",
   "execution_count": 15,
   "metadata": {},
   "outputs": [
    {
     "data": {
      "text/plain": [
       "45"
      ]
     },
     "execution_count": 15,
     "metadata": {},
     "output_type": "execute_result"
    }
   ],
   "source": [
    "ar[-2]"
   ]
  },
  {
   "cell_type": "code",
   "execution_count": 23,
   "metadata": {},
   "outputs": [],
   "source": [
    "test_array = [1,2,3,4,5]"
   ]
  },
  {
   "cell_type": "code",
   "execution_count": 17,
   "metadata": {},
   "outputs": [],
   "source": [
    "# Defining a function and returning a value\n",
    "def sum(a):\n",
    "    sum = 0\n",
    "    for i in a:\n",
    "        sum = sum + i\n",
    "    return sum"
   ]
  },
  {
   "cell_type": "code",
   "execution_count": 24,
   "metadata": {},
   "outputs": [
    {
     "data": {
      "text/plain": [
       "15"
      ]
     },
     "execution_count": 24,
     "metadata": {},
     "output_type": "execute_result"
    }
   ],
   "source": [
    "sum(test_array)"
   ]
  },
  {
   "cell_type": "code",
   "execution_count": 19,
   "metadata": {},
   "outputs": [],
   "source": [
    "def mul(a):\n",
    "    mul = 1\n",
    "    for i in a:\n",
    "        mul = mul * i\n",
    "    return mul"
   ]
  },
  {
   "cell_type": "code",
   "execution_count": 25,
   "metadata": {},
   "outputs": [
    {
     "data": {
      "text/plain": [
       "120"
      ]
     },
     "execution_count": 25,
     "metadata": {},
     "output_type": "execute_result"
    }
   ],
   "source": [
    "mul(test_array)"
   ]
  },
  {
   "cell_type": "code",
   "execution_count": 73,
   "metadata": {},
   "outputs": [],
   "source": [
    "# Defining a function and returning more than one value\n",
    "def sum_and_mul(a):\n",
    "    sum = 0\n",
    "    mul = 1\n",
    "    for i in a:\n",
    "        sum = sum + i\n",
    "        mul = mul * i\n",
    "    return sum, mul"
   ]
  },
  {
   "cell_type": "code",
   "execution_count": 31,
   "metadata": {},
   "outputs": [],
   "source": [
    "total_sum, total_mul = sum_and_mul(test_array)"
   ]
  },
  {
   "cell_type": "code",
   "execution_count": 32,
   "metadata": {},
   "outputs": [
    {
     "name": "stdout",
     "output_type": "stream",
     "text": [
      "Total sum :  15\n",
      "Total mul :  120\n"
     ]
    }
   ],
   "source": [
    "print (\"Total sum : \", total_sum)\n",
    "print (\"Total mul : \", total_mul)"
   ]
  },
  {
   "cell_type": "code",
   "execution_count": 56,
   "metadata": {},
   "outputs": [],
   "source": [
    "#Defining a function with default parameters\n",
    "def add(a,b,c=10):\n",
    "    return a+b+c"
   ]
  },
  {
   "cell_type": "code",
   "execution_count": 57,
   "metadata": {},
   "outputs": [
    {
     "data": {
      "text/plain": [
       "6"
      ]
     },
     "execution_count": 57,
     "metadata": {},
     "output_type": "execute_result"
    }
   ],
   "source": [
    "#calling a function with all the parameters\n",
    "add(1,2,3)"
   ]
  },
  {
   "cell_type": "code",
   "execution_count": 58,
   "metadata": {},
   "outputs": [
    {
     "data": {
      "text/plain": [
       "13"
      ]
     },
     "execution_count": 58,
     "metadata": {},
     "output_type": "execute_result"
    }
   ],
   "source": [
    "#calling a function with all non-default parameters\n",
    "add(1,2)"
   ]
  },
  {
   "cell_type": "code",
   "execution_count": 59,
   "metadata": {},
   "outputs": [
    {
     "ename": "TypeError",
     "evalue": "add() missing 1 required positional argument: 'b'",
     "output_type": "error",
     "traceback": [
      "\u001b[0;31m---------------------------------------------------------------------------\u001b[0m",
      "\u001b[0;31mTypeError\u001b[0m                                 Traceback (most recent call last)",
      "\u001b[0;32m<ipython-input-59-e997fec82b5e>\u001b[0m in \u001b[0;36m<module>\u001b[0;34m()\u001b[0m\n\u001b[1;32m      1\u001b[0m \u001b[0;31m#calling a function by missing a non default parameter\u001b[0m\u001b[0;34m\u001b[0m\u001b[0;34m\u001b[0m\u001b[0m\n\u001b[0;32m----> 2\u001b[0;31m \u001b[0madd\u001b[0m\u001b[0;34m(\u001b[0m\u001b[0;36m1\u001b[0m\u001b[0;34m)\u001b[0m\u001b[0;34m\u001b[0m\u001b[0m\n\u001b[0m",
      "\u001b[0;31mTypeError\u001b[0m: add() missing 1 required positional argument: 'b'"
     ]
    }
   ],
   "source": [
    "#calling a function by missing a non default parameter\n",
    "add(1)"
   ]
  },
  {
   "cell_type": "code",
   "execution_count": 62,
   "metadata": {},
   "outputs": [
    {
     "data": {
      "text/plain": [
       "33"
      ]
     },
     "execution_count": 62,
     "metadata": {},
     "output_type": "execute_result"
    }
   ],
   "source": [
    "#calling a function by passing args in different order\n",
    "add(b=20,a=3)"
   ]
  },
  {
   "cell_type": "code",
   "execution_count": 72,
   "metadata": {},
   "outputs": [],
   "source": [
    "#Write a function that will work as a calculator by taking in an operator \n",
    "def calculator(a,b, operator='+'):\n",
    "    if operator == '+':\n",
    "        return a+b\n",
    "    elif operator == '-':\n",
    "        return a - b\n",
    "    elif operator == '*':\n",
    "        return a*b\n",
    "    elif operator == '/':\n",
    "        return a/b"
   ]
  },
  {
   "cell_type": "code",
   "execution_count": 71,
   "metadata": {},
   "outputs": [
    {
     "name": "stdout",
     "output_type": "stream",
     "text": [
      "Add :  3\n",
      "Subtract :  5\n",
      "Subtract :  -5\n",
      "Product :  10\n",
      "Division :  2.0\n"
     ]
    }
   ],
   "source": [
    "print(\"Add : \", calculator(1,2))\n",
    "print(\"Subtract : \", calculator(10,5,'-'))\n",
    "print(\"Subtract : \", calculator(5,10,'-'))\n",
    "print(\"Product : \", calculator(5,2, '*'))\n",
    "print(\"Division : \", calculator(4,2,'/'))"
   ]
  },
  {
   "cell_type": "code",
   "execution_count": 79,
   "metadata": {},
   "outputs": [],
   "source": [
    "def helloworld_old():\n",
    "    print(\"Welcome to the TestLeaf\")"
   ]
  },
  {
   "cell_type": "code",
   "execution_count": 239,
   "metadata": {},
   "outputs": [
    {
     "name": "stdout",
     "output_type": "stream",
     "text": [
      "Welcome to the TestLeaf\n",
      "Welcome to the TestLeaf\n",
      "Welcome to the TestLeaf\n",
      "Welcome to the TestLeaf\n",
      "Welcome to the TestLeaf\n",
      "Welcome to the TestLeaf\n",
      "Welcome to the TestLeaf\n",
      "Welcome to the TestLeaf\n",
      "Welcome to the TestLeaf\n"
     ]
    }
   ],
   "source": [
    "for i in range(1,10):\n",
    "    helloworld_old()"
   ]
  },
  {
   "cell_type": "code",
   "execution_count": 77,
   "metadata": {},
   "outputs": [],
   "source": [
    "def helloworld(a):\n",
    "    print (a,\" Welcome to the TestLeaf\")"
   ]
  },
  {
   "cell_type": "code",
   "execution_count": 78,
   "metadata": {},
   "outputs": [
    {
     "name": "stdout",
     "output_type": "stream",
     "text": [
      "Basheer  Welcome to the TestLeaf\n"
     ]
    }
   ],
   "source": [
    "helloworld(\"Basheer\")"
   ]
  },
  {
   "cell_type": "code",
   "execution_count": 81,
   "metadata": {},
   "outputs": [
    {
     "ename": "TypeError",
     "evalue": "helloworld() missing 1 required positional argument: 'a'",
     "output_type": "error",
     "traceback": [
      "\u001b[0;31m---------------------------------------------------------------------------\u001b[0m",
      "\u001b[0;31mTypeError\u001b[0m                                 Traceback (most recent call last)",
      "\u001b[0;32m<ipython-input-81-4e9ae840c743>\u001b[0m in \u001b[0;36m<module>\u001b[0;34m()\u001b[0m\n\u001b[0;32m----> 1\u001b[0;31m \u001b[0mhelloworld\u001b[0m\u001b[0;34m(\u001b[0m\u001b[0;34m)\u001b[0m\u001b[0;34m\u001b[0m\u001b[0m\n\u001b[0m",
      "\u001b[0;31mTypeError\u001b[0m: helloworld() missing 1 required positional argument: 'a'"
     ]
    }
   ],
   "source": [
    "helloworld()"
   ]
  },
  {
   "cell_type": "code",
   "execution_count": 147,
   "metadata": {},
   "outputs": [
    {
     "name": "stdout",
     "output_type": "stream",
     "text": [
      "['Mango', 'Apple', 'Straberry', 'Orange']\n",
      "['Mango', 'Apple', 'Straberry', 'Orange', 'Banana']\n"
     ]
    },
    {
     "data": {
      "text/plain": [
       "['Mango', 'Straberry', 'Orange', 'Banana']"
      ]
     },
     "execution_count": 147,
     "metadata": {},
     "output_type": "execute_result"
    }
   ],
   "source": [
    "fruits = [\"Mango\", \"Apple\", \"Straberry\", \"Orange\"]\n",
    "#new_fruits = [\"Litchi\", \"Mongosteen\", \"Butterfruit\",\"Dragon Fruit\"] \n",
    "print (fruits)\n",
    "fruits.append(\"Banana\")\n",
    "print (fruits)\n",
    "fruits.pop(1)\n",
    "fruits"
   ]
  },
  {
   "cell_type": "code",
   "execution_count": 109,
   "metadata": {},
   "outputs": [
    {
     "name": "stdout",
     "output_type": "stream",
     "text": [
      "[]\n"
     ]
    },
    {
     "data": {
      "text/plain": [
       "[]"
      ]
     },
     "execution_count": 109,
     "metadata": {},
     "output_type": "execute_result"
    }
   ],
   "source": [
    "#reversing an array\n",
    "fruits.reverse()\n",
    "print (fruits)\n",
    "fruits."
   ]
  },
  {
   "cell_type": "code",
   "execution_count": 112,
   "metadata": {},
   "outputs": [
    {
     "data": {
      "text/plain": [
       "['Mango',\n",
       " 'Straberry',\n",
       " 'Orange',\n",
       " 'Banana',\n",
       " 'Litchi',\n",
       " 'Mongosteen',\n",
       " 'Butterfruit',\n",
       " 'Dragon Fruit']"
      ]
     },
     "execution_count": 112,
     "metadata": {},
     "output_type": "execute_result"
    }
   ],
   "source": [
    "#appending an array\n",
    "#fruits.reverse()\n",
    "fruits.extend(new_fruits)\n",
    "fruits"
   ]
  },
  {
   "cell_type": "code",
   "execution_count": 154,
   "metadata": {},
   "outputs": [
    {
     "data": {
      "text/plain": [
       "['Mango',\n",
       " 'Straberry',\n",
       " 'Orange',\n",
       " 'Banana',\n",
       " 'Litchi',\n",
       " 'Guava',\n",
       " 'Grapes',\n",
       " 'WaterMelon',\n",
       " 'Litchi',\n",
       " 'Guava',\n",
       " 'Grapes',\n",
       " 'WaterMelon']"
      ]
     },
     "execution_count": 154,
     "metadata": {},
     "output_type": "execute_result"
    }
   ],
   "source": [
    "fruits.extend([\"Litchi\",\"Guava\", \"Grapes\", \"WaterMelon\"])\n",
    "fruits"
   ]
  },
  {
   "cell_type": "code",
   "execution_count": 156,
   "metadata": {},
   "outputs": [
    {
     "data": {
      "text/plain": [
       "['Mango', 'Straberry']"
      ]
     },
     "execution_count": 156,
     "metadata": {},
     "output_type": "execute_result"
    }
   ],
   "source": [
    "first_three = fruits[]\n",
    "#fruits[start,stop,strip]\n",
    "first_three"
   ]
  },
  {
   "cell_type": "markdown",
   "metadata": {},
   "source": [
    "# "
   ]
  },
  {
   "cell_type": "code",
   "execution_count": 159,
   "metadata": {},
   "outputs": [],
   "source": [
    "fruits\n",
    "copy_fruits = fruits[::2]\n",
    "copy_fruits = fruits\n",
    "\n",
    "#fruits.pop(1)\n"
   ]
  },
  {
   "cell_type": "code",
   "execution_count": 160,
   "metadata": {},
   "outputs": [
    {
     "name": "stdout",
     "output_type": "stream",
     "text": [
      "['Mango', 'Orange', 'Banana', 'Litchi', 'Guava', 'Grapes', 'WaterMelon', 'Litchi', 'Guava', 'Grapes', 'WaterMelon']\n"
     ]
    },
    {
     "data": {
      "text/plain": [
       "['Mango',\n",
       " 'Orange',\n",
       " 'Banana',\n",
       " 'Litchi',\n",
       " 'Guava',\n",
       " 'Grapes',\n",
       " 'WaterMelon',\n",
       " 'Litchi',\n",
       " 'Guava',\n",
       " 'Grapes',\n",
       " 'WaterMelon']"
      ]
     },
     "execution_count": 160,
     "metadata": {},
     "output_type": "execute_result"
    }
   ],
   "source": [
    "print(fruits)\n",
    "copy_fruits"
   ]
  },
  {
   "cell_type": "code",
   "execution_count": 169,
   "metadata": {},
   "outputs": [
    {
     "name": "stdout",
     "output_type": "stream",
     "text": [
      "[2, 3, 4, 5, 6, 7, 8, 9, 10]\n"
     ]
    }
   ],
   "source": [
    "new_array = [1,2,3,4,5,6,7,8,9,10]\n",
    "print(new_array[1::1])"
   ]
  },
  {
   "cell_type": "code",
   "execution_count": 177,
   "metadata": {},
   "outputs": [],
   "source": [
    "def add(a,b,*args):\n",
    "    sum = a+b\n",
    "    for i in args:\n",
    "        sum = sum+i\n",
    "    return sum"
   ]
  },
  {
   "cell_type": "code",
   "execution_count": 179,
   "metadata": {},
   "outputs": [],
   "source": [
    "def new_add(a,b):\n",
    "    print (\"A : \", a)\n",
    "    print (\"B : \", b)\n",
    "#add(b=1,a=2,3,4,5,10,20)"
   ]
  },
  {
   "cell_type": "code",
   "execution_count": 180,
   "metadata": {},
   "outputs": [
    {
     "name": "stdout",
     "output_type": "stream",
     "text": [
      "A :  1\n",
      "B :  2\n"
     ]
    }
   ],
   "source": [
    "new_add(1,2)"
   ]
  },
  {
   "cell_type": "code",
   "execution_count": 181,
   "metadata": {},
   "outputs": [
    {
     "name": "stdout",
     "output_type": "stream",
     "text": [
      "A :  10\n",
      "B :  1\n"
     ]
    }
   ],
   "source": [
    "new_add(b=1,a=10)"
   ]
  },
  {
   "cell_type": "code",
   "execution_count": 195,
   "metadata": {},
   "outputs": [],
   "source": [
    "test_arr = [1,2,3,4,1,1,7,3,2,1]\n",
    "def custom_count(arr, count_item, count_index):\n",
    "    front = arr[:count_index].count(count_item)\n",
    "    l = len(arr)\n",
    "    end = arr[l-count_index:].count(count_item)\n",
    "    return front+end"
   ]
  },
  {
   "cell_type": "code",
   "execution_count": 196,
   "metadata": {},
   "outputs": [
    {
     "data": {
      "text/plain": [
       "4"
      ]
     },
     "execution_count": 196,
     "metadata": {},
     "output_type": "execute_result"
    }
   ],
   "source": [
    "custom_count(test_arr, 1,5)"
   ]
  },
  {
   "cell_type": "code",
   "execution_count": 197,
   "metadata": {},
   "outputs": [],
   "source": [
    "tmp_array = [1,2,3,4,5]\n",
    "\n",
    "del tmp_array"
   ]
  },
  {
   "cell_type": "code",
   "execution_count": 198,
   "metadata": {},
   "outputs": [
    {
     "ename": "NameError",
     "evalue": "name 'tmp_array' is not defined",
     "output_type": "error",
     "traceback": [
      "\u001b[0;31m---------------------------------------------------------------------------\u001b[0m",
      "\u001b[0;31mNameError\u001b[0m                                 Traceback (most recent call last)",
      "\u001b[0;32m<ipython-input-198-aecd4b2a9d94>\u001b[0m in \u001b[0;36m<module>\u001b[0;34m()\u001b[0m\n\u001b[0;32m----> 1\u001b[0;31m \u001b[0mtmp_array\u001b[0m\u001b[0;34m\u001b[0m\u001b[0m\n\u001b[0m",
      "\u001b[0;31mNameError\u001b[0m: name 'tmp_array' is not defined"
     ]
    }
   ],
   "source": [
    "tmp_array"
   ]
  },
  {
   "cell_type": "code",
   "execution_count": 201,
   "metadata": {},
   "outputs": [
    {
     "data": {
      "text/plain": [
       "{1, 2, 4, 5, 6, 9, 10}"
      ]
     },
     "execution_count": 201,
     "metadata": {},
     "output_type": "execute_result"
    }
   ],
   "source": [
    "a_ = [1,2,2,4,5,6,6,6,6,9,10]\n",
    "s = set(a_)\n",
    "s"
   ]
  },
  {
   "cell_type": "code",
   "execution_count": 205,
   "metadata": {},
   "outputs": [],
   "source": [
    "outer_array = [1]\n",
    "inner_array = [2,3,4]\n",
    "\n",
    "outer_array.append(inner_array)\n",
    "outer_array\n",
    "inner_array.append(5)"
   ]
  },
  {
   "cell_type": "code",
   "execution_count": 206,
   "metadata": {},
   "outputs": [
    {
     "data": {
      "text/plain": [
       "[1, [2, 3, 4, 5]]"
      ]
     },
     "execution_count": 206,
     "metadata": {},
     "output_type": "execute_result"
    }
   ],
   "source": [
    "outer_array"
   ]
  },
  {
   "cell_type": "code",
   "execution_count": 211,
   "metadata": {},
   "outputs": [],
   "source": [
    "a = {4,7,0,6,5}\n",
    "b = {\"A\",\"a\",\"C\",\"D\", \"application\"}"
   ]
  },
  {
   "cell_type": "code",
   "execution_count": 219,
   "metadata": {},
   "outputs": [
    {
     "data": {
      "text/plain": [
       "['A', 'C', 'D', 'a', 'application']"
      ]
     },
     "execution_count": 219,
     "metadata": {},
     "output_type": "execute_result"
    }
   ],
   "source": [
    "sorted(b, reverse=False)"
   ]
  },
  {
   "cell_type": "code",
   "execution_count": 224,
   "metadata": {},
   "outputs": [
    {
     "name": "stdout",
     "output_type": "stream",
     "text": [
      "UNION :  {'Grapes', 'MANGO', 'Banana', 'Pomegranate', 'Orange', 'APPLE', 'Lemon'}\n",
      "Intersection :  {'MANGO'}\n",
      "Diff :  {'APPLE', 'Pomegranate', 'Orange'}\n",
      "Sym Diff :  {'Grapes', 'Banana', 'Pomegranate', 'Orange', 'APPLE', 'Lemon'}\n"
     ]
    }
   ],
   "source": [
    "my_fruits = {\"MANGO\", \"APPLE\", \"Pomegranate\",\"Orange\"}\n",
    "your_fruits = {\"MANGO\", \"Banana\", \"Grapes\", \"Lemon\"}\n",
    "\n",
    "print (\"UNION : \", my_fruits.union(your_fruits))\n",
    "\n",
    "print (\"Intersection : \", my_fruits.intersection(your_fruits))\n",
    "\n",
    "print (\"Diff : \", my_fruits.difference(your_fruits))\n",
    "\n",
    "print (\"Sym Diff : \", my_fruits.symmetric_difference(your_fruits))"
   ]
  },
  {
   "cell_type": "code",
   "execution_count": 225,
   "metadata": {},
   "outputs": [],
   "source": [
    "my_fruits.difference_update?"
   ]
  },
  {
   "cell_type": "code",
   "execution_count": 226,
   "metadata": {},
   "outputs": [],
   "source": [
    "tup = (1,1,1,1,1,5)"
   ]
  },
  {
   "cell_type": "code",
   "execution_count": 227,
   "metadata": {},
   "outputs": [
    {
     "data": {
      "text/plain": [
       "(1, 1, 1, 1, 1, 5)"
      ]
     },
     "execution_count": 227,
     "metadata": {},
     "output_type": "execute_result"
    }
   ],
   "source": [
    "tup"
   ]
  },
  {
   "cell_type": "code",
   "execution_count": 237,
   "metadata": {},
   "outputs": [],
   "source": [
    "def modifying(a):\n",
    "    if isinstance(a, list):\n",
    "        a.append(\"HI\")\n",
    "    else:\n",
    "        print(\"Not a list\")"
   ]
  },
  {
   "cell_type": "code",
   "execution_count": 238,
   "metadata": {},
   "outputs": [
    {
     "name": "stdout",
     "output_type": "stream",
     "text": [
      "Not a list\n"
     ]
    }
   ],
   "source": [
    "tup = (1,1,1,1,1,5)\n",
    "arr = [1,2,3,4,5,5,5]\n",
    "modifying(arr)\n",
    "modifying(tup)"
   ]
  },
  {
   "cell_type": "code",
   "execution_count": 147,
   "metadata": {},
   "outputs": [],
   "source": [
    "# Finding a mode inside an array:\n",
    "test_array1= [1,2,1,1,2,1,2,2,2,1,1,2,2] #aparently 1 is the mode [1,1,1,1,2,3,4,5,5,6,6,]\n",
    "\n",
    "def getMode(a):\n",
    "    sorted_array = sorted(test_array1)\n",
    "    mode_value = 0\n",
    "    previous_value = 0\n",
    "    count = 1\n",
    "    max_count = 1\n",
    "    print (sorted_array)\n",
    "    for i, a in enumerate(sorted_array):\n",
    "        if(i==0):\n",
    "                previous_value, mode_value = a,a\n",
    "                #print (previous_value, mode_value)\n",
    "        elif previous_value == a:\n",
    "                count+=1\n",
    "                if (i == len(sorted_array)-1) & (count > max_count):\n",
    "                    return a, count\n",
    "        elif count > max_count:\n",
    "                mode_value,previous_value,max_count,count = previous_value,a,count,1\n",
    "                #print(mode_value,previous_value,max_count,count)\n",
    "        else:\n",
    "                previous_value,count = a,1\n",
    "    return mode_value, max_count\n",
    "            \n",
    "    "
   ]
  },
  {
   "cell_type": "code",
   "execution_count": 148,
   "metadata": {},
   "outputs": [
    {
     "name": "stdout",
     "output_type": "stream",
     "text": [
      "[1, 1, 1, 1, 1, 1, 2, 2, 2, 2, 2, 2, 2]\n"
     ]
    },
    {
     "data": {
      "text/plain": [
       "(2, 7)"
      ]
     },
     "execution_count": 148,
     "metadata": {},
     "output_type": "execute_result"
    }
   ],
   "source": [
    "getMode(test_array1)"
   ]
  },
  {
   "cell_type": "code",
   "execution_count": 213,
   "metadata": {},
   "outputs": [],
   "source": [
    "simpleSum = lambda x,y : x+y\n",
    "simpleSum(1,2)\n",
    "mul = lambda x,y : x+y\n"
   ]
  },
  {
   "cell_type": "code",
   "execution_count": 244,
   "metadata": {},
   "outputs": [
    {
     "name": "stdout",
     "output_type": "stream",
     "text": [
      "[2, 4, 6, 8, 10]\n",
      "[1, 2, 3, 8, 10]\n"
     ]
    }
   ],
   "source": [
    "#Power of Lambda\n",
    "#Lambda way\n",
    "to_be_mapped_array = [1,2,3,4,5]\n",
    "print(list(map(lambda x : 2*x, to_be_mapped_array)))\n",
    "\n",
    "#List comprehension:\n",
    "print([2*x if x>3 else x for x in to_be_mapped_array])"
   ]
  },
  {
   "cell_type": "code",
   "execution_count": null,
   "metadata": {},
   "outputs": [],
   "source": []
  },
  {
   "cell_type": "code",
   "execution_count": 175,
   "metadata": {},
   "outputs": [
    {
     "name": "stdout",
     "output_type": "stream",
     "text": [
      "[2, 4, 6, 8, 10, 20, 30, 40]\n",
      "[2, 4, 6, 8, 10, 20, 30, 40]\n"
     ]
    }
   ],
   "source": [
    "#Lambda way\n",
    "to_be_filtered_array = [1,2,3,4,5,6,7,8,9,10,20,30,40]\n",
    "print(list(filter(lambda x: x%2 == 0 , to_be_filtered_array)))\n",
    "\n",
    "#List comprehension\n",
    "print([x for x in to_be_filtered_array if x%2==0])"
   ]
  },
  {
   "cell_type": "code",
   "execution_count": null,
   "metadata": {},
   "outputs": [],
   "source": [
    "#List comprehension\n"
   ]
  },
  {
   "cell_type": "code",
   "execution_count": 178,
   "metadata": {},
   "outputs": [
    {
     "name": "stdout",
     "output_type": "stream",
     "text": [
      "20 10\n",
      "10 20\n"
     ]
    }
   ],
   "source": [
    "#write a function that swaps the values of the global variables\n",
    "\n",
    "a = 10\n",
    "b = 20\n",
    "\n",
    "def swap():\n",
    "    # your logic here\n",
    "    global a, b\n",
    "    #temp = a\n",
    "    #a = b\n",
    "    #b= temp\n",
    "    a,b = b,a\n",
    "swap()    \n",
    "print(a,b) #20,10\n",
    "\n",
    "swap()\n",
    "print(a,b) # 10,20"
   ]
  },
  {
   "cell_type": "code",
   "execution_count": 193,
   "metadata": {},
   "outputs": [
    {
     "name": "stdout",
     "output_type": "stream",
     "text": [
      "1 One\n",
      "2 Two\n",
      "3 Three\n",
      "4 Four\n",
      "5 Five\n"
     ]
    },
    {
     "data": {
      "text/plain": [
       "[(1, 'One', 1, 'One', 1, 'One'),\n",
       " (2, 'Two', 2, 'Two', 2, 'Two'),\n",
       " (3, 'Three', 3, 'Three', 3, 'Three'),\n",
       " (4, 'Four', 4, 'Four', 4, 'Four'),\n",
       " (5, 'Five', 5, 'Five', 5, 'Five')]"
      ]
     },
     "execution_count": 193,
     "metadata": {},
     "output_type": "execute_result"
    }
   ],
   "source": [
    "a = [1,2,3,4,5]\n",
    "b = [\"One\", \"Two\", \"Three\", \"Four\",\"Five\"]\n",
    "\n",
    "def display(a,b):\n",
    "    for i in range(len(a)):\n",
    "        print(a[i],b[i])\n",
    "    \n",
    "def pythonicDisplay(a,b):\n",
    "    for i,j in zip(a,b):\n",
    "        print(i,j)\n",
    "#display(a,b)\n",
    "pythonicDisplay(a,b)\n",
    "\n",
    "#list(zip(a,b,a,b,a,b))\n"
   ]
  },
  {
   "cell_type": "code",
   "execution_count": 197,
   "metadata": {},
   "outputs": [
    {
     "name": "stdout",
     "output_type": "stream",
     "text": [
      "0 Mango\n",
      "1 Pine\n",
      "2 Apple\n",
      "3 Strayberry\n",
      "0 Mango\n",
      "1 Pine\n",
      "2 Apple\n",
      "3 Strayberry\n"
     ]
    }
   ],
   "source": [
    "fruits = [\"Mango\",\"Pine\",\"Apple\",\"Strayberry\"]\n",
    "def printwithIndex():\n",
    "    for i in range(len(fruits)):\n",
    "        print(i,fruits[i])\n",
    "\n",
    "printwithIndex()\n",
    "\n",
    "def printwithIndexP():\n",
    "    for i,j in enumerate(fruits):\n",
    "        print(i,j)\n",
    "\n",
    "printwithIndexP()\n",
    "# 0 Mango\n",
    "# 1 Pine\n",
    "# 2 Apple"
   ]
  },
  {
   "cell_type": "code",
   "execution_count": 210,
   "metadata": {},
   "outputs": [
    {
     "name": "stdout",
     "output_type": "stream",
     "text": [
      "Calculation Done, Result is here: 3\n",
      "Completed, go to home\n",
      "3\n"
     ]
    }
   ],
   "source": [
    "#Passing function as an argument to another function\n",
    "def printMe(x):\n",
    "        print(\"Calculation Done, Result is here:\",x)\n",
    "\n",
    "def add(a,b,x):\n",
    "    result = a+b\n",
    "    x(result)\n",
    "    \n",
    "def printDifferently(x):\n",
    "    print(\"Completed, go to home\")\n",
    "add(1,2,printMe)\n",
    "add(1,2,printDifferently)\n",
    "add(1,2,print)"
   ]
  },
  {
   "cell_type": "code",
   "execution_count": 203,
   "metadata": {},
   "outputs": [
    {
     "data": {
      "text/plain": [
       "6"
      ]
     },
     "execution_count": 203,
     "metadata": {},
     "output_type": "execute_result"
    }
   ],
   "source": [
    "def add(a,b):\n",
    "    return a+b\n",
    "\n",
    "def mul(a,b,x):\n",
    "    a =0\n",
    "    for i in range (b):\n",
    "        a+=x(a,b)\n",
    "    return a\n",
    "fun = add\n",
    "mul(4,2,fun)"
   ]
  },
  {
   "cell_type": "code",
   "execution_count": null,
   "metadata": {},
   "outputs": [],
   "source": [
    "def map(a,op,operand):\n",
    "    tempList = []\n",
    "    for i in a:\n",
    "        tempList.append(i)"
   ]
  },
  {
   "cell_type": "code",
   "execution_count": 251,
   "metadata": {},
   "outputs": [
    {
     "name": "stdout",
     "output_type": "stream",
     "text": [
      "1\n",
      "2\n",
      "3\n",
      "4\n",
      "5\n"
     ]
    },
    {
     "data": {
      "text/plain": [
       "[None, None, None, None, None]"
      ]
     },
     "execution_count": 251,
     "metadata": {},
     "output_type": "execute_result"
    }
   ],
   "source": [
    "#Power of Lambda\n",
    "#Lambda way\n",
    "to_be_mapped_array = [1,2,3,4,5]\n",
    "\n",
    "def add5(x):\n",
    "    return x+5\n",
    "def add6(x):\n",
    "    return x+6\n",
    "def add7(x):\n",
    "    return x+7\n",
    "\n",
    "list(map(add5, to_be_mapped_array))\n",
    "list(map(add7, to_be_mapped_array))\n",
    "\n",
    "map?\n",
    "list(map(lambda x:x+8, to_be_mapped_array))\n",
    "#print(list(map(lambda x : 2*x, to_be_mapped_array)))\n",
    "#List comprehension:\n",
    "#print([2*x for x in to_be_mapped_array])"
   ]
  },
  {
   "cell_type": "code",
   "execution_count": 237,
   "metadata": {},
   "outputs": [
    {
     "name": "stdout",
     "output_type": "stream",
     "text": [
      "[8, 10]\n"
     ]
    },
    {
     "data": {
      "text/plain": [
       "(1, 2, 3)"
      ]
     },
     "execution_count": 237,
     "metadata": {},
     "output_type": "execute_result"
    }
   ],
   "source": [
    "a = [1,2,3,4,5,6,7]\n",
    "print ([2*x for x in to_be_mapped_array ])\n",
    "#[]?\n",
    "\n",
    "1,2,3,"
   ]
  },
  {
   "cell_type": "code",
   "execution_count": 248,
   "metadata": {},
   "outputs": [
    {
     "data": {
      "text/plain": [
       "3.5"
      ]
     },
     "execution_count": 248,
     "metadata": {},
     "output_type": "execute_result"
    }
   ],
   "source": [
    "from functools import reduce\n",
    "a = [1,2,3,4,5,6]\n",
    "reduce(lambda x,y: x+y, a)"
   ]
  },
  {
   "cell_type": "code",
   "execution_count": 259,
   "metadata": {},
   "outputs": [
    {
     "name": "stdout",
     "output_type": "stream",
     "text": [
      "[1, 2, 3, 4]\n",
      "['One', 'Two', 'Three', 'Four']\n",
      "END\n"
     ]
    },
    {
     "data": {
      "text/plain": [
       "'Three'"
      ]
     },
     "execution_count": 259,
     "metadata": {},
     "output_type": "execute_result"
    }
   ],
   "source": [
    "Big_list = []\n",
    "small_list = [1,2,3,4]\n",
    "small_l = [\"One\",\"Two\",\"Three\",\"Four\"]\n",
    "Big_list.append(small_list)\n",
    "Big_list.append(small_l)\n",
    "Big_list.append(\"END\")\n",
    "\n",
    "for i in Big_list:\n",
    "    print (i)\n",
    "\n",
    "Big_list[1][2]"
   ]
  },
  {
   "cell_type": "code",
   "execution_count": 274,
   "metadata": {},
   "outputs": [],
   "source": [
    "def copy(a):\n",
    "    print(id(a))\n",
    "    return a[:]\n",
    "\n",
    "def testCopy():\n",
    "    inputs = [\"a\",\"b\"]\n",
    "    exp_outputs = [\"a\",\"b\"]\n",
    "    output = copy(inputs)\n",
    "    print(id(inputs), id(output))\n",
    "    #level 1 assertion\n",
    "    if output == exp_outputs:\n",
    "        print(\"Pass\")\n",
    "    else:\n",
    "        print(\"Fail\")\n",
    "        return\n",
    "    # level 2 assertion\n",
    "    \n",
    "    inputs.append(\"c\")\n",
    "    if output == exp_outputs:\n",
    "        print(\"Pass\")\n",
    "    else:\n",
    "        print(\"Fail\")\n",
    "        return"
   ]
  },
  {
   "cell_type": "code",
   "execution_count": 275,
   "metadata": {},
   "outputs": [
    {
     "name": "stdout",
     "output_type": "stream",
     "text": [
      "4565487112\n",
      "4565487112 4571080904\n",
      "Pass\n",
      "Pass\n"
     ]
    }
   ],
   "source": [
    "testCopy()"
   ]
  },
  {
   "cell_type": "code",
   "execution_count": null,
   "metadata": {},
   "outputs": [],
   "source": []
  }
 ],
 "metadata": {
  "anaconda-cloud": {},
  "kernelspec": {
   "display_name": "Python 3",
   "language": "python",
   "name": "python3"
  },
  "language_info": {
   "codemirror_mode": {
    "name": "ipython",
    "version": 3
   },
   "file_extension": ".py",
   "mimetype": "text/x-python",
   "name": "python",
   "nbconvert_exporter": "python",
   "pygments_lexer": "ipython3",
   "version": "3.6.4"
  }
 },
 "nbformat": 4,
 "nbformat_minor": 1
}
