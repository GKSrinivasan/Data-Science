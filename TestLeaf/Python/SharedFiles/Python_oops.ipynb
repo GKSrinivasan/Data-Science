{
 "cells": [
  {
   "cell_type": "code",
   "execution_count": 97,
   "metadata": {},
   "outputs": [],
   "source": [
    "class Message:\n",
    "    header = \"Welcome to OOPS : \"\n",
    "    def __init__(a,text):\n",
    "        print(\"Constructing\", text)\n",
    "        a.text = text\n",
    "        a.length = 0\n",
    "        a.deliveredTime = 0\n",
    "    def displayMessage(b):\n",
    "        text = \"HI\"\n",
    "        print(Message.header,b.text)\n",
    "        b.deliveredTime = 2\n",
    "    "
   ]
  },
  {
   "cell_type": "code",
   "execution_count": 98,
   "metadata": {},
   "outputs": [
    {
     "name": "stdout",
     "output_type": "stream",
     "text": [
      "Constructing Basheer\n",
      "Constructing Kumar\n",
      "Constructing Joseph\n"
     ]
    }
   ],
   "source": [
    "message1 = Message(\"Basheer\")\n",
    "message2 = Message(\"Kumar\")\n",
    "message3 = Message(\"Joseph\")"
   ]
  },
  {
   "cell_type": "code",
   "execution_count": 99,
   "metadata": {},
   "outputs": [
    {
     "name": "stdout",
     "output_type": "stream",
     "text": [
      "Welcome to OOPS :  Basheer\n",
      "Welcome to OOPS :  Kumar\n",
      "Welcome to OOPS :  Joseph\n"
     ]
    },
    {
     "data": {
      "text/plain": [
       "2"
      ]
     },
     "execution_count": 99,
     "metadata": {},
     "output_type": "execute_result"
    }
   ],
   "source": [
    "message1.displayMessage()\n",
    "message2.displayMessage()\n",
    "message3.displayMessage()\n",
    "message1.deliveredTime"
   ]
  },
  {
   "cell_type": "code",
   "execution_count": 41,
   "metadata": {},
   "outputs": [
    {
     "name": "stdout",
     "output_type": "stream",
     "text": [
      "Mannu is bird and 10 years old\n",
      "Tannu is bird and 15 years old\n"
     ]
    }
   ],
   "source": [
    "class Parrot:\n",
    "\n",
    "    # class attribute\n",
    "    species = \"bird\"\n",
    "\n",
    "    # instance attribute\n",
    "    def __init__(self, name, age):\n",
    "        self.name = name\n",
    "        self.age = age\n",
    "        \n",
    "    def aboutMe(self):\n",
    "        print(\"{} is {} and {} years old\".format(self.name,Parrot.species, self.age))\n",
    "\n",
    "# instantiate the Parrot class\n",
    "mannu = Parrot(\"Mannu\", 10)\n",
    "tannu = Parrot(\"Tannu\", 15)\n",
    "\n",
    "mannu.aboutMe()\n",
    "tannu.aboutMe()\n",
    "\n",
    "# access the class attributes\n",
    "#print(\"Mannu is a {}\".format(blu.__class__.species))\n",
    "#print(\"Tannu is also a {}\".format(woo.__class__.species))"
   ]
  },
  {
   "cell_type": "code",
   "execution_count": 54,
   "metadata": {},
   "outputs": [
    {
     "name": "stdout",
     "output_type": "stream",
     "text": [
      "New Mannu is bird and 10 years old\n",
      "Tannu is bird and 15 years old\n",
      "Kili is bird and 50 years old\n"
     ]
    }
   ],
   "source": [
    "parrotList = list()\n",
    "parrotList.append(mannu)\n",
    "parrotList.append(tannu)\n",
    "kili = Parrot(\"Kili\", 50)\n",
    "parrotList.append(kili)\n",
    "\n",
    "for i in parrotList:\n",
    "    i.aboutMe()"
   ]
  },
  {
   "cell_type": "code",
   "execution_count": 55,
   "metadata": {},
   "outputs": [
    {
     "name": "stdout",
     "output_type": "stream",
     "text": [
      "Tannu is bird and 15 years old\n",
      "New Mannu is bird and 10 years old\n",
      "Kili is bird and 50 years old\n"
     ]
    }
   ],
   "source": [
    "parrotSet = set()\n",
    "parrotSet.add(mannu)\n",
    "parrotSet.add(tannu)\n",
    "parrotSet.add(Parrot(\"Kili\", 50))\n",
    "\n",
    "for i in parrotSet:\n",
    "    i.aboutMe()"
   ]
  },
  {
   "cell_type": "code",
   "execution_count": 59,
   "metadata": {},
   "outputs": [],
   "source": [
    "mannu.name = \"New Mannu\"\n",
    "kili.name = \"New KILI\""
   ]
  },
  {
   "cell_type": "code",
   "execution_count": 60,
   "metadata": {},
   "outputs": [
    {
     "name": "stdout",
     "output_type": "stream",
     "text": [
      "New Mannu is bird and 10 years old\n",
      "Tannu is bird and 15 years old\n",
      "New KILI is bird and 50 years old\n"
     ]
    }
   ],
   "source": [
    "for i in parrotList:\n",
    "    i.aboutMe()"
   ]
  },
  {
   "cell_type": "code",
   "execution_count": 61,
   "metadata": {},
   "outputs": [
    {
     "name": "stdout",
     "output_type": "stream",
     "text": [
      "Tannu is bird and 15 years old\n",
      "New Mannu is bird and 10 years old\n",
      "Kili is bird and 50 years old\n"
     ]
    }
   ],
   "source": [
    "for i in parrotSet:\n",
    "    i.aboutMe()"
   ]
  },
  {
   "cell_type": "code",
   "execution_count": 100,
   "metadata": {},
   "outputs": [],
   "source": [
    "class Employee:\n",
    "    def __init__(self, age, name, id, salary):\n",
    "        self.name = name\n",
    "        self.id = id\n",
    "        self.salary = salary\n",
    "        self.age = age\n",
    "    def printMe(self):\n",
    "        print(self.name, self.salary)"
   ]
  },
  {
   "cell_type": "code",
   "execution_count": 101,
   "metadata": {},
   "outputs": [],
   "source": [
    "#creating 5 objects of employee\n",
    "emp1 = Employee(33,\"Basher\",1,20000)\n",
    "emp2 = Employee(33,\"Suresh\",2,30000)\n",
    "emp3 = Employee(33,\"Naresh\",3,40000)"
   ]
  },
  {
   "cell_type": "code",
   "execution_count": 103,
   "metadata": {},
   "outputs": [
    {
     "data": {
      "text/plain": [
       "[<__main__.Employee at 0x10e87dd68>,\n",
       " <__main__.Employee at 0x10e87dd30>,\n",
       " <__main__.Employee at 0x10e87def0>]"
      ]
     },
     "execution_count": 103,
     "metadata": {},
     "output_type": "execute_result"
    }
   ],
   "source": [
    "emplList = list()\n",
    "emplList.append(emp1)\n",
    "emplList.append(emp2)\n",
    "emplList.append(emp3)\n",
    "emplList"
   ]
  },
  {
   "cell_type": "code",
   "execution_count": 106,
   "metadata": {},
   "outputs": [],
   "source": [
    "def printList(ar):\n",
    "    [e.printMe() for e in ar]"
   ]
  },
  {
   "cell_type": "code",
   "execution_count": 107,
   "metadata": {},
   "outputs": [
    {
     "name": "stdout",
     "output_type": "stream",
     "text": [
      "Basher 20000\n",
      "Suresh 30000\n",
      "Naresh 40000\n"
     ]
    }
   ],
   "source": [
    "printList(emplList)"
   ]
  },
  {
   "cell_type": "code",
   "execution_count": null,
   "metadata": {},
   "outputs": [],
   "source": []
  }
 ],
 "metadata": {
  "kernelspec": {
   "display_name": "Python 3",
   "language": "python",
   "name": "python3"
  },
  "language_info": {
   "codemirror_mode": {
    "name": "ipython",
    "version": 3
   },
   "file_extension": ".py",
   "mimetype": "text/x-python",
   "name": "python",
   "nbconvert_exporter": "python",
   "pygments_lexer": "ipython3",
   "version": "3.6.4"
  }
 },
 "nbformat": 4,
 "nbformat_minor": 2
}
