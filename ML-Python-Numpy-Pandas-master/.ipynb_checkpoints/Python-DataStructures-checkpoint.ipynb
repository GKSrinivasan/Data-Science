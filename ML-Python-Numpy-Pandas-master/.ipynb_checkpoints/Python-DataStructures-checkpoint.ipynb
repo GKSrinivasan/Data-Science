{
 "cells": [
  {
   "cell_type": "code",
   "execution_count": 2,
   "metadata": {},
   "outputs": [
    {
     "name": "stdout",
     "output_type": "stream",
     "text": [
      "[1, 2, 2.1, 'Hello', (1+2j)]\n",
      "Hello\n",
      "a[2] is :  2.1\n",
      "a[2] is :  5.1\n",
      "My list is:  [1, 2, 5.1, 'Hello', (1+2j)]\n"
     ]
    }
   ],
   "source": [
    "#list\n",
    "#List are mutable, that is value of elements of list can be altered\n",
    "#The index starts from 0\n",
    "\n",
    "\n",
    "a = [1,2,2.1,\"Hello\",1+2j]\n",
    "print(a)\n",
    "\n",
    "print(a[3])\n",
    "\n",
    "print (\"a[2] is : \",a[2])\n",
    "a[2] = 5.1\n",
    "print (\"a[2] is : \",a[2])\n",
    "\n",
    "print (\"My list is: \",a)\n"
   ]
  },
  {
   "cell_type": "code",
   "execution_count": 5,
   "metadata": {
    "scrolled": true
   },
   "outputs": [
    {
     "name": "stdout",
     "output_type": "stream",
     "text": [
      "Tuple a:  (5, 'Hello', 23.2, (1+2j))\n",
      "a[2] :  23.2\n"
     ]
    },
    {
     "ename": "TypeError",
     "evalue": "'tuple' object does not support item assignment",
     "output_type": "error",
     "traceback": [
      "\u001b[1;31m---------------------------------------------------------------------------\u001b[0m",
      "\u001b[1;31mTypeError\u001b[0m                                 Traceback (most recent call last)",
      "\u001b[1;32m<ipython-input-5-e4c7611ac1c0>\u001b[0m in \u001b[0;36m<module>\u001b[1;34m()\u001b[0m\n\u001b[0;32m      9\u001b[0m \u001b[0mprint\u001b[0m \u001b[1;33m(\u001b[0m\u001b[1;34m\"a[2] : \"\u001b[0m\u001b[1;33m,\u001b[0m\u001b[0ma\u001b[0m\u001b[1;33m[\u001b[0m\u001b[1;36m2\u001b[0m\u001b[1;33m]\u001b[0m\u001b[1;33m)\u001b[0m\u001b[1;33m\u001b[0m\u001b[0m\n\u001b[0;32m     10\u001b[0m \u001b[1;33m\u001b[0m\u001b[0m\n\u001b[1;32m---> 11\u001b[1;33m \u001b[0ma\u001b[0m\u001b[1;33m[\u001b[0m\u001b[1;36m2\u001b[0m\u001b[1;33m]\u001b[0m \u001b[1;33m=\u001b[0m \u001b[1;36m3.3\u001b[0m\u001b[1;33m\u001b[0m\u001b[0m\n\u001b[0m\u001b[0;32m     12\u001b[0m \u001b[1;33m\u001b[0m\u001b[0m\n\u001b[0;32m     13\u001b[0m \u001b[1;31m#a[4] = 23\u001b[0m\u001b[1;33m\u001b[0m\u001b[1;33m\u001b[0m\u001b[0m\n",
      "\u001b[1;31mTypeError\u001b[0m: 'tuple' object does not support item assignment"
     ]
    }
   ],
   "source": [
    "#Tuples\n",
    "#Tuples are immutable, that is value of elements of tuples cannot be altered\n",
    "\n",
    "\n",
    "a = (5,\"Hello\", 23.2, 1+2j)\n",
    "\n",
    "print (\"Tuple a: \",a)\n",
    "\n",
    "print (\"a[2] : \",a[2])\n",
    "\n",
    "#a[2] = 3.3\n",
    "\n",
    "#a[4] = 23\n"
   ]
  },
  {
   "cell_type": "code",
   "execution_count": null,
   "metadata": {
    "collapsed": true
   },
   "outputs": [],
   "source": []
  }
 ],
 "metadata": {
  "kernelspec": {
   "display_name": "Python 3",
   "language": "python",
   "name": "python3"
  },
  "language_info": {
   "codemirror_mode": {
    "name": "ipython",
    "version": 3
   },
   "file_extension": ".py",
   "mimetype": "text/x-python",
   "name": "python",
   "nbconvert_exporter": "python",
   "pygments_lexer": "ipython3",
   "version": "3.6.3"
  }
 },
 "nbformat": 4,
 "nbformat_minor": 2
}
