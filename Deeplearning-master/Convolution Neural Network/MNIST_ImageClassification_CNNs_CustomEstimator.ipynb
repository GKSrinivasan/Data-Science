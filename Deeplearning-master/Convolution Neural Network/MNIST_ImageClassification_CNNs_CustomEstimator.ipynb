{
  "nbformat": 4,
  "nbformat_minor": 0,
  "metadata": {
    "colab": {
      "name": "MNIST_ImageClassification_CNNs_CustomEstimator.ipynb",
      "version": "0.3.2",
      "views": {},
      "default_view": {},
      "provenance": []
    },
    "kernelspec": {
      "display_name": "Python 2",
      "language": "python",
      "name": "python2"
    }
  },
  "cells": [
    {
      "metadata": {
        "id": "ypX6c900cTH6",
        "colab_type": "code",
        "colab": {
          "autoexec": {
            "startup": false,
            "wait_interval": 0
          }
        }
      },
      "cell_type": "code",
      "source": [
        "from __future__ import absolute_import\n",
        "from __future__ import division\n",
        "from __future__ import print_function"
      ],
      "execution_count": 0,
      "outputs": []
    },
    {
      "metadata": {
        "id": "YK-hFSx3cTIL",
        "colab_type": "code",
        "colab": {
          "autoexec": {
            "startup": false,
            "wait_interval": 0
          }
        }
      },
      "cell_type": "code",
      "source": [
        "import os\n",
        "import collections\n",
        "import itertools"
      ],
      "execution_count": 0,
      "outputs": []
    },
    {
      "metadata": {
        "id": "kSuXzi0TcTIR",
        "colab_type": "code",
        "colab": {
          "autoexec": {
            "startup": false,
            "wait_interval": 0
          }
        }
      },
      "cell_type": "code",
      "source": [
        "import numpy as np\n",
        "import pandas as pd\n",
        "import scipy as sp\n",
        "import tensorflow as tf\n",
        "\n",
        "from tensorflow.examples.tutorials.mnist import input_data"
      ],
      "execution_count": 0,
      "outputs": []
    },
    {
      "metadata": {
        "id": "n8yfdeakcTIV",
        "colab_type": "code",
        "colab": {
          "autoexec": {
            "startup": false,
            "wait_interval": 0
          }
        }
      },
      "cell_type": "code",
      "source": [
        "%matplotlib inline\n",
        "\n",
        "import matplotlib\n",
        "import matplotlib.pyplot as plt"
      ],
      "execution_count": 0,
      "outputs": []
    },
    {
      "metadata": {
        "id": "lw96ppgCcTIa",
        "colab_type": "code",
        "colab": {
          "autoexec": {
            "startup": false,
            "wait_interval": 0
          }
        }
      },
      "cell_type": "code",
      "source": [
        "from six.moves import urllib"
      ],
      "execution_count": 0,
      "outputs": []
    },
    {
      "metadata": {
        "id": "VGMrPBvLcTIe",
        "colab_type": "code",
        "colab": {
          "autoexec": {
            "startup": false,
            "wait_interval": 0
          },
          "base_uri": "https://localhost:8080/",
          "height": 85
        },
        "outputId": "73fd22d4-523a-4228-e45a-223500f71968",
        "executionInfo": {
          "status": "ok",
          "timestamp": 1524351742308,
          "user_tz": -330,
          "elapsed": 852,
          "user": {
            "displayName": "Mohamed Noordeen",
            "photoUrl": "https://lh3.googleusercontent.com/a/default-user=s128",
            "userId": "105498845634494432337"
          }
        }
      },
      "cell_type": "code",
      "source": [
        "print(np.__version__)\n",
        "print(pd.__version__)\n",
        "print(sp.__version__)\n",
        "print(tf.__version__)"
      ],
      "execution_count": 6,
      "outputs": [
        {
          "output_type": "stream",
          "text": [
            "1.14.2\n",
            "0.22.0\n",
            "0.19.1\n",
            "1.7.0\n"
          ],
          "name": "stdout"
        }
      ]
    },
    {
      "metadata": {
        "id": "ZqMaYDIEcTIo",
        "colab_type": "code",
        "colab": {
          "autoexec": {
            "startup": false,
            "wait_interval": 0
          },
          "base_uri": "https://localhost:8080/",
          "height": 479
        },
        "outputId": "c5851adf-e73e-4419-e873-465900918829",
        "executionInfo": {
          "status": "ok",
          "timestamp": 1524351747357,
          "user_tz": -330,
          "elapsed": 2506,
          "user": {
            "displayName": "Mohamed Noordeen",
            "photoUrl": "https://lh3.googleusercontent.com/a/default-user=s128",
            "userId": "105498845634494432337"
          }
        }
      },
      "cell_type": "code",
      "source": [
        "mnist = input_data.read_data_sets(\"mnist_data/\")"
      ],
      "execution_count": 7,
      "outputs": [
        {
          "output_type": "stream",
          "text": [
            "WARNING:tensorflow:From <ipython-input-7-d20c61476fee>:1: read_data_sets (from tensorflow.contrib.learn.python.learn.datasets.mnist) is deprecated and will be removed in a future version.\n",
            "Instructions for updating:\n",
            "Please use alternatives such as official/mnist/dataset.py from tensorflow/models.\n",
            "WARNING:tensorflow:From /usr/local/lib/python2.7/dist-packages/tensorflow/contrib/learn/python/learn/datasets/mnist.py:260: maybe_download (from tensorflow.contrib.learn.python.learn.datasets.base) is deprecated and will be removed in a future version.\n",
            "Instructions for updating:\n",
            "Please write your own downloading logic.\n",
            "WARNING:tensorflow:From /usr/local/lib/python2.7/dist-packages/tensorflow/contrib/learn/python/learn/datasets/base.py:252: wrapped_fn (from tensorflow.contrib.learn.python.learn.datasets.base) is deprecated and will be removed in a future version.\n",
            "Instructions for updating:\n",
            "Please use urllib or similar directly.\n",
            "Successfully downloaded train-images-idx3-ubyte.gz 9912422 bytes.\n",
            "WARNING:tensorflow:From /usr/local/lib/python2.7/dist-packages/tensorflow/contrib/learn/python/learn/datasets/mnist.py:262: extract_images (from tensorflow.contrib.learn.python.learn.datasets.mnist) is deprecated and will be removed in a future version.\n",
            "Instructions for updating:\n",
            "Please use tf.data to implement this functionality.\n",
            "Extracting mnist_data/train-images-idx3-ubyte.gz\n",
            "Successfully downloaded train-labels-idx1-ubyte.gz 28881 bytes.\n",
            "WARNING:tensorflow:From /usr/local/lib/python2.7/dist-packages/tensorflow/contrib/learn/python/learn/datasets/mnist.py:267: extract_labels (from tensorflow.contrib.learn.python.learn.datasets.mnist) is deprecated and will be removed in a future version.\n",
            "Instructions for updating:\n",
            "Please use tf.data to implement this functionality.\n",
            "Extracting mnist_data/train-labels-idx1-ubyte.gz\n",
            "Successfully downloaded t10k-images-idx3-ubyte.gz 1648877 bytes.\n",
            "Extracting mnist_data/t10k-images-idx3-ubyte.gz\n",
            "Successfully downloaded t10k-labels-idx1-ubyte.gz 4542 bytes.\n",
            "Extracting mnist_data/t10k-labels-idx1-ubyte.gz\n",
            "WARNING:tensorflow:From /usr/local/lib/python2.7/dist-packages/tensorflow/contrib/learn/python/learn/datasets/mnist.py:290: __init__ (from tensorflow.contrib.learn.python.learn.datasets.mnist) is deprecated and will be removed in a future version.\n",
            "Instructions for updating:\n",
            "Please use alternatives such as official/mnist/dataset.py from tensorflow/models.\n"
          ],
          "name": "stdout"
        }
      ]
    },
    {
      "metadata": {
        "id": "GVZRvWbXcTIt",
        "colab_type": "code",
        "colab": {
          "autoexec": {
            "startup": false,
            "wait_interval": 0
          }
        }
      },
      "cell_type": "code",
      "source": [
        "def display_digit(digit):\n",
        "    plt.imshow(digit.reshape(28, 28), cmap=\"Greys\", interpolation='nearest')"
      ],
      "execution_count": 0,
      "outputs": []
    },
    {
      "metadata": {
        "id": "GvJsUkRWcTIy",
        "colab_type": "code",
        "colab": {
          "autoexec": {
            "startup": false,
            "wait_interval": 0
          },
          "base_uri": "https://localhost:8080/",
          "height": 265
        },
        "outputId": "2a5097a5-6a42-450f-ff8e-6480950f744b",
        "executionInfo": {
          "status": "ok",
          "timestamp": 1524351756878,
          "user_tz": -330,
          "elapsed": 922,
          "user": {
            "displayName": "Mohamed Noordeen",
            "photoUrl": "https://lh3.googleusercontent.com/a/default-user=s128",
            "userId": "105498845634494432337"
          }
        }
      },
      "cell_type": "code",
      "source": [
        "display_digit(mnist.train.images[10])"
      ],
      "execution_count": 9,
      "outputs": [
        {
          "output_type": "display_data",
          "data": {
            "image/png": "[encoded data removed]",
            "text/plain": [
              "<matplotlib.figure.Figure at 0x7f29d27295d0>"
            ]
          },
          "metadata": {
            "tags": []
          }
        }
      ]
    },
    {
      "metadata": {
        "id": "PfhqFUljcTI4",
        "colab_type": "code",
        "colab": {
          "autoexec": {
            "startup": false,
            "wait_interval": 0
          }
        }
      },
      "cell_type": "code",
      "source": [
        "height = 28\n",
        "width = 28\n",
        "channels = 1\n",
        "n_inputs = height * width\n",
        "\n",
        "conv1_feature_maps = 32\n",
        "conv1_kernel_size = 3\n",
        "conv1_stride = 1\n",
        "conv1_pad = \"SAME\"\n",
        "\n",
        "conv2_feature_maps = 64\n",
        "conv2_kernel_size = 3\n",
        "conv2_stride = 2\n",
        "conv2_pad = \"SAME\"\n",
        "\n",
        "pool3_feature_maps = conv2_feature_maps\n",
        "\n",
        "n_fullyconn1 = 64\n",
        "n_outputs = 10"
      ],
      "execution_count": 0,
      "outputs": []
    },
    {
      "metadata": {
        "id": "LXhoqLnRcTI8",
        "colab_type": "code",
        "colab": {
          "autoexec": {
            "startup": false,
            "wait_interval": 0
          }
        }
      },
      "cell_type": "code",
      "source": [
        "def build_cnn(features):\n",
        "\n",
        "    X = tf.reshape(features['images'], shape=[-1, height, width, channels])\n",
        "\n",
        "    conv1 = tf.layers.conv2d(X, filters=conv1_feature_maps,\n",
        "                             kernel_size=conv1_kernel_size,\n",
        "                             strides=conv1_stride, padding=conv1_pad,\n",
        "                             activation=tf.nn.relu)\n",
        "    \n",
        "    conv2 = tf.layers.conv2d(conv1, filters=conv2_feature_maps, \n",
        "                             kernel_size=conv2_kernel_size,\n",
        "                             strides=conv2_stride, padding=conv2_pad,\n",
        "                             activation=tf.nn.relu)\n",
        "    \n",
        "    pool3 = tf.nn.max_pool(conv2,\n",
        "                           ksize=[1, 2, 2, 1],\n",
        "                           strides=[1, 2, 2, 1],\n",
        "                           padding=\"VALID\")\n",
        "    \n",
        "    \n",
        "    pool3_flat = tf.reshape(pool3, shape=[-1, pool3_feature_maps * 7 * 7])\n",
        "    \n",
        "    fullyconn1 = tf.layers.dense(pool3_flat, n_fullyconn1,\n",
        "                                 activation=tf.nn.relu)\n",
        "    \n",
        "    logits = tf.layers.dense(fullyconn1, n_outputs)\n",
        "    \n",
        "    return logits    "
      ],
      "execution_count": 0,
      "outputs": []
    },
    {
      "metadata": {
        "id": "6KeWym5acTJA",
        "colab_type": "code",
        "colab": {
          "autoexec": {
            "startup": false,
            "wait_interval": 0
          }
        }
      },
      "cell_type": "code",
      "source": [
        "def cnn_model_fn(features, labels, mode):\n",
        "    \n",
        "    logits = build_cnn(features)\n",
        "    \n",
        "    predicted_classes = tf.argmax(logits, axis=1)\n",
        "    \n",
        "    # Prediction mode    \n",
        "    if mode == tf.estimator.ModeKeys.PREDICT:\n",
        "        return tf.estimator.EstimatorSpec(mode, predictions=predicted_classes)\n",
        "    \n",
        "    loss = tf.reduce_mean(tf.nn.sparse_softmax_cross_entropy_with_logits(\n",
        "        logits=logits, labels=tf.cast(labels, dtype=tf.int32)))\n",
        "    \n",
        "    optimizer = tf.train.AdamOptimizer(learning_rate=learning_rate)\n",
        "    train_op = optimizer.minimize(loss, global_step=tf.train.get_global_step())\n",
        "    \n",
        "    # Training mode    \n",
        "    if mode == tf.estimator.ModeKeys.TRAIN:\n",
        "        return tf.estimator.EstimatorSpec(mode, loss=loss, train_op=train_op)\n",
        "    \n",
        "    # Evaluation mode    \n",
        "    accuracy = tf.metrics.accuracy(labels=labels, predictions=predicted_classes)\n",
        "    \n",
        "    return tf.estimator.EstimatorSpec(\n",
        "        mode=mode,\n",
        "        predictions=predicted_classes,\n",
        "        train_op=train_op,\n",
        "        loss=loss,\n",
        "        eval_metric_ops={'accuracy': accuracy})"
      ],
      "execution_count": 0,
      "outputs": []
    },
    {
      "metadata": {
        "id": "14Kk7YxkcTJH",
        "colab_type": "code",
        "colab": {
          "autoexec": {
            "startup": false,
            "wait_interval": 0
          }
        }
      },
      "cell_type": "code",
      "source": [
        "num_steps = 2000\n",
        "batch_size = 100"
      ],
      "execution_count": 0,
      "outputs": []
    },
    {
      "metadata": {
        "id": "jOQ6IPZAcTJO",
        "colab_type": "code",
        "colab": {
          "autoexec": {
            "startup": false,
            "wait_interval": 0
          },
          "base_uri": "https://localhost:8080/",
          "height": 88
        },
        "outputId": "f0b9def0-a5ee-40be-83c6-ed80caa8b684",
        "executionInfo": {
          "status": "ok",
          "timestamp": 1524351774779,
          "user_tz": -330,
          "elapsed": 865,
          "user": {
            "displayName": "Mohamed Noordeen",
            "photoUrl": "https://lh3.googleusercontent.com/a/default-user=s128",
            "userId": "105498845634494432337"
          }
        }
      },
      "cell_type": "code",
      "source": [
        "model = tf.estimator.Estimator(cnn_model_fn)"
      ],
      "execution_count": 14,
      "outputs": [
        {
          "output_type": "stream",
          "text": [
            "INFO:tensorflow:Using default config.\n",
            "WARNING:tensorflow:Using temporary folder as model directory: /tmp/tmpjnijSa\n",
            "INFO:tensorflow:Using config: {'_save_checkpoints_secs': 600, '_session_config': None, '_keep_checkpoint_max': 5, '_task_type': 'worker', '_global_id_in_cluster': 0, '_is_chief': True, '_cluster_spec': <tensorflow.python.training.server_lib.ClusterSpec object at 0x7f29c7d0cd50>, '_evaluation_master': '', '_save_checkpoints_steps': None, '_keep_checkpoint_every_n_hours': 10000, '_service': None, '_num_ps_replicas': 0, '_tf_random_seed': None, '_master': '', '_num_worker_replicas': 1, '_task_id': 0, '_log_step_count_steps': 100, '_model_dir': '/tmp/tmpjnijSa', '_save_summary_steps': 100}\n"
          ],
          "name": "stdout"
        }
      ]
    },
    {
      "metadata": {
        "id": "zVJv3d0ncTJV",
        "colab_type": "code",
        "colab": {
          "autoexec": {
            "startup": false,
            "wait_interval": 0
          }
        }
      },
      "cell_type": "code",
      "source": [
        "input_fn = tf.estimator.inputs.numpy_input_fn(\n",
        "    x={'images': mnist.train.images}, y=mnist.train.labels,\n",
        "    batch_size=batch_size, num_epochs=None, shuffle=True)"
      ],
      "execution_count": 0,
      "outputs": []
    },
    {
      "metadata": {
        "id": "MNQaN50RcTJb",
        "colab_type": "code",
        "colab": {
          "autoexec": {
            "startup": false,
            "wait_interval": 0
          },
          "base_uri": "https://localhost:8080/",
          "height": 867
        },
        "outputId": "d4e86cac-1573-4098-e281-163a184c7aa7",
        "executionInfo": {
          "status": "ok",
          "timestamp": 1524352574730,
          "user_tz": -330,
          "elapsed": 213451,
          "user": {
            "displayName": "Mohamed Noordeen",
            "photoUrl": "https://lh3.googleusercontent.com/a/default-user=s128",
            "userId": "105498845634494432337"
          }
        }
      },
      "cell_type": "code",
      "source": [
        "global learning_rate \n",
        "learning_rate = 0.001\n",
        "model.train(input_fn, steps=num_steps)"
      ],
      "execution_count": 22,
      "outputs": [
        {
          "output_type": "stream",
          "text": [
            "INFO:tensorflow:Calling model_fn.\n",
            "INFO:tensorflow:Done calling model_fn.\n",
            "INFO:tensorflow:Create CheckpointSaverHook.\n",
            "INFO:tensorflow:Graph was finalized.\n",
            "INFO:tensorflow:Restoring parameters from /tmp/tmpjnijSa/model.ckpt-2000\n",
            "INFO:tensorflow:Running local_init_op.\n",
            "INFO:tensorflow:Done running local_init_op.\n",
            "INFO:tensorflow:Saving checkpoints for 2001 into /tmp/tmpjnijSa/model.ckpt.\n",
            "INFO:tensorflow:loss = 0.051753476, step = 2001\n",
            "INFO:tensorflow:global_step/sec: 9.91883\n",
            "INFO:tensorflow:loss = 0.0067718704, step = 2101 (10.087 sec)\n",
            "INFO:tensorflow:global_step/sec: 9.62771\n",
            "INFO:tensorflow:loss = 0.020650892, step = 2201 (10.387 sec)\n",
            "INFO:tensorflow:global_step/sec: 9.62245\n",
            "INFO:tensorflow:loss = 0.031047106, step = 2301 (10.392 sec)\n",
            "INFO:tensorflow:global_step/sec: 9.57574\n",
            "INFO:tensorflow:loss = 0.035663925, step = 2401 (10.443 sec)\n",
            "INFO:tensorflow:global_step/sec: 9.62479\n",
            "INFO:tensorflow:loss = 0.015709614, step = 2501 (10.387 sec)\n",
            "INFO:tensorflow:global_step/sec: 8.72796\n",
            "INFO:tensorflow:loss = 0.03927108, step = 2601 (11.461 sec)\n",
            "INFO:tensorflow:global_step/sec: 9.06465\n",
            "INFO:tensorflow:loss = 0.027679084, step = 2701 (11.034 sec)\n",
            "INFO:tensorflow:global_step/sec: 9.68047\n",
            "INFO:tensorflow:loss = 0.042785373, step = 2801 (10.325 sec)\n",
            "INFO:tensorflow:global_step/sec: 9.54992\n",
            "INFO:tensorflow:loss = 0.004447464, step = 2901 (10.472 sec)\n",
            "INFO:tensorflow:global_step/sec: 9.45139\n",
            "INFO:tensorflow:loss = 0.012171107, step = 3001 (10.585 sec)\n",
            "INFO:tensorflow:global_step/sec: 9.63799\n",
            "INFO:tensorflow:loss = 0.0077783223, step = 3101 (10.372 sec)\n",
            "INFO:tensorflow:global_step/sec: 9.52718\n",
            "INFO:tensorflow:loss = 0.021084504, step = 3201 (10.496 sec)\n",
            "INFO:tensorflow:global_step/sec: 9.67701\n",
            "INFO:tensorflow:loss = 0.0072926306, step = 3301 (10.332 sec)\n",
            "INFO:tensorflow:global_step/sec: 8.78007\n",
            "INFO:tensorflow:loss = 0.0005129954, step = 3401 (11.390 sec)\n",
            "INFO:tensorflow:global_step/sec: 9.59947\n",
            "INFO:tensorflow:loss = 0.04100357, step = 3501 (10.418 sec)\n",
            "INFO:tensorflow:global_step/sec: 9.67429\n",
            "INFO:tensorflow:loss = 0.010026903, step = 3601 (10.339 sec)\n",
            "INFO:tensorflow:global_step/sec: 9.31657\n",
            "INFO:tensorflow:loss = 0.0020523798, step = 3701 (10.731 sec)\n",
            "INFO:tensorflow:global_step/sec: 9.54612\n",
            "INFO:tensorflow:loss = 0.0037870107, step = 3801 (10.476 sec)\n",
            "INFO:tensorflow:global_step/sec: 9.61362\n",
            "INFO:tensorflow:loss = 0.00021074039, step = 3901 (10.402 sec)\n",
            "INFO:tensorflow:Saving checkpoints for 4000 into /tmp/tmpjnijSa/model.ckpt.\n",
            "INFO:tensorflow:Loss for final step: 0.008523515.\n"
          ],
          "name": "stdout"
        },
        {
          "output_type": "execute_result",
          "data": {
            "text/plain": [
              "<tensorflow.python.estimator.estimator.Estimator at 0x7f29c7d19a90>"
            ]
          },
          "metadata": {
            "tags": []
          },
          "execution_count": 22
        }
      ]
    },
    {
      "metadata": {
        "id": "FGqvjQh4cTJh",
        "colab_type": "code",
        "colab": {
          "autoexec": {
            "startup": false,
            "wait_interval": 0
          }
        }
      },
      "cell_type": "code",
      "source": [
        "input_fn = tf.estimator.inputs.numpy_input_fn(\n",
        "    x={'images': mnist.test.images}, y=mnist.test.labels,\n",
        "    batch_size=batch_size, shuffle=False)\n"
      ],
      "execution_count": 0,
      "outputs": []
    },
    {
      "metadata": {
        "id": "NQQIZfI-cTJm",
        "colab_type": "code",
        "colab": {
          "autoexec": {
            "startup": false,
            "wait_interval": 0
          },
          "base_uri": "https://localhost:8080/",
          "height": 170
        },
        "outputId": "952ec8cd-680d-4ab5-b697-8a463e748b4b",
        "executionInfo": {
          "status": "ok",
          "timestamp": 1524352786347,
          "user_tz": -330,
          "elapsed": 11668,
          "user": {
            "displayName": "Mohamed Noordeen",
            "photoUrl": "https://lh3.googleusercontent.com/a/default-user=s128",
            "userId": "105498845634494432337"
          }
        }
      },
      "cell_type": "code",
      "source": [
        "e = model.evaluate(input_fn)"
      ],
      "execution_count": 24,
      "outputs": [
        {
          "output_type": "stream",
          "text": [
            "INFO:tensorflow:Calling model_fn.\n",
            "INFO:tensorflow:Done calling model_fn.\n",
            "INFO:tensorflow:Starting evaluation at 2018-04-21-23:19:40\n",
            "INFO:tensorflow:Graph was finalized.\n",
            "INFO:tensorflow:Restoring parameters from /tmp/tmpjnijSa/model.ckpt-4000\n",
            "INFO:tensorflow:Running local_init_op.\n",
            "INFO:tensorflow:Done running local_init_op.\n",
            "INFO:tensorflow:Finished evaluation at 2018-04-21-23:19:45\n",
            "INFO:tensorflow:Saving dict for global step 4000: accuracy = 0.9873, global_step = 4000, loss = 0.04307136\n"
          ],
          "name": "stdout"
        }
      ]
    },
    {
      "metadata": {
        "id": "zsGKXbOIcTJr",
        "colab_type": "code",
        "colab": {
          "autoexec": {
            "startup": false,
            "wait_interval": 0
          },
          "base_uri": "https://localhost:8080/",
          "height": 34
        },
        "outputId": "9a10183a-01e6-4b71-9254-57db27a908c2",
        "executionInfo": {
          "status": "ok",
          "timestamp": 1524352815946,
          "user_tz": -330,
          "elapsed": 1094,
          "user": {
            "displayName": "Mohamed Noordeen",
            "photoUrl": "https://lh3.googleusercontent.com/a/default-user=s128",
            "userId": "105498845634494432337"
          }
        }
      },
      "cell_type": "code",
      "source": [
        "print(\"Testing Accuracy:\", e['accuracy'])"
      ],
      "execution_count": 25,
      "outputs": [
        {
          "output_type": "stream",
          "text": [
            "Testing Accuracy: 0.9873\n"
          ],
          "name": "stdout"
        }
      ]
    },
    {
      "metadata": {
        "id": "ibFOrnwwcTJv",
        "colab_type": "code",
        "colab": {
          "autoexec": {
            "startup": false,
            "wait_interval": 0
          }
        }
      },
      "cell_type": "code",
      "source": [
        ""
      ],
      "execution_count": 0,
      "outputs": []
    },
    {
      "metadata": {
        "id": "l2CCGggpcTJy",
        "colab_type": "code",
        "colab": {
          "autoexec": {
            "startup": false,
            "wait_interval": 0
          }
        }
      },
      "cell_type": "code",
      "source": [
        ""
      ],
      "execution_count": 0,
      "outputs": []
    },
    {
      "metadata": {
        "id": "VCea1RgIcTJ1",
        "colab_type": "code",
        "colab": {
          "autoexec": {
            "startup": false,
            "wait_interval": 0
          }
        }
      },
      "cell_type": "code",
      "source": [
        ""
      ],
      "execution_count": 0,
      "outputs": []
    },
    {
      "metadata": {
        "id": "645Pl5wTcTJ4",
        "colab_type": "code",
        "colab": {
          "autoexec": {
            "startup": false,
            "wait_interval": 0
          }
        }
      },
      "cell_type": "code",
      "source": [
        ""
      ],
      "execution_count": 0,
      "outputs": []
    },
    {
      "metadata": {
        "id": "3hFoIuyZcTJ7",
        "colab_type": "code",
        "colab": {
          "autoexec": {
            "startup": false,
            "wait_interval": 0
          }
        }
      },
      "cell_type": "code",
      "source": [
        ""
      ],
      "execution_count": 0,
      "outputs": []
    },
    {
      "metadata": {
        "id": "Uavqa5_ncTJ-",
        "colab_type": "code",
        "colab": {
          "autoexec": {
            "startup": false,
            "wait_interval": 0
          }
        }
      },
      "cell_type": "code",
      "source": [
        ""
      ],
      "execution_count": 0,
      "outputs": []
    },
    {
      "metadata": {
        "id": "_JrNdxUAcTKB",
        "colab_type": "code",
        "colab": {
          "autoexec": {
            "startup": false,
            "wait_interval": 0
          }
        }
      },
      "cell_type": "code",
      "source": [
        ""
      ],
      "execution_count": 0,
      "outputs": []
    },
    {
      "metadata": {
        "id": "zgtN_9TFcTKG",
        "colab_type": "code",
        "colab": {
          "autoexec": {
            "startup": false,
            "wait_interval": 0
          }
        }
      },
      "cell_type": "code",
      "source": [
        ""
      ],
      "execution_count": 0,
      "outputs": []
    },
    {
      "metadata": {
        "id": "gtbKXYotcTKM",
        "colab_type": "code",
        "colab": {
          "autoexec": {
            "startup": false,
            "wait_interval": 0
          }
        }
      },
      "cell_type": "code",
      "source": [
        ""
      ],
      "execution_count": 0,
      "outputs": []
    },
    {
      "metadata": {
        "id": "D0yyVVrocTKP",
        "colab_type": "code",
        "colab": {
          "autoexec": {
            "startup": false,
            "wait_interval": 0
          }
        }
      },
      "cell_type": "code",
      "source": [
        ""
      ],
      "execution_count": 0,
      "outputs": []
    }
  ]
}